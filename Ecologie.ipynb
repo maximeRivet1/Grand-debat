{
 "cells": [
  {
   "cell_type": "code",
   "execution_count": 1,
   "metadata": {
    "collapsed": true
   },
   "outputs": [],
   "source": [
    "import os, sys\n",
    "import unidecode\n",
    "import re\n",
    "import json\n",
    "import gc\n",
    "\n",
    "import pandas as pd\n",
    "import numpy as np\n",
    "import matplotlib.pyplot as plt"
   ]
  },
  {
   "cell_type": "markdown",
   "metadata": {},
   "source": [
    "Ce notebook analyse les réponses aux questions en cherchant des liens entre les mots les plus utilisés, dans le but de comprendre les demandes les plus récurrentes des francais.\n",
    "\n",
    "Dans un premier temps, les réponses sont préprocessées et transformées en liste de mots-clés. Puis, pour chaque réponse, úne analyse basique de la proximité des mots est réalisée. Bien que simple, cette methode permet de faire apparaitre des thèmes récurrents et de comprendre la teneur générale de ces demandes.\n",
    "\n",
    "Les trois métriques utilisées sont :\n",
    "+ co-occurence des mots : $co-occurence(i, j) = \\sum_{users} 1_{i \\in user} 1_{j \\in user}$\n",
    "+ confiance : $confiance(i -> j) = P(j | i)$\n",
    "+ lift : $lift(i, j) = \\frac{P(i \\cap j)}{P(i)P(j)}$\n",
    "\n",
    "La co-occurence permet d'évaluer les mots présents de manière commune, et donne une première idée des thèmes généraux.\n",
    "\n",
    "La confiance donne une idée de la présence de $j$ quand $i$ est déjà présent : il surpondère les mots peu présents par rapport à la co-occurence.\n",
    "\n",
    "Le lift estime le surplus de présence commune de $i$ et $j$ par rapport au cas où $i$ et $j$ sont indépendants. Cela permet de trouver des relations de causalité plus intéressantes, notamment dans des cas où certains mots sont peu présents mais très liés.\n",
    "\n",
    "Pour chaque question :\n",
    "+ On récupère les mots les plus employés sur ce thème\n",
    "+ Pour chacun de ces mots, on regarde pour chaque métrique les mots les plus liés, ce qui donne une bonne idée des liens et des demandes\n",
    "\n",
    "On peut ensuite raffiner l'analyse sur des mots moins présents mais porteurs de sens."
   ]
  },
  {
   "cell_type": "code",
   "execution_count": 2,
   "metadata": {
    "collapsed": true
   },
   "outputs": [],
   "source": [
    "# function definitions\n",
    "\n",
    "def compute_similarities(question_name, df_res):\n",
    "    qu = df_res[question_name].dropna()\n",
    "    df_qu_one_hot = compute_one_hot(qu)\n",
    "    df_cov = compute_covariance(df_qu_one_hot)\n",
    "    df_confidence = compute_confidence(df_cov)\n",
    "    df_lift = compute_lift(df_cov, df_qu_one_hot)\n",
    "    \n",
    "    return qu, df_qu_one_hot, df_cov, df_confidence, df_lift\n",
    "    \n",
    "def compute_one_hot(qu):\n",
    "    qu_words = []\n",
    "    for i in qu:\n",
    "        qu_words.extend(i)\n",
    "    qu_words = list(set(qu_words))\n",
    "    dic_qu_words = {word:i for i, word in enumerate(qu_words)}\n",
    "    dic_qu_words_inverse = {i:word for i, word in enumerate(qu_words)}\n",
    "    \n",
    "    qu_one_hot = np.zeros((len(qu), len(qu_words)), dtype=bool)\n",
    "    for i, li_word in enumerate(qu):\n",
    "        for word in li_word:\n",
    "            qu_one_hot[i, dic_qu_words[word]] = True\n",
    "            \n",
    "    df_qu_one_hot = pd.DataFrame(columns=qu_words, data=qu_one_hot).to_sparse(fill_value=False)\n",
    "\n",
    "    \n",
    "    temp_mask = np.sum(df_qu_one_hot.values, axis=0, dtype=np.uint16) > 250\n",
    "    words_enough = df_qu_one_hot.columns.values[temp_mask]\n",
    "    df_qu_one_hot = df_qu_one_hot[words_enough].to_sparse(fill_value=0)\n",
    "    \n",
    "    del temp_mask\n",
    "    del qu_one_hot\n",
    "    gc.collect()\n",
    "    \n",
    "    return df_qu_one_hot\n",
    "\n",
    "def compute_covariance(df_qu_one_hot):\n",
    "    N = df_qu_one_hot.shape[1]\n",
    "    \n",
    "    cov = np.zeros((N, N), dtype=np.uint16)\n",
    "    np.matmul(df_qu_one_hot.values.T, df_qu_one_hot.values, out=cov)\n",
    "    \n",
    "    df_cov = pd.DataFrame(columns=df_qu_one_hot.columns, index=df_qu_one_hot.columns, data=cov) * (cov > 100)\n",
    "    del cov\n",
    "    gc.collect()\n",
    "    \n",
    "    return df_cov\n",
    "\n",
    "def compute_confidence(df_cov):\n",
    "    df_confidence = np.diag(1 / np.diag(df_cov)).dot(df_cov).astype(np.float32)\n",
    "    df_confidence = pd.DataFrame(index=df_cov.index, columns=df_cov.index, data=df_confidence)\n",
    "    return df_confidence\n",
    "\n",
    "def compute_lift(df_cov, df_qu_one_hot):\n",
    "    inv_diag_cov = 1 / np.diag(df_cov.values)\n",
    "    lift = inv_diag_cov.reshape((-1, 1)) * df_cov.values * inv_diag_cov.reshape((1, -1))\n",
    "    df_lift = pd.DataFrame(columns=df_qu_one_hot.columns,\n",
    "                             index=df_qu_one_hot.columns,\n",
    "                             data=lift).replace(0.0, np.nan).astype(np.float32)\n",
    "    del lift\n",
    "    del inv_diag_cov\n",
    "    gc.collect()\n",
    "    \n",
    "    return df_lift"
   ]
  },
  {
   "cell_type": "markdown",
   "metadata": {},
   "source": [
    "# Loading of files and preprocessing"
   ]
  },
  {
   "cell_type": "code",
   "execution_count": 3,
   "metadata": {
    "collapsed": true
   },
   "outputs": [],
   "source": [
    "PATH_TO_FILE = \"./proposals_cleaned/ecologie.json\""
   ]
  },
  {
   "cell_type": "code",
   "execution_count": 4,
   "metadata": {
    "collapsed": true
   },
   "outputs": [],
   "source": [
    "with open(PATH_TO_FILE, \"r\") as f:\n",
    "    raw_json = [s.strip() for s in f.readlines()]\n",
    "    \n",
    "parsed_json = [json.loads(raw_json[i]) for i in range(len(raw_json))]\n",
    "del raw_json"
   ]
  },
  {
   "cell_type": "code",
   "execution_count": 5,
   "metadata": {
    "collapsed": true
   },
   "outputs": [],
   "source": [
    "col = [\"titre\"]\n",
    "for ques in parsed_json[0][\"responses\"]:\n",
    "    col.append(ques[\"question\"][\"id\"]) \n",
    "        \n",
    "data = []\n",
    "for elt in parsed_json:\n",
    "    resp = {\"titre\" : elt[\"titre\"]}\n",
    "    for ques in elt[\"responses\"]:\n",
    "        try:\n",
    "            text = json.loads((ques[\"value\"]))\n",
    "            resp[ques[\"question\"][\"title\"]] = ''\n",
    "            if text[\"labels\"] != []:\n",
    "                resp[ques[\"question\"][\"title\"]] += \", \".join(text[\"labels\"])\n",
    "            if text[\"other\"] is not None:\n",
    "                resp[ques[\"question\"][\"title\"]] += \", \" + text[\"other\"]\n",
    "            if resp[ques[\"question\"][\"title\"]] == '':\n",
    "                resp[ques[\"question\"][\"title\"]] = np.nan\n",
    "        except:\n",
    "            if ques[\"value\"] is not None and ques[\"value\"][0] != \"{\":\n",
    "                resp[ques[\"question\"][\"title\"]] = ques[\"value\"]\n",
    "            else:\n",
    "                resp[ques[\"question\"][\"title\"]] = np.nan\n",
    "    data.append(resp)"
   ]
  },
  {
   "cell_type": "code",
   "execution_count": 6,
   "metadata": {},
   "outputs": [
    {
     "data": {
      "text/plain": [
       "0"
      ]
     },
     "execution_count": 6,
     "metadata": {},
     "output_type": "execute_result"
    }
   ],
   "source": [
    "res = pd.DataFrame.from_dict(data)\n",
    "del data\n",
    "gc.collect()"
   ]
  },
  {
   "cell_type": "code",
   "execution_count": 7,
   "metadata": {},
   "outputs": [
    {
     "data": {
      "text/plain": [
       "(52430, 17)"
      ]
     },
     "execution_count": 7,
     "metadata": {},
     "output_type": "execute_result"
    }
   ],
   "source": [
    "res.shape"
   ]
  },
  {
   "cell_type": "code",
   "execution_count": 8,
   "metadata": {},
   "outputs": [
    {
     "data": {
      "text/plain": [
       "47728.02517"
      ]
     },
     "execution_count": 8,
     "metadata": {},
     "output_type": "execute_result"
    }
   ],
   "source": [
    "0.910319 * 52430"
   ]
  },
  {
   "cell_type": "code",
   "execution_count": 9,
   "metadata": {},
   "outputs": [
    {
     "data": {
      "text/plain": [
       "titre                                                                                                                                                                                                                                                  1.000000\n",
       "Quel est aujourd'hui pour vous le problème concret le plus important dans le domaine de l'environnement ?                                                                                                                                              0.946004\n",
       "Diriez-vous que votre vie quotidienne est aujourd'hui touchée par le changement climatique ?                                                                                                                                                           0.911406\n",
       "À titre personnel, pensez-vous pouvoir contribuer à protéger l'environnement ?                                                                                                                                                                         0.910319\n",
       "Avez-vous pour vos déplacements quotidiens la possibilité de recourir à des solutions de mobilité alternatives à la voiture individuelle comme les transports en commun, le covoiturage, l'auto-partage, le transport à la demande, le vélo, etc. ?    0.896643\n",
       "Que faudrait-il faire selon vous pour apporter des réponses à ce problème ?                                                                                                                                                                            0.896357\n",
       "Par rapport à votre mode de chauffage actuel, pensez-vous qu'il existe des solutions alternatives plus écologiques ?                                                                                                                                   0.868472\n",
       "Si oui, que faites-vous aujourd'hui pour protéger l'environnement et/ou que pourriez-vous faire ?                                                                                                                                                      0.851974\n",
       "Qu'est-ce qui pourrait vous inciter à changer vos comportements comme par exemple mieux entretenir et régler votre chauffage, modifier votre manière de conduire ou renoncer à prendre votre véhicule pour de très petites distances ?                 0.793038\n",
       "Que pourrait faire la France pour faire partager ses choix en matière d'environnement au niveau européen et international ?                                                                                                                            0.743334\n",
       "Et qui doit selon vous se charger de vous proposer ce type de solutions alternatives ?                                                                                                                                                                 0.710051\n",
       "Y a-t-il d'autres points sur la transition écologique sur lesquels vous souhaiteriez vous exprimer ?                                                                                                                                                   0.699046\n",
       "Quelles seraient pour vous les solutions les plus simples et les plus supportables sur un plan financier pour vous inciter à changer vos comportements ?                                                                                               0.689586\n",
       "Si non, quelles sont les solutions de mobilité alternatives que vous souhaiteriez pouvoir utiliser ?                                                                                                                                                   0.639805\n",
       "Si oui, de quelle manière votre vie quotidienne est-elle touchée par le changement climatique ?                                                                                                                                                        0.577360\n",
       "Si oui, que faudrait-il faire pour vous convaincre ou vous aider à changer de mode de chauffage ?                                                                                                                                                      0.556609\n",
       "Si oui, que faudrait-il faire pour vous convaincre ou vous aider à utiliser ces solutions alternatives ?                                                                                                                                               0.468491\n",
       "dtype: float64"
      ]
     },
     "execution_count": 9,
     "metadata": {},
     "output_type": "execute_result"
    }
   ],
   "source": [
    "res.notna().mean(axis=0).sort_values(ascending=False)"
   ]
  },
  {
   "cell_type": "markdown",
   "metadata": {},
   "source": [
    "# Find important words"
   ]
  },
  {
   "cell_type": "code",
   "execution_count": 10,
   "metadata": {
    "collapsed": true
   },
   "outputs": [],
   "source": [
    "li_word_count = []\n",
    "for elt in res.values:\n",
    "    for item in elt:\n",
    "        if type(item) == str:\n",
    "            li_word_count.extend([unidecode.unidecode(x.lower()) for x in re.findall(r'\\w+', item)])"
   ]
  },
  {
   "cell_type": "code",
   "execution_count": 11,
   "metadata": {
    "collapsed": true
   },
   "outputs": [],
   "source": [
    "dic_word_count = {}\n",
    "for i in li_word_count:\n",
    "    if len(i) > 0:\n",
    "        if i in dic_word_count.keys():\n",
    "            dic_word_count[i] +=1\n",
    "        else:\n",
    "            dic_word_count[i] = 1"
   ]
  },
  {
   "cell_type": "code",
   "execution_count": 12,
   "metadata": {
    "collapsed": true
   },
   "outputs": [],
   "source": [
    "df_word_count = pd.DataFrame.from_dict(dic_word_count, orient=\"index\")\n",
    "df_word_count.sort_values(0, ascending=False)\n",
    "df_word_count.columns = [\"freq_in_debate\"]"
   ]
  },
  {
   "cell_type": "code",
   "execution_count": 13,
   "metadata": {},
   "outputs": [
    {
     "data": {
      "text/plain": [
       "202"
      ]
     },
     "execution_count": 13,
     "metadata": {},
     "output_type": "execute_result"
    }
   ],
   "source": [
    "del li_word_count\n",
    "del dic_word_count\n",
    "\n",
    "gc.collect()"
   ]
  },
  {
   "cell_type": "code",
   "execution_count": 14,
   "metadata": {
    "collapsed": true
   },
   "outputs": [],
   "source": [
    "df_word_count = df_word_count[df_word_count[\"freq_in_debate\"] > 100]"
   ]
  },
  {
   "cell_type": "code",
   "execution_count": 15,
   "metadata": {
    "collapsed": true
   },
   "outputs": [],
   "source": [
    "li_stopwords = [unidecode.unidecode(x.strip().lower()) for x in open(\"french_stopwords.txt\", 'r').readlines()]\n",
    "li_stopwords = set(li_stopwords)\n",
    "li_stopwords.remove(\"aucun\")\n",
    "li_stopwords.remove(\"tout\")\n",
    "li_stopwords.remove(\"tous\")\n",
    "li_stopwords.remove(\"non\")"
   ]
  },
  {
   "cell_type": "code",
   "execution_count": 16,
   "metadata": {
    "collapsed": true
   },
   "outputs": [],
   "source": [
    "new_data = []\n",
    "for i, elt in enumerate(res.index):\n",
    "    temp_res = []\n",
    "    for col in res.columns:\n",
    "        item = res.loc[elt, col]\n",
    "        if type(item) == str:\n",
    "            li_item = [unidecode.unidecode(x.lower()) for x in re.findall(r'\\w+', item) if unidecode.unidecode(x.lower()) not in li_stopwords]\n",
    "            temp_res.append(li_item)\n",
    "        else:\n",
    "            temp_res.append(None)\n",
    "    new_data.append(temp_res)"
   ]
  },
  {
   "cell_type": "code",
   "execution_count": 17,
   "metadata": {},
   "outputs": [
    {
     "data": {
      "text/plain": [
       "0"
      ]
     },
     "execution_count": 17,
     "metadata": {},
     "output_type": "execute_result"
    }
   ],
   "source": [
    "new_res = pd.DataFrame(new_data, columns=res.columns).to_sparse()\n",
    "del new_data\n",
    "gc.collect()"
   ]
  },
  {
   "cell_type": "markdown",
   "metadata": {},
   "source": [
    "# Question 1 : Quel est aujourd'hui pour vous le problème concret le plus important dans le domaine de l'environnement ?"
   ]
  },
  {
   "cell_type": "code",
   "execution_count": 18,
   "metadata": {
    "collapsed": true
   },
   "outputs": [],
   "source": [
    "question_1 = \"Quel est aujourd'hui pour vous le problème concret le plus important dans le domaine de l'environnement ?\"\n",
    "qu_1,df_qu_1_one_hot,df_cov_1,df_confidence_1,df_lift_1 = compute_similarities(question_1,new_res)"
   ]
  },
  {
   "cell_type": "code",
   "execution_count": 19,
   "metadata": {
    "scrolled": true
   },
   "outputs": [
    {
     "name": "stdout",
     "output_type": "stream",
     "text": [
      "climatiques\n"
     ]
    },
    {
     "data": {
      "text/plain": [
       "climatiques     14449\n",
       "dereglements    14339\n",
       "secheresse      13853\n",
       "crue            13844\n",
       "pollution         389\n",
       "biodiversite      373\n",
       "air               343\n",
       "disparition       228\n",
       "especes           218\n",
       "erosion           179\n",
       "Name: climatiques, dtype: uint16"
      ]
     },
     "metadata": {},
     "output_type": "display_data"
    },
    {
     "name": "stdout",
     "output_type": "stream",
     "text": [
      "dereglements\n"
     ]
    },
    {
     "data": {
      "text/plain": [
       "dereglements    14431\n",
       "climatiques     14339\n",
       "secheresse      13849\n",
       "crue            13843\n",
       "pollution         378\n",
       "biodiversite      371\n",
       "air               329\n",
       "disparition       215\n",
       "especes           210\n",
       "erosion           179\n",
       "Name: dereglements, dtype: uint16"
      ]
     },
     "metadata": {},
     "output_type": "display_data"
    },
    {
     "name": "stdout",
     "output_type": "stream",
     "text": [
      "secheresse\n"
     ]
    },
    {
     "data": {
      "text/plain": [
       "secheresse         13889\n",
       "climatiques        13853\n",
       "crue               13849\n",
       "dereglements       13849\n",
       "reponses               0\n",
       "air                    0\n",
       "lie                    0\n",
       "non                    0\n",
       "importants             0\n",
       "surconsommation        0\n",
       "Name: secheresse, dtype: uint16"
      ]
     },
     "metadata": {},
     "output_type": "display_data"
    },
    {
     "name": "stdout",
     "output_type": "stream",
     "text": [
      "crue\n"
     ]
    },
    {
     "data": {
      "text/plain": [
       "crue               13849\n",
       "secheresse         13849\n",
       "climatiques        13844\n",
       "dereglements       13843\n",
       "reponses               0\n",
       "air                    0\n",
       "lie                    0\n",
       "non                    0\n",
       "importants             0\n",
       "surconsommation        0\n",
       "Name: crue, dtype: uint16"
      ]
     },
     "metadata": {},
     "output_type": "display_data"
    },
    {
     "name": "stdout",
     "output_type": "stream",
     "text": [
      "pollution\n"
     ]
    },
    {
     "data": {
      "text/plain": [
       "pollution       12625\n",
       "air             11014\n",
       "biodiversite      663\n",
       "eau               596\n",
       "sols              455\n",
       "climatique        430\n",
       "disparition       409\n",
       "climatiques       389\n",
       "dereglements      378\n",
       "especes           372\n",
       "Name: pollution, dtype: uint16"
      ]
     },
     "metadata": {},
     "output_type": "display_data"
    },
    {
     "name": "stdout",
     "output_type": "stream",
     "text": [
      "air\n"
     ]
    },
    {
     "data": {
      "text/plain": [
       "air             11349\n",
       "pollution       11014\n",
       "biodiversite      557\n",
       "eau               545\n",
       "disparition       349\n",
       "climatiques       343\n",
       "dereglements      329\n",
       "especes           329\n",
       "climatique        317\n",
       "sols              284\n",
       "Name: air, dtype: uint16"
      ]
     },
     "metadata": {},
     "output_type": "display_data"
    },
    {
     "name": "stdout",
     "output_type": "stream",
     "text": [
      "biodiversite\n"
     ]
    },
    {
     "data": {
      "text/plain": [
       "biodiversite    10067\n",
       "disparition      9201\n",
       "especes          9126\n",
       "pollution         663\n",
       "air               557\n",
       "climatique        393\n",
       "climatiques       373\n",
       "dereglements      371\n",
       "dereglement       305\n",
       "erosion           295\n",
       "Name: biodiversite, dtype: uint16"
      ]
     },
     "metadata": {},
     "output_type": "display_data"
    },
    {
     "name": "stdout",
     "output_type": "stream",
     "text": [
      "disparition\n"
     ]
    },
    {
     "data": {
      "text/plain": [
       "disparition     9558\n",
       "especes         9336\n",
       "biodiversite    9201\n",
       "pollution        409\n",
       "air              349\n",
       "climatiques      228\n",
       "dereglements     215\n",
       "climatique       186\n",
       "erosion          177\n",
       "dereglement      159\n",
       "Name: disparition, dtype: uint16"
      ]
     },
     "metadata": {},
     "output_type": "display_data"
    },
    {
     "name": "stdout",
     "output_type": "stream",
     "text": [
      "especes\n"
     ]
    },
    {
     "data": {
      "text/plain": [
       "especes         9483\n",
       "disparition     9336\n",
       "biodiversite    9126\n",
       "pollution        372\n",
       "air              329\n",
       "climatiques      218\n",
       "dereglements     210\n",
       "erosion          157\n",
       "climatique       143\n",
       "littoral         131\n",
       "Name: especes, dtype: uint16"
      ]
     },
     "metadata": {},
     "output_type": "display_data"
    },
    {
     "name": "stdout",
     "output_type": "stream",
     "text": [
      "tous\n"
     ]
    },
    {
     "data": {
      "text/plain": [
       "tous          2566\n",
       "problemes      855\n",
       "importants     513\n",
       "lies           494\n",
       "pollution      249\n",
       "tout           193\n",
       "air            186\n",
       "points         169\n",
       "probleme       169\n",
       "important      167\n",
       "Name: tous, dtype: uint16"
      ]
     },
     "metadata": {},
     "output_type": "display_data"
    },
    {
     "name": "stdout",
     "output_type": "stream",
     "text": [
      "tout\n"
     ]
    },
    {
     "data": {
      "text/plain": [
       "tout             2208\n",
       "lie               568\n",
       "important         398\n",
       "pollution         292\n",
       "air               220\n",
       "tous              193\n",
       "biodiversite      184\n",
       "probleme          177\n",
       "problemes         172\n",
       "environnement     163\n",
       "Name: tout, dtype: uint16"
      ]
     },
     "metadata": {},
     "output_type": "display_data"
    },
    {
     "name": "stdout",
     "output_type": "stream",
     "text": [
      "problemes\n"
     ]
    },
    {
     "data": {
      "text/plain": [
       "problemes       1400\n",
       "tous             855\n",
       "lies             354\n",
       "importants       317\n",
       "tout             172\n",
       "pollution        160\n",
       "ensemble         126\n",
       "biodiversite     120\n",
       "air              112\n",
       "probleme         105\n",
       "Name: problemes, dtype: uint16"
      ]
     },
     "metadata": {},
     "output_type": "display_data"
    },
    {
     "name": "stdout",
     "output_type": "stream",
     "text": [
      "climatique\n"
     ]
    },
    {
     "data": {
      "text/plain": [
       "climatique       1087\n",
       "dereglement       541\n",
       "pollution         430\n",
       "biodiversite      393\n",
       "rechauffement     387\n",
       "air               317\n",
       "disparition       186\n",
       "erosion           159\n",
       "tout              143\n",
       "especes           143\n",
       "Name: climatique, dtype: uint16"
      ]
     },
     "metadata": {},
     "output_type": "display_data"
    },
    {
     "name": "stdout",
     "output_type": "stream",
     "text": [
      "eau\n"
     ]
    },
    {
     "data": {
      "text/plain": [
       "eau                1020\n",
       "pollution           596\n",
       "air                 545\n",
       "sols                213\n",
       "biodiversite        141\n",
       "terre               134\n",
       "environnement         0\n",
       "non                   0\n",
       "importants            0\n",
       "surconsommation       0\n",
       "Name: eau, dtype: uint16"
      ]
     },
     "metadata": {},
     "output_type": "display_data"
    },
    {
     "name": "stdout",
     "output_type": "stream",
     "text": [
      "dechets\n"
     ]
    },
    {
     "data": {
      "text/plain": [
       "dechets            870\n",
       "pollution          176\n",
       "reponses             0\n",
       "ressources           0\n",
       "crue                 0\n",
       "non                  0\n",
       "importants           0\n",
       "surconsommation      0\n",
       "vie                  0\n",
       "dereglements         0\n",
       "Name: dechets, dtype: uint16"
      ]
     },
     "metadata": {},
     "output_type": "display_data"
    },
    {
     "name": "stdout",
     "output_type": "stream",
     "text": [
      "probleme\n"
     ]
    },
    {
     "data": {
      "text/plain": [
       "probleme           771\n",
       "tout               177\n",
       "tous               169\n",
       "important          164\n",
       "pollution          124\n",
       "problemes          105\n",
       "environnement        0\n",
       "non                  0\n",
       "importants           0\n",
       "surconsommation      0\n",
       "Name: probleme, dtype: uint16"
      ]
     },
     "metadata": {},
     "output_type": "display_data"
    },
    {
     "name": "stdout",
     "output_type": "stream",
     "text": [
      "erosion\n"
     ]
    },
    {
     "data": {
      "text/plain": [
       "erosion         744\n",
       "littoral        578\n",
       "pollution       316\n",
       "biodiversite    295\n",
       "air             274\n",
       "dereglements    179\n",
       "climatiques     179\n",
       "disparition     177\n",
       "climatique      159\n",
       "especes         157\n",
       "Name: erosion, dtype: uint16"
      ]
     },
     "metadata": {},
     "output_type": "display_data"
    },
    {
     "name": "stdout",
     "output_type": "stream",
     "text": [
      "lies\n"
     ]
    },
    {
     "data": {
      "text/plain": [
       "lies               722\n",
       "tous               494\n",
       "problemes          354\n",
       "importants         137\n",
       "environnement        0\n",
       "crue                 0\n",
       "non                  0\n",
       "surconsommation      0\n",
       "vie                  0\n",
       "dereglements         0\n",
       "Name: lies, dtype: uint16"
      ]
     },
     "metadata": {},
     "output_type": "display_data"
    },
    {
     "name": "stdout",
     "output_type": "stream",
     "text": [
      "environnement\n"
     ]
    },
    {
     "data": {
      "text/plain": [
       "environnement      717\n",
       "tout               163\n",
       "tous               128\n",
       "pollution          109\n",
       "crue                 0\n",
       "non                  0\n",
       "importants           0\n",
       "surconsommation      0\n",
       "vie                  0\n",
       "dereglements         0\n",
       "Name: environnement, dtype: uint16"
      ]
     },
     "metadata": {},
     "output_type": "display_data"
    },
    {
     "name": "stdout",
     "output_type": "stream",
     "text": [
      "sols\n"
     ]
    },
    {
     "data": {
      "text/plain": [
       "sols               674\n",
       "pollution          455\n",
       "air                284\n",
       "eau                213\n",
       "biodiversite       127\n",
       "reponses             0\n",
       "environnement        0\n",
       "non                  0\n",
       "importants           0\n",
       "surconsommation      0\n",
       "Name: sols, dtype: uint16"
      ]
     },
     "metadata": {},
     "output_type": "display_data"
    }
   ],
   "source": [
    "for i in df_qu_1_one_hot.sum(axis=0).sort_values(ascending=False).head(20).index:\n",
    "    print(i)\n",
    "    display(df_cov_1[i].sort_values(ascending=False).head(10))"
   ]
  },
  {
   "cell_type": "code",
   "execution_count": 20,
   "metadata": {
    "scrolled": true
   },
   "outputs": [
    {
     "name": "stdout",
     "output_type": "stream",
     "text": [
      "climatiques\n"
     ]
    },
    {
     "data": {
      "text/plain": [
       "climatiques     1.000000\n",
       "crue            0.999639\n",
       "secheresse      0.997408\n",
       "dereglements    0.993625\n",
       "littoral        0.257426\n",
       "erosion         0.240591\n",
       "tout            0.046196\n",
       "biodiversite    0.037052\n",
       "pollution       0.030812\n",
       "air             0.030223\n",
       "Name: climatiques, dtype: float32"
      ]
     },
     "metadata": {},
     "output_type": "display_data"
    },
    {
     "name": "stdout",
     "output_type": "stream",
     "text": [
      "dereglements\n"
     ]
    },
    {
     "data": {
      "text/plain": [
       "dereglements    1.000000\n",
       "crue            0.999567\n",
       "secheresse      0.997120\n",
       "climatiques     0.992387\n",
       "littoral        0.245875\n",
       "erosion         0.240591\n",
       "biodiversite    0.036853\n",
       "pollution       0.029941\n",
       "air             0.028989\n",
       "disparition     0.022494\n",
       "Name: dereglements, dtype: float32"
      ]
     },
     "metadata": {},
     "output_type": "display_data"
    },
    {
     "name": "stdout",
     "output_type": "stream",
     "text": [
      "secheresse\n"
     ]
    },
    {
     "data": {
      "text/plain": [
       "crue               1.000000\n",
       "secheresse         1.000000\n",
       "dereglements       0.959670\n",
       "climatiques        0.958751\n",
       "reponses           0.000000\n",
       "air                0.000000\n",
       "lie                0.000000\n",
       "non                0.000000\n",
       "importants         0.000000\n",
       "surconsommation    0.000000\n",
       "Name: secheresse, dtype: float32"
      ]
     },
     "metadata": {},
     "output_type": "display_data"
    },
    {
     "name": "stdout",
     "output_type": "stream",
     "text": [
      "crue\n"
     ]
    },
    {
     "data": {
      "text/plain": [
       "crue               1.000000\n",
       "secheresse         0.997120\n",
       "dereglements       0.959254\n",
       "climatiques        0.958129\n",
       "reponses           0.000000\n",
       "air                0.000000\n",
       "lie                0.000000\n",
       "non                0.000000\n",
       "importants         0.000000\n",
       "surconsommation    0.000000\n",
       "Name: crue, dtype: float32"
      ]
     },
     "metadata": {},
     "output_type": "display_data"
    },
    {
     "name": "stdout",
     "output_type": "stream",
     "text": [
      "pollution\n"
     ]
    },
    {
     "data": {
      "text/plain": [
       "pollution      1.000000\n",
       "air            0.970482\n",
       "oceans         0.685185\n",
       "sols           0.675074\n",
       "eau            0.584314\n",
       "dereglement    0.546440\n",
       "terre          0.432802\n",
       "erosion        0.424731\n",
       "climatique     0.395584\n",
       "littoral       0.394389\n",
       "Name: pollution, dtype: float32"
      ]
     },
     "metadata": {},
     "output_type": "display_data"
    },
    {
     "name": "stdout",
     "output_type": "stream",
     "text": [
      "air\n"
     ]
    },
    {
     "data": {
      "text/plain": [
       "air            1.000000\n",
       "pollution      0.872396\n",
       "eau            0.534314\n",
       "terre          0.441913\n",
       "sols           0.421365\n",
       "pollutions     0.402299\n",
       "dereglement    0.400929\n",
       "erosion        0.368280\n",
       "littoral       0.363036\n",
       "climatique     0.291628\n",
       "Name: air, dtype: float32"
      ]
     },
     "metadata": {},
     "output_type": "display_data"
    },
    {
     "name": "stdout",
     "output_type": "stream",
     "text": [
      "biodiversite\n"
     ]
    },
    {
     "data": {
      "text/plain": [
       "biodiversite    1.000000\n",
       "disparition     0.962649\n",
       "especes         0.962354\n",
       "dereglement     0.472136\n",
       "erosion         0.396505\n",
       "climatique      0.361546\n",
       "littoral        0.339934\n",
       "sols            0.188427\n",
       "eau             0.138235\n",
       "problemes       0.085714\n",
       "Name: biodiversite, dtype: float32"
      ]
     },
     "metadata": {},
     "output_type": "display_data"
    },
    {
     "name": "stdout",
     "output_type": "stream",
     "text": [
      "disparition\n"
     ]
    },
    {
     "data": {
      "text/plain": [
       "disparition     1.000000\n",
       "especes         0.984499\n",
       "biodiversite    0.913976\n",
       "dereglement     0.246130\n",
       "erosion         0.237903\n",
       "littoral        0.234323\n",
       "climatique      0.171113\n",
       "tout            0.046649\n",
       "pollution       0.032396\n",
       "air             0.030752\n",
       "Name: disparition, dtype: float32"
      ]
     },
     "metadata": {},
     "output_type": "display_data"
    },
    {
     "name": "stdout",
     "output_type": "stream",
     "text": [
      "especes\n"
     ]
    },
    {
     "data": {
      "text/plain": [
       "especes         1.000000\n",
       "disparition     0.976773\n",
       "biodiversite    0.906526\n",
       "littoral        0.216172\n",
       "erosion         0.211022\n",
       "dereglement     0.174923\n",
       "climatique      0.131555\n",
       "tout            0.047101\n",
       "pollution       0.029465\n",
       "air             0.028989\n",
       "Name: especes, dtype: float32"
      ]
     },
     "metadata": {},
     "output_type": "display_data"
    },
    {
     "name": "stdout",
     "output_type": "stream",
     "text": [
      "tous\n"
     ]
    },
    {
     "data": {
      "text/plain": [
       "tous             1.000000\n",
       "importants       0.773756\n",
       "lies             0.684211\n",
       "points           0.623616\n",
       "problemes        0.610714\n",
       "faut             0.341667\n",
       "important        0.248143\n",
       "probleme         0.219196\n",
       "environnement    0.178522\n",
       "climatique       0.114075\n",
       "Name: tous, dtype: float32"
      ]
     },
     "metadata": {},
     "output_type": "display_data"
    },
    {
     "name": "stdout",
     "output_type": "stream",
     "text": [
      "tout\n"
     ]
    },
    {
     "data": {
      "text/plain": [
       "tout             1.000000\n",
       "lie              0.928105\n",
       "important        0.591382\n",
       "faut             0.318750\n",
       "probleme         0.229572\n",
       "environnement    0.227336\n",
       "ensemble         0.194969\n",
       "erosion          0.143817\n",
       "climatique       0.131555\n",
       "problemes        0.122857\n",
       "Name: tout, dtype: float32"
      ]
     },
     "metadata": {},
     "output_type": "display_data"
    },
    {
     "name": "stdout",
     "output_type": "stream",
     "text": [
      "problemes\n"
     ]
    },
    {
     "data": {
      "text/plain": [
       "problemes       1.000000\n",
       "lies            0.490305\n",
       "importants      0.478130\n",
       "tous            0.333203\n",
       "ensemble        0.198113\n",
       "important       0.150074\n",
       "probleme        0.136187\n",
       "tout            0.077899\n",
       "pollution       0.012673\n",
       "biodiversite    0.011920\n",
       "Name: problemes, dtype: float32"
      ]
     },
     "metadata": {},
     "output_type": "display_data"
    },
    {
     "name": "stdout",
     "output_type": "stream",
     "text": [
      "climatique\n"
     ]
    },
    {
     "data": {
      "text/plain": [
       "climatique       1.000000\n",
       "dereglement      0.837461\n",
       "rechauffement    0.809623\n",
       "erosion          0.213710\n",
       "littoral         0.168317\n",
       "tout             0.064764\n",
       "tous             0.048324\n",
       "biodiversite     0.039038\n",
       "pollution        0.034059\n",
       "air              0.027932\n",
       "Name: climatique, dtype: float32"
      ]
     },
     "metadata": {},
     "output_type": "display_data"
    },
    {
     "name": "stdout",
     "output_type": "stream",
     "text": [
      "eau\n"
     ]
    },
    {
     "data": {
      "text/plain": [
       "eau                1.000000\n",
       "sols               0.316024\n",
       "terre              0.305239\n",
       "air                0.048022\n",
       "pollution          0.047208\n",
       "biodiversite       0.014006\n",
       "environnement      0.000000\n",
       "non                0.000000\n",
       "importants         0.000000\n",
       "surconsommation    0.000000\n",
       "Name: eau, dtype: float32"
      ]
     },
     "metadata": {},
     "output_type": "display_data"
    },
    {
     "name": "stdout",
     "output_type": "stream",
     "text": [
      "dechets\n"
     ]
    },
    {
     "data": {
      "text/plain": [
       "dechets            1.000000\n",
       "pollution          0.013941\n",
       "reponses           0.000000\n",
       "ressources         0.000000\n",
       "crue               0.000000\n",
       "non                0.000000\n",
       "importants         0.000000\n",
       "surconsommation    0.000000\n",
       "vie                0.000000\n",
       "dereglements       0.000000\n",
       "Name: dechets, dtype: float32"
      ]
     },
     "metadata": {},
     "output_type": "display_data"
    },
    {
     "name": "stdout",
     "output_type": "stream",
     "text": [
      "probleme\n"
     ]
    },
    {
     "data": {
      "text/plain": [
       "probleme           1.000000\n",
       "important          0.243685\n",
       "tout               0.080163\n",
       "problemes          0.075000\n",
       "tous               0.065861\n",
       "pollution          0.009822\n",
       "environnement      0.000000\n",
       "non                0.000000\n",
       "importants         0.000000\n",
       "surconsommation    0.000000\n",
       "Name: probleme, dtype: float32"
      ]
     },
     "metadata": {},
     "output_type": "display_data"
    },
    {
     "name": "stdout",
     "output_type": "stream",
     "text": [
      "erosion\n"
     ]
    },
    {
     "data": {
      "text/plain": [
       "erosion         1.000000\n",
       "littoral        0.953795\n",
       "dereglement     0.201238\n",
       "climatique      0.146274\n",
       "tout            0.048460\n",
       "biodiversite    0.029304\n",
       "pollution       0.025030\n",
       "air             0.024143\n",
       "disparition     0.018519\n",
       "especes         0.016556\n",
       "Name: erosion, dtype: float32"
      ]
     },
     "metadata": {},
     "output_type": "display_data"
    },
    {
     "name": "stdout",
     "output_type": "stream",
     "text": [
      "lies\n"
     ]
    },
    {
     "data": {
      "text/plain": [
       "lies               1.000000\n",
       "problemes          0.252857\n",
       "importants         0.206637\n",
       "tous               0.192518\n",
       "environnement      0.000000\n",
       "crue               0.000000\n",
       "non                0.000000\n",
       "surconsommation    0.000000\n",
       "vie                0.000000\n",
       "dereglements       0.000000\n",
       "Name: lies, dtype: float32"
      ]
     },
     "metadata": {},
     "output_type": "display_data"
    },
    {
     "name": "stdout",
     "output_type": "stream",
     "text": [
      "environnement\n"
     ]
    },
    {
     "data": {
      "text/plain": [
       "environnement      1.000000\n",
       "tout               0.073822\n",
       "tous               0.049883\n",
       "pollution          0.008634\n",
       "crue               0.000000\n",
       "non                0.000000\n",
       "importants         0.000000\n",
       "surconsommation    0.000000\n",
       "vie                0.000000\n",
       "dereglements       0.000000\n",
       "Name: environnement, dtype: float32"
      ]
     },
     "metadata": {},
     "output_type": "display_data"
    },
    {
     "name": "stdout",
     "output_type": "stream",
     "text": [
      "sols\n"
     ]
    },
    {
     "data": {
      "text/plain": [
       "sols               1.000000\n",
       "eau                0.208824\n",
       "pollution          0.036040\n",
       "air                0.025024\n",
       "biodiversite       0.012615\n",
       "reponses           0.000000\n",
       "environnement      0.000000\n",
       "non                0.000000\n",
       "importants         0.000000\n",
       "surconsommation    0.000000\n",
       "Name: sols, dtype: float32"
      ]
     },
     "metadata": {},
     "output_type": "display_data"
    }
   ],
   "source": [
    "for i in df_qu_1_one_hot.sum(axis=0).sort_values(ascending=False).head(20).index:\n",
    "    print(i)\n",
    "    display(df_confidence_1[i].sort_values(ascending=False).head(10))"
   ]
  },
  {
   "cell_type": "code",
   "execution_count": 21,
   "metadata": {
    "scrolled": true
   },
   "outputs": [
    {
     "name": "stdout",
     "output_type": "stream",
     "text": [
      "climatiques\n"
     ]
    },
    {
     "data": {
      "text/plain": [
       "climatiques     0.000069\n",
       "crue            0.000069\n",
       "secheresse      0.000069\n",
       "dereglements    0.000069\n",
       "littoral        0.000018\n",
       "erosion         0.000017\n",
       "tout            0.000003\n",
       "biodiversite    0.000003\n",
       "pollution       0.000002\n",
       "air             0.000002\n",
       "Name: climatiques, dtype: float32"
      ]
     },
     "metadata": {},
     "output_type": "display_data"
    },
    {
     "name": "stdout",
     "output_type": "stream",
     "text": [
      "dereglements\n"
     ]
    },
    {
     "data": {
      "text/plain": [
       "dereglements    0.000069\n",
       "crue            0.000069\n",
       "secheresse      0.000069\n",
       "climatiques     0.000069\n",
       "littoral        0.000017\n",
       "erosion         0.000017\n",
       "biodiversite    0.000003\n",
       "pollution       0.000002\n",
       "air             0.000002\n",
       "disparition     0.000002\n",
       "Name: dereglements, dtype: float32"
      ]
     },
     "metadata": {},
     "output_type": "display_data"
    },
    {
     "name": "stdout",
     "output_type": "stream",
     "text": [
      "secheresse\n"
     ]
    },
    {
     "data": {
      "text/plain": [
       "crue            0.000072\n",
       "secheresse      0.000072\n",
       "dereglements    0.000069\n",
       "climatiques     0.000069\n",
       "terre                NaN\n",
       "energie              NaN\n",
       "lies                 NaN\n",
       "faut                 NaN\n",
       "agriculture          NaN\n",
       "climatique           NaN\n",
       "Name: secheresse, dtype: float32"
      ]
     },
     "metadata": {},
     "output_type": "display_data"
    },
    {
     "name": "stdout",
     "output_type": "stream",
     "text": [
      "crue\n"
     ]
    },
    {
     "data": {
      "text/plain": [
       "crue            0.000072\n",
       "secheresse      0.000072\n",
       "dereglements    0.000069\n",
       "climatiques     0.000069\n",
       "terre                NaN\n",
       "energie              NaN\n",
       "lies                 NaN\n",
       "faut                 NaN\n",
       "agriculture          NaN\n",
       "climatique           NaN\n",
       "Name: crue, dtype: float32"
      ]
     },
     "metadata": {},
     "output_type": "display_data"
    },
    {
     "name": "stdout",
     "output_type": "stream",
     "text": [
      "pollution\n"
     ]
    },
    {
     "data": {
      "text/plain": [
       "pollution      0.000079\n",
       "air            0.000077\n",
       "oceans         0.000054\n",
       "sols           0.000053\n",
       "eau            0.000046\n",
       "dereglement    0.000043\n",
       "terre          0.000034\n",
       "erosion        0.000034\n",
       "climatique     0.000031\n",
       "littoral       0.000031\n",
       "Name: pollution, dtype: float32"
      ]
     },
     "metadata": {},
     "output_type": "display_data"
    },
    {
     "name": "stdout",
     "output_type": "stream",
     "text": [
      "air\n"
     ]
    },
    {
     "data": {
      "text/plain": [
       "air            0.000088\n",
       "pollution      0.000077\n",
       "eau            0.000047\n",
       "terre          0.000039\n",
       "sols           0.000037\n",
       "pollutions     0.000035\n",
       "dereglement    0.000035\n",
       "erosion        0.000032\n",
       "littoral       0.000032\n",
       "climatique     0.000026\n",
       "Name: air, dtype: float32"
      ]
     },
     "metadata": {},
     "output_type": "display_data"
    },
    {
     "name": "stdout",
     "output_type": "stream",
     "text": [
      "biodiversite\n"
     ]
    },
    {
     "data": {
      "text/plain": [
       "biodiversite    0.000099\n",
       "disparition     0.000096\n",
       "especes         0.000096\n",
       "dereglement     0.000047\n",
       "erosion         0.000039\n",
       "climatique      0.000036\n",
       "littoral        0.000034\n",
       "sols            0.000019\n",
       "eau             0.000014\n",
       "problemes       0.000009\n",
       "Name: biodiversite, dtype: float32"
      ]
     },
     "metadata": {},
     "output_type": "display_data"
    },
    {
     "name": "stdout",
     "output_type": "stream",
     "text": [
      "disparition\n"
     ]
    },
    {
     "data": {
      "text/plain": [
       "disparition     0.000105\n",
       "especes         0.000103\n",
       "biodiversite    0.000096\n",
       "dereglement     0.000026\n",
       "erosion         0.000025\n",
       "littoral        0.000025\n",
       "climatique      0.000018\n",
       "tout            0.000005\n",
       "pollution       0.000003\n",
       "air             0.000003\n",
       "Name: disparition, dtype: float32"
      ]
     },
     "metadata": {},
     "output_type": "display_data"
    },
    {
     "name": "stdout",
     "output_type": "stream",
     "text": [
      "especes\n"
     ]
    },
    {
     "data": {
      "text/plain": [
       "especes         0.000105\n",
       "disparition     0.000103\n",
       "biodiversite    0.000096\n",
       "littoral        0.000023\n",
       "erosion         0.000022\n",
       "dereglement     0.000018\n",
       "climatique      0.000014\n",
       "tout            0.000005\n",
       "pollution       0.000003\n",
       "air             0.000003\n",
       "Name: especes, dtype: float32"
      ]
     },
     "metadata": {},
     "output_type": "display_data"
    },
    {
     "name": "stdout",
     "output_type": "stream",
     "text": [
      "tous\n"
     ]
    },
    {
     "data": {
      "text/plain": [
       "tous             0.000390\n",
       "importants       0.000302\n",
       "lies             0.000267\n",
       "points           0.000243\n",
       "problemes        0.000238\n",
       "faut             0.000133\n",
       "important        0.000097\n",
       "probleme         0.000085\n",
       "environnement    0.000070\n",
       "climatique       0.000044\n",
       "Name: tous, dtype: float32"
      ]
     },
     "metadata": {},
     "output_type": "display_data"
    },
    {
     "name": "stdout",
     "output_type": "stream",
     "text": [
      "tout\n"
     ]
    },
    {
     "data": {
      "text/plain": [
       "tout             0.000453\n",
       "lie              0.000420\n",
       "important        0.000268\n",
       "faut             0.000144\n",
       "probleme         0.000104\n",
       "environnement    0.000103\n",
       "ensemble         0.000088\n",
       "erosion          0.000065\n",
       "climatique       0.000060\n",
       "problemes        0.000056\n",
       "Name: tout, dtype: float32"
      ]
     },
     "metadata": {},
     "output_type": "display_data"
    },
    {
     "name": "stdout",
     "output_type": "stream",
     "text": [
      "problemes\n"
     ]
    },
    {
     "data": {
      "text/plain": [
       "problemes       0.000714\n",
       "lies            0.000350\n",
       "importants      0.000342\n",
       "tous            0.000238\n",
       "ensemble        0.000142\n",
       "important       0.000107\n",
       "probleme        0.000097\n",
       "tout            0.000056\n",
       "pollution       0.000009\n",
       "biodiversite    0.000009\n",
       "Name: problemes, dtype: float32"
      ]
     },
     "metadata": {},
     "output_type": "display_data"
    },
    {
     "name": "stdout",
     "output_type": "stream",
     "text": [
      "climatique\n"
     ]
    },
    {
     "data": {
      "text/plain": [
       "climatique       0.000920\n",
       "dereglement      0.000770\n",
       "rechauffement    0.000745\n",
       "erosion          0.000197\n",
       "littoral         0.000155\n",
       "tout             0.000060\n",
       "tous             0.000044\n",
       "biodiversite     0.000036\n",
       "pollution        0.000031\n",
       "air              0.000026\n",
       "Name: climatique, dtype: float32"
      ]
     },
     "metadata": {},
     "output_type": "display_data"
    },
    {
     "name": "stdout",
     "output_type": "stream",
     "text": [
      "eau\n"
     ]
    },
    {
     "data": {
      "text/plain": [
       "eau             0.000980\n",
       "sols            0.000310\n",
       "terre           0.000299\n",
       "air             0.000047\n",
       "pollution       0.000046\n",
       "biodiversite    0.000014\n",
       "energie              NaN\n",
       "lies                 NaN\n",
       "faut                 NaN\n",
       "climatiques          NaN\n",
       "Name: eau, dtype: float32"
      ]
     },
     "metadata": {},
     "output_type": "display_data"
    },
    {
     "name": "stdout",
     "output_type": "stream",
     "text": [
      "dechets\n"
     ]
    },
    {
     "data": {
      "text/plain": [
       "dechets        0.001149\n",
       "pollution      0.000016\n",
       "terre               NaN\n",
       "energie             NaN\n",
       "lies                NaN\n",
       "faut                NaN\n",
       "climatiques         NaN\n",
       "secheresse          NaN\n",
       "agriculture         NaN\n",
       "climatique          NaN\n",
       "Name: dechets, dtype: float32"
      ]
     },
     "metadata": {},
     "output_type": "display_data"
    },
    {
     "name": "stdout",
     "output_type": "stream",
     "text": [
      "probleme\n"
     ]
    },
    {
     "data": {
      "text/plain": [
       "probleme     0.001297\n",
       "important    0.000316\n",
       "tout         0.000104\n",
       "problemes    0.000097\n",
       "tous         0.000085\n",
       "pollution    0.000013\n",
       "terre             NaN\n",
       "energie           NaN\n",
       "lies              NaN\n",
       "faut              NaN\n",
       "Name: probleme, dtype: float32"
      ]
     },
     "metadata": {},
     "output_type": "display_data"
    },
    {
     "name": "stdout",
     "output_type": "stream",
     "text": [
      "erosion\n"
     ]
    },
    {
     "data": {
      "text/plain": [
       "erosion         0.001344\n",
       "littoral        0.001282\n",
       "dereglement     0.000270\n",
       "climatique      0.000197\n",
       "tout            0.000065\n",
       "biodiversite    0.000039\n",
       "pollution       0.000034\n",
       "air             0.000032\n",
       "disparition     0.000025\n",
       "especes         0.000022\n",
       "Name: erosion, dtype: float32"
      ]
     },
     "metadata": {},
     "output_type": "display_data"
    },
    {
     "name": "stdout",
     "output_type": "stream",
     "text": [
      "lies\n"
     ]
    },
    {
     "data": {
      "text/plain": [
       "lies           0.001385\n",
       "problemes      0.000350\n",
       "importants     0.000286\n",
       "tous           0.000267\n",
       "terre               NaN\n",
       "energie             NaN\n",
       "faut                NaN\n",
       "climatiques         NaN\n",
       "secheresse          NaN\n",
       "agriculture         NaN\n",
       "Name: lies, dtype: float32"
      ]
     },
     "metadata": {},
     "output_type": "display_data"
    },
    {
     "name": "stdout",
     "output_type": "stream",
     "text": [
      "environnement\n"
     ]
    },
    {
     "data": {
      "text/plain": [
       "environnement    0.001395\n",
       "tout             0.000103\n",
       "tous             0.000070\n",
       "pollution        0.000012\n",
       "terre                 NaN\n",
       "energie               NaN\n",
       "lies                  NaN\n",
       "faut                  NaN\n",
       "climatiques           NaN\n",
       "secheresse            NaN\n",
       "Name: environnement, dtype: float32"
      ]
     },
     "metadata": {},
     "output_type": "display_data"
    },
    {
     "name": "stdout",
     "output_type": "stream",
     "text": [
      "sols\n"
     ]
    },
    {
     "data": {
      "text/plain": [
       "sols            0.001484\n",
       "eau             0.000310\n",
       "pollution       0.000053\n",
       "air             0.000037\n",
       "biodiversite    0.000019\n",
       "terre                NaN\n",
       "energie              NaN\n",
       "lies                 NaN\n",
       "faut                 NaN\n",
       "climatiques          NaN\n",
       "Name: sols, dtype: float32"
      ]
     },
     "metadata": {},
     "output_type": "display_data"
    }
   ],
   "source": [
    "for i in df_qu_1_one_hot.sum(axis=0).sort_values(ascending=False).head(20).index:\n",
    "    print(i)\n",
    "    display(df_lift_1[i].sort_values(ascending=False).head(10))"
   ]
  },
  {
   "cell_type": "code",
   "execution_count": 22,
   "metadata": {},
   "outputs": [
    {
     "data": {
      "text/plain": [
       "285"
      ]
     },
     "execution_count": 22,
     "metadata": {},
     "output_type": "execute_result"
    }
   ],
   "source": [
    "gc.collect()"
   ]
  },
  {
   "cell_type": "markdown",
   "metadata": {},
   "source": [
    "# Question 2 : Que faudrait-il faire selon vous pour apporter des réponses à ce problème ?"
   ]
  },
  {
   "cell_type": "code",
   "execution_count": 23,
   "metadata": {
    "collapsed": true
   },
   "outputs": [],
   "source": [
    "question_2 = \"Que faudrait-il faire selon vous pour apporter des réponses à ce problème ?\"\n",
    "qu_2,df_qu_2_one_hot,df_cov_2,df_confidence_2,df_lift_2 = compute_similarities(question_2,new_res)"
   ]
  },
  {
   "cell_type": "code",
   "execution_count": 24,
   "metadata": {
    "scrolled": true
   },
   "outputs": [
    {
     "name": "stdout",
     "output_type": "stream",
     "text": [
      "faire\n"
     ]
    },
    {
     "data": {
      "text/plain": [
       "faire          6889\n",
       "tout           1675\n",
       "faut           1647\n",
       "tous           1578\n",
       "produits       1364\n",
       "entreprises    1213\n",
       "non            1182\n",
       "france         1179\n",
       "exemple        1157\n",
       "mettre         1040\n",
       "Name: faire, dtype: uint16"
      ]
     },
     "metadata": {},
     "output_type": "display_data"
    },
    {
     "name": "stdout",
     "output_type": "stream",
     "text": [
      "produits\n"
     ]
    },
    {
     "data": {
      "text/plain": [
       "produits        5947\n",
       "tous            1475\n",
       "taxer           1448\n",
       "interdire       1419\n",
       "faire           1364\n",
       "agriculture     1225\n",
       "consommation    1207\n",
       "non             1192\n",
       "entreprises     1180\n",
       "tout            1158\n",
       "Name: produits, dtype: uint16"
      ]
     },
     "metadata": {},
     "output_type": "display_data"
    },
    {
     "name": "stdout",
     "output_type": "stream",
     "text": [
      "tous\n"
     ]
    },
    {
     "data": {
      "text/plain": [
       "tous           5886\n",
       "faire          1578\n",
       "produits       1475\n",
       "faut           1260\n",
       "tout           1233\n",
       "non            1055\n",
       "transports     1003\n",
       "entreprises    1002\n",
       "france          973\n",
       "pays            963\n",
       "Name: tous, dtype: uint16"
      ]
     },
     "metadata": {},
     "output_type": "display_data"
    },
    {
     "name": "stdout",
     "output_type": "stream",
     "text": [
      "transports\n"
     ]
    },
    {
     "data": {
      "text/plain": [
       "transports     5312\n",
       "commun         2236\n",
       "developper     1515\n",
       "taxer          1091\n",
       "favoriser      1076\n",
       "transport      1073\n",
       "faire          1030\n",
       "produits       1017\n",
       "tous           1003\n",
       "entreprises     967\n",
       "Name: transports, dtype: uint16"
      ]
     },
     "metadata": {},
     "output_type": "display_data"
    },
    {
     "name": "stdout",
     "output_type": "stream",
     "text": [
      "tout\n"
     ]
    },
    {
     "data": {
      "text/plain": [
       "tout           5262\n",
       "faire          1675\n",
       "faut           1435\n",
       "tous           1233\n",
       "produits       1158\n",
       "non            1054\n",
       "monde          1027\n",
       "exemple         974\n",
       "entreprises     891\n",
       "mettre          883\n",
       "Name: tout, dtype: uint16"
      ]
     },
     "metadata": {},
     "output_type": "display_data"
    },
    {
     "name": "stdout",
     "output_type": "stream",
     "text": [
      "faut\n"
     ]
    },
    {
     "data": {
      "text/plain": [
       "faut           5042\n",
       "faire          1647\n",
       "tout           1435\n",
       "tous           1260\n",
       "produits       1064\n",
       "exemple         978\n",
       "france          957\n",
       "non             957\n",
       "entreprises     879\n",
       "mettre          853\n",
       "Name: faut, dtype: uint16"
      ]
     },
     "metadata": {},
     "output_type": "display_data"
    },
    {
     "name": "stdout",
     "output_type": "stream",
     "text": [
      "entreprises\n"
     ]
    },
    {
     "data": {
      "text/plain": [
       "entreprises    4696\n",
       "faire          1213\n",
       "taxer          1181\n",
       "produits       1180\n",
       "tous           1002\n",
       "transports      967\n",
       "tout            891\n",
       "faut            879\n",
       "non             852\n",
       "ecologique      790\n",
       "Name: entreprises, dtype: uint16"
      ]
     },
     "metadata": {},
     "output_type": "display_data"
    },
    {
     "name": "stdout",
     "output_type": "stream",
     "text": [
      "taxer\n"
     ]
    },
    {
     "data": {
      "text/plain": [
       "taxer          4516\n",
       "produits       1448\n",
       "entreprises    1181\n",
       "transports     1091\n",
       "faire           860\n",
       "transport       810\n",
       "interdire       805\n",
       "pollueurs       795\n",
       "developper      795\n",
       "tous            790\n",
       "Name: taxer, dtype: uint16"
      ]
     },
     "metadata": {},
     "output_type": "display_data"
    },
    {
     "name": "stdout",
     "output_type": "stream",
     "text": [
      "non\n"
     ]
    },
    {
     "data": {
      "text/plain": [
       "non            4436\n",
       "produits       1192\n",
       "faire          1182\n",
       "tous           1055\n",
       "tout           1054\n",
       "faut            957\n",
       "transports      880\n",
       "entreprises     852\n",
       "exemple         784\n",
       "france          750\n",
       "Name: non, dtype: uint16"
      ]
     },
     "metadata": {},
     "output_type": "display_data"
    },
    {
     "name": "stdout",
     "output_type": "stream",
     "text": [
      "developper\n"
     ]
    },
    {
     "data": {
      "text/plain": [
       "developper    4417\n",
       "transports    1515\n",
       "energies      1035\n",
       "commun         947\n",
       "transport      887\n",
       "faire          862\n",
       "produits       861\n",
       "taxer          795\n",
       "energie        791\n",
       "tous           753\n",
       "Name: developper, dtype: uint16"
      ]
     },
     "metadata": {},
     "output_type": "display_data"
    },
    {
     "name": "stdout",
     "output_type": "stream",
     "text": [
      "interdire\n"
     ]
    },
    {
     "data": {
      "text/plain": [
       "interdire      4004\n",
       "produits       1419\n",
       "pesticides     1001\n",
       "tous            886\n",
       "taxer           805\n",
       "faire           789\n",
       "tout            781\n",
       "agriculture     763\n",
       "transports      700\n",
       "non             689\n",
       "Name: interdire, dtype: uint16"
      ]
     },
     "metadata": {},
     "output_type": "display_data"
    },
    {
     "name": "stdout",
     "output_type": "stream",
     "text": [
      "mettre\n"
     ]
    },
    {
     "data": {
      "text/plain": [
       "mettre         3973\n",
       "place          1845\n",
       "faire          1040\n",
       "tous            931\n",
       "tout            883\n",
       "faut            853\n",
       "produits        810\n",
       "transports      750\n",
       "entreprises     733\n",
       "non             701\n",
       "Name: mettre, dtype: uint16"
      ]
     },
     "metadata": {},
     "output_type": "display_data"
    },
    {
     "name": "stdout",
     "output_type": "stream",
     "text": [
      "consommation\n"
     ]
    },
    {
     "data": {
      "text/plain": [
       "consommation    3960\n",
       "produits        1207\n",
       "production       973\n",
       "faire            926\n",
       "reduire          876\n",
       "faut             834\n",
       "tous             832\n",
       "energie          817\n",
       "tout             811\n",
       "transports       711\n",
       "Name: consommation, dtype: uint16"
      ]
     },
     "metadata": {},
     "output_type": "display_data"
    },
    {
     "name": "stdout",
     "output_type": "stream",
     "text": [
      "reduire\n"
     ]
    },
    {
     "data": {
      "text/plain": [
       "reduire         3908\n",
       "consommation     876\n",
       "transports       829\n",
       "produits         808\n",
       "faire            712\n",
       "pollution        673\n",
       "tous             643\n",
       "faut             638\n",
       "tout             618\n",
       "developper       611\n",
       "Name: reduire, dtype: uint16"
      ]
     },
     "metadata": {},
     "output_type": "display_data"
    },
    {
     "name": "stdout",
     "output_type": "stream",
     "text": [
      "pollution\n"
     ]
    },
    {
     "data": {
      "text/plain": [
       "pollution      3896\n",
       "faire           995\n",
       "air             957\n",
       "tous            854\n",
       "faut            839\n",
       "tout            830\n",
       "transports      811\n",
       "produits        787\n",
       "entreprises     728\n",
       "non             696\n",
       "Name: pollution, dtype: uint16"
      ]
     },
     "metadata": {},
     "output_type": "display_data"
    },
    {
     "name": "stdout",
     "output_type": "stream",
     "text": [
      "france\n"
     ]
    },
    {
     "data": {
      "text/plain": [
       "france        3807\n",
       "faire         1179\n",
       "tous           973\n",
       "pays           971\n",
       "faut           957\n",
       "produits       924\n",
       "tout           829\n",
       "exemple        751\n",
       "non            750\n",
       "transports     705\n",
       "Name: france, dtype: uint16"
      ]
     },
     "metadata": {},
     "output_type": "display_data"
    },
    {
     "name": "stdout",
     "output_type": "stream",
     "text": [
      "energies\n"
     ]
    },
    {
     "data": {
      "text/plain": [
       "energies         3644\n",
       "renouvelables    1657\n",
       "fossiles         1062\n",
       "developper       1035\n",
       "energie           840\n",
       "transports        792\n",
       "nucleaire         721\n",
       "faire             708\n",
       "non               666\n",
       "produits          653\n",
       "Name: energies, dtype: uint16"
      ]
     },
     "metadata": {},
     "output_type": "display_data"
    },
    {
     "name": "stdout",
     "output_type": "stream",
     "text": [
      "exemple\n"
     ]
    },
    {
     "data": {
      "text/plain": [
       "exemple        3630\n",
       "faire          1157\n",
       "faut            978\n",
       "tout            974\n",
       "produits        947\n",
       "tous            939\n",
       "non             784\n",
       "france          751\n",
       "transports      741\n",
       "entreprises     733\n",
       "Name: exemple, dtype: uint16"
      ]
     },
     "metadata": {},
     "output_type": "display_data"
    },
    {
     "name": "stdout",
     "output_type": "stream",
     "text": [
      "favoriser\n"
     ]
    },
    {
     "data": {
      "text/plain": [
       "favoriser      3612\n",
       "transports     1076\n",
       "produits       1003\n",
       "agriculture     776\n",
       "taxer           707\n",
       "entreprises     690\n",
       "faire           689\n",
       "transport       674\n",
       "developper      673\n",
       "tous            649\n",
       "Name: favoriser, dtype: uint16"
      ]
     },
     "metadata": {},
     "output_type": "display_data"
    },
    {
     "name": "stdout",
     "output_type": "stream",
     "text": [
      "agriculture\n"
     ]
    },
    {
     "data": {
      "text/plain": [
       "agriculture    3602\n",
       "produits       1225\n",
       "bio             972\n",
       "pesticides      906\n",
       "favoriser       776\n",
       "interdire       763\n",
       "tous            746\n",
       "faire           745\n",
       "tout            686\n",
       "biologique      686\n",
       "Name: agriculture, dtype: uint16"
      ]
     },
     "metadata": {},
     "output_type": "display_data"
    }
   ],
   "source": [
    "for i in df_qu_2_one_hot.sum(axis=0).sort_values(ascending=False).head(20).index:\n",
    "    print(i)\n",
    "    display(df_cov_2[i].sort_values(ascending=False).head(10))"
   ]
  },
  {
   "cell_type": "code",
   "execution_count": 25,
   "metadata": {
    "scrolled": true
   },
   "outputs": [
    {
     "name": "stdout",
     "output_type": "stream",
     "text": [
      "faire\n"
     ]
    },
    {
     "data": {
      "text/plain": [
       "faire         1.000000\n",
       "sorte         0.797647\n",
       "payer         0.646586\n",
       "croire        0.616725\n",
       "savoir        0.561828\n",
       "comprendre    0.543253\n",
       "pourra        0.538941\n",
       "chose         0.516765\n",
       "veut          0.506329\n",
       "veulent       0.492063\n",
       "Name: faire, dtype: float32"
      ]
     },
     "metadata": {},
     "output_type": "display_data"
    },
    {
     "name": "stdout",
     "output_type": "stream",
     "text": [
      "produits\n"
     ]
    },
    {
     "data": {
      "text/plain": [
       "produits           1.000000\n",
       "importes           0.955711\n",
       "phytosanitaires    0.891720\n",
       "issus              0.755906\n",
       "nocifs             0.737864\n",
       "toxiques           0.716292\n",
       "chimiques          0.665698\n",
       "importation        0.651219\n",
       "alimentaires       0.630357\n",
       "tva                0.613197\n",
       "Name: produits, dtype: float32"
      ]
     },
     "metadata": {},
     "output_type": "display_data"
    },
    {
     "name": "stdout",
     "output_type": "stream",
     "text": [
      "tous\n"
     ]
    },
    {
     "data": {
      "text/plain": [
       "tous           1.000000\n",
       "niveaux        0.755952\n",
       "domaines       0.673961\n",
       "jours          0.536842\n",
       "accessibles    0.492188\n",
       "acteurs        0.477807\n",
       "majorite       0.445312\n",
       "lies           0.424929\n",
       "7              0.424354\n",
       "6              0.420485\n",
       "Name: tous, dtype: float32"
      ]
     },
     "metadata": {},
     "output_type": "display_data"
    },
    {
     "name": "stdout",
     "output_type": "stream",
     "text": [
      "transports\n"
     ]
    },
    {
     "data": {
      "text/plain": [
       "transports     1.000000\n",
       "communs        0.871227\n",
       "gratuits       0.843990\n",
       "commun         0.789827\n",
       "aeriens        0.776243\n",
       "gratuite       0.733813\n",
       "collectifs     0.678733\n",
       "routiers       0.671082\n",
       "maritimes      0.623786\n",
       "covoiturage    0.597633\n",
       "Name: transports, dtype: float32"
      ]
     },
     "metadata": {},
     "output_type": "display_data"
    },
    {
     "name": "stdout",
     "output_type": "stream",
     "text": [
      "tout\n"
     ]
    },
    {
     "data": {
      "text/plain": [
       "tout          1.000000\n",
       "simplement    0.549708\n",
       "monde         0.473490\n",
       "veut          0.440506\n",
       "7             0.424354\n",
       "petit         0.422572\n",
       "mal           0.419118\n",
       "or            0.413043\n",
       "pouvons       0.407143\n",
       "contraire     0.400763\n",
       "Name: tout, dtype: float32"
      ]
     },
     "metadata": {},
     "output_type": "display_data"
    },
    {
     "name": "stdout",
     "output_type": "stream",
     "text": [
      "faut\n"
     ]
    },
    {
     "data": {
      "text/plain": [
       "faut          1.000000\n",
       "veut          0.445570\n",
       "oui           0.444853\n",
       "ensuite       0.437220\n",
       "pourra        0.433022\n",
       "comprendre    0.404844\n",
       "agit          0.396325\n",
       "pouvons       0.392857\n",
       "jamais        0.387173\n",
       "savoir        0.384409\n",
       "Name: faut, dtype: float32"
      ]
     },
     "metadata": {},
     "output_type": "display_data"
    },
    {
     "name": "stdout",
     "output_type": "stream",
     "text": [
      "entreprises\n"
     ]
    },
    {
     "data": {
      "text/plain": [
       "entreprises      1.000000\n",
       "francaises       0.496988\n",
       "teletravail      0.440171\n",
       "grosses          0.437647\n",
       "particuliers     0.426418\n",
       "polluantes       0.405912\n",
       "entreprise       0.401418\n",
       "collectivites    0.388502\n",
       "impot            0.371490\n",
       "total            0.363354\n",
       "Name: entreprises, dtype: float32"
      ]
     },
     "metadata": {},
     "output_type": "display_data"
    },
    {
     "name": "stdout",
     "output_type": "stream",
     "text": [
      "taxer\n"
     ]
    },
    {
     "data": {
      "text/plain": [
       "taxer         1.000000\n",
       "kerosene      0.681402\n",
       "lourdement    0.596491\n",
       "importes      0.531469\n",
       "compagnies    0.468750\n",
       "fortement     0.457486\n",
       "traversent    0.456929\n",
       "etrangers     0.452991\n",
       "aerien        0.428850\n",
       "aeriens       0.419890\n",
       "Name: taxer, dtype: float32"
      ]
     },
     "metadata": {},
     "output_type": "display_data"
    },
    {
     "name": "stdout",
     "output_type": "stream",
     "text": [
      "non\n"
     ]
    },
    {
     "data": {
      "text/plain": [
       "non            1.000000\n",
       "recyclables    0.600000\n",
       "polluante      0.433180\n",
       "oui            0.397059\n",
       "etudes         0.354232\n",
       "or             0.345109\n",
       "respect        0.329545\n",
       "agit           0.325459\n",
       "cas            0.324182\n",
       "6              0.320755\n",
       "Name: non, dtype: float32"
      ]
     },
     "metadata": {},
     "output_type": "display_data"
    },
    {
     "name": "stdout",
     "output_type": "stream",
     "text": [
      "developper\n"
     ]
    },
    {
     "data": {
      "text/plain": [
       "developper     1.000000\n",
       "cyclables      0.449664\n",
       "pistes         0.412943\n",
       "ferroutage     0.406458\n",
       "ferroviaire    0.392670\n",
       "filiere        0.369973\n",
       "filieres       0.364261\n",
       "fret           0.357868\n",
       "hydrogene      0.355243\n",
       "eolien         0.346715\n",
       "Name: developper, dtype: float32"
      ]
     },
     "metadata": {},
     "output_type": "display_data"
    },
    {
     "name": "stdout",
     "output_type": "stream",
     "text": [
      "interdire\n"
     ]
    },
    {
     "data": {
      "text/plain": [
       "interdire        1.000000\n",
       "glyphosate       0.467331\n",
       "elevages         0.423664\n",
       "chasse           0.415339\n",
       "vente            0.409561\n",
       "palme            0.406250\n",
       "importation      0.404878\n",
       "nocifs           0.391586\n",
       "huile            0.382637\n",
       "immediatement    0.378472\n",
       "Name: interdire, dtype: float32"
      ]
     },
     "metadata": {},
     "output_type": "display_data"
    },
    {
     "name": "stdout",
     "output_type": "stream",
     "text": [
      "mettre\n"
     ]
    },
    {
     "data": {
      "text/plain": [
       "mettre        1.000000\n",
       "oeuvre        0.603338\n",
       "place         0.578370\n",
       "fin           0.431670\n",
       "consignes     0.340694\n",
       "trains        0.315992\n",
       "industriel    0.302381\n",
       "systemes      0.296296\n",
       "programme     0.287234\n",
       "pourraient    0.277542\n",
       "Name: mettre, dtype: float32"
      ]
     },
     "metadata": {},
     "output_type": "display_data"
    },
    {
     "name": "stdout",
     "output_type": "stream",
     "text": [
      "consommation\n"
     ]
    },
    {
     "data": {
      "text/plain": [
       "consommation    1.000000\n",
       "viande          0.490427\n",
       "biens           0.409483\n",
       "publicite       0.387218\n",
       "habitudes       0.375000\n",
       "modes           0.363436\n",
       "obsolescence    0.361446\n",
       "programmee      0.357798\n",
       "locale          0.353008\n",
       "objets          0.349206\n",
       "Name: consommation, dtype: float32"
      ]
     },
     "metadata": {},
     "output_type": "display_data"
    },
    {
     "name": "stdout",
     "output_type": "stream",
     "text": [
      "reduire\n"
     ]
    },
    {
     "data": {
      "text/plain": [
       "reduire          1.000000\n",
       "drastiquement    0.443124\n",
       "emissions        0.377721\n",
       "consommations    0.320210\n",
       "serre            0.300173\n",
       "empreinte        0.273418\n",
       "viande           0.266568\n",
       "trajets          0.257500\n",
       "gaz              0.251541\n",
       "emission         0.243354\n",
       "Name: reduire, dtype: float32"
      ]
     },
     "metadata": {},
     "output_type": "display_data"
    },
    {
     "name": "stdout",
     "output_type": "stream",
     "text": [
      "pollution\n"
     ]
    },
    {
     "data": {
      "text/plain": [
       "pollution       1.000000\n",
       "erosion         0.539007\n",
       "air             0.538851\n",
       "dereglements    0.424837\n",
       "littoral        0.401163\n",
       "particules      0.347339\n",
       "sources         0.341253\n",
       "climatiques     0.333333\n",
       "oceans          0.330460\n",
       "disparition     0.325885\n",
       "Name: pollution, dtype: float32"
      ]
     },
     "metadata": {},
     "output_type": "display_data"
    },
    {
     "name": "stdout",
     "output_type": "stream",
     "text": [
      "france\n"
     ]
    },
    {
     "data": {
      "text/plain": [
       "france        1.000000\n",
       "traversent    0.636704\n",
       "etranger      0.493151\n",
       "millions      0.461774\n",
       "allemagne     0.431925\n",
       "7             0.416974\n",
       "inde          0.414062\n",
       "europe        0.410058\n",
       "etrangers     0.408547\n",
       "000           0.387205\n",
       "Name: france, dtype: float32"
      ]
     },
     "metadata": {},
     "output_type": "display_data"
    },
    {
     "name": "stdout",
     "output_type": "stream",
     "text": [
      "energies\n"
     ]
    },
    {
     "data": {
      "text/plain": [
       "energies         1.000000\n",
       "renouvelables    0.918006\n",
       "fossiles         0.843527\n",
       "vertes           0.509740\n",
       "eolien           0.442822\n",
       "nucleaire        0.386388\n",
       "recours          0.379433\n",
       "solaire          0.377880\n",
       "propres          0.359734\n",
       "nucleaires       0.345550\n",
       "Name: energies, dtype: float32"
      ]
     },
     "metadata": {},
     "output_type": "display_data"
    },
    {
     "name": "stdout",
     "output_type": "stream",
     "text": [
      "exemple\n"
     ]
    },
    {
     "data": {
      "text/plain": [
       "exemple       1.000000\n",
       "montrer       0.722527\n",
       "titre         0.364261\n",
       "6             0.323450\n",
       "pourraient    0.322034\n",
       "or            0.296196\n",
       "ensuite       0.293722\n",
       "5             0.280423\n",
       "cas           0.279831\n",
       "point         0.277419\n",
       "Name: exemple, dtype: float32"
      ]
     },
     "metadata": {},
     "output_type": "display_data"
    },
    {
     "name": "stdout",
     "output_type": "stream",
     "text": [
      "favoriser\n"
     ]
    },
    {
     "data": {
      "text/plain": [
       "favoriser      1.000000\n",
       "courts         0.411576\n",
       "circuits       0.409651\n",
       "proximite      0.345304\n",
       "covoiturage    0.325444\n",
       "favorisant     0.317073\n",
       "locale         0.313280\n",
       "locaux         0.289871\n",
       "biologique     0.288973\n",
       "elevage        0.283262\n",
       "Name: favoriser, dtype: float32"
      ]
     },
     "metadata": {},
     "output_type": "display_data"
    },
    {
     "name": "stdout",
     "output_type": "stream",
     "text": [
      "agriculture\n"
     ]
    },
    {
     "data": {
      "text/plain": [
       "agriculture        1.000000\n",
       "biologique         0.869455\n",
       "intensive          0.822414\n",
       "raisonnee          0.721402\n",
       "respectueuse       0.672241\n",
       "permaculture       0.534247\n",
       "elevage            0.515021\n",
       "exploitations      0.498371\n",
       "agro               0.437909\n",
       "phytosanitaires    0.423567\n",
       "Name: agriculture, dtype: float32"
      ]
     },
     "metadata": {},
     "output_type": "display_data"
    }
   ],
   "source": [
    "for i in df_qu_2_one_hot.sum(axis=0).sort_values(ascending=False).head(20).index:\n",
    "    print(i)\n",
    "    display(df_confidence_2[i].sort_values(ascending=False).head(10))"
   ]
  },
  {
   "cell_type": "code",
   "execution_count": 26,
   "metadata": {
    "scrolled": true
   },
   "outputs": [
    {
     "name": "stdout",
     "output_type": "stream",
     "text": [
      "faire\n"
     ]
    },
    {
     "data": {
      "text/plain": [
       "faire         0.000145\n",
       "sorte         0.000116\n",
       "payer         0.000094\n",
       "croire        0.000090\n",
       "savoir        0.000082\n",
       "comprendre    0.000079\n",
       "pourra        0.000078\n",
       "chose         0.000075\n",
       "veut          0.000073\n",
       "veulent       0.000071\n",
       "Name: faire, dtype: float32"
      ]
     },
     "metadata": {},
     "output_type": "display_data"
    },
    {
     "name": "stdout",
     "output_type": "stream",
     "text": [
      "produits\n"
     ]
    },
    {
     "data": {
      "text/plain": [
       "produits           0.000168\n",
       "importes           0.000161\n",
       "phytosanitaires    0.000150\n",
       "issus              0.000127\n",
       "nocifs             0.000124\n",
       "toxiques           0.000120\n",
       "chimiques          0.000112\n",
       "importation        0.000110\n",
       "alimentaires       0.000106\n",
       "tva                0.000103\n",
       "Name: produits, dtype: float32"
      ]
     },
     "metadata": {},
     "output_type": "display_data"
    },
    {
     "name": "stdout",
     "output_type": "stream",
     "text": [
      "tous\n"
     ]
    },
    {
     "data": {
      "text/plain": [
       "tous           0.000170\n",
       "niveaux        0.000128\n",
       "domaines       0.000115\n",
       "jours          0.000091\n",
       "accessibles    0.000084\n",
       "acteurs        0.000081\n",
       "majorite       0.000076\n",
       "lies           0.000072\n",
       "7              0.000072\n",
       "6              0.000071\n",
       "Name: tous, dtype: float32"
      ]
     },
     "metadata": {},
     "output_type": "display_data"
    },
    {
     "name": "stdout",
     "output_type": "stream",
     "text": [
      "transports\n"
     ]
    },
    {
     "data": {
      "text/plain": [
       "transports     0.000188\n",
       "communs        0.000164\n",
       "gratuits       0.000159\n",
       "commun         0.000149\n",
       "aeriens        0.000146\n",
       "gratuite       0.000138\n",
       "collectifs     0.000128\n",
       "routiers       0.000126\n",
       "maritimes      0.000117\n",
       "covoiturage    0.000113\n",
       "Name: transports, dtype: float32"
      ]
     },
     "metadata": {},
     "output_type": "display_data"
    },
    {
     "name": "stdout",
     "output_type": "stream",
     "text": [
      "tout\n"
     ]
    },
    {
     "data": {
      "text/plain": [
       "tout          0.000190\n",
       "simplement    0.000104\n",
       "monde         0.000090\n",
       "veut          0.000084\n",
       "7             0.000081\n",
       "petit         0.000080\n",
       "mal           0.000080\n",
       "or            0.000078\n",
       "pouvons       0.000077\n",
       "contraire     0.000076\n",
       "Name: tout, dtype: float32"
      ]
     },
     "metadata": {},
     "output_type": "display_data"
    },
    {
     "name": "stdout",
     "output_type": "stream",
     "text": [
      "faut\n"
     ]
    },
    {
     "data": {
      "text/plain": [
       "faut          0.000198\n",
       "veut          0.000088\n",
       "oui           0.000088\n",
       "ensuite       0.000087\n",
       "pourra        0.000086\n",
       "comprendre    0.000080\n",
       "agit          0.000079\n",
       "pouvons       0.000078\n",
       "jamais        0.000077\n",
       "savoir        0.000076\n",
       "Name: faut, dtype: float32"
      ]
     },
     "metadata": {},
     "output_type": "display_data"
    },
    {
     "name": "stdout",
     "output_type": "stream",
     "text": [
      "entreprises\n"
     ]
    },
    {
     "data": {
      "text/plain": [
       "entreprises      0.000213\n",
       "francaises       0.000106\n",
       "teletravail      0.000094\n",
       "grosses          0.000093\n",
       "particuliers     0.000091\n",
       "polluantes       0.000086\n",
       "entreprise       0.000085\n",
       "collectivites    0.000083\n",
       "impot            0.000079\n",
       "total            0.000077\n",
       "Name: entreprises, dtype: float32"
      ]
     },
     "metadata": {},
     "output_type": "display_data"
    },
    {
     "name": "stdout",
     "output_type": "stream",
     "text": [
      "taxer\n"
     ]
    },
    {
     "data": {
      "text/plain": [
       "taxer         0.000221\n",
       "kerosene      0.000151\n",
       "lourdement    0.000132\n",
       "importes      0.000118\n",
       "compagnies    0.000104\n",
       "fortement     0.000101\n",
       "traversent    0.000101\n",
       "etrangers     0.000100\n",
       "aerien        0.000095\n",
       "aeriens       0.000093\n",
       "Name: taxer, dtype: float32"
      ]
     },
     "metadata": {},
     "output_type": "display_data"
    },
    {
     "name": "stdout",
     "output_type": "stream",
     "text": [
      "non\n"
     ]
    },
    {
     "data": {
      "text/plain": [
       "non            0.000225\n",
       "recyclables    0.000135\n",
       "polluante      0.000098\n",
       "oui            0.000090\n",
       "etudes         0.000080\n",
       "or             0.000078\n",
       "respect        0.000074\n",
       "agit           0.000073\n",
       "cas            0.000073\n",
       "6              0.000072\n",
       "Name: non, dtype: float32"
      ]
     },
     "metadata": {},
     "output_type": "display_data"
    },
    {
     "name": "stdout",
     "output_type": "stream",
     "text": [
      "developper\n"
     ]
    },
    {
     "data": {
      "text/plain": [
       "developper     0.000226\n",
       "cyclables      0.000102\n",
       "pistes         0.000093\n",
       "ferroutage     0.000092\n",
       "ferroviaire    0.000089\n",
       "filiere        0.000084\n",
       "filieres       0.000082\n",
       "fret           0.000081\n",
       "hydrogene      0.000080\n",
       "eolien         0.000078\n",
       "Name: developper, dtype: float32"
      ]
     },
     "metadata": {},
     "output_type": "display_data"
    },
    {
     "name": "stdout",
     "output_type": "stream",
     "text": [
      "interdire\n"
     ]
    },
    {
     "data": {
      "text/plain": [
       "interdire        0.000250\n",
       "glyphosate       0.000117\n",
       "elevages         0.000106\n",
       "chasse           0.000104\n",
       "vente            0.000102\n",
       "palme            0.000101\n",
       "importation      0.000101\n",
       "nocifs           0.000098\n",
       "huile            0.000096\n",
       "immediatement    0.000095\n",
       "Name: interdire, dtype: float32"
      ]
     },
     "metadata": {},
     "output_type": "display_data"
    },
    {
     "name": "stdout",
     "output_type": "stream",
     "text": [
      "mettre\n"
     ]
    },
    {
     "data": {
      "text/plain": [
       "mettre        0.000252\n",
       "oeuvre        0.000152\n",
       "place         0.000146\n",
       "fin           0.000109\n",
       "consignes     0.000086\n",
       "trains        0.000080\n",
       "industriel    0.000076\n",
       "systemes      0.000075\n",
       "programme     0.000072\n",
       "pourraient    0.000070\n",
       "Name: mettre, dtype: float32"
      ]
     },
     "metadata": {},
     "output_type": "display_data"
    },
    {
     "name": "stdout",
     "output_type": "stream",
     "text": [
      "consommation\n"
     ]
    },
    {
     "data": {
      "text/plain": [
       "consommation    0.000253\n",
       "viande          0.000124\n",
       "biens           0.000103\n",
       "publicite       0.000098\n",
       "habitudes       0.000095\n",
       "modes           0.000092\n",
       "obsolescence    0.000091\n",
       "programmee      0.000090\n",
       "locale          0.000089\n",
       "objets          0.000088\n",
       "Name: consommation, dtype: float32"
      ]
     },
     "metadata": {},
     "output_type": "display_data"
    },
    {
     "name": "stdout",
     "output_type": "stream",
     "text": [
      "reduire\n"
     ]
    },
    {
     "data": {
      "text/plain": [
       "reduire          0.000256\n",
       "drastiquement    0.000113\n",
       "emissions        0.000097\n",
       "consommations    0.000082\n",
       "serre            0.000077\n",
       "empreinte        0.000070\n",
       "viande           0.000068\n",
       "trajets          0.000066\n",
       "gaz              0.000064\n",
       "emission         0.000062\n",
       "Name: reduire, dtype: float32"
      ]
     },
     "metadata": {},
     "output_type": "display_data"
    },
    {
     "name": "stdout",
     "output_type": "stream",
     "text": [
      "pollution\n"
     ]
    },
    {
     "data": {
      "text/plain": [
       "pollution       0.000257\n",
       "erosion         0.000138\n",
       "air             0.000138\n",
       "dereglements    0.000109\n",
       "littoral        0.000103\n",
       "particules      0.000089\n",
       "sources         0.000088\n",
       "climatiques     0.000086\n",
       "oceans          0.000085\n",
       "disparition     0.000084\n",
       "Name: pollution, dtype: float32"
      ]
     },
     "metadata": {},
     "output_type": "display_data"
    },
    {
     "name": "stdout",
     "output_type": "stream",
     "text": [
      "france\n"
     ]
    },
    {
     "data": {
      "text/plain": [
       "france        0.000263\n",
       "traversent    0.000167\n",
       "etranger      0.000130\n",
       "millions      0.000121\n",
       "allemagne     0.000113\n",
       "7             0.000110\n",
       "inde          0.000109\n",
       "europe        0.000108\n",
       "etrangers     0.000107\n",
       "000           0.000102\n",
       "Name: france, dtype: float32"
      ]
     },
     "metadata": {},
     "output_type": "display_data"
    },
    {
     "name": "stdout",
     "output_type": "stream",
     "text": [
      "energies\n"
     ]
    },
    {
     "data": {
      "text/plain": [
       "energies         0.000274\n",
       "renouvelables    0.000252\n",
       "fossiles         0.000231\n",
       "vertes           0.000140\n",
       "eolien           0.000122\n",
       "nucleaire        0.000106\n",
       "recours          0.000104\n",
       "solaire          0.000104\n",
       "propres          0.000099\n",
       "nucleaires       0.000095\n",
       "Name: energies, dtype: float32"
      ]
     },
     "metadata": {},
     "output_type": "display_data"
    },
    {
     "name": "stdout",
     "output_type": "stream",
     "text": [
      "exemple\n"
     ]
    },
    {
     "data": {
      "text/plain": [
       "exemple       0.000275\n",
       "montrer       0.000199\n",
       "titre         0.000100\n",
       "6             0.000089\n",
       "pourraient    0.000089\n",
       "or            0.000082\n",
       "ensuite       0.000081\n",
       "5             0.000077\n",
       "cas           0.000077\n",
       "point         0.000076\n",
       "Name: exemple, dtype: float32"
      ]
     },
     "metadata": {},
     "output_type": "display_data"
    },
    {
     "name": "stdout",
     "output_type": "stream",
     "text": [
      "favoriser\n"
     ]
    },
    {
     "data": {
      "text/plain": [
       "favoriser      0.000277\n",
       "courts         0.000114\n",
       "circuits       0.000113\n",
       "proximite      0.000096\n",
       "covoiturage    0.000090\n",
       "favorisant     0.000088\n",
       "locale         0.000087\n",
       "locaux         0.000080\n",
       "biologique     0.000080\n",
       "elevage        0.000078\n",
       "Name: favoriser, dtype: float32"
      ]
     },
     "metadata": {},
     "output_type": "display_data"
    },
    {
     "name": "stdout",
     "output_type": "stream",
     "text": [
      "agriculture\n"
     ]
    },
    {
     "data": {
      "text/plain": [
       "agriculture        0.000278\n",
       "biologique         0.000241\n",
       "intensive          0.000228\n",
       "raisonnee          0.000200\n",
       "respectueuse       0.000187\n",
       "permaculture       0.000148\n",
       "elevage            0.000143\n",
       "exploitations      0.000138\n",
       "agro               0.000122\n",
       "phytosanitaires    0.000118\n",
       "Name: agriculture, dtype: float32"
      ]
     },
     "metadata": {},
     "output_type": "display_data"
    }
   ],
   "source": [
    "for i in df_qu_2_one_hot.sum(axis=0).sort_values(ascending=False).head(20).index:\n",
    "    print(i)\n",
    "    display(df_lift_2[i].sort_values(ascending=False).head(10))"
   ]
  },
  {
   "cell_type": "code",
   "execution_count": 27,
   "metadata": {},
   "outputs": [
    {
     "data": {
      "text/plain": [
       "98"
      ]
     },
     "execution_count": 27,
     "metadata": {},
     "output_type": "execute_result"
    }
   ],
   "source": [
    "gc.collect()"
   ]
  },
  {
   "cell_type": "markdown",
   "metadata": {},
   "source": [
    "# Question 3 : Diriez-vous que votre vie quotidienne est aujourd'hui touchée par le changement climatique ?"
   ]
  },
  {
   "cell_type": "code",
   "execution_count": 28,
   "metadata": {
    "collapsed": true
   },
   "outputs": [],
   "source": [
    "question_3 = \"Diriez-vous que votre vie quotidienne est aujourd'hui touchée par le changement climatique ?\"\n",
    "qu_3,df_qu_3_one_hot,df_cov_3,df_confidence_3,df_lift_3 = compute_similarities(question_3, new_res)"
   ]
  },
  {
   "cell_type": "code",
   "execution_count": 29,
   "metadata": {
    "scrolled": true
   },
   "outputs": [
    {
     "name": "stdout",
     "output_type": "stream",
     "text": [
      "oui\n"
     ]
    },
    {
     "data": {
      "text/plain": [
       "oui    31023\n",
       "non        0\n",
       "Name: oui, dtype: uint16"
      ]
     },
     "metadata": {},
     "output_type": "display_data"
    },
    {
     "name": "stdout",
     "output_type": "stream",
     "text": [
      "non\n"
     ]
    },
    {
     "data": {
      "text/plain": [
       "non    16762\n",
       "oui        0\n",
       "Name: non, dtype: uint16"
      ]
     },
     "metadata": {},
     "output_type": "display_data"
    }
   ],
   "source": [
    "for i in df_qu_3_one_hot.sum(axis=0).sort_values(ascending=False).head(20).index:\n",
    "    print(i)\n",
    "    display(df_cov_3[i].sort_values(ascending=False).head(10))"
   ]
  },
  {
   "cell_type": "code",
   "execution_count": 30,
   "metadata": {
    "scrolled": true
   },
   "outputs": [
    {
     "name": "stdout",
     "output_type": "stream",
     "text": [
      "oui\n"
     ]
    },
    {
     "data": {
      "text/plain": [
       "oui    1.0\n",
       "non    0.0\n",
       "Name: oui, dtype: float32"
      ]
     },
     "metadata": {},
     "output_type": "display_data"
    },
    {
     "name": "stdout",
     "output_type": "stream",
     "text": [
      "non\n"
     ]
    },
    {
     "data": {
      "text/plain": [
       "non    1.0\n",
       "oui    0.0\n",
       "Name: non, dtype: float32"
      ]
     },
     "metadata": {},
     "output_type": "display_data"
    }
   ],
   "source": [
    "for i in df_qu_3_one_hot.sum(axis=0).sort_values(ascending=False).head(20).index:\n",
    "    print(i)\n",
    "    display(df_confidence_3[i].sort_values(ascending=False).head(10))"
   ]
  },
  {
   "cell_type": "code",
   "execution_count": 31,
   "metadata": {
    "scrolled": true
   },
   "outputs": [
    {
     "name": "stdout",
     "output_type": "stream",
     "text": [
      "oui\n"
     ]
    },
    {
     "data": {
      "text/plain": [
       "oui    0.000032\n",
       "non         NaN\n",
       "Name: oui, dtype: float32"
      ]
     },
     "metadata": {},
     "output_type": "display_data"
    },
    {
     "name": "stdout",
     "output_type": "stream",
     "text": [
      "non\n"
     ]
    },
    {
     "data": {
      "text/plain": [
       "non    0.00006\n",
       "oui        NaN\n",
       "Name: non, dtype: float32"
      ]
     },
     "metadata": {},
     "output_type": "display_data"
    }
   ],
   "source": [
    "for i in df_qu_3_one_hot.sum(axis=0).sort_values(ascending=False).head(20).index:\n",
    "    print(i)\n",
    "    display(df_lift_3[i].sort_values(ascending=False).head(10))"
   ]
  },
  {
   "cell_type": "code",
   "execution_count": 32,
   "metadata": {},
   "outputs": [
    {
     "data": {
      "text/plain": [
       "14"
      ]
     },
     "execution_count": 32,
     "metadata": {},
     "output_type": "execute_result"
    }
   ],
   "source": [
    "gc.collect()"
   ]
  },
  {
   "cell_type": "markdown",
   "metadata": {},
   "source": [
    "# Question 4 : Si oui, de quelle manière votre vie quotidienne est-elle touchée par le changement climatique ?"
   ]
  },
  {
   "cell_type": "code",
   "execution_count": 33,
   "metadata": {
    "collapsed": true
   },
   "outputs": [],
   "source": [
    "question_4 = \"Si oui, de quelle manière votre vie quotidienne est-elle touchée par le changement climatique ?\"\n",
    "qu_4,df_qu_4_one_hot,df_cov_4,df_confidence_4,df_lift_4 = compute_similarities(question_4, new_res)"
   ]
  },
  {
   "cell_type": "code",
   "execution_count": 34,
   "metadata": {
    "scrolled": true
   },
   "outputs": [
    {
     "name": "stdout",
     "output_type": "stream",
     "text": [
      "pollution\n"
     ]
    },
    {
     "data": {
      "text/plain": [
       "pollution      4978\n",
       "air            2400\n",
       "eau             453\n",
       "climatique      417\n",
       "disparition     385\n",
       "sante           383\n",
       "secheresse      371\n",
       "climatiques     314\n",
       "ville           309\n",
       "especes         296\n",
       "Name: pollution, dtype: uint16"
      ]
     },
     "metadata": {},
     "output_type": "display_data"
    },
    {
     "name": "stdout",
     "output_type": "stream",
     "text": [
      "air\n"
     ]
    },
    {
     "data": {
      "text/plain": [
       "air            3696\n",
       "pollution      2400\n",
       "qualite         631\n",
       "eau             498\n",
       "pollue          315\n",
       "climatique      288\n",
       "sante           276\n",
       "disparition     275\n",
       "secheresse      251\n",
       "ville           243\n",
       "Name: air, dtype: uint16"
      ]
     },
     "metadata": {},
     "output_type": "display_data"
    },
    {
     "name": "stdout",
     "output_type": "stream",
     "text": [
      "secheresse\n"
     ]
    },
    {
     "data": {
      "text/plain": [
       "secheresse     3192\n",
       "inondations     406\n",
       "eau             387\n",
       "pollution       371\n",
       "periodes        360\n",
       "canicule        312\n",
       "chaleur         294\n",
       "air             251\n",
       "tempetes        251\n",
       "climatiques     242\n",
       "Name: secheresse, dtype: uint16"
      ]
     },
     "metadata": {},
     "output_type": "display_data"
    },
    {
     "name": "stdout",
     "output_type": "stream",
     "text": [
      "saisons\n"
     ]
    },
    {
     "data": {
      "text/plain": [
       "saisons         2422\n",
       "dereglement      366\n",
       "marquees         291\n",
       "secheresse       219\n",
       "pollution        218\n",
       "temperatures     216\n",
       "air              181\n",
       "disparition      178\n",
       "hiver            173\n",
       "climatiques      170\n",
       "Name: saisons, dtype: uint16"
      ]
     },
     "metadata": {},
     "output_type": "display_data"
    },
    {
     "name": "stdout",
     "output_type": "stream",
     "text": [
      "climatique\n"
     ]
    },
    {
     "data": {
      "text/plain": [
       "climatique       2231\n",
       "changement       1039\n",
       "dereglement       591\n",
       "rechauffement     444\n",
       "pollution         417\n",
       "vie               356\n",
       "air               288\n",
       "quotidienne       179\n",
       "tous              177\n",
       "eau               167\n",
       "Name: climatique, dtype: uint16"
      ]
     },
     "metadata": {},
     "output_type": "display_data"
    },
    {
     "name": "stdout",
     "output_type": "stream",
     "text": [
      "climatiques\n"
     ]
    },
    {
     "data": {
      "text/plain": [
       "climatiques     2108\n",
       "phenomenes       401\n",
       "evenements       368\n",
       "pollution        314\n",
       "extremes         279\n",
       "dereglements     251\n",
       "secheresse       242\n",
       "inondations      235\n",
       "air              230\n",
       "violents         218\n",
       "Name: climatiques, dtype: uint16"
      ]
     },
     "metadata": {},
     "output_type": "display_data"
    },
    {
     "name": "stdout",
     "output_type": "stream",
     "text": [
      "eau\n"
     ]
    },
    {
     "data": {
      "text/plain": [
       "eau            1987\n",
       "air             498\n",
       "pollution       453\n",
       "secheresse      387\n",
       "manque          324\n",
       "climatique      167\n",
       "chaleur         152\n",
       "disparition     145\n",
       "changement      141\n",
       "especes         137\n",
       "Name: eau, dtype: uint16"
      ]
     },
     "metadata": {},
     "output_type": "display_data"
    },
    {
     "name": "stdout",
     "output_type": "stream",
     "text": [
      "inondations\n"
     ]
    },
    {
     "data": {
      "text/plain": [
       "inondations    1787\n",
       "secheresse      406\n",
       "tempetes        388\n",
       "climatiques     235\n",
       "secheresses     226\n",
       "pollution       196\n",
       "canicules       187\n",
       "frequentes      146\n",
       "saisons         138\n",
       "canicule        136\n",
       "Name: inondations, dtype: uint16"
      ]
     },
     "metadata": {},
     "output_type": "display_data"
    },
    {
     "name": "stdout",
     "output_type": "stream",
     "text": [
      "changement\n"
     ]
    },
    {
     "data": {
      "text/plain": [
       "changement     1661\n",
       "climatique     1039\n",
       "vie             310\n",
       "pollution       230\n",
       "climat          184\n",
       "saisons         164\n",
       "air             163\n",
       "quotidienne     158\n",
       "tous            144\n",
       "eau             141\n",
       "Name: changement, dtype: uint16"
      ]
     },
     "metadata": {},
     "output_type": "display_data"
    },
    {
     "name": "stdout",
     "output_type": "stream",
     "text": [
      "temperatures\n"
     ]
    },
    {
     "data": {
      "text/plain": [
       "temperatures    1656\n",
       "hausse           253\n",
       "augmentation     238\n",
       "saisons          216\n",
       "pollution        216\n",
       "air              176\n",
       "secheresse       170\n",
       "extremes         134\n",
       "hiver            132\n",
       "climatiques      128\n",
       "Name: temperatures, dtype: uint16"
      ]
     },
     "metadata": {},
     "output_type": "display_data"
    },
    {
     "name": "stdout",
     "output_type": "stream",
     "text": [
      "disparition\n"
     ]
    },
    {
     "data": {
      "text/plain": [
       "disparition     1637\n",
       "especes          737\n",
       "oiseaux          502\n",
       "pollution        385\n",
       "insectes         378\n",
       "air              275\n",
       "abeilles         247\n",
       "biodiversite     198\n",
       "animales         197\n",
       "secheresse       186\n",
       "Name: disparition, dtype: uint16"
      ]
     },
     "metadata": {},
     "output_type": "display_data"
    },
    {
     "name": "stdout",
     "output_type": "stream",
     "text": [
      "chaleur\n"
     ]
    },
    {
     "data": {
      "text/plain": [
       "chaleur        1626\n",
       "secheresse      294\n",
       "pollution       225\n",
       "air             157\n",
       "eau             152\n",
       "forte           142\n",
       "pics            141\n",
       "periodes        111\n",
       "hiver           111\n",
       "inondations     105\n",
       "Name: chaleur, dtype: uint16"
      ]
     },
     "metadata": {},
     "output_type": "display_data"
    },
    {
     "name": "stdout",
     "output_type": "stream",
     "text": [
      "oiseaux\n"
     ]
    },
    {
     "data": {
      "text/plain": [
       "oiseaux        1444\n",
       "insectes        621\n",
       "disparition     502\n",
       "abeilles        283\n",
       "especes         255\n",
       "pollution       227\n",
       "air             186\n",
       "secheresse      168\n",
       "jardin          148\n",
       "saisons         143\n",
       "Name: oiseaux, dtype: uint16"
      ]
     },
     "metadata": {},
     "output_type": "display_data"
    },
    {
     "name": "stdout",
     "output_type": "stream",
     "text": [
      "canicule\n"
     ]
    },
    {
     "data": {
      "text/plain": [
       "canicule       1421\n",
       "secheresse      312\n",
       "pollution       208\n",
       "periodes        169\n",
       "air             147\n",
       "inondations     136\n",
       "episodes        134\n",
       "tempetes        114\n",
       "hiver           101\n",
       "visible           0\n",
       "Name: canicule, dtype: uint16"
      ]
     },
     "metadata": {},
     "output_type": "display_data"
    },
    {
     "name": "stdout",
     "output_type": "stream",
     "text": [
      "tempetes\n"
     ]
    },
    {
     "data": {
      "text/plain": [
       "tempetes       1418\n",
       "inondations     388\n",
       "secheresse      251\n",
       "climatiques     208\n",
       "frequentes      180\n",
       "canicules       178\n",
       "secheresses     135\n",
       "phenomenes      130\n",
       "saisons         130\n",
       "pollution       120\n",
       "Name: tempetes, dtype: uint16"
      ]
     },
     "metadata": {},
     "output_type": "display_data"
    },
    {
     "name": "stdout",
     "output_type": "stream",
     "text": [
      "especes\n"
     ]
    },
    {
     "data": {
      "text/plain": [
       "especes        1417\n",
       "disparition     737\n",
       "animales        352\n",
       "pollution       296\n",
       "oiseaux         255\n",
       "air             226\n",
       "insectes        180\n",
       "climatiques     166\n",
       "climatique      161\n",
       "saisons         157\n",
       "Name: especes, dtype: uint16"
      ]
     },
     "metadata": {},
     "output_type": "display_data"
    },
    {
     "name": "stdout",
     "output_type": "stream",
     "text": [
      "vie\n"
     ]
    },
    {
     "data": {
      "text/plain": [
       "vie            1378\n",
       "quotidienne     452\n",
       "climatique      356\n",
       "changement      310\n",
       "touchee         187\n",
       "pollution       177\n",
       "tous            162\n",
       "climatiques     152\n",
       "air             133\n",
       "tout            132\n",
       "Name: vie, dtype: uint16"
      ]
     },
     "metadata": {},
     "output_type": "display_data"
    },
    {
     "name": "stdout",
     "output_type": "stream",
     "text": [
      "canicules\n"
     ]
    },
    {
     "data": {
      "text/plain": [
       "canicules      1272\n",
       "inondations     187\n",
       "tempetes        178\n",
       "frequentes      168\n",
       "pollution       167\n",
       "secheresses     135\n",
       "climatiques     115\n",
       "air             110\n",
       "chauffage         0\n",
       "produits          0\n",
       "Name: canicules, dtype: uint16"
      ]
     },
     "metadata": {},
     "output_type": "display_data"
    },
    {
     "name": "stdout",
     "output_type": "stream",
     "text": [
      "sante\n"
     ]
    },
    {
     "data": {
      "text/plain": [
       "sante            1267\n",
       "pollution         383\n",
       "air               276\n",
       "problemes         252\n",
       "impact            123\n",
       "environnement       0\n",
       "dereglements        0\n",
       "chaud               0\n",
       "caniculaires        0\n",
       "produits            0\n",
       "Name: sante, dtype: uint16"
      ]
     },
     "metadata": {},
     "output_type": "display_data"
    },
    {
     "name": "stdout",
     "output_type": "stream",
     "text": [
      "climat\n"
     ]
    },
    {
     "data": {
      "text/plain": [
       "climat           1253\n",
       "pollution         196\n",
       "changement        184\n",
       "air               120\n",
       "change            104\n",
       "dereglement       102\n",
       "saisons           102\n",
       "environnement       0\n",
       "dereglements        0\n",
       "chaud               0\n",
       "Name: climat, dtype: uint16"
      ]
     },
     "metadata": {},
     "output_type": "display_data"
    }
   ],
   "source": [
    "for i in df_qu_4_one_hot.sum(axis=0).sort_values(ascending=False).head(20).index:\n",
    "    print(i)\n",
    "    display(df_cov_4[i].sort_values(ascending=False).head(10))"
   ]
  },
  {
   "cell_type": "code",
   "execution_count": 35,
   "metadata": {
    "scrolled": true
   },
   "outputs": [
    {
     "name": "stdout",
     "output_type": "stream",
     "text": [
      "pollution\n"
     ]
    },
    {
     "data": {
      "text/plain": [
       "pollution        1.000000\n",
       "atmospherique    0.945017\n",
       "air              0.649351\n",
       "pics             0.589977\n",
       "villes           0.492929\n",
       "paris            0.444056\n",
       "sols             0.434010\n",
       "pesticides       0.430939\n",
       "ville            0.420408\n",
       "grandes          0.369565\n",
       "Name: pollution, dtype: float32"
      ]
     },
     "metadata": {},
     "output_type": "display_data"
    },
    {
     "name": "stdout",
     "output_type": "stream",
     "text": [
      "air\n"
     ]
    },
    {
     "data": {
      "text/plain": [
       "air             1.000000\n",
       "pollue          0.779703\n",
       "qualite         0.747630\n",
       "pollution       0.482121\n",
       "paris           0.409091\n",
       "pesticides      0.386740\n",
       "alimentation    0.370466\n",
       "sols            0.352792\n",
       "villes          0.343434\n",
       "ville           0.330612\n",
       "Name: air, dtype: float32"
      ]
     },
     "metadata": {},
     "output_type": "display_data"
    },
    {
     "name": "stdout",
     "output_type": "stream",
     "text": [
      "secheresse\n"
     ]
    },
    {
     "data": {
      "text/plain": [
       "secheresse    1.000000\n",
       "periodes      0.374610\n",
       "periode       0.346457\n",
       "inondation    0.338200\n",
       "pluie         0.309524\n",
       "pluies        0.268260\n",
       "sols          0.256345\n",
       "crues         0.252654\n",
       "jardin        0.241497\n",
       "episodes      0.227785\n",
       "Name: secheresse, dtype: float32"
      ]
     },
     "metadata": {},
     "output_type": "display_data"
    },
    {
     "name": "stdout",
     "output_type": "stream",
     "text": [
      "saisons\n"
     ]
    },
    {
     "data": {
      "text/plain": [
       "saisons         1.000000\n",
       "marquees        0.941748\n",
       "dereglement     0.317708\n",
       "modification    0.268170\n",
       "hiver           0.141571\n",
       "temperatures    0.130435\n",
       "insectes        0.111765\n",
       "especes         0.110797\n",
       "disparition     0.108735\n",
       "oiseaux         0.099030\n",
       "Name: saisons, dtype: float32"
      ]
     },
     "metadata": {},
     "output_type": "display_data"
    },
    {
     "name": "stdout",
     "output_type": "stream",
     "text": [
      "climatique\n"
     ]
    },
    {
     "data": {
      "text/plain": [
       "climatique       1.000000\n",
       "changement       0.625527\n",
       "rechauffement    0.582677\n",
       "dereglement      0.513021\n",
       "effets           0.377224\n",
       "touchee          0.347594\n",
       "quotidienne      0.339015\n",
       "touche           0.291028\n",
       "consequences     0.272265\n",
       "vie              0.258345\n",
       "Name: climatique, dtype: float32"
      ]
     },
     "metadata": {},
     "output_type": "display_data"
    },
    {
     "name": "stdout",
     "output_type": "stream",
     "text": [
      "climatiques\n"
     ]
    },
    {
     "data": {
      "text/plain": [
       "climatiques     1.000000\n",
       "evenements      0.687850\n",
       "dereglements    0.674731\n",
       "phenomenes      0.450562\n",
       "extremes        0.429892\n",
       "changements     0.333874\n",
       "violents        0.322009\n",
       "frequents       0.303030\n",
       "catastrophes    0.215463\n",
       "episodes        0.211514\n",
       "Name: climatiques, dtype: float32"
      ]
     },
     "metadata": {},
     "output_type": "display_data"
    },
    {
     "name": "stdout",
     "output_type": "stream",
     "text": [
      "eau\n"
     ]
    },
    {
     "data": {
      "text/plain": [
       "eau             1.000000\n",
       "manque          0.517572\n",
       "consommation    0.258228\n",
       "sols            0.256345\n",
       "jardin          0.183673\n",
       "qualite         0.156398\n",
       "air             0.134740\n",
       "secheresse      0.121241\n",
       "neige           0.111354\n",
       "periodes        0.111342\n",
       "Name: eau, dtype: float32"
      ]
     },
     "metadata": {},
     "output_type": "display_data"
    },
    {
     "name": "stdout",
     "output_type": "stream",
     "text": [
      "inondations\n"
     ]
    },
    {
     "data": {
      "text/plain": [
       "inondations     1.000000\n",
       "tempetes        0.273625\n",
       "secheresses     0.258286\n",
       "frequentes      0.193634\n",
       "violents        0.152142\n",
       "catastrophes    0.147022\n",
       "canicules       0.147013\n",
       "pluies          0.140770\n",
       "secheresse      0.127193\n",
       "phenomenes      0.122472\n",
       "Name: inondations, dtype: float32"
      ]
     },
     "metadata": {},
     "output_type": "display_data"
    },
    {
     "name": "stdout",
     "output_type": "stream",
     "text": [
      "changement\n"
     ]
    },
    {
     "data": {
      "text/plain": [
       "changement     1.000000\n",
       "climatique     0.465710\n",
       "quotidienne    0.299242\n",
       "touchee        0.286096\n",
       "touche         0.234136\n",
       "vie            0.224964\n",
       "quotidien      0.193490\n",
       "monde          0.181552\n",
       "tous           0.154011\n",
       "impact         0.153740\n",
       "Name: changement, dtype: float32"
      ]
     },
     "metadata": {},
     "output_type": "display_data"
    },
    {
     "name": "stdout",
     "output_type": "stream",
     "text": [
      "temperatures\n"
     ]
    },
    {
     "data": {
      "text/plain": [
       "temperatures    1.000000\n",
       "hausse          0.515275\n",
       "extremes        0.206471\n",
       "augmentation    0.196694\n",
       "hiver           0.108020\n",
       "saisons         0.089182\n",
       "tempetes        0.075458\n",
       "inondations     0.066592\n",
       "climatiques     0.060721\n",
       "eau             0.053850\n",
       "Name: temperatures, dtype: float32"
      ]
     },
     "metadata": {},
     "output_type": "display_data"
    },
    {
     "name": "stdout",
     "output_type": "stream",
     "text": [
      "disparition\n"
     ]
    },
    {
     "data": {
      "text/plain": [
       "disparition     1.000000\n",
       "animales        0.522546\n",
       "especes         0.520113\n",
       "abeilles        0.397746\n",
       "oiseaux         0.347645\n",
       "insectes        0.317647\n",
       "faune           0.237209\n",
       "biodiversite    0.195266\n",
       "dereglement     0.088542\n",
       "climatiques     0.081594\n",
       "Name: disparition, dtype: float32"
      ]
     },
     "metadata": {},
     "output_type": "display_data"
    },
    {
     "name": "stdout",
     "output_type": "stream",
     "text": [
      "chaleur\n"
     ]
    },
    {
     "data": {
      "text/plain": [
       "chaleur        1.000000\n",
       "forte          0.438272\n",
       "pics           0.321185\n",
       "periodes       0.115505\n",
       "secheresse     0.092105\n",
       "hiver          0.090835\n",
       "eau            0.076497\n",
       "inondations    0.058758\n",
       "pollution      0.045199\n",
       "air            0.042478\n",
       "Name: chaleur, dtype: float32"
      ]
     },
     "metadata": {},
     "output_type": "display_data"
    },
    {
     "name": "stdout",
     "output_type": "stream",
     "text": [
      "oiseaux\n"
     ]
    },
    {
     "data": {
      "text/plain": [
       "oiseaux         1.000000\n",
       "insectes        0.521849\n",
       "abeilles        0.455717\n",
       "disparition     0.306659\n",
       "jardin          0.251701\n",
       "animaux         0.224670\n",
       "especes         0.179958\n",
       "biodiversite    0.115385\n",
       "eau             0.064922\n",
       "saisons         0.059042\n",
       "Name: oiseaux, dtype: float32"
      ]
     },
     "metadata": {},
     "output_type": "display_data"
    },
    {
     "name": "stdout",
     "output_type": "stream",
     "text": [
      "canicule\n"
     ]
    },
    {
     "data": {
      "text/plain": [
       "canicule       1.000000\n",
       "periodes       0.175858\n",
       "episodes       0.167710\n",
       "secheresse     0.097744\n",
       "hiver          0.082651\n",
       "tempetes       0.080395\n",
       "inondations    0.076105\n",
       "pollution      0.041784\n",
       "air            0.039773\n",
       "visible        0.000000\n",
       "Name: canicule, dtype: float32"
      ]
     },
     "metadata": {},
     "output_type": "display_data"
    },
    {
     "name": "stdout",
     "output_type": "stream",
     "text": [
      "tempetes\n"
     ]
    },
    {
     "data": {
      "text/plain": [
       "tempetes       1.000000\n",
       "violentes      0.392617\n",
       "frequentes     0.238727\n",
       "inondations    0.217124\n",
       "secheresses    0.154286\n",
       "phenomenes     0.146067\n",
       "canicules      0.139937\n",
       "climatiques    0.098672\n",
       "canicule       0.080225\n",
       "secheresse     0.078634\n",
       "Name: tempetes, dtype: float32"
      ]
     },
     "metadata": {},
     "output_type": "display_data"
    },
    {
     "name": "stdout",
     "output_type": "stream",
     "text": [
      "especes\n"
     ]
    },
    {
     "data": {
      "text/plain": [
       "especes         1.000000\n",
       "animales        0.933687\n",
       "disparition     0.450214\n",
       "abeilles        0.214171\n",
       "oiseaux         0.176593\n",
       "insectes        0.151261\n",
       "biodiversite    0.106509\n",
       "changement      0.080072\n",
       "climatiques     0.078748\n",
       "climatique      0.072165\n",
       "Name: especes, dtype: float32"
      ]
     },
     "metadata": {},
     "output_type": "display_data"
    },
    {
     "name": "stdout",
     "output_type": "stream",
     "text": [
      "vie\n"
     ]
    },
    {
     "data": {
      "text/plain": [
       "vie            1.000000\n",
       "quotidienne    0.856061\n",
       "touchee        0.500000\n",
       "changement     0.186635\n",
       "tous           0.173262\n",
       "non            0.173045\n",
       "impact         0.162050\n",
       "monde          0.161054\n",
       "climatique     0.159570\n",
       "tout           0.144262\n",
       "Name: vie, dtype: float32"
      ]
     },
     "metadata": {},
     "output_type": "display_data"
    },
    {
     "name": "stdout",
     "output_type": "stream",
     "text": [
      "canicules\n"
     ]
    },
    {
     "data": {
      "text/plain": [
       "canicules       1.000000\n",
       "frequentes      0.222812\n",
       "secheresses     0.154286\n",
       "tempetes        0.125529\n",
       "inondations     0.104645\n",
       "climatiques     0.054554\n",
       "pollution       0.033548\n",
       "air             0.029762\n",
       "chauffage       0.000000\n",
       "caniculaires    0.000000\n",
       "Name: canicules, dtype: float32"
      ]
     },
     "metadata": {},
     "output_type": "display_data"
    },
    {
     "name": "stdout",
     "output_type": "stream",
     "text": [
      "sante\n"
     ]
    },
    {
     "data": {
      "text/plain": [
       "sante            1.000000\n",
       "problemes        0.329843\n",
       "impact           0.170360\n",
       "pollution        0.076939\n",
       "air              0.074675\n",
       "environnement    0.000000\n",
       "dereglements     0.000000\n",
       "chaud            0.000000\n",
       "caniculaires     0.000000\n",
       "produits         0.000000\n",
       "Name: sante, dtype: float32"
      ]
     },
     "metadata": {},
     "output_type": "display_data"
    },
    {
     "name": "stdout",
     "output_type": "stream",
     "text": [
      "climat\n"
     ]
    },
    {
     "data": {
      "text/plain": [
       "climat           1.000000\n",
       "change           0.383764\n",
       "changement       0.110777\n",
       "dereglement      0.088542\n",
       "saisons          0.042114\n",
       "pollution        0.039373\n",
       "air              0.032468\n",
       "environnement    0.000000\n",
       "dereglements     0.000000\n",
       "chaud            0.000000\n",
       "Name: climat, dtype: float32"
      ]
     },
     "metadata": {},
     "output_type": "display_data"
    }
   ],
   "source": [
    "for i in df_qu_4_one_hot.sum(axis=0).sort_values(ascending=False).head(20).index:\n",
    "    print(i)\n",
    "    display(df_confidence_4[i].sort_values(ascending=False).head(10))"
   ]
  },
  {
   "cell_type": "code",
   "execution_count": 36,
   "metadata": {
    "scrolled": true
   },
   "outputs": [
    {
     "name": "stdout",
     "output_type": "stream",
     "text": [
      "pollution\n"
     ]
    },
    {
     "data": {
      "text/plain": [
       "pollution        0.000201\n",
       "atmospherique    0.000190\n",
       "air              0.000130\n",
       "pics             0.000119\n",
       "villes           0.000099\n",
       "paris            0.000089\n",
       "sols             0.000087\n",
       "pesticides       0.000087\n",
       "ville            0.000084\n",
       "grandes          0.000074\n",
       "Name: pollution, dtype: float32"
      ]
     },
     "metadata": {},
     "output_type": "display_data"
    },
    {
     "name": "stdout",
     "output_type": "stream",
     "text": [
      "air\n"
     ]
    },
    {
     "data": {
      "text/plain": [
       "air             0.000271\n",
       "pollue          0.000211\n",
       "qualite         0.000202\n",
       "pollution       0.000130\n",
       "paris           0.000111\n",
       "pesticides      0.000105\n",
       "alimentation    0.000100\n",
       "sols            0.000095\n",
       "villes          0.000093\n",
       "ville           0.000089\n",
       "Name: air, dtype: float32"
      ]
     },
     "metadata": {},
     "output_type": "display_data"
    },
    {
     "name": "stdout",
     "output_type": "stream",
     "text": [
      "secheresse\n"
     ]
    },
    {
     "data": {
      "text/plain": [
       "secheresse    0.000313\n",
       "periodes      0.000117\n",
       "periode       0.000109\n",
       "inondation    0.000106\n",
       "pluie         0.000097\n",
       "pluies        0.000084\n",
       "sols          0.000080\n",
       "crues         0.000079\n",
       "jardin        0.000076\n",
       "episodes      0.000071\n",
       "Name: secheresse, dtype: float32"
      ]
     },
     "metadata": {},
     "output_type": "display_data"
    },
    {
     "name": "stdout",
     "output_type": "stream",
     "text": [
      "saisons\n"
     ]
    },
    {
     "data": {
      "text/plain": [
       "saisons         0.000413\n",
       "marquees        0.000389\n",
       "dereglement     0.000131\n",
       "modification    0.000111\n",
       "hiver           0.000058\n",
       "temperatures    0.000054\n",
       "insectes        0.000046\n",
       "especes         0.000046\n",
       "disparition     0.000045\n",
       "oiseaux         0.000041\n",
       "Name: saisons, dtype: float32"
      ]
     },
     "metadata": {},
     "output_type": "display_data"
    },
    {
     "name": "stdout",
     "output_type": "stream",
     "text": [
      "climatique\n"
     ]
    },
    {
     "data": {
      "text/plain": [
       "climatique       0.000448\n",
       "changement       0.000280\n",
       "rechauffement    0.000261\n",
       "dereglement      0.000230\n",
       "effets           0.000169\n",
       "touchee          0.000156\n",
       "quotidienne      0.000152\n",
       "touche           0.000130\n",
       "consequences     0.000122\n",
       "vie              0.000116\n",
       "Name: climatique, dtype: float32"
      ]
     },
     "metadata": {},
     "output_type": "display_data"
    },
    {
     "name": "stdout",
     "output_type": "stream",
     "text": [
      "climatiques\n"
     ]
    },
    {
     "data": {
      "text/plain": [
       "climatiques     0.000474\n",
       "evenements      0.000326\n",
       "dereglements    0.000320\n",
       "phenomenes      0.000214\n",
       "extremes        0.000204\n",
       "changements     0.000158\n",
       "violents        0.000153\n",
       "frequents       0.000144\n",
       "catastrophes    0.000102\n",
       "episodes        0.000100\n",
       "Name: climatiques, dtype: float32"
      ]
     },
     "metadata": {},
     "output_type": "display_data"
    },
    {
     "name": "stdout",
     "output_type": "stream",
     "text": [
      "eau\n"
     ]
    },
    {
     "data": {
      "text/plain": [
       "eau             0.000503\n",
       "manque          0.000260\n",
       "consommation    0.000130\n",
       "sols            0.000129\n",
       "jardin          0.000092\n",
       "qualite         0.000079\n",
       "air             0.000068\n",
       "secheresse      0.000061\n",
       "neige           0.000056\n",
       "periodes        0.000056\n",
       "Name: eau, dtype: float32"
      ]
     },
     "metadata": {},
     "output_type": "display_data"
    },
    {
     "name": "stdout",
     "output_type": "stream",
     "text": [
      "inondations\n"
     ]
    },
    {
     "data": {
      "text/plain": [
       "inondations     0.000560\n",
       "tempetes        0.000153\n",
       "secheresses     0.000145\n",
       "frequentes      0.000108\n",
       "violents        0.000085\n",
       "catastrophes    0.000082\n",
       "canicules       0.000082\n",
       "pluies          0.000079\n",
       "secheresse      0.000071\n",
       "phenomenes      0.000069\n",
       "Name: inondations, dtype: float32"
      ]
     },
     "metadata": {},
     "output_type": "display_data"
    },
    {
     "name": "stdout",
     "output_type": "stream",
     "text": [
      "changement\n"
     ]
    },
    {
     "data": {
      "text/plain": [
       "changement     0.000602\n",
       "climatique     0.000280\n",
       "quotidienne    0.000180\n",
       "touchee        0.000172\n",
       "touche         0.000141\n",
       "vie            0.000135\n",
       "quotidien      0.000116\n",
       "monde          0.000109\n",
       "tous           0.000093\n",
       "impact         0.000093\n",
       "Name: changement, dtype: float32"
      ]
     },
     "metadata": {},
     "output_type": "display_data"
    },
    {
     "name": "stdout",
     "output_type": "stream",
     "text": [
      "temperatures\n"
     ]
    },
    {
     "data": {
      "text/plain": [
       "temperatures    0.000604\n",
       "hausse          0.000311\n",
       "extremes        0.000125\n",
       "augmentation    0.000119\n",
       "hiver           0.000065\n",
       "saisons         0.000054\n",
       "tempetes        0.000046\n",
       "inondations     0.000040\n",
       "climatiques     0.000037\n",
       "eau             0.000033\n",
       "Name: temperatures, dtype: float32"
      ]
     },
     "metadata": {},
     "output_type": "display_data"
    },
    {
     "name": "stdout",
     "output_type": "stream",
     "text": [
      "disparition\n"
     ]
    },
    {
     "data": {
      "text/plain": [
       "disparition     0.000611\n",
       "animales        0.000319\n",
       "especes         0.000318\n",
       "abeilles        0.000243\n",
       "oiseaux         0.000212\n",
       "insectes        0.000194\n",
       "faune           0.000145\n",
       "biodiversite    0.000119\n",
       "dereglement     0.000054\n",
       "climatiques     0.000050\n",
       "Name: disparition, dtype: float32"
      ]
     },
     "metadata": {},
     "output_type": "display_data"
    },
    {
     "name": "stdout",
     "output_type": "stream",
     "text": [
      "chaleur\n"
     ]
    },
    {
     "data": {
      "text/plain": [
       "chaleur        0.000615\n",
       "forte          0.000270\n",
       "pics           0.000198\n",
       "periodes       0.000071\n",
       "secheresse     0.000057\n",
       "hiver          0.000056\n",
       "eau            0.000047\n",
       "inondations    0.000036\n",
       "pollution      0.000028\n",
       "air            0.000026\n",
       "Name: chaleur, dtype: float32"
      ]
     },
     "metadata": {},
     "output_type": "display_data"
    },
    {
     "name": "stdout",
     "output_type": "stream",
     "text": [
      "oiseaux\n"
     ]
    },
    {
     "data": {
      "text/plain": [
       "oiseaux         0.000693\n",
       "insectes        0.000361\n",
       "abeilles        0.000316\n",
       "disparition     0.000212\n",
       "jardin          0.000174\n",
       "animaux         0.000156\n",
       "especes         0.000125\n",
       "biodiversite    0.000080\n",
       "eau             0.000045\n",
       "saisons         0.000041\n",
       "Name: oiseaux, dtype: float32"
      ]
     },
     "metadata": {},
     "output_type": "display_data"
    },
    {
     "name": "stdout",
     "output_type": "stream",
     "text": [
      "canicule\n"
     ]
    },
    {
     "data": {
      "text/plain": [
       "canicule       0.000704\n",
       "periodes       0.000124\n",
       "episodes       0.000118\n",
       "secheresse     0.000069\n",
       "hiver          0.000058\n",
       "tempetes       0.000057\n",
       "inondations    0.000054\n",
       "pollution      0.000029\n",
       "air            0.000028\n",
       "frequents           NaN\n",
       "Name: canicule, dtype: float32"
      ]
     },
     "metadata": {},
     "output_type": "display_data"
    },
    {
     "name": "stdout",
     "output_type": "stream",
     "text": [
      "tempetes\n"
     ]
    },
    {
     "data": {
      "text/plain": [
       "tempetes       0.000705\n",
       "violentes      0.000277\n",
       "frequentes     0.000168\n",
       "inondations    0.000153\n",
       "secheresses    0.000109\n",
       "phenomenes     0.000103\n",
       "canicules      0.000099\n",
       "climatiques    0.000070\n",
       "canicule       0.000057\n",
       "secheresse     0.000055\n",
       "Name: tempetes, dtype: float32"
      ]
     },
     "metadata": {},
     "output_type": "display_data"
    },
    {
     "name": "stdout",
     "output_type": "stream",
     "text": [
      "especes\n"
     ]
    },
    {
     "data": {
      "text/plain": [
       "especes         0.000706\n",
       "animales        0.000659\n",
       "disparition     0.000318\n",
       "abeilles        0.000151\n",
       "oiseaux         0.000125\n",
       "insectes        0.000107\n",
       "biodiversite    0.000075\n",
       "changement      0.000057\n",
       "climatiques     0.000056\n",
       "climatique      0.000051\n",
       "Name: especes, dtype: float32"
      ]
     },
     "metadata": {},
     "output_type": "display_data"
    },
    {
     "name": "stdout",
     "output_type": "stream",
     "text": [
      "vie\n"
     ]
    },
    {
     "data": {
      "text/plain": [
       "vie            0.000726\n",
       "quotidienne    0.000621\n",
       "touchee        0.000363\n",
       "changement     0.000135\n",
       "tous           0.000126\n",
       "non            0.000126\n",
       "impact         0.000118\n",
       "monde          0.000117\n",
       "climatique     0.000116\n",
       "tout           0.000105\n",
       "Name: vie, dtype: float32"
      ]
     },
     "metadata": {},
     "output_type": "display_data"
    },
    {
     "name": "stdout",
     "output_type": "stream",
     "text": [
      "canicules\n"
     ]
    },
    {
     "data": {
      "text/plain": [
       "canicules      0.000786\n",
       "frequentes     0.000175\n",
       "secheresses    0.000121\n",
       "tempetes       0.000099\n",
       "inondations    0.000082\n",
       "climatiques    0.000043\n",
       "pollution      0.000026\n",
       "air            0.000023\n",
       "frequents           NaN\n",
       "petits              NaN\n",
       "Name: canicules, dtype: float32"
      ]
     },
     "metadata": {},
     "output_type": "display_data"
    },
    {
     "name": "stdout",
     "output_type": "stream",
     "text": [
      "sante\n"
     ]
    },
    {
     "data": {
      "text/plain": [
       "sante        0.000789\n",
       "problemes    0.000260\n",
       "impact       0.000134\n",
       "pollution    0.000061\n",
       "air          0.000059\n",
       "frequents         NaN\n",
       "petits            NaN\n",
       "cout              NaN\n",
       "froid             NaN\n",
       "difficile         NaN\n",
       "Name: sante, dtype: float32"
      ]
     },
     "metadata": {},
     "output_type": "display_data"
    },
    {
     "name": "stdout",
     "output_type": "stream",
     "text": [
      "climat\n"
     ]
    },
    {
     "data": {
      "text/plain": [
       "climat         0.000798\n",
       "change         0.000306\n",
       "changement     0.000088\n",
       "dereglement    0.000071\n",
       "saisons        0.000034\n",
       "pollution      0.000031\n",
       "air            0.000026\n",
       "frequents           NaN\n",
       "petits              NaN\n",
       "cout                NaN\n",
       "Name: climat, dtype: float32"
      ]
     },
     "metadata": {},
     "output_type": "display_data"
    }
   ],
   "source": [
    "for i in df_qu_4_one_hot.sum(axis=0).sort_values(ascending=False).head(20).index:\n",
    "    print(i)\n",
    "    display(df_lift_4[i].sort_values(ascending=False).head(10))"
   ]
  },
  {
   "cell_type": "code",
   "execution_count": 37,
   "metadata": {},
   "outputs": [
    {
     "data": {
      "text/plain": [
       "147"
      ]
     },
     "execution_count": 37,
     "metadata": {},
     "output_type": "execute_result"
    }
   ],
   "source": [
    "gc.collect()"
   ]
  },
  {
   "cell_type": "markdown",
   "metadata": {},
   "source": [
    "# Question 5 :  À titre personnel, pensez-vous pouvoir contribuer à protéger l'environnement ?"
   ]
  },
  {
   "cell_type": "code",
   "execution_count": 38,
   "metadata": {},
   "outputs": [],
   "source": [
    "question_5 = \"À titre personnel, pensez-vous pouvoir contribuer à protéger l'environnement ?\"\n",
    "qu_5,df_qu_5_one_hot,df_cov_5,df_confidence_5,df_lift_5 = compute_similarities(question_5, new_res)"
   ]
  },
  {
   "cell_type": "code",
   "execution_count": 39,
   "metadata": {
    "scrolled": true
   },
   "outputs": [
    {
     "name": "stdout",
     "output_type": "stream",
     "text": [
      "oui\n"
     ]
    },
    {
     "data": {
      "text/plain": [
       "oui    44761\n",
       "non        0\n",
       "Name: oui, dtype: uint16"
      ]
     },
     "metadata": {},
     "output_type": "display_data"
    },
    {
     "name": "stdout",
     "output_type": "stream",
     "text": [
      "non\n"
     ]
    },
    {
     "data": {
      "text/plain": [
       "non    2967\n",
       "oui       0\n",
       "Name: non, dtype: uint16"
      ]
     },
     "metadata": {},
     "output_type": "display_data"
    }
   ],
   "source": [
    "for i in df_qu_5_one_hot.sum(axis=0).sort_values(ascending=False).head(20).index:\n",
    "    print(i)\n",
    "    display(df_cov_5[i].sort_values(ascending=False).head(10))"
   ]
  },
  {
   "cell_type": "code",
   "execution_count": 40,
   "metadata": {
    "scrolled": true
   },
   "outputs": [
    {
     "name": "stdout",
     "output_type": "stream",
     "text": [
      "oui\n"
     ]
    },
    {
     "data": {
      "text/plain": [
       "oui    1.0\n",
       "non    0.0\n",
       "Name: oui, dtype: float32"
      ]
     },
     "metadata": {},
     "output_type": "display_data"
    },
    {
     "name": "stdout",
     "output_type": "stream",
     "text": [
      "non\n"
     ]
    },
    {
     "data": {
      "text/plain": [
       "non    1.0\n",
       "oui    0.0\n",
       "Name: non, dtype: float32"
      ]
     },
     "metadata": {},
     "output_type": "display_data"
    }
   ],
   "source": [
    "for i in df_qu_5_one_hot.sum(axis=0).sort_values(ascending=False).head(20).index:\n",
    "    print(i)\n",
    "    display(df_confidence_5[i].sort_values(ascending=False).head(10))"
   ]
  },
  {
   "cell_type": "code",
   "execution_count": 41,
   "metadata": {
    "scrolled": true
   },
   "outputs": [
    {
     "name": "stdout",
     "output_type": "stream",
     "text": [
      "oui\n"
     ]
    },
    {
     "data": {
      "text/plain": [
       "oui    0.000022\n",
       "non         NaN\n",
       "Name: oui, dtype: float32"
      ]
     },
     "metadata": {},
     "output_type": "display_data"
    },
    {
     "name": "stdout",
     "output_type": "stream",
     "text": [
      "non\n"
     ]
    },
    {
     "data": {
      "text/plain": [
       "non    0.000337\n",
       "oui         NaN\n",
       "Name: non, dtype: float32"
      ]
     },
     "metadata": {},
     "output_type": "display_data"
    }
   ],
   "source": [
    "for i in df_qu_5_one_hot.sum(axis=0).sort_values(ascending=False).head(20).index:\n",
    "    print(i)\n",
    "    display(df_lift_5[i].sort_values(ascending=False).head(10))"
   ]
  },
  {
   "cell_type": "code",
   "execution_count": 42,
   "metadata": {},
   "outputs": [
    {
     "data": {
      "text/plain": [
       "14"
      ]
     },
     "execution_count": 42,
     "metadata": {},
     "output_type": "execute_result"
    }
   ],
   "source": [
    "gc.collect()"
   ]
  },
  {
   "cell_type": "markdown",
   "metadata": {},
   "source": [
    "# Question 6 :  Si oui, que faites-vous aujourd'hui pour protéger l'environnement et/ou que pourriez-vous faire ?"
   ]
  },
  {
   "cell_type": "code",
   "execution_count": 43,
   "metadata": {
    "collapsed": true
   },
   "outputs": [],
   "source": [
    "question_6 = \"Si oui, que faites-vous aujourd'hui pour protéger l'environnement et/ou que pourriez-vous faire ?\"\n",
    "qu_6,df_qu_6_one_hot,df_cov_6,df_confidence_6,df_lift_6 = compute_similarities(question_6, new_res)"
   ]
  },
  {
   "cell_type": "code",
   "execution_count": 44,
   "metadata": {
    "scrolled": true
   },
   "outputs": [
    {
     "name": "stdout",
     "output_type": "stream",
     "text": [
      "dechets\n"
     ]
    },
    {
     "data": {
      "text/plain": [
       "dechets         13962\n",
       "tri              5985\n",
       "produits         3330\n",
       "voiture          3189\n",
       "consommation     3100\n",
       "eau              2747\n",
       "trie             2453\n",
       "bio              2450\n",
       "chauffage        2030\n",
       "transports       1903\n",
       "Name: dechets, dtype: uint16"
      ]
     },
     "metadata": {},
     "output_type": "display_data"
    },
    {
     "name": "stdout",
     "output_type": "stream",
     "text": [
      "tri\n"
     ]
    },
    {
     "data": {
      "text/plain": [
       "tri             12166\n",
       "dechets          5985\n",
       "selectif         4971\n",
       "consommation     2516\n",
       "produits         2455\n",
       "voiture          2376\n",
       "eau              2272\n",
       "utilisation      1879\n",
       "chauffage        1865\n",
       "bio              1707\n",
       "Name: tri, dtype: uint16"
      ]
     },
     "metadata": {},
     "output_type": "display_data"
    },
    {
     "name": "stdout",
     "output_type": "stream",
     "text": [
      "voiture\n"
     ]
    },
    {
     "data": {
      "text/plain": [
       "voiture         8953\n",
       "dechets         3189\n",
       "tri             2376\n",
       "produits        2007\n",
       "consommation    1857\n",
       "deplacements    1608\n",
       "eau             1602\n",
       "bio             1593\n",
       "chauffage       1546\n",
       "velo            1494\n",
       "Name: voiture, dtype: uint16"
      ]
     },
     "metadata": {},
     "output_type": "display_data"
    },
    {
     "name": "stdout",
     "output_type": "stream",
     "text": [
      "produits\n"
     ]
    },
    {
     "data": {
      "text/plain": [
       "produits        8715\n",
       "dechets         3330\n",
       "consommation    2765\n",
       "bio             2660\n",
       "tri             2455\n",
       "locaux          2191\n",
       "voiture         2007\n",
       "eau             1699\n",
       "transports      1401\n",
       "acheter         1395\n",
       "Name: produits, dtype: uint16"
      ]
     },
     "metadata": {},
     "output_type": "display_data"
    },
    {
     "name": "stdout",
     "output_type": "stream",
     "text": [
      "consommation\n"
     ]
    },
    {
     "data": {
      "text/plain": [
       "consommation    8619\n",
       "dechets         3100\n",
       "produits        2765\n",
       "tri             2516\n",
       "eau             2366\n",
       "bio             1894\n",
       "voiture         1857\n",
       "viande          1695\n",
       "chauffage       1384\n",
       "energie         1363\n",
       "Name: consommation, dtype: uint16"
      ]
     },
     "metadata": {},
     "output_type": "display_data"
    },
    {
     "name": "stdout",
     "output_type": "stream",
     "text": [
      "eau\n"
     ]
    },
    {
     "data": {
      "text/plain": [
       "eau             6724\n",
       "dechets         2747\n",
       "consommation    2366\n",
       "tri             2272\n",
       "electricite     1803\n",
       "produits        1699\n",
       "voiture         1602\n",
       "chauffage       1494\n",
       "bio             1180\n",
       "utilisation     1014\n",
       "Name: eau, dtype: uint16"
      ]
     },
     "metadata": {},
     "output_type": "display_data"
    },
    {
     "name": "stdout",
     "output_type": "stream",
     "text": [
      "bio\n"
     ]
    },
    {
     "data": {
      "text/plain": [
       "bio             6393\n",
       "produits        2660\n",
       "dechets         2450\n",
       "consommation    1894\n",
       "tri             1707\n",
       "voiture         1593\n",
       "local           1500\n",
       "eau             1180\n",
       "viande          1169\n",
       "velo            1084\n",
       "Name: bio, dtype: uint16"
      ]
     },
     "metadata": {},
     "output_type": "display_data"
    },
    {
     "name": "stdout",
     "output_type": "stream",
     "text": [
      "chauffage\n"
     ]
    },
    {
     "data": {
      "text/plain": [
       "chauffage       5567\n",
       "dechets         2030\n",
       "tri             1865\n",
       "voiture         1546\n",
       "eau             1494\n",
       "consommation    1384\n",
       "produits        1137\n",
       "bio              911\n",
       "maison           861\n",
       "deplacements     844\n",
       "Name: chauffage, dtype: uint16"
      ]
     },
     "metadata": {},
     "output_type": "display_data"
    },
    {
     "name": "stdout",
     "output_type": "stream",
     "text": [
      "transports\n"
     ]
    },
    {
     "data": {
      "text/plain": [
       "transports      5463\n",
       "commun          4038\n",
       "dechets         1903\n",
       "tri             1528\n",
       "produits        1401\n",
       "voiture         1376\n",
       "consommation    1298\n",
       "utilisation     1255\n",
       "velo            1048\n",
       "bio              988\n",
       "Name: transports, dtype: uint16"
      ]
     },
     "metadata": {},
     "output_type": "display_data"
    },
    {
     "name": "stdout",
     "output_type": "stream",
     "text": [
      "velo\n"
     ]
    },
    {
     "data": {
      "text/plain": [
       "velo            5309\n",
       "dechets         1742\n",
       "voiture         1494\n",
       "tri             1249\n",
       "produits        1195\n",
       "commun          1133\n",
       "consommation    1116\n",
       "deplacements    1107\n",
       "bio             1084\n",
       "transports      1048\n",
       "Name: velo, dtype: uint16"
      ]
     },
     "metadata": {},
     "output_type": "display_data"
    },
    {
     "name": "stdout",
     "output_type": "stream",
     "text": [
      "commun\n"
     ]
    },
    {
     "data": {
      "text/plain": [
       "commun          5137\n",
       "transports      4038\n",
       "dechets         1798\n",
       "tri             1472\n",
       "voiture         1328\n",
       "produits        1289\n",
       "consommation    1185\n",
       "transport       1175\n",
       "utilisation     1141\n",
       "velo            1133\n",
       "Name: commun, dtype: uint16"
      ]
     },
     "metadata": {},
     "output_type": "display_data"
    },
    {
     "name": "stdout",
     "output_type": "stream",
     "text": [
      "selectif\n"
     ]
    },
    {
     "data": {
      "text/plain": [
       "selectif        5132\n",
       "tri             4971\n",
       "consommation    1016\n",
       "voiture          991\n",
       "produits         949\n",
       "eau              929\n",
       "dechets          880\n",
       "chauffage        767\n",
       "utilisation      735\n",
       "transports       657\n",
       "Name: selectif, dtype: uint16"
      ]
     },
     "metadata": {},
     "output_type": "display_data"
    },
    {
     "name": "stdout",
     "output_type": "stream",
     "text": [
      "deplacements\n"
     ]
    },
    {
     "data": {
      "text/plain": [
       "deplacements    4563\n",
       "dechets         1672\n",
       "voiture         1608\n",
       "tri             1301\n",
       "consommation    1235\n",
       "velo            1107\n",
       "produits        1089\n",
       "chauffage        844\n",
       "eau              830\n",
       "limiter          768\n",
       "Name: deplacements, dtype: uint16"
      ]
     },
     "metadata": {},
     "output_type": "display_data"
    },
    {
     "name": "stdout",
     "output_type": "stream",
     "text": [
      "utilisation\n"
     ]
    },
    {
     "data": {
      "text/plain": [
       "utilisation     4326\n",
       "tri             1879\n",
       "dechets         1780\n",
       "produits        1366\n",
       "transports      1255\n",
       "voiture         1246\n",
       "commun          1141\n",
       "consommation    1140\n",
       "eau             1014\n",
       "chauffage        820\n",
       "Name: utilisation, dtype: uint16"
      ]
     },
     "metadata": {},
     "output_type": "display_data"
    },
    {
     "name": "stdout",
     "output_type": "stream",
     "text": [
      "faire\n"
     ]
    },
    {
     "data": {
      "text/plain": [
       "faire           4023\n",
       "dechets         1450\n",
       "voiture         1082\n",
       "tri             1024\n",
       "produits        1022\n",
       "eau              909\n",
       "consommation     898\n",
       "bio              729\n",
       "velo             619\n",
       "acheter          603\n",
       "Name: faire, dtype: uint16"
      ]
     },
     "metadata": {},
     "output_type": "display_data"
    },
    {
     "name": "stdout",
     "output_type": "stream",
     "text": [
      "energie\n"
     ]
    },
    {
     "data": {
      "text/plain": [
       "energie         3615\n",
       "consommation    1363\n",
       "dechets         1328\n",
       "tri             1063\n",
       "eau              939\n",
       "produits         785\n",
       "voiture          666\n",
       "economie         582\n",
       "bio              567\n",
       "chauffage        548\n",
       "Name: energie, dtype: uint16"
      ]
     },
     "metadata": {},
     "output_type": "display_data"
    },
    {
     "name": "stdout",
     "output_type": "stream",
     "text": [
      "maison\n"
     ]
    },
    {
     "data": {
      "text/plain": [
       "maison          3481\n",
       "dechets         1259\n",
       "voiture         1077\n",
       "produits         974\n",
       "isolation        882\n",
       "tri              875\n",
       "eau              874\n",
       "chauffage        861\n",
       "consommation     773\n",
       "bio              771\n",
       "Name: maison, dtype: uint16"
      ]
     },
     "metadata": {},
     "output_type": "display_data"
    },
    {
     "name": "stdout",
     "output_type": "stream",
     "text": [
      "local\n"
     ]
    },
    {
     "data": {
      "text/plain": [
       "local           3388\n",
       "bio             1500\n",
       "dechets         1221\n",
       "produits         876\n",
       "voiture          847\n",
       "consommer        841\n",
       "consommation     798\n",
       "acheter          727\n",
       "achete           664\n",
       "tri              611\n",
       "Name: local, dtype: uint16"
      ]
     },
     "metadata": {},
     "output_type": "display_data"
    },
    {
     "name": "stdout",
     "output_type": "stream",
     "text": [
      "viande\n"
     ]
    },
    {
     "data": {
      "text/plain": [
       "viande          3274\n",
       "consommation    1695\n",
       "produits        1225\n",
       "dechets         1172\n",
       "bio             1169\n",
       "voiture          938\n",
       "tri              691\n",
       "mange            676\n",
       "velo             655\n",
       "eau              619\n",
       "Name: viande, dtype: uint16"
      ]
     },
     "metadata": {},
     "output_type": "display_data"
    },
    {
     "name": "stdout",
     "output_type": "stream",
     "text": [
      "trie\n"
     ]
    },
    {
     "data": {
      "text/plain": [
       "trie            3168\n",
       "dechets         2453\n",
       "voiture          849\n",
       "produits         777\n",
       "utilise          695\n",
       "achete           655\n",
       "eau              644\n",
       "bio              633\n",
       "consommation     538\n",
       "commun           442\n",
       "Name: trie, dtype: uint16"
      ]
     },
     "metadata": {},
     "output_type": "display_data"
    }
   ],
   "source": [
    "for i in df_qu_6_one_hot.sum(axis=0).sort_values(ascending=False).head(20).index:\n",
    "    print(i)\n",
    "    display(df_cov_6[i].sort_values(ascending=False).head(10))"
   ]
  },
  {
   "cell_type": "code",
   "execution_count": 45,
   "metadata": {
    "scrolled": true
   },
   "outputs": [
    {
     "name": "stdout",
     "output_type": "stream",
     "text": [
      "dechets\n"
     ]
    },
    {
     "data": {
      "text/plain": [
       "dechets      1.000000\n",
       "trier        0.795552\n",
       "ramassage    0.781690\n",
       "trie         0.774306\n",
       "verts        0.754658\n",
       "ramasse      0.747692\n",
       "vegetaux     0.685606\n",
       "gestion      0.675393\n",
       "menagers     0.659062\n",
       "composte     0.625641\n",
       "Name: dechets, dtype: float32"
      ]
     },
     "metadata": {},
     "output_type": "display_data"
    },
    {
     "name": "stdout",
     "output_type": "stream",
     "text": [
      "tri\n"
     ]
    },
    {
     "data": {
      "text/plain": [
       "tri           1.000000\n",
       "selectif      0.968628\n",
       "menageres     0.656028\n",
       "ordures       0.614424\n",
       "respect       0.538265\n",
       "compostage    0.524862\n",
       "ramassage     0.503521\n",
       "economie      0.494737\n",
       "limitation    0.469981\n",
       "poubelles     0.463796\n",
       "Name: tri, dtype: float32"
      ]
     },
     "metadata": {},
     "output_type": "display_data"
    },
    {
     "name": "stdout",
     "output_type": "stream",
     "text": [
      "voiture\n"
     ]
    },
    {
     "data": {
      "text/plain": [
       "voiture      1.000000\n",
       "polluante    0.675182\n",
       "hybride      0.547619\n",
       "petite       0.539823\n",
       "prendre      0.479670\n",
       "trajets      0.466296\n",
       "essence      0.462887\n",
       "lieu         0.445693\n",
       "train        0.445600\n",
       "bus          0.441860\n",
       "Name: voiture, dtype: float32"
      ]
     },
     "metadata": {},
     "output_type": "display_data"
    },
    {
     "name": "stdout",
     "output_type": "stream",
     "text": [
      "produits\n"
     ]
    },
    {
     "data": {
      "text/plain": [
       "produits       1.000000\n",
       "emballes       0.920266\n",
       "transformes    0.901060\n",
       "issus          0.870370\n",
       "chimiques      0.831625\n",
       "locaux         0.795281\n",
       "naturels       0.752998\n",
       "huile          0.664151\n",
       "respectueux    0.660920\n",
       "entretien      0.657420\n",
       "Name: produits, dtype: float32"
      ]
     },
     "metadata": {},
     "output_type": "display_data"
    },
    {
     "name": "stdout",
     "output_type": "stream",
     "text": [
      "consommation\n"
     ]
    },
    {
     "data": {
      "text/plain": [
       "consommation    1.000000\n",
       "basse           0.810976\n",
       "biens           0.591772\n",
       "locale          0.581502\n",
       "raisonnee       0.571200\n",
       "viande          0.517715\n",
       "energetique     0.517241\n",
       "reduit          0.516199\n",
       "diminution      0.514443\n",
       "faible          0.513433\n",
       "Name: consommation, dtype: float32"
      ]
     },
     "metadata": {},
     "output_type": "display_data"
    },
    {
     "name": "stdout",
     "output_type": "stream",
     "text": [
      "eau\n"
     ]
    },
    {
     "data": {
      "text/plain": [
       "eau             1.000000\n",
       "chaude          0.984710\n",
       "pluie           0.889117\n",
       "recupere        0.787645\n",
       "economise       0.735714\n",
       "arrosage        0.703704\n",
       "recuperation    0.693878\n",
       "douche          0.650873\n",
       "economiser      0.609428\n",
       "electricite     0.601602\n",
       "Name: eau, dtype: float32"
      ]
     },
     "metadata": {},
     "output_type": "display_data"
    },
    {
     "name": "stdout",
     "output_type": "stream",
     "text": [
      "bio\n"
     ]
    },
    {
     "data": {
      "text/plain": [
       "bio             1.000000\n",
       "mange           0.534918\n",
       "manger          0.501621\n",
       "preference      0.483986\n",
       "local           0.442739\n",
       "fournisseur     0.429630\n",
       "alimentation    0.423717\n",
       "vrac            0.413824\n",
       "transformes     0.413428\n",
       "poisson         0.403509\n",
       "Name: bio, dtype: float32"
      ]
     },
     "metadata": {},
     "output_type": "display_data"
    },
    {
     "name": "stdout",
     "output_type": "stream",
     "text": [
      "chauffage\n"
     ]
    },
    {
     "data": {
      "text/plain": [
       "chauffage    1.000000\n",
       "19           0.537415\n",
       "nuit         0.532258\n",
       "baisse       0.512456\n",
       "bois         0.508350\n",
       "eclairage    0.498246\n",
       "granules     0.472222\n",
       "chaude       0.458716\n",
       "18           0.437700\n",
       "systeme      0.414634\n",
       "Name: chauffage, dtype: float32"
      ]
     },
     "metadata": {},
     "output_type": "display_data"
    },
    {
     "name": "stdout",
     "output_type": "stream",
     "text": [
      "transports\n"
     ]
    },
    {
     "data": {
      "text/plain": [
       "transports     1.000000\n",
       "communs        0.914607\n",
       "commun         0.786062\n",
       "publics        0.565079\n",
       "prends         0.377633\n",
       "privilegier    0.336798\n",
       "prendre        0.311538\n",
       "marche         0.302326\n",
       "privilegie     0.291956\n",
       "utilisation    0.290106\n",
       "Name: transports, dtype: float32"
      ]
     },
     "metadata": {},
     "output_type": "display_data"
    },
    {
     "name": "stdout",
     "output_type": "stream",
     "text": [
      "velo\n"
     ]
    },
    {
     "data": {
      "text/plain": [
       "velo           1.000000\n",
       "deplace        0.566017\n",
       "pieds          0.432532\n",
       "trajet         0.432432\n",
       "pied           0.425847\n",
       "deplacement    0.416096\n",
       "distances      0.409794\n",
       "travail        0.409639\n",
       "deplacer       0.409346\n",
       "bus            0.406977\n",
       "Name: velo, dtype: float32"
      ]
     },
     "metadata": {},
     "output_type": "display_data"
    },
    {
     "name": "stdout",
     "output_type": "stream",
     "text": [
      "commun\n"
     ]
    },
    {
     "data": {
      "text/plain": [
       "commun         1.000000\n",
       "transports     0.739154\n",
       "transport      0.608493\n",
       "prends         0.339869\n",
       "marche         0.292050\n",
       "privilegier    0.282744\n",
       "prendre        0.276374\n",
       "ville          0.275680\n",
       "utilisation    0.263754\n",
       "privilegie     0.260179\n",
       "Name: commun, dtype: float32"
      ]
     },
     "metadata": {},
     "output_type": "display_data"
    },
    {
     "name": "stdout",
     "output_type": "stream",
     "text": [
      "selectif\n"
     ]
    },
    {
     "data": {
      "text/plain": [
       "selectif        1.000000\n",
       "tri             0.408598\n",
       "pratique        0.311909\n",
       "respect         0.266582\n",
       "compostage      0.211326\n",
       "economie        0.205614\n",
       "conduite        0.195822\n",
       "recuperation    0.186395\n",
       "limitation      0.183990\n",
       "utilisation     0.169903\n",
       "Name: selectif, dtype: float32"
      ]
     },
     "metadata": {},
     "output_type": "display_data"
    },
    {
     "name": "stdout",
     "output_type": "stream",
     "text": [
      "deplacements\n"
     ]
    },
    {
     "data": {
      "text/plain": [
       "deplacements    1.000000\n",
       "limite          0.340633\n",
       "quotidiens      0.336957\n",
       "inutiles        0.334342\n",
       "limiter         0.310052\n",
       "limitation      0.298257\n",
       "pieds           0.256932\n",
       "pied            0.243114\n",
       "avion           0.235547\n",
       "reduis          0.224359\n",
       "Name: deplacements, dtype: float32"
      ]
     },
     "metadata": {},
     "output_type": "display_data"
    },
    {
     "name": "stdout",
     "output_type": "stream",
     "text": [
      "utilisation\n"
     ]
    },
    {
     "data": {
      "text/plain": [
       "utilisation    1.000000\n",
       "raisonnee      0.280000\n",
       "diminution     0.266850\n",
       "limitation     0.252421\n",
       "reduction      0.241928\n",
       "chimiques      0.241581\n",
       "pesticides     0.241158\n",
       "transports     0.229727\n",
       "menagers       0.229404\n",
       "commun         0.222114\n",
       "Name: utilisation, dtype: float32"
      ]
     },
     "metadata": {},
     "output_type": "display_data"
    },
    {
     "name": "stdout",
     "output_type": "stream",
     "text": [
      "faire\n"
     ]
    },
    {
     "data": {
      "text/plain": [
       "faire       1.000000\n",
       "chose       0.392045\n",
       "courses     0.349070\n",
       "choses      0.322148\n",
       "faut        0.315522\n",
       "aimerais    0.307479\n",
       "reparer     0.293103\n",
       "temps       0.290441\n",
       "pouvoir     0.290435\n",
       "grand       0.286932\n",
       "Name: faire, dtype: float32"
      ]
     },
     "metadata": {},
     "output_type": "display_data"
    },
    {
     "name": "stdout",
     "output_type": "stream",
     "text": [
      "energie\n"
     ]
    },
    {
     "data": {
      "text/plain": [
       "energie          1.000000\n",
       "renouvelable     0.695364\n",
       "economies        0.500000\n",
       "fournisseur      0.425926\n",
       "economie         0.408421\n",
       "verte            0.364912\n",
       "economiser       0.328283\n",
       "consommations    0.234899\n",
       "solaire          0.209055\n",
       "production       0.202999\n",
       "Name: energie, dtype: float32"
      ]
     },
     "metadata": {},
     "output_type": "display_data"
    },
    {
     "name": "stdout",
     "output_type": "stream",
     "text": [
      "maison\n"
     ]
    },
    {
     "data": {
      "text/plain": [
       "maison       1.000000\n",
       "isolee       0.949416\n",
       "isoler       0.473684\n",
       "isole        0.453094\n",
       "poele        0.342790\n",
       "travaux      0.332353\n",
       "18           0.329073\n",
       "isolation    0.327394\n",
       "bois         0.281897\n",
       "panneaux     0.265810\n",
       "Name: maison, dtype: float32"
      ]
     },
     "metadata": {},
     "output_type": "display_data"
    },
    {
     "name": "stdout",
     "output_type": "stream",
     "text": [
      "local\n"
     ]
    },
    {
     "data": {
      "text/plain": [
       "local        1.000000\n",
       "manger       0.316856\n",
       "consommer    0.309191\n",
       "mange        0.285290\n",
       "consomme     0.284427\n",
       "acheter      0.244616\n",
       "saison       0.242718\n",
       "occasion     0.240048\n",
       "bio          0.234632\n",
       "achete       0.233968\n",
       "Name: local, dtype: float32"
      ]
     },
     "metadata": {},
     "output_type": "display_data"
    },
    {
     "name": "stdout",
     "output_type": "stream",
     "text": [
      "viande\n"
     ]
    },
    {
     "data": {
      "text/plain": [
       "viande     1.000000\n",
       "poisson    0.912281\n",
       "mange      0.502229\n",
       "semaine    0.481390\n",
       "manger     0.411669\n",
       "reduit     0.347732\n",
       "issus      0.327161\n",
       "qualite    0.283505\n",
       "reduis     0.266026\n",
       "fruits     0.252014\n",
       "Name: viande, dtype: float32"
      ]
     },
     "metadata": {},
     "output_type": "display_data"
    },
    {
     "name": "stdout",
     "output_type": "stream",
     "text": [
      "trie\n"
     ]
    },
    {
     "data": {
      "text/plain": [
       "trie         1.000000\n",
       "economise    0.330952\n",
       "jette        0.314587\n",
       "composte     0.296154\n",
       "roule        0.240244\n",
       "achete       0.230796\n",
       "mange        0.226597\n",
       "evite        0.226532\n",
       "utilise      0.222329\n",
       "chauffe      0.217749\n",
       "Name: trie, dtype: float32"
      ]
     },
     "metadata": {},
     "output_type": "display_data"
    }
   ],
   "source": [
    "for i in df_qu_6_one_hot.sum(axis=0).sort_values(ascending=False).head(20).index:\n",
    "    print(i)\n",
    "    display(df_confidence_6[i].sort_values(ascending=False).head(10))"
   ]
  },
  {
   "cell_type": "code",
   "execution_count": 46,
   "metadata": {
    "scrolled": true
   },
   "outputs": [
    {
     "name": "stdout",
     "output_type": "stream",
     "text": [
      "dechets\n"
     ]
    },
    {
     "data": {
      "text/plain": [
       "dechets      0.000072\n",
       "trier        0.000057\n",
       "ramassage    0.000056\n",
       "trie         0.000055\n",
       "verts        0.000054\n",
       "ramasse      0.000054\n",
       "vegetaux     0.000049\n",
       "gestion      0.000048\n",
       "menagers     0.000047\n",
       "composte     0.000045\n",
       "Name: dechets, dtype: float32"
      ]
     },
     "metadata": {},
     "output_type": "display_data"
    },
    {
     "name": "stdout",
     "output_type": "stream",
     "text": [
      "tri\n"
     ]
    },
    {
     "data": {
      "text/plain": [
       "tri           0.000082\n",
       "selectif      0.000080\n",
       "menageres     0.000054\n",
       "ordures       0.000051\n",
       "respect       0.000044\n",
       "compostage    0.000043\n",
       "ramassage     0.000041\n",
       "economie      0.000041\n",
       "limitation    0.000039\n",
       "poubelles     0.000038\n",
       "Name: tri, dtype: float32"
      ]
     },
     "metadata": {},
     "output_type": "display_data"
    },
    {
     "name": "stdout",
     "output_type": "stream",
     "text": [
      "voiture\n"
     ]
    },
    {
     "data": {
      "text/plain": [
       "voiture      0.000112\n",
       "polluante    0.000075\n",
       "hybride      0.000061\n",
       "petite       0.000060\n",
       "prendre      0.000054\n",
       "trajets      0.000052\n",
       "essence      0.000052\n",
       "lieu         0.000050\n",
       "train        0.000050\n",
       "bus          0.000049\n",
       "Name: voiture, dtype: float32"
      ]
     },
     "metadata": {},
     "output_type": "display_data"
    },
    {
     "name": "stdout",
     "output_type": "stream",
     "text": [
      "produits\n"
     ]
    },
    {
     "data": {
      "text/plain": [
       "produits       0.000115\n",
       "emballes       0.000106\n",
       "transformes    0.000103\n",
       "issus          0.000100\n",
       "chimiques      0.000095\n",
       "locaux         0.000091\n",
       "naturels       0.000086\n",
       "huile          0.000076\n",
       "respectueux    0.000076\n",
       "entretien      0.000075\n",
       "Name: produits, dtype: float32"
      ]
     },
     "metadata": {},
     "output_type": "display_data"
    },
    {
     "name": "stdout",
     "output_type": "stream",
     "text": [
      "consommation\n"
     ]
    },
    {
     "data": {
      "text/plain": [
       "consommation    0.000116\n",
       "basse           0.000094\n",
       "biens           0.000069\n",
       "locale          0.000067\n",
       "raisonnee       0.000066\n",
       "viande          0.000060\n",
       "energetique     0.000060\n",
       "reduit          0.000060\n",
       "diminution      0.000060\n",
       "faible          0.000060\n",
       "Name: consommation, dtype: float32"
      ]
     },
     "metadata": {},
     "output_type": "display_data"
    },
    {
     "name": "stdout",
     "output_type": "stream",
     "text": [
      "eau\n"
     ]
    },
    {
     "data": {
      "text/plain": [
       "eau             0.000149\n",
       "chaude          0.000146\n",
       "pluie           0.000132\n",
       "recupere        0.000117\n",
       "economise       0.000109\n",
       "arrosage        0.000105\n",
       "recuperation    0.000103\n",
       "douche          0.000097\n",
       "economiser      0.000091\n",
       "electricite     0.000089\n",
       "Name: eau, dtype: float32"
      ]
     },
     "metadata": {},
     "output_type": "display_data"
    },
    {
     "name": "stdout",
     "output_type": "stream",
     "text": [
      "bio\n"
     ]
    },
    {
     "data": {
      "text/plain": [
       "bio             0.000156\n",
       "mange           0.000084\n",
       "manger          0.000078\n",
       "preference      0.000076\n",
       "local           0.000069\n",
       "fournisseur     0.000067\n",
       "alimentation    0.000066\n",
       "vrac            0.000065\n",
       "transformes     0.000065\n",
       "poisson         0.000063\n",
       "Name: bio, dtype: float32"
      ]
     },
     "metadata": {},
     "output_type": "display_data"
    },
    {
     "name": "stdout",
     "output_type": "stream",
     "text": [
      "chauffage\n"
     ]
    },
    {
     "data": {
      "text/plain": [
       "chauffage    0.000180\n",
       "19           0.000097\n",
       "nuit         0.000096\n",
       "baisse       0.000092\n",
       "bois         0.000091\n",
       "eclairage    0.000089\n",
       "granules     0.000085\n",
       "chaude       0.000082\n",
       "18           0.000079\n",
       "systeme      0.000074\n",
       "Name: chauffage, dtype: float32"
      ]
     },
     "metadata": {},
     "output_type": "display_data"
    },
    {
     "name": "stdout",
     "output_type": "stream",
     "text": [
      "transports\n"
     ]
    },
    {
     "data": {
      "text/plain": [
       "transports     0.000183\n",
       "communs        0.000167\n",
       "commun         0.000144\n",
       "publics        0.000103\n",
       "prends         0.000069\n",
       "privilegier    0.000062\n",
       "prendre        0.000057\n",
       "marche         0.000055\n",
       "privilegie     0.000053\n",
       "utilisation    0.000053\n",
       "Name: transports, dtype: float32"
      ]
     },
     "metadata": {},
     "output_type": "display_data"
    },
    {
     "name": "stdout",
     "output_type": "stream",
     "text": [
      "velo\n"
     ]
    },
    {
     "data": {
      "text/plain": [
       "velo           0.000188\n",
       "deplace        0.000107\n",
       "pieds          0.000081\n",
       "trajet         0.000081\n",
       "pied           0.000080\n",
       "deplacement    0.000078\n",
       "distances      0.000077\n",
       "travail        0.000077\n",
       "deplacer       0.000077\n",
       "bus            0.000077\n",
       "Name: velo, dtype: float32"
      ]
     },
     "metadata": {},
     "output_type": "display_data"
    },
    {
     "name": "stdout",
     "output_type": "stream",
     "text": [
      "commun\n"
     ]
    },
    {
     "data": {
      "text/plain": [
       "commun         0.000195\n",
       "transports     0.000144\n",
       "transport      0.000118\n",
       "prends         0.000066\n",
       "marche         0.000057\n",
       "privilegier    0.000055\n",
       "prendre        0.000054\n",
       "ville          0.000054\n",
       "utilisation    0.000051\n",
       "privilegie     0.000051\n",
       "Name: commun, dtype: float32"
      ]
     },
     "metadata": {},
     "output_type": "display_data"
    },
    {
     "name": "stdout",
     "output_type": "stream",
     "text": [
      "selectif\n"
     ]
    },
    {
     "data": {
      "text/plain": [
       "selectif        0.000195\n",
       "tri             0.000080\n",
       "pratique        0.000061\n",
       "respect         0.000052\n",
       "compostage      0.000041\n",
       "economie        0.000040\n",
       "conduite        0.000038\n",
       "recuperation    0.000036\n",
       "limitation      0.000036\n",
       "utilisation     0.000033\n",
       "Name: selectif, dtype: float32"
      ]
     },
     "metadata": {},
     "output_type": "display_data"
    },
    {
     "name": "stdout",
     "output_type": "stream",
     "text": [
      "deplacements\n"
     ]
    },
    {
     "data": {
      "text/plain": [
       "deplacements    0.000219\n",
       "limite          0.000075\n",
       "quotidiens      0.000074\n",
       "inutiles        0.000073\n",
       "limiter         0.000068\n",
       "limitation      0.000065\n",
       "pieds           0.000056\n",
       "pied            0.000053\n",
       "avion           0.000052\n",
       "reduis          0.000049\n",
       "Name: deplacements, dtype: float32"
      ]
     },
     "metadata": {},
     "output_type": "display_data"
    },
    {
     "name": "stdout",
     "output_type": "stream",
     "text": [
      "utilisation\n"
     ]
    },
    {
     "data": {
      "text/plain": [
       "utilisation    0.000231\n",
       "raisonnee      0.000065\n",
       "diminution     0.000062\n",
       "limitation     0.000058\n",
       "reduction      0.000056\n",
       "chimiques      0.000056\n",
       "pesticides     0.000056\n",
       "transports     0.000053\n",
       "menagers       0.000053\n",
       "commun         0.000051\n",
       "Name: utilisation, dtype: float32"
      ]
     },
     "metadata": {},
     "output_type": "display_data"
    },
    {
     "name": "stdout",
     "output_type": "stream",
     "text": [
      "faire\n"
     ]
    },
    {
     "data": {
      "text/plain": [
       "faire       0.000249\n",
       "chose       0.000097\n",
       "courses     0.000087\n",
       "choses      0.000080\n",
       "faut        0.000078\n",
       "aimerais    0.000076\n",
       "reparer     0.000073\n",
       "temps       0.000072\n",
       "pouvoir     0.000072\n",
       "grand       0.000071\n",
       "Name: faire, dtype: float32"
      ]
     },
     "metadata": {},
     "output_type": "display_data"
    },
    {
     "name": "stdout",
     "output_type": "stream",
     "text": [
      "energie\n"
     ]
    },
    {
     "data": {
      "text/plain": [
       "energie          0.000277\n",
       "renouvelable     0.000192\n",
       "economies        0.000138\n",
       "fournisseur      0.000118\n",
       "economie         0.000113\n",
       "verte            0.000101\n",
       "economiser       0.000091\n",
       "consommations    0.000065\n",
       "solaire          0.000058\n",
       "production       0.000056\n",
       "Name: energie, dtype: float32"
      ]
     },
     "metadata": {},
     "output_type": "display_data"
    },
    {
     "name": "stdout",
     "output_type": "stream",
     "text": [
      "maison\n"
     ]
    },
    {
     "data": {
      "text/plain": [
       "maison       0.000287\n",
       "isolee       0.000273\n",
       "isoler       0.000136\n",
       "isole        0.000130\n",
       "poele        0.000098\n",
       "travaux      0.000095\n",
       "18           0.000095\n",
       "isolation    0.000094\n",
       "bois         0.000081\n",
       "panneaux     0.000076\n",
       "Name: maison, dtype: float32"
      ]
     },
     "metadata": {},
     "output_type": "display_data"
    },
    {
     "name": "stdout",
     "output_type": "stream",
     "text": [
      "local\n"
     ]
    },
    {
     "data": {
      "text/plain": [
       "local        0.000295\n",
       "manger       0.000094\n",
       "consommer    0.000091\n",
       "mange        0.000084\n",
       "consomme     0.000084\n",
       "acheter      0.000072\n",
       "saison       0.000072\n",
       "occasion     0.000071\n",
       "bio          0.000069\n",
       "achete       0.000069\n",
       "Name: local, dtype: float32"
      ]
     },
     "metadata": {},
     "output_type": "display_data"
    },
    {
     "name": "stdout",
     "output_type": "stream",
     "text": [
      "viande\n"
     ]
    },
    {
     "data": {
      "text/plain": [
       "viande     0.000305\n",
       "poisson    0.000279\n",
       "mange      0.000153\n",
       "semaine    0.000147\n",
       "manger     0.000126\n",
       "reduit     0.000106\n",
       "issus      0.000100\n",
       "qualite    0.000087\n",
       "reduis     0.000081\n",
       "fruits     0.000077\n",
       "Name: viande, dtype: float32"
      ]
     },
     "metadata": {},
     "output_type": "display_data"
    },
    {
     "name": "stdout",
     "output_type": "stream",
     "text": [
      "trie\n"
     ]
    },
    {
     "data": {
      "text/plain": [
       "trie         0.000316\n",
       "economise    0.000104\n",
       "jette        0.000099\n",
       "composte     0.000093\n",
       "roule        0.000076\n",
       "achete       0.000073\n",
       "mange        0.000072\n",
       "evite        0.000072\n",
       "utilise      0.000070\n",
       "chauffe      0.000069\n",
       "Name: trie, dtype: float32"
      ]
     },
     "metadata": {},
     "output_type": "display_data"
    }
   ],
   "source": [
    "for i in df_qu_6_one_hot.sum(axis=0).sort_values(ascending=False).head(20).index:\n",
    "    print(i)\n",
    "    display(df_lift_6[i].sort_values(ascending=False).head(10))"
   ]
  },
  {
   "cell_type": "code",
   "execution_count": 47,
   "metadata": {},
   "outputs": [
    {
     "data": {
      "text/plain": [
       "105"
      ]
     },
     "execution_count": 47,
     "metadata": {},
     "output_type": "execute_result"
    }
   ],
   "source": [
    "gc.collect()"
   ]
  },
  {
   "cell_type": "markdown",
   "metadata": {},
   "source": [
    "# Question 7 : Qu'est-ce qui pourrait vous inciter à changer vos comportements comme par exemple mieux entretenir et régler votre chauffage, modifier votre manière de conduire ou renoncer à prendre votre véhicule pour de très petites distances ?"
   ]
  },
  {
   "cell_type": "code",
   "execution_count": 48,
   "metadata": {
    "collapsed": true
   },
   "outputs": [],
   "source": [
    "question_7 = \"Qu'est-ce qui pourrait vous inciter à changer vos comportements comme par exemple mieux entretenir et régler votre chauffage, modifier votre manière de conduire ou renoncer à prendre votre véhicule pour de très petites distances ?\"\n",
    "qu_7,df_qu_7_one_hot,df_cov_7,df_confidence_7,df_lift_7 = compute_similarities(question_7, new_res)"
   ]
  },
  {
   "cell_type": "code",
   "execution_count": 49,
   "metadata": {
    "scrolled": true
   },
   "outputs": [
    {
     "name": "stdout",
     "output_type": "stream",
     "text": [
      "transports\n"
     ]
    },
    {
     "data": {
      "text/plain": [
       "transports    7063\n",
       "commun        4463\n",
       "voiture       1224\n",
       "chauffage      909\n",
       "communs        722\n",
       "developper     683\n",
       "cyclables      639\n",
       "bus            622\n",
       "vehicule       617\n",
       "prendre        614\n",
       "Name: transports, dtype: uint16"
      ]
     },
     "metadata": {},
     "output_type": "display_data"
    },
    {
     "name": "stdout",
     "output_type": "stream",
     "text": [
      "commun\n"
     ]
    },
    {
     "data": {
      "text/plain": [
       "commun        5907\n",
       "transports    4463\n",
       "transport     1681\n",
       "voiture       1116\n",
       "chauffage      794\n",
       "vehicule       572\n",
       "prendre        545\n",
       "developper     541\n",
       "faire          528\n",
       "cyclables      519\n",
       "Name: commun, dtype: uint16"
      ]
     },
     "metadata": {},
     "output_type": "display_data"
    },
    {
     "name": "stdout",
     "output_type": "stream",
     "text": [
      "voiture\n"
     ]
    },
    {
     "data": {
      "text/plain": [
       "voiture       4951\n",
       "transports    1224\n",
       "chauffage     1179\n",
       "commun        1116\n",
       "prendre        965\n",
       "electrique     849\n",
       "faire          842\n",
       "transport      665\n",
       "velo           633\n",
       "tout           575\n",
       "Name: voiture, dtype: uint16"
      ]
     },
     "metadata": {},
     "output_type": "display_data"
    },
    {
     "name": "stdout",
     "output_type": "stream",
     "text": [
      "chauffage\n"
     ]
    },
    {
     "data": {
      "text/plain": [
       "chauffage     4845\n",
       "voiture       1179\n",
       "transports     909\n",
       "commun         794\n",
       "vehicule       776\n",
       "faire          716\n",
       "isolation      634\n",
       "electrique     602\n",
       "changer        539\n",
       "transport      471\n",
       "Name: chauffage, dtype: uint16"
      ]
     },
     "metadata": {},
     "output_type": "display_data"
    },
    {
     "name": "stdout",
     "output_type": "stream",
     "text": [
      "faire\n"
     ]
    },
    {
     "data": {
      "text/plain": [
       "faire         3923\n",
       "voiture        842\n",
       "chauffage      716\n",
       "tout           646\n",
       "faut           629\n",
       "transports     598\n",
       "commun         528\n",
       "prendre        454\n",
       "vehicule       435\n",
       "velo           419\n",
       "Name: faire, dtype: uint16"
      ]
     },
     "metadata": {},
     "output_type": "display_data"
    },
    {
     "name": "stdout",
     "output_type": "stream",
     "text": [
      "vehicule\n"
     ]
    },
    {
     "data": {
      "text/plain": [
       "vehicule      3056\n",
       "chauffage      776\n",
       "prendre        673\n",
       "electrique     638\n",
       "transports     617\n",
       "commun         572\n",
       "renoncer       476\n",
       "faire          435\n",
       "distances      395\n",
       "voiture        379\n",
       "Name: vehicule, dtype: uint16"
      ]
     },
     "metadata": {},
     "output_type": "display_data"
    },
    {
     "name": "stdout",
     "output_type": "stream",
     "text": [
      "tout\n"
     ]
    },
    {
     "data": {
      "text/plain": [
       "tout          3050\n",
       "faire          646\n",
       "voiture        575\n",
       "monde          475\n",
       "chauffage      445\n",
       "transports     444\n",
       "faut           434\n",
       "commun         363\n",
       "exemple        287\n",
       "vehicule       284\n",
       "Name: tout, dtype: uint16"
      ]
     },
     "metadata": {},
     "output_type": "display_data"
    },
    {
     "name": "stdout",
     "output_type": "stream",
     "text": [
      "transport\n"
     ]
    },
    {
     "data": {
      "text/plain": [
       "transport     2941\n",
       "commun        1681\n",
       "voiture        665\n",
       "transports     488\n",
       "chauffage      471\n",
       "vehicule       317\n",
       "faire          309\n",
       "bus            295\n",
       "velo           285\n",
       "prendre        270\n",
       "Name: transport, dtype: uint16"
      ]
     },
     "metadata": {},
     "output_type": "display_data"
    },
    {
     "name": "stdout",
     "output_type": "stream",
     "text": [
      "velo\n"
     ]
    },
    {
     "data": {
      "text/plain": [
       "velo          2612\n",
       "voiture        633\n",
       "electrique     617\n",
       "pistes         560\n",
       "cyclables      558\n",
       "transports     541\n",
       "commun         486\n",
       "chauffage      459\n",
       "faire          419\n",
       "prendre        353\n",
       "Name: velo, dtype: uint16"
      ]
     },
     "metadata": {},
     "output_type": "display_data"
    },
    {
     "name": "stdout",
     "output_type": "stream",
     "text": [
      "faut\n"
     ]
    },
    {
     "data": {
      "text/plain": [
       "faut          2369\n",
       "faire          629\n",
       "voiture        554\n",
       "transports     485\n",
       "tout           434\n",
       "chauffage      425\n",
       "commun         394\n",
       "changer        302\n",
       "prendre        301\n",
       "exemple        290\n",
       "Name: faut, dtype: uint16"
      ]
     },
     "metadata": {},
     "output_type": "display_data"
    },
    {
     "name": "stdout",
     "output_type": "stream",
     "text": [
      "electrique\n"
     ]
    },
    {
     "data": {
      "text/plain": [
       "electrique    2292\n",
       "voiture        849\n",
       "vehicule       638\n",
       "velo           617\n",
       "chauffage      602\n",
       "transports     344\n",
       "achat          319\n",
       "commun         309\n",
       "tout           274\n",
       "faire          271\n",
       "Name: electrique, dtype: uint16"
      ]
     },
     "metadata": {},
     "output_type": "display_data"
    },
    {
     "name": "stdout",
     "output_type": "stream",
     "text": [
      "aides\n"
     ]
    },
    {
     "data": {
      "text/plain": [
       "aides          2291\n",
       "financieres     481\n",
       "transports      464\n",
       "chauffage       458\n",
       "isolation       399\n",
       "commun          346\n",
       "voiture         298\n",
       "changer         290\n",
       "faire           247\n",
       "vehicule        213\n",
       "Name: aides, dtype: uint16"
      ]
     },
     "metadata": {},
     "output_type": "display_data"
    },
    {
     "name": "stdout",
     "output_type": "stream",
     "text": [
      "prix\n"
     ]
    },
    {
     "data": {
      "text/plain": [
       "prix          2202\n",
       "transports     561\n",
       "commun         482\n",
       "voiture        373\n",
       "chauffage      306\n",
       "faire          285\n",
       "transport      241\n",
       "vehicules      238\n",
       "electrique     236\n",
       "vehicule       232\n",
       "Name: prix, dtype: uint16"
      ]
     },
     "metadata": {},
     "output_type": "display_data"
    },
    {
     "name": "stdout",
     "output_type": "stream",
     "text": [
      "prendre\n"
     ]
    },
    {
     "data": {
      "text/plain": [
       "prendre       2155\n",
       "voiture        965\n",
       "vehicule       673\n",
       "transports     614\n",
       "commun         545\n",
       "faire          454\n",
       "chauffage      418\n",
       "renoncer       378\n",
       "velo           353\n",
       "faut           301\n",
       "Name: prendre, dtype: uint16"
      ]
     },
     "metadata": {},
     "output_type": "display_data"
    },
    {
     "name": "stdout",
     "output_type": "stream",
     "text": [
      "cyclables\n"
     ]
    },
    {
     "data": {
      "text/plain": [
       "cyclables     2109\n",
       "pistes        1879\n",
       "transports     639\n",
       "velo           558\n",
       "commun         519\n",
       "voiture        297\n",
       "securisees     286\n",
       "developper     279\n",
       "ville          265\n",
       "chauffage      246\n",
       "Name: cyclables, dtype: uint16"
      ]
     },
     "metadata": {},
     "output_type": "display_data"
    },
    {
     "name": "stdout",
     "output_type": "stream",
     "text": [
      "exemple\n"
     ]
    },
    {
     "data": {
      "text/plain": [
       "exemple       2042\n",
       "transports     426\n",
       "faire          409\n",
       "voiture        358\n",
       "commun         331\n",
       "faut           290\n",
       "tout           287\n",
       "chauffage      271\n",
       "tous           219\n",
       "prendre        205\n",
       "Name: exemple, dtype: uint16"
      ]
     },
     "metadata": {},
     "output_type": "display_data"
    },
    {
     "name": "stdout",
     "output_type": "stream",
     "text": [
      "pistes\n"
     ]
    },
    {
     "data": {
      "text/plain": [
       "pistes        2017\n",
       "cyclables     1879\n",
       "transports     612\n",
       "velo           560\n",
       "commun         507\n",
       "voiture        279\n",
       "securisees     275\n",
       "developper     270\n",
       "ville          262\n",
       "chauffage      240\n",
       "Name: pistes, dtype: uint16"
      ]
     },
     "metadata": {},
     "output_type": "display_data"
    },
    {
     "name": "stdout",
     "output_type": "stream",
     "text": [
      "changer\n"
     ]
    },
    {
     "data": {
      "text/plain": [
       "changer         2008\n",
       "chauffage        539\n",
       "voiture          395\n",
       "faire            362\n",
       "chaudiere        334\n",
       "vehicule         312\n",
       "faut             302\n",
       "aides            290\n",
       "comportement     287\n",
       "transports       285\n",
       "Name: changer, dtype: uint16"
      ]
     },
     "metadata": {},
     "output_type": "display_data"
    },
    {
     "name": "stdout",
     "output_type": "stream",
     "text": [
      "tous\n"
     ]
    },
    {
     "data": {
      "text/plain": [
       "tous          1877\n",
       "transports     388\n",
       "faire          372\n",
       "voiture        338\n",
       "chauffage      306\n",
       "commun         292\n",
       "faut           273\n",
       "tout           266\n",
       "exemple        219\n",
       "prix           195\n",
       "Name: tous, dtype: uint16"
      ]
     },
     "metadata": {},
     "output_type": "display_data"
    },
    {
     "name": "stdout",
     "output_type": "stream",
     "text": [
      "isolation\n"
     ]
    },
    {
     "data": {
      "text/plain": [
       "isolation     1795\n",
       "chauffage      634\n",
       "transports     427\n",
       "aides          399\n",
       "commun         328\n",
       "voiture        310\n",
       "travaux        288\n",
       "aide           274\n",
       "faire          258\n",
       "maison         228\n",
       "Name: isolation, dtype: uint16"
      ]
     },
     "metadata": {},
     "output_type": "display_data"
    }
   ],
   "source": [
    "for i in df_qu_7_one_hot.sum(axis=0).sort_values(ascending=False).head(20).index:\n",
    "    print(i)\n",
    "    display(df_cov_7[i].sort_values(ascending=False).head(10))"
   ]
  },
  {
   "cell_type": "code",
   "execution_count": 50,
   "metadata": {
    "scrolled": true
   },
   "outputs": [
    {
     "name": "stdout",
     "output_type": "stream",
     "text": [
      "transports\n"
     ]
    },
    {
     "data": {
      "text/plain": [
       "transports    1.000000\n",
       "communs       0.912769\n",
       "frequents     0.795699\n",
       "gratuits      0.793515\n",
       "gratuite      0.788851\n",
       "commun        0.755544\n",
       "collectifs    0.752711\n",
       "frequence     0.692015\n",
       "publics       0.645833\n",
       "adaptes       0.637874\n",
       "Name: transports, dtype: float32"
      ]
     },
     "metadata": {},
     "output_type": "display_data"
    },
    {
     "name": "stdout",
     "output_type": "stream",
     "text": [
      "commun\n"
     ]
    },
    {
     "data": {
      "text/plain": [
       "commun        1.000000\n",
       "transports    0.631884\n",
       "gratuite      0.587838\n",
       "transport     0.571574\n",
       "frequents     0.555556\n",
       "frequence     0.520913\n",
       "horaires      0.488753\n",
       "gratuits      0.481229\n",
       "reseau        0.460882\n",
       "adaptes       0.448505\n",
       "Name: commun, dtype: float32"
      ]
     },
     "metadata": {},
     "output_type": "display_data"
    },
    {
     "name": "stdout",
     "output_type": "stream",
     "text": [
      "voiture\n"
     ]
    },
    {
     "data": {
      "text/plain": [
       "voiture          1.000000\n",
       "indispensable    0.626712\n",
       "prends           0.483471\n",
       "impossible       0.467290\n",
       "courses          0.456876\n",
       "habitant         0.452575\n",
       "travailler       0.449239\n",
       "prendre          0.447796\n",
       "oblige           0.442688\n",
       "petite           0.436137\n",
       "Name: voiture, dtype: float32"
      ]
     },
     "metadata": {},
     "output_type": "display_data"
    },
    {
     "name": "stdout",
     "output_type": "stream",
     "text": [
      "chauffage\n"
     ]
    },
    {
     "data": {
      "text/plain": [
       "chauffage       1.000000\n",
       "regler          0.779851\n",
       "regle           0.768421\n",
       "locataire       0.536965\n",
       "bois            0.529412\n",
       "mode            0.511905\n",
       "proprietaire    0.500000\n",
       "temperature     0.494297\n",
       "collectif       0.473461\n",
       "pompe           0.452991\n",
       "Name: chauffage, dtype: float32"
      ]
     },
     "metadata": {},
     "output_type": "display_data"
    },
    {
     "name": "stdout",
     "output_type": "stream",
     "text": [
      "faire\n"
     ]
    },
    {
     "data": {
      "text/plain": [
       "faire         1.000000\n",
       "courses       0.578089\n",
       "economies     0.384615\n",
       "efforts       0.368224\n",
       "chose         0.365854\n",
       "payer         0.356568\n",
       "choses        0.353591\n",
       "effort        0.340694\n",
       "arreter       0.305825\n",
       "travailler    0.284264\n",
       "Name: faire, dtype: float32"
      ]
     },
     "metadata": {},
     "output_type": "display_data"
    },
    {
     "name": "stdout",
     "output_type": "stream",
     "text": [
      "vehicule\n"
     ]
    },
    {
     "data": {
      "text/plain": [
       "vehicule      1.000000\n",
       "renoncer      0.644114\n",
       "hybride       0.542424\n",
       "polluant      0.430421\n",
       "diesel        0.391732\n",
       "distances     0.350488\n",
       "prendre       0.312297\n",
       "propre        0.306867\n",
       "utilise       0.305331\n",
       "impossible    0.289720\n",
       "Name: vehicule, dtype: float32"
      ]
     },
     "metadata": {},
     "output_type": "display_data"
    },
    {
     "name": "stdout",
     "output_type": "stream",
     "text": [
      "tout\n"
     ]
    },
    {
     "data": {
      "text/plain": [
       "tout        1.000000\n",
       "monde       0.617685\n",
       "vie         0.187911\n",
       "faut        0.183200\n",
       "citoyens    0.181395\n",
       "probleme    0.175325\n",
       "temps       0.173010\n",
       "faire       0.164670\n",
       "cas         0.163892\n",
       "sens        0.163690\n",
       "Name: tout, dtype: float32"
      ]
     },
     "metadata": {},
     "output_type": "display_data"
    },
    {
     "name": "stdout",
     "output_type": "stream",
     "text": [
      "transport\n"
     ]
    },
    {
     "data": {
      "text/plain": [
       "transport    1.000000\n",
       "gratuit      0.419598\n",
       "public       0.394595\n",
       "reseau       0.358464\n",
       "aucun        0.336207\n",
       "collectif    0.299363\n",
       "moyen        0.295858\n",
       "offre        0.287619\n",
       "commun       0.284578\n",
       "horaires     0.257669\n",
       "Name: transport, dtype: float32"
      ]
     },
     "metadata": {},
     "output_type": "display_data"
    },
    {
     "name": "stdout",
     "output_type": "stream",
     "text": [
      "velo\n"
     ]
    },
    {
     "data": {
      "text/plain": [
       "velo          1.000000\n",
       "securite      0.370180\n",
       "pied          0.369906\n",
       "cyclable      0.343234\n",
       "voies         0.331818\n",
       "securisees    0.301449\n",
       "routes        0.294264\n",
       "pistes        0.277640\n",
       "electrique    0.269197\n",
       "cyclables     0.264580\n",
       "Name: velo, dtype: float32"
      ]
     },
     "metadata": {},
     "output_type": "display_data"
    },
    {
     "name": "stdout",
     "output_type": "stream",
     "text": [
      "faut\n"
     ]
    },
    {
     "data": {
      "text/plain": [
       "faut        1.000000\n",
       "arreter     0.296117\n",
       "citoyens    0.209302\n",
       "solution    0.192171\n",
       "inciter     0.190311\n",
       "mettre      0.188679\n",
       "vie         0.166886\n",
       "monde       0.165150\n",
       "aller       0.163810\n",
       "faire       0.160336\n",
       "Name: faut, dtype: float32"
      ]
     },
     "metadata": {},
     "output_type": "display_data"
    },
    {
     "name": "stdout",
     "output_type": "stream",
     "text": [
      "electrique\n"
     ]
    },
    {
     "data": {
      "text/plain": [
       "electrique     1.000000\n",
       "hybride        0.430303\n",
       "acheter        0.350649\n",
       "achat          0.328866\n",
       "diesel         0.289370\n",
       "essence        0.242991\n",
       "velo           0.236217\n",
       "vehicule       0.208770\n",
       "electricite    0.179792\n",
       "passer         0.174716\n",
       "Name: electrique, dtype: float32"
      ]
     },
     "metadata": {},
     "output_type": "display_data"
    },
    {
     "name": "stdout",
     "output_type": "stream",
     "text": [
      "aides\n"
     ]
    },
    {
     "data": {
      "text/plain": [
       "aides          1.000000\n",
       "financieres    0.578821\n",
       "revenus        0.339450\n",
       "travaux        0.242057\n",
       "isoler         0.234568\n",
       "energetique    0.229787\n",
       "isolation      0.222284\n",
       "transition     0.221739\n",
       "logement       0.205202\n",
       "changement     0.150766\n",
       "Name: aides, dtype: float32"
      ]
     },
     "metadata": {},
     "output_type": "display_data"
    },
    {
     "name": "stdout",
     "output_type": "stream",
     "text": [
      "prix\n"
     ]
    },
    {
     "data": {
      "text/plain": [
       "prix            1.000000\n",
       "baisser         0.430993\n",
       "augmentation    0.365116\n",
       "baisse          0.323630\n",
       "augmenter       0.277003\n",
       "produits        0.223291\n",
       "essence         0.222430\n",
       "electricite     0.175334\n",
       "vehicules       0.167724\n",
       "electriques     0.166376\n",
       "Name: prix, dtype: float32"
      ]
     },
     "metadata": {},
     "output_type": "display_data"
    },
    {
     "name": "stdout",
     "output_type": "stream",
     "text": [
      "prendre\n"
     ]
    },
    {
     "data": {
      "text/plain": [
       "prendre      1.000000\n",
       "renoncer     0.511502\n",
       "oblige       0.403162\n",
       "eviter       0.317757\n",
       "distances    0.252884\n",
       "aller        0.240952\n",
       "courses      0.240093\n",
       "vehicule     0.220223\n",
       "petites      0.218657\n",
       "voiture      0.194910\n",
       "Name: prendre, dtype: float32"
      ]
     },
     "metadata": {},
     "output_type": "display_data"
    },
    {
     "name": "stdout",
     "output_type": "stream",
     "text": [
      "cyclables\n"
     ]
    },
    {
     "data": {
      "text/plain": [
       "cyclables        1.000000\n",
       "pistes           0.931582\n",
       "securisees       0.828986\n",
       "voies            0.425000\n",
       "routes           0.321696\n",
       "velos            0.297554\n",
       "velo             0.213629\n",
       "reseau           0.210526\n",
       "developper       0.206973\n",
       "developpement    0.204819\n",
       "Name: cyclables, dtype: float32"
      ]
     },
     "metadata": {},
     "output_type": "display_data"
    },
    {
     "name": "stdout",
     "output_type": "stream",
     "text": [
      "exemple\n"
     ]
    },
    {
     "data": {
      "text/plain": [
       "exemple        1.000000\n",
       "entreprises    0.192632\n",
       "citoyens       0.159690\n",
       "produits       0.131410\n",
       "voitures       0.126417\n",
       "faut           0.122415\n",
       "train          0.121364\n",
       "place          0.121164\n",
       "inciter        0.118800\n",
       "tous           0.116676\n",
       "Name: exemple, dtype: float32"
      ]
     },
     "metadata": {},
     "output_type": "display_data"
    },
    {
     "name": "stdout",
     "output_type": "stream",
     "text": [
      "pistes\n"
     ]
    },
    {
     "data": {
      "text/plain": [
       "pistes           1.000000\n",
       "cyclables        0.890944\n",
       "securisees       0.797101\n",
       "velos            0.292120\n",
       "routes           0.264339\n",
       "velo             0.214395\n",
       "reseau           0.200569\n",
       "developper       0.200297\n",
       "developpement    0.190918\n",
       "villes           0.183566\n",
       "Name: pistes, dtype: float32"
      ]
     },
     "metadata": {},
     "output_type": "display_data"
    },
    {
     "name": "stdout",
     "output_type": "stream",
     "text": [
      "changer\n"
     ]
    },
    {
     "data": {
      "text/plain": [
       "changer          1.000000\n",
       "fenetres         0.307479\n",
       "comportement     0.274904\n",
       "chaudiere        0.252839\n",
       "mode             0.244048\n",
       "comportements    0.243682\n",
       "diesel           0.232283\n",
       "inciter          0.204152\n",
       "ans              0.162416\n",
       "moyens           0.145974\n",
       "Name: changer, dtype: float32"
      ]
     },
     "metadata": {},
     "output_type": "display_data"
    },
    {
     "name": "stdout",
     "output_type": "stream",
     "text": [
      "tous\n"
     ]
    },
    {
     "data": {
      "text/plain": [
       "tous            1.000000\n",
       "jours           0.604895\n",
       "ans             0.225503\n",
       "produits        0.175214\n",
       "citoyens        0.168992\n",
       "information     0.139946\n",
       "monde           0.139142\n",
       "consommation    0.133779\n",
       "entreprises     0.123158\n",
       "mettre          0.123138\n",
       "Name: tous, dtype: float32"
      ]
     },
     "metadata": {},
     "output_type": "display_data"
    },
    {
     "name": "stdout",
     "output_type": "stream",
     "text": [
      "isolation\n"
     ]
    },
    {
     "data": {
      "text/plain": [
       "isolation    1.000000\n",
       "thermique    0.469965\n",
       "travaux      0.435703\n",
       "logements    0.360920\n",
       "fenetres     0.318560\n",
       "logement     0.264451\n",
       "maison       0.213683\n",
       "ameliorer    0.204108\n",
       "meilleure    0.192604\n",
       "aides        0.174160\n",
       "Name: isolation, dtype: float32"
      ]
     },
     "metadata": {},
     "output_type": "display_data"
    }
   ],
   "source": [
    "for i in df_qu_7_one_hot.sum(axis=0).sort_values(ascending=False).head(20).index:\n",
    "    print(i)\n",
    "    display(df_confidence_7[i].sort_values(ascending=False).head(10))"
   ]
  },
  {
   "cell_type": "code",
   "execution_count": 51,
   "metadata": {
    "scrolled": true
   },
   "outputs": [
    {
     "name": "stdout",
     "output_type": "stream",
     "text": [
      "transports\n"
     ]
    },
    {
     "data": {
      "text/plain": [
       "transports    0.000142\n",
       "communs       0.000129\n",
       "frequents     0.000113\n",
       "gratuits      0.000112\n",
       "gratuite      0.000112\n",
       "commun        0.000107\n",
       "collectifs    0.000107\n",
       "frequence     0.000098\n",
       "publics       0.000091\n",
       "adaptes       0.000090\n",
       "Name: transports, dtype: float32"
      ]
     },
     "metadata": {},
     "output_type": "display_data"
    },
    {
     "name": "stdout",
     "output_type": "stream",
     "text": [
      "commun\n"
     ]
    },
    {
     "data": {
      "text/plain": [
       "commun        0.000169\n",
       "transports    0.000107\n",
       "gratuite      0.000100\n",
       "transport     0.000097\n",
       "frequents     0.000094\n",
       "frequence     0.000088\n",
       "horaires      0.000083\n",
       "gratuits      0.000081\n",
       "reseau        0.000078\n",
       "adaptes       0.000076\n",
       "Name: commun, dtype: float32"
      ]
     },
     "metadata": {},
     "output_type": "display_data"
    },
    {
     "name": "stdout",
     "output_type": "stream",
     "text": [
      "voiture\n"
     ]
    },
    {
     "data": {
      "text/plain": [
       "voiture          0.000202\n",
       "indispensable    0.000127\n",
       "prends           0.000098\n",
       "impossible       0.000094\n",
       "courses          0.000092\n",
       "habitant         0.000091\n",
       "travailler       0.000091\n",
       "prendre          0.000090\n",
       "oblige           0.000089\n",
       "petite           0.000088\n",
       "Name: voiture, dtype: float32"
      ]
     },
     "metadata": {},
     "output_type": "display_data"
    },
    {
     "name": "stdout",
     "output_type": "stream",
     "text": [
      "chauffage\n"
     ]
    },
    {
     "data": {
      "text/plain": [
       "chauffage       0.000206\n",
       "regler          0.000161\n",
       "regle           0.000159\n",
       "locataire       0.000111\n",
       "bois            0.000109\n",
       "mode            0.000106\n",
       "proprietaire    0.000103\n",
       "temperature     0.000102\n",
       "collectif       0.000098\n",
       "pompe           0.000093\n",
       "Name: chauffage, dtype: float32"
      ]
     },
     "metadata": {},
     "output_type": "display_data"
    },
    {
     "name": "stdout",
     "output_type": "stream",
     "text": [
      "faire\n"
     ]
    },
    {
     "data": {
      "text/plain": [
       "faire         0.000255\n",
       "courses       0.000147\n",
       "economies     0.000098\n",
       "efforts       0.000094\n",
       "chose         0.000093\n",
       "payer         0.000091\n",
       "choses        0.000090\n",
       "effort        0.000087\n",
       "arreter       0.000078\n",
       "travailler    0.000072\n",
       "Name: faire, dtype: float32"
      ]
     },
     "metadata": {},
     "output_type": "display_data"
    },
    {
     "name": "stdout",
     "output_type": "stream",
     "text": [
      "vehicule\n"
     ]
    },
    {
     "data": {
      "text/plain": [
       "vehicule      0.000327\n",
       "renoncer      0.000211\n",
       "hybride       0.000177\n",
       "polluant      0.000141\n",
       "diesel        0.000128\n",
       "distances     0.000115\n",
       "prendre       0.000102\n",
       "propre        0.000100\n",
       "utilise       0.000100\n",
       "impossible    0.000095\n",
       "Name: vehicule, dtype: float32"
      ]
     },
     "metadata": {},
     "output_type": "display_data"
    },
    {
     "name": "stdout",
     "output_type": "stream",
     "text": [
      "tout\n"
     ]
    },
    {
     "data": {
      "text/plain": [
       "tout        0.000328\n",
       "monde       0.000203\n",
       "vie         0.000062\n",
       "faut        0.000060\n",
       "citoyens    0.000059\n",
       "probleme    0.000057\n",
       "temps       0.000057\n",
       "faire       0.000054\n",
       "cas         0.000054\n",
       "sens        0.000054\n",
       "Name: tout, dtype: float32"
      ]
     },
     "metadata": {},
     "output_type": "display_data"
    },
    {
     "name": "stdout",
     "output_type": "stream",
     "text": [
      "transport\n"
     ]
    },
    {
     "data": {
      "text/plain": [
       "transport    0.000340\n",
       "gratuit      0.000143\n",
       "public       0.000134\n",
       "reseau       0.000122\n",
       "aucun        0.000114\n",
       "collectif    0.000102\n",
       "moyen        0.000101\n",
       "offre        0.000098\n",
       "commun       0.000097\n",
       "horaires     0.000088\n",
       "Name: transport, dtype: float32"
      ]
     },
     "metadata": {},
     "output_type": "display_data"
    },
    {
     "name": "stdout",
     "output_type": "stream",
     "text": [
      "velo\n"
     ]
    },
    {
     "data": {
      "text/plain": [
       "velo          0.000383\n",
       "securite      0.000142\n",
       "pied          0.000142\n",
       "cyclable      0.000131\n",
       "voies         0.000127\n",
       "securisees    0.000115\n",
       "routes        0.000113\n",
       "pistes        0.000106\n",
       "electrique    0.000103\n",
       "cyclables     0.000101\n",
       "Name: velo, dtype: float32"
      ]
     },
     "metadata": {},
     "output_type": "display_data"
    },
    {
     "name": "stdout",
     "output_type": "stream",
     "text": [
      "faut\n"
     ]
    },
    {
     "data": {
      "text/plain": [
       "faut        0.000422\n",
       "arreter     0.000125\n",
       "citoyens    0.000088\n",
       "solution    0.000081\n",
       "inciter     0.000080\n",
       "mettre      0.000080\n",
       "vie         0.000070\n",
       "monde       0.000070\n",
       "aller       0.000069\n",
       "faire       0.000068\n",
       "Name: faut, dtype: float32"
      ]
     },
     "metadata": {},
     "output_type": "display_data"
    },
    {
     "name": "stdout",
     "output_type": "stream",
     "text": [
      "electrique\n"
     ]
    },
    {
     "data": {
      "text/plain": [
       "electrique     0.000436\n",
       "hybride        0.000188\n",
       "acheter        0.000153\n",
       "achat          0.000143\n",
       "diesel         0.000126\n",
       "essence        0.000106\n",
       "velo           0.000103\n",
       "vehicule       0.000091\n",
       "electricite    0.000078\n",
       "passer         0.000076\n",
       "Name: electrique, dtype: float32"
      ]
     },
     "metadata": {},
     "output_type": "display_data"
    },
    {
     "name": "stdout",
     "output_type": "stream",
     "text": [
      "aides\n"
     ]
    },
    {
     "data": {
      "text/plain": [
       "aides          0.000436\n",
       "financieres    0.000253\n",
       "revenus        0.000148\n",
       "travaux        0.000106\n",
       "isoler         0.000102\n",
       "energetique    0.000100\n",
       "isolation      0.000097\n",
       "transition     0.000097\n",
       "logement       0.000090\n",
       "changement     0.000066\n",
       "Name: aides, dtype: float32"
      ]
     },
     "metadata": {},
     "output_type": "display_data"
    },
    {
     "name": "stdout",
     "output_type": "stream",
     "text": [
      "prix\n"
     ]
    },
    {
     "data": {
      "text/plain": [
       "prix            0.000454\n",
       "baisser         0.000196\n",
       "augmentation    0.000166\n",
       "baisse          0.000147\n",
       "augmenter       0.000126\n",
       "produits        0.000101\n",
       "essence         0.000101\n",
       "electricite     0.000080\n",
       "vehicules       0.000076\n",
       "electriques     0.000076\n",
       "Name: prix, dtype: float32"
      ]
     },
     "metadata": {},
     "output_type": "display_data"
    },
    {
     "name": "stdout",
     "output_type": "stream",
     "text": [
      "prendre\n"
     ]
    },
    {
     "data": {
      "text/plain": [
       "prendre      0.000464\n",
       "renoncer     0.000237\n",
       "oblige       0.000187\n",
       "eviter       0.000147\n",
       "distances    0.000117\n",
       "aller        0.000112\n",
       "courses      0.000111\n",
       "vehicule     0.000102\n",
       "petites      0.000101\n",
       "voiture      0.000090\n",
       "Name: prendre, dtype: float32"
      ]
     },
     "metadata": {},
     "output_type": "display_data"
    },
    {
     "name": "stdout",
     "output_type": "stream",
     "text": [
      "cyclables\n"
     ]
    },
    {
     "data": {
      "text/plain": [
       "cyclables        0.000474\n",
       "pistes           0.000442\n",
       "securisees       0.000393\n",
       "voies            0.000202\n",
       "routes           0.000153\n",
       "velos            0.000141\n",
       "velo             0.000101\n",
       "reseau           0.000100\n",
       "developper       0.000098\n",
       "developpement    0.000097\n",
       "Name: cyclables, dtype: float32"
      ]
     },
     "metadata": {},
     "output_type": "display_data"
    },
    {
     "name": "stdout",
     "output_type": "stream",
     "text": [
      "exemple\n"
     ]
    },
    {
     "data": {
      "text/plain": [
       "exemple        0.000490\n",
       "entreprises    0.000094\n",
       "citoyens       0.000078\n",
       "produits       0.000064\n",
       "voitures       0.000062\n",
       "faut           0.000060\n",
       "train          0.000059\n",
       "place          0.000059\n",
       "inciter        0.000058\n",
       "tous           0.000057\n",
       "Name: exemple, dtype: float32"
      ]
     },
     "metadata": {},
     "output_type": "display_data"
    },
    {
     "name": "stdout",
     "output_type": "stream",
     "text": [
      "pistes\n"
     ]
    },
    {
     "data": {
      "text/plain": [
       "pistes           0.000496\n",
       "cyclables        0.000442\n",
       "securisees       0.000395\n",
       "velos            0.000145\n",
       "routes           0.000131\n",
       "velo             0.000106\n",
       "reseau           0.000099\n",
       "developper       0.000099\n",
       "developpement    0.000095\n",
       "villes           0.000091\n",
       "Name: pistes, dtype: float32"
      ]
     },
     "metadata": {},
     "output_type": "display_data"
    },
    {
     "name": "stdout",
     "output_type": "stream",
     "text": [
      "changer\n"
     ]
    },
    {
     "data": {
      "text/plain": [
       "changer          0.000498\n",
       "fenetres         0.000153\n",
       "comportement     0.000137\n",
       "chaudiere        0.000126\n",
       "mode             0.000122\n",
       "comportements    0.000121\n",
       "diesel           0.000116\n",
       "inciter          0.000102\n",
       "ans              0.000081\n",
       "moyens           0.000073\n",
       "Name: changer, dtype: float32"
      ]
     },
     "metadata": {},
     "output_type": "display_data"
    },
    {
     "name": "stdout",
     "output_type": "stream",
     "text": [
      "tous\n"
     ]
    },
    {
     "data": {
      "text/plain": [
       "tous            0.000533\n",
       "jours           0.000322\n",
       "ans             0.000120\n",
       "produits        0.000093\n",
       "citoyens        0.000090\n",
       "information     0.000075\n",
       "monde           0.000074\n",
       "consommation    0.000071\n",
       "entreprises     0.000066\n",
       "mettre          0.000066\n",
       "Name: tous, dtype: float32"
      ]
     },
     "metadata": {},
     "output_type": "display_data"
    },
    {
     "name": "stdout",
     "output_type": "stream",
     "text": [
      "isolation\n"
     ]
    },
    {
     "data": {
      "text/plain": [
       "isolation    0.000557\n",
       "thermique    0.000262\n",
       "travaux      0.000243\n",
       "logements    0.000201\n",
       "fenetres     0.000177\n",
       "logement     0.000147\n",
       "maison       0.000119\n",
       "ameliorer    0.000114\n",
       "meilleure    0.000107\n",
       "aides        0.000097\n",
       "Name: isolation, dtype: float32"
      ]
     },
     "metadata": {},
     "output_type": "display_data"
    }
   ],
   "source": [
    "for i in df_qu_7_one_hot.sum(axis=0).sort_values(ascending=False).head(20).index:\n",
    "    print(i)\n",
    "    display(df_lift_7[i].sort_values(ascending=False).head(10))"
   ]
  },
  {
   "cell_type": "code",
   "execution_count": 52,
   "metadata": {},
   "outputs": [
    {
     "data": {
      "text/plain": [
       "105"
      ]
     },
     "execution_count": 52,
     "metadata": {},
     "output_type": "execute_result"
    }
   ],
   "source": [
    "gc.collect()"
   ]
  },
  {
   "cell_type": "markdown",
   "metadata": {},
   "source": [
    "# Question 8 : Quelles seraient pour vous les solutions les plus simples et les plus supportables sur un plan financier pour vous inciter à changer vos comportements ?"
   ]
  },
  {
   "cell_type": "code",
   "execution_count": 53,
   "metadata": {
    "collapsed": true
   },
   "outputs": [],
   "source": [
    "question_8 = \"Quelles seraient pour vous les solutions les plus simples et les plus supportables sur un plan financier pour vous inciter à changer vos comportements ?\"\n",
    "qu_8,df_qu_8_one_hot,df_cov_8,df_confidence_8,df_lift_8 = compute_similarities(question_8, new_res)"
   ]
  },
  {
   "cell_type": "code",
   "execution_count": 54,
   "metadata": {
    "scrolled": true
   },
   "outputs": [
    {
     "name": "stdout",
     "output_type": "stream",
     "text": [
      "transports\n"
     ]
    },
    {
     "data": {
      "text/plain": [
       "transports    3705\n",
       "commun        2249\n",
       "gratuite       469\n",
       "prix           450\n",
       "voiture        402\n",
       "developper     392\n",
       "gratuits       316\n",
       "communs        316\n",
       "publics        304\n",
       "produits       274\n",
       "Name: transports, dtype: uint16"
      ]
     },
     "metadata": {},
     "output_type": "display_data"
    },
    {
     "name": "stdout",
     "output_type": "stream",
     "text": [
      "faire\n"
     ]
    },
    {
     "data": {
      "text/plain": [
       "faire       3138\n",
       "faut         474\n",
       "tout         464\n",
       "changer      384\n",
       "prix         343\n",
       "voiture      339\n",
       "exemple      333\n",
       "payer        331\n",
       "tous         302\n",
       "produits     298\n",
       "Name: faire, dtype: uint16"
      ]
     },
     "metadata": {},
     "output_type": "display_data"
    },
    {
     "name": "stdout",
     "output_type": "stream",
     "text": [
      "produits\n"
     ]
    },
    {
     "data": {
      "text/plain": [
       "produits         3063\n",
       "tva               624\n",
       "bio               606\n",
       "prix              548\n",
       "taxer             466\n",
       "non               354\n",
       "taxes             350\n",
       "environnement     345\n",
       "locaux            329\n",
       "tous              316\n",
       "Name: produits, dtype: uint16"
      ]
     },
     "metadata": {},
     "output_type": "display_data"
    },
    {
     "name": "stdout",
     "output_type": "stream",
     "text": [
      "prix\n"
     ]
    },
    {
     "data": {
      "text/plain": [
       "prix           2936\n",
       "produits        548\n",
       "transports      450\n",
       "baisser         404\n",
       "vehicules       367\n",
       "commun          357\n",
       "faire           343\n",
       "voiture         326\n",
       "electriques     307\n",
       "baisse          297\n",
       "Name: prix, dtype: uint16"
      ]
     },
     "metadata": {},
     "output_type": "display_data"
    },
    {
     "name": "stdout",
     "output_type": "stream",
     "text": [
      "commun\n"
     ]
    },
    {
     "data": {
      "text/plain": [
       "commun        2936\n",
       "transports    2249\n",
       "transport      772\n",
       "prix           357\n",
       "gratuite       344\n",
       "voiture        337\n",
       "developper     321\n",
       "faire          211\n",
       "villes         201\n",
       "produits       192\n",
       "Name: commun, dtype: uint16"
      ]
     },
     "metadata": {},
     "output_type": "display_data"
    },
    {
     "name": "stdout",
     "output_type": "stream",
     "text": [
      "aides\n"
     ]
    },
    {
     "data": {
      "text/plain": [
       "aides          2665\n",
       "financieres     435\n",
       "isolation       380\n",
       "faire           273\n",
       "chauffage       267\n",
       "changer         236\n",
       "prix            228\n",
       "voiture         208\n",
       "travaux         206\n",
       "aide            203\n",
       "Name: aides, dtype: uint16"
      ]
     },
     "metadata": {},
     "output_type": "display_data"
    },
    {
     "name": "stdout",
     "output_type": "stream",
     "text": [
      "voiture\n"
     ]
    },
    {
     "data": {
      "text/plain": [
       "voiture       2377\n",
       "electrique     685\n",
       "transports     402\n",
       "changer        351\n",
       "faire          339\n",
       "commun         337\n",
       "prix           326\n",
       "tout           267\n",
       "achat          259\n",
       "faut           255\n",
       "Name: voiture, dtype: uint16"
      ]
     },
     "metadata": {},
     "output_type": "display_data"
    },
    {
     "name": "stdout",
     "output_type": "stream",
     "text": [
      "tout\n"
     ]
    },
    {
     "data": {
      "text/plain": [
       "tout        2218\n",
       "faire        464\n",
       "monde        460\n",
       "faut         363\n",
       "voiture      267\n",
       "changer      256\n",
       "prix         246\n",
       "exemple      237\n",
       "produits     229\n",
       "tous         220\n",
       "Name: tout, dtype: uint16"
      ]
     },
     "metadata": {},
     "output_type": "display_data"
    },
    {
     "name": "stdout",
     "output_type": "stream",
     "text": [
      "aide\n"
     ]
    },
    {
     "data": {
      "text/plain": [
       "aide          2159\n",
       "financiere     431\n",
       "achat          344\n",
       "vehicule       316\n",
       "isolation      312\n",
       "electrique     298\n",
       "voiture        218\n",
       "changer        213\n",
       "aides          203\n",
       "chauffage      202\n",
       "Name: aide, dtype: uint16"
      ]
     },
     "metadata": {},
     "output_type": "display_data"
    },
    {
     "name": "stdout",
     "output_type": "stream",
     "text": [
      "changer\n"
     ]
    },
    {
     "data": {
      "text/plain": [
       "changer          2143\n",
       "comportement      511\n",
       "comportements     402\n",
       "faire             384\n",
       "voiture           351\n",
       "faut              350\n",
       "tout              256\n",
       "vehicule          251\n",
       "aides             236\n",
       "aide              213\n",
       "Name: changer, dtype: uint16"
      ]
     },
     "metadata": {},
     "output_type": "display_data"
    },
    {
     "name": "stdout",
     "output_type": "stream",
     "text": [
      "exemple\n"
     ]
    },
    {
     "data": {
      "text/plain": [
       "exemple       1950\n",
       "faire          333\n",
       "produits       250\n",
       "voiture        250\n",
       "tout           237\n",
       "faut           231\n",
       "transports     226\n",
       "prix           226\n",
       "tous           198\n",
       "changer        192\n",
       "Name: exemple, dtype: uint16"
      ]
     },
     "metadata": {},
     "output_type": "display_data"
    },
    {
     "name": "stdout",
     "output_type": "stream",
     "text": [
      "faut\n"
     ]
    },
    {
     "data": {
      "text/plain": [
       "faut           1893\n",
       "faire           474\n",
       "tout            363\n",
       "changer         350\n",
       "voiture         255\n",
       "exemple         231\n",
       "prix            218\n",
       "produits        218\n",
       "tous            206\n",
       "entreprises     182\n",
       "Name: faut, dtype: uint16"
      ]
     },
     "metadata": {},
     "output_type": "display_data"
    },
    {
     "name": "stdout",
     "output_type": "stream",
     "text": [
      "electrique\n"
     ]
    },
    {
     "data": {
      "text/plain": [
       "electrique    1830\n",
       "voiture        685\n",
       "vehicule       570\n",
       "achat          416\n",
       "velo           307\n",
       "aide           298\n",
       "prix           293\n",
       "vehicules      251\n",
       "tout           204\n",
       "faire          200\n",
       "Name: electrique, dtype: uint16"
      ]
     },
     "metadata": {},
     "output_type": "display_data"
    },
    {
     "name": "stdout",
     "output_type": "stream",
     "text": [
      "tous\n"
     ]
    },
    {
     "data": {
      "text/plain": [
       "tous          1800\n",
       "produits       316\n",
       "faire          302\n",
       "tout           220\n",
       "prix           211\n",
       "faut           206\n",
       "aides          200\n",
       "transports     200\n",
       "exemple        198\n",
       "voiture        182\n",
       "Name: tous, dtype: uint16"
      ]
     },
     "metadata": {},
     "output_type": "display_data"
    },
    {
     "name": "stdout",
     "output_type": "stream",
     "text": [
      "non\n"
     ]
    },
    {
     "data": {
      "text/plain": [
       "non           1663\n",
       "produits       354\n",
       "faire          231\n",
       "prix           199\n",
       "tout           190\n",
       "faut           180\n",
       "voiture        169\n",
       "transports     168\n",
       "tous           167\n",
       "aides          163\n",
       "Name: non, dtype: uint16"
      ]
     },
     "metadata": {},
     "output_type": "display_data"
    },
    {
     "name": "stdout",
     "output_type": "stream",
     "text": [
      "transport\n"
     ]
    },
    {
     "data": {
      "text/plain": [
       "transport     1633\n",
       "commun         772\n",
       "transports     233\n",
       "voiture        219\n",
       "prix           190\n",
       "produits       172\n",
       "gratuit        150\n",
       "faire          150\n",
       "exemple        138\n",
       "cout           136\n",
       "Name: transport, dtype: uint16"
      ]
     },
     "metadata": {},
     "output_type": "display_data"
    },
    {
     "name": "stdout",
     "output_type": "stream",
     "text": [
      "ecologique\n"
     ]
    },
    {
     "data": {
      "text/plain": [
       "ecologique    1627\n",
       "transition     508\n",
       "produits       296\n",
       "faire          245\n",
       "tout           216\n",
       "voiture        185\n",
       "exemple        173\n",
       "taxe           171\n",
       "prix           165\n",
       "faut           164\n",
       "Name: ecologique, dtype: uint16"
      ]
     },
     "metadata": {},
     "output_type": "display_data"
    },
    {
     "name": "stdout",
     "output_type": "stream",
     "text": [
      "vehicule\n"
     ]
    },
    {
     "data": {
      "text/plain": [
       "vehicule      1620\n",
       "electrique     570\n",
       "achat          424\n",
       "aide           316\n",
       "changer        251\n",
       "prix           227\n",
       "vehicules      224\n",
       "propre         216\n",
       "diesel         189\n",
       "aides          187\n",
       "Name: vehicule, dtype: uint16"
      ]
     },
     "metadata": {},
     "output_type": "display_data"
    },
    {
     "name": "stdout",
     "output_type": "stream",
     "text": [
      "vehicules\n"
     ]
    },
    {
     "data": {
      "text/plain": [
       "vehicules      1599\n",
       "electriques     487\n",
       "prix            367\n",
       "electrique      251\n",
       "achat           248\n",
       "vehicule        224\n",
       "polluants       224\n",
       "propres         221\n",
       "transports      192\n",
       "aides           183\n",
       "Name: vehicules, dtype: uint16"
      ]
     },
     "metadata": {},
     "output_type": "display_data"
    },
    {
     "name": "stdout",
     "output_type": "stream",
     "text": [
      "taxes\n"
     ]
    },
    {
     "data": {
      "text/plain": [
       "taxes        1595\n",
       "produits      350\n",
       "impots        164\n",
       "faire         151\n",
       "tout          148\n",
       "augmenter     148\n",
       "baisser       146\n",
       "prix          145\n",
       "exemple       144\n",
       "tous          143\n",
       "Name: taxes, dtype: uint16"
      ]
     },
     "metadata": {},
     "output_type": "display_data"
    }
   ],
   "source": [
    "for i in df_qu_8_one_hot.sum(axis=0).sort_values(ascending=False).head(20).index:\n",
    "    print(i)\n",
    "    display(df_cov_8[i].sort_values(ascending=False).head(10))"
   ]
  },
  {
   "cell_type": "code",
   "execution_count": 55,
   "metadata": {
    "scrolled": true
   },
   "outputs": [
    {
     "name": "stdout",
     "output_type": "stream",
     "text": [
      "transports\n"
     ]
    },
    {
     "data": {
      "text/plain": [
       "transports    1.000000\n",
       "communs       0.908046\n",
       "commun        0.766008\n",
       "gratuits      0.747045\n",
       "gratuite      0.714939\n",
       "collectifs    0.640741\n",
       "publics       0.590291\n",
       "trains        0.402827\n",
       "bus           0.392581\n",
       "villes        0.370940\n",
       "Name: transports, dtype: float32"
      ]
     },
     "metadata": {},
     "output_type": "display_data"
    },
    {
     "name": "stdout",
     "output_type": "stream",
     "text": [
      "faire\n"
     ]
    },
    {
     "data": {
      "text/plain": [
       "faire        1.000000\n",
       "economies    0.384127\n",
       "efforts      0.376884\n",
       "payer        0.364136\n",
       "effort       0.343750\n",
       "choix        0.281623\n",
       "gros         0.270455\n",
       "planete      0.261538\n",
       "mieux        0.257745\n",
       "aller        0.254274\n",
       "Name: faire, dtype: float32"
      ]
     },
     "metadata": {},
     "output_type": "display_data"
    },
    {
     "name": "stdout",
     "output_type": "stream",
     "text": [
      "produits\n"
     ]
    },
    {
     "data": {
      "text/plain": [
       "produits        1.000000\n",
       "locaux          0.627863\n",
       "bio             0.554437\n",
       "responsables    0.498403\n",
       "tva             0.485981\n",
       "polluants       0.440407\n",
       "emballages      0.399217\n",
       "produit         0.369128\n",
       "plastique       0.342105\n",
       "impact          0.341667\n",
       "Name: produits, dtype: float32"
      ]
     },
     "metadata": {},
     "output_type": "display_data"
    },
    {
     "name": "stdout",
     "output_type": "stream",
     "text": [
      "prix\n"
     ]
    },
    {
     "data": {
      "text/plain": [
       "prix            1.000000\n",
       "baisser         0.442497\n",
       "baisse          0.346558\n",
       "augmentation    0.288636\n",
       "augmenter       0.280363\n",
       "electriques     0.274107\n",
       "essence         0.271044\n",
       "offre           0.250591\n",
       "diminuer        0.245509\n",
       "bio             0.241537\n",
       "Name: prix, dtype: float32"
      ]
     },
     "metadata": {},
     "output_type": "display_data"
    },
    {
     "name": "stdout",
     "output_type": "stream",
     "text": [
      "commun\n"
     ]
    },
    {
     "data": {
      "text/plain": [
       "commun        1.000000\n",
       "transports    0.607018\n",
       "gratuite      0.524390\n",
       "transport     0.472750\n",
       "gratuit       0.449612\n",
       "gratuits      0.427896\n",
       "reseau        0.384615\n",
       "villes        0.343590\n",
       "cyclables     0.295720\n",
       "bus           0.292117\n",
       "Name: commun, dtype: float32"
      ]
     },
     "metadata": {},
     "output_type": "display_data"
    },
    {
     "name": "stdout",
     "output_type": "stream",
     "text": [
      "aides\n"
     ]
    },
    {
     "data": {
      "text/plain": [
       "aides          1.000000\n",
       "financieres    0.562016\n",
       "fiscales       0.297071\n",
       "isoler         0.296296\n",
       "revenus        0.276094\n",
       "travaux        0.262420\n",
       "isolation      0.243278\n",
       "chaudiere      0.215812\n",
       "maison         0.191228\n",
       "chauffage      0.189227\n",
       "Name: aides, dtype: float32"
      ]
     },
     "metadata": {},
     "output_type": "display_data"
    },
    {
     "name": "stdout",
     "output_type": "stream",
     "text": [
      "voiture\n"
     ]
    },
    {
     "data": {
      "text/plain": [
       "voiture         1.000000\n",
       "electrique      0.374317\n",
       "hybride         0.363057\n",
       "prendre         0.303311\n",
       "diesel          0.299658\n",
       "aller           0.294872\n",
       "acheter         0.275561\n",
       "essence         0.260943\n",
       "deplacements    0.243304\n",
       "utiliser        0.229862\n",
       "Name: voiture, dtype: float32"
      ]
     },
     "metadata": {},
     "output_type": "display_data"
    },
    {
     "name": "stdout",
     "output_type": "stream",
     "text": [
      "tout\n"
     ]
    },
    {
     "data": {
      "text/plain": [
       "tout        1.000000\n",
       "monde       0.662824\n",
       "argent      0.210275\n",
       "temps       0.205212\n",
       "faut        0.191759\n",
       "vie         0.189873\n",
       "arreter     0.188198\n",
       "faudrait    0.164918\n",
       "ecologie    0.163200\n",
       "solution    0.158629\n",
       "Name: tout, dtype: float32"
      ]
     },
     "metadata": {},
     "output_type": "display_data"
    },
    {
     "name": "stdout",
     "output_type": "stream",
     "text": [
      "aide\n"
     ]
    },
    {
     "data": {
      "text/plain": [
       "aide          1.000000\n",
       "financiere    0.464941\n",
       "achat         0.224543\n",
       "isolation     0.199744\n",
       "vehicule      0.195062\n",
       "velo          0.172377\n",
       "electrique    0.162842\n",
       "travaux       0.154140\n",
       "chauffage     0.143161\n",
       "changement    0.141799\n",
       "Name: aide, dtype: float32"
      ]
     },
     "metadata": {},
     "output_type": "display_data"
    },
    {
     "name": "stdout",
     "output_type": "stream",
     "text": [
      "changer\n"
     ]
    },
    {
     "data": {
      "text/plain": [
       "changer          1.000000\n",
       "comportement     0.387709\n",
       "comportements    0.340389\n",
       "chaudiere        0.326923\n",
       "mode             0.244770\n",
       "diesel           0.193493\n",
       "faut             0.184892\n",
       "besoin           0.180624\n",
       "inciter          0.174011\n",
       "moyens           0.159700\n",
       "Name: changer, dtype: float32"
      ]
     },
     "metadata": {},
     "output_type": "display_data"
    },
    {
     "name": "stdout",
     "output_type": "stream",
     "text": [
      "exemple\n"
     ]
    },
    {
     "data": {
      "text/plain": [
       "exemple          1.000000\n",
       "prendre          0.156291\n",
       "dechets          0.132919\n",
       "entreprises      0.132601\n",
       "inciter          0.131073\n",
       "faut             0.122029\n",
       "tous             0.110000\n",
       "place            0.109827\n",
       "mettre           0.109428\n",
       "environnement    0.107239\n",
       "Name: exemple, dtype: float32"
      ]
     },
     "metadata": {},
     "output_type": "display_data"
    },
    {
     "name": "stdout",
     "output_type": "stream",
     "text": [
      "faut\n"
     ]
    },
    {
     "data": {
      "text/plain": [
       "faut        1.000000\n",
       "arreter     0.236045\n",
       "monde       0.190202\n",
       "citoyens    0.175839\n",
       "ecologie    0.174400\n",
       "inciter     0.170621\n",
       "argent      0.169654\n",
       "tout        0.163661\n",
       "changer     0.163322\n",
       "france      0.162367\n",
       "Name: faut, dtype: float32"
      ]
     },
     "metadata": {},
     "output_type": "display_data"
    },
    {
     "name": "stdout",
     "output_type": "stream",
     "text": [
      "electrique\n"
     ]
    },
    {
     "data": {
      "text/plain": [
       "electrique    1.000000\n",
       "hybride       0.535032\n",
       "vehicule      0.351852\n",
       "hydrogene     0.347826\n",
       "velo          0.328694\n",
       "voiture       0.288178\n",
       "diesel        0.272260\n",
       "achat         0.271540\n",
       "essence       0.235690\n",
       "acheter       0.234414\n",
       "Name: electrique, dtype: float32"
      ]
     },
     "metadata": {},
     "output_type": "display_data"
    },
    {
     "name": "stdout",
     "output_type": "stream",
     "text": [
      "tous\n"
     ]
    },
    {
     "data": {
      "text/plain": [
       "tous             1.000000\n",
       "ans              0.188870\n",
       "citoyens         0.161074\n",
       "environnement    0.109026\n",
       "faut             0.108822\n",
       "produits         0.103167\n",
       "exemple          0.101538\n",
       "mettre           0.101010\n",
       "non              0.100421\n",
       "tout             0.099188\n",
       "Name: tous, dtype: float32"
      ]
     },
     "metadata": {},
     "output_type": "display_data"
    },
    {
     "name": "stdout",
     "output_type": "stream",
     "text": [
      "non\n"
     ]
    },
    {
     "data": {
      "text/plain": [
       "non              1.000000\n",
       "polluants        0.213663\n",
       "produits         0.115573\n",
       "bio              0.108875\n",
       "taxer            0.105874\n",
       "taxe             0.098170\n",
       "entreprises      0.097436\n",
       "voitures         0.096552\n",
       "faut             0.095087\n",
       "environnement    0.094727\n",
       "Name: non, dtype: float32"
      ]
     },
     "metadata": {},
     "output_type": "display_data"
    },
    {
     "name": "stdout",
     "output_type": "stream",
     "text": [
      "transport\n"
     ]
    },
    {
     "data": {
      "text/plain": [
       "transport     1.000000\n",
       "gratuit       0.387597\n",
       "commun        0.262943\n",
       "train         0.173454\n",
       "moyens        0.144695\n",
       "developper    0.115315\n",
       "cout          0.103343\n",
       "place         0.095789\n",
       "voiture       0.092133\n",
       "taxer         0.077186\n",
       "Name: transport, dtype: float32"
      ]
     },
     "metadata": {},
     "output_type": "display_data"
    },
    {
     "name": "stdout",
     "output_type": "stream",
     "text": [
      "ecologique\n"
     ]
    },
    {
     "data": {
      "text/plain": [
       "ecologique     1.000000\n",
       "transition     0.590698\n",
       "fiscalite      0.277078\n",
       "impact         0.256250\n",
       "financer       0.194245\n",
       "bonus          0.167752\n",
       "taxe           0.142263\n",
       "tva            0.123053\n",
       "entreprises    0.112821\n",
       "tout           0.097385\n",
       "Name: ecologique, dtype: float32"
      ]
     },
     "metadata": {},
     "output_type": "display_data"
    },
    {
     "name": "stdout",
     "output_type": "stream",
     "text": [
      "vehicule\n"
     ]
    },
    {
     "data": {
      "text/plain": [
       "vehicule      1.000000\n",
       "hybride       0.522293\n",
       "propre        0.396330\n",
       "polluant      0.394541\n",
       "diesel        0.323630\n",
       "electrique    0.311475\n",
       "achat         0.276762\n",
       "prime         0.240000\n",
       "acheter       0.223192\n",
       "essence       0.215488\n",
       "Name: vehicule, dtype: float32"
      ]
     },
     "metadata": {},
     "output_type": "display_data"
    },
    {
     "name": "stdout",
     "output_type": "stream",
     "text": [
      "vehicules\n"
     ]
    },
    {
     "data": {
      "text/plain": [
       "vehicules        1.000000\n",
       "electriques      0.434821\n",
       "propres          0.399638\n",
       "constructeurs    0.392491\n",
       "hydrogene        0.326087\n",
       "polluants        0.325581\n",
       "diesel           0.210616\n",
       "essence          0.171717\n",
       "achat            0.161880\n",
       "vehicule         0.138272\n",
       "Name: vehicules, dtype: float32"
      ]
     },
     "metadata": {},
     "output_type": "display_data"
    },
    {
     "name": "stdout",
     "output_type": "stream",
     "text": [
      "taxes\n"
     ]
    },
    {
     "data": {
      "text/plain": [
       "taxes         1.000000\n",
       "carburants    0.297688\n",
       "augmenter     0.167991\n",
       "baisser       0.159912\n",
       "taxe          0.118968\n",
       "transition    0.117442\n",
       "impots        0.115412\n",
       "produits      0.114267\n",
       "taxer         0.082650\n",
       "ecologique    0.082360\n",
       "Name: taxes, dtype: float32"
      ]
     },
     "metadata": {},
     "output_type": "display_data"
    }
   ],
   "source": [
    "for i in df_qu_8_one_hot.sum(axis=0).sort_values(ascending=False).head(20).index:\n",
    "    print(i)\n",
    "    display(df_confidence_8[i].sort_values(ascending=False).head(10))"
   ]
  },
  {
   "cell_type": "code",
   "execution_count": 56,
   "metadata": {
    "scrolled": true
   },
   "outputs": [
    {
     "name": "stdout",
     "output_type": "stream",
     "text": [
      "transports\n"
     ]
    },
    {
     "data": {
      "text/plain": [
       "transports    0.000270\n",
       "communs       0.000245\n",
       "commun        0.000207\n",
       "gratuits      0.000202\n",
       "gratuite      0.000193\n",
       "collectifs    0.000173\n",
       "publics       0.000159\n",
       "trains        0.000109\n",
       "bus           0.000106\n",
       "villes        0.000100\n",
       "Name: transports, dtype: float32"
      ]
     },
     "metadata": {},
     "output_type": "display_data"
    },
    {
     "name": "stdout",
     "output_type": "stream",
     "text": [
      "faire\n"
     ]
    },
    {
     "data": {
      "text/plain": [
       "faire        0.000319\n",
       "economies    0.000122\n",
       "efforts      0.000120\n",
       "payer        0.000116\n",
       "effort       0.000110\n",
       "choix        0.000090\n",
       "gros         0.000086\n",
       "planete      0.000083\n",
       "mieux        0.000082\n",
       "aller        0.000081\n",
       "Name: faire, dtype: float32"
      ]
     },
     "metadata": {},
     "output_type": "display_data"
    },
    {
     "name": "stdout",
     "output_type": "stream",
     "text": [
      "produits\n"
     ]
    },
    {
     "data": {
      "text/plain": [
       "produits        0.000326\n",
       "locaux          0.000205\n",
       "bio             0.000181\n",
       "responsables    0.000163\n",
       "tva             0.000159\n",
       "polluants       0.000144\n",
       "emballages      0.000130\n",
       "produit         0.000121\n",
       "plastique       0.000112\n",
       "impact          0.000112\n",
       "Name: produits, dtype: float32"
      ]
     },
     "metadata": {},
     "output_type": "display_data"
    },
    {
     "name": "stdout",
     "output_type": "stream",
     "text": [
      "prix\n"
     ]
    },
    {
     "data": {
      "text/plain": [
       "prix            0.000341\n",
       "baisser         0.000151\n",
       "baisse          0.000118\n",
       "augmentation    0.000098\n",
       "augmenter       0.000095\n",
       "electriques     0.000093\n",
       "essence         0.000092\n",
       "offre           0.000085\n",
       "diminuer        0.000084\n",
       "bio             0.000082\n",
       "Name: prix, dtype: float32"
      ]
     },
     "metadata": {},
     "output_type": "display_data"
    },
    {
     "name": "stdout",
     "output_type": "stream",
     "text": [
      "commun\n"
     ]
    },
    {
     "data": {
      "text/plain": [
       "commun        0.000341\n",
       "transports    0.000207\n",
       "gratuite      0.000179\n",
       "transport     0.000161\n",
       "gratuit       0.000153\n",
       "gratuits      0.000146\n",
       "reseau        0.000131\n",
       "villes        0.000117\n",
       "cyclables     0.000101\n",
       "bus           0.000099\n",
       "Name: commun, dtype: float32"
      ]
     },
     "metadata": {},
     "output_type": "display_data"
    },
    {
     "name": "stdout",
     "output_type": "stream",
     "text": [
      "aides\n"
     ]
    },
    {
     "data": {
      "text/plain": [
       "aides          0.000375\n",
       "financieres    0.000211\n",
       "fiscales       0.000111\n",
       "isoler         0.000111\n",
       "revenus        0.000104\n",
       "travaux        0.000098\n",
       "isolation      0.000091\n",
       "chaudiere      0.000081\n",
       "maison         0.000072\n",
       "chauffage      0.000071\n",
       "Name: aides, dtype: float32"
      ]
     },
     "metadata": {},
     "output_type": "display_data"
    },
    {
     "name": "stdout",
     "output_type": "stream",
     "text": [
      "voiture\n"
     ]
    },
    {
     "data": {
      "text/plain": [
       "voiture         0.000421\n",
       "electrique      0.000157\n",
       "hybride         0.000153\n",
       "prendre         0.000128\n",
       "diesel          0.000126\n",
       "aller           0.000124\n",
       "acheter         0.000116\n",
       "essence         0.000110\n",
       "deplacements    0.000102\n",
       "utiliser        0.000097\n",
       "Name: voiture, dtype: float32"
      ]
     },
     "metadata": {},
     "output_type": "display_data"
    },
    {
     "name": "stdout",
     "output_type": "stream",
     "text": [
      "tout\n"
     ]
    },
    {
     "data": {
      "text/plain": [
       "tout        0.000451\n",
       "monde       0.000299\n",
       "argent      0.000095\n",
       "temps       0.000093\n",
       "faut        0.000086\n",
       "vie         0.000086\n",
       "arreter     0.000085\n",
       "faudrait    0.000074\n",
       "ecologie    0.000074\n",
       "solution    0.000072\n",
       "Name: tout, dtype: float32"
      ]
     },
     "metadata": {},
     "output_type": "display_data"
    },
    {
     "name": "stdout",
     "output_type": "stream",
     "text": [
      "aide\n"
     ]
    },
    {
     "data": {
      "text/plain": [
       "aide          0.000463\n",
       "financiere    0.000215\n",
       "achat         0.000104\n",
       "isolation     0.000093\n",
       "vehicule      0.000090\n",
       "velo          0.000080\n",
       "electrique    0.000075\n",
       "travaux       0.000071\n",
       "chauffage     0.000066\n",
       "changement    0.000066\n",
       "Name: aide, dtype: float32"
      ]
     },
     "metadata": {},
     "output_type": "display_data"
    },
    {
     "name": "stdout",
     "output_type": "stream",
     "text": [
      "changer\n"
     ]
    },
    {
     "data": {
      "text/plain": [
       "changer          0.000467\n",
       "comportement     0.000181\n",
       "comportements    0.000159\n",
       "chaudiere        0.000153\n",
       "mode             0.000114\n",
       "diesel           0.000090\n",
       "faut             0.000086\n",
       "besoin           0.000084\n",
       "inciter          0.000081\n",
       "moyens           0.000075\n",
       "Name: changer, dtype: float32"
      ]
     },
     "metadata": {},
     "output_type": "display_data"
    },
    {
     "name": "stdout",
     "output_type": "stream",
     "text": [
      "exemple\n"
     ]
    },
    {
     "data": {
      "text/plain": [
       "exemple          0.000513\n",
       "prendre          0.000080\n",
       "dechets          0.000068\n",
       "entreprises      0.000068\n",
       "inciter          0.000067\n",
       "faut             0.000063\n",
       "tous             0.000056\n",
       "place            0.000056\n",
       "mettre           0.000056\n",
       "environnement    0.000055\n",
       "Name: exemple, dtype: float32"
      ]
     },
     "metadata": {},
     "output_type": "display_data"
    },
    {
     "name": "stdout",
     "output_type": "stream",
     "text": [
      "faut\n"
     ]
    },
    {
     "data": {
      "text/plain": [
       "faut        0.000528\n",
       "arreter     0.000125\n",
       "monde       0.000100\n",
       "citoyens    0.000093\n",
       "ecologie    0.000092\n",
       "inciter     0.000090\n",
       "argent      0.000090\n",
       "tout        0.000086\n",
       "changer     0.000086\n",
       "france      0.000086\n",
       "Name: faut, dtype: float32"
      ]
     },
     "metadata": {},
     "output_type": "display_data"
    },
    {
     "name": "stdout",
     "output_type": "stream",
     "text": [
      "electrique\n"
     ]
    },
    {
     "data": {
      "text/plain": [
       "electrique    0.000546\n",
       "hybride       0.000292\n",
       "vehicule      0.000192\n",
       "hydrogene     0.000190\n",
       "velo          0.000180\n",
       "voiture       0.000157\n",
       "diesel        0.000149\n",
       "achat         0.000148\n",
       "essence       0.000129\n",
       "acheter       0.000128\n",
       "Name: electrique, dtype: float32"
      ]
     },
     "metadata": {},
     "output_type": "display_data"
    },
    {
     "name": "stdout",
     "output_type": "stream",
     "text": [
      "tous\n"
     ]
    },
    {
     "data": {
      "text/plain": [
       "tous             0.000556\n",
       "ans              0.000105\n",
       "citoyens         0.000089\n",
       "environnement    0.000061\n",
       "faut             0.000060\n",
       "produits         0.000057\n",
       "exemple          0.000056\n",
       "mettre           0.000056\n",
       "non              0.000056\n",
       "tout             0.000055\n",
       "Name: tous, dtype: float32"
      ]
     },
     "metadata": {},
     "output_type": "display_data"
    },
    {
     "name": "stdout",
     "output_type": "stream",
     "text": [
      "non\n"
     ]
    },
    {
     "data": {
      "text/plain": [
       "non              0.000601\n",
       "polluants        0.000128\n",
       "produits         0.000069\n",
       "bio              0.000065\n",
       "taxer            0.000064\n",
       "taxe             0.000059\n",
       "entreprises      0.000059\n",
       "voitures         0.000058\n",
       "faut             0.000057\n",
       "environnement    0.000057\n",
       "Name: non, dtype: float32"
      ]
     },
     "metadata": {},
     "output_type": "display_data"
    },
    {
     "name": "stdout",
     "output_type": "stream",
     "text": [
      "transport\n"
     ]
    },
    {
     "data": {
      "text/plain": [
       "transport     0.000612\n",
       "gratuit       0.000237\n",
       "commun        0.000161\n",
       "train         0.000106\n",
       "moyens        0.000089\n",
       "developper    0.000071\n",
       "cout          0.000063\n",
       "place         0.000059\n",
       "voiture       0.000056\n",
       "taxer         0.000047\n",
       "Name: transport, dtype: float32"
      ]
     },
     "metadata": {},
     "output_type": "display_data"
    },
    {
     "name": "stdout",
     "output_type": "stream",
     "text": [
      "ecologique\n"
     ]
    },
    {
     "data": {
      "text/plain": [
       "ecologique     0.000615\n",
       "transition     0.000363\n",
       "fiscalite      0.000170\n",
       "impact         0.000157\n",
       "financer       0.000119\n",
       "bonus          0.000103\n",
       "taxe           0.000087\n",
       "tva            0.000076\n",
       "entreprises    0.000069\n",
       "tout           0.000060\n",
       "Name: ecologique, dtype: float32"
      ]
     },
     "metadata": {},
     "output_type": "display_data"
    },
    {
     "name": "stdout",
     "output_type": "stream",
     "text": [
      "vehicule\n"
     ]
    },
    {
     "data": {
      "text/plain": [
       "vehicule      0.000617\n",
       "hybride       0.000322\n",
       "propre        0.000245\n",
       "polluant      0.000244\n",
       "diesel        0.000200\n",
       "electrique    0.000192\n",
       "achat         0.000171\n",
       "prime         0.000148\n",
       "acheter       0.000138\n",
       "essence       0.000133\n",
       "Name: vehicule, dtype: float32"
      ]
     },
     "metadata": {},
     "output_type": "display_data"
    },
    {
     "name": "stdout",
     "output_type": "stream",
     "text": [
      "vehicules\n"
     ]
    },
    {
     "data": {
      "text/plain": [
       "vehicules        0.000625\n",
       "electriques      0.000272\n",
       "propres          0.000250\n",
       "constructeurs    0.000245\n",
       "hydrogene        0.000204\n",
       "polluants        0.000204\n",
       "diesel           0.000132\n",
       "essence          0.000107\n",
       "achat            0.000101\n",
       "vehicule         0.000086\n",
       "Name: vehicules, dtype: float32"
      ]
     },
     "metadata": {},
     "output_type": "display_data"
    },
    {
     "name": "stdout",
     "output_type": "stream",
     "text": [
      "taxes\n"
     ]
    },
    {
     "data": {
      "text/plain": [
       "taxes         0.000627\n",
       "carburants    0.000187\n",
       "augmenter     0.000105\n",
       "baisser       0.000100\n",
       "taxe          0.000075\n",
       "transition    0.000074\n",
       "impots        0.000072\n",
       "produits      0.000072\n",
       "taxer         0.000052\n",
       "ecologique    0.000052\n",
       "Name: taxes, dtype: float32"
      ]
     },
     "metadata": {},
     "output_type": "display_data"
    }
   ],
   "source": [
    "for i in df_qu_8_one_hot.sum(axis=0).sort_values(ascending=False).head(20).index:\n",
    "    print(i)\n",
    "    display(df_lift_8[i].sort_values(ascending=False).head(10))"
   ]
  },
  {
   "cell_type": "code",
   "execution_count": 57,
   "metadata": {},
   "outputs": [
    {
     "data": {
      "text/plain": [
       "126"
      ]
     },
     "execution_count": 57,
     "metadata": {},
     "output_type": "execute_result"
    }
   ],
   "source": [
    "gc.collect()"
   ]
  },
  {
   "cell_type": "code",
   "execution_count": null,
   "metadata": {
    "collapsed": true
   },
   "outputs": [],
   "source": []
  },
  {
   "cell_type": "markdown",
   "metadata": {},
   "source": [
    "# Question 9 :  Par rapport à votre mode de chauffage actuel, pensez-vous qu'il existe des solutions alternatives plus écologiques ?"
   ]
  },
  {
   "cell_type": "code",
   "execution_count": 59,
   "metadata": {},
   "outputs": [],
   "source": [
    "question_9 = \"Par rapport à votre mode de chauffage actuel, pensez-vous qu'il existe des solutions alternatives plus écologiques ?\"\n",
    "qu_9,df_qu_9_one_hot,df_cov_9,df_confidence_9,df_lift_9 = compute_similarities(question_9, new_res)"
   ]
  },
  {
   "cell_type": "code",
   "execution_count": 60,
   "metadata": {
    "scrolled": true
   },
   "outputs": [
    {
     "name": "stdout",
     "output_type": "stream",
     "text": [
      "oui\n"
     ]
    },
    {
     "data": {
      "text/plain": [
       "oui    27145\n",
       "non        0\n",
       "Name: oui, dtype: uint16"
      ]
     },
     "metadata": {},
     "output_type": "display_data"
    },
    {
     "name": "stdout",
     "output_type": "stream",
     "text": [
      "non\n"
     ]
    },
    {
     "data": {
      "text/plain": [
       "non    18389\n",
       "oui        0\n",
       "Name: non, dtype: uint16"
      ]
     },
     "metadata": {},
     "output_type": "display_data"
    }
   ],
   "source": [
    "for i in df_qu_9_one_hot.sum(axis=0).sort_values(ascending=False).head(20).index:\n",
    "    print(i)\n",
    "    display(df_cov_9[i].sort_values(ascending=False).head(10))"
   ]
  },
  {
   "cell_type": "code",
   "execution_count": 61,
   "metadata": {
    "scrolled": true
   },
   "outputs": [
    {
     "name": "stdout",
     "output_type": "stream",
     "text": [
      "oui\n"
     ]
    },
    {
     "data": {
      "text/plain": [
       "oui    1.0\n",
       "non    0.0\n",
       "Name: oui, dtype: float32"
      ]
     },
     "metadata": {},
     "output_type": "display_data"
    },
    {
     "name": "stdout",
     "output_type": "stream",
     "text": [
      "non\n"
     ]
    },
    {
     "data": {
      "text/plain": [
       "non    1.0\n",
       "oui    0.0\n",
       "Name: non, dtype: float32"
      ]
     },
     "metadata": {},
     "output_type": "display_data"
    }
   ],
   "source": [
    "for i in df_qu_9_one_hot.sum(axis=0).sort_values(ascending=False).head(20).index:\n",
    "    print(i)\n",
    "    display(df_confidence_9[i].sort_values(ascending=False).head(10))"
   ]
  },
  {
   "cell_type": "code",
   "execution_count": 62,
   "metadata": {
    "scrolled": true
   },
   "outputs": [
    {
     "name": "stdout",
     "output_type": "stream",
     "text": [
      "oui\n"
     ]
    },
    {
     "data": {
      "text/plain": [
       "oui    0.000037\n",
       "non         NaN\n",
       "Name: oui, dtype: float32"
      ]
     },
     "metadata": {},
     "output_type": "display_data"
    },
    {
     "name": "stdout",
     "output_type": "stream",
     "text": [
      "non\n"
     ]
    },
    {
     "data": {
      "text/plain": [
       "non    0.000054\n",
       "oui         NaN\n",
       "Name: non, dtype: float32"
      ]
     },
     "metadata": {},
     "output_type": "display_data"
    }
   ],
   "source": [
    "for i in df_qu_9_one_hot.sum(axis=0).sort_values(ascending=False).head(20).index:\n",
    "    print(i)\n",
    "    display(df_lift_9[i].sort_values(ascending=False).head(10))"
   ]
  },
  {
   "cell_type": "code",
   "execution_count": 63,
   "metadata": {},
   "outputs": [
    {
     "data": {
      "text/plain": [
       "14"
      ]
     },
     "execution_count": 63,
     "metadata": {},
     "output_type": "execute_result"
    }
   ],
   "source": [
    "gc.collect()"
   ]
  },
  {
   "cell_type": "markdown",
   "metadata": {},
   "source": [
    "# Question 10 :  Si oui, que faudrait-il faire pour vous convaincre ou vous aider à changer de mode de chauffage ?"
   ]
  },
  {
   "cell_type": "code",
   "execution_count": 64,
   "metadata": {
    "collapsed": true
   },
   "outputs": [],
   "source": [
    "question_10 = \"Si oui, que faudrait-il faire pour vous convaincre ou vous aider à changer de mode de chauffage ?\"\n",
    "qu_10,df_qu_10_one_hot,df_cov_10,df_confidence_10,df_lift_10 = compute_similarities(question_10, new_res)"
   ]
  },
  {
   "cell_type": "code",
   "execution_count": 65,
   "metadata": {
    "scrolled": true
   },
   "outputs": [
    {
     "name": "stdout",
     "output_type": "stream",
     "text": [
      "chauffage\n"
     ]
    },
    {
     "data": {
      "text/plain": [
       "chauffage     5666\n",
       "mode          1506\n",
       "changer        917\n",
       "electrique     776\n",
       "isolation      668\n",
       "gaz            653\n",
       "bois           583\n",
       "ecologique     545\n",
       "faire          505\n",
       "aides          498\n",
       "Name: chauffage, dtype: uint16"
      ]
     },
     "metadata": {},
     "output_type": "display_data"
    },
    {
     "name": "stdout",
     "output_type": "stream",
     "text": [
      "aide\n"
     ]
    },
    {
     "data": {
      "text/plain": [
       "aide            3202\n",
       "financiere      1350\n",
       "chauffage        452\n",
       "chaudiere        312\n",
       "installation     251\n",
       "changer          245\n",
       "chaleur          234\n",
       "isolation        224\n",
       "panneaux         217\n",
       "pompe            192\n",
       "Name: aide, dtype: uint16"
      ]
     },
     "metadata": {},
     "output_type": "display_data"
    },
    {
     "name": "stdout",
     "output_type": "stream",
     "text": [
      "aides\n"
     ]
    },
    {
     "data": {
      "text/plain": [
       "aides          2878\n",
       "financieres     719\n",
       "chauffage       498\n",
       "isolation       274\n",
       "changer         241\n",
       "chaudiere       239\n",
       "faire           218\n",
       "mode            193\n",
       "prix            179\n",
       "chaleur         178\n",
       "Name: aides, dtype: uint16"
      ]
     },
     "metadata": {},
     "output_type": "display_data"
    },
    {
     "name": "stdout",
     "output_type": "stream",
     "text": [
      "chaleur\n"
     ]
    },
    {
     "data": {
      "text/plain": [
       "chaleur         2170\n",
       "pompe           1513\n",
       "chauffage        478\n",
       "pompes           422\n",
       "chaudiere        311\n",
       "gaz              277\n",
       "aide             234\n",
       "panneaux         232\n",
       "solaire          206\n",
       "installation     194\n",
       "Name: chaleur, dtype: uint16"
      ]
     },
     "metadata": {},
     "output_type": "display_data"
    },
    {
     "name": "stdout",
     "output_type": "stream",
     "text": [
      "chaudiere\n"
     ]
    },
    {
     "data": {
      "text/plain": [
       "chaudiere       2043\n",
       "gaz              635\n",
       "changer          507\n",
       "chauffage        372\n",
       "condensation     345\n",
       "aide             312\n",
       "chaleur          311\n",
       "pompe            269\n",
       "fioul            243\n",
       "aides            239\n",
       "Name: chaudiere, dtype: uint16"
      ]
     },
     "metadata": {},
     "output_type": "display_data"
    },
    {
     "name": "stdout",
     "output_type": "stream",
     "text": [
      "panneaux\n"
     ]
    },
    {
     "data": {
      "text/plain": [
       "panneaux           2035\n",
       "solaires           1541\n",
       "installation        334\n",
       "chauffage           333\n",
       "photovoltaiques     282\n",
       "installer           241\n",
       "chaleur             232\n",
       "solaire             230\n",
       "aide                217\n",
       "energie             175\n",
       "Name: panneaux, dtype: uint16"
      ]
     },
     "metadata": {},
     "output_type": "display_data"
    },
    {
     "name": "stdout",
     "output_type": "stream",
     "text": [
      "isolation\n"
     ]
    },
    {
     "data": {
      "text/plain": [
       "isolation    1971\n",
       "chauffage     668\n",
       "aides         274\n",
       "aide          224\n",
       "travaux       219\n",
       "mode          206\n",
       "maison        205\n",
       "faire         196\n",
       "energie       195\n",
       "faut          178\n",
       "Name: isolation, dtype: uint16"
      ]
     },
     "metadata": {},
     "output_type": "display_data"
    },
    {
     "name": "stdout",
     "output_type": "stream",
     "text": [
      "faire\n"
     ]
    },
    {
     "data": {
      "text/plain": [
       "faire        1936\n",
       "chauffage     505\n",
       "travaux       245\n",
       "faut          224\n",
       "aides         218\n",
       "changer       213\n",
       "isolation     196\n",
       "energie       193\n",
       "chaudiere     189\n",
       "tout          173\n",
       "Name: faire, dtype: uint16"
      ]
     },
     "metadata": {},
     "output_type": "display_data"
    },
    {
     "name": "stdout",
     "output_type": "stream",
     "text": [
      "changer\n"
     ]
    },
    {
     "data": {
      "text/plain": [
       "changer      1927\n",
       "chauffage     917\n",
       "mode          527\n",
       "chaudiere     507\n",
       "gaz           251\n",
       "aide          245\n",
       "aides         241\n",
       "faire         213\n",
       "faut          190\n",
       "moyens        169\n",
       "Name: changer, dtype: uint16"
      ]
     },
     "metadata": {},
     "output_type": "display_data"
    },
    {
     "name": "stdout",
     "output_type": "stream",
     "text": [
      "solaire\n"
     ]
    },
    {
     "data": {
      "text/plain": [
       "solaire         1890\n",
       "chauffage        439\n",
       "energie          359\n",
       "eau              241\n",
       "panneaux         230\n",
       "eolien           216\n",
       "chaleur          206\n",
       "installation     188\n",
       "geothermie       175\n",
       "chauffe          157\n",
       "Name: solaire, dtype: uint16"
      ]
     },
     "metadata": {},
     "output_type": "display_data"
    },
    {
     "name": "stdout",
     "output_type": "stream",
     "text": [
      "gaz\n"
     ]
    },
    {
     "data": {
      "text/plain": [
       "gaz             1795\n",
       "chauffage        653\n",
       "chaudiere        635\n",
       "chaleur          277\n",
       "changer          251\n",
       "bois             224\n",
       "ville            221\n",
       "electricite      211\n",
       "pompe            206\n",
       "condensation     184\n",
       "Name: gaz, dtype: uint16"
      ]
     },
     "metadata": {},
     "output_type": "display_data"
    },
    {
     "name": "stdout",
     "output_type": "stream",
     "text": [
      "energie\n"
     ]
    },
    {
     "data": {
      "text/plain": [
       "energie        1761\n",
       "chauffage       456\n",
       "solaire         359\n",
       "isolation       195\n",
       "faire           193\n",
       "electrique      184\n",
       "electricite     176\n",
       "faut            176\n",
       "panneaux        175\n",
       "gaz             174\n",
       "Name: energie, dtype: uint16"
      ]
     },
     "metadata": {},
     "output_type": "display_data"
    },
    {
     "name": "stdout",
     "output_type": "stream",
     "text": [
      "solaires\n"
     ]
    },
    {
     "data": {
      "text/plain": [
       "solaires        1699\n",
       "panneaux        1541\n",
       "chauffage        286\n",
       "installation     260\n",
       "installer        197\n",
       "chaleur          179\n",
       "aide             175\n",
       "energie          148\n",
       "aides            142\n",
       "faire            129\n",
       "Name: solaires, dtype: uint16"
      ]
     },
     "metadata": {},
     "output_type": "display_data"
    },
    {
     "name": "stdout",
     "output_type": "stream",
     "text": [
      "financiere\n"
     ]
    },
    {
     "data": {
      "text/plain": [
       "financiere     1690\n",
       "aide           1350\n",
       "incitation      200\n",
       "chauffage       187\n",
       "changer         115\n",
       "chaudiere       107\n",
       "subventions       0\n",
       "moyens            0\n",
       "pompes            0\n",
       "systeme           0\n",
       "Name: financiere, dtype: uint16"
      ]
     },
     "metadata": {},
     "output_type": "display_data"
    },
    {
     "name": "stdout",
     "output_type": "stream",
     "text": [
      "mode\n"
     ]
    },
    {
     "data": {
      "text/plain": [
       "mode          1633\n",
       "chauffage     1506\n",
       "changer        527\n",
       "ecologique     255\n",
       "isolation      206\n",
       "aides          193\n",
       "faire          172\n",
       "faut           172\n",
       "changement     165\n",
       "aide           159\n",
       "Name: mode, dtype: uint16"
      ]
     },
     "metadata": {},
     "output_type": "display_data"
    },
    {
     "name": "stdout",
     "output_type": "stream",
     "text": [
      "pompe\n"
     ]
    },
    {
     "data": {
      "text/plain": [
       "pompe           1525\n",
       "chaleur         1513\n",
       "chauffage        343\n",
       "chaudiere        269\n",
       "gaz              206\n",
       "aide             192\n",
       "panneaux         157\n",
       "solaire          147\n",
       "installation     141\n",
       "eau              132\n",
       "Name: pompe, dtype: uint16"
      ]
     },
     "metadata": {},
     "output_type": "display_data"
    },
    {
     "name": "stdout",
     "output_type": "stream",
     "text": [
      "prix\n"
     ]
    },
    {
     "data": {
      "text/plain": [
       "prix           1482\n",
       "chauffage       274\n",
       "baisser         228\n",
       "aides           179\n",
       "faire           160\n",
       "chaleur         159\n",
       "electricite     146\n",
       "gaz             143\n",
       "chaudiere       136\n",
       "aide            131\n",
       "Name: prix, dtype: uint16"
      ]
     },
     "metadata": {},
     "output_type": "display_data"
    },
    {
     "name": "stdout",
     "output_type": "stream",
     "text": [
      "bois\n"
     ]
    },
    {
     "data": {
      "text/plain": [
       "bois           1387\n",
       "chauffage       583\n",
       "poele           291\n",
       "chaudiere       238\n",
       "gaz             224\n",
       "chauffe         219\n",
       "chaleur         178\n",
       "electrique      167\n",
       "granules        151\n",
       "electricite     139\n",
       "Name: bois, dtype: uint16"
      ]
     },
     "metadata": {},
     "output_type": "display_data"
    },
    {
     "name": "stdout",
     "output_type": "stream",
     "text": [
      "electrique\n"
     ]
    },
    {
     "data": {
      "text/plain": [
       "electrique     1305\n",
       "chauffage       776\n",
       "tout            247\n",
       "electricite     194\n",
       "nucleaire       189\n",
       "energie         184\n",
       "gaz             177\n",
       "bois            167\n",
       "chaleur         141\n",
       "changer         139\n",
       "Name: electrique, dtype: uint16"
      ]
     },
     "metadata": {},
     "output_type": "display_data"
    },
    {
     "name": "stdout",
     "output_type": "stream",
     "text": [
      "installation\n"
     ]
    },
    {
     "data": {
      "text/plain": [
       "installation    1273\n",
       "panneaux         334\n",
       "chauffage        274\n",
       "solaires         260\n",
       "aide             251\n",
       "chaleur          194\n",
       "solaire          188\n",
       "cout             155\n",
       "aides            154\n",
       "pompe            141\n",
       "Name: installation, dtype: uint16"
      ]
     },
     "metadata": {},
     "output_type": "display_data"
    }
   ],
   "source": [
    "for i in df_qu_10_one_hot.sum(axis=0).sort_values(ascending=False).head(20).index:\n",
    "    print(i)\n",
    "    display(df_cov_10[i].sort_values(ascending=False).head(10))"
   ]
  },
  {
   "cell_type": "code",
   "execution_count": 66,
   "metadata": {
    "scrolled": true
   },
   "outputs": [
    {
     "name": "stdout",
     "output_type": "stream",
     "text": [
      "chauffage\n"
     ]
    },
    {
     "data": {
      "text/plain": [
       "chauffage     1.000000\n",
       "mode          0.922229\n",
       "collectif     0.749147\n",
       "modes         0.699597\n",
       "electrique    0.594636\n",
       "systeme       0.507772\n",
       "type          0.487805\n",
       "changer       0.475869\n",
       "ecologique    0.461864\n",
       "systemes      0.450382\n",
       "Name: chauffage, dtype: float32"
      ]
     },
     "metadata": {},
     "output_type": "display_data"
    },
    {
     "name": "stdout",
     "output_type": "stream",
     "text": [
      "aide\n"
     ]
    },
    {
     "data": {
      "text/plain": [
       "aide            1.000000\n",
       "financiere      0.798817\n",
       "fiscale         0.301939\n",
       "revenus         0.256790\n",
       "financement     0.241176\n",
       "changement      0.199317\n",
       "installation    0.197172\n",
       "achat           0.189435\n",
       "chaudiere       0.152717\n",
       "credit          0.151141\n",
       "Name: aide, dtype: float32"
      ]
     },
     "metadata": {},
     "output_type": "display_data"
    },
    {
     "name": "stdout",
     "output_type": "stream",
     "text": [
      "aides\n"
     ]
    },
    {
     "data": {
      "text/plain": [
       "aides          1.000000\n",
       "financieres    0.827388\n",
       "fiscales       0.360825\n",
       "revenus        0.323457\n",
       "impots         0.190283\n",
       "travaux        0.172892\n",
       "changement     0.165148\n",
       "tous           0.164557\n",
       "moyens         0.142526\n",
       "isolation      0.139016\n",
       "Name: aides, dtype: float32"
      ]
     },
     "metadata": {},
     "output_type": "display_data"
    },
    {
     "name": "stdout",
     "output_type": "stream",
     "text": [
      "chaleur\n"
     ]
    },
    {
     "data": {
      "text/plain": [
       "chaleur         1.000000\n",
       "pompe           0.992131\n",
       "pompes          0.925439\n",
       "eau             0.268562\n",
       "installer       0.192308\n",
       "gaz             0.154318\n",
       "installation    0.152396\n",
       "chaudiere       0.152227\n",
       "ans             0.150219\n",
       "geothermie      0.148189\n",
       "Name: chaleur, dtype: float32"
      ]
     },
     "metadata": {},
     "output_type": "display_data"
    },
    {
     "name": "stdout",
     "output_type": "stream",
     "text": [
      "chaudiere\n"
     ]
    },
    {
     "data": {
      "text/plain": [
       "chaudiere       1.000000\n",
       "condensation    0.907895\n",
       "fuel            0.503979\n",
       "fioul           0.486974\n",
       "remplacer       0.402685\n",
       "gaz             0.353760\n",
       "granules        0.300860\n",
       "changer         0.263103\n",
       "changement      0.240319\n",
       "ans             0.237939\n",
       "Name: chaudiere, dtype: float32"
      ]
     },
     "metadata": {},
     "output_type": "display_data"
    },
    {
     "name": "stdout",
     "output_type": "stream",
     "text": [
      "panneaux\n"
     ]
    },
    {
     "data": {
      "text/plain": [
       "panneaux           1.000000\n",
       "solaires           0.907004\n",
       "photovoltaiques    0.836795\n",
       "toit               0.583969\n",
       "installer          0.370769\n",
       "installation       0.262372\n",
       "eau                0.208531\n",
       "mettre             0.188347\n",
       "exemple            0.161785\n",
       "electricite        0.138103\n",
       "Name: panneaux, dtype: float32"
      ]
     },
     "metadata": {},
     "output_type": "display_data"
    },
    {
     "name": "stdout",
     "output_type": "stream",
     "text": [
      "isolation\n"
     ]
    },
    {
     "data": {
      "text/plain": [
       "isolation        1.000000\n",
       "ameliorer        0.474843\n",
       "thermique        0.448571\n",
       "meilleure        0.438547\n",
       "batiments        0.380247\n",
       "logements        0.319328\n",
       "travaux          0.233725\n",
       "proprietaires    0.195340\n",
       "logement         0.187664\n",
       "maison           0.167347\n",
       "Name: isolation, dtype: float32"
      ]
     },
     "metadata": {},
     "output_type": "display_data"
    },
    {
     "name": "stdout",
     "output_type": "stream",
     "text": [
      "faire\n"
     ]
    },
    {
     "data": {
      "text/plain": [
       "faire            1.000000\n",
       "travaux          0.261473\n",
       "proprietaires    0.209677\n",
       "mieux            0.208390\n",
       "moyens           0.191194\n",
       "faut             0.183607\n",
       "pouvoir          0.174576\n",
       "tout             0.157130\n",
       "tous             0.151899\n",
       "logement         0.145669\n",
       "Name: faire, dtype: float32"
      ]
     },
     "metadata": {},
     "output_type": "display_data"
    },
    {
     "name": "stdout",
     "output_type": "stream",
     "text": [
      "changer\n"
     ]
    },
    {
     "data": {
      "text/plain": [
       "changer      1.000000\n",
       "mode         0.322719\n",
       "chaudiere    0.248164\n",
       "fioul        0.240481\n",
       "systeme      0.207254\n",
       "moyens       0.195829\n",
       "isoler       0.190000\n",
       "ans          0.169956\n",
       "chauffage    0.161843\n",
       "faut         0.155738\n",
       "Name: changer, dtype: float32"
      ]
     },
     "metadata": {},
     "output_type": "display_data"
    },
    {
     "name": "stdout",
     "output_type": "stream",
     "text": [
      "solaire\n"
     ]
    },
    {
     "data": {
      "text/plain": [
       "solaire         1.000000\n",
       "eolien          0.703583\n",
       "eau             0.380727\n",
       "production      0.218107\n",
       "chauffe         0.210738\n",
       "energie         0.203861\n",
       "geothermie      0.192097\n",
       "installation    0.147683\n",
       "electricite     0.122296\n",
       "panneaux        0.113022\n",
       "Name: solaire, dtype: float32"
      ]
     },
     "metadata": {},
     "output_type": "display_data"
    },
    {
     "name": "stdout",
     "output_type": "stream",
     "text": [
      "gaz\n"
     ]
    },
    {
     "data": {
      "text/plain": [
       "gaz             1.000000\n",
       "ville           0.580052\n",
       "condensation    0.484211\n",
       "chaudiere       0.310817\n",
       "fuel            0.270557\n",
       "fioul           0.258517\n",
       "actuellement    0.226457\n",
       "chauffe         0.225503\n",
       "electricite     0.175541\n",
       "bois            0.161500\n",
       "Name: gaz, dtype: float32"
      ]
     },
     "metadata": {},
     "output_type": "display_data"
    },
    {
     "name": "stdout",
     "output_type": "stream",
     "text": [
      "energie\n"
     ]
    },
    {
     "data": {
      "text/plain": [
       "energie         1.000000\n",
       "renouvelable    0.633962\n",
       "propre          0.415541\n",
       "production      0.347737\n",
       "nucleaire       0.310078\n",
       "consommation    0.245211\n",
       "solaire         0.189947\n",
       "tous            0.147679\n",
       "electricite     0.146423\n",
       "faut            0.144262\n",
       "Name: energie, dtype: float32"
      ]
     },
     "metadata": {},
     "output_type": "display_data"
    },
    {
     "name": "stdout",
     "output_type": "stream",
     "text": [
      "solaires\n"
     ]
    },
    {
     "data": {
      "text/plain": [
       "solaires        1.000000\n",
       "panneaux        0.757248\n",
       "toit            0.469466\n",
       "installer       0.303077\n",
       "installation    0.204242\n",
       "eau             0.178515\n",
       "mettre          0.153117\n",
       "electricite     0.101498\n",
       "maison          0.084898\n",
       "energie         0.084043\n",
       "Name: solaires, dtype: float32"
      ]
     },
     "metadata": {},
     "output_type": "display_data"
    },
    {
     "name": "stdout",
     "output_type": "stream",
     "text": [
      "financiere\n"
     ]
    },
    {
     "data": {
      "text/plain": [
       "financiere     1.000000\n",
       "aide           0.421611\n",
       "incitation     0.405680\n",
       "changer        0.059678\n",
       "chaudiere      0.052374\n",
       "chauffage      0.033004\n",
       "choix          0.000000\n",
       "tva            0.000000\n",
       "subventions    0.000000\n",
       "terme          0.000000\n",
       "Name: financiere, dtype: float32"
      ]
     },
     "metadata": {},
     "output_type": "display_data"
    },
    {
     "name": "stdout",
     "output_type": "stream",
     "text": [
      "mode\n"
     ]
    },
    {
     "data": {
      "text/plain": [
       "mode          1.000000\n",
       "changer       0.273482\n",
       "chauffage     0.265796\n",
       "ecologique    0.216102\n",
       "changement    0.187927\n",
       "locataire     0.141463\n",
       "faut          0.140984\n",
       "faudrait      0.117542\n",
       "isolation     0.104515\n",
       "tout          0.099001\n",
       "Name: mode, dtype: float32"
      ]
     },
     "metadata": {},
     "output_type": "display_data"
    },
    {
     "name": "stdout",
     "output_type": "stream",
     "text": [
      "pompe\n"
     ]
    },
    {
     "data": {
      "text/plain": [
       "pompe           1.000000\n",
       "chaleur         0.697235\n",
       "eau             0.208531\n",
       "installer       0.166154\n",
       "chaudiere       0.131669\n",
       "ans             0.118421\n",
       "gaz             0.114763\n",
       "installation    0.110762\n",
       "maison          0.103673\n",
       "bois            0.087960\n",
       "Name: pompe, dtype: float32"
      ]
     },
     "metadata": {},
     "output_type": "display_data"
    },
    {
     "name": "stdout",
     "output_type": "stream",
     "text": [
      "prix\n"
     ]
    },
    {
     "data": {
      "text/plain": [
       "prix            1.000000\n",
       "baisser         0.470103\n",
       "electricite     0.121464\n",
       "installation    0.087981\n",
       "faire           0.082645\n",
       "gaz             0.079666\n",
       "chaleur         0.073272\n",
       "energie         0.072686\n",
       "pompe           0.069508\n",
       "chaudiere       0.066569\n",
       "Name: prix, dtype: float32"
      ]
     },
     "metadata": {},
     "output_type": "display_data"
    },
    {
     "name": "stdout",
     "output_type": "stream",
     "text": [
      "bois\n"
     ]
    },
    {
     "data": {
      "text/plain": [
       "bois           1.000000\n",
       "poele          0.515044\n",
       "granules       0.432665\n",
       "chauffe        0.293960\n",
       "electrique     0.127969\n",
       "gaz            0.124791\n",
       "chaudiere      0.116495\n",
       "electricite    0.115641\n",
       "maison         0.103673\n",
       "ecologique     0.103390\n",
       "Name: bois, dtype: float32"
      ]
     },
     "metadata": {},
     "output_type": "display_data"
    },
    {
     "name": "stdout",
     "output_type": "stream",
     "text": [
      "electrique\n"
     ]
    },
    {
     "data": {
      "text/plain": [
       "electrique     1.000000\n",
       "nucleaire      0.366279\n",
       "production     0.230453\n",
       "tout           0.224342\n",
       "electricite    0.161398\n",
       "chauffage      0.136957\n",
       "bois           0.120404\n",
       "energie        0.104486\n",
       "gaz            0.098607\n",
       "maison         0.087347\n",
       "Name: electrique, dtype: float32"
      ]
     },
     "metadata": {},
     "output_type": "display_data"
    },
    {
     "name": "stdout",
     "output_type": "stream",
     "text": [
      "installation\n"
     ]
    },
    {
     "data": {
      "text/plain": [
       "installation    1.000000\n",
       "panneaux        0.164128\n",
       "solaires        0.153031\n",
       "cout            0.134666\n",
       "solaire         0.099471\n",
       "pompe           0.092459\n",
       "chaleur         0.089401\n",
       "aide            0.078389\n",
       "prix            0.075574\n",
       "energie         0.062465\n",
       "Name: installation, dtype: float32"
      ]
     },
     "metadata": {},
     "output_type": "display_data"
    }
   ],
   "source": [
    "for i in df_qu_10_one_hot.sum(axis=0).sort_values(ascending=False).head(20).index:\n",
    "    print(i)\n",
    "    display(df_confidence_10[i].sort_values(ascending=False).head(10))"
   ]
  },
  {
   "cell_type": "code",
   "execution_count": 67,
   "metadata": {
    "scrolled": true
   },
   "outputs": [
    {
     "name": "stdout",
     "output_type": "stream",
     "text": [
      "chauffage\n"
     ]
    },
    {
     "data": {
      "text/plain": [
       "chauffage     0.000176\n",
       "mode          0.000163\n",
       "collectif     0.000132\n",
       "modes         0.000123\n",
       "electrique    0.000105\n",
       "systeme       0.000090\n",
       "type          0.000086\n",
       "changer       0.000084\n",
       "ecologique    0.000082\n",
       "systemes      0.000079\n",
       "Name: chauffage, dtype: float32"
      ]
     },
     "metadata": {},
     "output_type": "display_data"
    },
    {
     "name": "stdout",
     "output_type": "stream",
     "text": [
      "aide\n"
     ]
    },
    {
     "data": {
      "text/plain": [
       "aide            0.000312\n",
       "financiere      0.000249\n",
       "fiscale         0.000094\n",
       "revenus         0.000080\n",
       "financement     0.000075\n",
       "changement      0.000062\n",
       "installation    0.000062\n",
       "achat           0.000059\n",
       "chaudiere       0.000048\n",
       "credit          0.000047\n",
       "Name: aide, dtype: float32"
      ]
     },
     "metadata": {},
     "output_type": "display_data"
    },
    {
     "name": "stdout",
     "output_type": "stream",
     "text": [
      "aides\n"
     ]
    },
    {
     "data": {
      "text/plain": [
       "aides          0.000347\n",
       "financieres    0.000287\n",
       "fiscales       0.000125\n",
       "revenus        0.000112\n",
       "impots         0.000066\n",
       "travaux        0.000060\n",
       "changement     0.000057\n",
       "tous           0.000057\n",
       "moyens         0.000050\n",
       "isolation      0.000048\n",
       "Name: aides, dtype: float32"
      ]
     },
     "metadata": {},
     "output_type": "display_data"
    },
    {
     "name": "stdout",
     "output_type": "stream",
     "text": [
      "chaleur\n"
     ]
    },
    {
     "data": {
      "text/plain": [
       "chaleur         0.000461\n",
       "pompe           0.000457\n",
       "pompes          0.000426\n",
       "eau             0.000124\n",
       "installer       0.000089\n",
       "gaz             0.000071\n",
       "installation    0.000070\n",
       "chaudiere       0.000070\n",
       "ans             0.000069\n",
       "geothermie      0.000068\n",
       "Name: chaleur, dtype: float32"
      ]
     },
     "metadata": {},
     "output_type": "display_data"
    },
    {
     "name": "stdout",
     "output_type": "stream",
     "text": [
      "chaudiere\n"
     ]
    },
    {
     "data": {
      "text/plain": [
       "chaudiere       0.000489\n",
       "condensation    0.000444\n",
       "fuel            0.000247\n",
       "fioul           0.000238\n",
       "remplacer       0.000197\n",
       "gaz             0.000173\n",
       "granules        0.000147\n",
       "changer         0.000129\n",
       "changement      0.000118\n",
       "ans             0.000116\n",
       "Name: chaudiere, dtype: float32"
      ]
     },
     "metadata": {},
     "output_type": "display_data"
    },
    {
     "name": "stdout",
     "output_type": "stream",
     "text": [
      "panneaux\n"
     ]
    },
    {
     "data": {
      "text/plain": [
       "panneaux           0.000491\n",
       "solaires           0.000446\n",
       "photovoltaiques    0.000411\n",
       "toit               0.000287\n",
       "installer          0.000182\n",
       "installation       0.000129\n",
       "eau                0.000102\n",
       "mettre             0.000093\n",
       "exemple            0.000080\n",
       "electricite        0.000068\n",
       "Name: panneaux, dtype: float32"
      ]
     },
     "metadata": {},
     "output_type": "display_data"
    },
    {
     "name": "stdout",
     "output_type": "stream",
     "text": [
      "isolation\n"
     ]
    },
    {
     "data": {
      "text/plain": [
       "isolation        0.000507\n",
       "ameliorer        0.000241\n",
       "thermique        0.000228\n",
       "meilleure        0.000222\n",
       "batiments        0.000193\n",
       "logements        0.000162\n",
       "travaux          0.000119\n",
       "proprietaires    0.000099\n",
       "logement         0.000095\n",
       "maison           0.000085\n",
       "Name: isolation, dtype: float32"
      ]
     },
     "metadata": {},
     "output_type": "display_data"
    },
    {
     "name": "stdout",
     "output_type": "stream",
     "text": [
      "faire\n"
     ]
    },
    {
     "data": {
      "text/plain": [
       "faire            0.000517\n",
       "travaux          0.000135\n",
       "proprietaires    0.000108\n",
       "mieux            0.000108\n",
       "moyens           0.000099\n",
       "faut             0.000095\n",
       "pouvoir          0.000090\n",
       "tout             0.000081\n",
       "tous             0.000078\n",
       "logement         0.000075\n",
       "Name: faire, dtype: float32"
      ]
     },
     "metadata": {},
     "output_type": "display_data"
    },
    {
     "name": "stdout",
     "output_type": "stream",
     "text": [
      "changer\n"
     ]
    },
    {
     "data": {
      "text/plain": [
       "changer      0.000519\n",
       "mode         0.000167\n",
       "chaudiere    0.000129\n",
       "fioul        0.000125\n",
       "systeme      0.000108\n",
       "moyens       0.000102\n",
       "isoler       0.000099\n",
       "ans          0.000088\n",
       "chauffage    0.000084\n",
       "faut         0.000081\n",
       "Name: changer, dtype: float32"
      ]
     },
     "metadata": {},
     "output_type": "display_data"
    },
    {
     "name": "stdout",
     "output_type": "stream",
     "text": [
      "solaire\n"
     ]
    },
    {
     "data": {
      "text/plain": [
       "solaire         0.000529\n",
       "eolien          0.000372\n",
       "eau             0.000201\n",
       "production      0.000115\n",
       "chauffe         0.000112\n",
       "energie         0.000108\n",
       "geothermie      0.000102\n",
       "installation    0.000078\n",
       "electricite     0.000065\n",
       "panneaux        0.000060\n",
       "Name: solaire, dtype: float32"
      ]
     },
     "metadata": {},
     "output_type": "display_data"
    },
    {
     "name": "stdout",
     "output_type": "stream",
     "text": [
      "gaz\n"
     ]
    },
    {
     "data": {
      "text/plain": [
       "gaz             0.000557\n",
       "ville           0.000323\n",
       "condensation    0.000270\n",
       "chaudiere       0.000173\n",
       "fuel            0.000151\n",
       "fioul           0.000144\n",
       "actuellement    0.000126\n",
       "chauffe         0.000126\n",
       "electricite     0.000098\n",
       "bois            0.000090\n",
       "Name: gaz, dtype: float32"
      ]
     },
     "metadata": {},
     "output_type": "display_data"
    },
    {
     "name": "stdout",
     "output_type": "stream",
     "text": [
      "energie\n"
     ]
    },
    {
     "data": {
      "text/plain": [
       "energie         0.000568\n",
       "renouvelable    0.000360\n",
       "propre          0.000236\n",
       "production      0.000197\n",
       "nucleaire       0.000176\n",
       "consommation    0.000139\n",
       "solaire         0.000108\n",
       "tous            0.000084\n",
       "electricite     0.000083\n",
       "faut            0.000082\n",
       "Name: energie, dtype: float32"
      ]
     },
     "metadata": {},
     "output_type": "display_data"
    },
    {
     "name": "stdout",
     "output_type": "stream",
     "text": [
      "solaires\n"
     ]
    },
    {
     "data": {
      "text/plain": [
       "solaires        0.000589\n",
       "panneaux        0.000446\n",
       "toit            0.000276\n",
       "installer       0.000178\n",
       "installation    0.000120\n",
       "eau             0.000105\n",
       "mettre          0.000090\n",
       "electricite     0.000060\n",
       "maison          0.000050\n",
       "energie         0.000049\n",
       "Name: solaires, dtype: float32"
      ]
     },
     "metadata": {},
     "output_type": "display_data"
    },
    {
     "name": "stdout",
     "output_type": "stream",
     "text": [
      "financiere\n"
     ]
    },
    {
     "data": {
      "text/plain": [
       "financiere     0.000592\n",
       "aide           0.000249\n",
       "incitation     0.000240\n",
       "changer        0.000035\n",
       "chaudiere      0.000031\n",
       "chauffage      0.000020\n",
       "financement         NaN\n",
       "immeuble            NaN\n",
       "installer           NaN\n",
       "cout                NaN\n",
       "Name: financiere, dtype: float32"
      ]
     },
     "metadata": {},
     "output_type": "display_data"
    },
    {
     "name": "stdout",
     "output_type": "stream",
     "text": [
      "mode\n"
     ]
    },
    {
     "data": {
      "text/plain": [
       "mode          0.000612\n",
       "changer       0.000167\n",
       "chauffage     0.000163\n",
       "ecologique    0.000132\n",
       "changement    0.000115\n",
       "locataire     0.000087\n",
       "faut          0.000086\n",
       "faudrait      0.000072\n",
       "isolation     0.000064\n",
       "tout          0.000061\n",
       "Name: mode, dtype: float32"
      ]
     },
     "metadata": {},
     "output_type": "display_data"
    },
    {
     "name": "stdout",
     "output_type": "stream",
     "text": [
      "pompe\n"
     ]
    },
    {
     "data": {
      "text/plain": [
       "pompe           0.000656\n",
       "chaleur         0.000457\n",
       "eau             0.000137\n",
       "installer       0.000109\n",
       "chaudiere       0.000086\n",
       "ans             0.000078\n",
       "gaz             0.000075\n",
       "installation    0.000073\n",
       "maison          0.000068\n",
       "bois            0.000058\n",
       "Name: pompe, dtype: float32"
      ]
     },
     "metadata": {},
     "output_type": "display_data"
    },
    {
     "name": "stdout",
     "output_type": "stream",
     "text": [
      "prix\n"
     ]
    },
    {
     "data": {
      "text/plain": [
       "prix            0.000675\n",
       "baisser         0.000317\n",
       "electricite     0.000082\n",
       "installation    0.000059\n",
       "faire           0.000056\n",
       "gaz             0.000054\n",
       "chaleur         0.000049\n",
       "energie         0.000049\n",
       "pompe           0.000047\n",
       "chaudiere       0.000045\n",
       "Name: prix, dtype: float32"
      ]
     },
     "metadata": {},
     "output_type": "display_data"
    },
    {
     "name": "stdout",
     "output_type": "stream",
     "text": [
      "bois\n"
     ]
    },
    {
     "data": {
      "text/plain": [
       "bois           0.000721\n",
       "poele          0.000371\n",
       "granules       0.000312\n",
       "chauffe        0.000212\n",
       "electrique     0.000092\n",
       "gaz            0.000090\n",
       "chaudiere      0.000084\n",
       "electricite    0.000083\n",
       "maison         0.000075\n",
       "ecologique     0.000075\n",
       "Name: bois, dtype: float32"
      ]
     },
     "metadata": {},
     "output_type": "display_data"
    },
    {
     "name": "stdout",
     "output_type": "stream",
     "text": [
      "electrique\n"
     ]
    },
    {
     "data": {
      "text/plain": [
       "electrique     0.000766\n",
       "nucleaire      0.000281\n",
       "production     0.000177\n",
       "tout           0.000172\n",
       "electricite    0.000124\n",
       "chauffage      0.000105\n",
       "bois           0.000092\n",
       "energie        0.000080\n",
       "gaz            0.000076\n",
       "maison         0.000067\n",
       "Name: electrique, dtype: float32"
      ]
     },
     "metadata": {},
     "output_type": "display_data"
    },
    {
     "name": "stdout",
     "output_type": "stream",
     "text": [
      "installation\n"
     ]
    },
    {
     "data": {
      "text/plain": [
       "installation    0.000786\n",
       "panneaux        0.000129\n",
       "solaires        0.000120\n",
       "cout            0.000106\n",
       "solaire         0.000078\n",
       "pompe           0.000073\n",
       "chaleur         0.000070\n",
       "aide            0.000062\n",
       "prix            0.000059\n",
       "energie         0.000049\n",
       "Name: installation, dtype: float32"
      ]
     },
     "metadata": {},
     "output_type": "display_data"
    }
   ],
   "source": [
    "for i in df_qu_10_one_hot.sum(axis=0).sort_values(ascending=False).head(20).index:\n",
    "    print(i)\n",
    "    display(df_lift_10[i].sort_values(ascending=False).head(10))"
   ]
  },
  {
   "cell_type": "code",
   "execution_count": 68,
   "metadata": {},
   "outputs": [
    {
     "data": {
      "text/plain": [
       "147"
      ]
     },
     "execution_count": 68,
     "metadata": {},
     "output_type": "execute_result"
    }
   ],
   "source": [
    "gc.collect()"
   ]
  },
  {
   "cell_type": "markdown",
   "metadata": {},
   "source": [
    "# Question 11 : Avez-vous pour vos déplacements quotidiens la possibilité de recourir à des solutions de mobilité alternatives à la voiture individuelle comme les transports en commun, le covoiturage, l'auto-partage, le transport à la demande, le vélo, etc. ?"
   ]
  },
  {
   "cell_type": "code",
   "execution_count": 69,
   "metadata": {
    "collapsed": true
   },
   "outputs": [],
   "source": [
    "question_11 = \"Avez-vous pour vos déplacements quotidiens la possibilité de recourir à des solutions de mobilité alternatives à la voiture individuelle comme les transports en commun, le covoiturage, l'auto-partage, le transport à la demande, le vélo, etc. ?\"\n",
    "qu_11,df_qu_11_one_hot,df_cov_11,df_confidence_11,df_lift_11 = compute_similarities(question_11, new_res)"
   ]
  },
  {
   "cell_type": "code",
   "execution_count": 70,
   "metadata": {
    "scrolled": true
   },
   "outputs": [
    {
     "name": "stdout",
     "output_type": "stream",
     "text": [
      "oui\n"
     ]
    },
    {
     "data": {
      "text/plain": [
       "oui             19088\n",
       "voiture             0\n",
       "quotidiens          0\n",
       "deplacements        0\n",
       "non                 0\n",
       "utilise             0\n",
       "Name: oui, dtype: uint16"
      ]
     },
     "metadata": {},
     "output_type": "display_data"
    },
    {
     "name": "stdout",
     "output_type": "stream",
     "text": [
      "non\n"
     ]
    },
    {
     "data": {
      "text/plain": [
       "non             17924\n",
       "voiture             0\n",
       "quotidiens          0\n",
       "deplacements        0\n",
       "oui                 0\n",
       "utilise             0\n",
       "Name: non, dtype: uint16"
      ]
     },
     "metadata": {},
     "output_type": "display_data"
    },
    {
     "name": "stdout",
     "output_type": "stream",
     "text": [
      "voiture\n"
     ]
    },
    {
     "data": {
      "text/plain": [
       "voiture         9999\n",
       "quotidiens      9999\n",
       "deplacements    9999\n",
       "utilise         9999\n",
       "oui                0\n",
       "non                0\n",
       "Name: voiture, dtype: uint16"
      ]
     },
     "metadata": {},
     "output_type": "display_data"
    },
    {
     "name": "stdout",
     "output_type": "stream",
     "text": [
      "quotidiens\n"
     ]
    },
    {
     "data": {
      "text/plain": [
       "voiture         9999\n",
       "quotidiens      9999\n",
       "deplacements    9999\n",
       "utilise         9999\n",
       "oui                0\n",
       "non                0\n",
       "Name: quotidiens, dtype: uint16"
      ]
     },
     "metadata": {},
     "output_type": "display_data"
    },
    {
     "name": "stdout",
     "output_type": "stream",
     "text": [
      "deplacements\n"
     ]
    },
    {
     "data": {
      "text/plain": [
       "voiture         9999\n",
       "quotidiens      9999\n",
       "deplacements    9999\n",
       "utilise         9999\n",
       "oui                0\n",
       "non                0\n",
       "Name: deplacements, dtype: uint16"
      ]
     },
     "metadata": {},
     "output_type": "display_data"
    },
    {
     "name": "stdout",
     "output_type": "stream",
     "text": [
      "utilise\n"
     ]
    },
    {
     "data": {
      "text/plain": [
       "voiture         9999\n",
       "quotidiens      9999\n",
       "deplacements    9999\n",
       "utilise         9999\n",
       "oui                0\n",
       "non                0\n",
       "Name: utilise, dtype: uint16"
      ]
     },
     "metadata": {},
     "output_type": "display_data"
    }
   ],
   "source": [
    "for i in df_qu_11_one_hot.sum(axis=0).sort_values(ascending=False).head(20).index:\n",
    "    print(i)\n",
    "    display(df_cov_11[i].sort_values(ascending=False).head(10))"
   ]
  },
  {
   "cell_type": "code",
   "execution_count": 71,
   "metadata": {
    "scrolled": true
   },
   "outputs": [
    {
     "name": "stdout",
     "output_type": "stream",
     "text": [
      "oui\n"
     ]
    },
    {
     "data": {
      "text/plain": [
       "oui             1.0\n",
       "voiture         0.0\n",
       "quotidiens      0.0\n",
       "deplacements    0.0\n",
       "non             0.0\n",
       "utilise         0.0\n",
       "Name: oui, dtype: float32"
      ]
     },
     "metadata": {},
     "output_type": "display_data"
    },
    {
     "name": "stdout",
     "output_type": "stream",
     "text": [
      "non\n"
     ]
    },
    {
     "data": {
      "text/plain": [
       "non             1.0\n",
       "voiture         0.0\n",
       "quotidiens      0.0\n",
       "deplacements    0.0\n",
       "oui             0.0\n",
       "utilise         0.0\n",
       "Name: non, dtype: float32"
      ]
     },
     "metadata": {},
     "output_type": "display_data"
    },
    {
     "name": "stdout",
     "output_type": "stream",
     "text": [
      "voiture\n"
     ]
    },
    {
     "data": {
      "text/plain": [
       "voiture         1.0\n",
       "quotidiens      1.0\n",
       "deplacements    1.0\n",
       "utilise         1.0\n",
       "oui             0.0\n",
       "non             0.0\n",
       "Name: voiture, dtype: float32"
      ]
     },
     "metadata": {},
     "output_type": "display_data"
    },
    {
     "name": "stdout",
     "output_type": "stream",
     "text": [
      "quotidiens\n"
     ]
    },
    {
     "data": {
      "text/plain": [
       "voiture         1.0\n",
       "quotidiens      1.0\n",
       "deplacements    1.0\n",
       "utilise         1.0\n",
       "oui             0.0\n",
       "non             0.0\n",
       "Name: quotidiens, dtype: float32"
      ]
     },
     "metadata": {},
     "output_type": "display_data"
    },
    {
     "name": "stdout",
     "output_type": "stream",
     "text": [
      "deplacements\n"
     ]
    },
    {
     "data": {
      "text/plain": [
       "voiture         1.0\n",
       "quotidiens      1.0\n",
       "deplacements    1.0\n",
       "utilise         1.0\n",
       "oui             0.0\n",
       "non             0.0\n",
       "Name: deplacements, dtype: float32"
      ]
     },
     "metadata": {},
     "output_type": "display_data"
    },
    {
     "name": "stdout",
     "output_type": "stream",
     "text": [
      "utilise\n"
     ]
    },
    {
     "data": {
      "text/plain": [
       "voiture         1.0\n",
       "quotidiens      1.0\n",
       "deplacements    1.0\n",
       "utilise         1.0\n",
       "oui             0.0\n",
       "non             0.0\n",
       "Name: utilise, dtype: float32"
      ]
     },
     "metadata": {},
     "output_type": "display_data"
    }
   ],
   "source": [
    "for i in df_qu_11_one_hot.sum(axis=0).sort_values(ascending=False).head(20).index:\n",
    "    print(i)\n",
    "    display(df_confidence_11[i].sort_values(ascending=False).head(10))"
   ]
  },
  {
   "cell_type": "code",
   "execution_count": 72,
   "metadata": {
    "scrolled": true
   },
   "outputs": [
    {
     "name": "stdout",
     "output_type": "stream",
     "text": [
      "oui\n"
     ]
    },
    {
     "data": {
      "text/plain": [
       "oui             0.000052\n",
       "utilise              NaN\n",
       "non                  NaN\n",
       "deplacements         NaN\n",
       "quotidiens           NaN\n",
       "voiture              NaN\n",
       "Name: oui, dtype: float32"
      ]
     },
     "metadata": {},
     "output_type": "display_data"
    },
    {
     "name": "stdout",
     "output_type": "stream",
     "text": [
      "non\n"
     ]
    },
    {
     "data": {
      "text/plain": [
       "non             0.000056\n",
       "utilise              NaN\n",
       "oui                  NaN\n",
       "deplacements         NaN\n",
       "quotidiens           NaN\n",
       "voiture              NaN\n",
       "Name: non, dtype: float32"
      ]
     },
     "metadata": {},
     "output_type": "display_data"
    },
    {
     "name": "stdout",
     "output_type": "stream",
     "text": [
      "voiture\n"
     ]
    },
    {
     "data": {
      "text/plain": [
       "voiture         0.0001\n",
       "quotidiens      0.0001\n",
       "deplacements    0.0001\n",
       "utilise         0.0001\n",
       "non                NaN\n",
       "oui                NaN\n",
       "Name: voiture, dtype: float32"
      ]
     },
     "metadata": {},
     "output_type": "display_data"
    },
    {
     "name": "stdout",
     "output_type": "stream",
     "text": [
      "quotidiens\n"
     ]
    },
    {
     "data": {
      "text/plain": [
       "voiture         0.0001\n",
       "quotidiens      0.0001\n",
       "deplacements    0.0001\n",
       "utilise         0.0001\n",
       "non                NaN\n",
       "oui                NaN\n",
       "Name: quotidiens, dtype: float32"
      ]
     },
     "metadata": {},
     "output_type": "display_data"
    },
    {
     "name": "stdout",
     "output_type": "stream",
     "text": [
      "deplacements\n"
     ]
    },
    {
     "data": {
      "text/plain": [
       "voiture         0.0001\n",
       "quotidiens      0.0001\n",
       "deplacements    0.0001\n",
       "utilise         0.0001\n",
       "non                NaN\n",
       "oui                NaN\n",
       "Name: deplacements, dtype: float32"
      ]
     },
     "metadata": {},
     "output_type": "display_data"
    },
    {
     "name": "stdout",
     "output_type": "stream",
     "text": [
      "utilise\n"
     ]
    },
    {
     "data": {
      "text/plain": [
       "voiture         0.0001\n",
       "quotidiens      0.0001\n",
       "deplacements    0.0001\n",
       "utilise         0.0001\n",
       "non                NaN\n",
       "oui                NaN\n",
       "Name: utilise, dtype: float32"
      ]
     },
     "metadata": {},
     "output_type": "display_data"
    }
   ],
   "source": [
    "for i in df_qu_11_one_hot.sum(axis=0).sort_values(ascending=False).head(20).index:\n",
    "    print(i)\n",
    "    display(df_lift_11[i].sort_values(ascending=False).head(10))"
   ]
  },
  {
   "cell_type": "code",
   "execution_count": 73,
   "metadata": {},
   "outputs": [
    {
     "data": {
      "text/plain": [
       "217"
      ]
     },
     "execution_count": 73,
     "metadata": {},
     "output_type": "execute_result"
    }
   ],
   "source": [
    "gc.collect()"
   ]
  },
  {
   "cell_type": "markdown",
   "metadata": {},
   "source": [
    "# Question 12 :  Si oui, que faudrait-il faire pour vous convaincre ou vous aider à utiliser ces solutions alternatives ?"
   ]
  },
  {
   "cell_type": "code",
   "execution_count": 74,
   "metadata": {
    "collapsed": true
   },
   "outputs": [],
   "source": [
    "question_12 = \"Si oui, que faudrait-il faire pour vous convaincre ou vous aider à utiliser ces solutions alternatives ?\"\n",
    "qu_12,df_qu_12_one_hot,df_cov_12,df_confidence_12,df_lift_12 = compute_similarities(question_12, new_res)"
   ]
  },
  {
   "cell_type": "code",
   "execution_count": 75,
   "metadata": {
    "scrolled": true
   },
   "outputs": [
    {
     "name": "stdout",
     "output_type": "stream",
     "text": [
      "transports\n"
     ]
    },
    {
     "data": {
      "text/plain": [
       "transports    6604\n",
       "commun        4500\n",
       "voiture        861\n",
       "developper     741\n",
       "bus            693\n",
       "velo           677\n",
       "gratuite       656\n",
       "cyclables      640\n",
       "transport      624\n",
       "communs        608\n",
       "Name: transports, dtype: uint16"
      ]
     },
     "metadata": {},
     "output_type": "display_data"
    },
    {
     "name": "stdout",
     "output_type": "stream",
     "text": [
      "commun\n"
     ]
    },
    {
     "data": {
      "text/plain": [
       "commun        5934\n",
       "transports    4500\n",
       "transport     1854\n",
       "voiture        887\n",
       "velo           727\n",
       "developper     631\n",
       "bus            615\n",
       "cyclables      579\n",
       "pistes         559\n",
       "utilise        497\n",
       "Name: commun, dtype: uint16"
      ]
     },
     "metadata": {},
     "output_type": "display_data"
    },
    {
     "name": "stdout",
     "output_type": "stream",
     "text": [
      "transport\n"
     ]
    },
    {
     "data": {
      "text/plain": [
       "transport     3123\n",
       "commun        1854\n",
       "voiture        633\n",
       "transports     624\n",
       "velo           443\n",
       "bus            418\n",
       "travail        349\n",
       "temps          320\n",
       "developper     290\n",
       "ville          277\n",
       "Name: transport, dtype: uint16"
      ]
     },
     "metadata": {},
     "output_type": "display_data"
    },
    {
     "name": "stdout",
     "output_type": "stream",
     "text": [
      "velo\n"
     ]
    },
    {
     "data": {
      "text/plain": [
       "velo          3062\n",
       "commun         727\n",
       "transports     677\n",
       "electrique     583\n",
       "cyclables      573\n",
       "pistes         567\n",
       "voiture        560\n",
       "utilise        470\n",
       "transport      443\n",
       "bus            373\n",
       "Name: velo, dtype: uint16"
      ]
     },
     "metadata": {},
     "output_type": "display_data"
    },
    {
     "name": "stdout",
     "output_type": "stream",
     "text": [
      "voiture\n"
     ]
    },
    {
     "data": {
      "text/plain": [
       "voiture       3049\n",
       "commun         887\n",
       "transports     861\n",
       "transport      633\n",
       "bus            561\n",
       "velo           560\n",
       "travail        463\n",
       "prendre        420\n",
       "utilise        412\n",
       "aller          380\n",
       "Name: voiture, dtype: uint16"
      ]
     },
     "metadata": {},
     "output_type": "display_data"
    },
    {
     "name": "stdout",
     "output_type": "stream",
     "text": [
      "bus\n"
     ]
    },
    {
     "data": {
      "text/plain": [
       "bus           2747\n",
       "transports     693\n",
       "commun         615\n",
       "voiture        561\n",
       "transport      418\n",
       "velo           373\n",
       "train          361\n",
       "horaires       343\n",
       "ville          330\n",
       "travail        306\n",
       "Name: bus, dtype: uint16"
      ]
     },
     "metadata": {},
     "output_type": "display_data"
    },
    {
     "name": "stdout",
     "output_type": "stream",
     "text": [
      "cyclables\n"
     ]
    },
    {
     "data": {
      "text/plain": [
       "cyclables     2234\n",
       "pistes        1996\n",
       "transports     640\n",
       "commun         579\n",
       "velo           573\n",
       "developper     366\n",
       "securisees     312\n",
       "bus            273\n",
       "ville          242\n",
       "transport      225\n",
       "Name: cyclables, dtype: uint16"
      ]
     },
     "metadata": {},
     "output_type": "display_data"
    },
    {
     "name": "stdout",
     "output_type": "stream",
     "text": [
      "pistes\n"
     ]
    },
    {
     "data": {
      "text/plain": [
       "pistes        2140\n",
       "cyclables     1996\n",
       "transports     603\n",
       "velo           567\n",
       "commun         559\n",
       "developper     350\n",
       "securisees     306\n",
       "bus            256\n",
       "ville          226\n",
       "transport      224\n",
       "Name: pistes, dtype: uint16"
      ]
     },
     "metadata": {},
     "output_type": "display_data"
    },
    {
     "name": "stdout",
     "output_type": "stream",
     "text": [
      "utilise\n"
     ]
    },
    {
     "data": {
      "text/plain": [
       "utilise        1942\n",
       "transports      516\n",
       "commun          497\n",
       "velo            470\n",
       "voiture         412\n",
       "bus             186\n",
       "transport       181\n",
       "covoiturage     159\n",
       "ville           154\n",
       "travail         141\n",
       "Name: utilise, dtype: uint16"
      ]
     },
     "metadata": {},
     "output_type": "display_data"
    },
    {
     "name": "stdout",
     "output_type": "stream",
     "text": [
      "developper\n"
     ]
    },
    {
     "data": {
      "text/plain": [
       "developper     1616\n",
       "transports      741\n",
       "commun          631\n",
       "cyclables       366\n",
       "pistes          350\n",
       "transport       290\n",
       "bus             222\n",
       "velo            189\n",
       "covoiturage     187\n",
       "voiture         185\n",
       "Name: developper, dtype: uint16"
      ]
     },
     "metadata": {},
     "output_type": "display_data"
    },
    {
     "name": "stdout",
     "output_type": "stream",
     "text": [
      "travail\n"
     ]
    },
    {
     "data": {
      "text/plain": [
       "travail       1607\n",
       "commun         474\n",
       "voiture        463\n",
       "transports     434\n",
       "horaires       411\n",
       "transport      349\n",
       "velo           344\n",
       "bus            306\n",
       "lieu           297\n",
       "aller          272\n",
       "Name: travail, dtype: uint16"
      ]
     },
     "metadata": {},
     "output_type": "display_data"
    },
    {
     "name": "stdout",
     "output_type": "stream",
     "text": [
      "covoiturage\n"
     ]
    },
    {
     "data": {
      "text/plain": [
       "covoiturage    1531\n",
       "commun          448\n",
       "transports      418\n",
       "velo            280\n",
       "transport       275\n",
       "voiture         243\n",
       "bus             217\n",
       "travail         201\n",
       "developper      187\n",
       "horaires        174\n",
       "Name: covoiturage, dtype: uint16"
      ]
     },
     "metadata": {},
     "output_type": "display_data"
    },
    {
     "name": "stdout",
     "output_type": "stream",
     "text": [
      "horaires\n"
     ]
    },
    {
     "data": {
      "text/plain": [
       "horaires       1478\n",
       "transports      486\n",
       "commun          460\n",
       "travail         411\n",
       "bus             343\n",
       "transport       247\n",
       "voiture         212\n",
       "covoiturage     174\n",
       "train           163\n",
       "velo            139\n",
       "Name: horaires, dtype: uint16"
      ]
     },
     "metadata": {},
     "output_type": "display_data"
    },
    {
     "name": "stdout",
     "output_type": "stream",
     "text": [
      "ville\n"
     ]
    },
    {
     "data": {
      "text/plain": [
       "ville         1473\n",
       "transports     493\n",
       "commun         464\n",
       "voiture        371\n",
       "velo           335\n",
       "bus            330\n",
       "transport      277\n",
       "centre         252\n",
       "cyclables      242\n",
       "pistes         226\n",
       "Name: ville, dtype: uint16"
      ]
     },
     "metadata": {},
     "output_type": "display_data"
    },
    {
     "name": "stdout",
     "output_type": "stream",
     "text": [
      "faire\n"
     ]
    },
    {
     "data": {
      "text/plain": [
       "faire         1406\n",
       "transports     374\n",
       "voiture        363\n",
       "commun         363\n",
       "velo           349\n",
       "transport      257\n",
       "bus            238\n",
       "travail        212\n",
       "faut           201\n",
       "aller          191\n",
       "Name: faire, dtype: uint16"
      ]
     },
     "metadata": {},
     "output_type": "display_data"
    },
    {
     "name": "stdout",
     "output_type": "stream",
     "text": [
      "train\n"
     ]
    },
    {
     "data": {
      "text/plain": [
       "train         1204\n",
       "bus            361\n",
       "transports     360\n",
       "voiture        331\n",
       "commun         326\n",
       "transport      218\n",
       "velo           179\n",
       "prendre        170\n",
       "horaires       163\n",
       "travail        155\n",
       "Name: train, dtype: uint16"
      ]
     },
     "metadata": {},
     "output_type": "display_data"
    },
    {
     "name": "stdout",
     "output_type": "stream",
     "text": [
      "faut\n"
     ]
    },
    {
     "data": {
      "text/plain": [
       "faut          1122\n",
       "transports     418\n",
       "commun         352\n",
       "voiture        318\n",
       "transport      242\n",
       "bus            220\n",
       "velo           206\n",
       "faire          201\n",
       "ville          152\n",
       "developper     150\n",
       "Name: faut, dtype: uint16"
      ]
     },
     "metadata": {},
     "output_type": "display_data"
    },
    {
     "name": "stdout",
     "output_type": "stream",
     "text": [
      "temps\n"
     ]
    },
    {
     "data": {
      "text/plain": [
       "temps         1085\n",
       "commun         382\n",
       "voiture        365\n",
       "transports     346\n",
       "transport      320\n",
       "trajet         277\n",
       "travail        226\n",
       "bus            207\n",
       "velo           195\n",
       "faire          135\n",
       "Name: temps, dtype: uint16"
      ]
     },
     "metadata": {},
     "output_type": "display_data"
    },
    {
     "name": "stdout",
     "output_type": "stream",
     "text": [
      "solutions\n"
     ]
    },
    {
     "data": {
      "text/plain": [
       "solutions       1051\n",
       "alternatives     427\n",
       "transports       223\n",
       "commun           205\n",
       "voiture          192\n",
       "transport        174\n",
       "utilise          122\n",
       "covoiturage      117\n",
       "faut             114\n",
       "velo             113\n",
       "Name: solutions, dtype: uint16"
      ]
     },
     "metadata": {},
     "output_type": "display_data"
    },
    {
     "name": "stdout",
     "output_type": "stream",
     "text": [
      "electrique\n"
     ]
    },
    {
     "data": {
      "text/plain": [
       "electrique    1010\n",
       "velo           583\n",
       "voiture        277\n",
       "achat          188\n",
       "commun         160\n",
       "transports     153\n",
       "aide           143\n",
       "vehicule       139\n",
       "transport      126\n",
       "bus            108\n",
       "Name: electrique, dtype: uint16"
      ]
     },
     "metadata": {},
     "output_type": "display_data"
    }
   ],
   "source": [
    "for i in df_qu_12_one_hot.sum(axis=0).sort_values(ascending=False).head(20).index:\n",
    "    print(i)\n",
    "    display(df_cov_12[i].sort_values(ascending=False).head(10))"
   ]
  },
  {
   "cell_type": "code",
   "execution_count": 76,
   "metadata": {
    "scrolled": true
   },
   "outputs": [
    {
     "name": "stdout",
     "output_type": "stream",
     "text": [
      "transports\n"
     ]
    },
    {
     "data": {
      "text/plain": [
       "transports    1.000000\n",
       "communs       0.929664\n",
       "collectifs    0.850394\n",
       "publics       0.789346\n",
       "commun        0.758342\n",
       "gratuite      0.718510\n",
       "gratuits      0.715084\n",
       "fiables       0.681275\n",
       "frequents     0.620462\n",
       "adaptes       0.546099\n",
       "Name: transports, dtype: float32"
      ]
     },
     "metadata": {},
     "output_type": "display_data"
    },
    {
     "name": "stdout",
     "output_type": "stream",
     "text": [
      "commun\n"
     ]
    },
    {
     "data": {
      "text/plain": [
       "commun           1.000000\n",
       "transports       0.681405\n",
       "transport        0.593660\n",
       "gratuite         0.498357\n",
       "fiables          0.466135\n",
       "gratuits         0.454376\n",
       "gratuit          0.452436\n",
       "developpement    0.448370\n",
       "reseaux          0.446565\n",
       "adaptes          0.432624\n",
       "Name: commun, dtype: float32"
      ]
     },
     "metadata": {},
     "output_type": "display_data"
    },
    {
     "name": "stdout",
     "output_type": "stream",
     "text": [
      "transport\n"
     ]
    },
    {
     "data": {
      "text/plain": [
       "transport    1.000000\n",
       "demande      0.588636\n",
       "gratuit      0.480278\n",
       "moyens       0.340594\n",
       "offre        0.319196\n",
       "commun       0.312437\n",
       "1            0.297935\n",
       "temps        0.294931\n",
       "reseau       0.286990\n",
       "trajet       0.267857\n",
       "Name: transport, dtype: float32"
      ]
     },
     "metadata": {},
     "output_type": "display_data"
    },
    {
     "name": "stdout",
     "output_type": "stream",
     "text": [
      "velo\n"
     ]
    },
    {
     "data": {
      "text/plain": [
       "velo          1.000000\n",
       "electrique    0.577228\n",
       "achat         0.549865\n",
       "aide          0.446237\n",
       "route         0.438662\n",
       "pied          0.405836\n",
       "piste         0.389881\n",
       "marche        0.375267\n",
       "routes        0.373737\n",
       "cyclable      0.371105\n",
       "Name: velo, dtype: float32"
      ]
     },
     "metadata": {},
     "output_type": "display_data"
    },
    {
     "name": "stdout",
     "output_type": "stream",
     "text": [
      "voiture\n"
     ]
    },
    {
     "data": {
      "text/plain": [
       "voiture       1.000000\n",
       "prends        0.518797\n",
       "prendre       0.488941\n",
       "courses       0.428571\n",
       "aller         0.420819\n",
       "trajet        0.409341\n",
       "travailler    0.406040\n",
       "3             0.379310\n",
       "deplacer      0.362712\n",
       "2             0.362000\n",
       "Name: voiture, dtype: float32"
      ]
     },
     "metadata": {},
     "output_type": "display_data"
    },
    {
     "name": "stdout",
     "output_type": "stream",
     "text": [
      "bus\n"
     ]
    },
    {
     "data": {
      "text/plain": [
       "bus       1.000000\n",
       "tram      0.550296\n",
       "metro     0.453586\n",
       "ligne     0.397260\n",
       "lignes    0.390411\n",
       "heure     0.379653\n",
       "1         0.348083\n",
       "gare      0.338798\n",
       "heures    0.321429\n",
       "trains    0.312849\n",
       "Name: bus, dtype: float32"
      ]
     },
     "metadata": {},
     "output_type": "display_data"
    },
    {
     "name": "stdout",
     "output_type": "stream",
     "text": [
      "cyclables\n"
     ]
    },
    {
     "data": {
      "text/plain": [
       "cyclables        1.000000\n",
       "pistes           0.932710\n",
       "securisees       0.823219\n",
       "voies            0.436475\n",
       "routes           0.417508\n",
       "creer            0.295775\n",
       "developpement    0.288043\n",
       "velos            0.284785\n",
       "securite         0.229839\n",
       "developper       0.226485\n",
       "Name: cyclables, dtype: float32"
      ]
     },
     "metadata": {},
     "output_type": "display_data"
    },
    {
     "name": "stdout",
     "output_type": "stream",
     "text": [
      "pistes\n"
     ]
    },
    {
     "data": {
      "text/plain": [
       "pistes        1.000000\n",
       "cyclables     0.893465\n",
       "securisees    0.807388\n",
       "routes        0.367003\n",
       "creer         0.279678\n",
       "velos         0.271782\n",
       "securite      0.225806\n",
       "developper    0.216584\n",
       "voitures      0.208333\n",
       "reseau        0.188776\n",
       "Name: pistes, dtype: float32"
      ]
     },
     "metadata": {},
     "output_type": "display_data"
    },
    {
     "name": "stdout",
     "output_type": "stream",
     "text": [
      "utilise\n"
     ]
    },
    {
     "data": {
      "text/plain": [
       "utilise         1.000000\n",
       "marche          0.230277\n",
       "deplacements    0.174404\n",
       "velo            0.153494\n",
       "voiture         0.135126\n",
       "aller           0.126246\n",
       "solutions       0.116080\n",
       "ville           0.104549\n",
       "covoiturage     0.103854\n",
       "train           0.099668\n",
       "Name: utilise, dtype: float32"
      ]
     },
     "metadata": {},
     "output_type": "display_data"
    },
    {
     "name": "stdout",
     "output_type": "stream",
     "text": [
      "developper\n"
     ]
    },
    {
     "data": {
      "text/plain": [
       "developper     1.000000\n",
       "reseau         0.181122\n",
       "cyclables      0.163832\n",
       "pistes         0.163551\n",
       "lignes         0.163014\n",
       "villes         0.149789\n",
       "faut           0.133690\n",
       "covoiturage    0.122142\n",
       "transports     0.112205\n",
       "commun         0.106336\n",
       "Name: developper, dtype: float32"
      ]
     },
     "metadata": {},
     "output_type": "display_data"
    },
    {
     "name": "stdout",
     "output_type": "stream",
     "text": [
      "travail\n"
     ]
    },
    {
     "data": {
      "text/plain": [
       "travail     1.000000\n",
       "domicile    0.620525\n",
       "lieu        0.620042\n",
       "aller       0.301218\n",
       "horaires    0.278078\n",
       "trajet      0.274725\n",
       "km          0.251248\n",
       "heures      0.241071\n",
       "temps       0.208295\n",
       "trajets     0.183453\n",
       "Name: travail, dtype: float32"
      ]
     },
     "metadata": {},
     "output_type": "display_data"
    },
    {
     "name": "stdout",
     "output_type": "stream",
     "text": [
      "covoiturage\n"
     ]
    },
    {
     "data": {
      "text/plain": [
       "covoiturage    1.000000\n",
       "auto           0.325714\n",
       "partage        0.301508\n",
       "place          0.136919\n",
       "travail        0.125078\n",
       "horaires       0.117727\n",
       "faire          0.117354\n",
       "developper     0.115718\n",
       "faudrait       0.113147\n",
       "solutions      0.111323\n",
       "Name: covoiturage, dtype: float32"
      ]
     },
     "metadata": {},
     "output_type": "display_data"
    },
    {
     "name": "stdout",
     "output_type": "stream",
     "text": [
      "horaires\n"
     ]
    },
    {
     "data": {
      "text/plain": [
       "horaires       1.000000\n",
       "adaptes        0.482269\n",
       "travail        0.255756\n",
       "trains         0.145251\n",
       "trajet         0.140110\n",
       "prendre        0.137369\n",
       "train          0.135382\n",
       "bus            0.124863\n",
       "covoiturage    0.113651\n",
       "temps          0.110599\n",
       "Name: horaires, dtype: float32"
      ]
     },
     "metadata": {},
     "output_type": "display_data"
    },
    {
     "name": "stdout",
     "output_type": "stream",
     "text": [
      "ville\n"
     ]
    },
    {
     "data": {
      "text/plain": [
       "ville       1.000000\n",
       "centre      0.717949\n",
       "grande      0.318452\n",
       "habite      0.244328\n",
       "aller       0.182724\n",
       "voitures    0.174107\n",
       "campagne    0.161926\n",
       "villes      0.149789\n",
       "velos       0.149545\n",
       "prendre     0.146682\n",
       "Name: ville, dtype: float32"
      ]
     },
     "metadata": {},
     "output_type": "display_data"
    },
    {
     "name": "stdout",
     "output_type": "stream",
     "text": [
      "faire\n"
     ]
    },
    {
     "data": {
      "text/plain": [
       "faire      1.000000\n",
       "courses    0.615079\n",
       "km         0.229617\n",
       "aller      0.211517\n",
       "tout       0.184179\n",
       "faut       0.179144\n",
       "prendre    0.166473\n",
       "tous       0.162162\n",
       "trajet     0.153846\n",
       "non        0.147383\n",
       "Name: faire, dtype: float32"
      ]
     },
     "metadata": {},
     "output_type": "display_data"
    },
    {
     "name": "stdout",
     "output_type": "stream",
     "text": [
      "train\n"
     ]
    },
    {
     "data": {
      "text/plain": [
       "train       1.000000\n",
       "gare        0.311475\n",
       "prendre     0.197905\n",
       "lignes      0.186301\n",
       "trains      0.163408\n",
       "prix        0.156408\n",
       "aller       0.143965\n",
       "bus         0.131416\n",
       "horaires    0.110284\n",
       "voiture     0.108560\n",
       "Name: train, dtype: float32"
      ]
     },
     "metadata": {},
     "output_type": "display_data"
    },
    {
     "name": "stdout",
     "output_type": "stream",
     "text": [
      "faut\n"
     ]
    },
    {
     "data": {
      "text/plain": [
       "faut         1.000000\n",
       "prendre      0.164144\n",
       "tout         0.145218\n",
       "aller        0.145072\n",
       "faire        0.142959\n",
       "villes       0.123418\n",
       "solutions    0.108468\n",
       "temps        0.105991\n",
       "voiture      0.104296\n",
       "ville        0.103191\n",
       "Name: faut, dtype: float32"
      ]
     },
     "metadata": {},
     "output_type": "display_data"
    },
    {
     "name": "stdout",
     "output_type": "stream",
     "text": [
      "temps\n"
     ]
    },
    {
     "data": {
      "text/plain": [
       "temps        1.000000\n",
       "trajet       0.380495\n",
       "travail      0.140635\n",
       "prendre      0.139697\n",
       "aller        0.139535\n",
       "tout         0.127509\n",
       "voiture      0.119711\n",
       "faut         0.102496\n",
       "transport    0.102466\n",
       "faire        0.096017\n",
       "Name: temps, dtype: float32"
      ]
     },
     "metadata": {},
     "output_type": "display_data"
    },
    {
     "name": "stdout",
     "output_type": "stream",
     "text": [
      "solutions\n"
     ]
    },
    {
     "data": {
      "text/plain": [
       "solutions       1.000000\n",
       "alternatives    0.715243\n",
       "faut            0.101604\n",
       "covoiturage     0.076421\n",
       "voiture         0.062971\n",
       "utilise         0.062822\n",
       "transport       0.055716\n",
       "velo            0.036904\n",
       "bus             0.036767\n",
       "commun          0.034547\n",
       "Name: solutions, dtype: float32"
      ]
     },
     "metadata": {},
     "output_type": "display_data"
    },
    {
     "name": "stdout",
     "output_type": "stream",
     "text": [
      "electrique\n"
     ]
    },
    {
     "data": {
      "text/plain": [
       "electrique    1.000000\n",
       "achat         0.506739\n",
       "aide          0.384409\n",
       "vehicule      0.215170\n",
       "velo          0.190398\n",
       "voiture       0.090849\n",
       "transport     0.040346\n",
       "bus           0.039316\n",
       "commun        0.026963\n",
       "transports    0.023168\n",
       "Name: electrique, dtype: float32"
      ]
     },
     "metadata": {},
     "output_type": "display_data"
    }
   ],
   "source": [
    "for i in df_qu_12_one_hot.sum(axis=0).sort_values(ascending=False).head(20).index:\n",
    "    print(i)\n",
    "    display(df_confidence_12[i].sort_values(ascending=False).head(10))"
   ]
  },
  {
   "cell_type": "code",
   "execution_count": 77,
   "metadata": {
    "scrolled": true
   },
   "outputs": [
    {
     "name": "stdout",
     "output_type": "stream",
     "text": [
      "transports\n"
     ]
    },
    {
     "data": {
      "text/plain": [
       "transports    0.000151\n",
       "communs       0.000141\n",
       "collectifs    0.000129\n",
       "publics       0.000120\n",
       "commun        0.000115\n",
       "gratuite      0.000109\n",
       "gratuits      0.000108\n",
       "fiables       0.000103\n",
       "frequents     0.000094\n",
       "adaptes       0.000083\n",
       "Name: transports, dtype: float32"
      ]
     },
     "metadata": {},
     "output_type": "display_data"
    },
    {
     "name": "stdout",
     "output_type": "stream",
     "text": [
      "commun\n"
     ]
    },
    {
     "data": {
      "text/plain": [
       "commun           0.000169\n",
       "transports       0.000115\n",
       "transport        0.000100\n",
       "gratuite         0.000084\n",
       "fiables          0.000079\n",
       "gratuits         0.000077\n",
       "gratuit          0.000076\n",
       "developpement    0.000076\n",
       "reseaux          0.000075\n",
       "adaptes          0.000073\n",
       "Name: commun, dtype: float32"
      ]
     },
     "metadata": {},
     "output_type": "display_data"
    },
    {
     "name": "stdout",
     "output_type": "stream",
     "text": [
      "transport\n"
     ]
    },
    {
     "data": {
      "text/plain": [
       "transport    0.000320\n",
       "demande      0.000188\n",
       "gratuit      0.000154\n",
       "moyens       0.000109\n",
       "offre        0.000102\n",
       "commun       0.000100\n",
       "1            0.000095\n",
       "temps        0.000094\n",
       "reseau       0.000092\n",
       "trajet       0.000086\n",
       "Name: transport, dtype: float32"
      ]
     },
     "metadata": {},
     "output_type": "display_data"
    },
    {
     "name": "stdout",
     "output_type": "stream",
     "text": [
      "velo\n"
     ]
    },
    {
     "data": {
      "text/plain": [
       "velo          0.000327\n",
       "electrique    0.000189\n",
       "achat         0.000180\n",
       "aide          0.000146\n",
       "route         0.000143\n",
       "pied          0.000133\n",
       "piste         0.000127\n",
       "marche        0.000123\n",
       "routes        0.000122\n",
       "cyclable      0.000121\n",
       "Name: velo, dtype: float32"
      ]
     },
     "metadata": {},
     "output_type": "display_data"
    },
    {
     "name": "stdout",
     "output_type": "stream",
     "text": [
      "voiture\n"
     ]
    },
    {
     "data": {
      "text/plain": [
       "voiture       0.000328\n",
       "prends        0.000170\n",
       "prendre       0.000160\n",
       "courses       0.000141\n",
       "aller         0.000138\n",
       "trajet        0.000134\n",
       "travailler    0.000133\n",
       "3             0.000124\n",
       "deplacer      0.000119\n",
       "2             0.000119\n",
       "Name: voiture, dtype: float32"
      ]
     },
     "metadata": {},
     "output_type": "display_data"
    },
    {
     "name": "stdout",
     "output_type": "stream",
     "text": [
      "bus\n"
     ]
    },
    {
     "data": {
      "text/plain": [
       "bus       0.000364\n",
       "tram      0.000200\n",
       "metro     0.000165\n",
       "ligne     0.000145\n",
       "lignes    0.000142\n",
       "heure     0.000138\n",
       "1         0.000127\n",
       "gare      0.000123\n",
       "heures    0.000117\n",
       "trains    0.000114\n",
       "Name: bus, dtype: float32"
      ]
     },
     "metadata": {},
     "output_type": "display_data"
    },
    {
     "name": "stdout",
     "output_type": "stream",
     "text": [
      "cyclables\n"
     ]
    },
    {
     "data": {
      "text/plain": [
       "cyclables        0.000448\n",
       "pistes           0.000418\n",
       "securisees       0.000368\n",
       "voies            0.000195\n",
       "routes           0.000187\n",
       "creer            0.000132\n",
       "developpement    0.000129\n",
       "velos            0.000127\n",
       "securite         0.000103\n",
       "developper       0.000101\n",
       "Name: cyclables, dtype: float32"
      ]
     },
     "metadata": {},
     "output_type": "display_data"
    },
    {
     "name": "stdout",
     "output_type": "stream",
     "text": [
      "pistes\n"
     ]
    },
    {
     "data": {
      "text/plain": [
       "pistes        0.000467\n",
       "cyclables     0.000418\n",
       "securisees    0.000377\n",
       "routes        0.000171\n",
       "creer         0.000131\n",
       "velos         0.000127\n",
       "securite      0.000106\n",
       "developper    0.000101\n",
       "voitures      0.000097\n",
       "reseau        0.000088\n",
       "Name: pistes, dtype: float32"
      ]
     },
     "metadata": {},
     "output_type": "display_data"
    },
    {
     "name": "stdout",
     "output_type": "stream",
     "text": [
      "utilise\n"
     ]
    },
    {
     "data": {
      "text/plain": [
       "utilise         0.000515\n",
       "marche          0.000119\n",
       "deplacements    0.000090\n",
       "velo            0.000079\n",
       "voiture         0.000070\n",
       "aller           0.000065\n",
       "solutions       0.000060\n",
       "ville           0.000054\n",
       "covoiturage     0.000053\n",
       "train           0.000051\n",
       "Name: utilise, dtype: float32"
      ]
     },
     "metadata": {},
     "output_type": "display_data"
    },
    {
     "name": "stdout",
     "output_type": "stream",
     "text": [
      "developper\n"
     ]
    },
    {
     "data": {
      "text/plain": [
       "developper     0.000619\n",
       "reseau         0.000112\n",
       "cyclables      0.000101\n",
       "pistes         0.000101\n",
       "lignes         0.000101\n",
       "villes         0.000093\n",
       "faut           0.000083\n",
       "covoiturage    0.000076\n",
       "transports     0.000069\n",
       "commun         0.000066\n",
       "Name: developper, dtype: float32"
      ]
     },
     "metadata": {},
     "output_type": "display_data"
    },
    {
     "name": "stdout",
     "output_type": "stream",
     "text": [
      "travail\n"
     ]
    },
    {
     "data": {
      "text/plain": [
       "travail     0.000622\n",
       "domicile    0.000386\n",
       "lieu        0.000386\n",
       "aller       0.000187\n",
       "horaires    0.000173\n",
       "trajet      0.000171\n",
       "km          0.000156\n",
       "heures      0.000150\n",
       "temps       0.000130\n",
       "trajets     0.000114\n",
       "Name: travail, dtype: float32"
      ]
     },
     "metadata": {},
     "output_type": "display_data"
    },
    {
     "name": "stdout",
     "output_type": "stream",
     "text": [
      "covoiturage\n"
     ]
    },
    {
     "data": {
      "text/plain": [
       "covoiturage    0.000653\n",
       "auto           0.000213\n",
       "partage        0.000197\n",
       "place          0.000089\n",
       "travail        0.000082\n",
       "horaires       0.000077\n",
       "faire          0.000077\n",
       "developper     0.000076\n",
       "faudrait       0.000074\n",
       "solutions      0.000073\n",
       "Name: covoiturage, dtype: float32"
      ]
     },
     "metadata": {},
     "output_type": "display_data"
    },
    {
     "name": "stdout",
     "output_type": "stream",
     "text": [
      "horaires\n"
     ]
    },
    {
     "data": {
      "text/plain": [
       "horaires       0.000677\n",
       "adaptes        0.000326\n",
       "travail        0.000173\n",
       "trains         0.000098\n",
       "trajet         0.000095\n",
       "prendre        0.000093\n",
       "train          0.000092\n",
       "bus            0.000084\n",
       "covoiturage    0.000077\n",
       "temps          0.000075\n",
       "Name: horaires, dtype: float32"
      ]
     },
     "metadata": {},
     "output_type": "display_data"
    },
    {
     "name": "stdout",
     "output_type": "stream",
     "text": [
      "ville\n"
     ]
    },
    {
     "data": {
      "text/plain": [
       "ville       0.000679\n",
       "centre      0.000487\n",
       "grande      0.000216\n",
       "habite      0.000166\n",
       "aller       0.000124\n",
       "voitures    0.000118\n",
       "campagne    0.000110\n",
       "villes      0.000102\n",
       "velos       0.000102\n",
       "prendre     0.000100\n",
       "Name: ville, dtype: float32"
      ]
     },
     "metadata": {},
     "output_type": "display_data"
    },
    {
     "name": "stdout",
     "output_type": "stream",
     "text": [
      "faire\n"
     ]
    },
    {
     "data": {
      "text/plain": [
       "faire      0.000711\n",
       "courses    0.000437\n",
       "km         0.000163\n",
       "aller      0.000150\n",
       "tout       0.000131\n",
       "faut       0.000127\n",
       "prendre    0.000118\n",
       "tous       0.000115\n",
       "trajet     0.000109\n",
       "non        0.000105\n",
       "Name: faire, dtype: float32"
      ]
     },
     "metadata": {},
     "output_type": "display_data"
    },
    {
     "name": "stdout",
     "output_type": "stream",
     "text": [
      "train\n"
     ]
    },
    {
     "data": {
      "text/plain": [
       "train       0.000831\n",
       "gare        0.000259\n",
       "prendre     0.000164\n",
       "lignes      0.000155\n",
       "trains      0.000136\n",
       "prix        0.000130\n",
       "aller       0.000120\n",
       "bus         0.000109\n",
       "horaires    0.000092\n",
       "voiture     0.000090\n",
       "Name: train, dtype: float32"
      ]
     },
     "metadata": {},
     "output_type": "display_data"
    },
    {
     "name": "stdout",
     "output_type": "stream",
     "text": [
      "faut\n"
     ]
    },
    {
     "data": {
      "text/plain": [
       "faut         0.000891\n",
       "prendre      0.000146\n",
       "tout         0.000129\n",
       "aller        0.000129\n",
       "faire        0.000127\n",
       "villes       0.000110\n",
       "solutions    0.000097\n",
       "temps        0.000094\n",
       "voiture      0.000093\n",
       "ville        0.000092\n",
       "Name: faut, dtype: float32"
      ]
     },
     "metadata": {},
     "output_type": "display_data"
    },
    {
     "name": "stdout",
     "output_type": "stream",
     "text": [
      "temps\n"
     ]
    },
    {
     "data": {
      "text/plain": [
       "temps        0.000922\n",
       "trajet       0.000351\n",
       "travail      0.000130\n",
       "prendre      0.000129\n",
       "aller        0.000129\n",
       "tout         0.000118\n",
       "voiture      0.000110\n",
       "faut         0.000094\n",
       "transport    0.000094\n",
       "faire        0.000088\n",
       "Name: temps, dtype: float32"
      ]
     },
     "metadata": {},
     "output_type": "display_data"
    },
    {
     "name": "stdout",
     "output_type": "stream",
     "text": [
      "solutions\n"
     ]
    },
    {
     "data": {
      "text/plain": [
       "solutions       0.000951\n",
       "alternatives    0.000681\n",
       "faut            0.000097\n",
       "covoiturage     0.000073\n",
       "voiture         0.000060\n",
       "utilise         0.000060\n",
       "transport       0.000053\n",
       "velo            0.000035\n",
       "bus             0.000035\n",
       "commun          0.000033\n",
       "Name: solutions, dtype: float32"
      ]
     },
     "metadata": {},
     "output_type": "display_data"
    },
    {
     "name": "stdout",
     "output_type": "stream",
     "text": [
      "electrique\n"
     ]
    },
    {
     "data": {
      "text/plain": [
       "electrique    0.000990\n",
       "achat         0.000502\n",
       "aide          0.000381\n",
       "vehicule      0.000213\n",
       "velo          0.000189\n",
       "voiture       0.000090\n",
       "transport     0.000040\n",
       "bus           0.000039\n",
       "commun        0.000027\n",
       "transports    0.000023\n",
       "Name: electrique, dtype: float32"
      ]
     },
     "metadata": {},
     "output_type": "display_data"
    }
   ],
   "source": [
    "for i in df_qu_12_one_hot.sum(axis=0).sort_values(ascending=False).head(20).index:\n",
    "    print(i)\n",
    "    display(df_lift_12[i].sort_values(ascending=False).head(10))"
   ]
  },
  {
   "cell_type": "code",
   "execution_count": 78,
   "metadata": {},
   "outputs": [
    {
     "data": {
      "text/plain": [
       "140"
      ]
     },
     "execution_count": 78,
     "metadata": {},
     "output_type": "execute_result"
    }
   ],
   "source": [
    "gc.collect()"
   ]
  },
  {
   "cell_type": "code",
   "execution_count": null,
   "metadata": {
    "collapsed": true
   },
   "outputs": [],
   "source": []
  },
  {
   "cell_type": "markdown",
   "metadata": {},
   "source": [
    "# Question 13 :   Si non, quelles sont les solutions de mobilité alternatives que vous souhaiteriez pouvoir utiliser ?"
   ]
  },
  {
   "cell_type": "code",
   "execution_count": 79,
   "metadata": {
    "collapsed": true
   },
   "outputs": [],
   "source": [
    "question_13 = \"Si non, quelles sont les solutions de mobilité alternatives que vous souhaiteriez pouvoir utiliser ?\"\n",
    "qu_13,df_qu_13_one_hot,df_cov_13,df_confidence_13,df_lift_13 = compute_similarities(question_13, new_res)"
   ]
  },
  {
   "cell_type": "code",
   "execution_count": 80,
   "metadata": {
    "scrolled": true
   },
   "outputs": [
    {
     "name": "stdout",
     "output_type": "stream",
     "text": [
      "commun\n"
     ]
    },
    {
     "data": {
      "text/plain": [
       "commun         21763\n",
       "transports     21660\n",
       "velo            9072\n",
       "transport       5817\n",
       "covoiturage     5749\n",
       "demande         5612\n",
       "auto            3507\n",
       "partage         3500\n",
       "marche           502\n",
       "electrique       430\n",
       "Name: commun, dtype: uint16"
      ]
     },
     "metadata": {},
     "output_type": "display_data"
    },
    {
     "name": "stdout",
     "output_type": "stream",
     "text": [
      "transports\n"
     ]
    },
    {
     "data": {
      "text/plain": [
       "transports     21761\n",
       "commun         21660\n",
       "velo            9053\n",
       "covoiturage     5744\n",
       "transport       5736\n",
       "demande         5609\n",
       "auto            3505\n",
       "partage         3498\n",
       "marche           502\n",
       "electrique       428\n",
       "Name: transports, dtype: uint16"
      ]
     },
     "metadata": {},
     "output_type": "display_data"
    },
    {
     "name": "stdout",
     "output_type": "stream",
     "text": [
      "velo\n"
     ]
    },
    {
     "data": {
      "text/plain": [
       "velo           12867\n",
       "commun          9072\n",
       "transports      9053\n",
       "covoiturage     3860\n",
       "transport       3243\n",
       "demande         3152\n",
       "partage         2640\n",
       "auto            2637\n",
       "electrique       549\n",
       "marche           447\n",
       "Name: velo, dtype: uint16"
      ]
     },
     "metadata": {},
     "output_type": "display_data"
    },
    {
     "name": "stdout",
     "output_type": "stream",
     "text": [
      "transport\n"
     ]
    },
    {
     "data": {
      "text/plain": [
       "transport      8666\n",
       "demande        8289\n",
       "commun         5817\n",
       "transports     5736\n",
       "velo           3243\n",
       "covoiturage    2659\n",
       "auto           2354\n",
       "partage        2354\n",
       "electrique      243\n",
       "voiture         187\n",
       "Name: transport, dtype: uint16"
      ]
     },
     "metadata": {},
     "output_type": "display_data"
    },
    {
     "name": "stdout",
     "output_type": "stream",
     "text": [
      "demande\n"
     ]
    },
    {
     "data": {
      "text/plain": [
       "demande        8320\n",
       "transport      8289\n",
       "commun         5612\n",
       "transports     5609\n",
       "velo           3152\n",
       "covoiturage    2617\n",
       "partage        2330\n",
       "auto           2329\n",
       "electrique      216\n",
       "voiture         142\n",
       "Name: demande, dtype: uint16"
      ]
     },
     "metadata": {},
     "output_type": "display_data"
    },
    {
     "name": "stdout",
     "output_type": "stream",
     "text": [
      "covoiturage\n"
     ]
    },
    {
     "data": {
      "text/plain": [
       "covoiturage    7808\n",
       "commun         5749\n",
       "transports     5744\n",
       "velo           3860\n",
       "auto           2986\n",
       "partage        2982\n",
       "transport      2659\n",
       "demande        2617\n",
       "marche          195\n",
       "electrique      151\n",
       "Name: covoiturage, dtype: uint16"
      ]
     },
     "metadata": {},
     "output_type": "display_data"
    },
    {
     "name": "stdout",
     "output_type": "stream",
     "text": [
      "auto\n"
     ]
    },
    {
     "data": {
      "text/plain": [
       "auto           5067\n",
       "partage        5030\n",
       "commun         3507\n",
       "transports     3505\n",
       "covoiturage    2986\n",
       "velo           2637\n",
       "transport      2354\n",
       "demande        2329\n",
       "electrique      138\n",
       "marche          104\n",
       "Name: auto, dtype: uint16"
      ]
     },
     "metadata": {},
     "output_type": "display_data"
    },
    {
     "name": "stdout",
     "output_type": "stream",
     "text": [
      "partage\n"
     ]
    },
    {
     "data": {
      "text/plain": [
       "partage        5053\n",
       "auto           5030\n",
       "commun         3500\n",
       "transports     3498\n",
       "covoiturage    2982\n",
       "velo           2640\n",
       "transport      2354\n",
       "demande        2330\n",
       "electrique      136\n",
       "marche          105\n",
       "Name: partage, dtype: uint16"
      ]
     },
     "metadata": {},
     "output_type": "display_data"
    },
    {
     "name": "stdout",
     "output_type": "stream",
     "text": [
      "voiture\n"
     ]
    },
    {
     "data": {
      "text/plain": [
       "voiture        1471\n",
       "electrique      467\n",
       "commun          293\n",
       "transports      289\n",
       "velo            223\n",
       "transport       187\n",
       "demande         142\n",
       "campagne        116\n",
       "covoiturage     106\n",
       "solutions         0\n",
       "Name: voiture, dtype: uint16"
      ]
     },
     "metadata": {},
     "output_type": "display_data"
    },
    {
     "name": "stdout",
     "output_type": "stream",
     "text": [
      "electrique\n"
     ]
    },
    {
     "data": {
      "text/plain": [
       "electrique     1299\n",
       "velo            549\n",
       "voiture         467\n",
       "commun          430\n",
       "transports      428\n",
       "transport       243\n",
       "vehicule        224\n",
       "demande         216\n",
       "covoiturage     151\n",
       "auto            138\n",
       "Name: electrique, dtype: uint16"
      ]
     },
     "metadata": {},
     "output_type": "display_data"
    },
    {
     "name": "stdout",
     "output_type": "stream",
     "text": [
      "marche\n"
     ]
    },
    {
     "data": {
      "text/plain": [
       "marche         748\n",
       "commun         502\n",
       "transports     502\n",
       "velo           447\n",
       "pied           316\n",
       "covoiturage    195\n",
       "transport      140\n",
       "demande        132\n",
       "partage        105\n",
       "auto           104\n",
       "Name: marche, dtype: uint16"
      ]
     },
     "metadata": {},
     "output_type": "display_data"
    },
    {
     "name": "stdout",
     "output_type": "stream",
     "text": [
      "vehicule\n"
     ]
    },
    {
     "data": {
      "text/plain": [
       "vehicule      616\n",
       "electrique    224\n",
       "commun        108\n",
       "transports    106\n",
       "solutions       0\n",
       "tout            0\n",
       "transport       0\n",
       "pied            0\n",
       "train           0\n",
       "bus             0\n",
       "Name: vehicule, dtype: uint16"
      ]
     },
     "metadata": {},
     "output_type": "display_data"
    },
    {
     "name": "stdout",
     "output_type": "stream",
     "text": [
      "pied\n"
     ]
    },
    {
     "data": {
      "text/plain": [
       "pied           480\n",
       "marche         316\n",
       "commun         292\n",
       "transports     292\n",
       "velo           265\n",
       "covoiturage    113\n",
       "solutions        0\n",
       "teletravail      0\n",
       "vehicule         0\n",
       "transport        0\n",
       "Name: pied, dtype: uint16"
      ]
     },
     "metadata": {},
     "output_type": "display_data"
    },
    {
     "name": "stdout",
     "output_type": "stream",
     "text": [
      "travail\n"
     ]
    },
    {
     "data": {
      "text/plain": [
       "travail       420\n",
       "transports    125\n",
       "commun        122\n",
       "solutions       0\n",
       "vehicule        0\n",
       "transport       0\n",
       "pied            0\n",
       "train           0\n",
       "bus             0\n",
       "demande         0\n",
       "Name: travail, dtype: uint16"
      ]
     },
     "metadata": {},
     "output_type": "display_data"
    },
    {
     "name": "stdout",
     "output_type": "stream",
     "text": [
      "train\n"
     ]
    },
    {
     "data": {
      "text/plain": [
       "train         416\n",
       "commun        273\n",
       "transports    271\n",
       "velo          155\n",
       "solutions       0\n",
       "tout            0\n",
       "vehicule        0\n",
       "transport       0\n",
       "pied            0\n",
       "bus             0\n",
       "Name: train, dtype: uint16"
      ]
     },
     "metadata": {},
     "output_type": "display_data"
    },
    {
     "name": "stdout",
     "output_type": "stream",
     "text": [
      "campagne\n"
     ]
    },
    {
     "data": {
      "text/plain": [
       "campagne     397\n",
       "voiture      116\n",
       "solutions      0\n",
       "tout           0\n",
       "vehicule       0\n",
       "commun         0\n",
       "transport      0\n",
       "pied           0\n",
       "train          0\n",
       "bus            0\n",
       "Name: campagne, dtype: uint16"
      ]
     },
     "metadata": {},
     "output_type": "display_data"
    },
    {
     "name": "stdout",
     "output_type": "stream",
     "text": [
      "teletravail\n"
     ]
    },
    {
     "data": {
      "text/plain": [
       "teletravail    365\n",
       "transports     149\n",
       "commun         146\n",
       "solutions        0\n",
       "travail          0\n",
       "vehicule         0\n",
       "transport        0\n",
       "pied             0\n",
       "train            0\n",
       "bus              0\n",
       "Name: teletravail, dtype: uint16"
      ]
     },
     "metadata": {},
     "output_type": "display_data"
    },
    {
     "name": "stdout",
     "output_type": "stream",
     "text": [
      "solution\n"
     ]
    },
    {
     "data": {
      "text/plain": [
       "solution       325\n",
       "travail          0\n",
       "vehicule         0\n",
       "commun           0\n",
       "transport        0\n",
       "pied             0\n",
       "train            0\n",
       "bus              0\n",
       "demande          0\n",
       "teletravail      0\n",
       "Name: solution, dtype: uint16"
      ]
     },
     "metadata": {},
     "output_type": "display_data"
    },
    {
     "name": "stdout",
     "output_type": "stream",
     "text": [
      "electriques\n"
     ]
    },
    {
     "data": {
      "text/plain": [
       "electriques    283\n",
       "transports     146\n",
       "commun         137\n",
       "velo           113\n",
       "solutions        0\n",
       "tout             0\n",
       "vehicule         0\n",
       "transport        0\n",
       "pied             0\n",
       "train            0\n",
       "Name: electriques, dtype: uint16"
      ]
     },
     "metadata": {},
     "output_type": "display_data"
    },
    {
     "name": "stdout",
     "output_type": "stream",
     "text": [
      "tout\n"
     ]
    },
    {
     "data": {
      "text/plain": [
       "tout          277\n",
       "commun        109\n",
       "transports    108\n",
       "solutions       0\n",
       "travail         0\n",
       "vehicule        0\n",
       "transport       0\n",
       "pied            0\n",
       "train           0\n",
       "bus             0\n",
       "Name: tout, dtype: uint16"
      ]
     },
     "metadata": {},
     "output_type": "display_data"
    }
   ],
   "source": [
    "for i in df_qu_13_one_hot.sum(axis=0).sort_values(ascending=False).head(20).index:\n",
    "    print(i)\n",
    "    display(df_cov_13[i].sort_values(ascending=False).head(10))"
   ]
  },
  {
   "cell_type": "code",
   "execution_count": 81,
   "metadata": {
    "scrolled": true
   },
   "outputs": [
    {
     "name": "stdout",
     "output_type": "stream",
     "text": [
      "commun\n"
     ]
    },
    {
     "data": {
      "text/plain": [
       "commun         1.000000\n",
       "transports     0.995359\n",
       "covoiturage    0.736296\n",
       "velo           0.705059\n",
       "partage        0.692658\n",
       "auto           0.692125\n",
       "demande        0.674519\n",
       "transport      0.671244\n",
       "marche         0.671123\n",
       "train          0.656250\n",
       "Name: commun, dtype: float32"
      ]
     },
     "metadata": {},
     "output_type": "display_data"
    },
    {
     "name": "stdout",
     "output_type": "stream",
     "text": [
      "transports\n"
     ]
    },
    {
     "data": {
      "text/plain": [
       "transports     1.000000\n",
       "commun         0.995267\n",
       "covoiturage    0.735656\n",
       "velo           0.703583\n",
       "partage        0.692262\n",
       "auto           0.691731\n",
       "demande        0.674159\n",
       "marche         0.671123\n",
       "transport      0.661897\n",
       "train          0.651442\n",
       "Name: transports, dtype: float32"
      ]
     },
     "metadata": {},
     "output_type": "display_data"
    },
    {
     "name": "stdout",
     "output_type": "stream",
     "text": [
      "velo\n"
     ]
    },
    {
     "data": {
      "text/plain": [
       "velo           1.000000\n",
       "marche         0.597594\n",
       "pied           0.552083\n",
       "partage        0.522462\n",
       "auto           0.520426\n",
       "covoiturage    0.494365\n",
       "electrique     0.422633\n",
       "commun         0.416854\n",
       "transports     0.416019\n",
       "electriques    0.399293\n",
       "Name: velo, dtype: float32"
      ]
     },
     "metadata": {},
     "output_type": "display_data"
    },
    {
     "name": "stdout",
     "output_type": "stream",
     "text": [
      "transport\n"
     ]
    },
    {
     "data": {
      "text/plain": [
       "transport      1.000000\n",
       "demande        0.996274\n",
       "partage        0.465862\n",
       "auto           0.464575\n",
       "covoiturage    0.340548\n",
       "commun         0.267289\n",
       "transports     0.263591\n",
       "velo           0.252040\n",
       "marche         0.187166\n",
       "electrique     0.187067\n",
       "Name: transport, dtype: float32"
      ]
     },
     "metadata": {},
     "output_type": "display_data"
    },
    {
     "name": "stdout",
     "output_type": "stream",
     "text": [
      "demande\n"
     ]
    },
    {
     "data": {
      "text/plain": [
       "demande        1.000000\n",
       "transport      0.956497\n",
       "partage        0.461112\n",
       "auto           0.459641\n",
       "covoiturage    0.335169\n",
       "commun         0.257869\n",
       "transports     0.257755\n",
       "velo           0.244968\n",
       "marche         0.176471\n",
       "electrique     0.166282\n",
       "Name: demande, dtype: float32"
      ]
     },
     "metadata": {},
     "output_type": "display_data"
    },
    {
     "name": "stdout",
     "output_type": "stream",
     "text": [
      "covoiturage\n"
     ]
    },
    {
     "data": {
      "text/plain": [
       "covoiturage    1.000000\n",
       "partage        0.590144\n",
       "auto           0.589303\n",
       "demande        0.314543\n",
       "transport      0.306831\n",
       "velo           0.299992\n",
       "commun         0.264164\n",
       "transports     0.263958\n",
       "marche         0.260695\n",
       "pied           0.235417\n",
       "Name: covoiturage, dtype: float32"
      ]
     },
     "metadata": {},
     "output_type": "display_data"
    },
    {
     "name": "stdout",
     "output_type": "stream",
     "text": [
      "auto\n"
     ]
    },
    {
     "data": {
      "text/plain": [
       "auto           1.000000\n",
       "partage        0.995448\n",
       "covoiturage    0.382428\n",
       "demande        0.279928\n",
       "transport      0.271636\n",
       "velo           0.204943\n",
       "commun         0.161145\n",
       "transports     0.161068\n",
       "marche         0.139037\n",
       "electrique     0.106236\n",
       "Name: auto, dtype: float32"
      ]
     },
     "metadata": {},
     "output_type": "display_data"
    },
    {
     "name": "stdout",
     "output_type": "stream",
     "text": [
      "partage\n"
     ]
    },
    {
     "data": {
      "text/plain": [
       "partage        1.000000\n",
       "auto           0.992698\n",
       "covoiturage    0.381916\n",
       "demande        0.280048\n",
       "transport      0.271636\n",
       "velo           0.205176\n",
       "commun         0.160823\n",
       "transports     0.160746\n",
       "marche         0.140374\n",
       "electrique     0.104696\n",
       "Name: partage, dtype: float32"
      ]
     },
     "metadata": {},
     "output_type": "display_data"
    },
    {
     "name": "stdout",
     "output_type": "stream",
     "text": [
      "voiture\n"
     ]
    },
    {
     "data": {
      "text/plain": [
       "voiture        1.000000\n",
       "electrique     0.359507\n",
       "campagne       0.292191\n",
       "transport      0.021579\n",
       "velo           0.017331\n",
       "demande        0.017067\n",
       "covoiturage    0.013576\n",
       "commun         0.013463\n",
       "transports     0.013281\n",
       "solutions      0.000000\n",
       "Name: voiture, dtype: float32"
      ]
     },
     "metadata": {},
     "output_type": "display_data"
    },
    {
     "name": "stdout",
     "output_type": "stream",
     "text": [
      "electrique\n"
     ]
    },
    {
     "data": {
      "text/plain": [
       "electrique    1.000000\n",
       "vehicule      0.363636\n",
       "voiture       0.317471\n",
       "velo          0.042667\n",
       "transport     0.028041\n",
       "auto          0.027235\n",
       "partage       0.026915\n",
       "demande       0.025962\n",
       "commun        0.019758\n",
       "transports    0.019668\n",
       "Name: electrique, dtype: float32"
      ]
     },
     "metadata": {},
     "output_type": "display_data"
    },
    {
     "name": "stdout",
     "output_type": "stream",
     "text": [
      "marche\n"
     ]
    },
    {
     "data": {
      "text/plain": [
       "marche         1.000000\n",
       "pied           0.658333\n",
       "velo           0.034740\n",
       "covoiturage    0.024974\n",
       "transports     0.023069\n",
       "commun         0.023067\n",
       "partage        0.020780\n",
       "auto           0.020525\n",
       "transport      0.016155\n",
       "demande        0.015865\n",
       "Name: marche, dtype: float32"
      ]
     },
     "metadata": {},
     "output_type": "display_data"
    },
    {
     "name": "stdout",
     "output_type": "stream",
     "text": [
      "vehicule\n"
     ]
    },
    {
     "data": {
      "text/plain": [
       "vehicule      1.000000\n",
       "electrique    0.172440\n",
       "commun        0.004963\n",
       "transports    0.004871\n",
       "solutions     0.000000\n",
       "tout          0.000000\n",
       "transport     0.000000\n",
       "pied          0.000000\n",
       "train         0.000000\n",
       "bus           0.000000\n",
       "Name: vehicule, dtype: float32"
      ]
     },
     "metadata": {},
     "output_type": "display_data"
    },
    {
     "name": "stdout",
     "output_type": "stream",
     "text": [
      "pied\n"
     ]
    },
    {
     "data": {
      "text/plain": [
       "pied           1.000000\n",
       "marche         0.422460\n",
       "velo           0.020595\n",
       "covoiturage    0.014472\n",
       "transports     0.013419\n",
       "commun         0.013417\n",
       "solutions      0.000000\n",
       "teletravail    0.000000\n",
       "vehicule       0.000000\n",
       "transport      0.000000\n",
       "Name: pied, dtype: float32"
      ]
     },
     "metadata": {},
     "output_type": "display_data"
    },
    {
     "name": "stdout",
     "output_type": "stream",
     "text": [
      "travail\n"
     ]
    },
    {
     "data": {
      "text/plain": [
       "travail       1.000000\n",
       "transports    0.005744\n",
       "commun        0.005606\n",
       "solutions     0.000000\n",
       "vehicule      0.000000\n",
       "transport     0.000000\n",
       "pied          0.000000\n",
       "train         0.000000\n",
       "bus           0.000000\n",
       "demande       0.000000\n",
       "Name: travail, dtype: float32"
      ]
     },
     "metadata": {},
     "output_type": "display_data"
    },
    {
     "name": "stdout",
     "output_type": "stream",
     "text": [
      "train\n"
     ]
    },
    {
     "data": {
      "text/plain": [
       "train         1.000000\n",
       "commun        0.012544\n",
       "transports    0.012453\n",
       "velo          0.012046\n",
       "solutions     0.000000\n",
       "tout          0.000000\n",
       "vehicule      0.000000\n",
       "transport     0.000000\n",
       "pied          0.000000\n",
       "bus           0.000000\n",
       "Name: train, dtype: float32"
      ]
     },
     "metadata": {},
     "output_type": "display_data"
    },
    {
     "name": "stdout",
     "output_type": "stream",
     "text": [
      "campagne\n"
     ]
    },
    {
     "data": {
      "text/plain": [
       "campagne     1.000000\n",
       "voiture      0.078858\n",
       "solutions    0.000000\n",
       "tout         0.000000\n",
       "vehicule     0.000000\n",
       "commun       0.000000\n",
       "transport    0.000000\n",
       "pied         0.000000\n",
       "train        0.000000\n",
       "bus          0.000000\n",
       "Name: campagne, dtype: float32"
      ]
     },
     "metadata": {},
     "output_type": "display_data"
    },
    {
     "name": "stdout",
     "output_type": "stream",
     "text": [
      "teletravail\n"
     ]
    },
    {
     "data": {
      "text/plain": [
       "teletravail    1.000000\n",
       "transports     0.006847\n",
       "commun         0.006709\n",
       "solutions      0.000000\n",
       "travail        0.000000\n",
       "vehicule       0.000000\n",
       "transport      0.000000\n",
       "pied           0.000000\n",
       "train          0.000000\n",
       "bus            0.000000\n",
       "Name: teletravail, dtype: float32"
      ]
     },
     "metadata": {},
     "output_type": "display_data"
    },
    {
     "name": "stdout",
     "output_type": "stream",
     "text": [
      "solution\n"
     ]
    },
    {
     "data": {
      "text/plain": [
       "solution       1.0\n",
       "travail        0.0\n",
       "vehicule       0.0\n",
       "commun         0.0\n",
       "transport      0.0\n",
       "pied           0.0\n",
       "train          0.0\n",
       "bus            0.0\n",
       "demande        0.0\n",
       "teletravail    0.0\n",
       "Name: solution, dtype: float32"
      ]
     },
     "metadata": {},
     "output_type": "display_data"
    },
    {
     "name": "stdout",
     "output_type": "stream",
     "text": [
      "electriques\n"
     ]
    },
    {
     "data": {
      "text/plain": [
       "electriques    1.000000\n",
       "velo           0.008782\n",
       "transports     0.006709\n",
       "commun         0.006295\n",
       "solutions      0.000000\n",
       "tout           0.000000\n",
       "vehicule       0.000000\n",
       "transport      0.000000\n",
       "pied           0.000000\n",
       "train          0.000000\n",
       "Name: electriques, dtype: float32"
      ]
     },
     "metadata": {},
     "output_type": "display_data"
    },
    {
     "name": "stdout",
     "output_type": "stream",
     "text": [
      "tout\n"
     ]
    },
    {
     "data": {
      "text/plain": [
       "tout          1.000000\n",
       "commun        0.005009\n",
       "transports    0.004963\n",
       "solutions     0.000000\n",
       "travail       0.000000\n",
       "vehicule      0.000000\n",
       "transport     0.000000\n",
       "pied          0.000000\n",
       "train         0.000000\n",
       "bus           0.000000\n",
       "Name: tout, dtype: float32"
      ]
     },
     "metadata": {},
     "output_type": "display_data"
    }
   ],
   "source": [
    "for i in df_qu_13_one_hot.sum(axis=0).sort_values(ascending=False).head(20).index:\n",
    "    print(i)\n",
    "    display(df_confidence_13[i].sort_values(ascending=False).head(10))"
   ]
  },
  {
   "cell_type": "code",
   "execution_count": 82,
   "metadata": {
    "scrolled": true
   },
   "outputs": [
    {
     "name": "stdout",
     "output_type": "stream",
     "text": [
      "commun\n"
     ]
    },
    {
     "data": {
      "text/plain": [
       "commun         0.000046\n",
       "transports     0.000046\n",
       "covoiturage    0.000034\n",
       "velo           0.000032\n",
       "partage        0.000032\n",
       "auto           0.000032\n",
       "demande        0.000031\n",
       "transport      0.000031\n",
       "marche         0.000031\n",
       "train          0.000030\n",
       "Name: commun, dtype: float32"
      ]
     },
     "metadata": {},
     "output_type": "display_data"
    },
    {
     "name": "stdout",
     "output_type": "stream",
     "text": [
      "transports\n"
     ]
    },
    {
     "data": {
      "text/plain": [
       "transports     0.000046\n",
       "commun         0.000046\n",
       "covoiturage    0.000034\n",
       "velo           0.000032\n",
       "partage        0.000032\n",
       "auto           0.000032\n",
       "demande        0.000031\n",
       "marche         0.000031\n",
       "transport      0.000030\n",
       "train          0.000030\n",
       "Name: transports, dtype: float32"
      ]
     },
     "metadata": {},
     "output_type": "display_data"
    },
    {
     "name": "stdout",
     "output_type": "stream",
     "text": [
      "velo\n"
     ]
    },
    {
     "data": {
      "text/plain": [
       "velo           0.000078\n",
       "marche         0.000046\n",
       "pied           0.000043\n",
       "partage        0.000041\n",
       "auto           0.000040\n",
       "covoiturage    0.000038\n",
       "electrique     0.000033\n",
       "commun         0.000032\n",
       "transports     0.000032\n",
       "electriques    0.000031\n",
       "Name: velo, dtype: float32"
      ]
     },
     "metadata": {},
     "output_type": "display_data"
    },
    {
     "name": "stdout",
     "output_type": "stream",
     "text": [
      "transport\n"
     ]
    },
    {
     "data": {
      "text/plain": [
       "transport      0.000115\n",
       "demande        0.000115\n",
       "partage        0.000054\n",
       "auto           0.000054\n",
       "covoiturage    0.000039\n",
       "commun         0.000031\n",
       "transports     0.000030\n",
       "velo           0.000029\n",
       "marche         0.000022\n",
       "electrique     0.000022\n",
       "Name: transport, dtype: float32"
      ]
     },
     "metadata": {},
     "output_type": "display_data"
    },
    {
     "name": "stdout",
     "output_type": "stream",
     "text": [
      "demande\n"
     ]
    },
    {
     "data": {
      "text/plain": [
       "demande        0.000120\n",
       "transport      0.000115\n",
       "partage        0.000055\n",
       "auto           0.000055\n",
       "covoiturage    0.000040\n",
       "commun         0.000031\n",
       "transports     0.000031\n",
       "velo           0.000029\n",
       "marche         0.000021\n",
       "electrique     0.000020\n",
       "Name: demande, dtype: float32"
      ]
     },
     "metadata": {},
     "output_type": "display_data"
    },
    {
     "name": "stdout",
     "output_type": "stream",
     "text": [
      "covoiturage\n"
     ]
    },
    {
     "data": {
      "text/plain": [
       "covoiturage    0.000128\n",
       "partage        0.000076\n",
       "auto           0.000075\n",
       "demande        0.000040\n",
       "transport      0.000039\n",
       "velo           0.000038\n",
       "commun         0.000034\n",
       "transports     0.000034\n",
       "marche         0.000033\n",
       "pied           0.000030\n",
       "Name: covoiturage, dtype: float32"
      ]
     },
     "metadata": {},
     "output_type": "display_data"
    },
    {
     "name": "stdout",
     "output_type": "stream",
     "text": [
      "auto\n"
     ]
    },
    {
     "data": {
      "text/plain": [
       "auto           0.000197\n",
       "partage        0.000196\n",
       "covoiturage    0.000075\n",
       "demande        0.000055\n",
       "transport      0.000054\n",
       "velo           0.000040\n",
       "commun         0.000032\n",
       "transports     0.000032\n",
       "marche         0.000027\n",
       "electrique     0.000021\n",
       "Name: auto, dtype: float32"
      ]
     },
     "metadata": {},
     "output_type": "display_data"
    },
    {
     "name": "stdout",
     "output_type": "stream",
     "text": [
      "partage\n"
     ]
    },
    {
     "data": {
      "text/plain": [
       "partage        0.000198\n",
       "auto           0.000196\n",
       "covoiturage    0.000076\n",
       "demande        0.000055\n",
       "transport      0.000054\n",
       "velo           0.000041\n",
       "commun         0.000032\n",
       "transports     0.000032\n",
       "marche         0.000028\n",
       "electrique     0.000021\n",
       "Name: partage, dtype: float32"
      ]
     },
     "metadata": {},
     "output_type": "display_data"
    },
    {
     "name": "stdout",
     "output_type": "stream",
     "text": [
      "voiture\n"
     ]
    },
    {
     "data": {
      "text/plain": [
       "voiture        0.000680\n",
       "electrique     0.000244\n",
       "campagne       0.000199\n",
       "transport      0.000015\n",
       "velo           0.000012\n",
       "demande        0.000012\n",
       "covoiturage    0.000009\n",
       "commun         0.000009\n",
       "transports     0.000009\n",
       "auto                NaN\n",
       "Name: voiture, dtype: float32"
      ]
     },
     "metadata": {},
     "output_type": "display_data"
    },
    {
     "name": "stdout",
     "output_type": "stream",
     "text": [
      "electrique\n"
     ]
    },
    {
     "data": {
      "text/plain": [
       "electrique    0.000770\n",
       "vehicule      0.000280\n",
       "voiture       0.000244\n",
       "velo          0.000033\n",
       "transport     0.000022\n",
       "auto          0.000021\n",
       "partage       0.000021\n",
       "demande       0.000020\n",
       "commun        0.000015\n",
       "transports    0.000015\n",
       "Name: electrique, dtype: float32"
      ]
     },
     "metadata": {},
     "output_type": "display_data"
    },
    {
     "name": "stdout",
     "output_type": "stream",
     "text": [
      "marche\n"
     ]
    },
    {
     "data": {
      "text/plain": [
       "marche         0.001337\n",
       "pied           0.000880\n",
       "velo           0.000046\n",
       "covoiturage    0.000033\n",
       "transports     0.000031\n",
       "commun         0.000031\n",
       "partage        0.000028\n",
       "auto           0.000027\n",
       "transport      0.000022\n",
       "demande        0.000021\n",
       "Name: marche, dtype: float32"
      ]
     },
     "metadata": {},
     "output_type": "display_data"
    },
    {
     "name": "stdout",
     "output_type": "stream",
     "text": [
      "vehicule\n"
     ]
    },
    {
     "data": {
      "text/plain": [
       "vehicule      0.001623\n",
       "electrique    0.000280\n",
       "commun        0.000008\n",
       "transports    0.000008\n",
       "auto               NaN\n",
       "transport          NaN\n",
       "pied               NaN\n",
       "train              NaN\n",
       "bus                NaN\n",
       "demande            NaN\n",
       "Name: vehicule, dtype: float32"
      ]
     },
     "metadata": {},
     "output_type": "display_data"
    },
    {
     "name": "stdout",
     "output_type": "stream",
     "text": [
      "pied\n"
     ]
    },
    {
     "data": {
      "text/plain": [
       "pied           0.002083\n",
       "marche         0.000880\n",
       "velo           0.000043\n",
       "covoiturage    0.000030\n",
       "transports     0.000028\n",
       "commun         0.000028\n",
       "auto                NaN\n",
       "vehicule            NaN\n",
       "transport           NaN\n",
       "train               NaN\n",
       "Name: pied, dtype: float32"
      ]
     },
     "metadata": {},
     "output_type": "display_data"
    },
    {
     "name": "stdout",
     "output_type": "stream",
     "text": [
      "travail\n"
     ]
    },
    {
     "data": {
      "text/plain": [
       "travail       0.002381\n",
       "transports    0.000014\n",
       "commun        0.000013\n",
       "auto               NaN\n",
       "vehicule           NaN\n",
       "transport          NaN\n",
       "pied               NaN\n",
       "train              NaN\n",
       "bus                NaN\n",
       "demande            NaN\n",
       "Name: travail, dtype: float32"
      ]
     },
     "metadata": {},
     "output_type": "display_data"
    },
    {
     "name": "stdout",
     "output_type": "stream",
     "text": [
      "train\n"
     ]
    },
    {
     "data": {
      "text/plain": [
       "train         0.002404\n",
       "commun        0.000030\n",
       "transports    0.000030\n",
       "velo          0.000029\n",
       "auto               NaN\n",
       "vehicule           NaN\n",
       "transport          NaN\n",
       "pied               NaN\n",
       "bus                NaN\n",
       "demande            NaN\n",
       "Name: train, dtype: float32"
      ]
     },
     "metadata": {},
     "output_type": "display_data"
    },
    {
     "name": "stdout",
     "output_type": "stream",
     "text": [
      "campagne\n"
     ]
    },
    {
     "data": {
      "text/plain": [
       "campagne     0.002519\n",
       "voiture      0.000199\n",
       "auto              NaN\n",
       "vehicule          NaN\n",
       "commun            NaN\n",
       "transport         NaN\n",
       "pied              NaN\n",
       "train             NaN\n",
       "bus               NaN\n",
       "demande           NaN\n",
       "Name: campagne, dtype: float32"
      ]
     },
     "metadata": {},
     "output_type": "display_data"
    },
    {
     "name": "stdout",
     "output_type": "stream",
     "text": [
      "teletravail\n"
     ]
    },
    {
     "data": {
      "text/plain": [
       "teletravail    0.002740\n",
       "transports     0.000019\n",
       "commun         0.000018\n",
       "auto                NaN\n",
       "vehicule            NaN\n",
       "transport           NaN\n",
       "pied                NaN\n",
       "train               NaN\n",
       "bus                 NaN\n",
       "demande             NaN\n",
       "Name: teletravail, dtype: float32"
      ]
     },
     "metadata": {},
     "output_type": "display_data"
    },
    {
     "name": "stdout",
     "output_type": "stream",
     "text": [
      "solution\n"
     ]
    },
    {
     "data": {
      "text/plain": [
       "solution       0.003077\n",
       "auto                NaN\n",
       "vehicule            NaN\n",
       "commun              NaN\n",
       "transport           NaN\n",
       "pied                NaN\n",
       "train               NaN\n",
       "bus                 NaN\n",
       "demande             NaN\n",
       "teletravail         NaN\n",
       "Name: solution, dtype: float32"
      ]
     },
     "metadata": {},
     "output_type": "display_data"
    },
    {
     "name": "stdout",
     "output_type": "stream",
     "text": [
      "electriques\n"
     ]
    },
    {
     "data": {
      "text/plain": [
       "electriques    0.003534\n",
       "velo           0.000031\n",
       "transports     0.000024\n",
       "commun         0.000022\n",
       "auto                NaN\n",
       "vehicule            NaN\n",
       "transport           NaN\n",
       "pied                NaN\n",
       "train               NaN\n",
       "bus                 NaN\n",
       "Name: electriques, dtype: float32"
      ]
     },
     "metadata": {},
     "output_type": "display_data"
    },
    {
     "name": "stdout",
     "output_type": "stream",
     "text": [
      "tout\n"
     ]
    },
    {
     "data": {
      "text/plain": [
       "tout          0.003610\n",
       "commun        0.000018\n",
       "transports    0.000018\n",
       "auto               NaN\n",
       "vehicule           NaN\n",
       "transport          NaN\n",
       "pied               NaN\n",
       "train              NaN\n",
       "bus                NaN\n",
       "demande            NaN\n",
       "Name: tout, dtype: float32"
      ]
     },
     "metadata": {},
     "output_type": "display_data"
    }
   ],
   "source": [
    "for i in df_qu_13_one_hot.sum(axis=0).sort_values(ascending=False).head(20).index:\n",
    "    print(i)\n",
    "    display(df_lift_13[i].sort_values(ascending=False).head(10))"
   ]
  },
  {
   "cell_type": "code",
   "execution_count": 83,
   "metadata": {},
   "outputs": [
    {
     "data": {
      "text/plain": [
       "147"
      ]
     },
     "execution_count": 83,
     "metadata": {},
     "output_type": "execute_result"
    }
   ],
   "source": [
    "gc.collect()"
   ]
  },
  {
   "cell_type": "markdown",
   "metadata": {},
   "source": [
    "# Question 14 :  Et qui doit selon vous se charger de vous proposer ce type de solutions alternatives ?"
   ]
  },
  {
   "cell_type": "code",
   "execution_count": 84,
   "metadata": {
    "collapsed": true
   },
   "outputs": [],
   "source": [
    "question_14 = \"Et qui doit selon vous se charger de vous proposer ce type de solutions alternatives ?\"\n",
    "qu_14,df_qu_14_one_hot,df_cov_14,df_confidence_14,df_lift_14 = compute_similarities(question_14, new_res)"
   ]
  },
  {
   "cell_type": "code",
   "execution_count": 85,
   "metadata": {
    "scrolled": true
   },
   "outputs": [
    {
     "name": "stdout",
     "output_type": "stream",
     "text": [
      "collectivites\n"
     ]
    },
    {
     "data": {
      "text/plain": [
       "collectivites    5188\n",
       "locales          2318\n",
       "territoriales    1418\n",
       "entreprises       505\n",
       "transports        394\n",
       "commun            296\n",
       "transport         223\n",
       "region            202\n",
       "solutions         200\n",
       "communes          191\n",
       "Name: collectivites, dtype: uint16"
      ]
     },
     "metadata": {},
     "output_type": "display_data"
    },
    {
     "name": "stdout",
     "output_type": "stream",
     "text": [
      "region\n"
     ]
    },
    {
     "data": {
      "text/plain": [
       "region           5137\n",
       "departement      1563\n",
       "commune           887\n",
       "communes          439\n",
       "transports        352\n",
       "ville             298\n",
       "commun            270\n",
       "communaute        234\n",
       "transport         206\n",
       "collectivites     202\n",
       "Name: region, dtype: uint16"
      ]
     },
     "metadata": {},
     "output_type": "display_data"
    },
    {
     "name": "stdout",
     "output_type": "stream",
     "text": [
      "departement\n"
     ]
    },
    {
     "data": {
      "text/plain": [
       "departement    3447\n",
       "region         1563\n",
       "commune         825\n",
       "communes        380\n",
       "communaute      213\n",
       "ville           201\n",
       "transports      195\n",
       "mairie          185\n",
       "commun          160\n",
       "transport       146\n",
       "Name: departement, dtype: uint16"
      ]
     },
     "metadata": {},
     "output_type": "display_data"
    },
    {
     "name": "stdout",
     "output_type": "stream",
     "text": [
      "communes\n"
     ]
    },
    {
     "data": {
      "text/plain": [
       "communes         3413\n",
       "communaute        619\n",
       "regions           570\n",
       "communautes       521\n",
       "region            439\n",
       "departements      420\n",
       "departement       380\n",
       "transports        246\n",
       "collectivites     191\n",
       "commune           189\n",
       "Name: communes, dtype: uint16"
      ]
     },
     "metadata": {},
     "output_type": "display_data"
    },
    {
     "name": "stdout",
     "output_type": "stream",
     "text": [
      "commune\n"
     ]
    },
    {
     "data": {
      "text/plain": [
       "commune             3132\n",
       "region               887\n",
       "departement          825\n",
       "communaute           393\n",
       "communes             189\n",
       "transports           167\n",
       "commun               141\n",
       "transport            128\n",
       "intercommunalite     124\n",
       "services               0\n",
       "Name: commune, dtype: uint16"
      ]
     },
     "metadata": {},
     "output_type": "display_data"
    },
    {
     "name": "stdout",
     "output_type": "stream",
     "text": [
      "locales\n"
     ]
    },
    {
     "data": {
      "text/plain": [
       "locales          2710\n",
       "collectivites    2318\n",
       "entreprises       225\n",
       "transports        174\n",
       "solutions         128\n",
       "communes          124\n",
       "commun            123\n",
       "region            123\n",
       "transport         113\n",
       "regions           103\n",
       "Name: locales, dtype: uint16"
      ]
     },
     "metadata": {},
     "output_type": "display_data"
    },
    {
     "name": "stdout",
     "output_type": "stream",
     "text": [
      "transports\n"
     ]
    },
    {
     "data": {
      "text/plain": [
       "transports       2427\n",
       "commun           1355\n",
       "collectivites     394\n",
       "region            352\n",
       "transport         256\n",
       "communes          246\n",
       "entreprises       227\n",
       "velo              226\n",
       "covoiturage       219\n",
       "departement       195\n",
       "Name: transports, dtype: uint16"
      ]
     },
     "metadata": {},
     "output_type": "display_data"
    },
    {
     "name": "stdout",
     "output_type": "stream",
     "text": [
      "entreprises\n"
     ]
    },
    {
     "data": {
      "text/plain": [
       "entreprises      2306\n",
       "collectivites     505\n",
       "privees           418\n",
       "transports        227\n",
       "locales           225\n",
       "transport         194\n",
       "commun            180\n",
       "communes          170\n",
       "tout              164\n",
       "solutions         151\n",
       "Name: entreprises, dtype: uint16"
      ]
     },
     "metadata": {},
     "output_type": "display_data"
    },
    {
     "name": "stdout",
     "output_type": "stream",
     "text": [
      "regions\n"
     ]
    },
    {
     "data": {
      "text/plain": [
       "regions          1921\n",
       "communes          570\n",
       "departements      477\n",
       "transports        191\n",
       "collectivites     169\n",
       "villes            150\n",
       "commun            124\n",
       "transport         114\n",
       "mairies           108\n",
       "locales           103\n",
       "Name: regions, dtype: uint16"
      ]
     },
     "metadata": {},
     "output_type": "display_data"
    },
    {
     "name": "stdout",
     "output_type": "stream",
     "text": [
      "commun\n"
     ]
    },
    {
     "data": {
      "text/plain": [
       "commun           1911\n",
       "transports       1355\n",
       "transport         652\n",
       "collectivites     296\n",
       "region            270\n",
       "velo              236\n",
       "covoiturage       234\n",
       "entreprises       180\n",
       "communes          173\n",
       "pistes            163\n",
       "Name: commun, dtype: uint16"
      ]
     },
     "metadata": {},
     "output_type": "display_data"
    },
    {
     "name": "stdout",
     "output_type": "stream",
     "text": [
      "transport\n"
     ]
    },
    {
     "data": {
      "text/plain": [
       "transport        1586\n",
       "commun            652\n",
       "transports        256\n",
       "collectivites     223\n",
       "demande           212\n",
       "region            206\n",
       "entreprises       194\n",
       "communes          169\n",
       "velo              149\n",
       "departement       146\n",
       "Name: transport, dtype: uint16"
      ]
     },
     "metadata": {},
     "output_type": "display_data"
    },
    {
     "name": "stdout",
     "output_type": "stream",
     "text": [
      "territoriales\n"
     ]
    },
    {
     "data": {
      "text/plain": [
       "territoriales    1487\n",
       "collectivites    1418\n",
       "entreprises       117\n",
       "transports        110\n",
       "constructeurs       0\n",
       "pistes              0\n",
       "bus                 0\n",
       "demande             0\n",
       "tout                0\n",
       "travail             0\n",
       "Name: territoriales, dtype: uint16"
      ]
     },
     "metadata": {},
     "output_type": "display_data"
    },
    {
     "name": "stdout",
     "output_type": "stream",
     "text": [
      "mairie\n"
     ]
    },
    {
     "data": {
      "text/plain": [
       "mairie           1326\n",
       "region            186\n",
       "departement       185\n",
       "constructeurs       0\n",
       "bus                 0\n",
       "demande             0\n",
       "tout                0\n",
       "travail             0\n",
       "moyens              0\n",
       "commune             0\n",
       "Name: mairie, dtype: uint16"
      ]
     },
     "metadata": {},
     "output_type": "display_data"
    },
    {
     "name": "stdout",
     "output_type": "stream",
     "text": [
      "ville\n"
     ]
    },
    {
     "data": {
      "text/plain": [
       "ville            1254\n",
       "region            298\n",
       "departement       201\n",
       "transports        157\n",
       "commun            130\n",
       "constructeurs       0\n",
       "services            0\n",
       "bus                 0\n",
       "demande             0\n",
       "tout                0\n",
       "Name: ville, dtype: uint16"
      ]
     },
     "metadata": {},
     "output_type": "display_data"
    },
    {
     "name": "stdout",
     "output_type": "stream",
     "text": [
      "tout\n"
     ]
    },
    {
     "data": {
      "text/plain": [
       "tout             1223\n",
       "monde             462\n",
       "collectivites     165\n",
       "transports        165\n",
       "entreprises       164\n",
       "faire             162\n",
       "commun            134\n",
       "faut              127\n",
       "solutions         116\n",
       "voiture           115\n",
       "Name: tout, dtype: uint16"
      ]
     },
     "metadata": {},
     "output_type": "display_data"
    },
    {
     "name": "stdout",
     "output_type": "stream",
     "text": [
      "solutions\n"
     ]
    },
    {
     "data": {
      "text/plain": [
       "solutions        1211\n",
       "alternatives      299\n",
       "collectivites     200\n",
       "proposer          200\n",
       "transports        170\n",
       "entreprises       151\n",
       "commun            137\n",
       "place             137\n",
       "locales           128\n",
       "transport         128\n",
       "Name: solutions, dtype: uint16"
      ]
     },
     "metadata": {},
     "output_type": "display_data"
    },
    {
     "name": "stdout",
     "output_type": "stream",
     "text": [
      "communaute\n"
     ]
    },
    {
     "data": {
      "text/plain": [
       "communaute       1166\n",
       "communes          619\n",
       "commune           393\n",
       "region            234\n",
       "departement       213\n",
       "agglomeration     133\n",
       "constructeurs       0\n",
       "pistes              0\n",
       "bus                 0\n",
       "demande             0\n",
       "Name: communaute, dtype: uint16"
      ]
     },
     "metadata": {},
     "output_type": "display_data"
    },
    {
     "name": "stdout",
     "output_type": "stream",
     "text": [
      "faire\n"
     ]
    },
    {
     "data": {
      "text/plain": [
       "faire            1131\n",
       "transports        177\n",
       "tout              162\n",
       "commun            147\n",
       "faut              143\n",
       "collectivites     119\n",
       "solutions         116\n",
       "transport         113\n",
       "entreprises       111\n",
       "voiture           106\n",
       "Name: faire, dtype: uint16"
      ]
     },
     "metadata": {},
     "output_type": "display_data"
    },
    {
     "name": "stdout",
     "output_type": "stream",
     "text": [
      "departements\n"
     ]
    },
    {
     "data": {
      "text/plain": [
       "departements     1002\n",
       "regions           477\n",
       "communes          420\n",
       "constructeurs       0\n",
       "public              0\n",
       "demande             0\n",
       "tout                0\n",
       "travail             0\n",
       "moyens              0\n",
       "commune             0\n",
       "Name: departements, dtype: uint16"
      ]
     },
     "metadata": {},
     "output_type": "display_data"
    },
    {
     "name": "stdout",
     "output_type": "stream",
     "text": [
      "tous\n"
     ]
    },
    {
     "data": {
      "text/plain": [
       "tous             934\n",
       "transports       127\n",
       "collectivites    111\n",
       "entreprises      106\n",
       "public             0\n",
       "demande            0\n",
       "tout               0\n",
       "travail            0\n",
       "moyens             0\n",
       "commune            0\n",
       "Name: tous, dtype: uint16"
      ]
     },
     "metadata": {},
     "output_type": "display_data"
    }
   ],
   "source": [
    "for i in df_qu_14_one_hot.sum(axis=0).sort_values(ascending=False).head(20).index:\n",
    "    print(i)\n",
    "    display(df_cov_14[i].sort_values(ascending=False).head(10))"
   ]
  },
  {
   "cell_type": "code",
   "execution_count": 86,
   "metadata": {
    "scrolled": true
   },
   "outputs": [
    {
     "name": "stdout",
     "output_type": "stream",
     "text": [
      "collectivites\n"
     ]
    },
    {
     "data": {
      "text/plain": [
       "collectivites    1.000000\n",
       "territoriales    0.953598\n",
       "locales          0.855351\n",
       "associations     0.274351\n",
       "entreprises      0.218994\n",
       "citoyens         0.210526\n",
       "privees          0.186420\n",
       "solutions        0.165153\n",
       "transports       0.162340\n",
       "place            0.156129\n",
       "Name: collectivites, dtype: float32"
      ]
     },
     "metadata": {},
     "output_type": "display_data"
    },
    {
     "name": "stdout",
     "output_type": "stream",
     "text": [
      "region\n"
     ]
    },
    {
     "data": {
      "text/plain": [
       "region              1.000000\n",
       "departement         0.453438\n",
       "commune             0.283206\n",
       "ville               0.237640\n",
       "intercommunalite    0.234277\n",
       "communaute          0.200686\n",
       "niveau              0.195122\n",
       "bus                 0.157601\n",
       "sncf                0.145228\n",
       "transports          0.145035\n",
       "Name: region, dtype: float32"
      ]
     },
     "metadata": {},
     "output_type": "display_data"
    },
    {
     "name": "stdout",
     "output_type": "stream",
     "text": [
      "departement\n"
     ]
    },
    {
     "data": {
      "text/plain": [
       "departement         1.000000\n",
       "region              0.304263\n",
       "commune             0.263410\n",
       "communaute          0.182676\n",
       "intercommunalite    0.177673\n",
       "ville               0.160287\n",
       "mairie              0.139517\n",
       "communes            0.111339\n",
       "transport           0.092055\n",
       "commun              0.083726\n",
       "Name: departement, dtype: float32"
      ]
     },
     "metadata": {},
     "output_type": "display_data"
    },
    {
     "name": "stdout",
     "output_type": "stream",
     "text": [
      "communes\n"
     ]
    },
    {
     "data": {
      "text/plain": [
       "communes        1.000000\n",
       "communautes     0.731742\n",
       "communaute      0.530875\n",
       "departements    0.419162\n",
       "regions         0.296720\n",
       "departement     0.110241\n",
       "transport       0.106557\n",
       "transports      0.101360\n",
       "solutions       0.093311\n",
       "commun          0.090529\n",
       "Name: communes, dtype: float32"
      ]
     },
     "metadata": {},
     "output_type": "display_data"
    },
    {
     "name": "stdout",
     "output_type": "stream",
     "text": [
      "commune\n"
     ]
    },
    {
     "data": {
      "text/plain": [
       "commune             1.000000\n",
       "communaute          0.337050\n",
       "departement         0.239339\n",
       "intercommunalite    0.194969\n",
       "region              0.172669\n",
       "transport           0.080706\n",
       "commun              0.073783\n",
       "transports          0.068809\n",
       "communes            0.055376\n",
       "services            0.000000\n",
       "Name: commune, dtype: float32"
      ]
     },
     "metadata": {},
     "output_type": "display_data"
    },
    {
     "name": "stdout",
     "output_type": "stream",
     "text": [
      "locales\n"
     ]
    },
    {
     "data": {
      "text/plain": [
       "locales          1.000000\n",
       "collectivites    0.446800\n",
       "solutions        0.105698\n",
       "entreprises      0.097572\n",
       "transports       0.071693\n",
       "transport        0.071248\n",
       "commun           0.064364\n",
       "regions          0.053618\n",
       "communes         0.036332\n",
       "departement      0.029881\n",
       "Name: locales, dtype: float32"
      ]
     },
     "metadata": {},
     "output_type": "display_data"
    },
    {
     "name": "stdout",
     "output_type": "stream",
     "text": [
      "transports\n"
     ]
    },
    {
     "data": {
      "text/plain": [
       "transports       1.000000\n",
       "commun           0.709053\n",
       "developpement    0.363354\n",
       "covoiturage      0.360791\n",
       "demande          0.342029\n",
       "charge           0.318919\n",
       "developper       0.302128\n",
       "train            0.282192\n",
       "velo             0.278668\n",
       "bus              0.249651\n",
       "Name: transports, dtype: float32"
      ]
     },
     "metadata": {},
     "output_type": "display_data"
    },
    {
     "name": "stdout",
     "output_type": "stream",
     "text": [
      "entreprises\n"
     ]
    },
    {
     "data": {
      "text/plain": [
       "entreprises     1.000000\n",
       "privees         0.516049\n",
       "associations    0.193182\n",
       "monde           0.186594\n",
       "citoyens        0.140351\n",
       "tout            0.134096\n",
       "solutions       0.124690\n",
       "transport       0.122320\n",
       "tous            0.113490\n",
       "faire           0.098143\n",
       "Name: entreprises, dtype: float32"
      ]
     },
     "metadata": {},
     "output_type": "display_data"
    },
    {
     "name": "stdout",
     "output_type": "stream",
     "text": [
      "regions\n"
     ]
    },
    {
     "data": {
      "text/plain": [
       "regions         1.000000\n",
       "departements    0.476048\n",
       "villes          0.179211\n",
       "communes        0.167009\n",
       "mairies         0.123147\n",
       "transports      0.078698\n",
       "transport       0.071879\n",
       "commun          0.064887\n",
       "entreprises     0.044232\n",
       "locales         0.038007\n",
       "Name: regions, dtype: float32"
      ]
     },
     "metadata": {},
     "output_type": "display_data"
    },
    {
     "name": "stdout",
     "output_type": "stream",
     "text": [
      "commun\n"
     ]
    },
    {
     "data": {
      "text/plain": [
       "commun         1.000000\n",
       "transports     0.558302\n",
       "transport      0.411097\n",
       "covoiturage    0.385502\n",
       "demande        0.327536\n",
       "velo           0.290999\n",
       "developper     0.263830\n",
       "pistes         0.222982\n",
       "cyclables      0.213514\n",
       "voiture        0.209895\n",
       "Name: commun, dtype: float32"
      ]
     },
     "metadata": {},
     "output_type": "display_data"
    },
    {
     "name": "stdout",
     "output_type": "stream",
     "text": [
      "transport\n"
     ]
    },
    {
     "data": {
      "text/plain": [
       "transport      1.000000\n",
       "demande        0.614493\n",
       "commun         0.341183\n",
       "covoiturage    0.224053\n",
       "societes       0.208251\n",
       "bus            0.191074\n",
       "velo           0.183724\n",
       "service        0.183673\n",
       "voiture        0.182909\n",
       "place          0.171613\n",
       "Name: transport, dtype: float32"
      ]
     },
     "metadata": {},
     "output_type": "display_data"
    },
    {
     "name": "stdout",
     "output_type": "stream",
     "text": [
      "territoriales\n"
     ]
    },
    {
     "data": {
      "text/plain": [
       "territoriales    1.000000\n",
       "collectivites    0.273323\n",
       "entreprises      0.050737\n",
       "transports       0.045323\n",
       "constructeurs    0.000000\n",
       "pistes           0.000000\n",
       "bus              0.000000\n",
       "demande          0.000000\n",
       "tout             0.000000\n",
       "travail          0.000000\n",
       "Name: territoriales, dtype: float32"
      ]
     },
     "metadata": {},
     "output_type": "display_data"
    },
    {
     "name": "stdout",
     "output_type": "stream",
     "text": [
      "mairie\n"
     ]
    },
    {
     "data": {
      "text/plain": [
       "mairie           1.000000\n",
       "departement      0.053670\n",
       "region           0.036208\n",
       "constructeurs    0.000000\n",
       "bus              0.000000\n",
       "demande          0.000000\n",
       "tout             0.000000\n",
       "travail          0.000000\n",
       "moyens           0.000000\n",
       "commune          0.000000\n",
       "Name: mairie, dtype: float32"
      ]
     },
     "metadata": {},
     "output_type": "display_data"
    },
    {
     "name": "stdout",
     "output_type": "stream",
     "text": [
      "ville\n"
     ]
    },
    {
     "data": {
      "text/plain": [
       "ville            1.000000\n",
       "commun           0.068027\n",
       "transports       0.064689\n",
       "departement      0.058312\n",
       "region           0.058011\n",
       "constructeurs    0.000000\n",
       "services         0.000000\n",
       "bus              0.000000\n",
       "demande          0.000000\n",
       "tout             0.000000\n",
       "Name: ville, dtype: float32"
      ]
     },
     "metadata": {},
     "output_type": "display_data"
    },
    {
     "name": "stdout",
     "output_type": "stream",
     "text": [
      "tout\n"
     ]
    },
    {
     "data": {
      "text/plain": [
       "tout           1.000000\n",
       "monde          0.836957\n",
       "voiture        0.172414\n",
       "faut           0.144154\n",
       "faire          0.143236\n",
       "solutions      0.095789\n",
       "entreprises    0.071119\n",
       "commun         0.070120\n",
       "transports     0.067985\n",
       "transport      0.065574\n",
       "Name: tout, dtype: float32"
      ]
     },
     "metadata": {},
     "output_type": "display_data"
    },
    {
     "name": "stdout",
     "output_type": "stream",
     "text": [
      "solutions\n"
     ]
    },
    {
     "data": {
      "text/plain": [
       "solutions       1.000000\n",
       "alternatives    0.698598\n",
       "proposer        0.352113\n",
       "place           0.176774\n",
       "mettre          0.170886\n",
       "faut            0.130533\n",
       "faire           0.102564\n",
       "tout            0.094849\n",
       "transport       0.080706\n",
       "commun          0.071690\n",
       "Name: solutions, dtype: float32"
      ]
     },
     "metadata": {},
     "output_type": "display_data"
    },
    {
     "name": "stdout",
     "output_type": "stream",
     "text": [
      "communaute\n"
     ]
    },
    {
     "data": {
      "text/plain": [
       "communaute       1.000000\n",
       "agglomeration    0.332500\n",
       "communes         0.181365\n",
       "commune          0.125479\n",
       "departement      0.061793\n",
       "region           0.045552\n",
       "constructeurs    0.000000\n",
       "pistes           0.000000\n",
       "bus              0.000000\n",
       "demande          0.000000\n",
       "Name: communaute, dtype: float32"
      ]
     },
     "metadata": {},
     "output_type": "display_data"
    },
    {
     "name": "stdout",
     "output_type": "stream",
     "text": [
      "faire\n"
     ]
    },
    {
     "data": {
      "text/plain": [
       "faire            1.000000\n",
       "faut             0.162316\n",
       "voiture          0.158921\n",
       "tout             0.132461\n",
       "solutions        0.095789\n",
       "commun           0.076923\n",
       "transports       0.072930\n",
       "transport        0.071248\n",
       "entreprises      0.048135\n",
       "collectivites    0.022938\n",
       "Name: faire, dtype: float32"
      ]
     },
     "metadata": {},
     "output_type": "display_data"
    },
    {
     "name": "stdout",
     "output_type": "stream",
     "text": [
      "departements\n"
     ]
    },
    {
     "data": {
      "text/plain": [
       "departements     1.000000\n",
       "regions          0.248308\n",
       "communes         0.123059\n",
       "constructeurs    0.000000\n",
       "public           0.000000\n",
       "demande          0.000000\n",
       "tout             0.000000\n",
       "travail          0.000000\n",
       "moyens           0.000000\n",
       "commune          0.000000\n",
       "Name: departements, dtype: float32"
      ]
     },
     "metadata": {},
     "output_type": "display_data"
    },
    {
     "name": "stdout",
     "output_type": "stream",
     "text": [
      "tous\n"
     ]
    },
    {
     "data": {
      "text/plain": [
       "tous             1.000000\n",
       "transports       0.052328\n",
       "entreprises      0.045967\n",
       "collectivites    0.021396\n",
       "public           0.000000\n",
       "demande          0.000000\n",
       "tout             0.000000\n",
       "travail          0.000000\n",
       "moyens           0.000000\n",
       "commune          0.000000\n",
       "Name: tous, dtype: float32"
      ]
     },
     "metadata": {},
     "output_type": "display_data"
    }
   ],
   "source": [
    "for i in df_qu_14_one_hot.sum(axis=0).sort_values(ascending=False).head(20).index:\n",
    "    print(i)\n",
    "    display(df_confidence_14[i].sort_values(ascending=False).head(10))"
   ]
  },
  {
   "cell_type": "code",
   "execution_count": 87,
   "metadata": {
    "scrolled": true
   },
   "outputs": [
    {
     "name": "stdout",
     "output_type": "stream",
     "text": [
      "collectivites\n"
     ]
    },
    {
     "data": {
      "text/plain": [
       "collectivites    0.000193\n",
       "territoriales    0.000184\n",
       "locales          0.000165\n",
       "associations     0.000053\n",
       "entreprises      0.000042\n",
       "citoyens         0.000041\n",
       "privees          0.000036\n",
       "solutions        0.000032\n",
       "transports       0.000031\n",
       "place            0.000030\n",
       "Name: collectivites, dtype: float32"
      ]
     },
     "metadata": {},
     "output_type": "display_data"
    },
    {
     "name": "stdout",
     "output_type": "stream",
     "text": [
      "region\n"
     ]
    },
    {
     "data": {
      "text/plain": [
       "region              0.000195\n",
       "departement         0.000088\n",
       "commune             0.000055\n",
       "ville               0.000046\n",
       "intercommunalite    0.000046\n",
       "communaute          0.000039\n",
       "niveau              0.000038\n",
       "bus                 0.000031\n",
       "sncf                0.000028\n",
       "transports          0.000028\n",
       "Name: region, dtype: float32"
      ]
     },
     "metadata": {},
     "output_type": "display_data"
    },
    {
     "name": "stdout",
     "output_type": "stream",
     "text": [
      "departement\n"
     ]
    },
    {
     "data": {
      "text/plain": [
       "departement         0.000290\n",
       "region              0.000088\n",
       "commune             0.000076\n",
       "communaute          0.000053\n",
       "intercommunalite    0.000052\n",
       "ville               0.000047\n",
       "mairie              0.000040\n",
       "communes            0.000032\n",
       "transport           0.000027\n",
       "commun              0.000024\n",
       "Name: departement, dtype: float32"
      ]
     },
     "metadata": {},
     "output_type": "display_data"
    },
    {
     "name": "stdout",
     "output_type": "stream",
     "text": [
      "communes\n"
     ]
    },
    {
     "data": {
      "text/plain": [
       "communes        0.000293\n",
       "communautes     0.000214\n",
       "communaute      0.000156\n",
       "departements    0.000123\n",
       "regions         0.000087\n",
       "departement     0.000032\n",
       "transport       0.000031\n",
       "transports      0.000030\n",
       "solutions       0.000027\n",
       "commun          0.000027\n",
       "Name: communes, dtype: float32"
      ]
     },
     "metadata": {},
     "output_type": "display_data"
    },
    {
     "name": "stdout",
     "output_type": "stream",
     "text": [
      "commune\n"
     ]
    },
    {
     "data": {
      "text/plain": [
       "commune             0.000319\n",
       "communaute          0.000108\n",
       "departement         0.000076\n",
       "intercommunalite    0.000062\n",
       "region              0.000055\n",
       "transport           0.000026\n",
       "commun              0.000024\n",
       "transports          0.000022\n",
       "communes            0.000018\n",
       "voir                     NaN\n",
       "Name: commune, dtype: float32"
      ]
     },
     "metadata": {},
     "output_type": "display_data"
    },
    {
     "name": "stdout",
     "output_type": "stream",
     "text": [
      "locales\n"
     ]
    },
    {
     "data": {
      "text/plain": [
       "locales          0.000369\n",
       "collectivites    0.000165\n",
       "solutions        0.000039\n",
       "entreprises      0.000036\n",
       "transports       0.000026\n",
       "transport        0.000026\n",
       "commun           0.000024\n",
       "regions          0.000020\n",
       "communes         0.000013\n",
       "departement      0.000011\n",
       "Name: locales, dtype: float32"
      ]
     },
     "metadata": {},
     "output_type": "display_data"
    },
    {
     "name": "stdout",
     "output_type": "stream",
     "text": [
      "transports\n"
     ]
    },
    {
     "data": {
      "text/plain": [
       "transports       0.000412\n",
       "commun           0.000292\n",
       "developpement    0.000150\n",
       "covoiturage      0.000149\n",
       "demande          0.000141\n",
       "charge           0.000131\n",
       "developper       0.000124\n",
       "train            0.000116\n",
       "velo             0.000115\n",
       "bus              0.000103\n",
       "Name: transports, dtype: float32"
      ]
     },
     "metadata": {},
     "output_type": "display_data"
    },
    {
     "name": "stdout",
     "output_type": "stream",
     "text": [
      "entreprises\n"
     ]
    },
    {
     "data": {
      "text/plain": [
       "entreprises     0.000434\n",
       "privees         0.000224\n",
       "associations    0.000084\n",
       "monde           0.000081\n",
       "citoyens        0.000061\n",
       "tout            0.000058\n",
       "solutions       0.000054\n",
       "transport       0.000053\n",
       "tous            0.000049\n",
       "faire           0.000043\n",
       "Name: entreprises, dtype: float32"
      ]
     },
     "metadata": {},
     "output_type": "display_data"
    },
    {
     "name": "stdout",
     "output_type": "stream",
     "text": [
      "regions\n"
     ]
    },
    {
     "data": {
      "text/plain": [
       "regions         0.000521\n",
       "departements    0.000248\n",
       "villes          0.000093\n",
       "communes        0.000087\n",
       "mairies         0.000064\n",
       "transports      0.000041\n",
       "transport       0.000037\n",
       "commun          0.000034\n",
       "entreprises     0.000023\n",
       "locales         0.000020\n",
       "Name: regions, dtype: float32"
      ]
     },
     "metadata": {},
     "output_type": "display_data"
    },
    {
     "name": "stdout",
     "output_type": "stream",
     "text": [
      "commun\n"
     ]
    },
    {
     "data": {
      "text/plain": [
       "commun         0.000523\n",
       "transports     0.000292\n",
       "transport      0.000215\n",
       "covoiturage    0.000202\n",
       "demande        0.000171\n",
       "velo           0.000152\n",
       "developper     0.000138\n",
       "pistes         0.000117\n",
       "cyclables      0.000112\n",
       "voiture        0.000110\n",
       "Name: commun, dtype: float32"
      ]
     },
     "metadata": {},
     "output_type": "display_data"
    },
    {
     "name": "stdout",
     "output_type": "stream",
     "text": [
      "transport\n"
     ]
    },
    {
     "data": {
      "text/plain": [
       "transport      0.000631\n",
       "demande        0.000387\n",
       "commun         0.000215\n",
       "covoiturage    0.000141\n",
       "societes       0.000131\n",
       "bus            0.000120\n",
       "velo           0.000116\n",
       "service        0.000116\n",
       "voiture        0.000115\n",
       "place          0.000108\n",
       "Name: transport, dtype: float32"
      ]
     },
     "metadata": {},
     "output_type": "display_data"
    },
    {
     "name": "stdout",
     "output_type": "stream",
     "text": [
      "territoriales\n"
     ]
    },
    {
     "data": {
      "text/plain": [
       "territoriales    0.000672\n",
       "collectivites    0.000184\n",
       "entreprises      0.000034\n",
       "transports       0.000030\n",
       "voir                  NaN\n",
       "locaux                NaN\n",
       "mettre                NaN\n",
       "publiques             NaN\n",
       "territoire            NaN\n",
       "mairies               NaN\n",
       "Name: territoriales, dtype: float32"
      ]
     },
     "metadata": {},
     "output_type": "display_data"
    },
    {
     "name": "stdout",
     "output_type": "stream",
     "text": [
      "mairie\n"
     ]
    },
    {
     "data": {
      "text/plain": [
       "mairie         0.000754\n",
       "departement    0.000040\n",
       "region         0.000027\n",
       "voir                NaN\n",
       "locaux              NaN\n",
       "mettre              NaN\n",
       "publiques           NaN\n",
       "territoire          NaN\n",
       "mairies             NaN\n",
       "pouvoirs            NaN\n",
       "Name: mairie, dtype: float32"
      ]
     },
     "metadata": {},
     "output_type": "display_data"
    },
    {
     "name": "stdout",
     "output_type": "stream",
     "text": [
      "ville\n"
     ]
    },
    {
     "data": {
      "text/plain": [
       "ville          0.000797\n",
       "commun         0.000054\n",
       "transports     0.000052\n",
       "departement    0.000047\n",
       "region         0.000046\n",
       "voir                NaN\n",
       "locaux              NaN\n",
       "mettre              NaN\n",
       "publiques           NaN\n",
       "territoire          NaN\n",
       "Name: ville, dtype: float32"
      ]
     },
     "metadata": {},
     "output_type": "display_data"
    },
    {
     "name": "stdout",
     "output_type": "stream",
     "text": [
      "tout\n"
     ]
    },
    {
     "data": {
      "text/plain": [
       "tout           0.000818\n",
       "monde          0.000684\n",
       "voiture        0.000141\n",
       "faut           0.000118\n",
       "faire          0.000117\n",
       "solutions      0.000078\n",
       "entreprises    0.000058\n",
       "commun         0.000057\n",
       "transports     0.000056\n",
       "transport      0.000054\n",
       "Name: tout, dtype: float32"
      ]
     },
     "metadata": {},
     "output_type": "display_data"
    },
    {
     "name": "stdout",
     "output_type": "stream",
     "text": [
      "solutions\n"
     ]
    },
    {
     "data": {
      "text/plain": [
       "solutions       0.000826\n",
       "alternatives    0.000577\n",
       "proposer        0.000291\n",
       "place           0.000146\n",
       "mettre          0.000141\n",
       "faut            0.000108\n",
       "faire           0.000085\n",
       "tout            0.000078\n",
       "transport       0.000067\n",
       "commun          0.000059\n",
       "Name: solutions, dtype: float32"
      ]
     },
     "metadata": {},
     "output_type": "display_data"
    },
    {
     "name": "stdout",
     "output_type": "stream",
     "text": [
      "communaute\n"
     ]
    },
    {
     "data": {
      "text/plain": [
       "communaute       0.000858\n",
       "agglomeration    0.000285\n",
       "communes         0.000156\n",
       "commune          0.000108\n",
       "departement      0.000053\n",
       "region           0.000039\n",
       "voir                  NaN\n",
       "locaux                NaN\n",
       "mettre                NaN\n",
       "publiques             NaN\n",
       "Name: communaute, dtype: float32"
      ]
     },
     "metadata": {},
     "output_type": "display_data"
    },
    {
     "name": "stdout",
     "output_type": "stream",
     "text": [
      "faire\n"
     ]
    },
    {
     "data": {
      "text/plain": [
       "faire            0.000884\n",
       "faut             0.000144\n",
       "voiture          0.000141\n",
       "tout             0.000117\n",
       "solutions        0.000085\n",
       "commun           0.000068\n",
       "transports       0.000064\n",
       "transport        0.000063\n",
       "entreprises      0.000043\n",
       "collectivites    0.000020\n",
       "Name: faire, dtype: float32"
      ]
     },
     "metadata": {},
     "output_type": "display_data"
    },
    {
     "name": "stdout",
     "output_type": "stream",
     "text": [
      "departements\n"
     ]
    },
    {
     "data": {
      "text/plain": [
       "departements    0.000998\n",
       "regions         0.000248\n",
       "communes        0.000123\n",
       "voir                 NaN\n",
       "locaux               NaN\n",
       "mettre               NaN\n",
       "publiques            NaN\n",
       "territoire           NaN\n",
       "mairies              NaN\n",
       "pouvoirs             NaN\n",
       "Name: departements, dtype: float32"
      ]
     },
     "metadata": {},
     "output_type": "display_data"
    },
    {
     "name": "stdout",
     "output_type": "stream",
     "text": [
      "tous\n"
     ]
    },
    {
     "data": {
      "text/plain": [
       "tous             0.001071\n",
       "transports       0.000056\n",
       "entreprises      0.000049\n",
       "collectivites    0.000023\n",
       "voir                  NaN\n",
       "locaux                NaN\n",
       "mettre                NaN\n",
       "publiques             NaN\n",
       "territoire            NaN\n",
       "mairies               NaN\n",
       "Name: tous, dtype: float32"
      ]
     },
     "metadata": {},
     "output_type": "display_data"
    }
   ],
   "source": [
    "for i in df_qu_14_one_hot.sum(axis=0).sort_values(ascending=False).head(20).index:\n",
    "    print(i)\n",
    "    display(df_lift_14[i].sort_values(ascending=False).head(10))"
   ]
  },
  {
   "cell_type": "code",
   "execution_count": 88,
   "metadata": {},
   "outputs": [
    {
     "data": {
      "text/plain": [
       "147"
      ]
     },
     "execution_count": 88,
     "metadata": {},
     "output_type": "execute_result"
    }
   ],
   "source": [
    "gc.collect()"
   ]
  },
  {
   "cell_type": "markdown",
   "metadata": {},
   "source": [
    "# Question 15 :  Que pourrait faire la France pour faire partager ses choix en matière d'environnement au niveau européen et international ?"
   ]
  },
  {
   "cell_type": "code",
   "execution_count": 89,
   "metadata": {
    "collapsed": true
   },
   "outputs": [],
   "source": [
    "question_15 = \"Que pourrait faire la France pour faire partager ses choix en matière d'environnement au niveau européen et international ?\"\n",
    "qu_15,df_qu_15_one_hot,df_cov_15,df_confidence_15,df_lift_15 = compute_similarities(question_15, new_res)"
   ]
  },
  {
   "cell_type": "code",
   "execution_count": 90,
   "metadata": {
    "scrolled": true
   },
   "outputs": [
    {
     "name": "stdout",
     "output_type": "stream",
     "text": [
      "exemple\n"
     ]
    },
    {
     "data": {
      "text/plain": [
       "exemple       9118\n",
       "montrer       4482\n",
       "donner        1987\n",
       "pays          1816\n",
       "france        1385\n",
       "faire         1359\n",
       "tout           600\n",
       "prendre        594\n",
       "ecologique     564\n",
       "niveau         559\n",
       "Name: exemple, dtype: uint16"
      ]
     },
     "metadata": {},
     "output_type": "display_data"
    },
    {
     "name": "stdout",
     "output_type": "stream",
     "text": [
      "pays\n"
     ]
    },
    {
     "data": {
      "text/plain": [
       "pays             7776\n",
       "france           2144\n",
       "exemple          1816\n",
       "faire            1702\n",
       "europe           1119\n",
       "europeens         937\n",
       "montrer           851\n",
       "niveau            847\n",
       "tous              821\n",
       "environnement     818\n",
       "Name: pays, dtype: uint16"
      ]
     },
     "metadata": {},
     "output_type": "display_data"
    },
    {
     "name": "stdout",
     "output_type": "stream",
     "text": [
      "faire\n"
     ]
    },
    {
     "data": {
      "text/plain": [
       "faire       6111\n",
       "pays        1702\n",
       "france      1524\n",
       "exemple     1359\n",
       "choix        986\n",
       "montrer      801\n",
       "europe       789\n",
       "niveau       741\n",
       "faut         682\n",
       "europeen     647\n",
       "Name: faire, dtype: uint16"
      ]
     },
     "metadata": {},
     "output_type": "display_data"
    },
    {
     "name": "stdout",
     "output_type": "stream",
     "text": [
      "france\n"
     ]
    },
    {
     "data": {
      "text/plain": [
       "france           6055\n",
       "pays             2144\n",
       "faire            1524\n",
       "exemple          1385\n",
       "choix             979\n",
       "europe            965\n",
       "niveau            766\n",
       "environnement     734\n",
       "faut              681\n",
       "matiere           657\n",
       "Name: france, dtype: uint16"
      ]
     },
     "metadata": {},
     "output_type": "display_data"
    },
    {
     "name": "stdout",
     "output_type": "stream",
     "text": [
      "montrer\n"
     ]
    },
    {
     "data": {
      "text/plain": [
       "montrer          5570\n",
       "exemple          4482\n",
       "pays              851\n",
       "faire             801\n",
       "france            630\n",
       "ecologique        368\n",
       "tout              355\n",
       "environnement     324\n",
       "faut              309\n",
       "choix             291\n",
       "Name: montrer, dtype: uint16"
      ]
     },
     "metadata": {},
     "output_type": "display_data"
    },
    {
     "name": "stdout",
     "output_type": "stream",
     "text": [
      "europe\n"
     ]
    },
    {
     "data": {
      "text/plain": [
       "europe      3436\n",
       "pays        1119\n",
       "france       965\n",
       "faire        789\n",
       "exemple      558\n",
       "niveau       508\n",
       "europeen     413\n",
       "faut         393\n",
       "tous         347\n",
       "tout         339\n",
       "Name: europe, dtype: uint16"
      ]
     },
     "metadata": {},
     "output_type": "display_data"
    },
    {
     "name": "stdout",
     "output_type": "stream",
     "text": [
      "niveau\n"
     ]
    },
    {
     "data": {
      "text/plain": [
       "niveau           3079\n",
       "europeen         1717\n",
       "pays              847\n",
       "france            766\n",
       "faire             741\n",
       "international     576\n",
       "exemple           559\n",
       "europe            508\n",
       "environnement     419\n",
       "produits          375\n",
       "Name: niveau, dtype: uint16"
      ]
     },
     "metadata": {},
     "output_type": "display_data"
    },
    {
     "name": "stdout",
     "output_type": "stream",
     "text": [
      "europeen\n"
     ]
    },
    {
     "data": {
      "text/plain": [
       "europeen         3027\n",
       "niveau           1717\n",
       "pays              770\n",
       "faire             647\n",
       "france            626\n",
       "exemple           450\n",
       "environnement     419\n",
       "europe            413\n",
       "international     396\n",
       "produits          385\n",
       "Name: europeen, dtype: uint16"
      ]
     },
     "metadata": {},
     "output_type": "display_data"
    },
    {
     "name": "stdout",
     "output_type": "stream",
     "text": [
      "donner\n"
     ]
    },
    {
     "data": {
      "text/plain": [
       "donner     2857\n",
       "exemple    1987\n",
       "lecons      640\n",
       "pays        561\n",
       "france      498\n",
       "faire       412\n",
       "montrer     244\n",
       "europe      172\n",
       "monde       171\n",
       "tout        169\n",
       "Name: donner, dtype: uint16"
      ]
     },
     "metadata": {},
     "output_type": "display_data"
    },
    {
     "name": "stdout",
     "output_type": "stream",
     "text": [
      "choix\n"
     ]
    },
    {
     "data": {
      "text/plain": [
       "choix            2718\n",
       "faire             986\n",
       "france            979\n",
       "pays              754\n",
       "partager          624\n",
       "exemple           533\n",
       "environnement     398\n",
       "matiere           324\n",
       "niveau            309\n",
       "faut              293\n",
       "Name: choix, dtype: uint16"
      ]
     },
     "metadata": {},
     "output_type": "display_data"
    },
    {
     "name": "stdout",
     "output_type": "stream",
     "text": [
      "produits\n"
     ]
    },
    {
     "data": {
      "text/plain": [
       "produits         2674\n",
       "taxer             888\n",
       "pays              746\n",
       "france            518\n",
       "environnement     472\n",
       "importes          440\n",
       "exemple           420\n",
       "faire             394\n",
       "europeen          385\n",
       "niveau            375\n",
       "Name: produits, dtype: uint16"
      ]
     },
     "metadata": {},
     "output_type": "display_data"
    },
    {
     "name": "stdout",
     "output_type": "stream",
     "text": [
      "environnement\n"
     ]
    },
    {
     "data": {
      "text/plain": [
       "environnement    2630\n",
       "pays              818\n",
       "france            734\n",
       "matiere           599\n",
       "faire             563\n",
       "exemple           549\n",
       "produits          472\n",
       "niveau            419\n",
       "europeen          419\n",
       "choix             398\n",
       "Name: environnement, dtype: uint16"
      ]
     },
     "metadata": {},
     "output_type": "display_data"
    },
    {
     "name": "stdout",
     "output_type": "stream",
     "text": [
      "ecologique\n"
     ]
    },
    {
     "data": {
      "text/plain": [
       "ecologique    2329\n",
       "transition     996\n",
       "pays           738\n",
       "france         566\n",
       "exemple        564\n",
       "faire          499\n",
       "europeen       371\n",
       "montrer        368\n",
       "niveau         332\n",
       "politique      319\n",
       "Name: ecologique, dtype: uint16"
      ]
     },
     "metadata": {},
     "output_type": "display_data"
    },
    {
     "name": "stdout",
     "output_type": "stream",
     "text": [
      "tout\n"
     ]
    },
    {
     "data": {
      "text/plain": [
       "tout       2204\n",
       "pays        669\n",
       "france      625\n",
       "exemple     600\n",
       "faire       590\n",
       "monde       450\n",
       "montrer     355\n",
       "europe      339\n",
       "faut        318\n",
       "niveau      251\n",
       "Name: tout, dtype: uint16"
      ]
     },
     "metadata": {},
     "output_type": "display_data"
    },
    {
     "name": "stdout",
     "output_type": "stream",
     "text": [
      "faut\n"
     ]
    },
    {
     "data": {
      "text/plain": [
       "faut       2142\n",
       "pays        709\n",
       "faire       682\n",
       "france      681\n",
       "exemple     542\n",
       "europe      393\n",
       "niveau      330\n",
       "tout        318\n",
       "montrer     309\n",
       "choix       293\n",
       "Name: faut, dtype: uint16"
      ]
     },
     "metadata": {},
     "output_type": "display_data"
    },
    {
     "name": "stdout",
     "output_type": "stream",
     "text": [
      "tous\n"
     ]
    },
    {
     "data": {
      "text/plain": [
       "tous             2118\n",
       "pays              821\n",
       "faire             526\n",
       "france            467\n",
       "exemple           439\n",
       "europe            347\n",
       "produits          326\n",
       "niveau            280\n",
       "environnement     250\n",
       "faut              249\n",
       "Name: tous, dtype: uint16"
      ]
     },
     "metadata": {},
     "output_type": "display_data"
    },
    {
     "name": "stdout",
     "output_type": "stream",
     "text": [
      "mettre\n"
     ]
    },
    {
     "data": {
      "text/plain": [
       "mettre      2054\n",
       "place        834\n",
       "pays         607\n",
       "faire        440\n",
       "exemple      410\n",
       "france       394\n",
       "niveau       314\n",
       "europeen     272\n",
       "europe       260\n",
       "montrer      254\n",
       "Name: mettre, dtype: uint16"
      ]
     },
     "metadata": {},
     "output_type": "display_data"
    },
    {
     "name": "stdout",
     "output_type": "stream",
     "text": [
      "taxer\n"
     ]
    },
    {
     "data": {
      "text/plain": [
       "taxer            2022\n",
       "produits          888\n",
       "pays              548\n",
       "france            337\n",
       "importations      271\n",
       "faire             270\n",
       "exemple           263\n",
       "environnement     252\n",
       "non               208\n",
       "pollueurs         196\n",
       "Name: taxer, dtype: uint16"
      ]
     },
     "metadata": {},
     "output_type": "display_data"
    },
    {
     "name": "stdout",
     "output_type": "stream",
     "text": [
      "politique\n"
     ]
    },
    {
     "data": {
      "text/plain": [
       "politique        1925\n",
       "pays              482\n",
       "exemple           419\n",
       "france            399\n",
       "faire             375\n",
       "ecologique        319\n",
       "niveau            317\n",
       "europeen          309\n",
       "environnement     302\n",
       "europe            298\n",
       "Name: politique, dtype: uint16"
      ]
     },
     "metadata": {},
     "output_type": "display_data"
    },
    {
     "name": "stdout",
     "output_type": "stream",
     "text": [
      "europeens\n"
     ]
    },
    {
     "data": {
      "text/plain": [
       "europeens      1838\n",
       "pays            937\n",
       "france          501\n",
       "faire           404\n",
       "exemple         388\n",
       "europe          277\n",
       "niveau          251\n",
       "tous            241\n",
       "europeen        217\n",
       "partenaires     200\n",
       "Name: europeens, dtype: uint16"
      ]
     },
     "metadata": {},
     "output_type": "display_data"
    }
   ],
   "source": [
    "for i in df_qu_15_one_hot.sum(axis=0).sort_values(ascending=False).head(20).index:\n",
    "    print(i)\n",
    "    display(df_cov_15[i].sort_values(ascending=False).head(10))"
   ]
  },
  {
   "cell_type": "code",
   "execution_count": 91,
   "metadata": {
    "scrolled": true
   },
   "outputs": [
    {
     "name": "stdout",
     "output_type": "stream",
     "text": [
      "exemple\n"
     ]
    },
    {
     "data": {
      "text/plain": [
       "exemple      1.000000\n",
       "montrer      0.804668\n",
       "donner       0.695485\n",
       "nordiques    0.431487\n",
       "attendre     0.427208\n",
       "prendre      0.420382\n",
       "discours     0.413793\n",
       "loin         0.397229\n",
       "commencer    0.374656\n",
       "devenir      0.366450\n",
       "Name: exemple, dtype: float32"
      ]
     },
     "metadata": {},
     "output_type": "display_data"
    },
    {
     "name": "stdout",
     "output_type": "stream",
     "text": [
      "pays\n"
     ]
    },
    {
     "data": {
      "text/plain": [
       "pays         1.000000\n",
       "nordiques    0.956268\n",
       "nord         0.730887\n",
       "avance       0.688442\n",
       "inspirer     0.604131\n",
       "europeens    0.509793\n",
       "rapport      0.501529\n",
       "membres      0.496063\n",
       "efforts      0.494983\n",
       "retard       0.488525\n",
       "Name: pays, dtype: float32"
      ]
     },
     "metadata": {},
     "output_type": "display_data"
    },
    {
     "name": "stdout",
     "output_type": "stream",
     "text": [
      "faire\n"
     ]
    },
    {
     "data": {
      "text/plain": [
       "faire           1.000000\n",
       "savoir          0.696113\n",
       "payer           0.659864\n",
       "preuve          0.564885\n",
       "pression        0.537705\n",
       "choses          0.484848\n",
       "partager        0.471837\n",
       "efforts         0.434783\n",
       "lecon           0.427451\n",
       "propositions    0.405594\n",
       "Name: faire, dtype: float32"
      ]
     },
     "metadata": {},
     "output_type": "display_data"
    },
    {
     "name": "stdout",
     "output_type": "stream",
     "text": [
      "france\n"
     ]
    },
    {
     "data": {
      "text/plain": [
       "france      1.000000\n",
       "retard      0.544262\n",
       "nord        0.428135\n",
       "matiere     0.406559\n",
       "rapport     0.403670\n",
       "partager    0.398367\n",
       "produit     0.372603\n",
       "loin        0.371824\n",
       "poids       0.363825\n",
       "faudrait    0.362235\n",
       "Name: france, dtype: float32"
      ]
     },
     "metadata": {},
     "output_type": "display_data"
    },
    {
     "name": "stdout",
     "output_type": "stream",
     "text": [
      "montrer\n"
     ]
    },
    {
     "data": {
      "text/plain": [
       "montrer       1.000000\n",
       "exemple       0.491555\n",
       "fonctionne    0.379310\n",
       "marche        0.305233\n",
       "attendre      0.303103\n",
       "resultats     0.290780\n",
       "economie      0.252577\n",
       "leader        0.219616\n",
       "vie           0.204120\n",
       "cas           0.203252\n",
       "Name: montrer, dtype: float32"
      ]
     },
     "metadata": {},
     "output_type": "display_data"
    },
    {
     "name": "stdout",
     "output_type": "stream",
     "text": [
      "europe\n"
     ]
    },
    {
     "data": {
      "text/plain": [
       "europe           1.000000\n",
       "nord             0.529052\n",
       "regles           0.264120\n",
       "poids            0.212058\n",
       "chine            0.209078\n",
       "etats            0.207071\n",
       "monde            0.204198\n",
       "energetique      0.198934\n",
       "international    0.189266\n",
       "pouvoir          0.187166\n",
       "Name: europe, dtype: float32"
      ]
     },
     "metadata": {},
     "output_type": "display_data"
    },
    {
     "name": "stdout",
     "output_type": "stream",
     "text": [
      "niveau\n"
     ]
    },
    {
     "data": {
      "text/plain": [
       "niveau           1.000000\n",
       "national         0.586288\n",
       "europeen         0.567228\n",
       "mondial          0.551471\n",
       "international    0.542373\n",
       "adopter          0.343849\n",
       "faveur           0.340000\n",
       "protection       0.318605\n",
       "commune          0.293103\n",
       "reduire          0.241379\n",
       "Name: niveau, dtype: float32"
      ]
     },
     "metadata": {},
     "output_type": "display_data"
    },
    {
     "name": "stdout",
     "output_type": "stream",
     "text": [
      "europeen\n"
     ]
    },
    {
     "data": {
      "text/plain": [
       "europeen         1.000000\n",
       "parlement        0.868902\n",
       "niveau           0.557649\n",
       "international    0.372881\n",
       "adopter          0.365931\n",
       "faveur           0.353333\n",
       "mondial          0.349265\n",
       "plan             0.309553\n",
       "protection       0.304651\n",
       "commune          0.295259\n",
       "Name: europeen, dtype: float32"
      ]
     },
     "metadata": {},
     "output_type": "display_data"
    },
    {
     "name": "stdout",
     "output_type": "stream",
     "text": [
      "donner\n"
     ]
    },
    {
     "data": {
      "text/plain": [
       "donner        1.000000\n",
       "lecons        0.816327\n",
       "lecon         0.462745\n",
       "vouloir       0.277512\n",
       "exemple       0.217921\n",
       "commencer     0.154270\n",
       "arreter       0.112333\n",
       "monde         0.108779\n",
       "matiere       0.094678\n",
       "transition    0.084734\n",
       "Name: donner, dtype: float32"
      ]
     },
     "metadata": {},
     "output_type": "display_data"
    },
    {
     "name": "stdout",
     "output_type": "stream",
     "text": [
      "choix\n"
     ]
    },
    {
     "data": {
      "text/plain": [
       "choix            1.000000\n",
       "bons             0.568106\n",
       "partager         0.509388\n",
       "faudrait         0.259152\n",
       "matiere          0.200495\n",
       "france           0.161685\n",
       "faire            0.161348\n",
       "question         0.160000\n",
       "environnement    0.151331\n",
       "imposer          0.147216\n",
       "Name: choix, dtype: float32"
      ]
     },
     "metadata": {},
     "output_type": "display_data"
    },
    {
     "name": "stdout",
     "output_type": "stream",
     "text": [
      "produits\n"
     ]
    },
    {
     "data": {
      "text/plain": [
       "produits       1.000000\n",
       "importes       0.973451\n",
       "importation    0.698529\n",
       "respectent     0.529148\n",
       "respectant     0.528947\n",
       "polluants      0.505112\n",
       "normes         0.466921\n",
       "taxer          0.439169\n",
       "agricole       0.433460\n",
       "bio            0.417943\n",
       "Name: produits, dtype: float32"
      ]
     },
     "metadata": {},
     "output_type": "display_data"
    },
    {
     "name": "stdout",
     "output_type": "stream",
     "text": [
      "environnement\n"
     ]
    },
    {
     "data": {
      "text/plain": [
       "environnement    1.000000\n",
       "protection       0.672093\n",
       "faveur           0.623333\n",
       "respect          0.433333\n",
       "agricole         0.395437\n",
       "matiere          0.370668\n",
       "adopter          0.328076\n",
       "sante            0.284916\n",
       "respectent       0.257848\n",
       "commune          0.252155\n",
       "Name: environnement, dtype: float32"
      ]
     },
     "metadata": {},
     "output_type": "display_data"
    },
    {
     "name": "stdout",
     "output_type": "stream",
     "text": [
      "ecologique\n"
     ]
    },
    {
     "data": {
      "text/plain": [
       "ecologique       1.000000\n",
       "transition       0.669805\n",
       "economique       0.212828\n",
       "economie         0.178694\n",
       "plan             0.177751\n",
       "politique        0.165714\n",
       "creer            0.164627\n",
       "taxe             0.162791\n",
       "modele           0.151125\n",
       "developpement    0.145610\n",
       "Name: ecologique, dtype: float32"
      ]
     },
     "metadata": {},
     "output_type": "display_data"
    },
    {
     "name": "stdout",
     "output_type": "stream",
     "text": [
      "tout\n"
     ]
    },
    {
     "data": {
      "text/plain": [
       "tout         1.000000\n",
       "monde        0.286260\n",
       "accord       0.161342\n",
       "planete      0.150376\n",
       "faut         0.148459\n",
       "francais     0.139367\n",
       "arreter      0.120974\n",
       "non          0.116425\n",
       "nucleaire    0.113222\n",
       "tous         0.112370\n",
       "Name: tout, dtype: float32"
      ]
     },
     "metadata": {},
     "output_type": "display_data"
    },
    {
     "name": "stdout",
     "output_type": "stream",
     "text": [
      "faut\n"
     ]
    },
    {
     "data": {
      "text/plain": [
       "faut          1.000000\n",
       "changer       0.174359\n",
       "planete       0.154135\n",
       "agir          0.153614\n",
       "monde         0.152036\n",
       "economique    0.150146\n",
       "tout          0.144283\n",
       "francais      0.134842\n",
       "etats         0.128283\n",
       "partager      0.120000\n",
       "Name: faut, dtype: float32"
      ]
     },
     "metadata": {},
     "output_type": "display_data"
    },
    {
     "name": "stdout",
     "output_type": "stream",
     "text": [
      "tous\n"
     ]
    },
    {
     "data": {
      "text/plain": [
       "tous          1.000000\n",
       "planete       0.177945\n",
       "interdire     0.159494\n",
       "citoyens      0.147316\n",
       "etats         0.144444\n",
       "monde         0.132316\n",
       "europeens     0.131121\n",
       "pollution     0.131043\n",
       "francais      0.130317\n",
       "production    0.127582\n",
       "Name: tous, dtype: float32"
      ]
     },
     "metadata": {},
     "output_type": "display_data"
    },
    {
     "name": "stdout",
     "output_type": "stream",
     "text": [
      "mettre\n"
     ]
    },
    {
     "data": {
      "text/plain": [
       "mettre        1.000000\n",
       "place         0.560107\n",
       "oeuvre        0.552402\n",
       "accord        0.209265\n",
       "taxe          0.143965\n",
       "solutions     0.135593\n",
       "production    0.122722\n",
       "faut          0.109711\n",
       "ecologie      0.108804\n",
       "transition    0.108272\n",
       "Name: mettre, dtype: float32"
      ]
     },
     "metadata": {},
     "output_type": "display_data"
    },
    {
     "name": "stdout",
     "output_type": "stream",
     "text": [
      "taxer\n"
     ]
    },
    {
     "data": {
      "text/plain": [
       "taxer           1.000000\n",
       "importations    0.516190\n",
       "fortement       0.496350\n",
       "importes        0.420354\n",
       "etrangers       0.412195\n",
       "respectent      0.401345\n",
       "produits        0.332087\n",
       "polluants       0.292434\n",
       "respectant      0.289474\n",
       "camions         0.280000\n",
       "Name: taxer, dtype: float32"
      ]
     },
     "metadata": {},
     "output_type": "display_data"
    },
    {
     "name": "stdout",
     "output_type": "stream",
     "text": [
      "politique\n"
     ]
    },
    {
     "data": {
      "text/plain": [
       "politique           1.000000\n",
       "commune             0.642241\n",
       "agricole            0.532319\n",
       "vraie               0.524917\n",
       "environnementale    0.442149\n",
       "faveur              0.376667\n",
       "adopter             0.318612\n",
       "protection          0.267442\n",
       "energetique         0.223801\n",
       "europeenne          0.179366\n",
       "Name: politique, dtype: float32"
      ]
     },
     "metadata": {},
     "output_type": "display_data"
    },
    {
     "name": "stdout",
     "output_type": "stream",
     "text": [
      "europeens\n"
     ]
    },
    {
     "data": {
      "text/plain": [
       "europeens      1.000000\n",
       "partenaires    0.361664\n",
       "voisins        0.211129\n",
       "etats          0.121212\n",
       "pays           0.120499\n",
       "allemagne      0.116379\n",
       "tous           0.113787\n",
       "convaincre     0.111209\n",
       "francais       0.105882\n",
       "proposer       0.103933\n",
       "Name: europeens, dtype: float32"
      ]
     },
     "metadata": {},
     "output_type": "display_data"
    }
   ],
   "source": [
    "for i in df_qu_15_one_hot.sum(axis=0).sort_values(ascending=False).head(20).index:\n",
    "    print(i)\n",
    "    display(df_confidence_15[i].sort_values(ascending=False).head(10))"
   ]
  },
  {
   "cell_type": "code",
   "execution_count": 92,
   "metadata": {
    "scrolled": true
   },
   "outputs": [
    {
     "name": "stdout",
     "output_type": "stream",
     "text": [
      "exemple\n"
     ]
    },
    {
     "data": {
      "text/plain": [
       "exemple      0.000110\n",
       "montrer      0.000088\n",
       "donner       0.000076\n",
       "nordiques    0.000047\n",
       "attendre     0.000047\n",
       "prendre      0.000046\n",
       "discours     0.000045\n",
       "loin         0.000044\n",
       "commencer    0.000041\n",
       "devenir      0.000040\n",
       "Name: exemple, dtype: float32"
      ]
     },
     "metadata": {},
     "output_type": "display_data"
    },
    {
     "name": "stdout",
     "output_type": "stream",
     "text": [
      "pays\n"
     ]
    },
    {
     "data": {
      "text/plain": [
       "pays         0.000129\n",
       "nordiques    0.000123\n",
       "nord         0.000094\n",
       "avance       0.000089\n",
       "inspirer     0.000078\n",
       "europeens    0.000066\n",
       "rapport      0.000064\n",
       "membres      0.000064\n",
       "efforts      0.000064\n",
       "retard       0.000063\n",
       "Name: pays, dtype: float32"
      ]
     },
     "metadata": {},
     "output_type": "display_data"
    },
    {
     "name": "stdout",
     "output_type": "stream",
     "text": [
      "faire\n"
     ]
    },
    {
     "data": {
      "text/plain": [
       "faire           0.000164\n",
       "savoir          0.000114\n",
       "payer           0.000108\n",
       "preuve          0.000092\n",
       "pression        0.000088\n",
       "choses          0.000079\n",
       "partager        0.000077\n",
       "efforts         0.000071\n",
       "lecon           0.000070\n",
       "propositions    0.000066\n",
       "Name: faire, dtype: float32"
      ]
     },
     "metadata": {},
     "output_type": "display_data"
    },
    {
     "name": "stdout",
     "output_type": "stream",
     "text": [
      "france\n"
     ]
    },
    {
     "data": {
      "text/plain": [
       "france      0.000165\n",
       "retard      0.000090\n",
       "nord        0.000071\n",
       "matiere     0.000067\n",
       "rapport     0.000067\n",
       "partager    0.000066\n",
       "produit     0.000062\n",
       "loin        0.000061\n",
       "poids       0.000060\n",
       "faudrait    0.000060\n",
       "Name: france, dtype: float32"
      ]
     },
     "metadata": {},
     "output_type": "display_data"
    },
    {
     "name": "stdout",
     "output_type": "stream",
     "text": [
      "montrer\n"
     ]
    },
    {
     "data": {
      "text/plain": [
       "montrer       0.000180\n",
       "exemple       0.000088\n",
       "fonctionne    0.000068\n",
       "marche        0.000055\n",
       "attendre      0.000054\n",
       "resultats     0.000052\n",
       "economie      0.000045\n",
       "leader        0.000039\n",
       "vie           0.000037\n",
       "cas           0.000036\n",
       "Name: montrer, dtype: float32"
      ]
     },
     "metadata": {},
     "output_type": "display_data"
    },
    {
     "name": "stdout",
     "output_type": "stream",
     "text": [
      "europe\n"
     ]
    },
    {
     "data": {
      "text/plain": [
       "europe           0.000291\n",
       "nord             0.000154\n",
       "regles           0.000077\n",
       "poids            0.000062\n",
       "chine            0.000061\n",
       "etats            0.000060\n",
       "monde            0.000059\n",
       "energetique      0.000058\n",
       "international    0.000055\n",
       "pouvoir          0.000054\n",
       "Name: europe, dtype: float32"
      ]
     },
     "metadata": {},
     "output_type": "display_data"
    },
    {
     "name": "stdout",
     "output_type": "stream",
     "text": [
      "niveau\n"
     ]
    },
    {
     "data": {
      "text/plain": [
       "niveau           0.000325\n",
       "national         0.000190\n",
       "europeen         0.000184\n",
       "mondial          0.000179\n",
       "international    0.000176\n",
       "adopter          0.000112\n",
       "faveur           0.000110\n",
       "protection       0.000103\n",
       "commune          0.000095\n",
       "reduire          0.000078\n",
       "Name: niveau, dtype: float32"
      ]
     },
     "metadata": {},
     "output_type": "display_data"
    },
    {
     "name": "stdout",
     "output_type": "stream",
     "text": [
      "europeen\n"
     ]
    },
    {
     "data": {
      "text/plain": [
       "europeen         0.000330\n",
       "parlement        0.000287\n",
       "niveau           0.000184\n",
       "international    0.000123\n",
       "adopter          0.000121\n",
       "faveur           0.000117\n",
       "mondial          0.000115\n",
       "plan             0.000102\n",
       "protection       0.000101\n",
       "commune          0.000098\n",
       "Name: europeen, dtype: float32"
      ]
     },
     "metadata": {},
     "output_type": "display_data"
    },
    {
     "name": "stdout",
     "output_type": "stream",
     "text": [
      "donner\n"
     ]
    },
    {
     "data": {
      "text/plain": [
       "donner        0.000350\n",
       "lecons        0.000286\n",
       "lecon         0.000162\n",
       "vouloir       0.000097\n",
       "exemple       0.000076\n",
       "commencer     0.000054\n",
       "arreter       0.000039\n",
       "monde         0.000038\n",
       "matiere       0.000033\n",
       "transition    0.000030\n",
       "Name: donner, dtype: float32"
      ]
     },
     "metadata": {},
     "output_type": "display_data"
    },
    {
     "name": "stdout",
     "output_type": "stream",
     "text": [
      "choix\n"
     ]
    },
    {
     "data": {
      "text/plain": [
       "choix            0.000368\n",
       "bons             0.000209\n",
       "partager         0.000187\n",
       "faudrait         0.000095\n",
       "matiere          0.000074\n",
       "france           0.000059\n",
       "faire            0.000059\n",
       "question         0.000059\n",
       "environnement    0.000056\n",
       "imposer          0.000054\n",
       "Name: choix, dtype: float32"
      ]
     },
     "metadata": {},
     "output_type": "display_data"
    },
    {
     "name": "stdout",
     "output_type": "stream",
     "text": [
      "produits\n"
     ]
    },
    {
     "data": {
      "text/plain": [
       "produits       0.000374\n",
       "importes       0.000364\n",
       "importation    0.000261\n",
       "respectent     0.000198\n",
       "respectant     0.000198\n",
       "polluants      0.000189\n",
       "normes         0.000175\n",
       "taxer          0.000164\n",
       "agricole       0.000162\n",
       "bio            0.000156\n",
       "Name: produits, dtype: float32"
      ]
     },
     "metadata": {},
     "output_type": "display_data"
    },
    {
     "name": "stdout",
     "output_type": "stream",
     "text": [
      "environnement\n"
     ]
    },
    {
     "data": {
      "text/plain": [
       "environnement    0.000380\n",
       "protection       0.000256\n",
       "faveur           0.000237\n",
       "respect          0.000165\n",
       "agricole         0.000150\n",
       "matiere          0.000141\n",
       "adopter          0.000125\n",
       "sante            0.000108\n",
       "respectent       0.000098\n",
       "commune          0.000096\n",
       "Name: environnement, dtype: float32"
      ]
     },
     "metadata": {},
     "output_type": "display_data"
    },
    {
     "name": "stdout",
     "output_type": "stream",
     "text": [
      "ecologique\n"
     ]
    },
    {
     "data": {
      "text/plain": [
       "ecologique       0.000429\n",
       "transition       0.000288\n",
       "economique       0.000091\n",
       "economie         0.000077\n",
       "plan             0.000076\n",
       "politique        0.000071\n",
       "creer            0.000071\n",
       "taxe             0.000070\n",
       "modele           0.000065\n",
       "developpement    0.000063\n",
       "Name: ecologique, dtype: float32"
      ]
     },
     "metadata": {},
     "output_type": "display_data"
    },
    {
     "name": "stdout",
     "output_type": "stream",
     "text": [
      "tout\n"
     ]
    },
    {
     "data": {
      "text/plain": [
       "tout         0.000454\n",
       "monde        0.000130\n",
       "accord       0.000073\n",
       "planete      0.000068\n",
       "faut         0.000067\n",
       "francais     0.000063\n",
       "arreter      0.000055\n",
       "non          0.000053\n",
       "nucleaire    0.000051\n",
       "tous         0.000051\n",
       "Name: tout, dtype: float32"
      ]
     },
     "metadata": {},
     "output_type": "display_data"
    },
    {
     "name": "stdout",
     "output_type": "stream",
     "text": [
      "faut\n"
     ]
    },
    {
     "data": {
      "text/plain": [
       "faut          0.000467\n",
       "changer       0.000081\n",
       "planete       0.000072\n",
       "agir          0.000072\n",
       "monde         0.000071\n",
       "economique    0.000070\n",
       "tout          0.000067\n",
       "francais      0.000063\n",
       "etats         0.000060\n",
       "partager      0.000056\n",
       "Name: faut, dtype: float32"
      ]
     },
     "metadata": {},
     "output_type": "display_data"
    },
    {
     "name": "stdout",
     "output_type": "stream",
     "text": [
      "tous\n"
     ]
    },
    {
     "data": {
      "text/plain": [
       "tous          0.000472\n",
       "planete       0.000084\n",
       "interdire     0.000075\n",
       "citoyens      0.000070\n",
       "etats         0.000068\n",
       "monde         0.000062\n",
       "europeens     0.000062\n",
       "pollution     0.000062\n",
       "francais      0.000062\n",
       "production    0.000060\n",
       "Name: tous, dtype: float32"
      ]
     },
     "metadata": {},
     "output_type": "display_data"
    },
    {
     "name": "stdout",
     "output_type": "stream",
     "text": [
      "mettre\n"
     ]
    },
    {
     "data": {
      "text/plain": [
       "mettre        0.000487\n",
       "place         0.000273\n",
       "oeuvre        0.000269\n",
       "accord        0.000102\n",
       "taxe          0.000070\n",
       "solutions     0.000066\n",
       "production    0.000060\n",
       "faut          0.000053\n",
       "ecologie      0.000053\n",
       "transition    0.000053\n",
       "Name: mettre, dtype: float32"
      ]
     },
     "metadata": {},
     "output_type": "display_data"
    },
    {
     "name": "stdout",
     "output_type": "stream",
     "text": [
      "taxer\n"
     ]
    },
    {
     "data": {
      "text/plain": [
       "taxer           0.000495\n",
       "importations    0.000255\n",
       "fortement       0.000245\n",
       "importes        0.000208\n",
       "etrangers       0.000204\n",
       "respectent      0.000198\n",
       "produits        0.000164\n",
       "polluants       0.000145\n",
       "respectant      0.000143\n",
       "camions         0.000138\n",
       "Name: taxer, dtype: float32"
      ]
     },
     "metadata": {},
     "output_type": "display_data"
    },
    {
     "name": "stdout",
     "output_type": "stream",
     "text": [
      "politique\n"
     ]
    },
    {
     "data": {
      "text/plain": [
       "politique           0.000519\n",
       "commune             0.000334\n",
       "agricole            0.000277\n",
       "vraie               0.000273\n",
       "environnementale    0.000230\n",
       "faveur              0.000196\n",
       "adopter             0.000166\n",
       "protection          0.000139\n",
       "energetique         0.000116\n",
       "europeenne          0.000093\n",
       "Name: politique, dtype: float32"
      ]
     },
     "metadata": {},
     "output_type": "display_data"
    },
    {
     "name": "stdout",
     "output_type": "stream",
     "text": [
      "europeens\n"
     ]
    },
    {
     "data": {
      "text/plain": [
       "europeens      0.000544\n",
       "partenaires    0.000197\n",
       "voisins        0.000115\n",
       "etats          0.000066\n",
       "pays           0.000066\n",
       "allemagne      0.000063\n",
       "tous           0.000062\n",
       "convaincre     0.000061\n",
       "francais       0.000058\n",
       "proposer       0.000057\n",
       "Name: europeens, dtype: float32"
      ]
     },
     "metadata": {},
     "output_type": "display_data"
    }
   ],
   "source": [
    "for i in df_qu_15_one_hot.sum(axis=0).sort_values(ascending=False).head(20).index:\n",
    "    print(i)\n",
    "    display(df_lift_15[i].sort_values(ascending=False).head(10))"
   ]
  },
  {
   "cell_type": "code",
   "execution_count": null,
   "metadata": {},
   "outputs": [
    {
     "data": {
      "text/plain": [
       "105"
      ]
     },
     "execution_count": 93,
     "metadata": {},
     "output_type": "execute_result"
    }
   ],
   "source": [
    "gc.collect()"
   ]
  },
  {
   "cell_type": "markdown",
   "metadata": {},
   "source": [
    "# Question 16 :   Y a-t-il d'autres points sur la transition écologique sur lesquels vous souhaiteriez vous exprimer ?"
   ]
  },
  {
   "cell_type": "code",
   "execution_count": null,
   "metadata": {
    "collapsed": true
   },
   "outputs": [],
   "source": [
    "question_15 = \"Y a-t-il d'autres points sur la transition écologique sur lesquels vous souhaiteriez vous exprimer ?\"\n",
    "qu_15,df_qu_15_one_hot,df_cov_15,df_confidence_15,df_lift_15 = compute_similarities(question_15, new_res)"
   ]
  },
  {
   "cell_type": "code",
   "execution_count": null,
   "metadata": {
    "collapsed": true,
    "scrolled": true
   },
   "outputs": [],
   "source": [
    "for i in df_qu_15_one_hot.sum(axis=0).sort_values(ascending=False).head(20).index:\n",
    "    print(i)\n",
    "    display(df_cov_15[i].sort_values(ascending=False).head(10))"
   ]
  },
  {
   "cell_type": "code",
   "execution_count": null,
   "metadata": {
    "collapsed": true,
    "scrolled": true
   },
   "outputs": [],
   "source": [
    "for i in df_qu_15_one_hot.sum(axis=0).sort_values(ascending=False).head(20).index:\n",
    "    print(i)\n",
    "    display(df_confidence_15[i].sort_values(ascending=False).head(10))"
   ]
  },
  {
   "cell_type": "code",
   "execution_count": null,
   "metadata": {
    "collapsed": true,
    "scrolled": true
   },
   "outputs": [],
   "source": [
    "for i in df_qu_15_one_hot.sum(axis=0).sort_values(ascending=False).head(20).index:\n",
    "    print(i)\n",
    "    display(df_lift_15[i].sort_values(ascending=False).head(10))"
   ]
  },
  {
   "cell_type": "code",
   "execution_count": null,
   "metadata": {
    "collapsed": true
   },
   "outputs": [],
   "source": [
    "gc.collect()"
   ]
  },
  {
   "cell_type": "code",
   "execution_count": null,
   "metadata": {
    "collapsed": true
   },
   "outputs": [],
   "source": []
  }
 ],
 "metadata": {
  "kernelspec": {
   "display_name": "Python 3",
   "language": "python",
   "name": "python3"
  },
  "language_info": {
   "codemirror_mode": {
    "name": "ipython",
    "version": 3
   },
   "file_extension": ".py",
   "mimetype": "text/x-python",
   "name": "python",
   "nbconvert_exporter": "python",
   "pygments_lexer": "ipython3",
   "version": "3.6.3"
  }
 },
 "nbformat": 4,
 "nbformat_minor": 2
}
