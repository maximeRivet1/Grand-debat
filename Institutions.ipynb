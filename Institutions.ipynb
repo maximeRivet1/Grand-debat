{
 "cells": [
  {
   "cell_type": "code",
   "execution_count": 1,
   "metadata": {
    "collapsed": true
   },
   "outputs": [],
   "source": [
    "import os, sys\n",
    "import unidecode\n",
    "import re\n",
    "import json\n",
    "import gc\n",
    "\n",
    "import pandas as pd\n",
    "import numpy as np\n",
    "import matplotlib.pyplot as plt"
   ]
  },
  {
   "cell_type": "markdown",
   "metadata": {},
   "source": [
    "Ce notebook analyse les réponses aux questions en cherchant des liens entre les mots les plus utilisés, dans le but de comprendre les demandes les plus récurrentes des francais.\n",
    "\n",
    "Dans un premier temps, les réponses sont préprocessées et transformées en liste de mots-clés. Puis, pour chaque réponse, úne analyse basique de la proximité des mots est réalisée. Bien que simple, cette methode permet de faire apparaitre des thèmes récurrents et de comprendre la teneur générale de ces demandes.\n",
    "\n",
    "Les trois métriques utilisées sont :\n",
    "+ co-occurence des mots : $co-occurence(i, j) = \\sum_{users} 1_{i \\in user} 1_{j \\in user}$\n",
    "+ confiance : $confiance(i -> j) = P(j | i)$\n",
    "+ lift : $lift(i, j) = \\frac{P(i \\cap j)}{P(i)P(j)}$\n",
    "\n",
    "La co-occurence permet d'évaluer les mots présents de manière commune, et donne une première idée des thèmes généraux.\n",
    "\n",
    "La confiance donne une idée de la présence de $j$ quand $i$ est déjà présent : il surpondère les mots peu présents par rapport à la co-occurence.\n",
    "\n",
    "Le lift estime le surplus de présence commune de $i$ et $j$ par rapport au cas où $i$ et $j$ sont indépendants. Cela permet de trouver des relations de causalité plus intéressantes, notamment dans des cas où certains mots sont peu présents mais très liés.\n",
    "\n",
    "Pour chaque question :\n",
    "+ On récupère les mots les plus employés sur ce thème\n",
    "+ Pour chacun de ces mots, on regarde pour chaque métrique les mots les plus liés, ce qui donne une bonne idée des liens et des demandes\n",
    "\n",
    "On peut ensuite raffiner l'analyse sur des mots moins présents mais porteurs de sens."
   ]
  },
  {
   "cell_type": "code",
   "execution_count": 2,
   "metadata": {
    "collapsed": true
   },
   "outputs": [],
   "source": [
    "# function definitions\n",
    "\n",
    "def compute_similarities(question_name, df_res):\n",
    "    qu = df_res[question_name].dropna()\n",
    "    df_qu_one_hot = compute_one_hot(qu)\n",
    "    df_cov = compute_covariance(df_qu_one_hot)\n",
    "    df_confidence = compute_confidence(df_cov)\n",
    "    df_lift = compute_lift(df_cov, df_qu_one_hot)\n",
    "    \n",
    "    return qu, df_qu_one_hot, df_cov, df_confidence, df_lift\n",
    "    \n",
    "def compute_one_hot(qu):\n",
    "    qu_words = []\n",
    "    for i in qu:\n",
    "        qu_words.extend(i)\n",
    "    qu_words = list(set(qu_words))\n",
    "    dic_qu_words = {word:i for i, word in enumerate(qu_words)}\n",
    "    dic_qu_words_inverse = {i:word for i, word in enumerate(qu_words)}\n",
    "    \n",
    "    qu_one_hot = np.zeros((len(qu), len(qu_words)), dtype=bool)\n",
    "    for i, li_word in enumerate(qu):\n",
    "        for word in li_word:\n",
    "            qu_one_hot[i, dic_qu_words[word]] = True\n",
    "            \n",
    "    df_qu_one_hot = pd.DataFrame(columns=qu_words, data=qu_one_hot).to_sparse(fill_value=False)\n",
    "\n",
    "    \n",
    "    temp_mask = np.sum(df_qu_one_hot.values, axis=0, dtype=np.uint16) > 250\n",
    "    words_enough = df_qu_one_hot.columns.values[temp_mask]\n",
    "    df_qu_one_hot = df_qu_one_hot[words_enough].to_sparse(fill_value=0)\n",
    "    \n",
    "    del temp_mask\n",
    "    del qu_one_hot\n",
    "    gc.collect()\n",
    "    \n",
    "    return df_qu_one_hot\n",
    "\n",
    "def compute_covariance(df_qu_one_hot):\n",
    "    N = df_qu_one_hot.shape[1]\n",
    "    \n",
    "    cov = np.zeros((N, N), dtype=np.uint16)\n",
    "    np.matmul(df_qu_one_hot.values.T, df_qu_one_hot.values, out=cov)\n",
    "    \n",
    "    df_cov = pd.DataFrame(columns=df_qu_one_hot.columns, index=df_qu_one_hot.columns, data=cov) * (cov > 100)\n",
    "    del cov\n",
    "    gc.collect()\n",
    "    \n",
    "    return df_cov\n",
    "\n",
    "def compute_confidence(df_cov):\n",
    "    df_confidence = np.diag(1 / np.diag(df_cov)).dot(df_cov).astype(np.float32)\n",
    "    df_confidence = pd.DataFrame(index=df_cov.index, columns=df_cov.index, data=df_confidence)\n",
    "    return df_confidence\n",
    "\n",
    "def compute_lift(df_cov, df_qu_one_hot):\n",
    "    inv_diag_cov = 1 / np.diag(df_cov.values)\n",
    "    lift = inv_diag_cov.reshape((-1, 1)) * df_cov.values * inv_diag_cov.reshape((1, -1))\n",
    "    df_lift = pd.DataFrame(columns=df_qu_one_hot.columns,\n",
    "                             index=df_qu_one_hot.columns,\n",
    "                             data=lift).replace(0.0, np.nan).astype(np.float32)\n",
    "    del lift\n",
    "    del inv_diag_cov\n",
    "    gc.collect()\n",
    "    \n",
    "    return df_lift"
   ]
  },
  {
   "cell_type": "markdown",
   "metadata": {},
   "source": [
    "# Loading of files and preprocessing"
   ]
  },
  {
   "cell_type": "code",
   "execution_count": 3,
   "metadata": {
    "collapsed": true
   },
   "outputs": [],
   "source": [
    "PATH_TO_FILE = \"./proposals_cleaned/services.json\""
   ]
  },
  {
   "cell_type": "code",
   "execution_count": 4,
   "metadata": {
    "collapsed": true
   },
   "outputs": [],
   "source": [
    "with open(PATH_TO_FILE, \"r\") as f:\n",
    "    raw_json = [s.strip() for s in f.readlines()]\n",
    "    \n",
    "parsed_json = [json.loads(raw_json[i]) for i in range(len(raw_json))]\n",
    "del raw_json"
   ]
  },
  {
   "cell_type": "code",
   "execution_count": 5,
   "metadata": {
    "collapsed": true
   },
   "outputs": [],
   "source": [
    "col = [\"titre\"]\n",
    "for ques in parsed_json[0][\"responses\"]:\n",
    "    col.append(ques[\"question\"][\"id\"]) \n",
    "        \n",
    "data = []\n",
    "for elt in parsed_json:\n",
    "    resp = {\"titre\" : elt[\"titre\"]}\n",
    "    for ques in elt[\"responses\"]:\n",
    "        if ques[\"question\"][\"title\"] == \"Si oui, comment ?\":\n",
    "            if ques[\"question\"][\"id\"] == \"185\":\n",
    "                ques[\"question\"][\"title\"] += \"_terrain\"\n",
    "            else:\n",
    "                ques[\"question\"][\"title\"] += \"_admin\"\n",
    "        try:\n",
    "            text = json.loads((ques[\"value\"]))\n",
    "            resp[ques[\"question\"][\"title\"]] = ''\n",
    "            if text[\"labels\"] != []:\n",
    "                resp[ques[\"question\"][\"title\"]] += \", \".join(text[\"labels\"])\n",
    "            if text[\"other\"] is not None:\n",
    "                resp[ques[\"question\"][\"title\"]] += \", \" + text[\"other\"]\n",
    "            if resp[ques[\"question\"][\"title\"]] == '':\n",
    "                resp[ques[\"question\"][\"title\"]] = np.nan\n",
    "        except:\n",
    "            if ques[\"value\"] is not None and ques[\"value\"][0] != \"{\":\n",
    "                resp[ques[\"question\"][\"title\"]] = ques[\"value\"]\n",
    "            else:\n",
    "                resp[ques[\"question\"][\"title\"]] = np.nan\n",
    "    data.append(resp)"
   ]
  },
  {
   "cell_type": "code",
   "execution_count": 6,
   "metadata": {},
   "outputs": [
    {
     "data": {
      "text/plain": [
       "0"
      ]
     },
     "execution_count": 6,
     "metadata": {},
     "output_type": "execute_result"
    }
   ],
   "source": [
    "res = pd.DataFrame.from_dict(data)\n",
    "del data\n",
    "gc.collect()"
   ]
  },
  {
   "cell_type": "code",
   "execution_count": 7,
   "metadata": {},
   "outputs": [
    {
     "data": {
      "text/plain": [
       "titre                                                                                                                                                                                                                                 1.000000\n",
       "Estimez-vous avoir accès aux services publics dont vous avez besoin ?                                                                                                                                                                 0.720851\n",
       "Que pensez-vous de l'organisation de l'Etat et des administrations en France ? De quelle manière cette organisation devrait-elle évoluer ?                                                                                            0.712880\n",
       "Connaissez-vous le \"droit à l'erreur\", c'est-à-dire le droit d'affirmer votre bonne foi lorsque vous faites un erreur dans vos déclarations ?                                                                                         0.696867\n",
       "Avez-vous déjà utilisé certaines de ces nouvelles formes de services publics ?                                                                                                                                                        0.689866\n",
       "Selon vous, l'Etat doit-il aujourd'hui transférer de nouvelles missions aux collectivités territoriales ?                                                                                                                             0.670364\n",
       "Si oui, avez-vous déjà utilisé ce droit à l'erreur ?                                                                                                                                                                                  0.612228\n",
       "Faut-il revoir le fonctionnement et la formation de l'administration ?                                                                                                                                                                0.593697\n",
       "Faut-il donner plus d'autonomie aux fonctionnaires de terrain ?                                                                                                                                                                       0.593350\n",
       "Quels sont les services publics qui doivent le plus évoluer selon vous ?                                                                                                                                                              0.514857\n",
       "Quand vous pensez à l'évolution des services publics au cours des dernières années, quels sont ceux qui ont évolué de manière positive ?                                                                                              0.514002\n",
       "Comment l'Etat et les collectivités territoriales peuvent-ils s'améliorer pour mieux répondre aux défis de nos territoires les plus en difficulté ?                                                                                   0.485605\n",
       "Si oui, comment ?_admin                                                                                                                                                                                                               0.485374\n",
       "Y a-t-il d'autres points sur l'organisation de l'Etat et des services publics sur lesquels vous souhaiteriez vous exprimer ?                                                                                                          0.472411\n",
       "Quels nouveaux services ou quelles démarches souhaitez-vous voir développées sur Internet en priorité ?                                                                                                                               0.391746\n",
       "Si oui, lesquelles ?                                                                                                                                                                                                                  0.340635\n",
       "Pouvez-vous identifier des règles que l'administration vous a déjà demandé d'appliquer et que vous avez jugées inutiles ou trop complexes ?                                                                                           0.337955\n",
       "Si oui, comment ?_terrain                                                                                                                                                                                                             0.327926\n",
       "Si non, quels types de services publics vous manquent dans votre territoire et qu'il est nécessaire de renforcer ?                                                                                                                    0.286936\n",
       "Si vous avez été amené à demander un remboursement de soins de santé, pouvez-vous indiquer les éléments de satisfaction et/ou les difficultés rencontrés en précisant, pour chaque point, l'administration concernée :                0.286150\n",
       "Si vous avez été amené à préparer votre retraite, pouvez-vous indiquer les éléments de satisfaction et/ou les difficultés rencontrés en précisant, pour chaque point, l'administration concernée :                                    0.255927\n",
       "Quelles améliorations préconiseriez-vous ?                                                                                                                                                                                            0.254240\n",
       "Si vous avez été amené à scolariser votre enfant, pouvez-vous indiquer les éléments de satisfaction et/ou les difficultés rencontrés en précisant, pour chaque point, l'administration concernée :                                    0.222376\n",
       "Si oui, en avez-vous été satisfait ?                                                                                                                                                                                                  0.212094\n",
       "Si vous avez été amené à chercher un emploi, pouvez-vous indiquer les éléments de satisfaction et/ou les difficultés rencontrés en précisant, pour chaque point, l'administration concernée :                                         0.211701\n",
       "Si vous avez été amené à chercher une formation, pouvez-vous indiquer les éléments de satisfaction et/ou les difficultés rencontrés en précisant, pour chaque point, l'administration concernée :                                     0.181016\n",
       "Si vous avez été amené à créer une entreprise, pouvez-vous indiquer les éléments de satisfaction et/ou les difficultés rencontrés en précisant, pour chaque point, l'administration concernée :                                       0.142336\n",
       "Si vous avez été amené à faire une demande d'aide pour une situation de handicap, pouvez-vous indiquer les éléments de satisfaction et/ou les difficultés rencontrés en précisant, pour chaque point, l'administration concernée :    0.139540\n",
       "Si vous avez été amené à recruter du personnel, pouvez-vous indiquer les éléments de satisfaction et/ou les difficultés rencontrés en précisant, pour chaque point, l'administration concernée :                                      0.114238\n",
       "Si vous avez été amené à rémunérer du personnel, pouvez-vous indiquer les éléments de satisfaction et/ou les difficultés rencontrés en précisant, pour chaque point, l'administration concernée :                                     0.101645\n",
       "Si vous avez été amené à former du personnel, pouvez-vous indiquer les éléments de satisfaction et/ou les difficultés rencontrés en précisant, pour chaque point, l'administration concernée :                                        0.086441\n",
       "Si vous avez été amené à mettre fin à votre activité, pouvez-vous indiquer les éléments de satisfaction et/ou les difficultés rencontrés en précisant, pour chaque point, l'administration concernée :                                0.085748\n",
       "Si oui, à quelle occasion en avez-vous fait usage ?                                                                                                                                                                                   0.070891\n",
       "Si vous avez été amené à recruter une personne portant un handicap, pouvez-vous indiquer les éléments de satisfaction et/ou les difficultés rencontrés en précisant, pour chaque point, l'administration concernée :                  0.063358\n",
       "Les services publics pour les professionnels                                                                                                                                                                                          0.000000\n",
       "Les services publics pour les particuliers                                                                                                                                                                                            0.000000\n",
       "L'organisation administrative                                                                                                                                                                                                         0.000000\n",
       "Les services publics pour tous                                                                                                                                                                                                        0.000000\n",
       "dtype: float64"
      ]
     },
     "execution_count": 7,
     "metadata": {},
     "output_type": "execute_result"
    }
   ],
   "source": [
    "res.notna().mean(axis=0).sort_values(ascending=False)"
   ]
  },
  {
   "cell_type": "markdown",
   "metadata": {},
   "source": [
    "# Find important words"
   ]
  },
  {
   "cell_type": "code",
   "execution_count": 8,
   "metadata": {
    "collapsed": true
   },
   "outputs": [],
   "source": [
    "li_word_count = []\n",
    "for elt in res.values:\n",
    "    for item in elt:\n",
    "        if type(item) == str:\n",
    "            li_word_count.extend([unidecode.unidecode(x.lower()) for x in re.findall(r'\\w+', item)])"
   ]
  },
  {
   "cell_type": "code",
   "execution_count": 9,
   "metadata": {
    "collapsed": true
   },
   "outputs": [],
   "source": [
    "dic_word_count = {}\n",
    "for i in li_word_count:\n",
    "    if len(i) > 0:\n",
    "        if i in dic_word_count.keys():\n",
    "            dic_word_count[i] +=1\n",
    "        else:\n",
    "            dic_word_count[i] = 1"
   ]
  },
  {
   "cell_type": "code",
   "execution_count": 10,
   "metadata": {
    "collapsed": true
   },
   "outputs": [],
   "source": [
    "df_word_count = pd.DataFrame.from_dict(dic_word_count, orient=\"index\")\n",
    "df_word_count.sort_values(0, ascending=False)\n",
    "df_word_count.columns = [\"freq_in_debate\"]"
   ]
  },
  {
   "cell_type": "code",
   "execution_count": 11,
   "metadata": {},
   "outputs": [
    {
     "data": {
      "text/plain": [
       "202"
      ]
     },
     "execution_count": 11,
     "metadata": {},
     "output_type": "execute_result"
    }
   ],
   "source": [
    "del li_word_count\n",
    "del dic_word_count\n",
    "\n",
    "gc.collect()"
   ]
  },
  {
   "cell_type": "code",
   "execution_count": 12,
   "metadata": {
    "collapsed": true
   },
   "outputs": [],
   "source": [
    "df_word_count = df_word_count[df_word_count[\"freq_in_debate\"] > 100]"
   ]
  },
  {
   "cell_type": "code",
   "execution_count": 13,
   "metadata": {
    "collapsed": true
   },
   "outputs": [],
   "source": [
    "li_stopwords = [unidecode.unidecode(x.strip().lower()) for x in open(\"french_stopwords.txt\", 'r').readlines()]\n",
    "li_stopwords = set(li_stopwords)\n",
    "li_stopwords.remove(\"aucun\")\n",
    "li_stopwords.remove(\"tout\")\n",
    "li_stopwords.remove(\"tous\")\n",
    "li_stopwords.remove(\"non\")"
   ]
  },
  {
   "cell_type": "code",
   "execution_count": 14,
   "metadata": {
    "collapsed": true
   },
   "outputs": [],
   "source": [
    "new_data = []\n",
    "for i, elt in enumerate(res.index):\n",
    "    temp_res = []\n",
    "    for col in res.columns:\n",
    "        item = res.loc[elt, col]\n",
    "        if type(item) == str:\n",
    "            li_item = [unidecode.unidecode(x.lower()) for x in re.findall(r'\\w+', item) if unidecode.unidecode(x.lower()) not in li_stopwords]\n",
    "            temp_res.append(li_item)\n",
    "        else:\n",
    "            temp_res.append(None)\n",
    "    new_data.append(temp_res)"
   ]
  },
  {
   "cell_type": "code",
   "execution_count": 15,
   "metadata": {},
   "outputs": [
    {
     "data": {
      "text/plain": [
       "0"
      ]
     },
     "execution_count": 15,
     "metadata": {},
     "output_type": "execute_result"
    }
   ],
   "source": [
    "new_res = pd.DataFrame(new_data, columns=res.columns).to_sparse()\n",
    "del new_data\n",
    "gc.collect()"
   ]
  },
  {
   "cell_type": "markdown",
   "metadata": {},
   "source": [
    "# Question 1 :   Que pensez-vous de l'organisation de l'Etat et des administrations en France ? De quelle manière cette organisation devrait-elle évoluer ?"
   ]
  },
  {
   "cell_type": "code",
   "execution_count": 16,
   "metadata": {
    "collapsed": true
   },
   "outputs": [],
   "source": [
    "question_1 = \"Que pensez-vous de l'organisation de l'Etat et des administrations en France ? De quelle manière cette organisation devrait-elle évoluer ?\"\n",
    "qu_1,df_qu_1_one_hot,df_cov_1,df_confidence_1,df_lift_1 = compute_similarities(question_1,new_res)"
   ]
  },
  {
   "cell_type": "code",
   "execution_count": 17,
   "metadata": {
    "scrolled": true
   },
   "outputs": [
    {
     "name": "stdout",
     "output_type": "stream",
     "text": [
      "faut\n"
     ]
    },
    {
     "data": {
      "text/plain": [
       "faut         5247\n",
       "faire        1471\n",
       "tout         1428\n",
       "citoyens     1036\n",
       "services      997\n",
       "supprimer     973\n",
       "service       968\n",
       "temps         862\n",
       "communes      853\n",
       "nombre        843\n",
       "Name: faut, dtype: uint16"
      ]
     },
     "metadata": {},
     "output_type": "display_data"
    },
    {
     "name": "stdout",
     "output_type": "stream",
     "text": [
      "services\n"
     ]
    },
    {
     "data": {
      "text/plain": [
       "services           4100\n",
       "publics            1310\n",
       "faut                997\n",
       "faire               806\n",
       "tous                791\n",
       "tout                760\n",
       "service             726\n",
       "administrations     676\n",
       "fonctionnaires      671\n",
       "communes            662\n",
       "Name: services, dtype: uint16"
      ]
     },
     "metadata": {},
     "output_type": "display_data"
    },
    {
     "name": "stdout",
     "output_type": "stream",
     "text": [
      "faire\n"
     ]
    },
    {
     "data": {
      "text/plain": [
       "faire       3891\n",
       "faut        1471\n",
       "tout        1360\n",
       "citoyens    1020\n",
       "service      897\n",
       "temps        897\n",
       "francais     808\n",
       "services     806\n",
       "tous         800\n",
       "mettre       734\n",
       "Name: faire, dtype: uint16"
      ]
     },
     "metadata": {},
     "output_type": "display_data"
    },
    {
     "name": "stdout",
     "output_type": "stream",
     "text": [
      "tout\n"
     ]
    },
    {
     "data": {
      "text/plain": [
       "tout         3716\n",
       "faut         1428\n",
       "faire        1360\n",
       "citoyens      966\n",
       "service       895\n",
       "temps         873\n",
       "francais      815\n",
       "tous          773\n",
       "services      760\n",
       "politique     719\n",
       "Name: tout, dtype: uint16"
      ]
     },
     "metadata": {},
     "output_type": "display_data"
    },
    {
     "name": "stdout",
     "output_type": "stream",
     "text": [
      "communes\n"
     ]
    },
    {
     "data": {
      "text/plain": [
       "communes        3386\n",
       "regions         1399\n",
       "departements    1305\n",
       "supprimer        992\n",
       "region           855\n",
       "faut             853\n",
       "communautes      846\n",
       "nombre           838\n",
       "departement      834\n",
       "commune          749\n",
       "Name: communes, dtype: uint16"
      ]
     },
     "metadata": {},
     "output_type": "display_data"
    },
    {
     "name": "stdout",
     "output_type": "stream",
     "text": [
      "organisation\n"
     ]
    },
    {
     "data": {
      "text/plain": [
       "organisation       3329\n",
       "faut                775\n",
       "administrations     709\n",
       "services            656\n",
       "faire               595\n",
       "tout                542\n",
       "communes            506\n",
       "regions             497\n",
       "citoyens            492\n",
       "nombre              491\n",
       "Name: organisation, dtype: uint16"
      ]
     },
     "metadata": {},
     "output_type": "display_data"
    },
    {
     "name": "stdout",
     "output_type": "stream",
     "text": [
      "fonctionnaires\n"
     ]
    },
    {
     "data": {
      "text/plain": [
       "fonctionnaires     3217\n",
       "nombre              871\n",
       "hauts               802\n",
       "faut                767\n",
       "faire               680\n",
       "services            671\n",
       "tous                599\n",
       "tout                575\n",
       "supprimer           561\n",
       "administrations     522\n",
       "Name: fonctionnaires, dtype: uint16"
      ]
     },
     "metadata": {},
     "output_type": "display_data"
    },
    {
     "name": "stdout",
     "output_type": "stream",
     "text": [
      "administrations\n"
     ]
    },
    {
     "data": {
      "text/plain": [
       "administrations    3184\n",
       "organisation        709\n",
       "faut                692\n",
       "services            676\n",
       "faire               564\n",
       "fonctionnaires      522\n",
       "tout                498\n",
       "citoyens            489\n",
       "administration      464\n",
       "nombre              415\n",
       "Name: administrations, dtype: uint16"
      ]
     },
     "metadata": {},
     "output_type": "display_data"
    },
    {
     "name": "stdout",
     "output_type": "stream",
     "text": [
      "nombre\n"
     ]
    },
    {
     "data": {
      "text/plain": [
       "nombre            3101\n",
       "reduire            955\n",
       "fonctionnaires     871\n",
       "faut               843\n",
       "communes           838\n",
       "deputes            761\n",
       "elus               734\n",
       "supprimer          715\n",
       "faire              686\n",
       "regions            632\n",
       "Name: nombre, dtype: uint16"
      ]
     },
     "metadata": {},
     "output_type": "display_data"
    },
    {
     "name": "stdout",
     "output_type": "stream",
     "text": [
      "supprimer\n"
     ]
    },
    {
     "data": {
      "text/plain": [
       "supprimer         3086\n",
       "communes           992\n",
       "faut               973\n",
       "regions            812\n",
       "departements       786\n",
       "nombre             715\n",
       "fonctionnaires     561\n",
       "departement        549\n",
       "faire              537\n",
       "services           523\n",
       "Name: supprimer, dtype: uint16"
      ]
     },
     "metadata": {},
     "output_type": "display_data"
    },
    {
     "name": "stdout",
     "output_type": "stream",
     "text": [
      "regions\n"
     ]
    },
    {
     "data": {
      "text/plain": [
       "regions         3041\n",
       "communes        1399\n",
       "departements    1344\n",
       "supprimer        812\n",
       "faut             792\n",
       "nombre           632\n",
       "departement      582\n",
       "faire            549\n",
       "region           546\n",
       "services         525\n",
       "Name: regions, dtype: uint16"
      ]
     },
     "metadata": {},
     "output_type": "display_data"
    },
    {
     "name": "stdout",
     "output_type": "stream",
     "text": [
      "citoyens\n"
     ]
    },
    {
     "data": {
      "text/plain": [
       "citoyens     2999\n",
       "faut         1036\n",
       "faire        1020\n",
       "tout          966\n",
       "service       861\n",
       "francais      670\n",
       "temps         659\n",
       "politique     644\n",
       "services      624\n",
       "mettre        607\n",
       "Name: citoyens, dtype: uint16"
      ]
     },
     "metadata": {},
     "output_type": "display_data"
    },
    {
     "name": "stdout",
     "output_type": "stream",
     "text": [
      "tous\n"
     ]
    },
    {
     "data": {
      "text/plain": [
       "tous              2786\n",
       "faire              800\n",
       "faut               796\n",
       "services           791\n",
       "tout               773\n",
       "nombre             614\n",
       "fonctionnaires     599\n",
       "citoyens           586\n",
       "non                575\n",
       "france             521\n",
       "Name: tous, dtype: uint16"
      ]
     },
     "metadata": {},
     "output_type": "display_data"
    },
    {
     "name": "stdout",
     "output_type": "stream",
     "text": [
      "administration\n"
     ]
    },
    {
     "data": {
      "text/plain": [
       "administration     2607\n",
       "faut                605\n",
       "services            593\n",
       "faire               527\n",
       "fonctionnaires      491\n",
       "organisation        475\n",
       "tout                470\n",
       "administrations     464\n",
       "citoyens            403\n",
       "tous                397\n",
       "Name: administration, dtype: uint16"
      ]
     },
     "metadata": {},
     "output_type": "display_data"
    },
    {
     "name": "stdout",
     "output_type": "stream",
     "text": [
      "service\n"
     ]
    },
    {
     "data": {
      "text/plain": [
       "service     2523\n",
       "faut         968\n",
       "faire        897\n",
       "tout         895\n",
       "public       874\n",
       "citoyens     861\n",
       "services     726\n",
       "temps        654\n",
       "mettre       605\n",
       "francais     603\n",
       "Name: service, dtype: uint16"
      ]
     },
     "metadata": {},
     "output_type": "display_data"
    },
    {
     "name": "stdout",
     "output_type": "stream",
     "text": [
      "elus\n"
     ]
    },
    {
     "data": {
      "text/plain": [
       "elus              2267\n",
       "nombre             734\n",
       "communes           617\n",
       "faut               541\n",
       "faire              530\n",
       "tous               505\n",
       "fonctionnaires     503\n",
       "regions            487\n",
       "tout               483\n",
       "citoyens           476\n",
       "Name: elus, dtype: uint16"
      ]
     },
     "metadata": {},
     "output_type": "display_data"
    },
    {
     "name": "stdout",
     "output_type": "stream",
     "text": [
      "departements\n"
     ]
    },
    {
     "data": {
      "text/plain": [
       "departements    2187\n",
       "regions         1344\n",
       "communes        1305\n",
       "supprimer        786\n",
       "faut             559\n",
       "nombre           519\n",
       "region           483\n",
       "suppression      437\n",
       "communautes      415\n",
       "elus             397\n",
       "Name: departements, dtype: uint16"
      ]
     },
     "metadata": {},
     "output_type": "display_data"
    },
    {
     "name": "stdout",
     "output_type": "stream",
     "text": [
      "france\n"
     ]
    },
    {
     "data": {
      "text/plain": [
       "france          2147\n",
       "faut             651\n",
       "faire            620\n",
       "tout             581\n",
       "tous             521\n",
       "nombre           484\n",
       "pays             473\n",
       "organisation     471\n",
       "services         451\n",
       "regions          450\n",
       "Name: france, dtype: uint16"
      ]
     },
     "metadata": {},
     "output_type": "display_data"
    },
    {
     "name": "stdout",
     "output_type": "stream",
     "text": [
      "non\n"
     ]
    },
    {
     "data": {
      "text/plain": [
       "non               2118\n",
       "faire              707\n",
       "tout               610\n",
       "faut               605\n",
       "tous               575\n",
       "services           514\n",
       "fonctionnaires     476\n",
       "nombre             470\n",
       "citoyens           467\n",
       "elus               422\n",
       "Name: non, dtype: uint16"
      ]
     },
     "metadata": {},
     "output_type": "display_data"
    },
    {
     "name": "stdout",
     "output_type": "stream",
     "text": [
      "region\n"
     ]
    },
    {
     "data": {
      "text/plain": [
       "region          2068\n",
       "departement     1098\n",
       "communes         855\n",
       "commune          744\n",
       "regions          546\n",
       "faut             530\n",
       "supprimer        496\n",
       "departements     483\n",
       "nombre           421\n",
       "services         414\n",
       "Name: region, dtype: uint16"
      ]
     },
     "metadata": {},
     "output_type": "display_data"
    }
   ],
   "source": [
    "for i in df_qu_1_one_hot.sum(axis=0).sort_values(ascending=False).head(20).index:\n",
    "    print(i)\n",
    "    display(df_cov_1[i].sort_values(ascending=False).head(10))"
   ]
  },
  {
   "cell_type": "code",
   "execution_count": 18,
   "metadata": {
    "scrolled": true
   },
   "outputs": [
    {
     "name": "stdout",
     "output_type": "stream",
     "text": [
      "faut\n"
     ]
    },
    {
     "data": {
      "text/plain": [
       "faut           1.000000\n",
       "probants       0.997608\n",
       "flashent       0.995169\n",
       "rallonges      0.992840\n",
       "biaisee        0.990499\n",
       "colles         0.988152\n",
       "rives          0.987952\n",
       "abaissement    0.983871\n",
       "injustement    0.981265\n",
       "detourner      0.976359\n",
       "Name: faut, dtype: float32"
      ]
     },
     "metadata": {},
     "output_type": "display_data"
    },
    {
     "name": "stdout",
     "output_type": "stream",
     "text": [
      "services\n"
     ]
    },
    {
     "data": {
      "text/plain": [
       "services      1.000000\n",
       "publics       0.792019\n",
       "publiques     0.497613\n",
       "hopitaux      0.483412\n",
       "acces         0.469242\n",
       "qualite       0.455157\n",
       "sociaux       0.452107\n",
       "transports    0.431611\n",
       "zones         0.423676\n",
       "proximite     0.405900\n",
       "Name: services, dtype: float32"
      ]
     },
     "metadata": {},
     "output_type": "display_data"
    },
    {
     "name": "stdout",
     "output_type": "stream",
     "text": [
      "faire\n"
     ]
    },
    {
     "data": {
      "text/plain": [
       "faire        1.000000\n",
       "flashent     0.983092\n",
       "racket       0.976415\n",
       "rives        0.975904\n",
       "probants     0.973684\n",
       "colles       0.971564\n",
       "biaisee      0.971496\n",
       "rallonges    0.971360\n",
       "compteur     0.968900\n",
       "detourner    0.966903\n",
       "Name: faire, dtype: float32"
      ]
     },
     "metadata": {},
     "output_type": "display_data"
    },
    {
     "name": "stdout",
     "output_type": "stream",
     "text": [
      "tout\n"
     ]
    },
    {
     "data": {
      "text/plain": [
       "tout           1.000000\n",
       "flashent       0.997585\n",
       "colles         0.983412\n",
       "rallonges      0.983294\n",
       "probants       0.983254\n",
       "biaisee        0.978622\n",
       "rives          0.978313\n",
       "injustement    0.974239\n",
       "racket         0.971698\n",
       "trajet         0.965596\n",
       "Name: tout, dtype: float32"
      ]
     },
     "metadata": {},
     "output_type": "display_data"
    },
    {
     "name": "stdout",
     "output_type": "stream",
     "text": [
      "communes\n"
     ]
    },
    {
     "data": {
      "text/plain": [
       "communes             1.000000\n",
       "communautes          0.891465\n",
       "petites              0.727273\n",
       "communaute           0.718141\n",
       "habitants            0.663576\n",
       "intercommunalites    0.646003\n",
       "fusionner            0.624585\n",
       "regroupement         0.613592\n",
       "metropoles           0.607438\n",
       "fusion               0.596774\n",
       "Name: communes, dtype: float32"
      ]
     },
     "metadata": {},
     "output_type": "display_data"
    },
    {
     "name": "stdout",
     "output_type": "stream",
     "text": [
      "organisation\n"
     ]
    },
    {
     "data": {
      "text/plain": [
       "organisation      1.000000\n",
       "actuelle          0.506622\n",
       "centralisee       0.418552\n",
       "territoriale      0.380631\n",
       "evoluer           0.378029\n",
       "administrative    0.333817\n",
       "lourde            0.318542\n",
       "complexe          0.298405\n",
       "evolution         0.292343\n",
       "bonne             0.284389\n",
       "Name: organisation, dtype: float32"
      ]
     },
     "metadata": {},
     "output_type": "display_data"
    },
    {
     "name": "stdout",
     "output_type": "stream",
     "text": [
      "fonctionnaires\n"
     ]
    },
    {
     "data": {
      "text/plain": [
       "fonctionnaires    1.000000\n",
       "hauts             0.908267\n",
       "territoriaux      0.554913\n",
       "payes             0.497159\n",
       "statut            0.481061\n",
       "remuneration      0.425926\n",
       "salaires          0.418338\n",
       "fonctionnaire     0.416404\n",
       "prive             0.396417\n",
       "train             0.378882\n",
       "Name: fonctionnaires, dtype: float32"
      ]
     },
     "metadata": {},
     "output_type": "display_data"
    },
    {
     "name": "stdout",
     "output_type": "stream",
     "text": [
      "administrations\n"
     ]
    },
    {
     "data": {
      "text/plain": [
       "administrations    1.000000\n",
       "usagers            0.287749\n",
       "devraient          0.257609\n",
       "internet           0.226716\n",
       "besoins            0.225505\n",
       "demarches          0.219065\n",
       "pourraient         0.213080\n",
       "organisation       0.212977\n",
       "manque             0.211513\n",
       "mal                0.205499\n",
       "Name: administrations, dtype: float32"
      ]
     },
     "metadata": {},
     "output_type": "display_data"
    },
    {
     "name": "stdout",
     "output_type": "stream",
     "text": [
      "nombre\n"
     ]
    },
    {
     "data": {
      "text/plain": [
       "nombre            1.000000\n",
       "diminution        0.597077\n",
       "diminuer          0.592746\n",
       "parlementaires    0.542793\n",
       "senateurs         0.505263\n",
       "mandats           0.501393\n",
       "deputes           0.486884\n",
       "reduire           0.484280\n",
       "reduction         0.476839\n",
       "cumul             0.475524\n",
       "Name: nombre, dtype: float32"
      ]
     },
     "metadata": {},
     "output_type": "display_data"
    },
    {
     "name": "stdout",
     "output_type": "stream",
     "text": [
      "supprimer\n"
     ]
    },
    {
     "data": {
      "text/plain": [
       "supprimer            1.000000\n",
       "fusionner            0.378738\n",
       "senat                0.374700\n",
       "intercommunalites    0.363785\n",
       "garder               0.363248\n",
       "renforcer            0.361702\n",
       "departements         0.359396\n",
       "departementaux       0.353383\n",
       "echelon              0.353186\n",
       "anciens              0.351598\n",
       "Name: supprimer, dtype: float32"
      ]
     },
     "metadata": {},
     "output_type": "display_data"
    },
    {
     "name": "stdout",
     "output_type": "stream",
     "text": [
      "regions\n"
     ]
    },
    {
     "data": {
      "text/plain": [
       "regions              1.000000\n",
       "departements         0.614540\n",
       "metropoles           0.578512\n",
       "intercommunalites    0.528548\n",
       "fusion               0.518817\n",
       "taille               0.505791\n",
       "communautes          0.488936\n",
       "autonomie            0.448468\n",
       "grandes              0.430993\n",
       "garder               0.414530\n",
       "Name: regions, dtype: float32"
      ]
     },
     "metadata": {},
     "output_type": "display_data"
    },
    {
     "name": "stdout",
     "output_type": "stream",
     "text": [
      "citoyens\n"
     ]
    },
    {
     "data": {
      "text/plain": [
       "citoyens     1.000000\n",
       "rives        0.992771\n",
       "detourner    0.981087\n",
       "biaisee      0.980998\n",
       "compteur     0.980861\n",
       "probants     0.980861\n",
       "flashent     0.980676\n",
       "rallonges    0.976134\n",
       "colles       0.971564\n",
       "racket       0.966981\n",
       "Name: citoyens, dtype: float32"
      ]
     },
     "metadata": {},
     "output_type": "display_data"
    },
    {
     "name": "stdout",
     "output_type": "stream",
     "text": [
      "tous\n"
     ]
    },
    {
     "data": {
      "text/plain": [
       "tous        1.000000\n",
       "6           0.474164\n",
       "jours       0.464072\n",
       "30          0.436860\n",
       "revenus     0.430279\n",
       "millions    0.429134\n",
       "vivre       0.422311\n",
       "4           0.421663\n",
       "an          0.411960\n",
       "enfants     0.407534\n",
       "Name: tous, dtype: float32"
      ]
     },
     "metadata": {},
     "output_type": "display_data"
    },
    {
     "name": "stdout",
     "output_type": "stream",
     "text": [
      "administration\n"
     ]
    },
    {
     "data": {
      "text/plain": [
       "administration    1.000000\n",
       "francaise         0.453252\n",
       "entreprise        0.233051\n",
       "lourde            0.226624\n",
       "maniere           0.208556\n",
       "part              0.203125\n",
       "demande           0.201681\n",
       "cout              0.200337\n",
       "sociale           0.200000\n",
       "besoin            0.198925\n",
       "Name: administration, dtype: float32"
      ]
     },
     "metadata": {},
     "output_type": "display_data"
    },
    {
     "name": "stdout",
     "output_type": "stream",
     "text": [
      "service\n"
     ]
    },
    {
     "data": {
      "text/plain": [
       "service        1.000000\n",
       "flashent       0.985507\n",
       "rallonges      0.976134\n",
       "probants       0.976077\n",
       "colles         0.971564\n",
       "biaisee        0.971496\n",
       "injustement    0.969555\n",
       "racket         0.969340\n",
       "rives          0.968675\n",
       "compteur       0.961722\n",
       "Name: service, dtype: float32"
      ]
     },
     "metadata": {},
     "output_type": "display_data"
    },
    {
     "name": "stdout",
     "output_type": "stream",
     "text": [
      "elus\n"
     ]
    },
    {
     "data": {
      "text/plain": [
       "elus             1.000000\n",
       "indemnites       0.529825\n",
       "mandats          0.498607\n",
       "cumul            0.489510\n",
       "elu              0.480331\n",
       "election         0.464883\n",
       "mandat           0.456938\n",
       "elections        0.424354\n",
       "locaux           0.413013\n",
       "representants    0.407692\n",
       "Name: elus, dtype: float32"
      ]
     },
     "metadata": {},
     "output_type": "display_data"
    },
    {
     "name": "stdout",
     "output_type": "stream",
     "text": [
      "departements\n"
     ]
    },
    {
     "data": {
      "text/plain": [
       "departements         1.000000\n",
       "intercommunalites    0.491028\n",
       "metropoles           0.475207\n",
       "regions              0.441960\n",
       "communautes          0.437302\n",
       "fusionner            0.411960\n",
       "fusion               0.397849\n",
       "metropole            0.386617\n",
       "communes             0.385411\n",
       "prefectures          0.332410\n",
       "Name: departements, dtype: float32"
      ]
     },
     "metadata": {},
     "output_type": "display_data"
    },
    {
     "name": "stdout",
     "output_type": "stream",
     "text": [
      "france\n"
     ]
    },
    {
     "data": {
      "text/plain": [
       "france       1.000000\n",
       "allemagne    0.448052\n",
       "millions     0.440945\n",
       "europe       0.405467\n",
       "000          0.376168\n",
       "enfants      0.345890\n",
       "6            0.343465\n",
       "pays         0.336895\n",
       "grands       0.333333\n",
       "10           0.320166\n",
       "Name: france, dtype: float32"
      ]
     },
     "metadata": {},
     "output_type": "display_data"
    },
    {
     "name": "stdout",
     "output_type": "stream",
     "text": [
      "non\n"
     ]
    },
    {
     "data": {
      "text/plain": [
       "non        1.000000\n",
       "6          0.410334\n",
       "cumul      0.388112\n",
       "enfants    0.376712\n",
       "mandats    0.364902\n",
       "mandat     0.356459\n",
       "4          0.355899\n",
       "30         0.354949\n",
       "vote       0.352645\n",
       "droit      0.347899\n",
       "Name: non, dtype: float32"
      ]
     },
     "metadata": {},
     "output_type": "display_data"
    },
    {
     "name": "stdout",
     "output_type": "stream",
     "text": [
      "region\n"
     ]
    },
    {
     "data": {
      "text/plain": [
       "region              1.000000\n",
       "departement         0.568617\n",
       "metropole           0.561338\n",
       "communaute          0.506747\n",
       "commune             0.481553\n",
       "intercommunalite    0.466934\n",
       "departemental       0.318627\n",
       "nouvelle            0.289694\n",
       "collectivite        0.289398\n",
       "maire               0.286064\n",
       "Name: region, dtype: float32"
      ]
     },
     "metadata": {},
     "output_type": "display_data"
    }
   ],
   "source": [
    "for i in df_qu_1_one_hot.sum(axis=0).sort_values(ascending=False).head(20).index:\n",
    "    print(i)\n",
    "    display(df_confidence_1[i].sort_values(ascending=False).head(10))"
   ]
  },
  {
   "cell_type": "code",
   "execution_count": 19,
   "metadata": {
    "scrolled": true
   },
   "outputs": [
    {
     "name": "stdout",
     "output_type": "stream",
     "text": [
      "faut\n"
     ]
    },
    {
     "data": {
      "text/plain": [
       "faut           0.000191\n",
       "probants       0.000190\n",
       "flashent       0.000190\n",
       "rallonges      0.000189\n",
       "biaisee        0.000189\n",
       "colles         0.000188\n",
       "rives          0.000188\n",
       "abaissement    0.000188\n",
       "injustement    0.000187\n",
       "detourner      0.000186\n",
       "Name: faut, dtype: float32"
      ]
     },
     "metadata": {},
     "output_type": "display_data"
    },
    {
     "name": "stdout",
     "output_type": "stream",
     "text": [
      "services\n"
     ]
    },
    {
     "data": {
      "text/plain": [
       "services      0.000244\n",
       "publics       0.000193\n",
       "publiques     0.000121\n",
       "hopitaux      0.000118\n",
       "acces         0.000114\n",
       "qualite       0.000111\n",
       "sociaux       0.000110\n",
       "transports    0.000105\n",
       "zones         0.000103\n",
       "proximite     0.000099\n",
       "Name: services, dtype: float32"
      ]
     },
     "metadata": {},
     "output_type": "display_data"
    },
    {
     "name": "stdout",
     "output_type": "stream",
     "text": [
      "faire\n"
     ]
    },
    {
     "data": {
      "text/plain": [
       "faire        0.000257\n",
       "flashent     0.000253\n",
       "racket       0.000251\n",
       "rives        0.000251\n",
       "probants     0.000250\n",
       "colles       0.000250\n",
       "biaisee      0.000250\n",
       "rallonges    0.000250\n",
       "compteur     0.000249\n",
       "detourner    0.000248\n",
       "Name: faire, dtype: float32"
      ]
     },
     "metadata": {},
     "output_type": "display_data"
    },
    {
     "name": "stdout",
     "output_type": "stream",
     "text": [
      "tout\n"
     ]
    },
    {
     "data": {
      "text/plain": [
       "tout           0.000269\n",
       "flashent       0.000268\n",
       "colles         0.000265\n",
       "rallonges      0.000265\n",
       "probants       0.000265\n",
       "biaisee        0.000263\n",
       "rives          0.000263\n",
       "injustement    0.000262\n",
       "racket         0.000261\n",
       "trajet         0.000260\n",
       "Name: tout, dtype: float32"
      ]
     },
     "metadata": {},
     "output_type": "display_data"
    },
    {
     "name": "stdout",
     "output_type": "stream",
     "text": [
      "communes\n"
     ]
    },
    {
     "data": {
      "text/plain": [
       "communes             0.000295\n",
       "communautes          0.000263\n",
       "petites              0.000215\n",
       "communaute           0.000212\n",
       "habitants            0.000196\n",
       "intercommunalites    0.000191\n",
       "fusionner            0.000184\n",
       "regroupement         0.000181\n",
       "metropoles           0.000179\n",
       "fusion               0.000176\n",
       "Name: communes, dtype: float32"
      ]
     },
     "metadata": {},
     "output_type": "display_data"
    },
    {
     "name": "stdout",
     "output_type": "stream",
     "text": [
      "organisation\n"
     ]
    },
    {
     "data": {
      "text/plain": [
       "organisation      0.000300\n",
       "actuelle          0.000152\n",
       "centralisee       0.000126\n",
       "territoriale      0.000114\n",
       "evoluer           0.000114\n",
       "administrative    0.000100\n",
       "lourde            0.000096\n",
       "complexe          0.000090\n",
       "evolution         0.000088\n",
       "bonne             0.000085\n",
       "Name: organisation, dtype: float32"
      ]
     },
     "metadata": {},
     "output_type": "display_data"
    },
    {
     "name": "stdout",
     "output_type": "stream",
     "text": [
      "fonctionnaires\n"
     ]
    },
    {
     "data": {
      "text/plain": [
       "fonctionnaires    0.000311\n",
       "hauts             0.000282\n",
       "territoriaux      0.000172\n",
       "payes             0.000155\n",
       "statut            0.000150\n",
       "remuneration      0.000132\n",
       "salaires          0.000130\n",
       "fonctionnaire     0.000129\n",
       "prive             0.000123\n",
       "train             0.000118\n",
       "Name: fonctionnaires, dtype: float32"
      ]
     },
     "metadata": {},
     "output_type": "display_data"
    },
    {
     "name": "stdout",
     "output_type": "stream",
     "text": [
      "administrations\n"
     ]
    },
    {
     "data": {
      "text/plain": [
       "administrations    0.000314\n",
       "usagers            0.000090\n",
       "devraient          0.000081\n",
       "internet           0.000071\n",
       "besoins            0.000071\n",
       "demarches          0.000069\n",
       "pourraient         0.000067\n",
       "organisation       0.000067\n",
       "manque             0.000066\n",
       "mal                0.000065\n",
       "Name: administrations, dtype: float32"
      ]
     },
     "metadata": {},
     "output_type": "display_data"
    },
    {
     "name": "stdout",
     "output_type": "stream",
     "text": [
      "nombre\n"
     ]
    },
    {
     "data": {
      "text/plain": [
       "nombre            0.000322\n",
       "diminution        0.000193\n",
       "diminuer          0.000191\n",
       "parlementaires    0.000175\n",
       "senateurs         0.000163\n",
       "mandats           0.000162\n",
       "deputes           0.000157\n",
       "reduire           0.000156\n",
       "reduction         0.000154\n",
       "cumul             0.000153\n",
       "Name: nombre, dtype: float32"
      ]
     },
     "metadata": {},
     "output_type": "display_data"
    },
    {
     "name": "stdout",
     "output_type": "stream",
     "text": [
      "supprimer\n"
     ]
    },
    {
     "data": {
      "text/plain": [
       "supprimer            0.000324\n",
       "fusionner            0.000123\n",
       "senat                0.000121\n",
       "intercommunalites    0.000118\n",
       "garder               0.000118\n",
       "renforcer            0.000117\n",
       "departements         0.000116\n",
       "departementaux       0.000115\n",
       "echelon              0.000114\n",
       "anciens              0.000114\n",
       "Name: supprimer, dtype: float32"
      ]
     },
     "metadata": {},
     "output_type": "display_data"
    },
    {
     "name": "stdout",
     "output_type": "stream",
     "text": [
      "regions\n"
     ]
    },
    {
     "data": {
      "text/plain": [
       "regions              0.000329\n",
       "departements         0.000202\n",
       "metropoles           0.000190\n",
       "intercommunalites    0.000174\n",
       "fusion               0.000171\n",
       "taille               0.000166\n",
       "communautes          0.000161\n",
       "autonomie            0.000147\n",
       "grandes              0.000142\n",
       "garder               0.000136\n",
       "Name: regions, dtype: float32"
      ]
     },
     "metadata": {},
     "output_type": "display_data"
    },
    {
     "name": "stdout",
     "output_type": "stream",
     "text": [
      "citoyens\n"
     ]
    },
    {
     "data": {
      "text/plain": [
       "citoyens     0.000333\n",
       "rives        0.000331\n",
       "detourner    0.000327\n",
       "biaisee      0.000327\n",
       "probants     0.000327\n",
       "compteur     0.000327\n",
       "flashent     0.000327\n",
       "rallonges    0.000325\n",
       "colles       0.000324\n",
       "racket       0.000322\n",
       "Name: citoyens, dtype: float32"
      ]
     },
     "metadata": {},
     "output_type": "display_data"
    },
    {
     "name": "stdout",
     "output_type": "stream",
     "text": [
      "tous\n"
     ]
    },
    {
     "data": {
      "text/plain": [
       "tous        0.000359\n",
       "6           0.000170\n",
       "jours       0.000167\n",
       "30          0.000157\n",
       "revenus     0.000154\n",
       "millions    0.000154\n",
       "vivre       0.000152\n",
       "4           0.000151\n",
       "an          0.000148\n",
       "enfants     0.000146\n",
       "Name: tous, dtype: float32"
      ]
     },
     "metadata": {},
     "output_type": "display_data"
    },
    {
     "name": "stdout",
     "output_type": "stream",
     "text": [
      "administration\n"
     ]
    },
    {
     "data": {
      "text/plain": [
       "administration    0.000384\n",
       "francaise         0.000174\n",
       "entreprise        0.000089\n",
       "lourde            0.000087\n",
       "maniere           0.000080\n",
       "part              0.000078\n",
       "demande           0.000077\n",
       "cout              0.000077\n",
       "sociale           0.000077\n",
       "besoin            0.000076\n",
       "Name: administration, dtype: float32"
      ]
     },
     "metadata": {},
     "output_type": "display_data"
    },
    {
     "name": "stdout",
     "output_type": "stream",
     "text": [
      "service\n"
     ]
    },
    {
     "data": {
      "text/plain": [
       "service        0.000396\n",
       "flashent       0.000391\n",
       "rallonges      0.000387\n",
       "probants       0.000387\n",
       "colles         0.000385\n",
       "biaisee        0.000385\n",
       "injustement    0.000384\n",
       "racket         0.000384\n",
       "rives          0.000384\n",
       "compteur       0.000381\n",
       "Name: service, dtype: float32"
      ]
     },
     "metadata": {},
     "output_type": "display_data"
    },
    {
     "name": "stdout",
     "output_type": "stream",
     "text": [
      "elus\n"
     ]
    },
    {
     "data": {
      "text/plain": [
       "elus             0.000441\n",
       "indemnites       0.000234\n",
       "mandats          0.000220\n",
       "cumul            0.000216\n",
       "elu              0.000212\n",
       "election         0.000205\n",
       "mandat           0.000202\n",
       "elections        0.000187\n",
       "locaux           0.000182\n",
       "representants    0.000180\n",
       "Name: elus, dtype: float32"
      ]
     },
     "metadata": {},
     "output_type": "display_data"
    },
    {
     "name": "stdout",
     "output_type": "stream",
     "text": [
      "departements\n"
     ]
    },
    {
     "data": {
      "text/plain": [
       "departements         0.000457\n",
       "intercommunalites    0.000225\n",
       "metropoles           0.000217\n",
       "regions              0.000202\n",
       "communautes          0.000200\n",
       "fusionner            0.000188\n",
       "fusion               0.000182\n",
       "metropole            0.000177\n",
       "communes             0.000176\n",
       "prefectures          0.000152\n",
       "Name: departements, dtype: float32"
      ]
     },
     "metadata": {},
     "output_type": "display_data"
    },
    {
     "name": "stdout",
     "output_type": "stream",
     "text": [
      "france\n"
     ]
    },
    {
     "data": {
      "text/plain": [
       "france       0.000466\n",
       "allemagne    0.000209\n",
       "millions     0.000205\n",
       "europe       0.000189\n",
       "000          0.000175\n",
       "enfants      0.000161\n",
       "6            0.000160\n",
       "pays         0.000157\n",
       "grands       0.000155\n",
       "10           0.000149\n",
       "Name: france, dtype: float32"
      ]
     },
     "metadata": {},
     "output_type": "display_data"
    },
    {
     "name": "stdout",
     "output_type": "stream",
     "text": [
      "non\n"
     ]
    },
    {
     "data": {
      "text/plain": [
       "non        0.000472\n",
       "6          0.000194\n",
       "cumul      0.000183\n",
       "enfants    0.000178\n",
       "mandats    0.000172\n",
       "mandat     0.000168\n",
       "4          0.000168\n",
       "30         0.000168\n",
       "vote       0.000166\n",
       "droit      0.000164\n",
       "Name: non, dtype: float32"
      ]
     },
     "metadata": {},
     "output_type": "display_data"
    },
    {
     "name": "stdout",
     "output_type": "stream",
     "text": [
      "region\n"
     ]
    },
    {
     "data": {
      "text/plain": [
       "region              0.000484\n",
       "departement         0.000275\n",
       "metropole           0.000271\n",
       "communaute          0.000245\n",
       "commune             0.000233\n",
       "intercommunalite    0.000226\n",
       "departemental       0.000154\n",
       "nouvelle            0.000140\n",
       "collectivite        0.000140\n",
       "maire               0.000138\n",
       "Name: region, dtype: float32"
      ]
     },
     "metadata": {},
     "output_type": "display_data"
    }
   ],
   "source": [
    "for i in df_qu_1_one_hot.sum(axis=0).sort_values(ascending=False).head(20).index:\n",
    "    print(i)\n",
    "    display(df_lift_1[i].sort_values(ascending=False).head(10))"
   ]
  },
  {
   "cell_type": "code",
   "execution_count": 20,
   "metadata": {},
   "outputs": [
    {
     "data": {
      "text/plain": [
       "147"
      ]
     },
     "execution_count": 20,
     "metadata": {},
     "output_type": "execute_result"
    }
   ],
   "source": [
    "gc.collect()"
   ]
  },
  {
   "cell_type": "markdown",
   "metadata": {},
   "source": [
    "# Question 2 :  Selon vous, l'Etat doit-il aujourd'hui transférer de nouvelles missions aux collectivités territoriales ?"
   ]
  },
  {
   "cell_type": "code",
   "execution_count": 21,
   "metadata": {
    "collapsed": true
   },
   "outputs": [],
   "source": [
    "question_2 = \"Selon vous, l'Etat doit-il aujourd'hui transférer de nouvelles missions aux collectivités territoriales ?\"\n",
    "qu_2,df_qu_2_one_hot,df_cov_2,df_confidence_2,df_lift_2 = compute_similarities(question_2,new_res)"
   ]
  },
  {
   "cell_type": "code",
   "execution_count": 22,
   "metadata": {
    "scrolled": true
   },
   "outputs": [
    {
     "name": "stdout",
     "output_type": "stream",
     "text": [
      "oui\n"
     ]
    },
    {
     "data": {
      "text/plain": [
       "oui    14901\n",
       "non        0\n",
       "Name: oui, dtype: uint16"
      ]
     },
     "metadata": {},
     "output_type": "display_data"
    },
    {
     "name": "stdout",
     "output_type": "stream",
     "text": [
      "non\n"
     ]
    },
    {
     "data": {
      "text/plain": [
       "non    14111\n",
       "oui        0\n",
       "Name: non, dtype: uint16"
      ]
     },
     "metadata": {},
     "output_type": "display_data"
    }
   ],
   "source": [
    "for i in df_qu_2_one_hot.sum(axis=0).sort_values(ascending=False).head(20).index:\n",
    "    print(i)\n",
    "    display(df_cov_2[i].sort_values(ascending=False).head(10))"
   ]
  },
  {
   "cell_type": "code",
   "execution_count": 23,
   "metadata": {
    "scrolled": true
   },
   "outputs": [
    {
     "name": "stdout",
     "output_type": "stream",
     "text": [
      "oui\n"
     ]
    },
    {
     "data": {
      "text/plain": [
       "oui    1.0\n",
       "non    0.0\n",
       "Name: oui, dtype: float32"
      ]
     },
     "metadata": {},
     "output_type": "display_data"
    },
    {
     "name": "stdout",
     "output_type": "stream",
     "text": [
      "non\n"
     ]
    },
    {
     "data": {
      "text/plain": [
       "non    1.0\n",
       "oui    0.0\n",
       "Name: non, dtype: float32"
      ]
     },
     "metadata": {},
     "output_type": "display_data"
    }
   ],
   "source": [
    "for i in df_qu_2_one_hot.sum(axis=0).sort_values(ascending=False).head(20).index:\n",
    "    print(i)\n",
    "    display(df_confidence_2[i].sort_values(ascending=False).head(10))"
   ]
  },
  {
   "cell_type": "code",
   "execution_count": 24,
   "metadata": {
    "scrolled": true
   },
   "outputs": [
    {
     "name": "stdout",
     "output_type": "stream",
     "text": [
      "oui\n"
     ]
    },
    {
     "data": {
      "text/plain": [
       "oui    0.000067\n",
       "non         NaN\n",
       "Name: oui, dtype: float32"
      ]
     },
     "metadata": {},
     "output_type": "display_data"
    },
    {
     "name": "stdout",
     "output_type": "stream",
     "text": [
      "non\n"
     ]
    },
    {
     "data": {
      "text/plain": [
       "non    0.000071\n",
       "oui         NaN\n",
       "Name: non, dtype: float32"
      ]
     },
     "metadata": {},
     "output_type": "display_data"
    }
   ],
   "source": [
    "for i in df_qu_2_one_hot.sum(axis=0).sort_values(ascending=False).head(20).index:\n",
    "    print(i)\n",
    "    display(df_lift_2[i].sort_values(ascending=False).head(10))"
   ]
  },
  {
   "cell_type": "code",
   "execution_count": 25,
   "metadata": {},
   "outputs": [
    {
     "data": {
      "text/plain": [
       "14"
      ]
     },
     "execution_count": 25,
     "metadata": {},
     "output_type": "execute_result"
    }
   ],
   "source": [
    "gc.collect()"
   ]
  },
  {
   "cell_type": "markdown",
   "metadata": {},
   "source": [
    "# Question 3 : Si oui, lesquelles ?"
   ]
  },
  {
   "cell_type": "code",
   "execution_count": 26,
   "metadata": {
    "collapsed": true
   },
   "outputs": [],
   "source": [
    "question_3 = \"Si oui, lesquelles ?\"\n",
    "qu_3,df_qu_3_one_hot,df_cov_3,df_confidence_3,df_lift_3 = compute_similarities(question_3, new_res)"
   ]
  },
  {
   "cell_type": "code",
   "execution_count": 27,
   "metadata": {
    "scrolled": true
   },
   "outputs": [
    {
     "name": "stdout",
     "output_type": "stream",
     "text": [
      "tout\n"
     ]
    },
    {
     "data": {
      "text/plain": [
       "tout             1879\n",
       "regalien          319\n",
       "concerne          245\n",
       "collectivites     236\n",
       "regions           226\n",
       "faut              201\n",
       "education         188\n",
       "vie               179\n",
       "territoire        177\n",
       "faire             170\n",
       "Name: tout, dtype: uint16"
      ]
     },
     "metadata": {},
     "output_type": "display_data"
    },
    {
     "name": "stdout",
     "output_type": "stream",
     "text": [
      "collectivites\n"
     ]
    },
    {
     "data": {
      "text/plain": [
       "collectivites    1695\n",
       "territoriales     815\n",
       "missions          422\n",
       "locales           334\n",
       "faut              263\n",
       "tout              236\n",
       "moyens            223\n",
       "non               185\n",
       "transferer        180\n",
       "faire             176\n",
       "Name: collectivites, dtype: uint16"
      ]
     },
     "metadata": {},
     "output_type": "display_data"
    },
    {
     "name": "stdout",
     "output_type": "stream",
     "text": [
      "missions\n"
     ]
    },
    {
     "data": {
      "text/plain": [
       "missions         1513\n",
       "collectivites     422\n",
       "regaliennes       286\n",
       "territoriales     236\n",
       "moyens            223\n",
       "transferer        207\n",
       "non               189\n",
       "nouvelles         181\n",
       "regions           176\n",
       "tout              163\n",
       "Name: missions, dtype: uint16"
      ]
     },
     "metadata": {},
     "output_type": "display_data"
    },
    {
     "name": "stdout",
     "output_type": "stream",
     "text": [
      "regions\n"
     ]
    },
    {
     "data": {
      "text/plain": [
       "regions         1477\n",
       "departements     262\n",
       "communes         241\n",
       "tout             226\n",
       "education        220\n",
       "gestion          189\n",
       "missions         176\n",
       "niveau           175\n",
       "faut             175\n",
       "region           167\n",
       "Name: regions, dtype: uint16"
      ]
     },
     "metadata": {},
     "output_type": "display_data"
    },
    {
     "name": "stdout",
     "output_type": "stream",
     "text": [
      "education\n"
     ]
    },
    {
     "data": {
      "text/plain": [
       "education     1285\n",
       "sante          398\n",
       "nationale      251\n",
       "regions        220\n",
       "securite       193\n",
       "tout           188\n",
       "transports     179\n",
       "culture        168\n",
       "justice        168\n",
       "police         148\n",
       "Name: education, dtype: uint16"
      ]
     },
     "metadata": {},
     "output_type": "display_data"
    },
    {
     "name": "stdout",
     "output_type": "stream",
     "text": [
      "gestion\n"
     ]
    },
    {
     "data": {
      "text/plain": [
       "gestion          1220\n",
       "routes            216\n",
       "regions           189\n",
       "vitesse           152\n",
       "education         140\n",
       "collectivites     124\n",
       "territoire        121\n",
       "services          113\n",
       "niveau            111\n",
       "exemple           110\n",
       "Name: gestion, dtype: uint16"
      ]
     },
     "metadata": {},
     "output_type": "display_data"
    },
    {
     "name": "stdout",
     "output_type": "stream",
     "text": [
      "faut\n"
     ]
    },
    {
     "data": {
      "text/plain": [
       "faut             958\n",
       "collectivites    263\n",
       "tout             201\n",
       "regions          175\n",
       "faire            169\n",
       "missions         162\n",
       "moyens           137\n",
       "territoriales    136\n",
       "niveau           127\n",
       "donner           115\n",
       "Name: faut, dtype: uint16"
      ]
     },
     "metadata": {},
     "output_type": "display_data"
    },
    {
     "name": "stdout",
     "output_type": "stream",
     "text": [
      "territoriales\n"
     ]
    },
    {
     "data": {
      "text/plain": [
       "territoriales    902\n",
       "collectivites    815\n",
       "missions         236\n",
       "tout             144\n",
       "faut             136\n",
       "non              111\n",
       "commune            0\n",
       "proximite          0\n",
       "cas                0\n",
       "decisions          0\n",
       "Name: territoriales, dtype: uint16"
      ]
     },
     "metadata": {},
     "output_type": "display_data"
    },
    {
     "name": "stdout",
     "output_type": "stream",
     "text": [
      "sante\n"
     ]
    },
    {
     "data": {
      "text/plain": [
       "sante         883\n",
       "education     398\n",
       "securite      164\n",
       "transports    157\n",
       "tout          135\n",
       "regions       129\n",
       "justice       119\n",
       "services      115\n",
       "territoire    105\n",
       "france          0\n",
       "Name: sante, dtype: uint16"
      ]
     },
     "metadata": {},
     "output_type": "display_data"
    },
    {
     "name": "stdout",
     "output_type": "stream",
     "text": [
      "territoire\n"
     ]
    },
    {
     "data": {
      "text/plain": [
       "territoire       881\n",
       "amenagement      303\n",
       "tout             177\n",
       "regions          124\n",
       "gestion          121\n",
       "collectivites    111\n",
       "sante            105\n",
       "services         102\n",
       "proximite          0\n",
       "routes             0\n",
       "Name: territoire, dtype: uint16"
      ]
     },
     "metadata": {},
     "output_type": "display_data"
    },
    {
     "name": "stdout",
     "output_type": "stream",
     "text": [
      "routes\n"
     ]
    },
    {
     "data": {
      "text/plain": [
       "routes        848\n",
       "vitesse       351\n",
       "gestion       216\n",
       "exemple       135\n",
       "80            121\n",
       "limitation    116\n",
       "tout          109\n",
       "france          0\n",
       "proximite       0\n",
       "decisions       0\n",
       "Name: routes, dtype: uint16"
      ]
     },
     "metadata": {},
     "output_type": "display_data"
    },
    {
     "name": "stdout",
     "output_type": "stream",
     "text": [
      "exemple\n"
     ]
    },
    {
     "data": {
      "text/plain": [
       "exemple          848\n",
       "vitesse          167\n",
       "collectivites    161\n",
       "tout             160\n",
       "routes           135\n",
       "regions          132\n",
       "80               123\n",
       "gestion          110\n",
       "km               106\n",
       "niveau           105\n",
       "Name: exemple, dtype: uint16"
      ]
     },
     "metadata": {},
     "output_type": "display_data"
    },
    {
     "name": "stdout",
     "output_type": "stream",
     "text": [
      "moyens\n"
     ]
    },
    {
     "data": {
      "text/plain": [
       "moyens           838\n",
       "missions         223\n",
       "collectivites    223\n",
       "donner           186\n",
       "faut             137\n",
       "transferer       122\n",
       "france             0\n",
       "decisions          0\n",
       "routes             0\n",
       "gestion            0\n",
       "Name: moyens, dtype: uint16"
      ]
     },
     "metadata": {},
     "output_type": "display_data"
    },
    {
     "name": "stdout",
     "output_type": "stream",
     "text": [
      "vitesse\n"
     ]
    },
    {
     "data": {
      "text/plain": [
       "vitesse        833\n",
       "routes         351\n",
       "limitations    298\n",
       "limitation     242\n",
       "exemple        167\n",
       "gestion        152\n",
       "80             138\n",
       "km             126\n",
       "communes         0\n",
       "decisions        0\n",
       "Name: vitesse, dtype: uint16"
      ]
     },
     "metadata": {},
     "output_type": "display_data"
    },
    {
     "name": "stdout",
     "output_type": "stream",
     "text": [
      "services\n"
     ]
    },
    {
     "data": {
      "text/plain": [
       "services         831\n",
       "publics          249\n",
       "collectivites    135\n",
       "tout             133\n",
       "regions          116\n",
       "sante            115\n",
       "tous             113\n",
       "gestion          113\n",
       "proximite        112\n",
       "faut             106\n",
       "Name: services, dtype: uint16"
      ]
     },
     "metadata": {},
     "output_type": "display_data"
    },
    {
     "name": "stdout",
     "output_type": "stream",
     "text": [
      "region\n"
     ]
    },
    {
     "data": {
      "text/plain": [
       "region         824\n",
       "departement    178\n",
       "regions        167\n",
       "tout           122\n",
       "niveau         109\n",
       "gestion        108\n",
       "commune        107\n",
       "faut           103\n",
       "missions       102\n",
       "proximite        0\n",
       "Name: region, dtype: uint16"
      ]
     },
     "metadata": {},
     "output_type": "display_data"
    },
    {
     "name": "stdout",
     "output_type": "stream",
     "text": [
      "non\n"
     ]
    },
    {
     "data": {
      "text/plain": [
       "non              815\n",
       "missions         189\n",
       "collectivites    185\n",
       "regaliennes      117\n",
       "tout             113\n",
       "territoriales    111\n",
       "faut             111\n",
       "oui              105\n",
       "routes             0\n",
       "gestion            0\n",
       "Name: non, dtype: uint16"
      ]
     },
     "metadata": {},
     "output_type": "display_data"
    },
    {
     "name": "stdout",
     "output_type": "stream",
     "text": [
      "niveau\n"
     ]
    },
    {
     "data": {
      "text/plain": [
       "niveau           802\n",
       "local            180\n",
       "regions          175\n",
       "tout             162\n",
       "national         142\n",
       "collectivites    127\n",
       "faut             127\n",
       "missions         126\n",
       "gestion          111\n",
       "education        109\n",
       "Name: niveau, dtype: uint16"
      ]
     },
     "metadata": {},
     "output_type": "display_data"
    },
    {
     "name": "stdout",
     "output_type": "stream",
     "text": [
      "faire\n"
     ]
    },
    {
     "data": {
      "text/plain": [
       "faire            782\n",
       "collectivites    176\n",
       "tout             170\n",
       "faut             169\n",
       "regions          115\n",
       "citoyens         104\n",
       "france             0\n",
       "emploi             0\n",
       "cas                0\n",
       "decisions          0\n",
       "Name: faire, dtype: uint16"
      ]
     },
     "metadata": {},
     "output_type": "display_data"
    },
    {
     "name": "stdout",
     "output_type": "stream",
     "text": [
      "securite\n"
     ]
    },
    {
     "data": {
      "text/plain": [
       "securite     775\n",
       "routiere     301\n",
       "education    193\n",
       "sante        164\n",
       "tout         153\n",
       "justice      125\n",
       "france         0\n",
       "proximite      0\n",
       "routes         0\n",
       "gestion        0\n",
       "Name: securite, dtype: uint16"
      ]
     },
     "metadata": {},
     "output_type": "display_data"
    }
   ],
   "source": [
    "for i in df_qu_3_one_hot.sum(axis=0).sort_values(ascending=False).head(20).index:\n",
    "    print(i)\n",
    "    display(df_cov_3[i].sort_values(ascending=False).head(10))"
   ]
  },
  {
   "cell_type": "code",
   "execution_count": 28,
   "metadata": {
    "scrolled": true
   },
   "outputs": [
    {
     "name": "stdout",
     "output_type": "stream",
     "text": [
      "tout\n"
     ]
    },
    {
     "data": {
      "text/plain": [
       "tout           1.000000\n",
       "concerne       0.712209\n",
       "regalien       0.635458\n",
       "vie            0.389978\n",
       "justice        0.309582\n",
       "local          0.264591\n",
       "citoyens       0.239631\n",
       "faire          0.217391\n",
       "territoires    0.215074\n",
       "faut           0.209812\n",
       "Name: tout, dtype: float32"
      ]
     },
     "metadata": {},
     "output_type": "display_data"
    },
    {
     "name": "stdout",
     "output_type": "stream",
     "text": [
      "collectivites\n"
     ]
    },
    {
     "data": {
      "text/plain": [
       "collectivites    1.000000\n",
       "territoriales    0.903548\n",
       "locales          0.505295\n",
       "nouvelles        0.434932\n",
       "transferer       0.330882\n",
       "transfert        0.319202\n",
       "donner           0.293307\n",
       "competences      0.278992\n",
       "missions         0.278916\n",
       "faut             0.274530\n",
       "Name: collectivites, dtype: float32"
      ]
     },
     "metadata": {},
     "output_type": "display_data"
    },
    {
     "name": "stdout",
     "output_type": "stream",
     "text": [
      "missions\n"
     ]
    },
    {
     "data": {
      "text/plain": [
       "missions         1.000000\n",
       "nouvelles        0.619863\n",
       "regaliennes      0.530612\n",
       "transferer       0.380515\n",
       "transfert        0.276808\n",
       "moyens           0.266110\n",
       "territoriales    0.261641\n",
       "collectivites    0.248968\n",
       "non              0.231902\n",
       "locales          0.186082\n",
       "Name: missions, dtype: float32"
      ]
     },
     "metadata": {},
     "output_type": "display_data"
    },
    {
     "name": "stdout",
     "output_type": "stream",
     "text": [
      "regions\n"
     ]
    },
    {
     "data": {
      "text/plain": [
       "regions         1.000000\n",
       "departements    0.493409\n",
       "communes        0.341844\n",
       "pouvoir         0.256897\n",
       "donner          0.222441\n",
       "niveau          0.218204\n",
       "competences     0.215126\n",
       "region          0.202670\n",
       "transferer      0.185662\n",
       "faut            0.182672\n",
       "Name: regions, dtype: float32"
      ]
     },
     "metadata": {},
     "output_type": "display_data"
    },
    {
     "name": "stdout",
     "output_type": "stream",
     "text": [
      "education\n"
     ]
    },
    {
     "data": {
      "text/plain": [
       "education     1.000000\n",
       "nationale     0.590588\n",
       "culture       0.475921\n",
       "sante         0.450736\n",
       "justice       0.412776\n",
       "police        0.398922\n",
       "defense       0.396947\n",
       "securite      0.249032\n",
       "transports    0.245542\n",
       "formation     0.227099\n",
       "Name: education, dtype: float32"
      ]
     },
     "metadata": {},
     "output_type": "display_data"
    },
    {
     "name": "stdout",
     "output_type": "stream",
     "text": [
      "gestion\n"
     ]
    },
    {
     "data": {
      "text/plain": [
       "gestion       1.000000\n",
       "routes        0.254717\n",
       "vitesse       0.182473\n",
       "transports    0.146776\n",
       "niveau        0.138404\n",
       "territoire    0.137344\n",
       "services      0.135981\n",
       "region        0.131068\n",
       "exemple       0.129717\n",
       "regions       0.127962\n",
       "Name: gestion, dtype: float32"
      ]
     },
     "metadata": {},
     "output_type": "display_data"
    },
    {
     "name": "stdout",
     "output_type": "stream",
     "text": [
      "faut\n"
     ]
    },
    {
     "data": {
      "text/plain": [
       "faut             1.000000\n",
       "donner           0.226378\n",
       "faire            0.216113\n",
       "transferer       0.196691\n",
       "citoyens         0.165899\n",
       "moyens           0.163484\n",
       "niveau           0.158354\n",
       "collectivites    0.155162\n",
       "territoriales    0.150776\n",
       "communes         0.143262\n",
       "Name: faut, dtype: float32"
      ]
     },
     "metadata": {},
     "output_type": "display_data"
    },
    {
     "name": "stdout",
     "output_type": "stream",
     "text": [
      "territoriales\n"
     ]
    },
    {
     "data": {
      "text/plain": [
       "territoriales    1.000000\n",
       "collectivites    0.480826\n",
       "missions         0.155981\n",
       "faut             0.141962\n",
       "non              0.136196\n",
       "tout             0.076637\n",
       "departement      0.000000\n",
       "proximite        0.000000\n",
       "cas              0.000000\n",
       "decisions        0.000000\n",
       "Name: territoriales, dtype: float32"
      ]
     },
     "metadata": {},
     "output_type": "display_data"
    },
    {
     "name": "stdout",
     "output_type": "stream",
     "text": [
      "sante\n"
     ]
    },
    {
     "data": {
      "text/plain": [
       "sante         1.000000\n",
       "education     0.309728\n",
       "justice       0.292383\n",
       "transports    0.215364\n",
       "securite      0.211613\n",
       "services      0.138387\n",
       "territoire    0.119183\n",
       "regions       0.087339\n",
       "tout          0.071847\n",
       "france        0.000000\n",
       "Name: sante, dtype: float32"
      ]
     },
     "metadata": {},
     "output_type": "display_data"
    },
    {
     "name": "stdout",
     "output_type": "stream",
     "text": [
      "territoire\n"
     ]
    },
    {
     "data": {
      "text/plain": [
       "territoire       1.000000\n",
       "amenagement      0.750000\n",
       "services         0.122744\n",
       "sante            0.118913\n",
       "gestion          0.099180\n",
       "tout             0.094199\n",
       "regions          0.083954\n",
       "collectivites    0.065487\n",
       "proximite        0.000000\n",
       "routes           0.000000\n",
       "Name: territoire, dtype: float32"
      ]
     },
     "metadata": {},
     "output_type": "display_data"
    },
    {
     "name": "stdout",
     "output_type": "stream",
     "text": [
      "routes\n"
     ]
    },
    {
     "data": {
      "text/plain": [
       "routes        1.000000\n",
       "vitesse       0.421369\n",
       "limitation    0.370607\n",
       "80            0.348703\n",
       "gestion       0.177049\n",
       "exemple       0.159198\n",
       "tout          0.058010\n",
       "france        0.000000\n",
       "proximite     0.000000\n",
       "decisions     0.000000\n",
       "Name: routes, dtype: float32"
      ]
     },
     "metadata": {},
     "output_type": "display_data"
    },
    {
     "name": "stdout",
     "output_type": "stream",
     "text": [
      "exemple\n"
     ]
    },
    {
     "data": {
      "text/plain": [
       "exemple          1.000000\n",
       "km               0.358108\n",
       "80               0.354467\n",
       "vitesse          0.200480\n",
       "routes           0.159198\n",
       "niveau           0.130923\n",
       "collectivites    0.094985\n",
       "gestion          0.090164\n",
       "regions          0.089370\n",
       "tout             0.085152\n",
       "Name: exemple, dtype: float32"
      ]
     },
     "metadata": {},
     "output_type": "display_data"
    },
    {
     "name": "stdout",
     "output_type": "stream",
     "text": [
      "moyens\n"
     ]
    },
    {
     "data": {
      "text/plain": [
       "moyens           1.000000\n",
       "donner           0.366142\n",
       "transferer       0.224265\n",
       "missions         0.147389\n",
       "faut             0.143006\n",
       "collectivites    0.131563\n",
       "france           0.000000\n",
       "decisions        0.000000\n",
       "routes           0.000000\n",
       "gestion          0.000000\n",
       "Name: moyens, dtype: float32"
      ]
     },
     "metadata": {},
     "output_type": "display_data"
    },
    {
     "name": "stdout",
     "output_type": "stream",
     "text": [
      "vitesse\n"
     ]
    },
    {
     "data": {
      "text/plain": [
       "vitesse        1.000000\n",
       "limitations    0.853868\n",
       "limitation     0.773163\n",
       "km             0.425676\n",
       "routes         0.413915\n",
       "80             0.397695\n",
       "exemple        0.196934\n",
       "gestion        0.124590\n",
       "communes       0.000000\n",
       "decisions      0.000000\n",
       "Name: vitesse, dtype: float32"
      ]
     },
     "metadata": {},
     "output_type": "display_data"
    },
    {
     "name": "stdout",
     "output_type": "stream",
     "text": [
      "services\n"
     ]
    },
    {
     "data": {
      "text/plain": [
       "services         1.000000\n",
       "publics          0.747748\n",
       "proximite        0.279302\n",
       "tous             0.193825\n",
       "sante            0.130238\n",
       "territoire       0.115778\n",
       "faut             0.110647\n",
       "gestion          0.092623\n",
       "collectivites    0.079646\n",
       "regions          0.078538\n",
       "Name: services, dtype: float32"
      ]
     },
     "metadata": {},
     "output_type": "display_data"
    },
    {
     "name": "stdout",
     "output_type": "stream",
     "text": [
      "region\n"
     ]
    },
    {
     "data": {
      "text/plain": [
       "region         1.000000\n",
       "departement    0.446115\n",
       "commune        0.359060\n",
       "niveau         0.135910\n",
       "regions        0.113067\n",
       "faut           0.107516\n",
       "gestion        0.088525\n",
       "missions       0.067416\n",
       "tout           0.064928\n",
       "proximite      0.000000\n",
       "Name: region, dtype: float32"
      ]
     },
     "metadata": {},
     "output_type": "display_data"
    },
    {
     "name": "stdout",
     "output_type": "stream",
     "text": [
      "non\n"
     ]
    },
    {
     "data": {
      "text/plain": [
       "non              1.000000\n",
       "oui              0.242494\n",
       "regaliennes      0.217069\n",
       "missions         0.124917\n",
       "territoriales    0.123060\n",
       "faut             0.115866\n",
       "collectivites    0.109145\n",
       "tout             0.060138\n",
       "routes           0.000000\n",
       "gestion          0.000000\n",
       "Name: non, dtype: float32"
      ]
     },
     "metadata": {},
     "output_type": "display_data"
    },
    {
     "name": "stdout",
     "output_type": "stream",
     "text": [
      "niveau\n"
     ]
    },
    {
     "data": {
      "text/plain": [
       "niveau       1.000000\n",
       "national     0.471761\n",
       "local        0.350195\n",
       "faut         0.132568\n",
       "region       0.132282\n",
       "exemple      0.123821\n",
       "regions      0.118483\n",
       "gestion      0.090984\n",
       "tout         0.086216\n",
       "education    0.084825\n",
       "Name: niveau, dtype: float32"
      ]
     },
     "metadata": {},
     "output_type": "display_data"
    },
    {
     "name": "stdout",
     "output_type": "stream",
     "text": [
      "faire\n"
     ]
    },
    {
     "data": {
      "text/plain": [
       "faire            1.000000\n",
       "faut             0.176409\n",
       "citoyens         0.159754\n",
       "collectivites    0.103835\n",
       "tout             0.090474\n",
       "regions          0.077861\n",
       "france           0.000000\n",
       "emploi           0.000000\n",
       "cas              0.000000\n",
       "decisions        0.000000\n",
       "Name: faire, dtype: float32"
      ]
     },
     "metadata": {},
     "output_type": "display_data"
    },
    {
     "name": "stdout",
     "output_type": "stream",
     "text": [
      "securite\n"
     ]
    },
    {
     "data": {
      "text/plain": [
       "securite     1.000000\n",
       "routiere     0.756281\n",
       "justice      0.307125\n",
       "sante        0.185730\n",
       "education    0.150195\n",
       "tout         0.081426\n",
       "france       0.000000\n",
       "proximite    0.000000\n",
       "routes       0.000000\n",
       "gestion      0.000000\n",
       "Name: securite, dtype: float32"
      ]
     },
     "metadata": {},
     "output_type": "display_data"
    }
   ],
   "source": [
    "for i in df_qu_3_one_hot.sum(axis=0).sort_values(ascending=False).head(20).index:\n",
    "    print(i)\n",
    "    display(df_confidence_3[i].sort_values(ascending=False).head(10))"
   ]
  },
  {
   "cell_type": "code",
   "execution_count": 29,
   "metadata": {
    "scrolled": true
   },
   "outputs": [
    {
     "name": "stdout",
     "output_type": "stream",
     "text": [
      "tout\n"
     ]
    },
    {
     "data": {
      "text/plain": [
       "tout           0.000532\n",
       "concerne       0.000379\n",
       "regalien       0.000338\n",
       "vie            0.000208\n",
       "justice        0.000165\n",
       "local          0.000141\n",
       "citoyens       0.000128\n",
       "faire          0.000116\n",
       "territoires    0.000114\n",
       "faut           0.000112\n",
       "Name: tout, dtype: float32"
      ]
     },
     "metadata": {},
     "output_type": "display_data"
    },
    {
     "name": "stdout",
     "output_type": "stream",
     "text": [
      "collectivites\n"
     ]
    },
    {
     "data": {
      "text/plain": [
       "collectivites    0.000590\n",
       "territoriales    0.000533\n",
       "locales          0.000298\n",
       "nouvelles        0.000257\n",
       "transferer       0.000195\n",
       "transfert        0.000188\n",
       "donner           0.000173\n",
       "competences      0.000165\n",
       "missions         0.000165\n",
       "faut             0.000162\n",
       "Name: collectivites, dtype: float32"
      ]
     },
     "metadata": {},
     "output_type": "display_data"
    },
    {
     "name": "stdout",
     "output_type": "stream",
     "text": [
      "missions\n"
     ]
    },
    {
     "data": {
      "text/plain": [
       "missions         0.000661\n",
       "nouvelles        0.000410\n",
       "regaliennes      0.000351\n",
       "transferer       0.000251\n",
       "transfert        0.000183\n",
       "moyens           0.000176\n",
       "territoriales    0.000173\n",
       "collectivites    0.000165\n",
       "non              0.000153\n",
       "locales          0.000123\n",
       "Name: missions, dtype: float32"
      ]
     },
     "metadata": {},
     "output_type": "display_data"
    },
    {
     "name": "stdout",
     "output_type": "stream",
     "text": [
      "regions\n"
     ]
    },
    {
     "data": {
      "text/plain": [
       "regions         0.000677\n",
       "departements    0.000334\n",
       "communes        0.000231\n",
       "pouvoir         0.000174\n",
       "donner          0.000151\n",
       "niveau          0.000148\n",
       "competences     0.000146\n",
       "region          0.000137\n",
       "transferer      0.000126\n",
       "faut            0.000124\n",
       "Name: regions, dtype: float32"
      ]
     },
     "metadata": {},
     "output_type": "display_data"
    },
    {
     "name": "stdout",
     "output_type": "stream",
     "text": [
      "education\n"
     ]
    },
    {
     "data": {
      "text/plain": [
       "education     0.000778\n",
       "nationale     0.000460\n",
       "culture       0.000370\n",
       "sante         0.000351\n",
       "justice       0.000321\n",
       "police        0.000310\n",
       "defense       0.000309\n",
       "securite      0.000194\n",
       "transports    0.000191\n",
       "formation     0.000177\n",
       "Name: education, dtype: float32"
      ]
     },
     "metadata": {},
     "output_type": "display_data"
    },
    {
     "name": "stdout",
     "output_type": "stream",
     "text": [
      "gestion\n"
     ]
    },
    {
     "data": {
      "text/plain": [
       "gestion       0.000820\n",
       "routes        0.000209\n",
       "vitesse       0.000150\n",
       "transports    0.000120\n",
       "niveau        0.000113\n",
       "territoire    0.000113\n",
       "services      0.000111\n",
       "region        0.000107\n",
       "exemple       0.000106\n",
       "regions       0.000105\n",
       "Name: gestion, dtype: float32"
      ]
     },
     "metadata": {},
     "output_type": "display_data"
    },
    {
     "name": "stdout",
     "output_type": "stream",
     "text": [
      "faut\n"
     ]
    },
    {
     "data": {
      "text/plain": [
       "faut             0.001044\n",
       "donner           0.000236\n",
       "faire            0.000226\n",
       "transferer       0.000205\n",
       "citoyens         0.000173\n",
       "moyens           0.000171\n",
       "niveau           0.000165\n",
       "collectivites    0.000162\n",
       "territoriales    0.000157\n",
       "communes         0.000150\n",
       "Name: faut, dtype: float32"
      ]
     },
     "metadata": {},
     "output_type": "display_data"
    },
    {
     "name": "stdout",
     "output_type": "stream",
     "text": [
      "territoriales\n"
     ]
    },
    {
     "data": {
      "text/plain": [
       "territoriales    0.001109\n",
       "collectivites    0.000533\n",
       "missions         0.000173\n",
       "faut             0.000157\n",
       "non              0.000151\n",
       "tout             0.000085\n",
       "decision              NaN\n",
       "securite              NaN\n",
       "sais                  NaN\n",
       "locales               NaN\n",
       "Name: territoriales, dtype: float32"
      ]
     },
     "metadata": {},
     "output_type": "display_data"
    },
    {
     "name": "stdout",
     "output_type": "stream",
     "text": [
      "sante\n"
     ]
    },
    {
     "data": {
      "text/plain": [
       "sante         0.001133\n",
       "education     0.000351\n",
       "justice       0.000331\n",
       "transports    0.000244\n",
       "securite      0.000240\n",
       "services      0.000157\n",
       "territoire    0.000135\n",
       "regions       0.000099\n",
       "tout          0.000081\n",
       "non                NaN\n",
       "Name: sante, dtype: float32"
      ]
     },
     "metadata": {},
     "output_type": "display_data"
    },
    {
     "name": "stdout",
     "output_type": "stream",
     "text": [
      "territoire\n"
     ]
    },
    {
     "data": {
      "text/plain": [
       "territoire       0.001135\n",
       "amenagement      0.000851\n",
       "services         0.000139\n",
       "sante            0.000135\n",
       "gestion          0.000113\n",
       "tout             0.000107\n",
       "regions          0.000095\n",
       "collectivites    0.000074\n",
       "non                   NaN\n",
       "decision              NaN\n",
       "Name: territoire, dtype: float32"
      ]
     },
     "metadata": {},
     "output_type": "display_data"
    },
    {
     "name": "stdout",
     "output_type": "stream",
     "text": [
      "routes\n"
     ]
    },
    {
     "data": {
      "text/plain": [
       "routes        0.001179\n",
       "vitesse       0.000497\n",
       "limitation    0.000437\n",
       "80            0.000411\n",
       "gestion       0.000209\n",
       "exemple       0.000188\n",
       "tout          0.000068\n",
       "non                NaN\n",
       "decision           NaN\n",
       "securite           NaN\n",
       "Name: routes, dtype: float32"
      ]
     },
     "metadata": {},
     "output_type": "display_data"
    },
    {
     "name": "stdout",
     "output_type": "stream",
     "text": [
      "exemple\n"
     ]
    },
    {
     "data": {
      "text/plain": [
       "exemple          0.001179\n",
       "km               0.000422\n",
       "80               0.000418\n",
       "vitesse          0.000236\n",
       "routes           0.000188\n",
       "niveau           0.000154\n",
       "collectivites    0.000112\n",
       "gestion          0.000106\n",
       "regions          0.000105\n",
       "tout             0.000100\n",
       "Name: exemple, dtype: float32"
      ]
     },
     "metadata": {},
     "output_type": "display_data"
    },
    {
     "name": "stdout",
     "output_type": "stream",
     "text": [
      "moyens\n"
     ]
    },
    {
     "data": {
      "text/plain": [
       "moyens           0.001193\n",
       "donner           0.000437\n",
       "transferer       0.000268\n",
       "missions         0.000176\n",
       "faut             0.000171\n",
       "collectivites    0.000157\n",
       "non                   NaN\n",
       "decision              NaN\n",
       "securite              NaN\n",
       "sais                  NaN\n",
       "Name: moyens, dtype: float32"
      ]
     },
     "metadata": {},
     "output_type": "display_data"
    },
    {
     "name": "stdout",
     "output_type": "stream",
     "text": [
      "vitesse\n"
     ]
    },
    {
     "data": {
      "text/plain": [
       "vitesse        0.001200\n",
       "limitations    0.001025\n",
       "limitation     0.000928\n",
       "km             0.000511\n",
       "routes         0.000497\n",
       "80             0.000477\n",
       "exemple        0.000236\n",
       "gestion        0.000150\n",
       "non                 NaN\n",
       "decision            NaN\n",
       "Name: vitesse, dtype: float32"
      ]
     },
     "metadata": {},
     "output_type": "display_data"
    },
    {
     "name": "stdout",
     "output_type": "stream",
     "text": [
      "services\n"
     ]
    },
    {
     "data": {
      "text/plain": [
       "services         0.001203\n",
       "publics          0.000900\n",
       "proximite        0.000336\n",
       "tous             0.000233\n",
       "sante            0.000157\n",
       "territoire       0.000139\n",
       "faut             0.000133\n",
       "gestion          0.000111\n",
       "collectivites    0.000096\n",
       "regions          0.000095\n",
       "Name: services, dtype: float32"
      ]
     },
     "metadata": {},
     "output_type": "display_data"
    },
    {
     "name": "stdout",
     "output_type": "stream",
     "text": [
      "region\n"
     ]
    },
    {
     "data": {
      "text/plain": [
       "region         0.001214\n",
       "departement    0.000541\n",
       "commune        0.000436\n",
       "niveau         0.000165\n",
       "regions        0.000137\n",
       "faut           0.000130\n",
       "gestion        0.000107\n",
       "missions       0.000082\n",
       "tout           0.000079\n",
       "non                 NaN\n",
       "Name: region, dtype: float32"
      ]
     },
     "metadata": {},
     "output_type": "display_data"
    },
    {
     "name": "stdout",
     "output_type": "stream",
     "text": [
      "non\n"
     ]
    },
    {
     "data": {
      "text/plain": [
       "non              0.001227\n",
       "oui              0.000298\n",
       "regaliennes      0.000266\n",
       "missions         0.000153\n",
       "territoriales    0.000151\n",
       "faut             0.000142\n",
       "collectivites    0.000134\n",
       "tout             0.000074\n",
       "decision              NaN\n",
       "securite              NaN\n",
       "Name: non, dtype: float32"
      ]
     },
     "metadata": {},
     "output_type": "display_data"
    },
    {
     "name": "stdout",
     "output_type": "stream",
     "text": [
      "niveau\n"
     ]
    },
    {
     "data": {
      "text/plain": [
       "niveau       0.001247\n",
       "national     0.000588\n",
       "local        0.000437\n",
       "faut         0.000165\n",
       "region       0.000165\n",
       "exemple      0.000154\n",
       "regions      0.000148\n",
       "gestion      0.000113\n",
       "tout         0.000108\n",
       "education    0.000106\n",
       "Name: niveau, dtype: float32"
      ]
     },
     "metadata": {},
     "output_type": "display_data"
    },
    {
     "name": "stdout",
     "output_type": "stream",
     "text": [
      "faire\n"
     ]
    },
    {
     "data": {
      "text/plain": [
       "faire            0.001279\n",
       "faut             0.000226\n",
       "citoyens         0.000204\n",
       "collectivites    0.000133\n",
       "tout             0.000116\n",
       "regions          0.000100\n",
       "non                   NaN\n",
       "decision              NaN\n",
       "securite              NaN\n",
       "sais                  NaN\n",
       "Name: faire, dtype: float32"
      ]
     },
     "metadata": {},
     "output_type": "display_data"
    },
    {
     "name": "stdout",
     "output_type": "stream",
     "text": [
      "securite\n"
     ]
    },
    {
     "data": {
      "text/plain": [
       "securite     0.001290\n",
       "routiere     0.000976\n",
       "justice      0.000396\n",
       "sante        0.000240\n",
       "education    0.000194\n",
       "tout         0.000105\n",
       "non               NaN\n",
       "decision          NaN\n",
       "sais              NaN\n",
       "locales           NaN\n",
       "Name: securite, dtype: float32"
      ]
     },
     "metadata": {},
     "output_type": "display_data"
    }
   ],
   "source": [
    "for i in df_qu_3_one_hot.sum(axis=0).sort_values(ascending=False).head(20).index:\n",
    "    print(i)\n",
    "    display(df_lift_3[i].sort_values(ascending=False).head(10))"
   ]
  },
  {
   "cell_type": "code",
   "execution_count": 30,
   "metadata": {},
   "outputs": [
    {
     "data": {
      "text/plain": [
       "147"
      ]
     },
     "execution_count": 30,
     "metadata": {},
     "output_type": "execute_result"
    }
   ],
   "source": [
    "gc.collect()"
   ]
  },
  {
   "cell_type": "markdown",
   "metadata": {},
   "source": [
    "# Question 4 :  Estimez-vous avoir accès aux services publics dont vous avez besoin ?"
   ]
  },
  {
   "cell_type": "code",
   "execution_count": 31,
   "metadata": {
    "collapsed": true
   },
   "outputs": [],
   "source": [
    "question_4 = \"Estimez-vous avoir accès aux services publics dont vous avez besoin ?\"\n",
    "qu_4,df_qu_4_one_hot,df_cov_4,df_confidence_4,df_lift_4 = compute_similarities(question_4, new_res)"
   ]
  },
  {
   "cell_type": "code",
   "execution_count": 32,
   "metadata": {
    "scrolled": true
   },
   "outputs": [
    {
     "name": "stdout",
     "output_type": "stream",
     "text": [
      "oui\n"
     ]
    },
    {
     "data": {
      "text/plain": [
       "oui    21197\n",
       "non        0\n",
       "Name: oui, dtype: uint16"
      ]
     },
     "metadata": {},
     "output_type": "display_data"
    },
    {
     "name": "stdout",
     "output_type": "stream",
     "text": [
      "non\n"
     ]
    },
    {
     "data": {
      "text/plain": [
       "non    10000\n",
       "oui        0\n",
       "Name: non, dtype: uint16"
      ]
     },
     "metadata": {},
     "output_type": "display_data"
    }
   ],
   "source": [
    "for i in df_qu_4_one_hot.sum(axis=0).sort_values(ascending=False).head(20).index:\n",
    "    print(i)\n",
    "    display(df_cov_4[i].sort_values(ascending=False).head(10))"
   ]
  },
  {
   "cell_type": "code",
   "execution_count": 33,
   "metadata": {
    "scrolled": true
   },
   "outputs": [
    {
     "name": "stdout",
     "output_type": "stream",
     "text": [
      "oui\n"
     ]
    },
    {
     "data": {
      "text/plain": [
       "oui    1.0\n",
       "non    0.0\n",
       "Name: oui, dtype: float32"
      ]
     },
     "metadata": {},
     "output_type": "display_data"
    },
    {
     "name": "stdout",
     "output_type": "stream",
     "text": [
      "non\n"
     ]
    },
    {
     "data": {
      "text/plain": [
       "non    1.0\n",
       "oui    0.0\n",
       "Name: non, dtype: float32"
      ]
     },
     "metadata": {},
     "output_type": "display_data"
    }
   ],
   "source": [
    "for i in df_qu_4_one_hot.sum(axis=0).sort_values(ascending=False).head(20).index:\n",
    "    print(i)\n",
    "    display(df_confidence_4[i].sort_values(ascending=False).head(10))"
   ]
  },
  {
   "cell_type": "code",
   "execution_count": 34,
   "metadata": {
    "scrolled": true
   },
   "outputs": [
    {
     "name": "stdout",
     "output_type": "stream",
     "text": [
      "oui\n"
     ]
    },
    {
     "data": {
      "text/plain": [
       "oui    0.000047\n",
       "non         NaN\n",
       "Name: oui, dtype: float32"
      ]
     },
     "metadata": {},
     "output_type": "display_data"
    },
    {
     "name": "stdout",
     "output_type": "stream",
     "text": [
      "non\n"
     ]
    },
    {
     "data": {
      "text/plain": [
       "non    0.0001\n",
       "oui       NaN\n",
       "Name: non, dtype: float32"
      ]
     },
     "metadata": {},
     "output_type": "display_data"
    }
   ],
   "source": [
    "for i in df_qu_4_one_hot.sum(axis=0).sort_values(ascending=False).head(20).index:\n",
    "    print(i)\n",
    "    display(df_lift_4[i].sort_values(ascending=False).head(10))"
   ]
  },
  {
   "cell_type": "code",
   "execution_count": 35,
   "metadata": {},
   "outputs": [
    {
     "data": {
      "text/plain": [
       "14"
      ]
     },
     "execution_count": 35,
     "metadata": {},
     "output_type": "execute_result"
    }
   ],
   "source": [
    "gc.collect()"
   ]
  },
  {
   "cell_type": "markdown",
   "metadata": {},
   "source": [
    "# Question 5 : Si non, quels types de services publics vous manquent dans votre territoire et qu'il est nécessaire de renforcer ?"
   ]
  },
  {
   "cell_type": "code",
   "execution_count": 36,
   "metadata": {
    "collapsed": true
   },
   "outputs": [],
   "source": [
    "question_5 = \"Si non, quels types de services publics vous manquent dans votre territoire et qu'il est nécessaire de renforcer ?\"\n",
    "qu_5,df_qu_5_one_hot,df_cov_5,df_confidence_5,df_lift_5 = compute_similarities(question_5, new_res)"
   ]
  },
  {
   "cell_type": "code",
   "execution_count": 37,
   "metadata": {
    "scrolled": true
   },
   "outputs": [
    {
     "name": "stdout",
     "output_type": "stream",
     "text": [
      "services\n"
     ]
    },
    {
     "data": {
      "text/plain": [
       "services    2891\n",
       "publics     1197\n",
       "acces        492\n",
       "tous         449\n",
       "sante        401\n",
       "poste        386\n",
       "faut         369\n",
       "service      346\n",
       "public       334\n",
       "internet     323\n",
       "Name: services, dtype: uint16"
      ]
     },
     "metadata": {},
     "output_type": "display_data"
    },
    {
     "name": "stdout",
     "output_type": "stream",
     "text": [
      "poste\n"
     ]
    },
    {
     "data": {
      "text/plain": [
       "poste         1466\n",
       "services       386\n",
       "impots         236\n",
       "service        206\n",
       "public         180\n",
       "transports     169\n",
       "publics        166\n",
       "hopitaux       133\n",
       "horaires       125\n",
       "sante          122\n",
       "Name: poste, dtype: uint16"
      ]
     },
     "metadata": {},
     "output_type": "display_data"
    },
    {
     "name": "stdout",
     "output_type": "stream",
     "text": [
      "service\n"
     ]
    },
    {
     "data": {
      "text/plain": [
       "service     1464\n",
       "public       598\n",
       "services     346\n",
       "poste        206\n",
       "acces        201\n",
       "publics      189\n",
       "faut         183\n",
       "tout         173\n",
       "sante        170\n",
       "impots       167\n",
       "Name: service, dtype: uint16"
      ]
     },
     "metadata": {},
     "output_type": "display_data"
    },
    {
     "name": "stdout",
     "output_type": "stream",
     "text": [
      "publics\n"
     ]
    },
    {
     "data": {
      "text/plain": [
       "publics       1421\n",
       "services      1197\n",
       "acces          275\n",
       "transports     261\n",
       "tous           245\n",
       "faut           198\n",
       "service        189\n",
       "poste          166\n",
       "public         165\n",
       "tout           162\n",
       "Name: publics, dtype: uint16"
      ]
     },
     "metadata": {},
     "output_type": "display_data"
    },
    {
     "name": "stdout",
     "output_type": "stream",
     "text": [
      "sante\n"
     ]
    },
    {
     "data": {
      "text/plain": [
       "sante         1257\n",
       "services       401\n",
       "medecins       171\n",
       "service        170\n",
       "transports     168\n",
       "acces          159\n",
       "publics        156\n",
       "education      126\n",
       "poste          122\n",
       "public         121\n",
       "Name: sante, dtype: uint16"
      ]
     },
     "metadata": {},
     "output_type": "display_data"
    },
    {
     "name": "stdout",
     "output_type": "stream",
     "text": [
      "acces\n"
     ]
    },
    {
     "data": {
      "text/plain": [
       "acces       1212\n",
       "services     492\n",
       "internet     277\n",
       "publics      275\n",
       "service      201\n",
       "public       172\n",
       "soins        163\n",
       "sante        159\n",
       "faut         149\n",
       "tous         148\n",
       "Name: acces, dtype: uint16"
      ]
     },
     "metadata": {},
     "output_type": "display_data"
    },
    {
     "name": "stdout",
     "output_type": "stream",
     "text": [
      "transports\n"
     ]
    },
    {
     "data": {
      "text/plain": [
       "transports    1147\n",
       "commun         422\n",
       "publics        261\n",
       "services       238\n",
       "poste          169\n",
       "sante          168\n",
       "acces          120\n",
       "service        112\n",
       "cas              0\n",
       "identite         0\n",
       "Name: transports, dtype: uint16"
      ]
     },
     "metadata": {},
     "output_type": "display_data"
    },
    {
     "name": "stdout",
     "output_type": "stream",
     "text": [
      "public\n"
     ]
    },
    {
     "data": {
      "text/plain": [
       "public      1028\n",
       "service      598\n",
       "services     334\n",
       "poste        180\n",
       "acces        172\n",
       "publics      165\n",
       "faut         138\n",
       "tout         123\n",
       "sante        121\n",
       "faire        109\n",
       "Name: public, dtype: uint16"
      ]
     },
     "metadata": {},
     "output_type": "display_data"
    },
    {
     "name": "stdout",
     "output_type": "stream",
     "text": [
      "internet\n"
     ]
    },
    {
     "data": {
      "text/plain": [
       "internet    968\n",
       "services    323\n",
       "acces       277\n",
       "tout        205\n",
       "service     162\n",
       "publics     162\n",
       "faire       152\n",
       "tous        149\n",
       "faut        122\n",
       "poste       122\n",
       "Name: internet, dtype: uint16"
      ]
     },
     "metadata": {},
     "output_type": "display_data"
    },
    {
     "name": "stdout",
     "output_type": "stream",
     "text": [
      "tous\n"
     ]
    },
    {
     "data": {
      "text/plain": [
       "tous        945\n",
       "services    449\n",
       "publics     245\n",
       "internet    149\n",
       "acces       148\n",
       "service     142\n",
       "faut        136\n",
       "faire       123\n",
       "tout        115\n",
       "public      108\n",
       "Name: tous, dtype: uint16"
      ]
     },
     "metadata": {},
     "output_type": "display_data"
    },
    {
     "name": "stdout",
     "output_type": "stream",
     "text": [
      "faut\n"
     ]
    },
    {
     "data": {
      "text/plain": [
       "faut        942\n",
       "services    369\n",
       "faire       246\n",
       "publics     198\n",
       "service     183\n",
       "tout        156\n",
       "acces       149\n",
       "public      138\n",
       "tous        136\n",
       "internet    122\n",
       "Name: faut, dtype: uint16"
      ]
     },
     "metadata": {},
     "output_type": "display_data"
    },
    {
     "name": "stdout",
     "output_type": "stream",
     "text": [
      "tout\n"
     ]
    },
    {
     "data": {
      "text/plain": [
       "tout        929\n",
       "services    296\n",
       "internet    205\n",
       "service     173\n",
       "faire       171\n",
       "publics     162\n",
       "faut        156\n",
       "acces       147\n",
       "public      123\n",
       "tous        115\n",
       "Name: tout, dtype: uint16"
      ]
     },
     "metadata": {},
     "output_type": "display_data"
    },
    {
     "name": "stdout",
     "output_type": "stream",
     "text": [
      "impots\n"
     ]
    },
    {
     "data": {
      "text/plain": [
       "impots      846\n",
       "services    279\n",
       "poste       236\n",
       "service     167\n",
       "centre      134\n",
       "publics     110\n",
       "caf         106\n",
       "faut        106\n",
       "communes      0\n",
       "grise         0\n",
       "Name: impots, dtype: uint16"
      ]
     },
     "metadata": {},
     "output_type": "display_data"
    },
    {
     "name": "stdout",
     "output_type": "stream",
     "text": [
      "faire\n"
     ]
    },
    {
     "data": {
      "text/plain": [
       "faire       825\n",
       "services    277\n",
       "faut        246\n",
       "tout        171\n",
       "service     159\n",
       "internet    152\n",
       "acces       129\n",
       "publics     126\n",
       "tous        123\n",
       "poste       113\n",
       "Name: faire, dtype: uint16"
      ]
     },
     "metadata": {},
     "output_type": "display_data"
    },
    {
     "name": "stdout",
     "output_type": "stream",
     "text": [
      "hopitaux\n"
     ]
    },
    {
     "data": {
      "text/plain": [
       "hopitaux     737\n",
       "services     193\n",
       "poste        133\n",
       "publics      131\n",
       "sante        121\n",
       "medecins     110\n",
       "proximite    102\n",
       "cas            0\n",
       "identite       0\n",
       "grise          0\n",
       "Name: hopitaux, dtype: uint16"
      ]
     },
     "metadata": {},
     "output_type": "display_data"
    },
    {
     "name": "stdout",
     "output_type": "stream",
     "text": [
      "medecins\n"
     ]
    },
    {
     "data": {
      "text/plain": [
       "medecins    666\n",
       "sante       171\n",
       "services    140\n",
       "service     126\n",
       "manque      124\n",
       "hopitaux    110\n",
       "ecoles        0\n",
       "cas           0\n",
       "identite      0\n",
       "grise         0\n",
       "Name: medecins, dtype: uint16"
      ]
     },
     "metadata": {},
     "output_type": "display_data"
    },
    {
     "name": "stdout",
     "output_type": "stream",
     "text": [
      "ville\n"
     ]
    },
    {
     "data": {
      "text/plain": [
       "ville        651\n",
       "services     174\n",
       "grande       164\n",
       "habite       155\n",
       "publics      107\n",
       "km             0\n",
       "identite       0\n",
       "grise          0\n",
       "emploi         0\n",
       "proximite      0\n",
       "Name: ville, dtype: uint16"
      ]
     },
     "metadata": {},
     "output_type": "display_data"
    },
    {
     "name": "stdout",
     "output_type": "stream",
     "text": [
      "manque\n"
     ]
    },
    {
     "data": {
      "text/plain": [
       "manque      644\n",
       "services    208\n",
       "service     135\n",
       "medecins    124\n",
       "publics     109\n",
       "sante       101\n",
       "ecoles        0\n",
       "cas           0\n",
       "identite      0\n",
       "grise         0\n",
       "Name: manque, dtype: uint16"
      ]
     },
     "metadata": {},
     "output_type": "display_data"
    },
    {
     "name": "stdout",
     "output_type": "stream",
     "text": [
      "proximite\n"
     ]
    },
    {
     "data": {
      "text/plain": [
       "proximite    611\n",
       "services     257\n",
       "publics      120\n",
       "service      110\n",
       "poste        108\n",
       "hopitaux     102\n",
       "sante        101\n",
       "cas            0\n",
       "identite       0\n",
       "grise          0\n",
       "Name: proximite, dtype: uint16"
      ]
     },
     "metadata": {},
     "output_type": "display_data"
    },
    {
     "name": "stdout",
     "output_type": "stream",
     "text": [
      "commun\n"
     ]
    },
    {
     "data": {
      "text/plain": [
       "commun        592\n",
       "transports    422\n",
       "transport     183\n",
       "services      107\n",
       "soins           0\n",
       "communes        0\n",
       "cas             0\n",
       "identite        0\n",
       "grise           0\n",
       "emploi          0\n",
       "Name: commun, dtype: uint16"
      ]
     },
     "metadata": {},
     "output_type": "display_data"
    }
   ],
   "source": [
    "for i in df_qu_5_one_hot.sum(axis=0).sort_values(ascending=False).head(20).index:\n",
    "    print(i)\n",
    "    display(df_cov_5[i].sort_values(ascending=False).head(10))"
   ]
  },
  {
   "cell_type": "code",
   "execution_count": 38,
   "metadata": {
    "scrolled": true
   },
   "outputs": [
    {
     "name": "stdout",
     "output_type": "stream",
     "text": [
      "services\n"
     ]
    },
    {
     "data": {
      "text/plain": [
       "services     1.000000\n",
       "publics      0.842365\n",
       "publiques    0.677852\n",
       "citoyens     0.513793\n",
       "maisons      0.496933\n",
       "tous         0.475132\n",
       "communes     0.456026\n",
       "besoin       0.433071\n",
       "villes       0.423611\n",
       "proximite    0.420622\n",
       "Name: services, dtype: float32"
      ]
     },
     "metadata": {},
     "output_type": "display_data"
    },
    {
     "name": "stdout",
     "output_type": "stream",
     "text": [
      "poste\n"
     ]
    },
    {
     "data": {
      "text/plain": [
       "poste         1.000000\n",
       "impots        0.278960\n",
       "mairie        0.277333\n",
       "horaires      0.228519\n",
       "hopital       0.207739\n",
       "hopitaux      0.180461\n",
       "proximite     0.176759\n",
       "public        0.175097\n",
       "transports    0.147341\n",
       "service       0.140710\n",
       "Name: poste, dtype: float32"
      ]
     },
     "metadata": {},
     "output_type": "display_data"
    },
    {
     "name": "stdout",
     "output_type": "stream",
     "text": [
      "service\n"
     ]
    },
    {
     "data": {
      "text/plain": [
       "service     1.000000\n",
       "public      0.581712\n",
       "exemple     0.239741\n",
       "manque      0.209627\n",
       "non         0.207792\n",
       "impots      0.197400\n",
       "faut        0.194268\n",
       "faire       0.192727\n",
       "medecins    0.189189\n",
       "tout        0.186222\n",
       "Name: service, dtype: float32"
      ]
     },
     "metadata": {},
     "output_type": "display_data"
    },
    {
     "name": "stdout",
     "output_type": "stream",
     "text": [
      "publics\n"
     ]
    },
    {
     "data": {
      "text/plain": [
       "publics       1.000000\n",
       "services      0.414044\n",
       "tous          0.259259\n",
       "transports    0.227550\n",
       "acces         0.226898\n",
       "faut          0.210191\n",
       "proximite     0.196399\n",
       "horaires      0.193784\n",
       "hopitaux      0.177748\n",
       "tout          0.174381\n",
       "Name: publics, dtype: float32"
      ]
     },
     "metadata": {},
     "output_type": "display_data"
    },
    {
     "name": "stdout",
     "output_type": "stream",
     "text": [
      "sante\n"
     ]
    },
    {
     "data": {
      "text/plain": [
       "sante         1.000000\n",
       "education     0.448399\n",
       "medecins      0.256757\n",
       "proximite     0.165303\n",
       "hopitaux      0.164179\n",
       "manque        0.156832\n",
       "transports    0.146469\n",
       "services      0.138706\n",
       "acces         0.131188\n",
       "public        0.117704\n",
       "Name: sante, dtype: float32"
      ]
     },
     "metadata": {},
     "output_type": "display_data"
    },
    {
     "name": "stdout",
     "output_type": "stream",
     "text": [
      "acces\n"
     ]
    },
    {
     "data": {
      "text/plain": [
       "acces       1.000000\n",
       "soins       0.436997\n",
       "internet    0.286157\n",
       "publics     0.193526\n",
       "horaires    0.184644\n",
       "services    0.170183\n",
       "public      0.167315\n",
       "tout        0.158235\n",
       "faut        0.158174\n",
       "tous        0.156614\n",
       "Name: acces, dtype: float32"
      ]
     },
     "metadata": {},
     "output_type": "display_data"
    },
    {
     "name": "stdout",
     "output_type": "stream",
     "text": [
      "transports\n"
     ]
    },
    {
     "data": {
      "text/plain": [
       "transports    1.000000\n",
       "commun        0.712838\n",
       "publics       0.183673\n",
       "sante         0.133652\n",
       "poste         0.115280\n",
       "acces         0.099010\n",
       "services      0.082324\n",
       "service       0.076503\n",
       "cas           0.000000\n",
       "identite      0.000000\n",
       "Name: transports, dtype: float32"
      ]
     },
     "metadata": {},
     "output_type": "display_data"
    },
    {
     "name": "stdout",
     "output_type": "stream",
     "text": [
      "public\n"
     ]
    },
    {
     "data": {
      "text/plain": [
       "public      1.000000\n",
       "service     0.408470\n",
       "faut        0.146497\n",
       "acces       0.141914\n",
       "tout        0.132400\n",
       "faire       0.132121\n",
       "poste       0.122783\n",
       "publics     0.116115\n",
       "services    0.115531\n",
       "tous        0.114286\n",
       "Name: public, dtype: float32"
      ]
     },
     "metadata": {},
     "output_type": "display_data"
    },
    {
     "name": "stdout",
     "output_type": "stream",
     "text": [
      "internet\n"
     ]
    },
    {
     "data": {
      "text/plain": [
       "internet     1.000000\n",
       "demarches    0.274359\n",
       "acces        0.228548\n",
       "tout         0.220667\n",
       "faire        0.184242\n",
       "tous         0.157672\n",
       "faut         0.129512\n",
       "publics      0.114004\n",
       "services     0.111726\n",
       "service      0.110656\n",
       "Name: internet, dtype: float32"
      ]
     },
     "metadata": {},
     "output_type": "display_data"
    },
    {
     "name": "stdout",
     "output_type": "stream",
     "text": [
      "tous\n"
     ]
    },
    {
     "data": {
      "text/plain": [
       "tous        1.000000\n",
       "publics     0.172414\n",
       "services    0.155310\n",
       "internet    0.153926\n",
       "faire       0.149091\n",
       "faut        0.144374\n",
       "tout        0.123789\n",
       "acces       0.122112\n",
       "public      0.105058\n",
       "service     0.096995\n",
       "Name: tous, dtype: float32"
      ]
     },
     "metadata": {},
     "output_type": "display_data"
    },
    {
     "name": "stdout",
     "output_type": "stream",
     "text": [
      "faut\n"
     ]
    },
    {
     "data": {
      "text/plain": [
       "faut        1.000000\n",
       "faire       0.298182\n",
       "tout        0.167922\n",
       "tous        0.143915\n",
       "publics     0.139338\n",
       "public      0.134241\n",
       "services    0.127637\n",
       "internet    0.126033\n",
       "impots      0.125296\n",
       "service     0.125000\n",
       "Name: faut, dtype: float32"
      ]
     },
     "metadata": {},
     "output_type": "display_data"
    },
    {
     "name": "stdout",
     "output_type": "stream",
     "text": [
      "tout\n"
     ]
    },
    {
     "data": {
      "text/plain": [
       "tout        1.000000\n",
       "internet    0.211777\n",
       "faire       0.207273\n",
       "faut        0.165605\n",
       "tous        0.121693\n",
       "acces       0.121287\n",
       "public      0.119650\n",
       "service     0.118169\n",
       "publics     0.114004\n",
       "services    0.102387\n",
       "Name: tout, dtype: float32"
      ]
     },
     "metadata": {},
     "output_type": "display_data"
    },
    {
     "name": "stdout",
     "output_type": "stream",
     "text": [
      "impots\n"
     ]
    },
    {
     "data": {
      "text/plain": [
       "impots      1.000000\n",
       "centre      0.452703\n",
       "caf         0.245940\n",
       "poste       0.160982\n",
       "service     0.114071\n",
       "faut        0.112527\n",
       "services    0.096506\n",
       "publics     0.077410\n",
       "communes    0.000000\n",
       "grise       0.000000\n",
       "Name: impots, dtype: float32"
      ]
     },
     "metadata": {},
     "output_type": "display_data"
    },
    {
     "name": "stdout",
     "output_type": "stream",
     "text": [
      "faire\n"
     ]
    },
    {
     "data": {
      "text/plain": [
       "faire        1.000000\n",
       "demarches    0.276923\n",
       "faut         0.261146\n",
       "carte        0.233115\n",
       "tout         0.184069\n",
       "internet     0.157025\n",
       "tous         0.130159\n",
       "service      0.108607\n",
       "acces        0.106436\n",
       "public       0.106031\n",
       "Name: faire, dtype: float32"
      ]
     },
     "metadata": {},
     "output_type": "display_data"
    },
    {
     "name": "stdout",
     "output_type": "stream",
     "text": [
      "hopitaux\n"
     ]
    },
    {
     "data": {
      "text/plain": [
       "hopitaux     1.000000\n",
       "proximite    0.166939\n",
       "medecins     0.165165\n",
       "sante        0.096261\n",
       "publics      0.092189\n",
       "poste        0.090723\n",
       "services     0.066759\n",
       "cas          0.000000\n",
       "identite     0.000000\n",
       "grise        0.000000\n",
       "Name: hopitaux, dtype: float32"
      ]
     },
     "metadata": {},
     "output_type": "display_data"
    },
    {
     "name": "stdout",
     "output_type": "stream",
     "text": [
      "medecins\n"
     ]
    },
    {
     "data": {
      "text/plain": [
       "medecins    1.000000\n",
       "manque      0.192547\n",
       "hopitaux    0.149254\n",
       "sante       0.136038\n",
       "service     0.086066\n",
       "services    0.048426\n",
       "ecoles      0.000000\n",
       "cas         0.000000\n",
       "identite    0.000000\n",
       "grise       0.000000\n",
       "Name: medecins, dtype: float32"
      ]
     },
     "metadata": {},
     "output_type": "display_data"
    },
    {
     "name": "stdout",
     "output_type": "stream",
     "text": [
      "ville\n"
     ]
    },
    {
     "data": {
      "text/plain": [
       "ville        1.000000\n",
       "grande       0.571429\n",
       "habite       0.432961\n",
       "publics      0.075299\n",
       "services     0.060187\n",
       "km           0.000000\n",
       "identite     0.000000\n",
       "grise        0.000000\n",
       "emploi       0.000000\n",
       "proximite    0.000000\n",
       "Name: ville, dtype: float32"
      ]
     },
     "metadata": {},
     "output_type": "display_data"
    },
    {
     "name": "stdout",
     "output_type": "stream",
     "text": [
      "manque\n"
     ]
    },
    {
     "data": {
      "text/plain": [
       "manque      1.000000\n",
       "medecins    0.186186\n",
       "service     0.092213\n",
       "sante       0.080350\n",
       "publics     0.076707\n",
       "services    0.071947\n",
       "ecoles      0.000000\n",
       "cas         0.000000\n",
       "identite    0.000000\n",
       "grise       0.000000\n",
       "Name: manque, dtype: float32"
      ]
     },
     "metadata": {},
     "output_type": "display_data"
    },
    {
     "name": "stdout",
     "output_type": "stream",
     "text": [
      "proximite\n"
     ]
    },
    {
     "data": {
      "text/plain": [
       "proximite    1.000000\n",
       "hopitaux     0.138399\n",
       "services     0.088897\n",
       "publics      0.084448\n",
       "sante        0.080350\n",
       "service      0.075137\n",
       "poste        0.073670\n",
       "cas          0.000000\n",
       "identite     0.000000\n",
       "grise        0.000000\n",
       "Name: proximite, dtype: float32"
      ]
     },
     "metadata": {},
     "output_type": "display_data"
    },
    {
     "name": "stdout",
     "output_type": "stream",
     "text": [
      "commun\n"
     ]
    },
    {
     "data": {
      "text/plain": [
       "commun        1.000000\n",
       "transports    0.367916\n",
       "transport     0.326786\n",
       "services      0.037011\n",
       "soins         0.000000\n",
       "communes      0.000000\n",
       "cas           0.000000\n",
       "identite      0.000000\n",
       "grise         0.000000\n",
       "emploi        0.000000\n",
       "Name: commun, dtype: float32"
      ]
     },
     "metadata": {},
     "output_type": "display_data"
    }
   ],
   "source": [
    "for i in df_qu_5_one_hot.sum(axis=0).sort_values(ascending=False).head(20).index:\n",
    "    print(i)\n",
    "    display(df_confidence_5[i].sort_values(ascending=False).head(10))"
   ]
  },
  {
   "cell_type": "code",
   "execution_count": 39,
   "metadata": {
    "scrolled": true
   },
   "outputs": [
    {
     "name": "stdout",
     "output_type": "stream",
     "text": [
      "services\n"
     ]
    },
    {
     "data": {
      "text/plain": [
       "services     0.000346\n",
       "publics      0.000291\n",
       "publiques    0.000234\n",
       "citoyens     0.000178\n",
       "maisons      0.000172\n",
       "tous         0.000164\n",
       "communes     0.000158\n",
       "besoin       0.000150\n",
       "villes       0.000147\n",
       "proximite    0.000145\n",
       "Name: services, dtype: float32"
      ]
     },
     "metadata": {},
     "output_type": "display_data"
    },
    {
     "name": "stdout",
     "output_type": "stream",
     "text": [
      "poste\n"
     ]
    },
    {
     "data": {
      "text/plain": [
       "poste         0.000682\n",
       "impots        0.000190\n",
       "mairie        0.000189\n",
       "horaires      0.000156\n",
       "hopital       0.000142\n",
       "hopitaux      0.000123\n",
       "proximite     0.000121\n",
       "public        0.000119\n",
       "transports    0.000101\n",
       "service       0.000096\n",
       "Name: poste, dtype: float32"
      ]
     },
     "metadata": {},
     "output_type": "display_data"
    },
    {
     "name": "stdout",
     "output_type": "stream",
     "text": [
      "service\n"
     ]
    },
    {
     "data": {
      "text/plain": [
       "service     0.000683\n",
       "public      0.000397\n",
       "exemple     0.000164\n",
       "manque      0.000143\n",
       "non         0.000142\n",
       "impots      0.000135\n",
       "faut        0.000133\n",
       "faire       0.000132\n",
       "medecins    0.000129\n",
       "tout        0.000127\n",
       "Name: service, dtype: float32"
      ]
     },
     "metadata": {},
     "output_type": "display_data"
    },
    {
     "name": "stdout",
     "output_type": "stream",
     "text": [
      "publics\n"
     ]
    },
    {
     "data": {
      "text/plain": [
       "publics       0.000704\n",
       "services      0.000291\n",
       "tous          0.000182\n",
       "transports    0.000160\n",
       "acces         0.000160\n",
       "faut          0.000148\n",
       "proximite     0.000138\n",
       "horaires      0.000136\n",
       "hopitaux      0.000125\n",
       "tout          0.000123\n",
       "Name: publics, dtype: float32"
      ]
     },
     "metadata": {},
     "output_type": "display_data"
    },
    {
     "name": "stdout",
     "output_type": "stream",
     "text": [
      "sante\n"
     ]
    },
    {
     "data": {
      "text/plain": [
       "sante         0.000796\n",
       "education     0.000357\n",
       "medecins      0.000204\n",
       "proximite     0.000132\n",
       "hopitaux      0.000131\n",
       "manque        0.000125\n",
       "transports    0.000117\n",
       "services      0.000110\n",
       "acces         0.000104\n",
       "public        0.000094\n",
       "Name: sante, dtype: float32"
      ]
     },
     "metadata": {},
     "output_type": "display_data"
    },
    {
     "name": "stdout",
     "output_type": "stream",
     "text": [
      "acces\n"
     ]
    },
    {
     "data": {
      "text/plain": [
       "acces       0.000825\n",
       "soins       0.000361\n",
       "internet    0.000236\n",
       "publics     0.000160\n",
       "horaires    0.000152\n",
       "services    0.000140\n",
       "public      0.000138\n",
       "tout        0.000131\n",
       "faut        0.000131\n",
       "tous        0.000129\n",
       "Name: acces, dtype: float32"
      ]
     },
     "metadata": {},
     "output_type": "display_data"
    },
    {
     "name": "stdout",
     "output_type": "stream",
     "text": [
      "transports\n"
     ]
    },
    {
     "data": {
      "text/plain": [
       "transports    0.000872\n",
       "commun        0.000621\n",
       "publics       0.000160\n",
       "sante         0.000117\n",
       "poste         0.000101\n",
       "acces         0.000086\n",
       "services      0.000072\n",
       "service       0.000067\n",
       "non                NaN\n",
       "caf                NaN\n",
       "Name: transports, dtype: float32"
      ]
     },
     "metadata": {},
     "output_type": "display_data"
    },
    {
     "name": "stdout",
     "output_type": "stream",
     "text": [
      "public\n"
     ]
    },
    {
     "data": {
      "text/plain": [
       "public      0.000973\n",
       "service     0.000397\n",
       "faut        0.000143\n",
       "acces       0.000138\n",
       "tout        0.000129\n",
       "faire       0.000129\n",
       "poste       0.000119\n",
       "publics     0.000113\n",
       "services    0.000112\n",
       "tous        0.000111\n",
       "Name: public, dtype: float32"
      ]
     },
     "metadata": {},
     "output_type": "display_data"
    },
    {
     "name": "stdout",
     "output_type": "stream",
     "text": [
      "internet\n"
     ]
    },
    {
     "data": {
      "text/plain": [
       "internet     0.001033\n",
       "demarches    0.000283\n",
       "acces        0.000236\n",
       "tout         0.000228\n",
       "faire        0.000190\n",
       "tous         0.000163\n",
       "faut         0.000134\n",
       "publics      0.000118\n",
       "services     0.000115\n",
       "service      0.000114\n",
       "Name: internet, dtype: float32"
      ]
     },
     "metadata": {},
     "output_type": "display_data"
    },
    {
     "name": "stdout",
     "output_type": "stream",
     "text": [
      "tous\n"
     ]
    },
    {
     "data": {
      "text/plain": [
       "tous        0.001058\n",
       "publics     0.000182\n",
       "services    0.000164\n",
       "internet    0.000163\n",
       "faire       0.000158\n",
       "faut        0.000153\n",
       "tout        0.000131\n",
       "acces       0.000129\n",
       "public      0.000111\n",
       "service     0.000103\n",
       "Name: tous, dtype: float32"
      ]
     },
     "metadata": {},
     "output_type": "display_data"
    },
    {
     "name": "stdout",
     "output_type": "stream",
     "text": [
      "faut\n"
     ]
    },
    {
     "data": {
      "text/plain": [
       "faut        0.001062\n",
       "faire       0.000317\n",
       "tout        0.000178\n",
       "tous        0.000153\n",
       "publics     0.000148\n",
       "public      0.000143\n",
       "services    0.000135\n",
       "internet    0.000134\n",
       "impots      0.000133\n",
       "service     0.000133\n",
       "Name: faut, dtype: float32"
      ]
     },
     "metadata": {},
     "output_type": "display_data"
    },
    {
     "name": "stdout",
     "output_type": "stream",
     "text": [
      "tout\n"
     ]
    },
    {
     "data": {
      "text/plain": [
       "tout        0.001076\n",
       "internet    0.000228\n",
       "faire       0.000223\n",
       "faut        0.000178\n",
       "tous        0.000131\n",
       "acces       0.000131\n",
       "public      0.000129\n",
       "service     0.000127\n",
       "publics     0.000123\n",
       "services    0.000110\n",
       "Name: tout, dtype: float32"
      ]
     },
     "metadata": {},
     "output_type": "display_data"
    },
    {
     "name": "stdout",
     "output_type": "stream",
     "text": [
      "impots\n"
     ]
    },
    {
     "data": {
      "text/plain": [
       "impots      0.001182\n",
       "centre      0.000535\n",
       "caf         0.000291\n",
       "poste       0.000190\n",
       "service     0.000135\n",
       "faut        0.000133\n",
       "services    0.000114\n",
       "publics     0.000092\n",
       "non              NaN\n",
       "securite         NaN\n",
       "Name: impots, dtype: float32"
      ]
     },
     "metadata": {},
     "output_type": "display_data"
    },
    {
     "name": "stdout",
     "output_type": "stream",
     "text": [
      "faire\n"
     ]
    },
    {
     "data": {
      "text/plain": [
       "faire        0.001212\n",
       "demarches    0.000336\n",
       "faut         0.000317\n",
       "carte        0.000283\n",
       "tout         0.000223\n",
       "internet     0.000190\n",
       "tous         0.000158\n",
       "service      0.000132\n",
       "acces        0.000129\n",
       "public       0.000129\n",
       "Name: faire, dtype: float32"
      ]
     },
     "metadata": {},
     "output_type": "display_data"
    },
    {
     "name": "stdout",
     "output_type": "stream",
     "text": [
      "hopitaux\n"
     ]
    },
    {
     "data": {
      "text/plain": [
       "hopitaux     0.001357\n",
       "proximite    0.000227\n",
       "medecins     0.000224\n",
       "sante        0.000131\n",
       "publics      0.000125\n",
       "poste        0.000123\n",
       "services     0.000091\n",
       "non               NaN\n",
       "caf               NaN\n",
       "securite          NaN\n",
       "Name: hopitaux, dtype: float32"
      ]
     },
     "metadata": {},
     "output_type": "display_data"
    },
    {
     "name": "stdout",
     "output_type": "stream",
     "text": [
      "medecins\n"
     ]
    },
    {
     "data": {
      "text/plain": [
       "medecins    0.001502\n",
       "manque      0.000289\n",
       "hopitaux    0.000224\n",
       "sante       0.000204\n",
       "service     0.000129\n",
       "services    0.000073\n",
       "non              NaN\n",
       "caf              NaN\n",
       "securite         NaN\n",
       "habite           NaN\n",
       "Name: medecins, dtype: float32"
      ]
     },
     "metadata": {},
     "output_type": "display_data"
    },
    {
     "name": "stdout",
     "output_type": "stream",
     "text": [
      "ville\n"
     ]
    },
    {
     "data": {
      "text/plain": [
       "ville        0.001536\n",
       "grande       0.000878\n",
       "habite       0.000665\n",
       "publics      0.000116\n",
       "services     0.000092\n",
       "non               NaN\n",
       "caf               NaN\n",
       "securite          NaN\n",
       "telephone         NaN\n",
       "carte             NaN\n",
       "Name: ville, dtype: float32"
      ]
     },
     "metadata": {},
     "output_type": "display_data"
    },
    {
     "name": "stdout",
     "output_type": "stream",
     "text": [
      "manque\n"
     ]
    },
    {
     "data": {
      "text/plain": [
       "manque      0.001553\n",
       "medecins    0.000289\n",
       "service     0.000143\n",
       "sante       0.000125\n",
       "publics     0.000119\n",
       "services    0.000112\n",
       "non              NaN\n",
       "caf              NaN\n",
       "securite         NaN\n",
       "habite           NaN\n",
       "Name: manque, dtype: float32"
      ]
     },
     "metadata": {},
     "output_type": "display_data"
    },
    {
     "name": "stdout",
     "output_type": "stream",
     "text": [
      "proximite\n"
     ]
    },
    {
     "data": {
      "text/plain": [
       "proximite    0.001637\n",
       "hopitaux     0.000227\n",
       "services     0.000145\n",
       "publics      0.000138\n",
       "sante        0.000132\n",
       "service      0.000123\n",
       "poste        0.000121\n",
       "non               NaN\n",
       "caf               NaN\n",
       "securite          NaN\n",
       "Name: proximite, dtype: float32"
      ]
     },
     "metadata": {},
     "output_type": "display_data"
    },
    {
     "name": "stdout",
     "output_type": "stream",
     "text": [
      "commun\n"
     ]
    },
    {
     "data": {
      "text/plain": [
       "commun        0.001689\n",
       "transports    0.000621\n",
       "transport     0.000552\n",
       "services      0.000063\n",
       "non                NaN\n",
       "caf                NaN\n",
       "securite           NaN\n",
       "habite             NaN\n",
       "telephone          NaN\n",
       "carte              NaN\n",
       "Name: commun, dtype: float32"
      ]
     },
     "metadata": {},
     "output_type": "display_data"
    }
   ],
   "source": [
    "for i in df_qu_5_one_hot.sum(axis=0).sort_values(ascending=False).head(20).index:\n",
    "    print(i)\n",
    "    display(df_lift_5[i].sort_values(ascending=False).head(10))"
   ]
  },
  {
   "cell_type": "code",
   "execution_count": 40,
   "metadata": {},
   "outputs": [
    {
     "data": {
      "text/plain": [
       "285"
      ]
     },
     "execution_count": 40,
     "metadata": {},
     "output_type": "execute_result"
    }
   ],
   "source": [
    "gc.collect()"
   ]
  },
  {
   "cell_type": "markdown",
   "metadata": {},
   "source": [
    "# Question 6 : Quels nouveaux services ou quelles démarches souhaitez-vous voir développées sur Internet en priorité ?"
   ]
  },
  {
   "cell_type": "code",
   "execution_count": 41,
   "metadata": {
    "collapsed": true
   },
   "outputs": [],
   "source": [
    "question_6 = \"Quels nouveaux services ou quelles démarches souhaitez-vous voir développées sur Internet en priorité ?\"\n",
    "qu_6,df_qu_6_one_hot,df_cov_6,df_confidence_6,df_lift_6 = compute_similarities(question_6, new_res)"
   ]
  },
  {
   "cell_type": "code",
   "execution_count": 42,
   "metadata": {
    "scrolled": true
   },
   "outputs": [
    {
     "name": "stdout",
     "output_type": "stream",
     "text": [
      "internet\n"
     ]
    },
    {
     "data": {
      "text/plain": [
       "internet     4931\n",
       "tout         1199\n",
       "services     1148\n",
       "demarches    1065\n",
       "acces         871\n",
       "faut          746\n",
       "tous          714\n",
       "faire         638\n",
       "pouvoir       505\n",
       "service       438\n",
       "Name: internet, dtype: uint16"
      ]
     },
     "metadata": {},
     "output_type": "display_data"
    },
    {
     "name": "stdout",
     "output_type": "stream",
     "text": [
      "services\n"
     ]
    },
    {
     "data": {
      "text/plain": [
       "services     2667\n",
       "internet     1148\n",
       "tous          751\n",
       "publics       667\n",
       "acces         474\n",
       "demarches     423\n",
       "faut          405\n",
       "tout          377\n",
       "service       270\n",
       "faire         244\n",
       "Name: services, dtype: uint16"
      ]
     },
     "metadata": {},
     "output_type": "display_data"
    },
    {
     "name": "stdout",
     "output_type": "stream",
     "text": [
      "demarches\n"
     ]
    },
    {
     "data": {
      "text/plain": [
       "demarches          2401\n",
       "internet           1065\n",
       "administratives     710\n",
       "services            423\n",
       "faire               379\n",
       "pouvoir             321\n",
       "faut                308\n",
       "tout                291\n",
       "acces               270\n",
       "tous                265\n",
       "Name: demarches, dtype: uint16"
      ]
     },
     "metadata": {},
     "output_type": "display_data"
    },
    {
     "name": "stdout",
     "output_type": "stream",
     "text": [
      "tout\n"
     ]
    },
    {
     "data": {
      "text/plain": [
       "tout         2357\n",
       "internet     1199\n",
       "services      377\n",
       "faire         371\n",
       "faut          363\n",
       "monde         357\n",
       "acces         349\n",
       "demarches     291\n",
       "tous          212\n",
       "service       205\n",
       "Name: tout, dtype: uint16"
      ]
     },
     "metadata": {},
     "output_type": "display_data"
    },
    {
     "name": "stdout",
     "output_type": "stream",
     "text": [
      "tous\n"
     ]
    },
    {
     "data": {
      "text/plain": [
       "tous         1912\n",
       "services      751\n",
       "internet      714\n",
       "acces         328\n",
       "demarches     265\n",
       "publics       219\n",
       "tout          212\n",
       "faut          208\n",
       "service       178\n",
       "faire         165\n",
       "Name: tous, dtype: uint16"
      ]
     },
     "metadata": {},
     "output_type": "display_data"
    },
    {
     "name": "stdout",
     "output_type": "stream",
     "text": [
      "acces\n"
     ]
    },
    {
     "data": {
      "text/plain": [
       "acces        1557\n",
       "internet      871\n",
       "services      474\n",
       "tout          349\n",
       "tous          328\n",
       "demarches     270\n",
       "faut          247\n",
       "service       159\n",
       "publics       158\n",
       "faire         147\n",
       "Name: acces, dtype: uint16"
      ]
     },
     "metadata": {},
     "output_type": "display_data"
    },
    {
     "name": "stdout",
     "output_type": "stream",
     "text": [
      "faut\n"
     ]
    },
    {
     "data": {
      "text/plain": [
       "faut         1323\n",
       "internet      746\n",
       "services      405\n",
       "tout          363\n",
       "demarches     308\n",
       "acces         247\n",
       "faire         227\n",
       "tous          208\n",
       "service       174\n",
       "publics       139\n",
       "Name: faut, dtype: uint16"
      ]
     },
     "metadata": {},
     "output_type": "display_data"
    },
    {
     "name": "stdout",
     "output_type": "stream",
     "text": [
      "faire\n"
     ]
    },
    {
     "data": {
      "text/plain": [
       "faire        1227\n",
       "internet      638\n",
       "demarches     379\n",
       "tout          371\n",
       "pouvoir       263\n",
       "services      244\n",
       "faut          227\n",
       "tous          165\n",
       "ligne         154\n",
       "service       152\n",
       "Name: faire, dtype: uint16"
      ]
     },
     "metadata": {},
     "output_type": "display_data"
    },
    {
     "name": "stdout",
     "output_type": "stream",
     "text": [
      "service\n"
     ]
    },
    {
     "data": {
      "text/plain": [
       "service      1201\n",
       "internet      438\n",
       "public        391\n",
       "services      270\n",
       "tout          205\n",
       "tous          178\n",
       "faut          174\n",
       "demarches     173\n",
       "acces         159\n",
       "faire         152\n",
       "Name: service, dtype: uint16"
      ]
     },
     "metadata": {},
     "output_type": "display_data"
    },
    {
     "name": "stdout",
     "output_type": "stream",
     "text": [
      "aucun\n"
     ]
    },
    {
     "data": {
      "text/plain": [
       "aucun              1001\n",
       "internet            269\n",
       "demande               0\n",
       "grise                 0\n",
       "administratifs        0\n",
       "accessible            0\n",
       "cas                   0\n",
       "agents                0\n",
       "identite              0\n",
       "administratives       0\n",
       "Name: aucun, dtype: uint16"
      ]
     },
     "metadata": {},
     "output_type": "display_data"
    },
    {
     "name": "stdout",
     "output_type": "stream",
     "text": [
      "pouvoir\n"
     ]
    },
    {
     "data": {
      "text/plain": [
       "pouvoir      943\n",
       "internet     505\n",
       "demarches    321\n",
       "faire        263\n",
       "tout         195\n",
       "services     184\n",
       "devraient    158\n",
       "tous         139\n",
       "ligne        137\n",
       "faut         117\n",
       "Name: pouvoir, dtype: uint16"
      ]
     },
     "metadata": {},
     "output_type": "display_data"
    },
    {
     "name": "stdout",
     "output_type": "stream",
     "text": [
      "ligne\n"
     ]
    },
    {
     "data": {
      "text/plain": [
       "ligne             865\n",
       "demarches         235\n",
       "services          216\n",
       "internet          164\n",
       "tout              158\n",
       "faire             154\n",
       "pouvoir           137\n",
       "tous              135\n",
       "service           118\n",
       "administratifs      0\n",
       "Name: ligne, dtype: uint16"
      ]
     },
     "metadata": {},
     "output_type": "display_data"
    },
    {
     "name": "stdout",
     "output_type": "stream",
     "text": [
      "administratives\n"
     ]
    },
    {
     "data": {
      "text/plain": [
       "administratives    843\n",
       "demarches          710\n",
       "internet           298\n",
       "services           110\n",
       "pouvoir            108\n",
       "faire              104\n",
       "demande              0\n",
       "identite             0\n",
       "administratifs       0\n",
       "accessible           0\n",
       "Name: administratives, dtype: uint16"
      ]
     },
     "metadata": {},
     "output_type": "display_data"
    },
    {
     "name": "stdout",
     "output_type": "stream",
     "text": [
      "publics\n"
     ]
    },
    {
     "data": {
      "text/plain": [
       "publics            778\n",
       "services           667\n",
       "internet           355\n",
       "tous               219\n",
       "acces              158\n",
       "faut               139\n",
       "demarches          135\n",
       "tout               135\n",
       "ligne                0\n",
       "administratives      0\n",
       "Name: publics, dtype: uint16"
      ]
     },
     "metadata": {},
     "output_type": "display_data"
    },
    {
     "name": "stdout",
     "output_type": "stream",
     "text": [
      "carte\n"
     ]
    },
    {
     "data": {
      "text/plain": [
       "carte             733\n",
       "identite          384\n",
       "grise             357\n",
       "passeport         229\n",
       "internet          176\n",
       "demarches         140\n",
       "permis            130\n",
       "services          113\n",
       "administratifs      0\n",
       "accessible          0\n",
       "Name: carte, dtype: uint16"
      ]
     },
     "metadata": {},
     "output_type": "display_data"
    },
    {
     "name": "stdout",
     "output_type": "stream",
     "text": [
      "identite\n"
     ]
    },
    {
     "data": {
      "text/plain": [
       "identite          679\n",
       "carte             384\n",
       "passeport         230\n",
       "papiers           126\n",
       "permis            124\n",
       "cartes            108\n",
       "demarches         105\n",
       "internet          104\n",
       "demande             0\n",
       "administratifs      0\n",
       "Name: identite, dtype: uint16"
      ]
     },
     "metadata": {},
     "output_type": "display_data"
    },
    {
     "name": "stdout",
     "output_type": "stream",
     "text": [
      "exemple\n"
     ]
    },
    {
     "data": {
      "text/plain": [
       "exemple      648\n",
       "internet     252\n",
       "services     190\n",
       "demarches    157\n",
       "tout         144\n",
       "faire        122\n",
       "faut         117\n",
       "tous         114\n",
       "vote           0\n",
       "besoin         0\n",
       "Name: exemple, dtype: uint16"
      ]
     },
     "metadata": {},
     "output_type": "display_data"
    },
    {
     "name": "stdout",
     "output_type": "stream",
     "text": [
      "impots\n"
     ]
    },
    {
     "data": {
      "text/plain": [
       "impots       640\n",
       "internet     195\n",
       "services     155\n",
       "demarches    131\n",
       "tout         126\n",
       "caf          104\n",
       "publics        0\n",
       "demarche       0\n",
       "vote           0\n",
       "proximite      0\n",
       "Name: impots, dtype: uint16"
      ]
     },
     "metadata": {},
     "output_type": "display_data"
    },
    {
     "name": "stdout",
     "output_type": "stream",
     "text": [
      "numerique\n"
     ]
    },
    {
     "data": {
      "text/plain": [
       "numerique         603\n",
       "tout              177\n",
       "internet          176\n",
       "services          142\n",
       "faut              115\n",
       "demarches         113\n",
       "acces             103\n",
       "identite            0\n",
       "administratifs      0\n",
       "accessible          0\n",
       "Name: numerique, dtype: uint16"
      ]
     },
     "metadata": {},
     "output_type": "display_data"
    },
    {
     "name": "stdout",
     "output_type": "stream",
     "text": [
      "public\n"
     ]
    },
    {
     "data": {
      "text/plain": [
       "public            593\n",
       "service           391\n",
       "internet          237\n",
       "services          183\n",
       "tous              103\n",
       "tout              103\n",
       "faut              101\n",
       "caf                 0\n",
       "grise               0\n",
       "administratifs      0\n",
       "Name: public, dtype: uint16"
      ]
     },
     "metadata": {},
     "output_type": "display_data"
    }
   ],
   "source": [
    "for i in df_qu_6_one_hot.sum(axis=0).sort_values(ascending=False).head(20).index:\n",
    "    print(i)\n",
    "    display(df_cov_6[i].sort_values(ascending=False).head(10))"
   ]
  },
  {
   "cell_type": "code",
   "execution_count": 43,
   "metadata": {
    "scrolled": true
   },
   "outputs": [
    {
     "name": "stdout",
     "output_type": "stream",
     "text": [
      "internet\n"
     ]
    },
    {
     "data": {
      "text/plain": [
       "internet       1.000000\n",
       "monde          0.775362\n",
       "utiliser       0.737828\n",
       "agees          0.681128\n",
       "devraient      0.671642\n",
       "accessibles    0.654237\n",
       "accessible     0.626712\n",
       "developper     0.610548\n",
       "faudrait       0.603217\n",
       "faut           0.563870\n",
       "Name: internet, dtype: float32"
      ]
     },
     "metadata": {},
     "output_type": "display_data"
    },
    {
     "name": "stdout",
     "output_type": "stream",
     "text": [
      "services\n"
     ]
    },
    {
     "data": {
      "text/plain": [
       "services          1.000000\n",
       "publics           0.857327\n",
       "accessibles       0.511864\n",
       "proximite         0.490842\n",
       "developper        0.442191\n",
       "tous              0.392782\n",
       "administratifs    0.359322\n",
       "faudrait          0.353887\n",
       "devraient         0.350746\n",
       "public            0.308600\n",
       "Name: services, dtype: float32"
      ]
     },
     "metadata": {},
     "output_type": "display_data"
    },
    {
     "name": "stdout",
     "output_type": "stream",
     "text": [
      "demarches\n"
     ]
    },
    {
     "data": {
      "text/plain": [
       "demarches          1.000000\n",
       "administratives    0.842230\n",
       "devraient          0.542289\n",
       "ensemble           0.399267\n",
       "accessibles        0.379661\n",
       "pouvoir            0.340403\n",
       "faire              0.308883\n",
       "ligne              0.271676\n",
       "cas                0.259528\n",
       "developper         0.257606\n",
       "Name: demarches, dtype: float32"
      ]
     },
     "metadata": {},
     "output_type": "display_data"
    },
    {
     "name": "stdout",
     "output_type": "stream",
     "text": [
      "tout\n"
     ]
    },
    {
     "data": {
      "text/plain": [
       "tout          1.000000\n",
       "monde         0.862319\n",
       "accessible    0.345890\n",
       "faire         0.302363\n",
       "numerique     0.293532\n",
       "temps         0.280654\n",
       "faut          0.274376\n",
       "cas           0.255898\n",
       "internet      0.243156\n",
       "agees         0.227766\n",
       "Name: tout, dtype: float32"
      ]
     },
     "metadata": {},
     "output_type": "display_data"
    },
    {
     "name": "stdout",
     "output_type": "stream",
     "text": [
      "tous\n"
     ]
    },
    {
     "data": {
      "text/plain": [
       "tous           1.000000\n",
       "accessibles    0.379661\n",
       "accessible     0.356164\n",
       "devraient      0.300995\n",
       "services       0.281590\n",
       "publics        0.281491\n",
       "citoyens       0.220588\n",
       "acces          0.210662\n",
       "cas            0.206897\n",
       "exemple        0.175926\n",
       "Name: tous, dtype: float32"
      ]
     },
     "metadata": {},
     "output_type": "display_data"
    },
    {
     "name": "stdout",
     "output_type": "stream",
     "text": [
      "acces\n"
     ]
    },
    {
     "data": {
      "text/plain": [
       "acces       1.000000\n",
       "monde       0.323671\n",
       "agees       0.255965\n",
       "citoyens    0.211397\n",
       "publics     0.203085\n",
       "cas         0.192377\n",
       "faut        0.186697\n",
       "services    0.177728\n",
       "internet    0.176638\n",
       "tous        0.171548\n",
       "Name: acces, dtype: float32"
      ]
     },
     "metadata": {},
     "output_type": "display_data"
    },
    {
     "name": "stdout",
     "output_type": "stream",
     "text": [
      "faut\n"
     ]
    },
    {
     "data": {
      "text/plain": [
       "faut          1.000000\n",
       "developper    0.267748\n",
       "monde         0.251208\n",
       "agees         0.221258\n",
       "humain        0.219697\n",
       "numerique     0.190713\n",
       "faire         0.185004\n",
       "exemple       0.180556\n",
       "publics       0.178663\n",
       "public        0.170320\n",
       "Name: faut, dtype: float32"
      ]
     },
     "metadata": {},
     "output_type": "display_data"
    },
    {
     "name": "stdout",
     "output_type": "stream",
     "text": [
      "faire\n"
     ]
    },
    {
     "data": {
      "text/plain": [
       "faire              1.000000\n",
       "pouvoir            0.278897\n",
       "exemple            0.188272\n",
       "ligne              0.178035\n",
       "faut               0.171580\n",
       "demarches          0.157851\n",
       "tout               0.157403\n",
       "internet           0.129386\n",
       "service            0.126561\n",
       "administratives    0.123369\n",
       "Name: faire, dtype: float32"
      ]
     },
     "metadata": {},
     "output_type": "display_data"
    },
    {
     "name": "stdout",
     "output_type": "stream",
     "text": [
      "service\n"
     ]
    },
    {
     "data": {
      "text/plain": [
       "service     1.000000\n",
       "public      0.659359\n",
       "ligne       0.136416\n",
       "faut        0.131519\n",
       "faire       0.123879\n",
       "acces       0.102119\n",
       "services    0.101237\n",
       "tous        0.093096\n",
       "internet    0.088826\n",
       "tout        0.086975\n",
       "Name: service, dtype: float32"
      ]
     },
     "metadata": {},
     "output_type": "display_data"
    },
    {
     "name": "stdout",
     "output_type": "stream",
     "text": [
      "aucun\n"
     ]
    },
    {
     "data": {
      "text/plain": [
       "aucun              1.000000\n",
       "internet           0.054553\n",
       "demande            0.000000\n",
       "grise              0.000000\n",
       "administratifs     0.000000\n",
       "accessible         0.000000\n",
       "cas                0.000000\n",
       "agents             0.000000\n",
       "identite           0.000000\n",
       "administratives    0.000000\n",
       "Name: aucun, dtype: float32"
      ]
     },
     "metadata": {},
     "output_type": "display_data"
    },
    {
     "name": "stdout",
     "output_type": "stream",
     "text": [
      "pouvoir\n"
     ]
    },
    {
     "data": {
      "text/plain": [
       "pouvoir            1.000000\n",
       "devraient          0.393035\n",
       "faire              0.214344\n",
       "ligne              0.158382\n",
       "demarches          0.133694\n",
       "administratives    0.128114\n",
       "internet           0.102413\n",
       "faut               0.088435\n",
       "tout               0.082732\n",
       "tous               0.072699\n",
       "Name: pouvoir, dtype: float32"
      ]
     },
     "metadata": {},
     "output_type": "display_data"
    },
    {
     "name": "stdout",
     "output_type": "stream",
     "text": [
      "ligne\n"
     ]
    },
    {
     "data": {
      "text/plain": [
       "ligne             1.000000\n",
       "pouvoir           0.145281\n",
       "faire             0.125509\n",
       "service           0.098251\n",
       "demarches         0.097876\n",
       "services          0.080990\n",
       "tous              0.070607\n",
       "tout              0.067034\n",
       "internet          0.033259\n",
       "administratifs    0.000000\n",
       "Name: ligne, dtype: float32"
      ]
     },
     "metadata": {},
     "output_type": "display_data"
    },
    {
     "name": "stdout",
     "output_type": "stream",
     "text": [
      "administratives\n"
     ]
    },
    {
     "data": {
      "text/plain": [
       "administratives    1.000000\n",
       "demarches          0.295710\n",
       "pouvoir            0.114528\n",
       "faire              0.084760\n",
       "internet           0.060434\n",
       "services           0.041245\n",
       "demande            0.000000\n",
       "identite           0.000000\n",
       "administratifs     0.000000\n",
       "accessible         0.000000\n",
       "Name: administratives, dtype: float32"
      ]
     },
     "metadata": {},
     "output_type": "display_data"
    },
    {
     "name": "stdout",
     "output_type": "stream",
     "text": [
      "publics\n"
     ]
    },
    {
     "data": {
      "text/plain": [
       "publics      1.000000\n",
       "services     0.250094\n",
       "tous         0.114540\n",
       "faut         0.105064\n",
       "acces        0.101477\n",
       "internet     0.071994\n",
       "tout         0.057276\n",
       "demarches    0.056227\n",
       "proximite    0.000000\n",
       "ligne        0.000000\n",
       "Name: publics, dtype: float32"
      ]
     },
     "metadata": {},
     "output_type": "display_data"
    },
    {
     "name": "stdout",
     "output_type": "stream",
     "text": [
      "carte\n"
     ]
    },
    {
     "data": {
      "text/plain": [
       "carte             1.000000\n",
       "grise             0.970109\n",
       "passeport         0.596354\n",
       "identite          0.565538\n",
       "permis            0.316302\n",
       "demarches         0.058309\n",
       "services          0.042370\n",
       "internet          0.035693\n",
       "administratifs    0.000000\n",
       "accessible        0.000000\n",
       "Name: carte, dtype: float32"
      ]
     },
     "metadata": {},
     "output_type": "display_data"
    },
    {
     "name": "stdout",
     "output_type": "stream",
     "text": [
      "identite\n"
     ]
    },
    {
     "data": {
      "text/plain": [
       "identite          1.000000\n",
       "passeport         0.598958\n",
       "carte             0.523874\n",
       "papiers           0.484615\n",
       "cartes            0.304225\n",
       "permis            0.301703\n",
       "demarches         0.043732\n",
       "internet          0.021091\n",
       "demande           0.000000\n",
       "administratifs    0.000000\n",
       "Name: identite, dtype: float32"
      ]
     },
     "metadata": {},
     "output_type": "display_data"
    },
    {
     "name": "stdout",
     "output_type": "stream",
     "text": [
      "exemple\n"
     ]
    },
    {
     "data": {
      "text/plain": [
       "exemple            1.000000\n",
       "faire              0.099430\n",
       "faut               0.088435\n",
       "services           0.071241\n",
       "demarches          0.065389\n",
       "tout               0.061095\n",
       "tous               0.059623\n",
       "internet           0.051105\n",
       "ligne              0.000000\n",
       "administratives    0.000000\n",
       "Name: exemple, dtype: float32"
      ]
     },
     "metadata": {},
     "output_type": "display_data"
    },
    {
     "name": "stdout",
     "output_type": "stream",
     "text": [
      "impots\n"
     ]
    },
    {
     "data": {
      "text/plain": [
       "impots       1.000000\n",
       "caf          0.351351\n",
       "services     0.058118\n",
       "demarches    0.054561\n",
       "tout         0.053458\n",
       "internet     0.039546\n",
       "publics      0.000000\n",
       "vote         0.000000\n",
       "demarche     0.000000\n",
       "proximite    0.000000\n",
       "Name: impots, dtype: float32"
      ]
     },
     "metadata": {},
     "output_type": "display_data"
    },
    {
     "name": "stdout",
     "output_type": "stream",
     "text": [
      "numerique\n"
     ]
    },
    {
     "data": {
      "text/plain": [
       "numerique         1.000000\n",
       "faut              0.086924\n",
       "tout              0.075095\n",
       "acces             0.066153\n",
       "services          0.053243\n",
       "demarches         0.047064\n",
       "internet          0.035693\n",
       "identite          0.000000\n",
       "administratifs    0.000000\n",
       "accessible        0.000000\n",
       "Name: numerique, dtype: float32"
      ]
     },
     "metadata": {},
     "output_type": "display_data"
    },
    {
     "name": "stdout",
     "output_type": "stream",
     "text": [
      "public\n"
     ]
    },
    {
     "data": {
      "text/plain": [
       "public        1.000000\n",
       "service       0.325562\n",
       "faut          0.076342\n",
       "services      0.068616\n",
       "tous          0.053870\n",
       "internet      0.048063\n",
       "tout          0.043700\n",
       "securite      0.000000\n",
       "developper    0.000000\n",
       "demarche      0.000000\n",
       "Name: public, dtype: float32"
      ]
     },
     "metadata": {},
     "output_type": "display_data"
    }
   ],
   "source": [
    "for i in df_qu_6_one_hot.sum(axis=0).sort_values(ascending=False).head(20).index:\n",
    "    print(i)\n",
    "    display(df_confidence_6[i].sort_values(ascending=False).head(10))"
   ]
  },
  {
   "cell_type": "code",
   "execution_count": 44,
   "metadata": {
    "scrolled": true
   },
   "outputs": [
    {
     "name": "stdout",
     "output_type": "stream",
     "text": [
      "internet\n"
     ]
    },
    {
     "data": {
      "text/plain": [
       "internet       0.000203\n",
       "monde          0.000157\n",
       "utiliser       0.000150\n",
       "agees          0.000138\n",
       "devraient      0.000136\n",
       "accessibles    0.000133\n",
       "accessible     0.000127\n",
       "developper     0.000124\n",
       "faudrait       0.000122\n",
       "faut           0.000114\n",
       "Name: internet, dtype: float32"
      ]
     },
     "metadata": {},
     "output_type": "display_data"
    },
    {
     "name": "stdout",
     "output_type": "stream",
     "text": [
      "services\n"
     ]
    },
    {
     "data": {
      "text/plain": [
       "services          0.000375\n",
       "publics           0.000321\n",
       "accessibles       0.000192\n",
       "proximite         0.000184\n",
       "developper        0.000166\n",
       "tous              0.000147\n",
       "administratifs    0.000135\n",
       "faudrait          0.000133\n",
       "devraient         0.000132\n",
       "public            0.000116\n",
       "Name: services, dtype: float32"
      ]
     },
     "metadata": {},
     "output_type": "display_data"
    },
    {
     "name": "stdout",
     "output_type": "stream",
     "text": [
      "demarches\n"
     ]
    },
    {
     "data": {
      "text/plain": [
       "demarches          0.000416\n",
       "administratives    0.000351\n",
       "devraient          0.000226\n",
       "ensemble           0.000166\n",
       "accessibles        0.000158\n",
       "pouvoir            0.000142\n",
       "faire              0.000129\n",
       "ligne              0.000113\n",
       "cas                0.000108\n",
       "developper         0.000107\n",
       "Name: demarches, dtype: float32"
      ]
     },
     "metadata": {},
     "output_type": "display_data"
    },
    {
     "name": "stdout",
     "output_type": "stream",
     "text": [
      "tout\n"
     ]
    },
    {
     "data": {
      "text/plain": [
       "tout          0.000424\n",
       "monde         0.000366\n",
       "accessible    0.000147\n",
       "faire         0.000128\n",
       "numerique     0.000125\n",
       "temps         0.000119\n",
       "faut          0.000116\n",
       "cas           0.000109\n",
       "internet      0.000103\n",
       "agees         0.000097\n",
       "Name: tout, dtype: float32"
      ]
     },
     "metadata": {},
     "output_type": "display_data"
    },
    {
     "name": "stdout",
     "output_type": "stream",
     "text": [
      "tous\n"
     ]
    },
    {
     "data": {
      "text/plain": [
       "tous           0.000523\n",
       "accessibles    0.000199\n",
       "accessible     0.000186\n",
       "devraient      0.000157\n",
       "services       0.000147\n",
       "publics        0.000147\n",
       "citoyens       0.000115\n",
       "acces          0.000110\n",
       "cas            0.000108\n",
       "exemple        0.000092\n",
       "Name: tous, dtype: float32"
      ]
     },
     "metadata": {},
     "output_type": "display_data"
    },
    {
     "name": "stdout",
     "output_type": "stream",
     "text": [
      "acces\n"
     ]
    },
    {
     "data": {
      "text/plain": [
       "acces       0.000642\n",
       "monde       0.000208\n",
       "agees       0.000164\n",
       "citoyens    0.000136\n",
       "publics     0.000130\n",
       "cas         0.000124\n",
       "faut        0.000120\n",
       "services    0.000114\n",
       "internet    0.000113\n",
       "tous        0.000110\n",
       "Name: acces, dtype: float32"
      ]
     },
     "metadata": {},
     "output_type": "display_data"
    },
    {
     "name": "stdout",
     "output_type": "stream",
     "text": [
      "faut\n"
     ]
    },
    {
     "data": {
      "text/plain": [
       "faut          0.000756\n",
       "developper    0.000202\n",
       "monde         0.000190\n",
       "agees         0.000167\n",
       "humain        0.000166\n",
       "numerique     0.000144\n",
       "faire         0.000140\n",
       "exemple       0.000136\n",
       "publics       0.000135\n",
       "public        0.000129\n",
       "Name: faut, dtype: float32"
      ]
     },
     "metadata": {},
     "output_type": "display_data"
    },
    {
     "name": "stdout",
     "output_type": "stream",
     "text": [
      "faire\n"
     ]
    },
    {
     "data": {
      "text/plain": [
       "faire              0.000815\n",
       "pouvoir            0.000227\n",
       "exemple            0.000153\n",
       "ligne              0.000145\n",
       "faut               0.000140\n",
       "demarches          0.000129\n",
       "tout               0.000128\n",
       "internet           0.000105\n",
       "service            0.000103\n",
       "administratives    0.000101\n",
       "Name: faire, dtype: float32"
      ]
     },
     "metadata": {},
     "output_type": "display_data"
    },
    {
     "name": "stdout",
     "output_type": "stream",
     "text": [
      "service\n"
     ]
    },
    {
     "data": {
      "text/plain": [
       "service     0.000833\n",
       "public      0.000549\n",
       "ligne       0.000114\n",
       "faut        0.000110\n",
       "faire       0.000103\n",
       "acces       0.000085\n",
       "services    0.000084\n",
       "tous        0.000078\n",
       "internet    0.000074\n",
       "tout        0.000072\n",
       "Name: service, dtype: float32"
      ]
     },
     "metadata": {},
     "output_type": "display_data"
    },
    {
     "name": "stdout",
     "output_type": "stream",
     "text": [
      "aucun\n"
     ]
    },
    {
     "data": {
      "text/plain": [
       "aucun         0.000999\n",
       "internet      0.000054\n",
       "non                NaN\n",
       "numerique          NaN\n",
       "caf                NaN\n",
       "securite           NaN\n",
       "developper         NaN\n",
       "carte              NaN\n",
       "impots             NaN\n",
       "faudrait           NaN\n",
       "Name: aucun, dtype: float32"
      ]
     },
     "metadata": {},
     "output_type": "display_data"
    },
    {
     "name": "stdout",
     "output_type": "stream",
     "text": [
      "pouvoir\n"
     ]
    },
    {
     "data": {
      "text/plain": [
       "pouvoir            0.001060\n",
       "devraient          0.000417\n",
       "faire              0.000227\n",
       "ligne              0.000168\n",
       "demarches          0.000142\n",
       "administratives    0.000136\n",
       "internet           0.000109\n",
       "faut               0.000094\n",
       "tout               0.000088\n",
       "tous               0.000077\n",
       "Name: pouvoir, dtype: float32"
      ]
     },
     "metadata": {},
     "output_type": "display_data"
    },
    {
     "name": "stdout",
     "output_type": "stream",
     "text": [
      "ligne\n"
     ]
    },
    {
     "data": {
      "text/plain": [
       "ligne        0.001156\n",
       "pouvoir      0.000168\n",
       "faire        0.000145\n",
       "service      0.000114\n",
       "demarches    0.000113\n",
       "services     0.000094\n",
       "tous         0.000082\n",
       "tout         0.000077\n",
       "internet     0.000038\n",
       "non               NaN\n",
       "Name: ligne, dtype: float32"
      ]
     },
     "metadata": {},
     "output_type": "display_data"
    },
    {
     "name": "stdout",
     "output_type": "stream",
     "text": [
      "administratives\n"
     ]
    },
    {
     "data": {
      "text/plain": [
       "administratives    0.001186\n",
       "demarches          0.000351\n",
       "pouvoir            0.000136\n",
       "faire              0.000101\n",
       "internet           0.000072\n",
       "services           0.000049\n",
       "non                     NaN\n",
       "numerique               NaN\n",
       "caf                     NaN\n",
       "securite                NaN\n",
       "Name: administratives, dtype: float32"
      ]
     },
     "metadata": {},
     "output_type": "display_data"
    },
    {
     "name": "stdout",
     "output_type": "stream",
     "text": [
      "publics\n"
     ]
    },
    {
     "data": {
      "text/plain": [
       "publics      0.001285\n",
       "services     0.000321\n",
       "tous         0.000147\n",
       "faut         0.000135\n",
       "acces        0.000130\n",
       "internet     0.000093\n",
       "tout         0.000074\n",
       "demarches    0.000072\n",
       "non               NaN\n",
       "numerique         NaN\n",
       "Name: publics, dtype: float32"
      ]
     },
     "metadata": {},
     "output_type": "display_data"
    },
    {
     "name": "stdout",
     "output_type": "stream",
     "text": [
      "carte\n"
     ]
    },
    {
     "data": {
      "text/plain": [
       "carte        0.001364\n",
       "grise        0.001323\n",
       "passeport    0.000814\n",
       "identite     0.000772\n",
       "permis       0.000432\n",
       "demarches    0.000080\n",
       "services     0.000058\n",
       "internet     0.000049\n",
       "non               NaN\n",
       "numerique         NaN\n",
       "Name: carte, dtype: float32"
      ]
     },
     "metadata": {},
     "output_type": "display_data"
    },
    {
     "name": "stdout",
     "output_type": "stream",
     "text": [
      "identite\n"
     ]
    },
    {
     "data": {
      "text/plain": [
       "identite     0.001473\n",
       "passeport    0.000882\n",
       "carte        0.000772\n",
       "papiers      0.000714\n",
       "cartes       0.000448\n",
       "permis       0.000444\n",
       "demarches    0.000064\n",
       "internet     0.000031\n",
       "non               NaN\n",
       "numerique         NaN\n",
       "Name: identite, dtype: float32"
      ]
     },
     "metadata": {},
     "output_type": "display_data"
    },
    {
     "name": "stdout",
     "output_type": "stream",
     "text": [
      "exemple\n"
     ]
    },
    {
     "data": {
      "text/plain": [
       "exemple      0.001543\n",
       "faire        0.000153\n",
       "faut         0.000136\n",
       "services     0.000110\n",
       "demarches    0.000101\n",
       "tout         0.000094\n",
       "tous         0.000092\n",
       "internet     0.000079\n",
       "non               NaN\n",
       "numerique         NaN\n",
       "Name: exemple, dtype: float32"
      ]
     },
     "metadata": {},
     "output_type": "display_data"
    },
    {
     "name": "stdout",
     "output_type": "stream",
     "text": [
      "impots\n"
     ]
    },
    {
     "data": {
      "text/plain": [
       "impots        0.001563\n",
       "caf           0.000549\n",
       "services      0.000091\n",
       "demarches     0.000085\n",
       "tout          0.000084\n",
       "internet      0.000062\n",
       "non                NaN\n",
       "numerique          NaN\n",
       "securite           NaN\n",
       "developper         NaN\n",
       "Name: impots, dtype: float32"
      ]
     },
     "metadata": {},
     "output_type": "display_data"
    },
    {
     "name": "stdout",
     "output_type": "stream",
     "text": [
      "numerique\n"
     ]
    },
    {
     "data": {
      "text/plain": [
       "numerique    0.001658\n",
       "faut         0.000144\n",
       "tout         0.000125\n",
       "acces        0.000110\n",
       "services     0.000088\n",
       "demarches    0.000078\n",
       "internet     0.000059\n",
       "non               NaN\n",
       "caf               NaN\n",
       "securite          NaN\n",
       "Name: numerique, dtype: float32"
      ]
     },
     "metadata": {},
     "output_type": "display_data"
    },
    {
     "name": "stdout",
     "output_type": "stream",
     "text": [
      "public\n"
     ]
    },
    {
     "data": {
      "text/plain": [
       "public       0.001686\n",
       "service      0.000549\n",
       "faut         0.000129\n",
       "services     0.000116\n",
       "tous         0.000091\n",
       "internet     0.000081\n",
       "tout         0.000074\n",
       "non               NaN\n",
       "numerique         NaN\n",
       "caf               NaN\n",
       "Name: public, dtype: float32"
      ]
     },
     "metadata": {},
     "output_type": "display_data"
    }
   ],
   "source": [
    "for i in df_qu_6_one_hot.sum(axis=0).sort_values(ascending=False).head(20).index:\n",
    "    print(i)\n",
    "    display(df_lift_6[i].sort_values(ascending=False).head(10))"
   ]
  },
  {
   "cell_type": "code",
   "execution_count": 45,
   "metadata": {},
   "outputs": [
    {
     "data": {
      "text/plain": [
       "147"
      ]
     },
     "execution_count": 45,
     "metadata": {},
     "output_type": "execute_result"
    }
   ],
   "source": [
    "gc.collect()"
   ]
  },
  {
   "cell_type": "markdown",
   "metadata": {},
   "source": [
    "# Question 7 :  Avez-vous déjà utilisé certaines de ces nouvelles formes de services publics ?"
   ]
  },
  {
   "cell_type": "code",
   "execution_count": 46,
   "metadata": {
    "collapsed": true
   },
   "outputs": [],
   "source": [
    "question_7 = \"Avez-vous déjà utilisé certaines de ces nouvelles formes de services publics ?\"\n",
    "qu_7,df_qu_7_one_hot,df_cov_7,df_confidence_7,df_lift_7 = compute_similarities(question_7, new_res)"
   ]
  },
  {
   "cell_type": "code",
   "execution_count": 47,
   "metadata": {
    "scrolled": true
   },
   "outputs": [
    {
     "name": "stdout",
     "output_type": "stream",
     "text": [
      "non\n"
     ]
    },
    {
     "data": {
      "text/plain": [
       "non    21522\n",
       "oui        0\n",
       "Name: non, dtype: uint16"
      ]
     },
     "metadata": {},
     "output_type": "display_data"
    },
    {
     "name": "stdout",
     "output_type": "stream",
     "text": [
      "oui\n"
     ]
    },
    {
     "data": {
      "text/plain": [
       "oui    8334\n",
       "non       0\n",
       "Name: oui, dtype: uint16"
      ]
     },
     "metadata": {},
     "output_type": "display_data"
    }
   ],
   "source": [
    "for i in df_qu_7_one_hot.sum(axis=0).sort_values(ascending=False).head(20).index:\n",
    "    print(i)\n",
    "    display(df_cov_7[i].sort_values(ascending=False).head(10))"
   ]
  },
  {
   "cell_type": "code",
   "execution_count": 48,
   "metadata": {
    "scrolled": true
   },
   "outputs": [
    {
     "name": "stdout",
     "output_type": "stream",
     "text": [
      "non\n"
     ]
    },
    {
     "data": {
      "text/plain": [
       "non    1.0\n",
       "oui    0.0\n",
       "Name: non, dtype: float32"
      ]
     },
     "metadata": {},
     "output_type": "display_data"
    },
    {
     "name": "stdout",
     "output_type": "stream",
     "text": [
      "oui\n"
     ]
    },
    {
     "data": {
      "text/plain": [
       "oui    1.0\n",
       "non    0.0\n",
       "Name: oui, dtype: float32"
      ]
     },
     "metadata": {},
     "output_type": "display_data"
    }
   ],
   "source": [
    "for i in df_qu_7_one_hot.sum(axis=0).sort_values(ascending=False).head(20).index:\n",
    "    print(i)\n",
    "    display(df_confidence_7[i].sort_values(ascending=False).head(10))"
   ]
  },
  {
   "cell_type": "code",
   "execution_count": 49,
   "metadata": {
    "scrolled": true
   },
   "outputs": [
    {
     "name": "stdout",
     "output_type": "stream",
     "text": [
      "non\n"
     ]
    },
    {
     "data": {
      "text/plain": [
       "non    0.000046\n",
       "oui         NaN\n",
       "Name: non, dtype: float32"
      ]
     },
     "metadata": {},
     "output_type": "display_data"
    },
    {
     "name": "stdout",
     "output_type": "stream",
     "text": [
      "oui\n"
     ]
    },
    {
     "data": {
      "text/plain": [
       "oui    0.00012\n",
       "non        NaN\n",
       "Name: oui, dtype: float32"
      ]
     },
     "metadata": {},
     "output_type": "display_data"
    }
   ],
   "source": [
    "for i in df_qu_7_one_hot.sum(axis=0).sort_values(ascending=False).head(20).index:\n",
    "    print(i)\n",
    "    display(df_lift_7[i].sort_values(ascending=False).head(10))"
   ]
  },
  {
   "cell_type": "code",
   "execution_count": 50,
   "metadata": {},
   "outputs": [
    {
     "data": {
      "text/plain": [
       "14"
      ]
     },
     "execution_count": 50,
     "metadata": {},
     "output_type": "execute_result"
    }
   ],
   "source": [
    "gc.collect()"
   ]
  },
  {
   "cell_type": "markdown",
   "metadata": {},
   "source": [
    "# Question 8 :  Si oui, en avez-vous été satisfait ?"
   ]
  },
  {
   "cell_type": "code",
   "execution_count": 51,
   "metadata": {
    "collapsed": true
   },
   "outputs": [],
   "source": [
    "question_8 = \"Si oui, en avez-vous été satisfait ?\"\n",
    "qu_8,df_qu_8_one_hot,df_cov_8,df_confidence_8,df_lift_8 = compute_similarities(question_8, new_res)"
   ]
  },
  {
   "cell_type": "code",
   "execution_count": 52,
   "metadata": {
    "scrolled": true
   },
   "outputs": [
    {
     "name": "stdout",
     "output_type": "stream",
     "text": [
      "oui\n"
     ]
    },
    {
     "data": {
      "text/plain": [
       "oui    6185\n",
       "non       0\n",
       "Name: oui, dtype: uint16"
      ]
     },
     "metadata": {},
     "output_type": "display_data"
    },
    {
     "name": "stdout",
     "output_type": "stream",
     "text": [
      "non\n"
     ]
    },
    {
     "data": {
      "text/plain": [
       "non    2994\n",
       "oui       0\n",
       "Name: non, dtype: uint16"
      ]
     },
     "metadata": {},
     "output_type": "display_data"
    }
   ],
   "source": [
    "for i in df_qu_8_one_hot.sum(axis=0).sort_values(ascending=False).head(20).index:\n",
    "    print(i)\n",
    "    display(df_cov_8[i].sort_values(ascending=False).head(10))"
   ]
  },
  {
   "cell_type": "code",
   "execution_count": 53,
   "metadata": {
    "scrolled": true
   },
   "outputs": [
    {
     "name": "stdout",
     "output_type": "stream",
     "text": [
      "oui\n"
     ]
    },
    {
     "data": {
      "text/plain": [
       "oui    1.0\n",
       "non    0.0\n",
       "Name: oui, dtype: float32"
      ]
     },
     "metadata": {},
     "output_type": "display_data"
    },
    {
     "name": "stdout",
     "output_type": "stream",
     "text": [
      "non\n"
     ]
    },
    {
     "data": {
      "text/plain": [
       "non    1.0\n",
       "oui    0.0\n",
       "Name: non, dtype: float32"
      ]
     },
     "metadata": {},
     "output_type": "display_data"
    }
   ],
   "source": [
    "for i in df_qu_8_one_hot.sum(axis=0).sort_values(ascending=False).head(20).index:\n",
    "    print(i)\n",
    "    display(df_confidence_8[i].sort_values(ascending=False).head(10))"
   ]
  },
  {
   "cell_type": "code",
   "execution_count": 54,
   "metadata": {
    "scrolled": true
   },
   "outputs": [
    {
     "name": "stdout",
     "output_type": "stream",
     "text": [
      "oui\n"
     ]
    },
    {
     "data": {
      "text/plain": [
       "oui    0.000162\n",
       "non         NaN\n",
       "Name: oui, dtype: float32"
      ]
     },
     "metadata": {},
     "output_type": "display_data"
    },
    {
     "name": "stdout",
     "output_type": "stream",
     "text": [
      "non\n"
     ]
    },
    {
     "data": {
      "text/plain": [
       "non    0.000334\n",
       "oui         NaN\n",
       "Name: non, dtype: float32"
      ]
     },
     "metadata": {},
     "output_type": "display_data"
    }
   ],
   "source": [
    "for i in df_qu_8_one_hot.sum(axis=0).sort_values(ascending=False).head(20).index:\n",
    "    print(i)\n",
    "    display(df_lift_8[i].sort_values(ascending=False).head(10))"
   ]
  },
  {
   "cell_type": "code",
   "execution_count": 55,
   "metadata": {},
   "outputs": [
    {
     "data": {
      "text/plain": [
       "14"
      ]
     },
     "execution_count": 55,
     "metadata": {},
     "output_type": "execute_result"
    }
   ],
   "source": [
    "gc.collect()"
   ]
  },
  {
   "cell_type": "markdown",
   "metadata": {},
   "source": [
    "# Question 9 : Quelles améliorations préconiseriez-vous ?"
   ]
  },
  {
   "cell_type": "code",
   "execution_count": 56,
   "metadata": {
    "collapsed": true
   },
   "outputs": [],
   "source": [
    "question_9 = \"Quelles améliorations préconiseriez-vous ?\"\n",
    "qu_9,df_qu_9_one_hot,df_cov_9,df_confidence_9,df_lift_9 = compute_similarities(question_9, new_res)"
   ]
  },
  {
   "cell_type": "code",
   "execution_count": 57,
   "metadata": {
    "scrolled": true
   },
   "outputs": [
    {
     "name": "stdout",
     "output_type": "stream",
     "text": [
      "services\n"
     ]
    },
    {
     "data": {
      "text/plain": [
       "services      2579\n",
       "publics       1125\n",
       "public         410\n",
       "maisons        375\n",
       "service        316\n",
       "tous           285\n",
       "agents         268\n",
       "faut           255\n",
       "developper     249\n",
       "faire          223\n",
       "Name: services, dtype: uint16"
      ]
     },
     "metadata": {},
     "output_type": "display_data"
    },
    {
     "name": "stdout",
     "output_type": "stream",
     "text": [
      "publics\n"
     ]
    },
    {
     "data": {
      "text/plain": [
       "publics        1352\n",
       "services       1125\n",
       "agents          345\n",
       "maisons         229\n",
       "service         201\n",
       "polyvalents     194\n",
       "public          186\n",
       "tous            159\n",
       "faut            143\n",
       "formes          143\n",
       "Name: publics, dtype: uint16"
      ]
     },
     "metadata": {},
     "output_type": "display_data"
    },
    {
     "name": "stdout",
     "output_type": "stream",
     "text": [
      "service\n"
     ]
    },
    {
     "data": {
      "text/plain": [
       "service     1284\n",
       "public       667\n",
       "services     316\n",
       "agents       204\n",
       "publics      201\n",
       "maisons      198\n",
       "faut         166\n",
       "faire        163\n",
       "rendez       163\n",
       "internet     140\n",
       "Name: service, dtype: uint16"
      ]
     },
     "metadata": {},
     "output_type": "display_data"
    },
    {
     "name": "stdout",
     "output_type": "stream",
     "text": [
      "public\n"
     ]
    },
    {
     "data": {
      "text/plain": [
       "public      1072\n",
       "service      667\n",
       "services     410\n",
       "maisons      285\n",
       "agents       194\n",
       "publics      186\n",
       "faut         120\n",
       "rendez       120\n",
       "faire        116\n",
       "communes       0\n",
       "Name: public, dtype: uint16"
      ]
     },
     "metadata": {},
     "output_type": "display_data"
    },
    {
     "name": "stdout",
     "output_type": "stream",
     "text": [
      "agents\n"
     ]
    },
    {
     "data": {
      "text/plain": [
       "agents         1007\n",
       "publics         345\n",
       "polyvalents     293\n",
       "services        268\n",
       "service         204\n",
       "public          194\n",
       "formation       109\n",
       "maisons         102\n",
       "communes          0\n",
       "bus               0\n",
       "Name: agents, dtype: uint16"
      ]
     },
     "metadata": {},
     "output_type": "display_data"
    },
    {
     "name": "stdout",
     "output_type": "stream",
     "text": [
      "internet\n"
     ]
    },
    {
     "data": {
      "text/plain": [
       "internet     843\n",
       "services     216\n",
       "service      140\n",
       "acces        135\n",
       "tout         134\n",
       "demarches    126\n",
       "publics      115\n",
       "faire        105\n",
       "proximite      0\n",
       "formation      0\n",
       "Name: internet, dtype: uint16"
      ]
     },
     "metadata": {},
     "output_type": "display_data"
    },
    {
     "name": "stdout",
     "output_type": "stream",
     "text": [
      "faire\n"
     ]
    },
    {
     "data": {
      "text/plain": [
       "faire        792\n",
       "services     223\n",
       "service      163\n",
       "faut         129\n",
       "publics      127\n",
       "demarches    118\n",
       "public       116\n",
       "tout         112\n",
       "internet     105\n",
       "pouvoir        0\n",
       "Name: faire, dtype: uint16"
      ]
     },
     "metadata": {},
     "output_type": "display_data"
    },
    {
     "name": "stdout",
     "output_type": "stream",
     "text": [
      "faut\n"
     ]
    },
    {
     "data": {
      "text/plain": [
       "faut           760\n",
       "services       255\n",
       "service        166\n",
       "publics        143\n",
       "faire          129\n",
       "public         120\n",
       "tout           117\n",
       "demarches        0\n",
       "pouvoir          0\n",
       "polyvalents      0\n",
       "Name: faut, dtype: uint16"
      ]
     },
     "metadata": {},
     "output_type": "display_data"
    },
    {
     "name": "stdout",
     "output_type": "stream",
     "text": [
      "tout\n"
     ]
    },
    {
     "data": {
      "text/plain": [
       "tout         666\n",
       "services     198\n",
       "internet     134\n",
       "faut         117\n",
       "service      117\n",
       "faire        112\n",
       "publics      105\n",
       "proximite      0\n",
       "formation      0\n",
       "bus            0\n",
       "Name: tout, dtype: uint16"
      ]
     },
     "metadata": {},
     "output_type": "display_data"
    },
    {
     "name": "stdout",
     "output_type": "stream",
     "text": [
      "rendez\n"
     ]
    },
    {
     "data": {
      "text/plain": [
       "rendez       639\n",
       "prise        208\n",
       "service      163\n",
       "services     129\n",
       "public       120\n",
       "formation      0\n",
       "bus            0\n",
       "tout           0\n",
       "travail        0\n",
       "publics        0\n",
       "Name: rendez, dtype: uint16"
      ]
     },
     "metadata": {},
     "output_type": "display_data"
    },
    {
     "name": "stdout",
     "output_type": "stream",
     "text": [
      "demarches\n"
     ]
    },
    {
     "data": {
      "text/plain": [
       "demarches    586\n",
       "services     140\n",
       "internet     126\n",
       "faire        118\n",
       "public         0\n",
       "proximite      0\n",
       "formation      0\n",
       "bus            0\n",
       "tout           0\n",
       "travail        0\n",
       "Name: demarches, dtype: uint16"
      ]
     },
     "metadata": {},
     "output_type": "display_data"
    },
    {
     "name": "stdout",
     "output_type": "stream",
     "text": [
      "tous\n"
     ]
    },
    {
     "data": {
      "text/plain": [
       "tous         582\n",
       "services     285\n",
       "publics      159\n",
       "public         0\n",
       "agents         0\n",
       "formation      0\n",
       "bus            0\n",
       "tout           0\n",
       "travail        0\n",
       "communes       0\n",
       "Name: tous, dtype: uint16"
      ]
     },
     "metadata": {},
     "output_type": "display_data"
    },
    {
     "name": "stdout",
     "output_type": "stream",
     "text": [
      "maisons\n"
     ]
    },
    {
     "data": {
      "text/plain": [
       "maisons      548\n",
       "services     375\n",
       "public       285\n",
       "publics      229\n",
       "service      198\n",
       "agents       102\n",
       "proximite      0\n",
       "formation      0\n",
       "bus            0\n",
       "tout           0\n",
       "Name: maisons, dtype: uint16"
      ]
     },
     "metadata": {},
     "output_type": "display_data"
    },
    {
     "name": "stdout",
     "output_type": "stream",
     "text": [
      "developper\n"
     ]
    },
    {
     "data": {
      "text/plain": [
       "developper    545\n",
       "services      249\n",
       "publics       130\n",
       "agents          0\n",
       "personnel       0\n",
       "formation       0\n",
       "bus             0\n",
       "tout            0\n",
       "travail         0\n",
       "communes        0\n",
       "Name: developper, dtype: uint16"
      ]
     },
     "metadata": {},
     "output_type": "display_data"
    },
    {
     "name": "stdout",
     "output_type": "stream",
     "text": [
      "horaires\n"
     ]
    },
    {
     "data": {
      "text/plain": [
       "horaires     522\n",
       "ouverture    166\n",
       "services     119\n",
       "agents         0\n",
       "formation      0\n",
       "bus            0\n",
       "tout           0\n",
       "travail        0\n",
       "publics        0\n",
       "communes       0\n",
       "Name: horaires, dtype: uint16"
      ]
     },
     "metadata": {},
     "output_type": "display_data"
    },
    {
     "name": "stdout",
     "output_type": "stream",
     "text": [
      "acces\n"
     ]
    },
    {
     "data": {
      "text/plain": [
       "acces        435\n",
       "services     165\n",
       "internet     135\n",
       "publics      107\n",
       "public         0\n",
       "agents         0\n",
       "formation      0\n",
       "bus            0\n",
       "tout           0\n",
       "travail        0\n",
       "Name: acces, dtype: uint16"
      ]
     },
     "metadata": {},
     "output_type": "display_data"
    },
    {
     "name": "stdout",
     "output_type": "stream",
     "text": [
      "non\n"
     ]
    },
    {
     "data": {
      "text/plain": [
       "non           393\n",
       "services      112\n",
       "developper      0\n",
       "proximite       0\n",
       "personnel       0\n",
       "formation       0\n",
       "bus             0\n",
       "tout            0\n",
       "travail         0\n",
       "publics         0\n",
       "Name: non, dtype: uint16"
      ]
     },
     "metadata": {},
     "output_type": "display_data"
    },
    {
     "name": "stdout",
     "output_type": "stream",
     "text": [
      "prise\n"
     ]
    },
    {
     "data": {
      "text/plain": [
       "prise        377\n",
       "rendez       208\n",
       "service      106\n",
       "public         0\n",
       "formation      0\n",
       "bus            0\n",
       "tout           0\n",
       "travail        0\n",
       "publics        0\n",
       "communes       0\n",
       "Name: prise, dtype: uint16"
      ]
     },
     "metadata": {},
     "output_type": "display_data"
    },
    {
     "name": "stdout",
     "output_type": "stream",
     "text": [
      "formes\n"
     ]
    },
    {
     "data": {
      "text/plain": [
       "formes       373\n",
       "services     169\n",
       "publics      143\n",
       "agents         0\n",
       "personnel      0\n",
       "formation      0\n",
       "bus            0\n",
       "tout           0\n",
       "travail        0\n",
       "communes       0\n",
       "Name: formes, dtype: uint16"
      ]
     },
     "metadata": {},
     "output_type": "display_data"
    },
    {
     "name": "stdout",
     "output_type": "stream",
     "text": [
      "fonctionnaires\n"
     ]
    },
    {
     "data": {
      "text/plain": [
       "fonctionnaires    362\n",
       "public              0\n",
       "formation           0\n",
       "bus                 0\n",
       "tout                0\n",
       "travail             0\n",
       "publics             0\n",
       "communes            0\n",
       "proximite           0\n",
       "agents              0\n",
       "Name: fonctionnaires, dtype: uint16"
      ]
     },
     "metadata": {},
     "output_type": "display_data"
    }
   ],
   "source": [
    "for i in df_qu_9_one_hot.sum(axis=0).sort_values(ascending=False).head(20).index:\n",
    "    print(i)\n",
    "    display(df_cov_9[i].sort_values(ascending=False).head(10))"
   ]
  },
  {
   "cell_type": "code",
   "execution_count": 58,
   "metadata": {
    "scrolled": true
   },
   "outputs": [
    {
     "name": "stdout",
     "output_type": "stream",
     "text": [
      "services\n"
     ]
    },
    {
     "data": {
      "text/plain": [
       "services      1.000000\n",
       "publics       0.832101\n",
       "maisons       0.684307\n",
       "bus           0.596958\n",
       "lieu          0.556364\n",
       "tous          0.489691\n",
       "proximite     0.472313\n",
       "developper    0.456881\n",
       "formes        0.453083\n",
       "place         0.411371\n",
       "Name: services, dtype: float32"
      ]
     },
     "metadata": {},
     "output_type": "display_data"
    },
    {
     "name": "stdout",
     "output_type": "stream",
     "text": [
      "publics\n"
     ]
    },
    {
     "data": {
      "text/plain": [
       "publics        1.000000\n",
       "polyvalents    0.555874\n",
       "bus            0.460076\n",
       "services       0.436216\n",
       "maisons        0.417883\n",
       "formes         0.383378\n",
       "agents         0.342602\n",
       "tous           0.273196\n",
       "acces          0.245977\n",
       "developper     0.238532\n",
       "Name: publics, dtype: float32"
      ]
     },
     "metadata": {},
     "output_type": "display_data"
    },
    {
     "name": "stdout",
     "output_type": "stream",
     "text": [
      "service\n"
     ]
    },
    {
     "data": {
      "text/plain": [
       "service     1.000000\n",
       "public      0.622202\n",
       "maisons     0.361314\n",
       "prise       0.281167\n",
       "rendez      0.255086\n",
       "faut        0.218421\n",
       "faire       0.205808\n",
       "agents      0.202582\n",
       "tout        0.175676\n",
       "internet    0.166074\n",
       "Name: service, dtype: float32"
      ]
     },
     "metadata": {},
     "output_type": "display_data"
    },
    {
     "name": "stdout",
     "output_type": "stream",
     "text": [
      "public\n"
     ]
    },
    {
     "data": {
      "text/plain": [
       "public      1.000000\n",
       "maisons     0.520073\n",
       "service     0.519470\n",
       "agents      0.192651\n",
       "rendez      0.187793\n",
       "services    0.158976\n",
       "faut        0.157895\n",
       "faire       0.146465\n",
       "publics     0.137574\n",
       "communes    0.000000\n",
       "Name: public, dtype: float32"
      ]
     },
     "metadata": {},
     "output_type": "display_data"
    },
    {
     "name": "stdout",
     "output_type": "stream",
     "text": [
      "agents\n"
     ]
    },
    {
     "data": {
      "text/plain": [
       "agents         1.000000\n",
       "polyvalents    0.839542\n",
       "formation      0.416031\n",
       "publics        0.255178\n",
       "maisons        0.186131\n",
       "public         0.180970\n",
       "service        0.158879\n",
       "services       0.103916\n",
       "communes       0.000000\n",
       "bus            0.000000\n",
       "Name: agents, dtype: float32"
      ]
     },
     "metadata": {},
     "output_type": "display_data"
    },
    {
     "name": "stdout",
     "output_type": "stream",
     "text": [
      "internet\n"
     ]
    },
    {
     "data": {
      "text/plain": [
       "internet     1.000000\n",
       "acces        0.310345\n",
       "demarches    0.215017\n",
       "tout         0.201201\n",
       "faire        0.132576\n",
       "service      0.109034\n",
       "publics      0.085059\n",
       "services     0.083753\n",
       "proximite    0.000000\n",
       "formation    0.000000\n",
       "Name: internet, dtype: float32"
      ]
     },
     "metadata": {},
     "output_type": "display_data"
    },
    {
     "name": "stdout",
     "output_type": "stream",
     "text": [
      "faire\n"
     ]
    },
    {
     "data": {
      "text/plain": [
       "faire          1.000000\n",
       "demarches      0.201365\n",
       "faut           0.169737\n",
       "tout           0.168168\n",
       "service        0.126947\n",
       "internet       0.124555\n",
       "public         0.108209\n",
       "publics        0.093935\n",
       "services       0.086468\n",
       "polyvalents    0.000000\n",
       "Name: faire, dtype: float32"
      ]
     },
     "metadata": {},
     "output_type": "display_data"
    },
    {
     "name": "stdout",
     "output_type": "stream",
     "text": [
      "faut\n"
     ]
    },
    {
     "data": {
      "text/plain": [
       "faut         1.000000\n",
       "tout         0.175676\n",
       "faire        0.162879\n",
       "service      0.129283\n",
       "public       0.111940\n",
       "publics      0.105769\n",
       "services     0.098876\n",
       "pouvoir      0.000000\n",
       "personnel    0.000000\n",
       "formation    0.000000\n",
       "Name: faut, dtype: float32"
      ]
     },
     "metadata": {},
     "output_type": "display_data"
    },
    {
     "name": "stdout",
     "output_type": "stream",
     "text": [
      "tout\n"
     ]
    },
    {
     "data": {
      "text/plain": [
       "tout         1.000000\n",
       "internet     0.158956\n",
       "faut         0.153947\n",
       "faire        0.141414\n",
       "service      0.091121\n",
       "publics      0.077663\n",
       "services     0.076774\n",
       "proximite    0.000000\n",
       "formation    0.000000\n",
       "bus          0.000000\n",
       "Name: tout, dtype: float32"
      ]
     },
     "metadata": {},
     "output_type": "display_data"
    },
    {
     "name": "stdout",
     "output_type": "stream",
     "text": [
      "rendez\n"
     ]
    },
    {
     "data": {
      "text/plain": [
       "rendez       1.000000\n",
       "prise        0.551724\n",
       "service      0.126947\n",
       "public       0.111940\n",
       "services     0.050019\n",
       "formation    0.000000\n",
       "bus          0.000000\n",
       "tout         0.000000\n",
       "travail      0.000000\n",
       "publics      0.000000\n",
       "Name: rendez, dtype: float32"
      ]
     },
     "metadata": {},
     "output_type": "display_data"
    },
    {
     "name": "stdout",
     "output_type": "stream",
     "text": [
      "demarches\n"
     ]
    },
    {
     "data": {
      "text/plain": [
       "demarches    1.000000\n",
       "internet     0.149466\n",
       "faire        0.148990\n",
       "services     0.054285\n",
       "public       0.000000\n",
       "proximite    0.000000\n",
       "formation    0.000000\n",
       "bus          0.000000\n",
       "tout         0.000000\n",
       "travail      0.000000\n",
       "Name: demarches, dtype: float32"
      ]
     },
     "metadata": {},
     "output_type": "display_data"
    },
    {
     "name": "stdout",
     "output_type": "stream",
     "text": [
      "tous\n"
     ]
    },
    {
     "data": {
      "text/plain": [
       "tous         1.000000\n",
       "publics      0.117604\n",
       "services     0.110508\n",
       "public       0.000000\n",
       "agents       0.000000\n",
       "formation    0.000000\n",
       "bus          0.000000\n",
       "tout         0.000000\n",
       "travail      0.000000\n",
       "communes     0.000000\n",
       "Name: tous, dtype: float32"
      ]
     },
     "metadata": {},
     "output_type": "display_data"
    },
    {
     "name": "stdout",
     "output_type": "stream",
     "text": [
      "maisons\n"
     ]
    },
    {
     "data": {
      "text/plain": [
       "maisons      1.000000\n",
       "public       0.265858\n",
       "publics      0.169379\n",
       "service      0.154206\n",
       "services     0.145405\n",
       "agents       0.101291\n",
       "proximite    0.000000\n",
       "formation    0.000000\n",
       "bus          0.000000\n",
       "tout         0.000000\n",
       "Name: maisons, dtype: float32"
      ]
     },
     "metadata": {},
     "output_type": "display_data"
    },
    {
     "name": "stdout",
     "output_type": "stream",
     "text": [
      "developper\n"
     ]
    },
    {
     "data": {
      "text/plain": [
       "developper    1.000000\n",
       "services      0.096549\n",
       "publics       0.096154\n",
       "agents        0.000000\n",
       "personnel     0.000000\n",
       "formation     0.000000\n",
       "bus           0.000000\n",
       "tout          0.000000\n",
       "travail       0.000000\n",
       "communes      0.000000\n",
       "Name: developper, dtype: float32"
      ]
     },
     "metadata": {},
     "output_type": "display_data"
    },
    {
     "name": "stdout",
     "output_type": "stream",
     "text": [
      "horaires\n"
     ]
    },
    {
     "data": {
      "text/plain": [
       "horaires     1.000000\n",
       "ouverture    0.566553\n",
       "services     0.046142\n",
       "agents       0.000000\n",
       "formation    0.000000\n",
       "bus          0.000000\n",
       "tout         0.000000\n",
       "travail      0.000000\n",
       "publics      0.000000\n",
       "communes     0.000000\n",
       "Name: horaires, dtype: float32"
      ]
     },
     "metadata": {},
     "output_type": "display_data"
    },
    {
     "name": "stdout",
     "output_type": "stream",
     "text": [
      "acces\n"
     ]
    },
    {
     "data": {
      "text/plain": [
       "acces        1.000000\n",
       "internet     0.160142\n",
       "publics      0.079142\n",
       "services     0.063978\n",
       "public       0.000000\n",
       "agents       0.000000\n",
       "formation    0.000000\n",
       "bus          0.000000\n",
       "tout         0.000000\n",
       "travail      0.000000\n",
       "Name: acces, dtype: float32"
      ]
     },
     "metadata": {},
     "output_type": "display_data"
    },
    {
     "name": "stdout",
     "output_type": "stream",
     "text": [
      "non\n"
     ]
    },
    {
     "data": {
      "text/plain": [
       "non           1.000000\n",
       "services      0.043428\n",
       "developper    0.000000\n",
       "proximite     0.000000\n",
       "personnel     0.000000\n",
       "formation     0.000000\n",
       "bus           0.000000\n",
       "tout          0.000000\n",
       "travail       0.000000\n",
       "publics       0.000000\n",
       "Name: non, dtype: float32"
      ]
     },
     "metadata": {},
     "output_type": "display_data"
    },
    {
     "name": "stdout",
     "output_type": "stream",
     "text": [
      "prise\n"
     ]
    },
    {
     "data": {
      "text/plain": [
       "prise        1.000000\n",
       "rendez       0.325509\n",
       "service      0.082555\n",
       "public       0.000000\n",
       "formation    0.000000\n",
       "bus          0.000000\n",
       "tout         0.000000\n",
       "travail      0.000000\n",
       "publics      0.000000\n",
       "communes     0.000000\n",
       "Name: prise, dtype: float32"
      ]
     },
     "metadata": {},
     "output_type": "display_data"
    },
    {
     "name": "stdout",
     "output_type": "stream",
     "text": [
      "formes\n"
     ]
    },
    {
     "data": {
      "text/plain": [
       "formes       1.000000\n",
       "publics      0.105769\n",
       "services     0.065529\n",
       "agents       0.000000\n",
       "personnel    0.000000\n",
       "formation    0.000000\n",
       "bus          0.000000\n",
       "tout         0.000000\n",
       "travail      0.000000\n",
       "communes     0.000000\n",
       "Name: formes, dtype: float32"
      ]
     },
     "metadata": {},
     "output_type": "display_data"
    },
    {
     "name": "stdout",
     "output_type": "stream",
     "text": [
      "fonctionnaires\n"
     ]
    },
    {
     "data": {
      "text/plain": [
       "fonctionnaires    1.0\n",
       "public            0.0\n",
       "formation         0.0\n",
       "bus               0.0\n",
       "tout              0.0\n",
       "travail           0.0\n",
       "publics           0.0\n",
       "communes          0.0\n",
       "proximite         0.0\n",
       "agents            0.0\n",
       "Name: fonctionnaires, dtype: float32"
      ]
     },
     "metadata": {},
     "output_type": "display_data"
    }
   ],
   "source": [
    "for i in df_qu_9_one_hot.sum(axis=0).sort_values(ascending=False).head(20).index:\n",
    "    print(i)\n",
    "    display(df_confidence_9[i].sort_values(ascending=False).head(10))"
   ]
  },
  {
   "cell_type": "code",
   "execution_count": 59,
   "metadata": {
    "scrolled": true
   },
   "outputs": [
    {
     "name": "stdout",
     "output_type": "stream",
     "text": [
      "services\n"
     ]
    },
    {
     "data": {
      "text/plain": [
       "services      0.000388\n",
       "publics       0.000323\n",
       "maisons       0.000265\n",
       "bus           0.000231\n",
       "lieu          0.000216\n",
       "tous          0.000190\n",
       "proximite     0.000183\n",
       "developper    0.000177\n",
       "formes        0.000176\n",
       "place         0.000160\n",
       "Name: services, dtype: float32"
      ]
     },
     "metadata": {},
     "output_type": "display_data"
    },
    {
     "name": "stdout",
     "output_type": "stream",
     "text": [
      "publics\n"
     ]
    },
    {
     "data": {
      "text/plain": [
       "publics        0.000740\n",
       "polyvalents    0.000411\n",
       "bus            0.000340\n",
       "services       0.000323\n",
       "maisons        0.000309\n",
       "formes         0.000284\n",
       "agents         0.000253\n",
       "tous           0.000202\n",
       "acces          0.000182\n",
       "developper     0.000176\n",
       "Name: publics, dtype: float32"
      ]
     },
     "metadata": {},
     "output_type": "display_data"
    },
    {
     "name": "stdout",
     "output_type": "stream",
     "text": [
      "service\n"
     ]
    },
    {
     "data": {
      "text/plain": [
       "service     0.000779\n",
       "public      0.000485\n",
       "maisons     0.000281\n",
       "prise       0.000219\n",
       "rendez      0.000199\n",
       "faut        0.000170\n",
       "faire       0.000160\n",
       "agents      0.000158\n",
       "tout        0.000137\n",
       "internet    0.000129\n",
       "Name: service, dtype: float32"
      ]
     },
     "metadata": {},
     "output_type": "display_data"
    },
    {
     "name": "stdout",
     "output_type": "stream",
     "text": [
      "public\n"
     ]
    },
    {
     "data": {
      "text/plain": [
       "public      0.000933\n",
       "maisons     0.000485\n",
       "service     0.000485\n",
       "agents      0.000180\n",
       "rendez      0.000175\n",
       "services    0.000148\n",
       "faut        0.000147\n",
       "faire       0.000137\n",
       "publics     0.000128\n",
       "non              NaN\n",
       "Name: public, dtype: float32"
      ]
     },
     "metadata": {},
     "output_type": "display_data"
    },
    {
     "name": "stdout",
     "output_type": "stream",
     "text": [
      "agents\n"
     ]
    },
    {
     "data": {
      "text/plain": [
       "agents         0.000993\n",
       "polyvalents    0.000834\n",
       "formation      0.000413\n",
       "publics        0.000253\n",
       "maisons        0.000185\n",
       "public         0.000180\n",
       "service        0.000158\n",
       "services       0.000103\n",
       "non                 NaN\n",
       "developper          NaN\n",
       "Name: agents, dtype: float32"
      ]
     },
     "metadata": {},
     "output_type": "display_data"
    },
    {
     "name": "stdout",
     "output_type": "stream",
     "text": [
      "internet\n"
     ]
    },
    {
     "data": {
      "text/plain": [
       "internet      0.001186\n",
       "acces         0.000368\n",
       "demarches     0.000255\n",
       "tout          0.000239\n",
       "faire         0.000157\n",
       "service       0.000129\n",
       "publics       0.000101\n",
       "services      0.000099\n",
       "non                NaN\n",
       "developper         NaN\n",
       "Name: internet, dtype: float32"
      ]
     },
     "metadata": {},
     "output_type": "display_data"
    },
    {
     "name": "stdout",
     "output_type": "stream",
     "text": [
      "faire\n"
     ]
    },
    {
     "data": {
      "text/plain": [
       "faire        0.001263\n",
       "demarches    0.000254\n",
       "faut         0.000214\n",
       "tout         0.000212\n",
       "service      0.000160\n",
       "internet     0.000157\n",
       "public       0.000137\n",
       "publics      0.000119\n",
       "services     0.000109\n",
       "non               NaN\n",
       "Name: faire, dtype: float32"
      ]
     },
     "metadata": {},
     "output_type": "display_data"
    },
    {
     "name": "stdout",
     "output_type": "stream",
     "text": [
      "faut\n"
     ]
    },
    {
     "data": {
      "text/plain": [
       "faut          0.001316\n",
       "tout          0.000231\n",
       "faire         0.000214\n",
       "service       0.000170\n",
       "public        0.000147\n",
       "publics       0.000139\n",
       "services      0.000130\n",
       "non                NaN\n",
       "developper         NaN\n",
       "horaires           NaN\n",
       "Name: faut, dtype: float32"
      ]
     },
     "metadata": {},
     "output_type": "display_data"
    },
    {
     "name": "stdout",
     "output_type": "stream",
     "text": [
      "tout\n"
     ]
    },
    {
     "data": {
      "text/plain": [
       "tout          0.001502\n",
       "internet      0.000239\n",
       "faut          0.000231\n",
       "faire         0.000212\n",
       "service       0.000137\n",
       "publics       0.000117\n",
       "services      0.000115\n",
       "non                NaN\n",
       "developper         NaN\n",
       "horaires           NaN\n",
       "Name: tout, dtype: float32"
      ]
     },
     "metadata": {},
     "output_type": "display_data"
    },
    {
     "name": "stdout",
     "output_type": "stream",
     "text": [
      "rendez\n"
     ]
    },
    {
     "data": {
      "text/plain": [
       "rendez        0.001565\n",
       "prise         0.000863\n",
       "service       0.000199\n",
       "public        0.000175\n",
       "services      0.000078\n",
       "non                NaN\n",
       "developper         NaN\n",
       "horaires           NaN\n",
       "impots             NaN\n",
       "pouvoir            NaN\n",
       "Name: rendez, dtype: float32"
      ]
     },
     "metadata": {},
     "output_type": "display_data"
    },
    {
     "name": "stdout",
     "output_type": "stream",
     "text": [
      "demarches\n"
     ]
    },
    {
     "data": {
      "text/plain": [
       "demarches     0.001706\n",
       "internet      0.000255\n",
       "faire         0.000254\n",
       "services      0.000093\n",
       "non                NaN\n",
       "developper         NaN\n",
       "horaires           NaN\n",
       "impots             NaN\n",
       "pouvoir            NaN\n",
       "service            NaN\n",
       "Name: demarches, dtype: float32"
      ]
     },
     "metadata": {},
     "output_type": "display_data"
    },
    {
     "name": "stdout",
     "output_type": "stream",
     "text": [
      "tous\n"
     ]
    },
    {
     "data": {
      "text/plain": [
       "tous          0.001718\n",
       "publics       0.000202\n",
       "services      0.000190\n",
       "non                NaN\n",
       "developper         NaN\n",
       "horaires           NaN\n",
       "impots             NaN\n",
       "pouvoir            NaN\n",
       "demarches          NaN\n",
       "service            NaN\n",
       "Name: tous, dtype: float32"
      ]
     },
     "metadata": {},
     "output_type": "display_data"
    },
    {
     "name": "stdout",
     "output_type": "stream",
     "text": [
      "maisons\n"
     ]
    },
    {
     "data": {
      "text/plain": [
       "maisons       0.001825\n",
       "public        0.000485\n",
       "publics       0.000309\n",
       "service       0.000281\n",
       "services      0.000265\n",
       "agents        0.000185\n",
       "non                NaN\n",
       "developper         NaN\n",
       "horaires           NaN\n",
       "impots             NaN\n",
       "Name: maisons, dtype: float32"
      ]
     },
     "metadata": {},
     "output_type": "display_data"
    },
    {
     "name": "stdout",
     "output_type": "stream",
     "text": [
      "developper\n"
     ]
    },
    {
     "data": {
      "text/plain": [
       "developper     0.001835\n",
       "services       0.000177\n",
       "publics        0.000176\n",
       "non                 NaN\n",
       "horaires            NaN\n",
       "impots              NaN\n",
       "pouvoir             NaN\n",
       "demarches           NaN\n",
       "service             NaN\n",
       "polyvalents         NaN\n",
       "Name: developper, dtype: float32"
      ]
     },
     "metadata": {},
     "output_type": "display_data"
    },
    {
     "name": "stdout",
     "output_type": "stream",
     "text": [
      "horaires\n"
     ]
    },
    {
     "data": {
      "text/plain": [
       "horaires       0.001916\n",
       "ouverture      0.001085\n",
       "services       0.000088\n",
       "non                 NaN\n",
       "developper          NaN\n",
       "impots              NaN\n",
       "pouvoir             NaN\n",
       "demarches           NaN\n",
       "service             NaN\n",
       "polyvalents         NaN\n",
       "Name: horaires, dtype: float32"
      ]
     },
     "metadata": {},
     "output_type": "display_data"
    },
    {
     "name": "stdout",
     "output_type": "stream",
     "text": [
      "acces\n"
     ]
    },
    {
     "data": {
      "text/plain": [
       "acces         0.002299\n",
       "internet      0.000368\n",
       "publics       0.000182\n",
       "services      0.000147\n",
       "non                NaN\n",
       "developper         NaN\n",
       "horaires           NaN\n",
       "impots             NaN\n",
       "pouvoir            NaN\n",
       "demarches          NaN\n",
       "Name: acces, dtype: float32"
      ]
     },
     "metadata": {},
     "output_type": "display_data"
    },
    {
     "name": "stdout",
     "output_type": "stream",
     "text": [
      "non\n"
     ]
    },
    {
     "data": {
      "text/plain": [
       "non            0.002545\n",
       "services       0.000111\n",
       "developper          NaN\n",
       "horaires            NaN\n",
       "impots              NaN\n",
       "pouvoir             NaN\n",
       "demarches           NaN\n",
       "service             NaN\n",
       "polyvalents         NaN\n",
       "formes              NaN\n",
       "Name: non, dtype: float32"
      ]
     },
     "metadata": {},
     "output_type": "display_data"
    },
    {
     "name": "stdout",
     "output_type": "stream",
     "text": [
      "prise\n"
     ]
    },
    {
     "data": {
      "text/plain": [
       "prise          0.002653\n",
       "rendez         0.000863\n",
       "service        0.000219\n",
       "non                 NaN\n",
       "developper          NaN\n",
       "horaires            NaN\n",
       "impots              NaN\n",
       "pouvoir             NaN\n",
       "demarches           NaN\n",
       "polyvalents         NaN\n",
       "Name: prise, dtype: float32"
      ]
     },
     "metadata": {},
     "output_type": "display_data"
    },
    {
     "name": "stdout",
     "output_type": "stream",
     "text": [
      "formes\n"
     ]
    },
    {
     "data": {
      "text/plain": [
       "formes        0.002681\n",
       "publics       0.000284\n",
       "services      0.000176\n",
       "non                NaN\n",
       "developper         NaN\n",
       "horaires           NaN\n",
       "impots             NaN\n",
       "pouvoir            NaN\n",
       "demarches          NaN\n",
       "service            NaN\n",
       "Name: formes, dtype: float32"
      ]
     },
     "metadata": {},
     "output_type": "display_data"
    },
    {
     "name": "stdout",
     "output_type": "stream",
     "text": [
      "fonctionnaires\n"
     ]
    },
    {
     "data": {
      "text/plain": [
       "fonctionnaires    0.002762\n",
       "non                    NaN\n",
       "developper             NaN\n",
       "horaires               NaN\n",
       "impots                 NaN\n",
       "pouvoir                NaN\n",
       "demarches              NaN\n",
       "service                NaN\n",
       "polyvalents            NaN\n",
       "formes                 NaN\n",
       "Name: fonctionnaires, dtype: float32"
      ]
     },
     "metadata": {},
     "output_type": "display_data"
    }
   ],
   "source": [
    "for i in df_qu_9_one_hot.sum(axis=0).sort_values(ascending=False).head(20).index:\n",
    "    print(i)\n",
    "    display(df_lift_9[i].sort_values(ascending=False).head(10))"
   ]
  },
  {
   "cell_type": "code",
   "execution_count": 60,
   "metadata": {},
   "outputs": [
    {
     "data": {
      "text/plain": [
       "294"
      ]
     },
     "execution_count": 60,
     "metadata": {},
     "output_type": "execute_result"
    }
   ],
   "source": [
    "gc.collect()"
   ]
  },
  {
   "cell_type": "markdown",
   "metadata": {},
   "source": [
    "# Question 10 : Quand vous pensez à l'évolution des services publics au cours des dernières années, quels sont ceux qui ont évolué de manière positive ?"
   ]
  },
  {
   "cell_type": "code",
   "execution_count": 61,
   "metadata": {
    "collapsed": true
   },
   "outputs": [],
   "source": [
    "question_10 = \"Quand vous pensez à l'évolution des services publics au cours des dernières années, quels sont ceux qui ont évolué de manière positive ?\"\n",
    "qu_10,df_qu_10_one_hot,df_cov_10,df_confidence_10,df_lift_10 = compute_similarities(question_10, new_res)"
   ]
  },
  {
   "cell_type": "code",
   "execution_count": 62,
   "metadata": {
    "scrolled": true
   },
   "outputs": [
    {
     "name": "stdout",
     "output_type": "stream",
     "text": [
      "impots\n"
     ]
    },
    {
     "data": {
      "text/plain": [
       "impots         5614\n",
       "internet        775\n",
       "service         751\n",
       "services        637\n",
       "ligne           514\n",
       "declaration     470\n",
       "securite        410\n",
       "sociale         402\n",
       "poste           396\n",
       "site            267\n",
       "Name: impots, dtype: uint16"
      ]
     },
     "metadata": {},
     "output_type": "display_data"
    },
    {
     "name": "stdout",
     "output_type": "stream",
     "text": [
      "services\n"
     ]
    },
    {
     "data": {
      "text/plain": [
       "services    3279\n",
       "publics      989\n",
       "impots       637\n",
       "internet     536\n",
       "fiscaux      448\n",
       "tous         340\n",
       "service      278\n",
       "ligne        263\n",
       "poste        255\n",
       "public       236\n",
       "Name: services, dtype: uint16"
      ]
     },
     "metadata": {},
     "output_type": "display_data"
    },
    {
     "name": "stdout",
     "output_type": "stream",
     "text": [
      "aucun\n"
     ]
    },
    {
     "data": {
      "text/plain": [
       "aucun          3024\n",
       "services        225\n",
       "service         171\n",
       "tous            168\n",
       "publics         136\n",
       "tout            133\n",
       "public          111\n",
       "evolue            0\n",
       "declaration       0\n",
       "cpam              0\n",
       "Name: aucun, dtype: uint16"
      ]
     },
     "metadata": {},
     "output_type": "display_data"
    },
    {
     "name": "stdout",
     "output_type": "stream",
     "text": [
      "internet\n"
     ]
    },
    {
     "data": {
      "text/plain": [
       "internet       2617\n",
       "impots          775\n",
       "services        536\n",
       "demarches       501\n",
       "acces           330\n",
       "service         245\n",
       "declaration     228\n",
       "tout            226\n",
       "faire           173\n",
       "tous            173\n",
       "Name: internet, dtype: uint16"
      ]
     },
     "metadata": {},
     "output_type": "display_data"
    },
    {
     "name": "stdout",
     "output_type": "stream",
     "text": [
      "service\n"
     ]
    },
    {
     "data": {
      "text/plain": [
       "service     1757\n",
       "impots       751\n",
       "public       491\n",
       "services     278\n",
       "internet     245\n",
       "aucun        171\n",
       "poste        157\n",
       "ligne        146\n",
       "publics      144\n",
       "tout         135\n",
       "Name: service, dtype: uint16"
      ]
     },
     "metadata": {},
     "output_type": "display_data"
    },
    {
     "name": "stdout",
     "output_type": "stream",
     "text": [
      "poste\n"
     ]
    },
    {
     "data": {
      "text/plain": [
       "poste          1537\n",
       "impots          396\n",
       "services        255\n",
       "service         157\n",
       "public          101\n",
       "cartes            0\n",
       "tout              0\n",
       "publics           0\n",
       "declaration       0\n",
       "cpam              0\n",
       "Name: poste, dtype: uint16"
      ]
     },
     "metadata": {},
     "output_type": "display_data"
    },
    {
     "name": "stdout",
     "output_type": "stream",
     "text": [
      "demarches\n"
     ]
    },
    {
     "data": {
      "text/plain": [
       "demarches          1232\n",
       "internet            501\n",
       "ligne               254\n",
       "administratives     247\n",
       "impots              246\n",
       "services            174\n",
       "faire               146\n",
       "cpam                  0\n",
       "pole                  0\n",
       "declaration           0\n",
       "Name: demarches, dtype: uint16"
      ]
     },
     "metadata": {},
     "output_type": "display_data"
    },
    {
     "name": "stdout",
     "output_type": "stream",
     "text": [
      "ligne\n"
     ]
    },
    {
     "data": {
      "text/plain": [
       "ligne          1212\n",
       "impots          514\n",
       "declaration     279\n",
       "services        263\n",
       "demarches       254\n",
       "service         146\n",
       "publics           0\n",
       "tout              0\n",
       "cpam              0\n",
       "cartes            0\n",
       "Name: ligne, dtype: uint16"
      ]
     },
     "metadata": {},
     "output_type": "display_data"
    },
    {
     "name": "stdout",
     "output_type": "stream",
     "text": [
      "publics\n"
     ]
    },
    {
     "data": {
      "text/plain": [
       "publics        1082\n",
       "services        989\n",
       "internet        159\n",
       "tous            149\n",
       "service         144\n",
       "aucun           136\n",
       "impots          123\n",
       "evolution       118\n",
       "public          102\n",
       "degradation       0\n",
       "Name: publics, dtype: uint16"
      ]
     },
     "metadata": {},
     "output_type": "display_data"
    },
    {
     "name": "stdout",
     "output_type": "stream",
     "text": [
      "tous\n"
     ]
    },
    {
     "data": {
      "text/plain": [
       "tous           974\n",
       "services       340\n",
       "internet       173\n",
       "aucun          168\n",
       "publics        149\n",
       "impots         122\n",
       "declaration      0\n",
       "cpam             0\n",
       "ligne            0\n",
       "pole             0\n",
       "Name: tous, dtype: uint16"
      ]
     },
     "metadata": {},
     "output_type": "display_data"
    },
    {
     "name": "stdout",
     "output_type": "stream",
     "text": [
      "public\n"
     ]
    },
    {
     "data": {
      "text/plain": [
       "public         967\n",
       "service        491\n",
       "tresor         302\n",
       "services       236\n",
       "impots         113\n",
       "aucun          111\n",
       "internet       103\n",
       "publics        102\n",
       "poste          101\n",
       "degradation      0\n",
       "Name: public, dtype: uint16"
      ]
     },
     "metadata": {},
     "output_type": "display_data"
    },
    {
     "name": "stdout",
     "output_type": "stream",
     "text": [
      "securite\n"
     ]
    },
    {
     "data": {
      "text/plain": [
       "securite           939\n",
       "sociale            821\n",
       "impots             410\n",
       "services           146\n",
       "service            104\n",
       "pole                 0\n",
       "identite             0\n",
       "grise                0\n",
       "administratives      0\n",
       "emploi               0\n",
       "Name: securite, dtype: uint16"
      ]
     },
     "metadata": {},
     "output_type": "display_data"
    },
    {
     "name": "stdout",
     "output_type": "stream",
     "text": [
      "sociale\n"
     ]
    },
    {
     "data": {
      "text/plain": [
       "sociale        874\n",
       "securite       821\n",
       "impots         402\n",
       "services       139\n",
       "publics          0\n",
       "declaration      0\n",
       "tout             0\n",
       "cpam             0\n",
       "degradation      0\n",
       "ligne            0\n",
       "Name: sociale, dtype: uint16"
      ]
     },
     "metadata": {},
     "output_type": "display_data"
    },
    {
     "name": "stdout",
     "output_type": "stream",
     "text": [
      "tout\n"
     ]
    },
    {
     "data": {
      "text/plain": [
       "tout           856\n",
       "internet       226\n",
       "services       180\n",
       "impots         155\n",
       "service        135\n",
       "aucun          133\n",
       "faire          107\n",
       "publics          0\n",
       "declaration      0\n",
       "cpam             0\n",
       "Name: tout, dtype: uint16"
      ]
     },
     "metadata": {},
     "output_type": "display_data"
    },
    {
     "name": "stdout",
     "output_type": "stream",
     "text": [
      "declaration\n"
     ]
    },
    {
     "data": {
      "text/plain": [
       "declaration        802\n",
       "impots             470\n",
       "ligne              279\n",
       "internet           228\n",
       "impot              133\n",
       "emploi               0\n",
       "agents               0\n",
       "identite             0\n",
       "grise                0\n",
       "administratives      0\n",
       "Name: declaration, dtype: uint16"
      ]
     },
     "metadata": {},
     "output_type": "display_data"
    },
    {
     "name": "stdout",
     "output_type": "stream",
     "text": [
      "administration\n"
     ]
    },
    {
     "data": {
      "text/plain": [
       "administration     710\n",
       "fiscale            434\n",
       "services           107\n",
       "emploi               0\n",
       "degradation          0\n",
       "agents               0\n",
       "identite             0\n",
       "grise                0\n",
       "administratives      0\n",
       "pole                 0\n",
       "Name: administration, dtype: uint16"
      ]
     },
     "metadata": {},
     "output_type": "display_data"
    },
    {
     "name": "stdout",
     "output_type": "stream",
     "text": [
      "carte\n"
     ]
    },
    {
     "data": {
      "text/plain": [
       "carte        701\n",
       "grise        449\n",
       "impots       249\n",
       "identite     208\n",
       "internet     151\n",
       "passeport    142\n",
       "services     111\n",
       "ligne          0\n",
       "cpam           0\n",
       "evolue         0\n",
       "Name: carte, dtype: uint16"
      ]
     },
     "metadata": {},
     "output_type": "display_data"
    },
    {
     "name": "stdout",
     "output_type": "stream",
     "text": [
      "evolution\n"
     ]
    },
    {
     "data": {
      "text/plain": [
       "evolution          692\n",
       "positive           223\n",
       "services           212\n",
       "publics            118\n",
       "internet           116\n",
       "emploi               0\n",
       "agents               0\n",
       "identite             0\n",
       "grise                0\n",
       "administratives      0\n",
       "Name: evolution, dtype: uint16"
      ]
     },
     "metadata": {},
     "output_type": "display_data"
    },
    {
     "name": "stdout",
     "output_type": "stream",
     "text": [
      "faire\n"
     ]
    },
    {
     "data": {
      "text/plain": [
       "faire          670\n",
       "internet       173\n",
       "services       165\n",
       "demarches      146\n",
       "impots         117\n",
       "tout           107\n",
       "service        102\n",
       "publics          0\n",
       "declaration      0\n",
       "cpam             0\n",
       "Name: faire, dtype: uint16"
      ]
     },
     "metadata": {},
     "output_type": "display_data"
    },
    {
     "name": "stdout",
     "output_type": "stream",
     "text": [
      "acces\n"
     ]
    },
    {
     "data": {
      "text/plain": [
       "acces          622\n",
       "internet       330\n",
       "services       190\n",
       "impots         124\n",
       "publics          0\n",
       "declaration      0\n",
       "cpam             0\n",
       "ligne            0\n",
       "pole             0\n",
       "aucun            0\n",
       "Name: acces, dtype: uint16"
      ]
     },
     "metadata": {},
     "output_type": "display_data"
    }
   ],
   "source": [
    "for i in df_qu_10_one_hot.sum(axis=0).sort_values(ascending=False).head(20).index:\n",
    "    print(i)\n",
    "    display(df_cov_10[i].sort_values(ascending=False).head(10))"
   ]
  },
  {
   "cell_type": "code",
   "execution_count": 63,
   "metadata": {
    "scrolled": true
   },
   "outputs": [
    {
     "name": "stdout",
     "output_type": "stream",
     "text": [
      "impots\n"
     ]
    },
    {
     "data": {
      "text/plain": [
       "impots         1.000000\n",
       "gouv           0.678700\n",
       "site           0.588106\n",
       "declaration    0.586035\n",
       "source         0.515254\n",
       "sociale        0.459954\n",
       "securite       0.436635\n",
       "caf            0.430556\n",
       "service        0.427433\n",
       "ligne          0.424092\n",
       "Name: impots, dtype: float32"
      ]
     },
     "metadata": {},
     "output_type": "display_data"
    },
    {
     "name": "stdout",
     "output_type": "stream",
     "text": [
      "services\n"
     ]
    },
    {
     "data": {
      "text/plain": [
       "services     1.000000\n",
       "fiscaux      0.919918\n",
       "publics      0.914048\n",
       "publiques    0.394022\n",
       "maniere      0.359133\n",
       "tous         0.349076\n",
       "evolue       0.346154\n",
       "agents       0.335526\n",
       "exemple      0.332609\n",
       "positive     0.330629\n",
       "Name: services, dtype: float32"
      ]
     },
     "metadata": {},
     "output_type": "display_data"
    },
    {
     "name": "stdout",
     "output_type": "stream",
     "text": [
      "aucun\n"
     ]
    },
    {
     "data": {
      "text/plain": [
       "aucun        1.000000\n",
       "tous         0.172485\n",
       "tout         0.155374\n",
       "publics      0.125693\n",
       "public       0.114788\n",
       "service      0.097325\n",
       "services     0.068618\n",
       "securite     0.000000\n",
       "carte        0.000000\n",
       "numerique    0.000000\n",
       "Name: aucun, dtype: float32"
      ]
     },
     "metadata": {},
     "output_type": "display_data"
    },
    {
     "name": "stdout",
     "output_type": "stream",
     "text": [
      "internet\n"
     ]
    },
    {
     "data": {
      "text/plain": [
       "internet           1.000000\n",
       "acces              0.530547\n",
       "demarches          0.406656\n",
       "site               0.376652\n",
       "administratives    0.310448\n",
       "declaration        0.284289\n",
       "tout               0.264019\n",
       "faire              0.258209\n",
       "grise              0.235931\n",
       "faut               0.216061\n",
       "Name: internet, dtype: float32"
      ]
     },
     "metadata": {},
     "output_type": "display_data"
    },
    {
     "name": "stdout",
     "output_type": "stream",
     "text": [
      "service\n"
     ]
    },
    {
     "data": {
      "text/plain": [
       "service     1.000000\n",
       "public      0.507756\n",
       "tout        0.157710\n",
       "faire       0.152239\n",
       "impots      0.133773\n",
       "publics     0.133087\n",
       "ligne       0.120462\n",
       "securite    0.110756\n",
       "poste       0.102147\n",
       "internet    0.093619\n",
       "Name: service, dtype: float32"
      ]
     },
     "metadata": {},
     "output_type": "display_data"
    },
    {
     "name": "stdout",
     "output_type": "stream",
     "text": [
      "poste\n"
     ]
    },
    {
     "data": {
      "text/plain": [
       "poste          1.000000\n",
       "public         0.104447\n",
       "service        0.089357\n",
       "services       0.077768\n",
       "impots         0.070538\n",
       "publics        0.000000\n",
       "declaration    0.000000\n",
       "cpam           0.000000\n",
       "ligne          0.000000\n",
       "degradation    0.000000\n",
       "Name: poste, dtype: float32"
      ]
     },
     "metadata": {},
     "output_type": "display_data"
    },
    {
     "name": "stdout",
     "output_type": "stream",
     "text": [
      "demarches\n"
     ]
    },
    {
     "data": {
      "text/plain": [
       "demarches          1.000000\n",
       "administratives    0.737313\n",
       "faire              0.217910\n",
       "ligne              0.209571\n",
       "internet           0.191441\n",
       "services           0.053065\n",
       "impots             0.043819\n",
       "cpam               0.000000\n",
       "pole               0.000000\n",
       "evolue             0.000000\n",
       "Name: demarches, dtype: float32"
      ]
     },
     "metadata": {},
     "output_type": "display_data"
    },
    {
     "name": "stdout",
     "output_type": "stream",
     "text": [
      "ligne\n"
     ]
    },
    {
     "data": {
      "text/plain": [
       "ligne          1.000000\n",
       "declaration    0.347880\n",
       "demarches      0.206169\n",
       "impots         0.091557\n",
       "service        0.083096\n",
       "services       0.080207\n",
       "cpam           0.000000\n",
       "publics        0.000000\n",
       "degradation    0.000000\n",
       "pole           0.000000\n",
       "Name: ligne, dtype: float32"
      ]
     },
     "metadata": {},
     "output_type": "display_data"
    },
    {
     "name": "stdout",
     "output_type": "stream",
     "text": [
      "publics\n"
     ]
    },
    {
     "data": {
      "text/plain": [
       "publics      1.000000\n",
       "services     0.301616\n",
       "evolution    0.170520\n",
       "tous         0.152977\n",
       "public       0.105481\n",
       "service      0.081958\n",
       "internet     0.060757\n",
       "aucun        0.044974\n",
       "impots       0.021910\n",
       "source       0.000000\n",
       "Name: publics, dtype: float32"
      ]
     },
     "metadata": {},
     "output_type": "display_data"
    },
    {
     "name": "stdout",
     "output_type": "stream",
     "text": [
      "tous\n"
     ]
    },
    {
     "data": {
      "text/plain": [
       "tous           1.000000\n",
       "publics        0.137708\n",
       "services       0.103690\n",
       "internet       0.066106\n",
       "aucun          0.055556\n",
       "impots         0.021731\n",
       "declaration    0.000000\n",
       "cpam           0.000000\n",
       "ligne          0.000000\n",
       "pole           0.000000\n",
       "Name: tous, dtype: float32"
      ]
     },
     "metadata": {},
     "output_type": "display_data"
    },
    {
     "name": "stdout",
     "output_type": "stream",
     "text": [
      "public\n"
     ]
    },
    {
     "data": {
      "text/plain": [
       "public      1.000000\n",
       "tresor      0.932099\n",
       "service     0.279454\n",
       "publics     0.094270\n",
       "services    0.071973\n",
       "poste       0.065712\n",
       "internet    0.039358\n",
       "aucun       0.036706\n",
       "impots      0.020128\n",
       "source      0.000000\n",
       "Name: public, dtype: float32"
      ]
     },
     "metadata": {},
     "output_type": "display_data"
    },
    {
     "name": "stdout",
     "output_type": "stream",
     "text": [
      "securite\n"
     ]
    },
    {
     "data": {
      "text/plain": [
       "securite           1.000000\n",
       "sociale            0.939359\n",
       "impots             0.073032\n",
       "service            0.059192\n",
       "services           0.044526\n",
       "pole               0.000000\n",
       "identite           0.000000\n",
       "grise              0.000000\n",
       "administratives    0.000000\n",
       "emploi             0.000000\n",
       "Name: securite, dtype: float32"
      ]
     },
     "metadata": {},
     "output_type": "display_data"
    },
    {
     "name": "stdout",
     "output_type": "stream",
     "text": [
      "sociale\n"
     ]
    },
    {
     "data": {
      "text/plain": [
       "sociale        1.000000\n",
       "securite       0.874334\n",
       "impots         0.071607\n",
       "services       0.042391\n",
       "publics        0.000000\n",
       "declaration    0.000000\n",
       "tout           0.000000\n",
       "cpam           0.000000\n",
       "degradation    0.000000\n",
       "ligne          0.000000\n",
       "Name: sociale, dtype: float32"
      ]
     },
     "metadata": {},
     "output_type": "display_data"
    },
    {
     "name": "stdout",
     "output_type": "stream",
     "text": [
      "tout\n"
     ]
    },
    {
     "data": {
      "text/plain": [
       "tout        1.000000\n",
       "faire       0.159701\n",
       "internet    0.086358\n",
       "service     0.076836\n",
       "services    0.054895\n",
       "aucun       0.043981\n",
       "impots      0.027610\n",
       "cpam        0.000000\n",
       "ligne       0.000000\n",
       "pole        0.000000\n",
       "Name: tout, dtype: float32"
      ]
     },
     "metadata": {},
     "output_type": "display_data"
    },
    {
     "name": "stdout",
     "output_type": "stream",
     "text": [
      "declaration\n"
     ]
    },
    {
     "data": {
      "text/plain": [
       "declaration        1.000000\n",
       "impot              0.258252\n",
       "ligne              0.230198\n",
       "internet           0.087123\n",
       "impots             0.083719\n",
       "emploi             0.000000\n",
       "agents             0.000000\n",
       "identite           0.000000\n",
       "grise              0.000000\n",
       "administratives    0.000000\n",
       "Name: declaration, dtype: float32"
      ]
     },
     "metadata": {},
     "output_type": "display_data"
    },
    {
     "name": "stdout",
     "output_type": "stream",
     "text": [
      "administration\n"
     ]
    },
    {
     "data": {
      "text/plain": [
       "administration     1.000000\n",
       "fiscale            0.866267\n",
       "services           0.032632\n",
       "emploi             0.000000\n",
       "degradation        0.000000\n",
       "agents             0.000000\n",
       "identite           0.000000\n",
       "grise              0.000000\n",
       "administratives    0.000000\n",
       "pole               0.000000\n",
       "Name: administration, dtype: float32"
      ]
     },
     "metadata": {},
     "output_type": "display_data"
    },
    {
     "name": "stdout",
     "output_type": "stream",
     "text": [
      "carte\n"
     ]
    },
    {
     "data": {
      "text/plain": [
       "carte        1.000000\n",
       "grise        0.971861\n",
       "passeport    0.482993\n",
       "identite     0.477064\n",
       "internet     0.057700\n",
       "impots       0.044353\n",
       "services     0.033852\n",
       "ligne        0.000000\n",
       "cpam         0.000000\n",
       "evolue       0.000000\n",
       "Name: carte, dtype: float32"
      ]
     },
     "metadata": {},
     "output_type": "display_data"
    },
    {
     "name": "stdout",
     "output_type": "stream",
     "text": [
      "evolution\n"
     ]
    },
    {
     "data": {
      "text/plain": [
       "evolution          1.000000\n",
       "positive           0.452333\n",
       "publics            0.109057\n",
       "services           0.064654\n",
       "internet           0.044326\n",
       "emploi             0.000000\n",
       "agents             0.000000\n",
       "identite           0.000000\n",
       "grise              0.000000\n",
       "administratives    0.000000\n",
       "Name: evolution, dtype: float32"
      ]
     },
     "metadata": {},
     "output_type": "display_data"
    },
    {
     "name": "stdout",
     "output_type": "stream",
     "text": [
      "faire\n"
     ]
    },
    {
     "data": {
      "text/plain": [
       "faire          1.000000\n",
       "tout           0.125000\n",
       "demarches      0.118506\n",
       "internet       0.066106\n",
       "service        0.058054\n",
       "services       0.050320\n",
       "impots         0.020841\n",
       "ligne          0.000000\n",
       "pole           0.000000\n",
       "degradation    0.000000\n",
       "Name: faire, dtype: float32"
      ]
     },
     "metadata": {},
     "output_type": "display_data"
    },
    {
     "name": "stdout",
     "output_type": "stream",
     "text": [
      "acces\n"
     ]
    },
    {
     "data": {
      "text/plain": [
       "acces          1.000000\n",
       "internet       0.126099\n",
       "services       0.057944\n",
       "impots         0.022088\n",
       "publics        0.000000\n",
       "declaration    0.000000\n",
       "cpam           0.000000\n",
       "ligne          0.000000\n",
       "pole           0.000000\n",
       "aucun          0.000000\n",
       "Name: acces, dtype: float32"
      ]
     },
     "metadata": {},
     "output_type": "display_data"
    }
   ],
   "source": [
    "for i in df_qu_10_one_hot.sum(axis=0).sort_values(ascending=False).head(20).index:\n",
    "    print(i)\n",
    "    display(df_confidence_10[i].sort_values(ascending=False).head(10))"
   ]
  },
  {
   "cell_type": "code",
   "execution_count": 64,
   "metadata": {
    "scrolled": true
   },
   "outputs": [
    {
     "name": "stdout",
     "output_type": "stream",
     "text": [
      "impots\n"
     ]
    },
    {
     "data": {
      "text/plain": [
       "impots         0.000178\n",
       "gouv           0.000121\n",
       "site           0.000105\n",
       "declaration    0.000104\n",
       "source         0.000092\n",
       "sociale        0.000082\n",
       "securite       0.000078\n",
       "caf            0.000077\n",
       "service        0.000076\n",
       "ligne          0.000076\n",
       "Name: impots, dtype: float32"
      ]
     },
     "metadata": {},
     "output_type": "display_data"
    },
    {
     "name": "stdout",
     "output_type": "stream",
     "text": [
      "services\n"
     ]
    },
    {
     "data": {
      "text/plain": [
       "services     0.000305\n",
       "fiscaux      0.000281\n",
       "publics      0.000279\n",
       "publiques    0.000120\n",
       "maniere      0.000110\n",
       "tous         0.000106\n",
       "evolue       0.000106\n",
       "agents       0.000102\n",
       "exemple      0.000101\n",
       "positive     0.000101\n",
       "Name: services, dtype: float32"
      ]
     },
     "metadata": {},
     "output_type": "display_data"
    },
    {
     "name": "stdout",
     "output_type": "stream",
     "text": [
      "aucun\n"
     ]
    },
    {
     "data": {
      "text/plain": [
       "aucun        0.000331\n",
       "tous         0.000057\n",
       "tout         0.000051\n",
       "publics      0.000042\n",
       "public       0.000038\n",
       "service      0.000032\n",
       "services     0.000023\n",
       "non               NaN\n",
       "numerique         NaN\n",
       "caf               NaN\n",
       "Name: aucun, dtype: float32"
      ]
     },
     "metadata": {},
     "output_type": "display_data"
    },
    {
     "name": "stdout",
     "output_type": "stream",
     "text": [
      "internet\n"
     ]
    },
    {
     "data": {
      "text/plain": [
       "internet           0.000382\n",
       "acces              0.000203\n",
       "demarches          0.000155\n",
       "site               0.000144\n",
       "administratives    0.000119\n",
       "declaration        0.000109\n",
       "tout               0.000101\n",
       "faire              0.000099\n",
       "grise              0.000090\n",
       "faut               0.000083\n",
       "Name: internet, dtype: float32"
      ]
     },
     "metadata": {},
     "output_type": "display_data"
    },
    {
     "name": "stdout",
     "output_type": "stream",
     "text": [
      "service\n"
     ]
    },
    {
     "data": {
      "text/plain": [
       "service     0.000569\n",
       "public      0.000289\n",
       "tout        0.000090\n",
       "faire       0.000087\n",
       "impots      0.000076\n",
       "publics     0.000076\n",
       "ligne       0.000069\n",
       "securite    0.000063\n",
       "poste       0.000058\n",
       "internet    0.000053\n",
       "Name: service, dtype: float32"
      ]
     },
     "metadata": {},
     "output_type": "display_data"
    },
    {
     "name": "stdout",
     "output_type": "stream",
     "text": [
      "poste\n"
     ]
    },
    {
     "data": {
      "text/plain": [
       "poste        0.000651\n",
       "public       0.000068\n",
       "service      0.000058\n",
       "services     0.000051\n",
       "impots       0.000046\n",
       "non               NaN\n",
       "numerique         NaN\n",
       "caf               NaN\n",
       "source            NaN\n",
       "evolution         NaN\n",
       "Name: poste, dtype: float32"
      ]
     },
     "metadata": {},
     "output_type": "display_data"
    },
    {
     "name": "stdout",
     "output_type": "stream",
     "text": [
      "demarches\n"
     ]
    },
    {
     "data": {
      "text/plain": [
       "demarches          0.000812\n",
       "administratives    0.000598\n",
       "faire              0.000177\n",
       "ligne              0.000170\n",
       "internet           0.000155\n",
       "services           0.000043\n",
       "impots             0.000036\n",
       "non                     NaN\n",
       "numerique               NaN\n",
       "caf                     NaN\n",
       "Name: demarches, dtype: float32"
      ]
     },
     "metadata": {},
     "output_type": "display_data"
    },
    {
     "name": "stdout",
     "output_type": "stream",
     "text": [
      "ligne\n"
     ]
    },
    {
     "data": {
      "text/plain": [
       "ligne          0.000825\n",
       "declaration    0.000287\n",
       "demarches      0.000170\n",
       "impots         0.000076\n",
       "service        0.000069\n",
       "services       0.000066\n",
       "non                 NaN\n",
       "numerique           NaN\n",
       "caf                 NaN\n",
       "source              NaN\n",
       "Name: ligne, dtype: float32"
      ]
     },
     "metadata": {},
     "output_type": "display_data"
    },
    {
     "name": "stdout",
     "output_type": "stream",
     "text": [
      "publics\n"
     ]
    },
    {
     "data": {
      "text/plain": [
       "publics      0.000924\n",
       "services     0.000279\n",
       "evolution    0.000158\n",
       "tous         0.000141\n",
       "public       0.000097\n",
       "service      0.000076\n",
       "internet     0.000056\n",
       "aucun        0.000042\n",
       "impots       0.000020\n",
       "non               NaN\n",
       "Name: publics, dtype: float32"
      ]
     },
     "metadata": {},
     "output_type": "display_data"
    },
    {
     "name": "stdout",
     "output_type": "stream",
     "text": [
      "tous\n"
     ]
    },
    {
     "data": {
      "text/plain": [
       "tous         0.001027\n",
       "publics      0.000141\n",
       "services     0.000106\n",
       "internet     0.000068\n",
       "aucun        0.000057\n",
       "impots       0.000022\n",
       "non               NaN\n",
       "numerique         NaN\n",
       "caf               NaN\n",
       "source            NaN\n",
       "Name: tous, dtype: float32"
      ]
     },
     "metadata": {},
     "output_type": "display_data"
    },
    {
     "name": "stdout",
     "output_type": "stream",
     "text": [
      "public\n"
     ]
    },
    {
     "data": {
      "text/plain": [
       "public      0.001034\n",
       "tresor      0.000964\n",
       "service     0.000289\n",
       "publics     0.000097\n",
       "services    0.000074\n",
       "poste       0.000068\n",
       "internet    0.000041\n",
       "aucun       0.000038\n",
       "impots      0.000021\n",
       "non              NaN\n",
       "Name: public, dtype: float32"
      ]
     },
     "metadata": {},
     "output_type": "display_data"
    },
    {
     "name": "stdout",
     "output_type": "stream",
     "text": [
      "securite\n"
     ]
    },
    {
     "data": {
      "text/plain": [
       "securite     0.001065\n",
       "sociale      0.001000\n",
       "impots       0.000078\n",
       "service      0.000063\n",
       "services     0.000047\n",
       "non               NaN\n",
       "numerique         NaN\n",
       "caf               NaN\n",
       "source            NaN\n",
       "evolution         NaN\n",
       "Name: securite, dtype: float32"
      ]
     },
     "metadata": {},
     "output_type": "display_data"
    },
    {
     "name": "stdout",
     "output_type": "stream",
     "text": [
      "sociale\n"
     ]
    },
    {
     "data": {
      "text/plain": [
       "sociale      0.001144\n",
       "securite     0.001000\n",
       "impots       0.000082\n",
       "services     0.000049\n",
       "non               NaN\n",
       "numerique         NaN\n",
       "caf               NaN\n",
       "source            NaN\n",
       "evolution         NaN\n",
       "carte             NaN\n",
       "Name: sociale, dtype: float32"
      ]
     },
     "metadata": {},
     "output_type": "display_data"
    },
    {
     "name": "stdout",
     "output_type": "stream",
     "text": [
      "tout\n"
     ]
    },
    {
     "data": {
      "text/plain": [
       "tout         0.001168\n",
       "faire        0.000187\n",
       "internet     0.000101\n",
       "service      0.000090\n",
       "services     0.000064\n",
       "aucun        0.000051\n",
       "impots       0.000032\n",
       "non               NaN\n",
       "numerique         NaN\n",
       "caf               NaN\n",
       "Name: tout, dtype: float32"
      ]
     },
     "metadata": {},
     "output_type": "display_data"
    },
    {
     "name": "stdout",
     "output_type": "stream",
     "text": [
      "declaration\n"
     ]
    },
    {
     "data": {
      "text/plain": [
       "declaration    0.001247\n",
       "impot          0.000322\n",
       "ligne          0.000287\n",
       "internet       0.000109\n",
       "impots         0.000104\n",
       "non                 NaN\n",
       "numerique           NaN\n",
       "caf                 NaN\n",
       "source              NaN\n",
       "evolution           NaN\n",
       "Name: declaration, dtype: float32"
      ]
     },
     "metadata": {},
     "output_type": "display_data"
    },
    {
     "name": "stdout",
     "output_type": "stream",
     "text": [
      "administration\n"
     ]
    },
    {
     "data": {
      "text/plain": [
       "administration    0.001408\n",
       "fiscale           0.001220\n",
       "services          0.000046\n",
       "non                    NaN\n",
       "numerique              NaN\n",
       "caf                    NaN\n",
       "source                 NaN\n",
       "evolution              NaN\n",
       "securite               NaN\n",
       "carte                  NaN\n",
       "Name: administration, dtype: float32"
      ]
     },
     "metadata": {},
     "output_type": "display_data"
    },
    {
     "name": "stdout",
     "output_type": "stream",
     "text": [
      "carte\n"
     ]
    },
    {
     "data": {
      "text/plain": [
       "carte        0.001427\n",
       "grise        0.001386\n",
       "passeport    0.000689\n",
       "identite     0.000681\n",
       "internet     0.000082\n",
       "impots       0.000063\n",
       "services     0.000048\n",
       "non               NaN\n",
       "numerique         NaN\n",
       "caf               NaN\n",
       "Name: carte, dtype: float32"
      ]
     },
     "metadata": {},
     "output_type": "display_data"
    },
    {
     "name": "stdout",
     "output_type": "stream",
     "text": [
      "evolution\n"
     ]
    },
    {
     "data": {
      "text/plain": [
       "evolution    0.001445\n",
       "positive     0.000654\n",
       "publics      0.000158\n",
       "services     0.000093\n",
       "internet     0.000064\n",
       "non               NaN\n",
       "numerique         NaN\n",
       "caf               NaN\n",
       "source            NaN\n",
       "securite          NaN\n",
       "Name: evolution, dtype: float32"
      ]
     },
     "metadata": {},
     "output_type": "display_data"
    },
    {
     "name": "stdout",
     "output_type": "stream",
     "text": [
      "faire\n"
     ]
    },
    {
     "data": {
      "text/plain": [
       "faire        0.001493\n",
       "tout         0.000187\n",
       "demarches    0.000177\n",
       "internet     0.000099\n",
       "service      0.000087\n",
       "services     0.000075\n",
       "impots       0.000031\n",
       "non               NaN\n",
       "numerique         NaN\n",
       "caf               NaN\n",
       "Name: faire, dtype: float32"
      ]
     },
     "metadata": {},
     "output_type": "display_data"
    },
    {
     "name": "stdout",
     "output_type": "stream",
     "text": [
      "acces\n"
     ]
    },
    {
     "data": {
      "text/plain": [
       "acces        0.001608\n",
       "internet     0.000203\n",
       "services     0.000093\n",
       "impots       0.000036\n",
       "non               NaN\n",
       "numerique         NaN\n",
       "caf               NaN\n",
       "source            NaN\n",
       "evolution         NaN\n",
       "securite          NaN\n",
       "Name: acces, dtype: float32"
      ]
     },
     "metadata": {},
     "output_type": "display_data"
    }
   ],
   "source": [
    "for i in df_qu_10_one_hot.sum(axis=0).sort_values(ascending=False).head(20).index:\n",
    "    print(i)\n",
    "    display(df_lift_10[i].sort_values(ascending=False).head(10))"
   ]
  },
  {
   "cell_type": "code",
   "execution_count": 65,
   "metadata": {},
   "outputs": [
    {
     "data": {
      "text/plain": [
       "147"
      ]
     },
     "execution_count": 65,
     "metadata": {},
     "output_type": "execute_result"
    }
   ],
   "source": [
    "gc.collect()"
   ]
  },
  {
   "cell_type": "markdown",
   "metadata": {},
   "source": [
    "# Question 11 : Quels sont les services publics qui doivent le plus évoluer selon vous ?"
   ]
  },
  {
   "cell_type": "code",
   "execution_count": 66,
   "metadata": {
    "collapsed": true
   },
   "outputs": [],
   "source": [
    "question_11 = \"Quels sont les services publics qui doivent le plus évoluer selon vous ?\"\n",
    "qu_11,df_qu_11_one_hot,df_cov_11,df_confidence_11,df_lift_11 = compute_similarities(question_11, new_res)"
   ]
  },
  {
   "cell_type": "code",
   "execution_count": 67,
   "metadata": {
    "scrolled": true
   },
   "outputs": [
    {
     "name": "stdout",
     "output_type": "stream",
     "text": [
      "services\n"
     ]
    },
    {
     "data": {
      "text/plain": [
       "services     3410\n",
       "publics       746\n",
       "tous          642\n",
       "sante         567\n",
       "service       357\n",
       "education     316\n",
       "hopitaux      292\n",
       "faut          283\n",
       "public        269\n",
       "faire         252\n",
       "Name: services, dtype: uint16"
      ]
     },
     "metadata": {},
     "output_type": "display_data"
    },
    {
     "name": "stdout",
     "output_type": "stream",
     "text": [
      "tous\n"
     ]
    },
    {
     "data": {
      "text/plain": [
       "tous         3198\n",
       "services      642\n",
       "service       280\n",
       "faut          262\n",
       "publics       251\n",
       "education     243\n",
       "faire         218\n",
       "sante         211\n",
       "public        206\n",
       "tout          197\n",
       "Name: tous, dtype: uint16"
      ]
     },
     "metadata": {},
     "output_type": "display_data"
    },
    {
     "name": "stdout",
     "output_type": "stream",
     "text": [
      "education\n"
     ]
    },
    {
     "data": {
      "text/plain": [
       "education    3158\n",
       "nationale    1729\n",
       "sante        1027\n",
       "justice       504\n",
       "services      316\n",
       "hopitaux      272\n",
       "tous          243\n",
       "police        237\n",
       "emploi        224\n",
       "faut          204\n",
       "Name: education, dtype: uint16"
      ]
     },
     "metadata": {},
     "output_type": "display_data"
    },
    {
     "name": "stdout",
     "output_type": "stream",
     "text": [
      "sante\n"
     ]
    },
    {
     "data": {
      "text/plain": [
       "sante         2927\n",
       "education     1027\n",
       "services       567\n",
       "justice        401\n",
       "nationale      298\n",
       "hopitaux       285\n",
       "securite       273\n",
       "transports     234\n",
       "service        212\n",
       "tous           211\n",
       "Name: sante, dtype: uint16"
      ]
     },
     "metadata": {},
     "output_type": "display_data"
    },
    {
     "name": "stdout",
     "output_type": "stream",
     "text": [
      "nationale\n"
     ]
    },
    {
     "data": {
      "text/plain": [
       "nationale      1841\n",
       "education      1729\n",
       "sante           298\n",
       "justice         279\n",
       "services        201\n",
       "police          176\n",
       "emploi          163\n",
       "hopitaux        147\n",
       "tous            144\n",
       "enseignants     141\n",
       "Name: nationale, dtype: uint16"
      ]
     },
     "metadata": {},
     "output_type": "display_data"
    },
    {
     "name": "stdout",
     "output_type": "stream",
     "text": [
      "emploi\n"
     ]
    },
    {
     "data": {
      "text/plain": [
       "emploi       1831\n",
       "pole         1537\n",
       "caf           333\n",
       "services      235\n",
       "education     224\n",
       "nationale     163\n",
       "securite      152\n",
       "sante         151\n",
       "sociale       149\n",
       "service       134\n",
       "Name: emploi, dtype: uint16"
      ]
     },
     "metadata": {},
     "output_type": "display_data"
    },
    {
     "name": "stdout",
     "output_type": "stream",
     "text": [
      "justice\n"
     ]
    },
    {
     "data": {
      "text/plain": [
       "justice      1797\n",
       "education     504\n",
       "sante         401\n",
       "police        353\n",
       "nationale     279\n",
       "services      219\n",
       "moyens        166\n",
       "hopitaux      146\n",
       "securite      137\n",
       "tous          128\n",
       "Name: justice, dtype: uint16"
      ]
     },
     "metadata": {},
     "output_type": "display_data"
    },
    {
     "name": "stdout",
     "output_type": "stream",
     "text": [
      "service\n"
     ]
    },
    {
     "data": {
      "text/plain": [
       "service      1616\n",
       "public        570\n",
       "services      357\n",
       "tous          280\n",
       "sante         212\n",
       "impots        191\n",
       "faut          186\n",
       "faire         181\n",
       "education     166\n",
       "tout          163\n",
       "Name: service, dtype: uint16"
      ]
     },
     "metadata": {},
     "output_type": "display_data"
    },
    {
     "name": "stdout",
     "output_type": "stream",
     "text": [
      "pole\n"
     ]
    },
    {
     "data": {
      "text/plain": [
       "pole         1585\n",
       "emploi       1537\n",
       "caf           326\n",
       "services      171\n",
       "education     161\n",
       "securite      133\n",
       "sociale       128\n",
       "nationale     127\n",
       "service       104\n",
       "impots        102\n",
       "Name: pole, dtype: uint16"
      ]
     },
     "metadata": {},
     "output_type": "display_data"
    },
    {
     "name": "stdout",
     "output_type": "stream",
     "text": [
      "hopitaux\n"
     ]
    },
    {
     "data": {
      "text/plain": [
       "hopitaux     1491\n",
       "services      292\n",
       "sante         285\n",
       "education     272\n",
       "urgences      155\n",
       "publics       149\n",
       "nationale     147\n",
       "justice       146\n",
       "police        143\n",
       "personnel     142\n",
       "Name: hopitaux, dtype: uint16"
      ]
     },
     "metadata": {},
     "output_type": "display_data"
    },
    {
     "name": "stdout",
     "output_type": "stream",
     "text": [
      "impots\n"
     ]
    },
    {
     "data": {
      "text/plain": [
       "impots        1291\n",
       "services       212\n",
       "service        191\n",
       "caf            133\n",
       "emploi         109\n",
       "securite       108\n",
       "poste          104\n",
       "pole           102\n",
       "sociale        102\n",
       "transports       0\n",
       "Name: impots, dtype: uint16"
      ]
     },
     "metadata": {},
     "output_type": "display_data"
    },
    {
     "name": "stdout",
     "output_type": "stream",
     "text": [
      "securite\n"
     ]
    },
    {
     "data": {
      "text/plain": [
       "securite     1207\n",
       "sociale       733\n",
       "sante         273\n",
       "services      204\n",
       "education     197\n",
       "emploi        152\n",
       "caf           143\n",
       "justice       137\n",
       "pole          133\n",
       "tous          110\n",
       "Name: securite, dtype: uint16"
      ]
     },
     "metadata": {},
     "output_type": "display_data"
    },
    {
     "name": "stdout",
     "output_type": "stream",
     "text": [
      "hopital\n"
     ]
    },
    {
     "data": {
      "text/plain": [
       "hopital      1131\n",
       "education     176\n",
       "public        154\n",
       "sante         145\n",
       "services      134\n",
       "urgences      128\n",
       "justice       115\n",
       "ecole         107\n",
       "nationale     107\n",
       "nombre          0\n",
       "Name: hopital, dtype: uint16"
      ]
     },
     "metadata": {},
     "output_type": "display_data"
    },
    {
     "name": "stdout",
     "output_type": "stream",
     "text": [
      "poste\n"
     ]
    },
    {
     "data": {
      "text/plain": [
       "poste       1094\n",
       "services     196\n",
       "sncf         167\n",
       "service      137\n",
       "hopitaux     104\n",
       "impots       104\n",
       "soins          0\n",
       "charge         0\n",
       "hopital        0\n",
       "publics        0\n",
       "Name: poste, dtype: uint16"
      ]
     },
     "metadata": {},
     "output_type": "display_data"
    },
    {
     "name": "stdout",
     "output_type": "stream",
     "text": [
      "transports\n"
     ]
    },
    {
     "data": {
      "text/plain": [
       "transports    1093\n",
       "sante          234\n",
       "commun         223\n",
       "publics        178\n",
       "services       176\n",
       "education      166\n",
       "hopitaux       111\n",
       "soins            0\n",
       "voir             0\n",
       "charge           0\n",
       "Name: transports, dtype: uint16"
      ]
     },
     "metadata": {},
     "output_type": "display_data"
    },
    {
     "name": "stdout",
     "output_type": "stream",
     "text": [
      "public\n"
     ]
    },
    {
     "data": {
      "text/plain": [
       "public       1089\n",
       "service       570\n",
       "services      269\n",
       "tous          206\n",
       "faut          162\n",
       "hopital       154\n",
       "sante         152\n",
       "education     148\n",
       "faire         131\n",
       "tout          128\n",
       "Name: public, dtype: uint16"
      ]
     },
     "metadata": {},
     "output_type": "display_data"
    },
    {
     "name": "stdout",
     "output_type": "stream",
     "text": [
      "caf\n"
     ]
    },
    {
     "data": {
      "text/plain": [
       "caf         1088\n",
       "emploi       333\n",
       "pole         326\n",
       "cpam         156\n",
       "sociale      144\n",
       "securite     143\n",
       "services     135\n",
       "impots       133\n",
       "accueil        0\n",
       "publics        0\n",
       "Name: caf, dtype: uint16"
      ]
     },
     "metadata": {},
     "output_type": "display_data"
    },
    {
     "name": "stdout",
     "output_type": "stream",
     "text": [
      "faut\n"
     ]
    },
    {
     "data": {
      "text/plain": [
       "faut         1066\n",
       "services      283\n",
       "tous          262\n",
       "faire         226\n",
       "education     204\n",
       "service       186\n",
       "tout          186\n",
       "sante         177\n",
       "public        162\n",
       "publics       148\n",
       "Name: faut, dtype: uint16"
      ]
     },
     "metadata": {},
     "output_type": "display_data"
    },
    {
     "name": "stdout",
     "output_type": "stream",
     "text": [
      "tout\n"
     ]
    },
    {
     "data": {
      "text/plain": [
       "tout         1046\n",
       "services      249\n",
       "tous          197\n",
       "faut          186\n",
       "faire         183\n",
       "education     182\n",
       "service       163\n",
       "sante         162\n",
       "monde         129\n",
       "public        128\n",
       "Name: tout, dtype: uint16"
      ]
     },
     "metadata": {},
     "output_type": "display_data"
    },
    {
     "name": "stdout",
     "output_type": "stream",
     "text": [
      "police\n"
     ]
    },
    {
     "data": {
      "text/plain": [
       "police         1027\n",
       "justice         353\n",
       "education       237\n",
       "gendarmerie     202\n",
       "services        186\n",
       "sante           185\n",
       "nationale       176\n",
       "hopitaux        143\n",
       "voir              0\n",
       "communes          0\n",
       "Name: police, dtype: uint16"
      ]
     },
     "metadata": {},
     "output_type": "display_data"
    }
   ],
   "source": [
    "for i in df_qu_11_one_hot.sum(axis=0).sort_values(ascending=False).head(20).index:\n",
    "    print(i)\n",
    "    display(df_cov_11[i].sort_values(ascending=False).head(10))"
   ]
  },
  {
   "cell_type": "code",
   "execution_count": 68,
   "metadata": {
    "scrolled": true
   },
   "outputs": [
    {
     "name": "stdout",
     "output_type": "stream",
     "text": [
      "services\n"
     ]
    },
    {
     "data": {
      "text/plain": [
       "services          1.000000\n",
       "publics           0.739346\n",
       "sociaux           0.728302\n",
       "administratifs    0.549618\n",
       "proximite         0.433010\n",
       "publiques         0.425856\n",
       "evoluer           0.359914\n",
       "exemple           0.335249\n",
       "medecins          0.301408\n",
       "acces             0.294355\n",
       "Name: services, dtype: float32"
      ]
     },
     "metadata": {},
     "output_type": "display_data"
    },
    {
     "name": "stdout",
     "output_type": "stream",
     "text": [
      "tous\n"
     ]
    },
    {
     "data": {
      "text/plain": [
       "tous        1.000000\n",
       "evoluer     0.308190\n",
       "citoyens    0.306931\n",
       "non         0.278912\n",
       "publics     0.248761\n",
       "exemple     0.247126\n",
       "faut        0.245779\n",
       "internet    0.244493\n",
       "faire       0.223819\n",
       "travail     0.205179\n",
       "Name: tous, dtype: float32"
      ]
     },
     "metadata": {},
     "output_type": "display_data"
    },
    {
     "name": "stdout",
     "output_type": "stream",
     "text": [
      "education\n"
     ]
    },
    {
     "data": {
      "text/plain": [
       "education      1.000000\n",
       "nationale      0.939164\n",
       "enseignants    0.708185\n",
       "eleves         0.707224\n",
       "enfants        0.525547\n",
       "formation      0.387255\n",
       "sante          0.350871\n",
       "mieux          0.330097\n",
       "niveau         0.318043\n",
       "travail        0.286853\n",
       "Name: education, dtype: float32"
      ]
     },
     "metadata": {},
     "output_type": "display_data"
    },
    {
     "name": "stdout",
     "output_type": "stream",
     "text": [
      "sante\n"
     ]
    },
    {
     "data": {
      "text/plain": [
       "sante           1.000000\n",
       "medecins        0.518310\n",
       "maisons         0.431034\n",
       "soins           0.390390\n",
       "education       0.325206\n",
       "urgences        0.296471\n",
       "moyens          0.296403\n",
       "transport       0.281796\n",
       "publique        0.275943\n",
       "enseignement    0.261044\n",
       "Name: sante, dtype: float32"
      ]
     },
     "metadata": {},
     "output_type": "display_data"
    },
    {
     "name": "stdout",
     "output_type": "stream",
     "text": [
      "nationale\n"
     ]
    },
    {
     "data": {
      "text/plain": [
       "nationale      1.000000\n",
       "education      0.547498\n",
       "eleves         0.509506\n",
       "enseignants    0.501779\n",
       "formation      0.252451\n",
       "travail        0.205179\n",
       "police         0.171373\n",
       "moyens         0.158273\n",
       "justice        0.155259\n",
       "faire          0.135524\n",
       "Name: nationale, dtype: float32"
      ]
     },
     "metadata": {},
     "output_type": "display_data"
    },
    {
     "name": "stdout",
     "output_type": "stream",
     "text": [
      "emploi\n"
     ]
    },
    {
     "data": {
      "text/plain": [
       "emploi       1.000000\n",
       "pole         0.969716\n",
       "caf          0.306066\n",
       "formation    0.291667\n",
       "sociale      0.164823\n",
       "securite     0.125932\n",
       "nationale    0.088539\n",
       "impots       0.084431\n",
       "service      0.082921\n",
       "education    0.070931\n",
       "Name: emploi, dtype: float32"
      ]
     },
     "metadata": {},
     "output_type": "display_data"
    },
    {
     "name": "stdout",
     "output_type": "stream",
     "text": [
      "justice\n"
     ]
    },
    {
     "data": {
      "text/plain": [
       "justice      1.000000\n",
       "police       0.343720\n",
       "moyens       0.238849\n",
       "education    0.159595\n",
       "nationale    0.151548\n",
       "sante        0.137000\n",
       "securite     0.113505\n",
       "hopital      0.101680\n",
       "hopitaux     0.097921\n",
       "service      0.072401\n",
       "Name: justice, dtype: float32"
      ]
     },
     "metadata": {},
     "output_type": "display_data"
    },
    {
     "name": "stdout",
     "output_type": "stream",
     "text": [
      "service\n"
     ]
    },
    {
     "data": {
      "text/plain": [
       "service    1.000000\n",
       "public     0.523416\n",
       "non        0.241497\n",
       "exemple    0.201149\n",
       "faire      0.185832\n",
       "faut       0.174484\n",
       "tout       0.155832\n",
       "publics    0.155600\n",
       "moyens     0.152518\n",
       "impots     0.147947\n",
       "Name: service, dtype: float32"
      ]
     },
     "metadata": {},
     "output_type": "display_data"
    },
    {
     "name": "stdout",
     "output_type": "stream",
     "text": [
      "pole\n"
     ]
    },
    {
     "data": {
      "text/plain": [
       "pole         1.000000\n",
       "emploi       0.839432\n",
       "caf          0.299632\n",
       "sociale      0.141593\n",
       "securite     0.110191\n",
       "impots       0.079009\n",
       "nationale    0.068984\n",
       "service      0.064356\n",
       "education    0.050982\n",
       "services     0.050147\n",
       "Name: pole, dtype: float32"
      ]
     },
     "metadata": {},
     "output_type": "display_data"
    },
    {
     "name": "stdout",
     "output_type": "stream",
     "text": [
      "hopitaux\n"
     ]
    },
    {
     "data": {
      "text/plain": [
       "hopitaux     1.000000\n",
       "ecoles       0.386861\n",
       "urgences     0.364706\n",
       "medecins     0.318310\n",
       "personnel    0.274131\n",
       "moyens       0.197122\n",
       "publics      0.147671\n",
       "police       0.139241\n",
       "faire        0.118070\n",
       "faut         0.103189\n",
       "Name: hopitaux, dtype: float32"
      ]
     },
     "metadata": {},
     "output_type": "display_data"
    },
    {
     "name": "stdout",
     "output_type": "stream",
     "text": [
      "impots\n"
     ]
    },
    {
     "data": {
      "text/plain": [
       "impots      1.000000\n",
       "caf         0.122243\n",
       "service     0.118193\n",
       "sociale     0.112832\n",
       "poste       0.095064\n",
       "securite    0.089478\n",
       "pole        0.064353\n",
       "services    0.062170\n",
       "emploi      0.059530\n",
       "hopitaux    0.000000\n",
       "Name: impots, dtype: float32"
      ]
     },
     "metadata": {},
     "output_type": "display_data"
    },
    {
     "name": "stdout",
     "output_type": "stream",
     "text": [
      "securite\n"
     ]
    },
    {
     "data": {
      "text/plain": [
       "securite     1.000000\n",
       "sociale      0.810841\n",
       "caf          0.131434\n",
       "sante        0.093270\n",
       "pole         0.083912\n",
       "impots       0.083656\n",
       "emploi       0.083015\n",
       "justice      0.076238\n",
       "education    0.062381\n",
       "services     0.059824\n",
       "Name: securite, dtype: float32"
      ]
     },
     "metadata": {},
     "output_type": "display_data"
    },
    {
     "name": "stdout",
     "output_type": "stream",
     "text": [
      "hopital\n"
     ]
    },
    {
     "data": {
      "text/plain": [
       "hopital      1.000000\n",
       "urgences     0.301176\n",
       "ecole        0.168770\n",
       "public       0.141414\n",
       "justice      0.063996\n",
       "nationale    0.058121\n",
       "education    0.055731\n",
       "sante        0.049539\n",
       "services     0.039296\n",
       "nombre       0.000000\n",
       "Name: hopital, dtype: float32"
      ]
     },
     "metadata": {},
     "output_type": "display_data"
    },
    {
     "name": "stdout",
     "output_type": "stream",
     "text": [
      "poste\n"
     ]
    },
    {
     "data": {
      "text/plain": [
       "poste       1.000000\n",
       "sncf        0.317490\n",
       "service     0.084777\n",
       "impots      0.080558\n",
       "hopitaux    0.069752\n",
       "services    0.057478\n",
       "soins       0.000000\n",
       "charge      0.000000\n",
       "hopital     0.000000\n",
       "publics     0.000000\n",
       "Name: poste, dtype: float32"
      ]
     },
     "metadata": {},
     "output_type": "display_data"
    },
    {
     "name": "stdout",
     "output_type": "stream",
     "text": [
      "transports\n"
     ]
    },
    {
     "data": {
      "text/plain": [
       "transports    1.000000\n",
       "commun        0.728758\n",
       "publics       0.176412\n",
       "sante         0.079945\n",
       "hopitaux      0.074447\n",
       "education     0.052565\n",
       "services      0.051613\n",
       "soins         0.000000\n",
       "voir          0.000000\n",
       "charge        0.000000\n",
       "Name: transports, dtype: float32"
      ]
     },
     "metadata": {},
     "output_type": "display_data"
    },
    {
     "name": "stdout",
     "output_type": "stream",
     "text": [
      "public\n"
     ]
    },
    {
     "data": {
      "text/plain": [
       "public       1.000000\n",
       "service      0.352723\n",
       "faut         0.151970\n",
       "hopital      0.136163\n",
       "faire        0.134497\n",
       "tout         0.122371\n",
       "publics      0.118930\n",
       "services     0.078886\n",
       "tous         0.064415\n",
       "nationale    0.058664\n",
       "Name: public, dtype: float32"
      ]
     },
     "metadata": {},
     "output_type": "display_data"
    },
    {
     "name": "stdout",
     "output_type": "stream",
     "text": [
      "caf\n"
     ]
    },
    {
     "data": {
      "text/plain": [
       "caf         1.000000\n",
       "cpam        0.471299\n",
       "pole        0.205678\n",
       "emploi      0.181868\n",
       "sociale     0.159292\n",
       "securite    0.118476\n",
       "impots      0.103021\n",
       "services    0.039589\n",
       "accueil     0.000000\n",
       "publics     0.000000\n",
       "Name: caf, dtype: float32"
      ]
     },
     "metadata": {},
     "output_type": "display_data"
    },
    {
     "name": "stdout",
     "output_type": "stream",
     "text": [
      "faut\n"
     ]
    },
    {
     "data": {
      "text/plain": [
       "faut        1.000000\n",
       "exemple     0.239464\n",
       "faire       0.232033\n",
       "moyens      0.200000\n",
       "non         0.190476\n",
       "tout        0.177820\n",
       "public      0.148760\n",
       "publics     0.146680\n",
       "service     0.115099\n",
       "services    0.082991\n",
       "Name: faut, dtype: float32"
      ]
     },
     "metadata": {},
     "output_type": "display_data"
    },
    {
     "name": "stdout",
     "output_type": "stream",
     "text": [
      "tout\n"
     ]
    },
    {
     "data": {
      "text/plain": [
       "tout         1.000000\n",
       "monde        0.486792\n",
       "temps        0.243736\n",
       "non          0.207483\n",
       "faire        0.187885\n",
       "faut         0.174484\n",
       "public       0.117539\n",
       "service      0.100866\n",
       "services     0.073021\n",
       "nationale    0.061923\n",
       "Name: tout, dtype: float32"
      ]
     },
     "metadata": {},
     "output_type": "display_data"
    },
    {
     "name": "stdout",
     "output_type": "stream",
     "text": [
      "police\n"
     ]
    },
    {
     "data": {
      "text/plain": [
       "police         1.000000\n",
       "gendarmerie    0.798419\n",
       "justice        0.196439\n",
       "hopitaux       0.095909\n",
       "nationale      0.095600\n",
       "education      0.075048\n",
       "sante          0.063205\n",
       "services       0.054545\n",
       "cartes         0.000000\n",
       "charge         0.000000\n",
       "Name: police, dtype: float32"
      ]
     },
     "metadata": {},
     "output_type": "display_data"
    }
   ],
   "source": [
    "for i in df_qu_11_one_hot.sum(axis=0).sort_values(ascending=False).head(20).index:\n",
    "    print(i)\n",
    "    display(df_confidence_11[i].sort_values(ascending=False).head(10))"
   ]
  },
  {
   "cell_type": "code",
   "execution_count": 69,
   "metadata": {
    "scrolled": true
   },
   "outputs": [
    {
     "name": "stdout",
     "output_type": "stream",
     "text": [
      "services\n"
     ]
    },
    {
     "data": {
      "text/plain": [
       "services          0.000293\n",
       "publics           0.000217\n",
       "sociaux           0.000214\n",
       "administratifs    0.000161\n",
       "proximite         0.000127\n",
       "publiques         0.000125\n",
       "evoluer           0.000106\n",
       "exemple           0.000098\n",
       "medecins          0.000088\n",
       "acces             0.000086\n",
       "Name: services, dtype: float32"
      ]
     },
     "metadata": {},
     "output_type": "display_data"
    },
    {
     "name": "stdout",
     "output_type": "stream",
     "text": [
      "tous\n"
     ]
    },
    {
     "data": {
      "text/plain": [
       "tous        0.000313\n",
       "evoluer     0.000096\n",
       "citoyens    0.000096\n",
       "non         0.000087\n",
       "publics     0.000078\n",
       "exemple     0.000077\n",
       "faut        0.000077\n",
       "internet    0.000076\n",
       "faire       0.000070\n",
       "travail     0.000064\n",
       "Name: tous, dtype: float32"
      ]
     },
     "metadata": {},
     "output_type": "display_data"
    },
    {
     "name": "stdout",
     "output_type": "stream",
     "text": [
      "education\n"
     ]
    },
    {
     "data": {
      "text/plain": [
       "education      0.000317\n",
       "nationale      0.000297\n",
       "enseignants    0.000224\n",
       "eleves         0.000224\n",
       "enfants        0.000166\n",
       "formation      0.000123\n",
       "sante          0.000111\n",
       "mieux          0.000105\n",
       "niveau         0.000101\n",
       "travail        0.000091\n",
       "Name: education, dtype: float32"
      ]
     },
     "metadata": {},
     "output_type": "display_data"
    },
    {
     "name": "stdout",
     "output_type": "stream",
     "text": [
      "sante\n"
     ]
    },
    {
     "data": {
      "text/plain": [
       "sante           0.000342\n",
       "medecins        0.000177\n",
       "maisons         0.000147\n",
       "soins           0.000133\n",
       "education       0.000111\n",
       "urgences        0.000101\n",
       "moyens          0.000101\n",
       "transport       0.000096\n",
       "publique        0.000094\n",
       "enseignement    0.000089\n",
       "Name: sante, dtype: float32"
      ]
     },
     "metadata": {},
     "output_type": "display_data"
    },
    {
     "name": "stdout",
     "output_type": "stream",
     "text": [
      "nationale\n"
     ]
    },
    {
     "data": {
      "text/plain": [
       "nationale      0.000543\n",
       "education      0.000297\n",
       "eleves         0.000277\n",
       "enseignants    0.000273\n",
       "formation      0.000137\n",
       "travail        0.000111\n",
       "police         0.000093\n",
       "moyens         0.000086\n",
       "justice        0.000084\n",
       "faire          0.000074\n",
       "Name: nationale, dtype: float32"
      ]
     },
     "metadata": {},
     "output_type": "display_data"
    },
    {
     "name": "stdout",
     "output_type": "stream",
     "text": [
      "emploi\n"
     ]
    },
    {
     "data": {
      "text/plain": [
       "emploi       0.000546\n",
       "pole         0.000530\n",
       "caf          0.000167\n",
       "formation    0.000159\n",
       "sociale      0.000090\n",
       "securite     0.000069\n",
       "nationale    0.000048\n",
       "impots       0.000046\n",
       "service      0.000045\n",
       "education    0.000039\n",
       "Name: emploi, dtype: float32"
      ]
     },
     "metadata": {},
     "output_type": "display_data"
    },
    {
     "name": "stdout",
     "output_type": "stream",
     "text": [
      "justice\n"
     ]
    },
    {
     "data": {
      "text/plain": [
       "justice      0.000556\n",
       "police       0.000191\n",
       "moyens       0.000133\n",
       "education    0.000089\n",
       "nationale    0.000084\n",
       "sante        0.000076\n",
       "securite     0.000063\n",
       "hopital      0.000057\n",
       "hopitaux     0.000054\n",
       "service      0.000040\n",
       "Name: justice, dtype: float32"
      ]
     },
     "metadata": {},
     "output_type": "display_data"
    },
    {
     "name": "stdout",
     "output_type": "stream",
     "text": [
      "service\n"
     ]
    },
    {
     "data": {
      "text/plain": [
       "service    0.000619\n",
       "public     0.000324\n",
       "non        0.000149\n",
       "exemple    0.000124\n",
       "faire      0.000115\n",
       "faut       0.000108\n",
       "tout       0.000096\n",
       "publics    0.000096\n",
       "moyens     0.000094\n",
       "impots     0.000092\n",
       "Name: service, dtype: float32"
      ]
     },
     "metadata": {},
     "output_type": "display_data"
    },
    {
     "name": "stdout",
     "output_type": "stream",
     "text": [
      "pole\n"
     ]
    },
    {
     "data": {
      "text/plain": [
       "pole         0.000631\n",
       "emploi       0.000530\n",
       "caf          0.000189\n",
       "sociale      0.000089\n",
       "securite     0.000070\n",
       "impots       0.000050\n",
       "nationale    0.000044\n",
       "service      0.000041\n",
       "education    0.000032\n",
       "services     0.000032\n",
       "Name: pole, dtype: float32"
      ]
     },
     "metadata": {},
     "output_type": "display_data"
    },
    {
     "name": "stdout",
     "output_type": "stream",
     "text": [
      "hopitaux\n"
     ]
    },
    {
     "data": {
      "text/plain": [
       "hopitaux     0.000671\n",
       "ecoles       0.000259\n",
       "urgences     0.000245\n",
       "medecins     0.000213\n",
       "personnel    0.000184\n",
       "moyens       0.000132\n",
       "publics      0.000099\n",
       "police       0.000093\n",
       "faire        0.000079\n",
       "faut         0.000069\n",
       "Name: hopitaux, dtype: float32"
      ]
     },
     "metadata": {},
     "output_type": "display_data"
    },
    {
     "name": "stdout",
     "output_type": "stream",
     "text": [
      "impots\n"
     ]
    },
    {
     "data": {
      "text/plain": [
       "impots      0.000775\n",
       "caf         0.000095\n",
       "service     0.000092\n",
       "sociale     0.000087\n",
       "poste       0.000074\n",
       "securite    0.000069\n",
       "pole        0.000050\n",
       "services    0.000048\n",
       "emploi      0.000046\n",
       "non              NaN\n",
       "Name: impots, dtype: float32"
      ]
     },
     "metadata": {},
     "output_type": "display_data"
    },
    {
     "name": "stdout",
     "output_type": "stream",
     "text": [
      "securite\n"
     ]
    },
    {
     "data": {
      "text/plain": [
       "securite     0.000829\n",
       "sociale      0.000672\n",
       "caf          0.000109\n",
       "sante        0.000077\n",
       "pole         0.000070\n",
       "impots       0.000069\n",
       "emploi       0.000069\n",
       "justice      0.000063\n",
       "education    0.000052\n",
       "services     0.000050\n",
       "Name: securite, dtype: float32"
      ]
     },
     "metadata": {},
     "output_type": "display_data"
    },
    {
     "name": "stdout",
     "output_type": "stream",
     "text": [
      "hopital\n"
     ]
    },
    {
     "data": {
      "text/plain": [
       "hopital      0.000884\n",
       "urgences     0.000266\n",
       "ecole        0.000149\n",
       "public       0.000125\n",
       "justice      0.000057\n",
       "nationale    0.000051\n",
       "education    0.000049\n",
       "sante        0.000044\n",
       "services     0.000035\n",
       "non               NaN\n",
       "Name: hopital, dtype: float32"
      ]
     },
     "metadata": {},
     "output_type": "display_data"
    },
    {
     "name": "stdout",
     "output_type": "stream",
     "text": [
      "poste\n"
     ]
    },
    {
     "data": {
      "text/plain": [
       "poste          0.000914\n",
       "sncf           0.000290\n",
       "service        0.000077\n",
       "impots         0.000074\n",
       "hopitaux       0.000064\n",
       "services       0.000053\n",
       "non                 NaN\n",
       "caf                 NaN\n",
       "gendarmerie         NaN\n",
       "securite            NaN\n",
       "Name: poste, dtype: float32"
      ]
     },
     "metadata": {},
     "output_type": "display_data"
    },
    {
     "name": "stdout",
     "output_type": "stream",
     "text": [
      "transports\n"
     ]
    },
    {
     "data": {
      "text/plain": [
       "transports     0.000915\n",
       "commun         0.000667\n",
       "publics        0.000161\n",
       "sante          0.000073\n",
       "hopitaux       0.000068\n",
       "education      0.000048\n",
       "services       0.000047\n",
       "non                 NaN\n",
       "caf                 NaN\n",
       "gendarmerie         NaN\n",
       "Name: transports, dtype: float32"
      ]
     },
     "metadata": {},
     "output_type": "display_data"
    },
    {
     "name": "stdout",
     "output_type": "stream",
     "text": [
      "public\n"
     ]
    },
    {
     "data": {
      "text/plain": [
       "public       0.000918\n",
       "service      0.000324\n",
       "faut         0.000140\n",
       "hopital      0.000125\n",
       "faire        0.000124\n",
       "tout         0.000112\n",
       "publics      0.000109\n",
       "services     0.000072\n",
       "tous         0.000059\n",
       "nationale    0.000054\n",
       "Name: public, dtype: float32"
      ]
     },
     "metadata": {},
     "output_type": "display_data"
    },
    {
     "name": "stdout",
     "output_type": "stream",
     "text": [
      "caf\n"
     ]
    },
    {
     "data": {
      "text/plain": [
       "caf            0.000919\n",
       "cpam           0.000433\n",
       "pole           0.000189\n",
       "emploi         0.000167\n",
       "sociale        0.000146\n",
       "securite       0.000109\n",
       "impots         0.000095\n",
       "services       0.000036\n",
       "non                 NaN\n",
       "gendarmerie         NaN\n",
       "Name: caf, dtype: float32"
      ]
     },
     "metadata": {},
     "output_type": "display_data"
    },
    {
     "name": "stdout",
     "output_type": "stream",
     "text": [
      "faut\n"
     ]
    },
    {
     "data": {
      "text/plain": [
       "faut        0.000938\n",
       "exemple     0.000225\n",
       "faire       0.000218\n",
       "moyens      0.000188\n",
       "non         0.000179\n",
       "tout        0.000167\n",
       "public      0.000140\n",
       "publics     0.000138\n",
       "service     0.000108\n",
       "services    0.000078\n",
       "Name: faut, dtype: float32"
      ]
     },
     "metadata": {},
     "output_type": "display_data"
    },
    {
     "name": "stdout",
     "output_type": "stream",
     "text": [
      "tout\n"
     ]
    },
    {
     "data": {
      "text/plain": [
       "tout         0.000956\n",
       "monde        0.000465\n",
       "temps        0.000233\n",
       "non          0.000198\n",
       "faire        0.000180\n",
       "faut         0.000167\n",
       "public       0.000112\n",
       "service      0.000096\n",
       "services     0.000070\n",
       "nationale    0.000059\n",
       "Name: tout, dtype: float32"
      ]
     },
     "metadata": {},
     "output_type": "display_data"
    },
    {
     "name": "stdout",
     "output_type": "stream",
     "text": [
      "police\n"
     ]
    },
    {
     "data": {
      "text/plain": [
       "police         0.000974\n",
       "gendarmerie    0.000777\n",
       "justice        0.000191\n",
       "hopitaux       0.000093\n",
       "nationale      0.000093\n",
       "education      0.000073\n",
       "sante          0.000062\n",
       "services       0.000053\n",
       "non                 NaN\n",
       "caf                 NaN\n",
       "Name: police, dtype: float32"
      ]
     },
     "metadata": {},
     "output_type": "display_data"
    }
   ],
   "source": [
    "for i in df_qu_11_one_hot.sum(axis=0).sort_values(ascending=False).head(20).index:\n",
    "    print(i)\n",
    "    display(df_lift_11[i].sort_values(ascending=False).head(10))"
   ]
  },
  {
   "cell_type": "code",
   "execution_count": 70,
   "metadata": {},
   "outputs": [
    {
     "data": {
      "text/plain": [
       "147"
      ]
     },
     "execution_count": 70,
     "metadata": {},
     "output_type": "execute_result"
    }
   ],
   "source": [
    "gc.collect()"
   ]
  },
  {
   "cell_type": "markdown",
   "metadata": {},
   "source": [
    "# Question 12 :  Connaissez-vous le \"droit à l'erreur\", c'est-à-dire le droit d'affirmer votre bonne foi lorsque vous faites un erreur dans vos déclarations ?"
   ]
  },
  {
   "cell_type": "code",
   "execution_count": 71,
   "metadata": {
    "collapsed": true
   },
   "outputs": [],
   "source": [
    "question_12 = 'Connaissez-vous le \"droit à l\\'erreur\", c\\'est-à-dire le droit d\\'affirmer votre bonne foi lorsque vous faites un erreur dans vos déclarations ?'\n",
    "qu_12,df_qu_12_one_hot,df_cov_12,df_confidence_12,df_lift_12 = compute_similarities(question_12, new_res)"
   ]
  },
  {
   "cell_type": "code",
   "execution_count": 72,
   "metadata": {
    "scrolled": true
   },
   "outputs": [
    {
     "name": "stdout",
     "output_type": "stream",
     "text": [
      "oui\n"
     ]
    },
    {
     "data": {
      "text/plain": [
       "oui    23995\n",
       "non        0\n",
       "Name: oui, dtype: uint16"
      ]
     },
     "metadata": {},
     "output_type": "display_data"
    },
    {
     "name": "stdout",
     "output_type": "stream",
     "text": [
      "non\n"
     ]
    },
    {
     "data": {
      "text/plain": [
       "non    6164\n",
       "oui       0\n",
       "Name: non, dtype: uint16"
      ]
     },
     "metadata": {},
     "output_type": "display_data"
    }
   ],
   "source": [
    "for i in df_qu_12_one_hot.sum(axis=0).sort_values(ascending=False).head(20).index:\n",
    "    print(i)\n",
    "    display(df_cov_12[i].sort_values(ascending=False).head(10))"
   ]
  },
  {
   "cell_type": "code",
   "execution_count": 73,
   "metadata": {
    "scrolled": true
   },
   "outputs": [
    {
     "name": "stdout",
     "output_type": "stream",
     "text": [
      "oui\n"
     ]
    },
    {
     "data": {
      "text/plain": [
       "oui    1.0\n",
       "non    0.0\n",
       "Name: oui, dtype: float32"
      ]
     },
     "metadata": {},
     "output_type": "display_data"
    },
    {
     "name": "stdout",
     "output_type": "stream",
     "text": [
      "non\n"
     ]
    },
    {
     "data": {
      "text/plain": [
       "non    1.0\n",
       "oui    0.0\n",
       "Name: non, dtype: float32"
      ]
     },
     "metadata": {},
     "output_type": "display_data"
    }
   ],
   "source": [
    "for i in df_qu_12_one_hot.sum(axis=0).sort_values(ascending=False).head(20).index:\n",
    "    print(i)\n",
    "    display(df_confidence_12[i].sort_values(ascending=False).head(10))"
   ]
  },
  {
   "cell_type": "code",
   "execution_count": 74,
   "metadata": {
    "scrolled": true
   },
   "outputs": [
    {
     "name": "stdout",
     "output_type": "stream",
     "text": [
      "oui\n"
     ]
    },
    {
     "data": {
      "text/plain": [
       "oui    0.000042\n",
       "non         NaN\n",
       "Name: oui, dtype: float32"
      ]
     },
     "metadata": {},
     "output_type": "display_data"
    },
    {
     "name": "stdout",
     "output_type": "stream",
     "text": [
      "non\n"
     ]
    },
    {
     "data": {
      "text/plain": [
       "non    0.000162\n",
       "oui         NaN\n",
       "Name: non, dtype: float32"
      ]
     },
     "metadata": {},
     "output_type": "display_data"
    }
   ],
   "source": [
    "for i in df_qu_12_one_hot.sum(axis=0).sort_values(ascending=False).head(20).index:\n",
    "    print(i)\n",
    "    display(df_lift_12[i].sort_values(ascending=False).head(10))"
   ]
  },
  {
   "cell_type": "code",
   "execution_count": 75,
   "metadata": {},
   "outputs": [
    {
     "data": {
      "text/plain": [
       "14"
      ]
     },
     "execution_count": 75,
     "metadata": {},
     "output_type": "execute_result"
    }
   ],
   "source": [
    "gc.collect()"
   ]
  },
  {
   "cell_type": "code",
   "execution_count": null,
   "metadata": {
    "collapsed": true
   },
   "outputs": [],
   "source": []
  },
  {
   "cell_type": "markdown",
   "metadata": {},
   "source": [
    "# Question 13 :  Si oui, avez-vous déjà utilisé ce droit à l'erreur ?"
   ]
  },
  {
   "cell_type": "code",
   "execution_count": 76,
   "metadata": {
    "collapsed": true
   },
   "outputs": [],
   "source": [
    "question_13 = \"Si oui, avez-vous déjà utilisé ce droit à l'erreur ?\"\n",
    "qu_13,df_qu_13_one_hot,df_cov_13,df_confidence_13,df_lift_13 = compute_similarities(question_13, new_res)"
   ]
  },
  {
   "cell_type": "code",
   "execution_count": 77,
   "metadata": {
    "scrolled": true
   },
   "outputs": [
    {
     "name": "stdout",
     "output_type": "stream",
     "text": [
      "non\n"
     ]
    },
    {
     "data": {
      "text/plain": [
       "non    24279\n",
       "oui        0\n",
       "Name: non, dtype: uint16"
      ]
     },
     "metadata": {},
     "output_type": "display_data"
    },
    {
     "name": "stdout",
     "output_type": "stream",
     "text": [
      "oui\n"
     ]
    },
    {
     "data": {
      "text/plain": [
       "oui    2217\n",
       "non       0\n",
       "Name: oui, dtype: uint16"
      ]
     },
     "metadata": {},
     "output_type": "display_data"
    }
   ],
   "source": [
    "for i in df_qu_13_one_hot.sum(axis=0).sort_values(ascending=False).head(20).index:\n",
    "    print(i)\n",
    "    display(df_cov_13[i].sort_values(ascending=False).head(10))"
   ]
  },
  {
   "cell_type": "code",
   "execution_count": 78,
   "metadata": {
    "scrolled": true
   },
   "outputs": [
    {
     "name": "stdout",
     "output_type": "stream",
     "text": [
      "non\n"
     ]
    },
    {
     "data": {
      "text/plain": [
       "non    1.0\n",
       "oui    0.0\n",
       "Name: non, dtype: float32"
      ]
     },
     "metadata": {},
     "output_type": "display_data"
    },
    {
     "name": "stdout",
     "output_type": "stream",
     "text": [
      "oui\n"
     ]
    },
    {
     "data": {
      "text/plain": [
       "oui    1.0\n",
       "non    0.0\n",
       "Name: oui, dtype: float32"
      ]
     },
     "metadata": {},
     "output_type": "display_data"
    }
   ],
   "source": [
    "for i in df_qu_13_one_hot.sum(axis=0).sort_values(ascending=False).head(20).index:\n",
    "    print(i)\n",
    "    display(df_confidence_13[i].sort_values(ascending=False).head(10))"
   ]
  },
  {
   "cell_type": "code",
   "execution_count": 79,
   "metadata": {
    "scrolled": true
   },
   "outputs": [
    {
     "name": "stdout",
     "output_type": "stream",
     "text": [
      "non\n"
     ]
    },
    {
     "data": {
      "text/plain": [
       "non    0.000041\n",
       "oui         NaN\n",
       "Name: non, dtype: float32"
      ]
     },
     "metadata": {},
     "output_type": "display_data"
    },
    {
     "name": "stdout",
     "output_type": "stream",
     "text": [
      "oui\n"
     ]
    },
    {
     "data": {
      "text/plain": [
       "oui    0.000451\n",
       "non         NaN\n",
       "Name: oui, dtype: float32"
      ]
     },
     "metadata": {},
     "output_type": "display_data"
    }
   ],
   "source": [
    "for i in df_qu_13_one_hot.sum(axis=0).sort_values(ascending=False).head(20).index:\n",
    "    print(i)\n",
    "    display(df_lift_13[i].sort_values(ascending=False).head(10))"
   ]
  },
  {
   "cell_type": "code",
   "execution_count": 80,
   "metadata": {},
   "outputs": [
    {
     "data": {
      "text/plain": [
       "14"
      ]
     },
     "execution_count": 80,
     "metadata": {},
     "output_type": "execute_result"
    }
   ],
   "source": [
    "gc.collect()"
   ]
  },
  {
   "cell_type": "markdown",
   "metadata": {},
   "source": [
    "# Question 14 :  Si oui, à quelle occasion en avez-vous fait usage ?"
   ]
  },
  {
   "cell_type": "code",
   "execution_count": 81,
   "metadata": {
    "collapsed": true
   },
   "outputs": [],
   "source": [
    "question_14 = \"Si oui, à quelle occasion en avez-vous fait usage ?\"\n",
    "qu_14,df_qu_14_one_hot,df_cov_14,df_confidence_14,df_lift_14 = compute_similarities(question_14, new_res)"
   ]
  },
  {
   "cell_type": "code",
   "execution_count": 82,
   "metadata": {
    "scrolled": true
   },
   "outputs": [
    {
     "name": "stdout",
     "output_type": "stream",
     "text": [
      "declaration\n"
     ]
    },
    {
     "data": {
      "text/plain": [
       "declaration    933\n",
       "impots         308\n",
       "erreur         290\n",
       "impot          196\n",
       "droit            0\n",
       "Name: declaration, dtype: uint16"
      ]
     },
     "metadata": {},
     "output_type": "display_data"
    },
    {
     "name": "stdout",
     "output_type": "stream",
     "text": [
      "impots\n"
     ]
    },
    {
     "data": {
      "text/plain": [
       "impots         731\n",
       "declaration    308\n",
       "erreur         190\n",
       "impot            0\n",
       "droit            0\n",
       "Name: impots, dtype: uint16"
      ]
     },
     "metadata": {},
     "output_type": "display_data"
    },
    {
     "name": "stdout",
     "output_type": "stream",
     "text": [
      "erreur\n"
     ]
    },
    {
     "data": {
      "text/plain": [
       "erreur         704\n",
       "droit          293\n",
       "declaration    290\n",
       "impots         190\n",
       "impot            0\n",
       "Name: erreur, dtype: uint16"
      ]
     },
     "metadata": {},
     "output_type": "display_data"
    },
    {
     "name": "stdout",
     "output_type": "stream",
     "text": [
      "droit\n"
     ]
    },
    {
     "data": {
      "text/plain": [
       "droit          385\n",
       "erreur         293\n",
       "declaration      0\n",
       "impot            0\n",
       "impots           0\n",
       "Name: droit, dtype: uint16"
      ]
     },
     "metadata": {},
     "output_type": "display_data"
    },
    {
     "name": "stdout",
     "output_type": "stream",
     "text": [
      "impot\n"
     ]
    },
    {
     "data": {
      "text/plain": [
       "impot          358\n",
       "declaration    196\n",
       "erreur           0\n",
       "impots           0\n",
       "droit            0\n",
       "Name: impot, dtype: uint16"
      ]
     },
     "metadata": {},
     "output_type": "display_data"
    }
   ],
   "source": [
    "for i in df_qu_14_one_hot.sum(axis=0).sort_values(ascending=False).head(20).index:\n",
    "    print(i)\n",
    "    display(df_cov_14[i].sort_values(ascending=False).head(10))"
   ]
  },
  {
   "cell_type": "code",
   "execution_count": 83,
   "metadata": {
    "scrolled": true
   },
   "outputs": [
    {
     "name": "stdout",
     "output_type": "stream",
     "text": [
      "declaration\n"
     ]
    },
    {
     "data": {
      "text/plain": [
       "declaration    1.000000\n",
       "impot          0.547486\n",
       "impots         0.421341\n",
       "erreur         0.411932\n",
       "droit          0.000000\n",
       "Name: declaration, dtype: float32"
      ]
     },
     "metadata": {},
     "output_type": "display_data"
    },
    {
     "name": "stdout",
     "output_type": "stream",
     "text": [
      "impots\n"
     ]
    },
    {
     "data": {
      "text/plain": [
       "impots         1.000000\n",
       "declaration    0.330118\n",
       "erreur         0.269886\n",
       "impot          0.000000\n",
       "droit          0.000000\n",
       "Name: impots, dtype: float32"
      ]
     },
     "metadata": {},
     "output_type": "display_data"
    },
    {
     "name": "stdout",
     "output_type": "stream",
     "text": [
      "erreur\n"
     ]
    },
    {
     "data": {
      "text/plain": [
       "erreur         1.000000\n",
       "droit          0.761039\n",
       "declaration    0.310825\n",
       "impots         0.259918\n",
       "impot          0.000000\n",
       "Name: erreur, dtype: float32"
      ]
     },
     "metadata": {},
     "output_type": "display_data"
    },
    {
     "name": "stdout",
     "output_type": "stream",
     "text": [
      "droit\n"
     ]
    },
    {
     "data": {
      "text/plain": [
       "droit          1.000000\n",
       "erreur         0.416193\n",
       "declaration    0.000000\n",
       "impot          0.000000\n",
       "impots         0.000000\n",
       "Name: droit, dtype: float32"
      ]
     },
     "metadata": {},
     "output_type": "display_data"
    },
    {
     "name": "stdout",
     "output_type": "stream",
     "text": [
      "impot\n"
     ]
    },
    {
     "data": {
      "text/plain": [
       "impot          1.000000\n",
       "declaration    0.210075\n",
       "erreur         0.000000\n",
       "impots         0.000000\n",
       "droit          0.000000\n",
       "Name: impot, dtype: float32"
      ]
     },
     "metadata": {},
     "output_type": "display_data"
    }
   ],
   "source": [
    "for i in df_qu_14_one_hot.sum(axis=0).sort_values(ascending=False).head(20).index:\n",
    "    print(i)\n",
    "    display(df_confidence_14[i].sort_values(ascending=False).head(10))"
   ]
  },
  {
   "cell_type": "code",
   "execution_count": 84,
   "metadata": {
    "scrolled": true
   },
   "outputs": [
    {
     "name": "stdout",
     "output_type": "stream",
     "text": [
      "declaration\n"
     ]
    },
    {
     "data": {
      "text/plain": [
       "declaration    0.001072\n",
       "impot          0.000587\n",
       "impots         0.000452\n",
       "erreur         0.000442\n",
       "droit               NaN\n",
       "Name: declaration, dtype: float32"
      ]
     },
     "metadata": {},
     "output_type": "display_data"
    },
    {
     "name": "stdout",
     "output_type": "stream",
     "text": [
      "impots\n"
     ]
    },
    {
     "data": {
      "text/plain": [
       "impots         0.001368\n",
       "declaration    0.000452\n",
       "erreur         0.000369\n",
       "droit               NaN\n",
       "impot               NaN\n",
       "Name: impots, dtype: float32"
      ]
     },
     "metadata": {},
     "output_type": "display_data"
    },
    {
     "name": "stdout",
     "output_type": "stream",
     "text": [
      "erreur\n"
     ]
    },
    {
     "data": {
      "text/plain": [
       "erreur         0.001420\n",
       "droit          0.001081\n",
       "declaration    0.000442\n",
       "impots         0.000369\n",
       "impot               NaN\n",
       "Name: erreur, dtype: float32"
      ]
     },
     "metadata": {},
     "output_type": "display_data"
    },
    {
     "name": "stdout",
     "output_type": "stream",
     "text": [
      "droit\n"
     ]
    },
    {
     "data": {
      "text/plain": [
       "droit          0.002597\n",
       "erreur         0.001081\n",
       "impots              NaN\n",
       "impot               NaN\n",
       "declaration         NaN\n",
       "Name: droit, dtype: float32"
      ]
     },
     "metadata": {},
     "output_type": "display_data"
    },
    {
     "name": "stdout",
     "output_type": "stream",
     "text": [
      "impot\n"
     ]
    },
    {
     "data": {
      "text/plain": [
       "impot          0.002793\n",
       "declaration    0.000587\n",
       "droit               NaN\n",
       "impots              NaN\n",
       "erreur              NaN\n",
       "Name: impot, dtype: float32"
      ]
     },
     "metadata": {},
     "output_type": "display_data"
    }
   ],
   "source": [
    "for i in df_qu_14_one_hot.sum(axis=0).sort_values(ascending=False).head(20).index:\n",
    "    print(i)\n",
    "    display(df_lift_14[i].sort_values(ascending=False).head(10))"
   ]
  },
  {
   "cell_type": "code",
   "execution_count": 85,
   "metadata": {},
   "outputs": [
    {
     "data": {
      "text/plain": [
       "196"
      ]
     },
     "execution_count": 85,
     "metadata": {},
     "output_type": "execute_result"
    }
   ],
   "source": [
    "gc.collect()"
   ]
  },
  {
   "cell_type": "markdown",
   "metadata": {},
   "source": [
    "# Question 15 :  Pouvez-vous identifier des règles que l'administration vous a déjà demandé d'appliquer et que vous avez jugées inutiles ou trop complexes ?"
   ]
  },
  {
   "cell_type": "code",
   "execution_count": 86,
   "metadata": {
    "collapsed": true
   },
   "outputs": [],
   "source": [
    "question_15 = \"Pouvez-vous identifier des règles que l'administration vous a déjà demandé d'appliquer et que vous avez jugées inutiles ou trop complexes ?\"\n",
    "qu_15,df_qu_15_one_hot,df_cov_15,df_confidence_15,df_lift_15 = compute_similarities(question_15, new_res)"
   ]
  },
  {
   "cell_type": "code",
   "execution_count": 87,
   "metadata": {
    "scrolled": true
   },
   "outputs": [
    {
     "name": "stdout",
     "output_type": "stream",
     "text": [
      "non\n"
     ]
    },
    {
     "data": {
      "text/plain": [
       "non             1734\n",
       "faire            130\n",
       "demande          112\n",
       "caf                0\n",
       "regles             0\n",
       "droit              0\n",
       "informations       0\n",
       "tout               0\n",
       "travail            0\n",
       "entreprise         0\n",
       "Name: non, dtype: uint16"
      ]
     },
     "metadata": {},
     "output_type": "display_data"
    },
    {
     "name": "stdout",
     "output_type": "stream",
     "text": [
      "demande\n"
     ]
    },
    {
     "data": {
      "text/plain": [
       "demande           1519\n",
       "faire              241\n",
       "dossier            205\n",
       "administration     202\n",
       "carte              197\n",
       "documents          191\n",
       "permis             178\n",
       "tout               157\n",
       "mois               152\n",
       "travaux            140\n",
       "Name: demande, dtype: uint16"
      ]
     },
     "metadata": {},
     "output_type": "display_data"
    },
    {
     "name": "stdout",
     "output_type": "stream",
     "text": [
      "faire\n"
     ]
    },
    {
     "data": {
      "text/plain": [
       "faire             1166\n",
       "demande            241\n",
       "faut               209\n",
       "tout               200\n",
       "carte              159\n",
       "administration     159\n",
       "exemple            140\n",
       "declaration        134\n",
       "mois               132\n",
       "non                130\n",
       "Name: faire, dtype: uint16"
      ]
     },
     "metadata": {},
     "output_type": "display_data"
    },
    {
     "name": "stdout",
     "output_type": "stream",
     "text": [
      "impots\n"
     ]
    },
    {
     "data": {
      "text/plain": [
       "impots         1095\n",
       "declaration     273\n",
       "faire           128\n",
       "payer           108\n",
       "identite          0\n",
       "grise             0\n",
       "emploi            0\n",
       "pole              0\n",
       "inutile           0\n",
       "complexe          0\n",
       "Name: impots, dtype: uint16"
      ]
     },
     "metadata": {},
     "output_type": "display_data"
    },
    {
     "name": "stdout",
     "output_type": "stream",
     "text": [
      "declaration\n"
     ]
    },
    {
     "data": {
      "text/plain": [
       "declaration    1067\n",
       "impots          273\n",
       "travaux         187\n",
       "revenus         186\n",
       "impot           152\n",
       "faire           134\n",
       "demande         110\n",
       "complexe        104\n",
       "inutile           0\n",
       "grise             0\n",
       "Name: declaration, dtype: uint16"
      ]
     },
     "metadata": {},
     "output_type": "display_data"
    },
    {
     "name": "stdout",
     "output_type": "stream",
     "text": [
      "regles\n"
     ]
    },
    {
     "data": {
      "text/plain": [
       "regles            1019\n",
       "urbanisme          160\n",
       "complexes          154\n",
       "administration     108\n",
       "exemple            105\n",
       "papier               0\n",
       "pole                 0\n",
       "cas                  0\n",
       "identite             0\n",
       "grise                0\n",
       "Name: regles, dtype: uint16"
      ]
     },
     "metadata": {},
     "output_type": "display_data"
    },
    {
     "name": "stdout",
     "output_type": "stream",
     "text": [
      "permis\n"
     ]
    },
    {
     "data": {
      "text/plain": [
       "permis        994\n",
       "construire    636\n",
       "demande       178\n",
       "travaux       128\n",
       "inutile         0\n",
       "identite        0\n",
       "grise           0\n",
       "emploi          0\n",
       "pole            0\n",
       "complexe        0\n",
       "Name: permis, dtype: uint16"
      ]
     },
     "metadata": {},
     "output_type": "display_data"
    },
    {
     "name": "stdout",
     "output_type": "stream",
     "text": [
      "administration\n"
     ]
    },
    {
     "data": {
      "text/plain": [
       "administration    939\n",
       "demande           202\n",
       "faire             159\n",
       "tout              111\n",
       "documents         110\n",
       "regles            108\n",
       "exemple           106\n",
       "papier              0\n",
       "emploi              0\n",
       "identite            0\n",
       "Name: administration, dtype: uint16"
      ]
     },
     "metadata": {},
     "output_type": "display_data"
    },
    {
     "name": "stdout",
     "output_type": "stream",
     "text": [
      "tout\n"
     ]
    },
    {
     "data": {
      "text/plain": [
       "tout              939\n",
       "faire             200\n",
       "demande           157\n",
       "faut              136\n",
       "temps             122\n",
       "administration    111\n",
       "exemple           106\n",
       "travail             0\n",
       "grise               0\n",
       "80                  0\n",
       "Name: tout, dtype: uint16"
      ]
     },
     "metadata": {},
     "output_type": "display_data"
    },
    {
     "name": "stdout",
     "output_type": "stream",
     "text": [
      "carte\n"
     ]
    },
    {
     "data": {
      "text/plain": [
       "carte             921\n",
       "grise             445\n",
       "identite          352\n",
       "demande           197\n",
       "faire             159\n",
       "renouvellement    125\n",
       "passeport         124\n",
       "internet          111\n",
       "pole                0\n",
       "cas                 0\n",
       "Name: carte, dtype: uint16"
      ]
     },
     "metadata": {},
     "output_type": "display_data"
    },
    {
     "name": "stdout",
     "output_type": "stream",
     "text": [
      "dossier\n"
     ]
    },
    {
     "data": {
      "text/plain": [
       "dossier     796\n",
       "demande     205\n",
       "faire       127\n",
       "retraite    118\n",
       "papier        0\n",
       "inutile       0\n",
       "identite      0\n",
       "grise         0\n",
       "emploi        0\n",
       "pole          0\n",
       "Name: dossier, dtype: uint16"
      ]
     },
     "metadata": {},
     "output_type": "display_data"
    },
    {
     "name": "stdout",
     "output_type": "stream",
     "text": [
      "documents\n"
     ]
    },
    {
     "data": {
      "text/plain": [
       "documents         776\n",
       "demande           191\n",
       "fournir           154\n",
       "demandes          114\n",
       "administration    110\n",
       "papier              0\n",
       "regles              0\n",
       "identite            0\n",
       "grise               0\n",
       "emploi              0\n",
       "Name: documents, dtype: uint16"
      ]
     },
     "metadata": {},
     "output_type": "display_data"
    },
    {
     "name": "stdout",
     "output_type": "stream",
     "text": [
      "exemple\n"
     ]
    },
    {
     "data": {
      "text/plain": [
       "exemple           761\n",
       "faire             140\n",
       "demande           138\n",
       "tout              106\n",
       "administration    106\n",
       "regles            105\n",
       "papier              0\n",
       "emploi              0\n",
       "identite            0\n",
       "grise               0\n",
       "Name: exemple, dtype: uint16"
      ]
     },
     "metadata": {},
     "output_type": "display_data"
    },
    {
     "name": "stdout",
     "output_type": "stream",
     "text": [
      "faut\n"
     ]
    },
    {
     "data": {
      "text/plain": [
       "faut        683\n",
       "faire       209\n",
       "tout        136\n",
       "demande     131\n",
       "papier        0\n",
       "inutile       0\n",
       "regles        0\n",
       "identite      0\n",
       "grise         0\n",
       "emploi        0\n",
       "Name: faut, dtype: uint16"
      ]
     },
     "metadata": {},
     "output_type": "display_data"
    },
    {
     "name": "stdout",
     "output_type": "stream",
     "text": [
      "construire\n"
     ]
    },
    {
     "data": {
      "text/plain": [
       "construire    675\n",
       "permis        636\n",
       "demande       114\n",
       "travaux       107\n",
       "inutile         0\n",
       "identite        0\n",
       "grise           0\n",
       "emploi          0\n",
       "pole            0\n",
       "complexe        0\n",
       "Name: construire, dtype: uint16"
      ]
     },
     "metadata": {},
     "output_type": "display_data"
    },
    {
     "name": "stdout",
     "output_type": "stream",
     "text": [
      "tous\n"
     ]
    },
    {
     "data": {
      "text/plain": [
       "tous        627\n",
       "ans         163\n",
       "faire       115\n",
       "demande     101\n",
       "papier        0\n",
       "pole          0\n",
       "regles        0\n",
       "identite      0\n",
       "grise         0\n",
       "emploi        0\n",
       "Name: tous, dtype: uint16"
      ]
     },
     "metadata": {},
     "output_type": "display_data"
    },
    {
     "name": "stdout",
     "output_type": "stream",
     "text": [
      "internet\n"
     ]
    },
    {
     "data": {
      "text/plain": [
       "internet    574\n",
       "faire       129\n",
       "demande     123\n",
       "carte       111\n",
       "papier        0\n",
       "complexe      0\n",
       "identite      0\n",
       "grise         0\n",
       "emploi        0\n",
       "pole          0\n",
       "Name: internet, dtype: uint16"
      ]
     },
     "metadata": {},
     "output_type": "display_data"
    },
    {
     "name": "stdout",
     "output_type": "stream",
     "text": [
      "complexe\n"
     ]
    },
    {
     "data": {
      "text/plain": [
       "complexe       559\n",
       "declaration    104\n",
       "regles           0\n",
       "identite         0\n",
       "grise            0\n",
       "emploi           0\n",
       "pole             0\n",
       "inutile          0\n",
       "papier           0\n",
       "80               0\n",
       "Name: complexe, dtype: uint16"
      ]
     },
     "metadata": {},
     "output_type": "display_data"
    },
    {
     "name": "stdout",
     "output_type": "stream",
     "text": [
      "identite\n"
     ]
    },
    {
     "data": {
      "text/plain": [
       "identite          552\n",
       "carte             352\n",
       "renouvellement    137\n",
       "passeport         127\n",
       "demande           119\n",
       "papier              0\n",
       "inutile             0\n",
       "regles              0\n",
       "grise               0\n",
       "emploi              0\n",
       "Name: identite, dtype: uint16"
      ]
     },
     "metadata": {},
     "output_type": "display_data"
    },
    {
     "name": "stdout",
     "output_type": "stream",
     "text": [
      "travaux\n"
     ]
    },
    {
     "data": {
      "text/plain": [
       "travaux        540\n",
       "declaration    187\n",
       "demande        140\n",
       "permis         128\n",
       "construire     107\n",
       "inutile          0\n",
       "identite         0\n",
       "grise            0\n",
       "emploi           0\n",
       "pole             0\n",
       "Name: travaux, dtype: uint16"
      ]
     },
     "metadata": {},
     "output_type": "display_data"
    }
   ],
   "source": [
    "for i in df_qu_15_one_hot.sum(axis=0).sort_values(ascending=False).head(20).index:\n",
    "    print(i)\n",
    "    display(df_cov_15[i].sort_values(ascending=False).head(10))"
   ]
  },
  {
   "cell_type": "code",
   "execution_count": 88,
   "metadata": {
    "scrolled": true
   },
   "outputs": [
    {
     "name": "stdout",
     "output_type": "stream",
     "text": [
      "non\n"
     ]
    },
    {
     "data": {
      "text/plain": [
       "non             1.000000\n",
       "faire           0.111492\n",
       "demande         0.073733\n",
       "caf             0.000000\n",
       "regles          0.000000\n",
       "droit           0.000000\n",
       "informations    0.000000\n",
       "tout            0.000000\n",
       "travail         0.000000\n",
       "entreprise      0.000000\n",
       "Name: non, dtype: float32"
      ]
     },
     "metadata": {},
     "output_type": "display_data"
    },
    {
     "name": "stdout",
     "output_type": "stream",
     "text": [
      "demande\n"
     ]
    },
    {
     "data": {
      "text/plain": [
       "demande      1.000000\n",
       "retraite     0.288591\n",
       "mois         0.288425\n",
       "travaux      0.259259\n",
       "dossier      0.257538\n",
       "2            0.254364\n",
       "ans          0.251880\n",
       "documents    0.246134\n",
       "fournir      0.228814\n",
       "identite     0.215580\n",
       "Name: demande, dtype: float32"
      ]
     },
     "metadata": {},
     "output_type": "display_data"
    },
    {
     "name": "stdout",
     "output_type": "stream",
     "text": [
      "faire\n"
     ]
    },
    {
     "data": {
      "text/plain": [
       "faire       1.000000\n",
       "faut        0.306003\n",
       "mois        0.250474\n",
       "temps       0.238372\n",
       "ans         0.225564\n",
       "internet    0.224739\n",
       "tout        0.212993\n",
       "exemple     0.183968\n",
       "tous        0.183413\n",
       "carte       0.172638\n",
       "Name: faire, dtype: float32"
      ]
     },
     "metadata": {},
     "output_type": "display_data"
    },
    {
     "name": "stdout",
     "output_type": "stream",
     "text": [
      "impots\n"
     ]
    },
    {
     "data": {
      "text/plain": [
       "impots         1.000000\n",
       "payer          0.299169\n",
       "declaration    0.255858\n",
       "faire          0.109777\n",
       "identite       0.000000\n",
       "grise          0.000000\n",
       "emploi         0.000000\n",
       "pole           0.000000\n",
       "inutile        0.000000\n",
       "complexe       0.000000\n",
       "Name: impots, dtype: float32"
      ]
     },
     "metadata": {},
     "output_type": "display_data"
    },
    {
     "name": "stdout",
     "output_type": "stream",
     "text": [
      "declaration\n"
     ]
    },
    {
     "data": {
      "text/plain": [
       "declaration    1.000000\n",
       "revenus        0.442857\n",
       "travaux        0.346296\n",
       "impot          0.320000\n",
       "impots         0.249315\n",
       "complexe       0.186047\n",
       "faire          0.114923\n",
       "demande        0.072416\n",
       "inutile        0.000000\n",
       "grise          0.000000\n",
       "Name: declaration, dtype: float32"
      ]
     },
     "metadata": {},
     "output_type": "display_data"
    },
    {
     "name": "stdout",
     "output_type": "stream",
     "text": [
      "regles\n"
     ]
    },
    {
     "data": {
      "text/plain": [
       "regles            1.000000\n",
       "urbanisme         0.423280\n",
       "complexes         0.357309\n",
       "exemple           0.137976\n",
       "administration    0.115016\n",
       "papier            0.000000\n",
       "pole              0.000000\n",
       "cas               0.000000\n",
       "identite          0.000000\n",
       "grise             0.000000\n",
       "Name: regles, dtype: float32"
      ]
     },
     "metadata": {},
     "output_type": "display_data"
    },
    {
     "name": "stdout",
     "output_type": "stream",
     "text": [
      "permis\n"
     ]
    },
    {
     "data": {
      "text/plain": [
       "permis        1.000000\n",
       "construire    0.942222\n",
       "travaux       0.237037\n",
       "demande       0.117182\n",
       "inutile       0.000000\n",
       "identite      0.000000\n",
       "grise         0.000000\n",
       "emploi        0.000000\n",
       "pole          0.000000\n",
       "complexe      0.000000\n",
       "Name: permis, dtype: float32"
      ]
     },
     "metadata": {},
     "output_type": "display_data"
    },
    {
     "name": "stdout",
     "output_type": "stream",
     "text": [
      "administration\n"
     ]
    },
    {
     "data": {
      "text/plain": [
       "administration    1.000000\n",
       "documents         0.141753\n",
       "exemple           0.139290\n",
       "faire             0.136364\n",
       "demande           0.132982\n",
       "tout              0.118211\n",
       "regles            0.105986\n",
       "papier            0.000000\n",
       "emploi            0.000000\n",
       "identite          0.000000\n",
       "Name: administration, dtype: float32"
      ]
     },
     "metadata": {},
     "output_type": "display_data"
    },
    {
     "name": "stdout",
     "output_type": "stream",
     "text": [
      "tout\n"
     ]
    },
    {
     "data": {
      "text/plain": [
       "tout              1.000000\n",
       "temps             0.236434\n",
       "faut              0.199122\n",
       "faire             0.171527\n",
       "exemple           0.139290\n",
       "administration    0.118211\n",
       "demande           0.103357\n",
       "entreprise        0.000000\n",
       "refaire           0.000000\n",
       "declaration       0.000000\n",
       "Name: tout, dtype: float32"
      ]
     },
     "metadata": {},
     "output_type": "display_data"
    },
    {
     "name": "stdout",
     "output_type": "stream",
     "text": [
      "carte\n"
     ]
    },
    {
     "data": {
      "text/plain": [
       "carte             1.000000\n",
       "grise             0.986696\n",
       "identite          0.637681\n",
       "passeport         0.417508\n",
       "renouvellement    0.383436\n",
       "internet          0.193380\n",
       "faire             0.136364\n",
       "demande           0.129691\n",
       "pole              0.000000\n",
       "cas               0.000000\n",
       "Name: carte, dtype: float32"
      ]
     },
     "metadata": {},
     "output_type": "display_data"
    },
    {
     "name": "stdout",
     "output_type": "stream",
     "text": [
      "dossier\n"
     ]
    },
    {
     "data": {
      "text/plain": [
       "dossier     1.000000\n",
       "retraite    0.263982\n",
       "demande     0.134957\n",
       "faire       0.108919\n",
       "papier      0.000000\n",
       "inutile     0.000000\n",
       "identite    0.000000\n",
       "grise       0.000000\n",
       "emploi      0.000000\n",
       "pole        0.000000\n",
       "Name: dossier, dtype: float32"
      ]
     },
     "metadata": {},
     "output_type": "display_data"
    },
    {
     "name": "stdout",
     "output_type": "stream",
     "text": [
      "documents\n"
     ]
    },
    {
     "data": {
      "text/plain": [
       "documents         1.000000\n",
       "fournir           0.326271\n",
       "demandes          0.217557\n",
       "demande           0.125741\n",
       "administration    0.117146\n",
       "papier            0.000000\n",
       "regles            0.000000\n",
       "identite          0.000000\n",
       "grise             0.000000\n",
       "emploi            0.000000\n",
       "Name: documents, dtype: float32"
      ]
     },
     "metadata": {},
     "output_type": "display_data"
    },
    {
     "name": "stdout",
     "output_type": "stream",
     "text": [
      "exemple\n"
     ]
    },
    {
     "data": {
      "text/plain": [
       "exemple           1.000000\n",
       "faire             0.120069\n",
       "tout              0.112886\n",
       "administration    0.112886\n",
       "regles            0.103042\n",
       "demande           0.090849\n",
       "papier            0.000000\n",
       "emploi            0.000000\n",
       "identite          0.000000\n",
       "grise             0.000000\n",
       "Name: exemple, dtype: float32"
      ]
     },
     "metadata": {},
     "output_type": "display_data"
    },
    {
     "name": "stdout",
     "output_type": "stream",
     "text": [
      "faut\n"
     ]
    },
    {
     "data": {
      "text/plain": [
       "faut        1.000000\n",
       "faire       0.179245\n",
       "tout        0.144835\n",
       "demande     0.086241\n",
       "papier      0.000000\n",
       "inutile     0.000000\n",
       "regles      0.000000\n",
       "identite    0.000000\n",
       "grise       0.000000\n",
       "emploi      0.000000\n",
       "Name: faut, dtype: float32"
      ]
     },
     "metadata": {},
     "output_type": "display_data"
    },
    {
     "name": "stdout",
     "output_type": "stream",
     "text": [
      "construire\n"
     ]
    },
    {
     "data": {
      "text/plain": [
       "construire    1.000000\n",
       "permis        0.639839\n",
       "travaux       0.198148\n",
       "demande       0.075049\n",
       "inutile       0.000000\n",
       "identite      0.000000\n",
       "grise         0.000000\n",
       "emploi        0.000000\n",
       "pole          0.000000\n",
       "complexe      0.000000\n",
       "Name: construire, dtype: float32"
      ]
     },
     "metadata": {},
     "output_type": "display_data"
    },
    {
     "name": "stdout",
     "output_type": "stream",
     "text": [
      "tous\n"
     ]
    },
    {
     "data": {
      "text/plain": [
       "tous        1.000000\n",
       "ans         0.306391\n",
       "faire       0.098628\n",
       "demande     0.066491\n",
       "papier      0.000000\n",
       "pole        0.000000\n",
       "regles      0.000000\n",
       "identite    0.000000\n",
       "grise       0.000000\n",
       "emploi      0.000000\n",
       "Name: tous, dtype: float32"
      ]
     },
     "metadata": {},
     "output_type": "display_data"
    },
    {
     "name": "stdout",
     "output_type": "stream",
     "text": [
      "internet\n"
     ]
    },
    {
     "data": {
      "text/plain": [
       "internet    1.000000\n",
       "carte       0.120521\n",
       "faire       0.110635\n",
       "demande     0.080974\n",
       "papier      0.000000\n",
       "complexe    0.000000\n",
       "identite    0.000000\n",
       "grise       0.000000\n",
       "emploi      0.000000\n",
       "pole        0.000000\n",
       "Name: internet, dtype: float32"
      ]
     },
     "metadata": {},
     "output_type": "display_data"
    },
    {
     "name": "stdout",
     "output_type": "stream",
     "text": [
      "complexe\n"
     ]
    },
    {
     "data": {
      "text/plain": [
       "complexe       1.00000\n",
       "declaration    0.09747\n",
       "regles         0.00000\n",
       "identite       0.00000\n",
       "grise          0.00000\n",
       "emploi         0.00000\n",
       "pole           0.00000\n",
       "inutile        0.00000\n",
       "papier         0.00000\n",
       "80             0.00000\n",
       "Name: complexe, dtype: float32"
      ]
     },
     "metadata": {},
     "output_type": "display_data"
    },
    {
     "name": "stdout",
     "output_type": "stream",
     "text": [
      "identite\n"
     ]
    },
    {
     "data": {
      "text/plain": [
       "identite          1.000000\n",
       "passeport         0.427609\n",
       "renouvellement    0.420245\n",
       "carte             0.382193\n",
       "demande           0.078341\n",
       "papier            0.000000\n",
       "inutile           0.000000\n",
       "regles            0.000000\n",
       "grise             0.000000\n",
       "emploi            0.000000\n",
       "Name: identite, dtype: float32"
      ]
     },
     "metadata": {},
     "output_type": "display_data"
    },
    {
     "name": "stdout",
     "output_type": "stream",
     "text": [
      "travaux\n"
     ]
    },
    {
     "data": {
      "text/plain": [
       "travaux        1.000000\n",
       "declaration    0.175258\n",
       "construire     0.158519\n",
       "permis         0.128773\n",
       "demande        0.092166\n",
       "inutile        0.000000\n",
       "identite       0.000000\n",
       "grise          0.000000\n",
       "emploi         0.000000\n",
       "pole           0.000000\n",
       "Name: travaux, dtype: float32"
      ]
     },
     "metadata": {},
     "output_type": "display_data"
    }
   ],
   "source": [
    "for i in df_qu_15_one_hot.sum(axis=0).sort_values(ascending=False).head(20).index:\n",
    "    print(i)\n",
    "    display(df_confidence_15[i].sort_values(ascending=False).head(10))"
   ]
  },
  {
   "cell_type": "code",
   "execution_count": 89,
   "metadata": {
    "scrolled": true
   },
   "outputs": [
    {
     "name": "stdout",
     "output_type": "stream",
     "text": [
      "non\n"
     ]
    },
    {
     "data": {
      "text/plain": [
       "non         0.000577\n",
       "faire       0.000064\n",
       "demande     0.000043\n",
       "fournir          NaN\n",
       "caf              NaN\n",
       "securite         NaN\n",
       "obtenir          NaN\n",
       "compte           NaN\n",
       "carte            NaN\n",
       "payer            NaN\n",
       "Name: non, dtype: float32"
      ]
     },
     "metadata": {},
     "output_type": "display_data"
    },
    {
     "name": "stdout",
     "output_type": "stream",
     "text": [
      "demande\n"
     ]
    },
    {
     "data": {
      "text/plain": [
       "demande      0.000658\n",
       "retraite     0.000190\n",
       "mois         0.000190\n",
       "travaux      0.000171\n",
       "dossier      0.000170\n",
       "2            0.000167\n",
       "ans          0.000166\n",
       "documents    0.000162\n",
       "fournir      0.000151\n",
       "identite     0.000142\n",
       "Name: demande, dtype: float32"
      ]
     },
     "metadata": {},
     "output_type": "display_data"
    },
    {
     "name": "stdout",
     "output_type": "stream",
     "text": [
      "faire\n"
     ]
    },
    {
     "data": {
      "text/plain": [
       "faire       0.000858\n",
       "faut        0.000262\n",
       "mois        0.000215\n",
       "temps       0.000204\n",
       "ans         0.000193\n",
       "internet    0.000193\n",
       "tout        0.000183\n",
       "exemple     0.000158\n",
       "tous        0.000157\n",
       "carte       0.000148\n",
       "Name: faire, dtype: float32"
      ]
     },
     "metadata": {},
     "output_type": "display_data"
    },
    {
     "name": "stdout",
     "output_type": "stream",
     "text": [
      "impots\n"
     ]
    },
    {
     "data": {
      "text/plain": [
       "impots         0.000913\n",
       "payer          0.000273\n",
       "declaration    0.000234\n",
       "faire          0.000100\n",
       "non                 NaN\n",
       "fournir             NaN\n",
       "caf                 NaN\n",
       "securite            NaN\n",
       "obtenir             NaN\n",
       "compte              NaN\n",
       "Name: impots, dtype: float32"
      ]
     },
     "metadata": {},
     "output_type": "display_data"
    },
    {
     "name": "stdout",
     "output_type": "stream",
     "text": [
      "declaration\n"
     ]
    },
    {
     "data": {
      "text/plain": [
       "declaration    0.000937\n",
       "revenus        0.000415\n",
       "travaux        0.000325\n",
       "impot          0.000300\n",
       "impots         0.000234\n",
       "complexe       0.000174\n",
       "faire          0.000108\n",
       "demande        0.000068\n",
       "non                 NaN\n",
       "fournir             NaN\n",
       "Name: declaration, dtype: float32"
      ]
     },
     "metadata": {},
     "output_type": "display_data"
    },
    {
     "name": "stdout",
     "output_type": "stream",
     "text": [
      "regles\n"
     ]
    },
    {
     "data": {
      "text/plain": [
       "regles            0.000981\n",
       "urbanisme         0.000415\n",
       "complexes         0.000351\n",
       "exemple           0.000135\n",
       "administration    0.000113\n",
       "non                    NaN\n",
       "fournir                NaN\n",
       "caf                    NaN\n",
       "securite               NaN\n",
       "obtenir                NaN\n",
       "Name: regles, dtype: float32"
      ]
     },
     "metadata": {},
     "output_type": "display_data"
    },
    {
     "name": "stdout",
     "output_type": "stream",
     "text": [
      "permis\n"
     ]
    },
    {
     "data": {
      "text/plain": [
       "permis        0.001006\n",
       "construire    0.000948\n",
       "travaux       0.000238\n",
       "demande       0.000118\n",
       "non                NaN\n",
       "fournir            NaN\n",
       "caf                NaN\n",
       "securite           NaN\n",
       "obtenir            NaN\n",
       "compte             NaN\n",
       "Name: permis, dtype: float32"
      ]
     },
     "metadata": {},
     "output_type": "display_data"
    },
    {
     "name": "stdout",
     "output_type": "stream",
     "text": [
      "administration\n"
     ]
    },
    {
     "data": {
      "text/plain": [
       "administration    0.001065\n",
       "documents         0.000151\n",
       "exemple           0.000148\n",
       "faire             0.000145\n",
       "demande           0.000142\n",
       "tout              0.000126\n",
       "regles            0.000113\n",
       "non                    NaN\n",
       "fournir                NaN\n",
       "caf                    NaN\n",
       "Name: administration, dtype: float32"
      ]
     },
     "metadata": {},
     "output_type": "display_data"
    },
    {
     "name": "stdout",
     "output_type": "stream",
     "text": [
      "tout\n"
     ]
    },
    {
     "data": {
      "text/plain": [
       "tout              0.001065\n",
       "temps             0.000252\n",
       "faut              0.000212\n",
       "faire             0.000183\n",
       "exemple           0.000148\n",
       "administration    0.000126\n",
       "demande           0.000110\n",
       "non                    NaN\n",
       "fournir                NaN\n",
       "caf                    NaN\n",
       "Name: tout, dtype: float32"
      ]
     },
     "metadata": {},
     "output_type": "display_data"
    },
    {
     "name": "stdout",
     "output_type": "stream",
     "text": [
      "carte\n"
     ]
    },
    {
     "data": {
      "text/plain": [
       "carte             0.001086\n",
       "grise             0.001071\n",
       "identite          0.000692\n",
       "passeport         0.000453\n",
       "renouvellement    0.000416\n",
       "internet          0.000210\n",
       "faire             0.000148\n",
       "demande           0.000141\n",
       "non                    NaN\n",
       "fournir                NaN\n",
       "Name: carte, dtype: float32"
      ]
     },
     "metadata": {},
     "output_type": "display_data"
    },
    {
     "name": "stdout",
     "output_type": "stream",
     "text": [
      "dossier\n"
     ]
    },
    {
     "data": {
      "text/plain": [
       "dossier     0.001256\n",
       "retraite    0.000332\n",
       "demande     0.000170\n",
       "faire       0.000137\n",
       "non              NaN\n",
       "fournir          NaN\n",
       "caf              NaN\n",
       "securite         NaN\n",
       "obtenir          NaN\n",
       "compte           NaN\n",
       "Name: dossier, dtype: float32"
      ]
     },
     "metadata": {},
     "output_type": "display_data"
    },
    {
     "name": "stdout",
     "output_type": "stream",
     "text": [
      "documents\n"
     ]
    },
    {
     "data": {
      "text/plain": [
       "documents         0.001289\n",
       "fournir           0.000420\n",
       "demandes          0.000280\n",
       "demande           0.000162\n",
       "administration    0.000151\n",
       "non                    NaN\n",
       "caf                    NaN\n",
       "securite               NaN\n",
       "obtenir                NaN\n",
       "compte                 NaN\n",
       "Name: documents, dtype: float32"
      ]
     },
     "metadata": {},
     "output_type": "display_data"
    },
    {
     "name": "stdout",
     "output_type": "stream",
     "text": [
      "exemple\n"
     ]
    },
    {
     "data": {
      "text/plain": [
       "exemple           0.001314\n",
       "faire             0.000158\n",
       "administration    0.000148\n",
       "tout              0.000148\n",
       "regles            0.000135\n",
       "demande           0.000119\n",
       "non                    NaN\n",
       "fournir                NaN\n",
       "caf                    NaN\n",
       "securite               NaN\n",
       "Name: exemple, dtype: float32"
      ]
     },
     "metadata": {},
     "output_type": "display_data"
    },
    {
     "name": "stdout",
     "output_type": "stream",
     "text": [
      "faut\n"
     ]
    },
    {
     "data": {
      "text/plain": [
       "faut        0.001464\n",
       "faire       0.000262\n",
       "tout        0.000212\n",
       "demande     0.000126\n",
       "non              NaN\n",
       "fournir          NaN\n",
       "caf              NaN\n",
       "securite         NaN\n",
       "obtenir          NaN\n",
       "compte           NaN\n",
       "Name: faut, dtype: float32"
      ]
     },
     "metadata": {},
     "output_type": "display_data"
    },
    {
     "name": "stdout",
     "output_type": "stream",
     "text": [
      "construire\n"
     ]
    },
    {
     "data": {
      "text/plain": [
       "construire    0.001481\n",
       "permis        0.000948\n",
       "travaux       0.000294\n",
       "demande       0.000111\n",
       "non                NaN\n",
       "fournir            NaN\n",
       "caf                NaN\n",
       "securite           NaN\n",
       "obtenir            NaN\n",
       "compte             NaN\n",
       "Name: construire, dtype: float32"
      ]
     },
     "metadata": {},
     "output_type": "display_data"
    },
    {
     "name": "stdout",
     "output_type": "stream",
     "text": [
      "tous\n"
     ]
    },
    {
     "data": {
      "text/plain": [
       "tous        0.001595\n",
       "ans         0.000489\n",
       "faire       0.000157\n",
       "demande     0.000106\n",
       "non              NaN\n",
       "fournir          NaN\n",
       "caf              NaN\n",
       "securite         NaN\n",
       "obtenir          NaN\n",
       "compte           NaN\n",
       "Name: tous, dtype: float32"
      ]
     },
     "metadata": {},
     "output_type": "display_data"
    },
    {
     "name": "stdout",
     "output_type": "stream",
     "text": [
      "internet\n"
     ]
    },
    {
     "data": {
      "text/plain": [
       "internet    0.001742\n",
       "carte       0.000210\n",
       "faire       0.000193\n",
       "demande     0.000141\n",
       "non              NaN\n",
       "fournir          NaN\n",
       "caf              NaN\n",
       "securite         NaN\n",
       "obtenir          NaN\n",
       "compte           NaN\n",
       "Name: internet, dtype: float32"
      ]
     },
     "metadata": {},
     "output_type": "display_data"
    },
    {
     "name": "stdout",
     "output_type": "stream",
     "text": [
      "complexe\n"
     ]
    },
    {
     "data": {
      "text/plain": [
       "complexe       0.001789\n",
       "declaration    0.000174\n",
       "non                 NaN\n",
       "fournir             NaN\n",
       "caf                 NaN\n",
       "securite            NaN\n",
       "obtenir             NaN\n",
       "compte              NaN\n",
       "carte               NaN\n",
       "payer               NaN\n",
       "Name: complexe, dtype: float32"
      ]
     },
     "metadata": {},
     "output_type": "display_data"
    },
    {
     "name": "stdout",
     "output_type": "stream",
     "text": [
      "identite\n"
     ]
    },
    {
     "data": {
      "text/plain": [
       "identite          0.001812\n",
       "passeport         0.000775\n",
       "renouvellement    0.000761\n",
       "carte             0.000692\n",
       "demande           0.000142\n",
       "non                    NaN\n",
       "fournir                NaN\n",
       "caf                    NaN\n",
       "securite               NaN\n",
       "obtenir                NaN\n",
       "Name: identite, dtype: float32"
      ]
     },
     "metadata": {},
     "output_type": "display_data"
    },
    {
     "name": "stdout",
     "output_type": "stream",
     "text": [
      "travaux\n"
     ]
    },
    {
     "data": {
      "text/plain": [
       "travaux        0.001852\n",
       "declaration    0.000325\n",
       "construire     0.000294\n",
       "permis         0.000238\n",
       "demande        0.000171\n",
       "non                 NaN\n",
       "fournir             NaN\n",
       "caf                 NaN\n",
       "securite            NaN\n",
       "obtenir             NaN\n",
       "Name: travaux, dtype: float32"
      ]
     },
     "metadata": {},
     "output_type": "display_data"
    }
   ],
   "source": [
    "for i in df_qu_15_one_hot.sum(axis=0).sort_values(ascending=False).head(20).index:\n",
    "    print(i)\n",
    "    display(df_lift_15[i].sort_values(ascending=False).head(10))"
   ]
  },
  {
   "cell_type": "code",
   "execution_count": 90,
   "metadata": {},
   "outputs": [
    {
     "data": {
      "text/plain": [
       "294"
      ]
     },
     "execution_count": 90,
     "metadata": {},
     "output_type": "execute_result"
    }
   ],
   "source": [
    "gc.collect()"
   ]
  },
  {
   "cell_type": "markdown",
   "metadata": {},
   "source": [
    "# Question 16 :  Faut-il donner plus d'autonomie aux fonctionnaires de terrain ?"
   ]
  },
  {
   "cell_type": "code",
   "execution_count": 91,
   "metadata": {
    "collapsed": true
   },
   "outputs": [],
   "source": [
    "question_16 = \"Faut-il donner plus d'autonomie aux fonctionnaires de terrain ?\"\n",
    "qu_16,df_qu_16_one_hot,df_cov_16,df_confidence_16,df_lift_16 = compute_similarities(question_16, new_res)"
   ]
  },
  {
   "cell_type": "code",
   "execution_count": 92,
   "metadata": {
    "scrolled": true
   },
   "outputs": [
    {
     "name": "stdout",
     "output_type": "stream",
     "text": [
      "oui\n"
     ]
    },
    {
     "data": {
      "text/plain": [
       "oui    18190\n",
       "non        0\n",
       "Name: oui, dtype: uint16"
      ]
     },
     "metadata": {},
     "output_type": "display_data"
    },
    {
     "name": "stdout",
     "output_type": "stream",
     "text": [
      "non\n"
     ]
    },
    {
     "data": {
      "text/plain": [
       "non    7489\n",
       "oui       0\n",
       "Name: non, dtype: uint16"
      ]
     },
     "metadata": {},
     "output_type": "display_data"
    }
   ],
   "source": [
    "for i in df_qu_16_one_hot.sum(axis=0).sort_values(ascending=False).head(20).index:\n",
    "    print(i)\n",
    "    display(df_cov_16[i].sort_values(ascending=False).head(10))"
   ]
  },
  {
   "cell_type": "code",
   "execution_count": 93,
   "metadata": {
    "scrolled": true
   },
   "outputs": [
    {
     "name": "stdout",
     "output_type": "stream",
     "text": [
      "oui\n"
     ]
    },
    {
     "data": {
      "text/plain": [
       "oui    1.0\n",
       "non    0.0\n",
       "Name: oui, dtype: float32"
      ]
     },
     "metadata": {},
     "output_type": "display_data"
    },
    {
     "name": "stdout",
     "output_type": "stream",
     "text": [
      "non\n"
     ]
    },
    {
     "data": {
      "text/plain": [
       "non    1.0\n",
       "oui    0.0\n",
       "Name: non, dtype: float32"
      ]
     },
     "metadata": {},
     "output_type": "display_data"
    }
   ],
   "source": [
    "for i in df_qu_16_one_hot.sum(axis=0).sort_values(ascending=False).head(20).index:\n",
    "    print(i)\n",
    "    display(df_confidence_16[i].sort_values(ascending=False).head(10))"
   ]
  },
  {
   "cell_type": "code",
   "execution_count": 94,
   "metadata": {
    "scrolled": true
   },
   "outputs": [
    {
     "name": "stdout",
     "output_type": "stream",
     "text": [
      "oui\n"
     ]
    },
    {
     "data": {
      "text/plain": [
       "oui    0.000055\n",
       "non         NaN\n",
       "Name: oui, dtype: float32"
      ]
     },
     "metadata": {},
     "output_type": "display_data"
    },
    {
     "name": "stdout",
     "output_type": "stream",
     "text": [
      "non\n"
     ]
    },
    {
     "data": {
      "text/plain": [
       "non    0.000134\n",
       "oui         NaN\n",
       "Name: non, dtype: float32"
      ]
     },
     "metadata": {},
     "output_type": "display_data"
    }
   ],
   "source": [
    "for i in df_qu_16_one_hot.sum(axis=0).sort_values(ascending=False).head(20).index:\n",
    "    print(i)\n",
    "    display(df_lift_16[i].sort_values(ascending=False).head(10))"
   ]
  },
  {
   "cell_type": "code",
   "execution_count": 95,
   "metadata": {},
   "outputs": [
    {
     "data": {
      "text/plain": [
       "14"
      ]
     },
     "execution_count": 95,
     "metadata": {},
     "output_type": "execute_result"
    }
   ],
   "source": [
    "gc.collect()"
   ]
  },
  {
   "cell_type": "markdown",
   "metadata": {},
   "source": [
    "# Question 17 :   Si oui, comment ?"
   ]
  },
  {
   "cell_type": "code",
   "execution_count": 96,
   "metadata": {},
   "outputs": [],
   "source": [
    "question_17 = \"Si oui, comment ?_terrain\"\n",
    "qu_17,df_qu_17_one_hot,df_cov_17,df_confidence_17,df_lift_17 = compute_similarities(question_17, new_res)"
   ]
  },
  {
   "cell_type": "code",
   "execution_count": 97,
   "metadata": {
    "scrolled": true
   },
   "outputs": [
    {
     "name": "stdout",
     "output_type": "stream",
     "text": [
      "fonctionnaires\n"
     ]
    },
    {
     "data": {
      "text/plain": [
       "fonctionnaires    1375\n",
       "terrain            438\n",
       "faut               205\n",
       "faire              184\n",
       "autonomie          170\n",
       "non                126\n",
       "donner             116\n",
       "pouvoir            114\n",
       "travail            112\n",
       "tout               108\n",
       "Name: fonctionnaires, dtype: uint16"
      ]
     },
     "metadata": {},
     "output_type": "display_data"
    },
    {
     "name": "stdout",
     "output_type": "stream",
     "text": [
      "terrain\n"
     ]
    },
    {
     "data": {
      "text/plain": [
       "terrain           1152\n",
       "fonctionnaires     438\n",
       "fonctionnaire      207\n",
       "faut               145\n",
       "autonomie          138\n",
       "faire              128\n",
       "pouvoir            101\n",
       "public               0\n",
       "cadre                0\n",
       "regles               0\n",
       "Name: terrain, dtype: uint16"
      ]
     },
     "metadata": {},
     "output_type": "display_data"
    },
    {
     "name": "stdout",
     "output_type": "stream",
     "text": [
      "pouvoir\n"
     ]
    },
    {
     "data": {
      "text/plain": [
       "pouvoir           1072\n",
       "decision           246\n",
       "donner             129\n",
       "fonctionnaires     114\n",
       "faire              112\n",
       "cas                101\n",
       "terrain            101\n",
       "public               0\n",
       "oui                  0\n",
       "decisions            0\n",
       "Name: pouvoir, dtype: uint16"
      ]
     },
     "metadata": {},
     "output_type": "display_data"
    },
    {
     "name": "stdout",
     "output_type": "stream",
     "text": [
      "faire\n"
     ]
    },
    {
     "data": {
      "text/plain": [
       "faire             1052\n",
       "confiance          259\n",
       "fonctionnaires     184\n",
       "faut               146\n",
       "terrain            128\n",
       "travail            121\n",
       "pouvoir            112\n",
       "tout               102\n",
       "regles               0\n",
       "prendre              0\n",
       "Name: faire, dtype: uint16"
      ]
     },
     "metadata": {},
     "output_type": "display_data"
    },
    {
     "name": "stdout",
     "output_type": "stream",
     "text": [
      "autonomie\n"
     ]
    },
    {
     "data": {
      "text/plain": [
       "autonomie         1030\n",
       "fonctionnaires     170\n",
       "donner             141\n",
       "terrain            138\n",
       "faut               124\n",
       "fonctionnaire      106\n",
       "public               0\n",
       "cadre                0\n",
       "regles               0\n",
       "prendre              0\n",
       "Name: autonomie, dtype: uint16"
      ]
     },
     "metadata": {},
     "output_type": "display_data"
    },
    {
     "name": "stdout",
     "output_type": "stream",
     "text": [
      "faut\n"
     ]
    },
    {
     "data": {
      "text/plain": [
       "faut              911\n",
       "fonctionnaires    205\n",
       "faire             146\n",
       "terrain           145\n",
       "donner            135\n",
       "autonomie         124\n",
       "public              0\n",
       "cadre               0\n",
       "regles              0\n",
       "prendre             0\n",
       "Name: faut, dtype: uint16"
      ]
     },
     "metadata": {},
     "output_type": "display_data"
    },
    {
     "name": "stdout",
     "output_type": "stream",
     "text": [
      "donner\n"
     ]
    },
    {
     "data": {
      "text/plain": [
       "donner            734\n",
       "autonomie         141\n",
       "faut              135\n",
       "pouvoir           129\n",
       "fonctionnaires    116\n",
       "moyens            105\n",
       "public              0\n",
       "question            0\n",
       "regles              0\n",
       "prendre             0\n",
       "Name: donner, dtype: uint16"
      ]
     },
     "metadata": {},
     "output_type": "display_data"
    },
    {
     "name": "stdout",
     "output_type": "stream",
     "text": [
      "fonctionnaire\n"
     ]
    },
    {
     "data": {
      "text/plain": [
       "fonctionnaire    710\n",
       "terrain          207\n",
       "autonomie        106\n",
       "public             0\n",
       "cadre              0\n",
       "decisions          0\n",
       "regles             0\n",
       "prendre            0\n",
       "agents             0\n",
       "cas                0\n",
       "Name: fonctionnaire, dtype: uint16"
      ]
     },
     "metadata": {},
     "output_type": "display_data"
    },
    {
     "name": "stdout",
     "output_type": "stream",
     "text": [
      "decision\n"
     ]
    },
    {
     "data": {
      "text/plain": [
       "decision     656\n",
       "pouvoir      246\n",
       "public         0\n",
       "cadre          0\n",
       "controle       0\n",
       "decisions      0\n",
       "regles         0\n",
       "prendre        0\n",
       "agents         0\n",
       "cas            0\n",
       "Name: decision, dtype: uint16"
      ]
     },
     "metadata": {},
     "output_type": "display_data"
    },
    {
     "name": "stdout",
     "output_type": "stream",
     "text": [
      "formation\n"
     ]
    },
    {
     "data": {
      "text/plain": [
       "formation         625\n",
       "public              0\n",
       "tout                0\n",
       "controle            0\n",
       "decisions           0\n",
       "regles              0\n",
       "prendre             0\n",
       "agents              0\n",
       "cas                 0\n",
       "responsabilite      0\n",
       "Name: formation, dtype: uint16"
      ]
     },
     "metadata": {},
     "output_type": "display_data"
    },
    {
     "name": "stdout",
     "output_type": "stream",
     "text": [
      "confiance\n"
     ]
    },
    {
     "data": {
      "text/plain": [
       "confiance         616\n",
       "faire             259\n",
       "public              0\n",
       "question            0\n",
       "decisions           0\n",
       "regles              0\n",
       "prendre             0\n",
       "agents              0\n",
       "cas                 0\n",
       "responsabilite      0\n",
       "Name: confiance, dtype: uint16"
      ]
     },
     "metadata": {},
     "output_type": "display_data"
    },
    {
     "name": "stdout",
     "output_type": "stream",
     "text": [
      "non\n"
     ]
    },
    {
     "data": {
      "text/plain": [
       "non               607\n",
       "fonctionnaires    126\n",
       "oui               101\n",
       "question            0\n",
       "controle            0\n",
       "decisions           0\n",
       "regles              0\n",
       "prendre             0\n",
       "agents              0\n",
       "cas                 0\n",
       "Name: non, dtype: uint16"
      ]
     },
     "metadata": {},
     "output_type": "display_data"
    },
    {
     "name": "stdout",
     "output_type": "stream",
     "text": [
      "tout\n"
     ]
    },
    {
     "data": {
      "text/plain": [
       "tout              596\n",
       "fonctionnaires    108\n",
       "faire             102\n",
       "question            0\n",
       "controle            0\n",
       "decisions           0\n",
       "regles              0\n",
       "prendre             0\n",
       "agents              0\n",
       "cas                 0\n",
       "Name: tout, dtype: uint16"
      ]
     },
     "metadata": {},
     "output_type": "display_data"
    },
    {
     "name": "stdout",
     "output_type": "stream",
     "text": [
      "cas\n"
     ]
    },
    {
     "data": {
      "text/plain": [
       "cas               567\n",
       "pouvoir           101\n",
       "public              0\n",
       "question            0\n",
       "controle            0\n",
       "decisions           0\n",
       "regles              0\n",
       "prendre             0\n",
       "agents              0\n",
       "responsabilite      0\n",
       "Name: cas, dtype: uint16"
      ]
     },
     "metadata": {},
     "output_type": "display_data"
    },
    {
     "name": "stdout",
     "output_type": "stream",
     "text": [
      "travail\n"
     ]
    },
    {
     "data": {
      "text/plain": [
       "travail           544\n",
       "faire             121\n",
       "fonctionnaires    112\n",
       "public              0\n",
       "question            0\n",
       "decisions           0\n",
       "regles              0\n",
       "prendre             0\n",
       "agents              0\n",
       "cas                 0\n",
       "Name: travail, dtype: uint16"
      ]
     },
     "metadata": {},
     "output_type": "display_data"
    },
    {
     "name": "stdout",
     "output_type": "stream",
     "text": [
      "decisions\n"
     ]
    },
    {
     "data": {
      "text/plain": [
       "decisions         521\n",
       "prendre           188\n",
       "public              0\n",
       "question            0\n",
       "controle            0\n",
       "regles              0\n",
       "agents              0\n",
       "cas                 0\n",
       "responsabilite      0\n",
       "competences         0\n",
       "Name: decisions, dtype: uint16"
      ]
     },
     "metadata": {},
     "output_type": "display_data"
    },
    {
     "name": "stdout",
     "output_type": "stream",
     "text": [
      "donnant\n"
     ]
    },
    {
     "data": {
      "text/plain": [
       "donnant      504\n",
       "moyens       102\n",
       "public         0\n",
       "question       0\n",
       "controle       0\n",
       "decisions      0\n",
       "regles         0\n",
       "prendre        0\n",
       "agents         0\n",
       "cas            0\n",
       "Name: donnant, dtype: uint16"
      ]
     },
     "metadata": {},
     "output_type": "display_data"
    },
    {
     "name": "stdout",
     "output_type": "stream",
     "text": [
      "responsabilisant\n"
     ]
    },
    {
     "data": {
      "text/plain": [
       "responsabilisant    503\n",
       "question              0\n",
       "controle              0\n",
       "decisions             0\n",
       "regles                0\n",
       "prendre               0\n",
       "agents                0\n",
       "cas                   0\n",
       "responsabilite        0\n",
       "competences           0\n",
       "Name: responsabilisant, dtype: uint16"
      ]
     },
     "metadata": {},
     "output_type": "display_data"
    },
    {
     "name": "stdout",
     "output_type": "stream",
     "text": [
      "controle\n"
     ]
    },
    {
     "data": {
      "text/plain": [
       "controle          501\n",
       "public              0\n",
       "question            0\n",
       "decisions           0\n",
       "regles              0\n",
       "prendre             0\n",
       "agents              0\n",
       "cas                 0\n",
       "responsabilite      0\n",
       "competences         0\n",
       "Name: controle, dtype: uint16"
      ]
     },
     "metadata": {},
     "output_type": "display_data"
    },
    {
     "name": "stdout",
     "output_type": "stream",
     "text": [
      "services\n"
     ]
    },
    {
     "data": {
      "text/plain": [
       "services          493\n",
       "public              0\n",
       "tout                0\n",
       "controle            0\n",
       "decisions           0\n",
       "regles              0\n",
       "prendre             0\n",
       "agents              0\n",
       "cas                 0\n",
       "responsabilite      0\n",
       "Name: services, dtype: uint16"
      ]
     },
     "metadata": {},
     "output_type": "display_data"
    }
   ],
   "source": [
    "for i in df_qu_17_one_hot.sum(axis=0).sort_values(ascending=False).head(20).index:\n",
    "    print(i)\n",
    "    display(df_cov_17[i].sort_values(ascending=False).head(10))"
   ]
  },
  {
   "cell_type": "code",
   "execution_count": 98,
   "metadata": {
    "scrolled": true
   },
   "outputs": [
    {
     "name": "stdout",
     "output_type": "stream",
     "text": [
      "fonctionnaires\n"
     ]
    },
    {
     "data": {
      "text/plain": [
       "fonctionnaires    1.000000\n",
       "terrain           0.380208\n",
       "faut              0.225027\n",
       "non               0.207578\n",
       "travail           0.205882\n",
       "tout              0.181208\n",
       "faire             0.174905\n",
       "autonomie         0.165049\n",
       "donner            0.158038\n",
       "pouvoir           0.106343\n",
       "Name: fonctionnaires, dtype: float32"
      ]
     },
     "metadata": {},
     "output_type": "display_data"
    },
    {
     "name": "stdout",
     "output_type": "stream",
     "text": [
      "terrain\n"
     ]
    },
    {
     "data": {
      "text/plain": [
       "terrain           1.000000\n",
       "fonctionnaires    0.318545\n",
       "fonctionnaire     0.291549\n",
       "faut              0.159166\n",
       "autonomie         0.133981\n",
       "faire             0.121673\n",
       "pouvoir           0.094216\n",
       "public            0.000000\n",
       "cadre             0.000000\n",
       "regles            0.000000\n",
       "Name: terrain, dtype: float32"
      ]
     },
     "metadata": {},
     "output_type": "display_data"
    },
    {
     "name": "stdout",
     "output_type": "stream",
     "text": [
      "pouvoir\n"
     ]
    },
    {
     "data": {
      "text/plain": [
       "pouvoir           1.000000\n",
       "decision          0.375000\n",
       "cas               0.178131\n",
       "donner            0.175749\n",
       "faire             0.106464\n",
       "terrain           0.087674\n",
       "fonctionnaires    0.082909\n",
       "public            0.000000\n",
       "oui               0.000000\n",
       "decisions         0.000000\n",
       "Name: pouvoir, dtype: float32"
      ]
     },
     "metadata": {},
     "output_type": "display_data"
    },
    {
     "name": "stdout",
     "output_type": "stream",
     "text": [
      "faire\n"
     ]
    },
    {
     "data": {
      "text/plain": [
       "faire             1.000000\n",
       "confiance         0.420455\n",
       "travail           0.222426\n",
       "tout              0.171141\n",
       "faut              0.160263\n",
       "fonctionnaires    0.133818\n",
       "terrain           0.111111\n",
       "pouvoir           0.104478\n",
       "regles            0.000000\n",
       "prendre           0.000000\n",
       "Name: faire, dtype: float32"
      ]
     },
     "metadata": {},
     "output_type": "display_data"
    },
    {
     "name": "stdout",
     "output_type": "stream",
     "text": [
      "autonomie\n"
     ]
    },
    {
     "data": {
      "text/plain": [
       "autonomie         1.000000\n",
       "donner            0.192098\n",
       "fonctionnaire     0.149296\n",
       "faut              0.136114\n",
       "fonctionnaires    0.123636\n",
       "terrain           0.119792\n",
       "public            0.000000\n",
       "cadre             0.000000\n",
       "regles            0.000000\n",
       "prendre           0.000000\n",
       "Name: autonomie, dtype: float32"
      ]
     },
     "metadata": {},
     "output_type": "display_data"
    },
    {
     "name": "stdout",
     "output_type": "stream",
     "text": [
      "faut\n"
     ]
    },
    {
     "data": {
      "text/plain": [
       "faut              1.000000\n",
       "donner            0.183924\n",
       "fonctionnaires    0.149091\n",
       "faire             0.138783\n",
       "terrain           0.125868\n",
       "autonomie         0.120388\n",
       "public            0.000000\n",
       "cadre             0.000000\n",
       "regles            0.000000\n",
       "prendre           0.000000\n",
       "Name: faut, dtype: float32"
      ]
     },
     "metadata": {},
     "output_type": "display_data"
    },
    {
     "name": "stdout",
     "output_type": "stream",
     "text": [
      "donner\n"
     ]
    },
    {
     "data": {
      "text/plain": [
       "donner            1.000000\n",
       "moyens            0.221987\n",
       "faut              0.148189\n",
       "autonomie         0.136893\n",
       "pouvoir           0.120336\n",
       "fonctionnaires    0.084364\n",
       "public            0.000000\n",
       "question          0.000000\n",
       "regles            0.000000\n",
       "prendre           0.000000\n",
       "Name: donner, dtype: float32"
      ]
     },
     "metadata": {},
     "output_type": "display_data"
    },
    {
     "name": "stdout",
     "output_type": "stream",
     "text": [
      "fonctionnaire\n"
     ]
    },
    {
     "data": {
      "text/plain": [
       "fonctionnaire    1.000000\n",
       "terrain          0.179688\n",
       "autonomie        0.102913\n",
       "public           0.000000\n",
       "cadre            0.000000\n",
       "decisions        0.000000\n",
       "regles           0.000000\n",
       "prendre          0.000000\n",
       "agents           0.000000\n",
       "cas              0.000000\n",
       "Name: fonctionnaire, dtype: float32"
      ]
     },
     "metadata": {},
     "output_type": "display_data"
    },
    {
     "name": "stdout",
     "output_type": "stream",
     "text": [
      "decision\n"
     ]
    },
    {
     "data": {
      "text/plain": [
       "decision     1.000000\n",
       "pouvoir      0.229478\n",
       "public       0.000000\n",
       "cadre        0.000000\n",
       "controle     0.000000\n",
       "decisions    0.000000\n",
       "regles       0.000000\n",
       "prendre      0.000000\n",
       "agents       0.000000\n",
       "cas          0.000000\n",
       "Name: decision, dtype: float32"
      ]
     },
     "metadata": {},
     "output_type": "display_data"
    },
    {
     "name": "stdout",
     "output_type": "stream",
     "text": [
      "formation\n"
     ]
    },
    {
     "data": {
      "text/plain": [
       "formation         1.0\n",
       "public            0.0\n",
       "tout              0.0\n",
       "controle          0.0\n",
       "decisions         0.0\n",
       "regles            0.0\n",
       "prendre           0.0\n",
       "agents            0.0\n",
       "cas               0.0\n",
       "responsabilite    0.0\n",
       "Name: formation, dtype: float32"
      ]
     },
     "metadata": {},
     "output_type": "display_data"
    },
    {
     "name": "stdout",
     "output_type": "stream",
     "text": [
      "confiance\n"
     ]
    },
    {
     "data": {
      "text/plain": [
       "confiance         1.000000\n",
       "faire             0.246198\n",
       "public            0.000000\n",
       "question          0.000000\n",
       "decisions         0.000000\n",
       "regles            0.000000\n",
       "prendre           0.000000\n",
       "agents            0.000000\n",
       "cas               0.000000\n",
       "responsabilite    0.000000\n",
       "Name: confiance, dtype: float32"
      ]
     },
     "metadata": {},
     "output_type": "display_data"
    },
    {
     "name": "stdout",
     "output_type": "stream",
     "text": [
      "non\n"
     ]
    },
    {
     "data": {
      "text/plain": [
       "non               1.000000\n",
       "oui               0.220524\n",
       "fonctionnaires    0.091636\n",
       "question          0.000000\n",
       "controle          0.000000\n",
       "decisions         0.000000\n",
       "regles            0.000000\n",
       "prendre           0.000000\n",
       "agents            0.000000\n",
       "cas               0.000000\n",
       "Name: non, dtype: float32"
      ]
     },
     "metadata": {},
     "output_type": "display_data"
    },
    {
     "name": "stdout",
     "output_type": "stream",
     "text": [
      "tout\n"
     ]
    },
    {
     "data": {
      "text/plain": [
       "tout              1.000000\n",
       "faire             0.096958\n",
       "fonctionnaires    0.078545\n",
       "question          0.000000\n",
       "controle          0.000000\n",
       "decisions         0.000000\n",
       "regles            0.000000\n",
       "prendre           0.000000\n",
       "agents            0.000000\n",
       "cas               0.000000\n",
       "Name: tout, dtype: float32"
      ]
     },
     "metadata": {},
     "output_type": "display_data"
    },
    {
     "name": "stdout",
     "output_type": "stream",
     "text": [
      "cas\n"
     ]
    },
    {
     "data": {
      "text/plain": [
       "cas               1.000000\n",
       "pouvoir           0.094216\n",
       "public            0.000000\n",
       "question          0.000000\n",
       "controle          0.000000\n",
       "decisions         0.000000\n",
       "regles            0.000000\n",
       "prendre           0.000000\n",
       "agents            0.000000\n",
       "responsabilite    0.000000\n",
       "Name: cas, dtype: float32"
      ]
     },
     "metadata": {},
     "output_type": "display_data"
    },
    {
     "name": "stdout",
     "output_type": "stream",
     "text": [
      "travail\n"
     ]
    },
    {
     "data": {
      "text/plain": [
       "travail           1.000000\n",
       "faire             0.115019\n",
       "fonctionnaires    0.081455\n",
       "public            0.000000\n",
       "question          0.000000\n",
       "decisions         0.000000\n",
       "regles            0.000000\n",
       "prendre           0.000000\n",
       "agents            0.000000\n",
       "cas               0.000000\n",
       "Name: travail, dtype: float32"
      ]
     },
     "metadata": {},
     "output_type": "display_data"
    },
    {
     "name": "stdout",
     "output_type": "stream",
     "text": [
      "decisions\n"
     ]
    },
    {
     "data": {
      "text/plain": [
       "decisions         1.000000\n",
       "prendre           0.408696\n",
       "public            0.000000\n",
       "question          0.000000\n",
       "controle          0.000000\n",
       "regles            0.000000\n",
       "agents            0.000000\n",
       "cas               0.000000\n",
       "responsabilite    0.000000\n",
       "competences       0.000000\n",
       "Name: decisions, dtype: float32"
      ]
     },
     "metadata": {},
     "output_type": "display_data"
    },
    {
     "name": "stdout",
     "output_type": "stream",
     "text": [
      "donnant\n"
     ]
    },
    {
     "data": {
      "text/plain": [
       "donnant      1.000000\n",
       "moyens       0.215645\n",
       "public       0.000000\n",
       "question     0.000000\n",
       "controle     0.000000\n",
       "decisions    0.000000\n",
       "regles       0.000000\n",
       "prendre      0.000000\n",
       "agents       0.000000\n",
       "cas          0.000000\n",
       "Name: donnant, dtype: float32"
      ]
     },
     "metadata": {},
     "output_type": "display_data"
    },
    {
     "name": "stdout",
     "output_type": "stream",
     "text": [
      "responsabilisant\n"
     ]
    },
    {
     "data": {
      "text/plain": [
       "responsabilisant    1.0\n",
       "question            0.0\n",
       "controle            0.0\n",
       "decisions           0.0\n",
       "regles              0.0\n",
       "prendre             0.0\n",
       "agents              0.0\n",
       "cas                 0.0\n",
       "responsabilite      0.0\n",
       "competences         0.0\n",
       "Name: responsabilisant, dtype: float32"
      ]
     },
     "metadata": {},
     "output_type": "display_data"
    },
    {
     "name": "stdout",
     "output_type": "stream",
     "text": [
      "controle\n"
     ]
    },
    {
     "data": {
      "text/plain": [
       "controle          1.0\n",
       "public            0.0\n",
       "question          0.0\n",
       "decisions         0.0\n",
       "regles            0.0\n",
       "prendre           0.0\n",
       "agents            0.0\n",
       "cas               0.0\n",
       "responsabilite    0.0\n",
       "competences       0.0\n",
       "Name: controle, dtype: float32"
      ]
     },
     "metadata": {},
     "output_type": "display_data"
    },
    {
     "name": "stdout",
     "output_type": "stream",
     "text": [
      "services\n"
     ]
    },
    {
     "data": {
      "text/plain": [
       "services          1.0\n",
       "public            0.0\n",
       "tout              0.0\n",
       "controle          0.0\n",
       "decisions         0.0\n",
       "regles            0.0\n",
       "prendre           0.0\n",
       "agents            0.0\n",
       "cas               0.0\n",
       "responsabilite    0.0\n",
       "Name: services, dtype: float32"
      ]
     },
     "metadata": {},
     "output_type": "display_data"
    }
   ],
   "source": [
    "for i in df_qu_17_one_hot.sum(axis=0).sort_values(ascending=False).head(20).index:\n",
    "    print(i)\n",
    "    display(df_confidence_17[i].sort_values(ascending=False).head(10))"
   ]
  },
  {
   "cell_type": "code",
   "execution_count": 99,
   "metadata": {
    "scrolled": true
   },
   "outputs": [
    {
     "name": "stdout",
     "output_type": "stream",
     "text": [
      "fonctionnaires\n"
     ]
    },
    {
     "data": {
      "text/plain": [
       "fonctionnaires    0.000727\n",
       "terrain           0.000277\n",
       "faut              0.000164\n",
       "non               0.000151\n",
       "travail           0.000150\n",
       "tout              0.000132\n",
       "faire             0.000127\n",
       "autonomie         0.000120\n",
       "donner            0.000115\n",
       "pouvoir           0.000077\n",
       "Name: fonctionnaires, dtype: float32"
      ]
     },
     "metadata": {},
     "output_type": "display_data"
    },
    {
     "name": "stdout",
     "output_type": "stream",
     "text": [
      "terrain\n"
     ]
    },
    {
     "data": {
      "text/plain": [
       "terrain           0.000868\n",
       "fonctionnaires    0.000277\n",
       "fonctionnaire     0.000253\n",
       "faut              0.000138\n",
       "autonomie         0.000116\n",
       "faire             0.000106\n",
       "pouvoir           0.000082\n",
       "non                    NaN\n",
       "decision               NaN\n",
       "objectifs              NaN\n",
       "Name: terrain, dtype: float32"
      ]
     },
     "metadata": {},
     "output_type": "display_data"
    },
    {
     "name": "stdout",
     "output_type": "stream",
     "text": [
      "pouvoir\n"
     ]
    },
    {
     "data": {
      "text/plain": [
       "pouvoir           0.000933\n",
       "decision          0.000350\n",
       "cas               0.000166\n",
       "donner            0.000164\n",
       "faire             0.000099\n",
       "terrain           0.000082\n",
       "fonctionnaires    0.000077\n",
       "non                    NaN\n",
       "objectifs              NaN\n",
       "permettre              NaN\n",
       "Name: pouvoir, dtype: float32"
      ]
     },
     "metadata": {},
     "output_type": "display_data"
    },
    {
     "name": "stdout",
     "output_type": "stream",
     "text": [
      "faire\n"
     ]
    },
    {
     "data": {
      "text/plain": [
       "faire             0.000951\n",
       "confiance         0.000400\n",
       "travail           0.000211\n",
       "tout              0.000163\n",
       "faut              0.000152\n",
       "fonctionnaires    0.000127\n",
       "terrain           0.000106\n",
       "pouvoir           0.000099\n",
       "non                    NaN\n",
       "decision               NaN\n",
       "Name: faire, dtype: float32"
      ]
     },
     "metadata": {},
     "output_type": "display_data"
    },
    {
     "name": "stdout",
     "output_type": "stream",
     "text": [
      "autonomie\n"
     ]
    },
    {
     "data": {
      "text/plain": [
       "autonomie         0.000971\n",
       "donner            0.000187\n",
       "fonctionnaire     0.000145\n",
       "faut              0.000132\n",
       "fonctionnaires    0.000120\n",
       "terrain           0.000116\n",
       "non                    NaN\n",
       "decision               NaN\n",
       "objectifs              NaN\n",
       "permettre              NaN\n",
       "Name: autonomie, dtype: float32"
      ]
     },
     "metadata": {},
     "output_type": "display_data"
    },
    {
     "name": "stdout",
     "output_type": "stream",
     "text": [
      "faut\n"
     ]
    },
    {
     "data": {
      "text/plain": [
       "faut              0.001098\n",
       "donner            0.000202\n",
       "fonctionnaires    0.000164\n",
       "faire             0.000152\n",
       "terrain           0.000138\n",
       "autonomie         0.000132\n",
       "non                    NaN\n",
       "decision               NaN\n",
       "objectifs              NaN\n",
       "permettre              NaN\n",
       "Name: faut, dtype: float32"
      ]
     },
     "metadata": {},
     "output_type": "display_data"
    },
    {
     "name": "stdout",
     "output_type": "stream",
     "text": [
      "donner\n"
     ]
    },
    {
     "data": {
      "text/plain": [
       "donner            0.001362\n",
       "moyens            0.000302\n",
       "faut              0.000202\n",
       "autonomie         0.000187\n",
       "pouvoir           0.000164\n",
       "fonctionnaires    0.000115\n",
       "non                    NaN\n",
       "decision               NaN\n",
       "objectifs              NaN\n",
       "permettre              NaN\n",
       "Name: donner, dtype: float32"
      ]
     },
     "metadata": {},
     "output_type": "display_data"
    },
    {
     "name": "stdout",
     "output_type": "stream",
     "text": [
      "fonctionnaire\n"
     ]
    },
    {
     "data": {
      "text/plain": [
       "fonctionnaire    0.001408\n",
       "terrain          0.000253\n",
       "autonomie        0.000145\n",
       "non                   NaN\n",
       "decision              NaN\n",
       "objectifs             NaN\n",
       "permettre             NaN\n",
       "sais                  NaN\n",
       "compte                NaN\n",
       "fonction              NaN\n",
       "Name: fonctionnaire, dtype: float32"
      ]
     },
     "metadata": {},
     "output_type": "display_data"
    },
    {
     "name": "stdout",
     "output_type": "stream",
     "text": [
      "decision\n"
     ]
    },
    {
     "data": {
      "text/plain": [
       "decision     0.001524\n",
       "pouvoir      0.000350\n",
       "non               NaN\n",
       "objectifs         NaN\n",
       "permettre         NaN\n",
       "sais              NaN\n",
       "compte            NaN\n",
       "fonction          NaN\n",
       "donnant           NaN\n",
       "terrain           NaN\n",
       "Name: decision, dtype: float32"
      ]
     },
     "metadata": {},
     "output_type": "display_data"
    },
    {
     "name": "stdout",
     "output_type": "stream",
     "text": [
      "formation\n"
     ]
    },
    {
     "data": {
      "text/plain": [
       "formation    0.0016\n",
       "non             NaN\n",
       "decision        NaN\n",
       "objectifs       NaN\n",
       "permettre       NaN\n",
       "sais            NaN\n",
       "compte          NaN\n",
       "fonction        NaN\n",
       "donnant         NaN\n",
       "pouvoir         NaN\n",
       "Name: formation, dtype: float32"
      ]
     },
     "metadata": {},
     "output_type": "display_data"
    },
    {
     "name": "stdout",
     "output_type": "stream",
     "text": [
      "confiance\n"
     ]
    },
    {
     "data": {
      "text/plain": [
       "confiance    0.001623\n",
       "faire        0.000400\n",
       "non               NaN\n",
       "decision          NaN\n",
       "objectifs         NaN\n",
       "permettre         NaN\n",
       "sais              NaN\n",
       "compte            NaN\n",
       "fonction          NaN\n",
       "donnant           NaN\n",
       "Name: confiance, dtype: float32"
      ]
     },
     "metadata": {},
     "output_type": "display_data"
    },
    {
     "name": "stdout",
     "output_type": "stream",
     "text": [
      "non\n"
     ]
    },
    {
     "data": {
      "text/plain": [
       "non               0.001647\n",
       "oui               0.000363\n",
       "fonctionnaires    0.000151\n",
       "decision               NaN\n",
       "objectifs              NaN\n",
       "permettre              NaN\n",
       "sais                   NaN\n",
       "compte                 NaN\n",
       "fonction               NaN\n",
       "donnant                NaN\n",
       "Name: non, dtype: float32"
      ]
     },
     "metadata": {},
     "output_type": "display_data"
    },
    {
     "name": "stdout",
     "output_type": "stream",
     "text": [
      "tout\n"
     ]
    },
    {
     "data": {
      "text/plain": [
       "tout              0.001678\n",
       "faire             0.000163\n",
       "fonctionnaires    0.000132\n",
       "non                    NaN\n",
       "decision               NaN\n",
       "objectifs              NaN\n",
       "permettre              NaN\n",
       "sais                   NaN\n",
       "compte                 NaN\n",
       "fonction               NaN\n",
       "Name: tout, dtype: float32"
      ]
     },
     "metadata": {},
     "output_type": "display_data"
    },
    {
     "name": "stdout",
     "output_type": "stream",
     "text": [
      "cas\n"
     ]
    },
    {
     "data": {
      "text/plain": [
       "cas          0.001764\n",
       "pouvoir      0.000166\n",
       "non               NaN\n",
       "decision          NaN\n",
       "objectifs         NaN\n",
       "permettre         NaN\n",
       "sais              NaN\n",
       "compte            NaN\n",
       "fonction          NaN\n",
       "donnant           NaN\n",
       "Name: cas, dtype: float32"
      ]
     },
     "metadata": {},
     "output_type": "display_data"
    },
    {
     "name": "stdout",
     "output_type": "stream",
     "text": [
      "travail\n"
     ]
    },
    {
     "data": {
      "text/plain": [
       "travail           0.001838\n",
       "faire             0.000211\n",
       "fonctionnaires    0.000150\n",
       "non                    NaN\n",
       "decision               NaN\n",
       "objectifs              NaN\n",
       "permettre              NaN\n",
       "sais                   NaN\n",
       "compte                 NaN\n",
       "fonction               NaN\n",
       "Name: travail, dtype: float32"
      ]
     },
     "metadata": {},
     "output_type": "display_data"
    },
    {
     "name": "stdout",
     "output_type": "stream",
     "text": [
      "decisions\n"
     ]
    },
    {
     "data": {
      "text/plain": [
       "decisions    0.001919\n",
       "prendre      0.000784\n",
       "non               NaN\n",
       "decision          NaN\n",
       "objectifs         NaN\n",
       "permettre         NaN\n",
       "sais              NaN\n",
       "compte            NaN\n",
       "fonction          NaN\n",
       "donnant           NaN\n",
       "Name: decisions, dtype: float32"
      ]
     },
     "metadata": {},
     "output_type": "display_data"
    },
    {
     "name": "stdout",
     "output_type": "stream",
     "text": [
      "donnant\n"
     ]
    },
    {
     "data": {
      "text/plain": [
       "donnant      0.001984\n",
       "moyens       0.000428\n",
       "non               NaN\n",
       "decision          NaN\n",
       "objectifs         NaN\n",
       "permettre         NaN\n",
       "sais              NaN\n",
       "compte            NaN\n",
       "fonction          NaN\n",
       "pouvoir           NaN\n",
       "Name: donnant, dtype: float32"
      ]
     },
     "metadata": {},
     "output_type": "display_data"
    },
    {
     "name": "stdout",
     "output_type": "stream",
     "text": [
      "responsabilisant\n"
     ]
    },
    {
     "data": {
      "text/plain": [
       "responsabilisant    0.001988\n",
       "non                      NaN\n",
       "decision                 NaN\n",
       "objectifs                NaN\n",
       "permettre                NaN\n",
       "sais                     NaN\n",
       "compte                   NaN\n",
       "fonction                 NaN\n",
       "donnant                  NaN\n",
       "pouvoir                  NaN\n",
       "Name: responsabilisant, dtype: float32"
      ]
     },
     "metadata": {},
     "output_type": "display_data"
    },
    {
     "name": "stdout",
     "output_type": "stream",
     "text": [
      "controle\n"
     ]
    },
    {
     "data": {
      "text/plain": [
       "controle     0.001996\n",
       "non               NaN\n",
       "decision          NaN\n",
       "objectifs         NaN\n",
       "permettre         NaN\n",
       "sais              NaN\n",
       "compte            NaN\n",
       "fonction          NaN\n",
       "donnant           NaN\n",
       "pouvoir           NaN\n",
       "Name: controle, dtype: float32"
      ]
     },
     "metadata": {},
     "output_type": "display_data"
    },
    {
     "name": "stdout",
     "output_type": "stream",
     "text": [
      "services\n"
     ]
    },
    {
     "data": {
      "text/plain": [
       "services     0.002028\n",
       "non               NaN\n",
       "decision          NaN\n",
       "objectifs         NaN\n",
       "permettre         NaN\n",
       "sais              NaN\n",
       "compte            NaN\n",
       "fonction          NaN\n",
       "donnant           NaN\n",
       "pouvoir           NaN\n",
       "Name: services, dtype: float32"
      ]
     },
     "metadata": {},
     "output_type": "display_data"
    }
   ],
   "source": [
    "for i in df_qu_17_one_hot.sum(axis=0).sort_values(ascending=False).head(20).index:\n",
    "    print(i)\n",
    "    display(df_lift_17[i].sort_values(ascending=False).head(10))"
   ]
  },
  {
   "cell_type": "code",
   "execution_count": 100,
   "metadata": {},
   "outputs": [
    {
     "data": {
      "text/plain": [
       "285"
      ]
     },
     "execution_count": 100,
     "metadata": {},
     "output_type": "execute_result"
    }
   ],
   "source": [
    "gc.collect()"
   ]
  },
  {
   "cell_type": "markdown",
   "metadata": {},
   "source": [
    "# Question 18 :   Faut-il revoir le fonctionnement et la formation de l'administration ?"
   ]
  },
  {
   "cell_type": "code",
   "execution_count": 101,
   "metadata": {
    "collapsed": true
   },
   "outputs": [],
   "source": [
    "question_18 = \"Faut-il revoir le fonctionnement et la formation de l'administration ?\"\n",
    "qu_18,df_qu_18_one_hot,df_cov_18,df_confidence_18,df_lift_18 = compute_similarities(question_18, new_res)"
   ]
  },
  {
   "cell_type": "code",
   "execution_count": 102,
   "metadata": {
    "scrolled": true
   },
   "outputs": [
    {
     "name": "stdout",
     "output_type": "stream",
     "text": [
      "oui\n"
     ]
    },
    {
     "data": {
      "text/plain": [
       "oui    23090\n",
       "non        0\n",
       "Name: oui, dtype: uint16"
      ]
     },
     "metadata": {},
     "output_type": "display_data"
    },
    {
     "name": "stdout",
     "output_type": "stream",
     "text": [
      "non\n"
     ]
    },
    {
     "data": {
      "text/plain": [
       "non    2604\n",
       "oui       0\n",
       "Name: non, dtype: uint16"
      ]
     },
     "metadata": {},
     "output_type": "display_data"
    }
   ],
   "source": [
    "for i in df_qu_18_one_hot.sum(axis=0).sort_values(ascending=False).head(20).index:\n",
    "    print(i)\n",
    "    display(df_cov_18[i].sort_values(ascending=False).head(10))"
   ]
  },
  {
   "cell_type": "code",
   "execution_count": 103,
   "metadata": {
    "scrolled": true
   },
   "outputs": [
    {
     "name": "stdout",
     "output_type": "stream",
     "text": [
      "oui\n"
     ]
    },
    {
     "data": {
      "text/plain": [
       "oui    1.0\n",
       "non    0.0\n",
       "Name: oui, dtype: float32"
      ]
     },
     "metadata": {},
     "output_type": "display_data"
    },
    {
     "name": "stdout",
     "output_type": "stream",
     "text": [
      "non\n"
     ]
    },
    {
     "data": {
      "text/plain": [
       "non    1.0\n",
       "oui    0.0\n",
       "Name: non, dtype: float32"
      ]
     },
     "metadata": {},
     "output_type": "display_data"
    }
   ],
   "source": [
    "for i in df_qu_18_one_hot.sum(axis=0).sort_values(ascending=False).head(20).index:\n",
    "    print(i)\n",
    "    display(df_confidence_18[i].sort_values(ascending=False).head(10))"
   ]
  },
  {
   "cell_type": "code",
   "execution_count": 104,
   "metadata": {
    "scrolled": true
   },
   "outputs": [
    {
     "name": "stdout",
     "output_type": "stream",
     "text": [
      "oui\n"
     ]
    },
    {
     "data": {
      "text/plain": [
       "oui    0.000043\n",
       "non         NaN\n",
       "Name: oui, dtype: float32"
      ]
     },
     "metadata": {},
     "output_type": "display_data"
    },
    {
     "name": "stdout",
     "output_type": "stream",
     "text": [
      "non\n"
     ]
    },
    {
     "data": {
      "text/plain": [
       "non    0.000384\n",
       "oui         NaN\n",
       "Name: non, dtype: float32"
      ]
     },
     "metadata": {},
     "output_type": "display_data"
    }
   ],
   "source": [
    "for i in df_qu_18_one_hot.sum(axis=0).sort_values(ascending=False).head(20).index:\n",
    "    print(i)\n",
    "    display(df_lift_18[i].sort_values(ascending=False).head(10))"
   ]
  },
  {
   "cell_type": "code",
   "execution_count": 105,
   "metadata": {},
   "outputs": [
    {
     "data": {
      "text/plain": [
       "14"
      ]
     },
     "execution_count": 105,
     "metadata": {},
     "output_type": "execute_result"
    }
   ],
   "source": [
    "gc.collect()"
   ]
  },
  {
   "cell_type": "markdown",
   "metadata": {},
   "source": [
    "# Question 19 :  Si oui, comment ?"
   ]
  },
  {
   "cell_type": "code",
   "execution_count": 106,
   "metadata": {
    "collapsed": true
   },
   "outputs": [],
   "source": [
    "question_19 = \"Si oui, comment ?_admin\"\n",
    "qu_19,df_qu_19_one_hot,df_cov_19,df_confidence_19,df_lift_19 = compute_similarities(question_19, new_res)"
   ]
  },
  {
   "cell_type": "code",
   "execution_count": 107,
   "metadata": {
    "scrolled": true
   },
   "outputs": [
    {
     "name": "stdout",
     "output_type": "stream",
     "text": [
      "fonctionnaires\n"
     ]
    },
    {
     "data": {
      "text/plain": [
       "fonctionnaires    3579\n",
       "formation          590\n",
       "administration     568\n",
       "hauts              557\n",
       "faut               530\n",
       "prive              492\n",
       "faire              472\n",
       "service            410\n",
       "tous               382\n",
       "fonction           375\n",
       "Name: fonctionnaires, dtype: uint16"
      ]
     },
     "metadata": {},
     "output_type": "display_data"
    },
    {
     "name": "stdout",
     "output_type": "stream",
     "text": [
      "formation\n"
     ]
    },
    {
     "data": {
      "text/plain": [
       "formation         2830\n",
       "fonctionnaires     590\n",
       "administration     408\n",
       "agents             333\n",
       "faut               322\n",
       "continue           317\n",
       "faire              285\n",
       "service            277\n",
       "fonctionnement     252\n",
       "tout               250\n",
       "Name: formation, dtype: uint16"
      ]
     },
     "metadata": {},
     "output_type": "display_data"
    },
    {
     "name": "stdout",
     "output_type": "stream",
     "text": [
      "administration\n"
     ]
    },
    {
     "data": {
      "text/plain": [
       "administration    2301\n",
       "fonctionnaires     568\n",
       "formation          408\n",
       "faut               397\n",
       "service            364\n",
       "faire              326\n",
       "prive              303\n",
       "fonctionnement     267\n",
       "tout               251\n",
       "non                241\n",
       "Name: administration, dtype: uint16"
      ]
     },
     "metadata": {},
     "output_type": "display_data"
    },
    {
     "name": "stdout",
     "output_type": "stream",
     "text": [
      "faut\n"
     ]
    },
    {
     "data": {
      "text/plain": [
       "faut              1759\n",
       "fonctionnaires     530\n",
       "administration     397\n",
       "formation          322\n",
       "faire              296\n",
       "tout               240\n",
       "service            234\n",
       "prive              210\n",
       "services           203\n",
       "tous               194\n",
       "Name: faut, dtype: uint16"
      ]
     },
     "metadata": {},
     "output_type": "display_data"
    },
    {
     "name": "stdout",
     "output_type": "stream",
     "text": [
      "service\n"
     ]
    },
    {
     "data": {
      "text/plain": [
       "service           1742\n",
       "public             575\n",
       "fonctionnaires     410\n",
       "administration     364\n",
       "formation          277\n",
       "non                262\n",
       "faire              243\n",
       "faut               234\n",
       "agents             229\n",
       "services           202\n",
       "Name: service, dtype: uint16"
      ]
     },
     "metadata": {},
     "output_type": "display_data"
    },
    {
     "name": "stdout",
     "output_type": "stream",
     "text": [
      "faire\n"
     ]
    },
    {
     "data": {
      "text/plain": [
       "faire             1734\n",
       "fonctionnaires     472\n",
       "administration     326\n",
       "faut               296\n",
       "formation          285\n",
       "service            243\n",
       "tout               243\n",
       "prive              240\n",
       "travail            218\n",
       "non                210\n",
       "Name: faire, dtype: uint16"
      ]
     },
     "metadata": {},
     "output_type": "display_data"
    },
    {
     "name": "stdout",
     "output_type": "stream",
     "text": [
      "prive\n"
     ]
    },
    {
     "data": {
      "text/plain": [
       "prive             1704\n",
       "fonctionnaires     492\n",
       "public             427\n",
       "administration     303\n",
       "secteur            252\n",
       "formation          243\n",
       "faire              240\n",
       "fonction           239\n",
       "fonctionnaire      234\n",
       "statut             233\n",
       "Name: prive, dtype: uint16"
      ]
     },
     "metadata": {},
     "output_type": "display_data"
    },
    {
     "name": "stdout",
     "output_type": "stream",
     "text": [
      "services\n"
     ]
    },
    {
     "data": {
      "text/plain": [
       "services          1506\n",
       "publics            333\n",
       "fonctionnaires     292\n",
       "administration     230\n",
       "formation          209\n",
       "faut               203\n",
       "agents             203\n",
       "service            202\n",
       "tous               196\n",
       "faire              193\n",
       "Name: services, dtype: uint16"
      ]
     },
     "metadata": {},
     "output_type": "display_data"
    },
    {
     "name": "stdout",
     "output_type": "stream",
     "text": [
      "agents\n"
     ]
    },
    {
     "data": {
      "text/plain": [
       "agents            1483\n",
       "formation          333\n",
       "service            229\n",
       "administration     224\n",
       "fonctionnaires     219\n",
       "services           203\n",
       "public             197\n",
       "faut               181\n",
       "faire              176\n",
       "fonction           167\n",
       "Name: agents, dtype: uint16"
      ]
     },
     "metadata": {},
     "output_type": "display_data"
    },
    {
     "name": "stdout",
     "output_type": "stream",
     "text": [
      "tout\n"
     ]
    },
    {
     "data": {
      "text/plain": [
       "tout              1328\n",
       "fonctionnaires     309\n",
       "administration     251\n",
       "formation          250\n",
       "faire              243\n",
       "faut               240\n",
       "service            174\n",
       "monde              171\n",
       "prive              165\n",
       "fonctionnaire      164\n",
       "Name: tout, dtype: uint16"
      ]
     },
     "metadata": {},
     "output_type": "display_data"
    },
    {
     "name": "stdout",
     "output_type": "stream",
     "text": [
      "public\n"
     ]
    },
    {
     "data": {
      "text/plain": [
       "public            1326\n",
       "service            575\n",
       "prive              427\n",
       "fonctionnaires     358\n",
       "formation          247\n",
       "administration     231\n",
       "agents             197\n",
       "faut               186\n",
       "faire              185\n",
       "fonction           164\n",
       "Name: public, dtype: uint16"
      ]
     },
     "metadata": {},
     "output_type": "display_data"
    },
    {
     "name": "stdout",
     "output_type": "stream",
     "text": [
      "ena\n"
     ]
    },
    {
     "data": {
      "text/plain": [
       "ena               1297\n",
       "supprimer          436\n",
       "fonctionnaires     367\n",
       "administration     235\n",
       "formation          210\n",
       "prive              197\n",
       "hauts              184\n",
       "suppression        176\n",
       "ecoles             144\n",
       "fonction           143\n",
       "Name: ena, dtype: uint16"
      ]
     },
     "metadata": {},
     "output_type": "display_data"
    },
    {
     "name": "stdout",
     "output_type": "stream",
     "text": [
      "non\n"
     ]
    },
    {
     "data": {
      "text/plain": [
       "non               1281\n",
       "fonctionnaires     365\n",
       "service            262\n",
       "administration     241\n",
       "formation          222\n",
       "faire              210\n",
       "faut               181\n",
       "fonction           166\n",
       "prive              162\n",
       "public             156\n",
       "Name: non, dtype: uint16"
      ]
     },
     "metadata": {},
     "output_type": "display_data"
    },
    {
     "name": "stdout",
     "output_type": "stream",
     "text": [
      "supprimer\n"
     ]
    },
    {
     "data": {
      "text/plain": [
       "supprimer         1263\n",
       "ena                436\n",
       "fonctionnaires     334\n",
       "prive              169\n",
       "administration     164\n",
       "faut               155\n",
       "statut             150\n",
       "vie                146\n",
       "fonctionnaire      136\n",
       "faire              136\n",
       "Name: supprimer, dtype: uint16"
      ]
     },
     "metadata": {},
     "output_type": "display_data"
    },
    {
     "name": "stdout",
     "output_type": "stream",
     "text": [
      "tous\n"
     ]
    },
    {
     "data": {
      "text/plain": [
       "tous              1205\n",
       "fonctionnaires     382\n",
       "administration     221\n",
       "formation          213\n",
       "services           196\n",
       "faut               194\n",
       "faire              188\n",
       "agents             164\n",
       "service            162\n",
       "prive              154\n",
       "Name: tous, dtype: uint16"
      ]
     },
     "metadata": {},
     "output_type": "display_data"
    },
    {
     "name": "stdout",
     "output_type": "stream",
     "text": [
      "fonction\n"
     ]
    },
    {
     "data": {
      "text/plain": [
       "fonction          1181\n",
       "publique           729\n",
       "fonctionnaires     375\n",
       "prive              239\n",
       "formation          238\n",
       "concours           215\n",
       "administration     195\n",
       "faut               179\n",
       "faire              178\n",
       "service            170\n",
       "Name: fonction, dtype: uint16"
      ]
     },
     "metadata": {},
     "output_type": "display_data"
    },
    {
     "name": "stdout",
     "output_type": "stream",
     "text": [
      "travail\n"
     ]
    },
    {
     "data": {
      "text/plain": [
       "travail           1150\n",
       "fonctionnaires     344\n",
       "faire              218\n",
       "prive              193\n",
       "temps              188\n",
       "formation          174\n",
       "administration     170\n",
       "faut               167\n",
       "fonctionnaire      148\n",
       "agents             144\n",
       "Name: travail, dtype: uint16"
      ]
     },
     "metadata": {},
     "output_type": "display_data"
    },
    {
     "name": "stdout",
     "output_type": "stream",
     "text": [
      "fonctionnaire\n"
     ]
    },
    {
     "data": {
      "text/plain": [
       "fonctionnaire     1139\n",
       "statut             342\n",
       "fonctionnaires     281\n",
       "prive              234\n",
       "administration     184\n",
       "formation          177\n",
       "service            174\n",
       "vie                173\n",
       "tout               164\n",
       "fonction           163\n",
       "Name: fonctionnaire, dtype: uint16"
      ]
     },
     "metadata": {},
     "output_type": "display_data"
    },
    {
     "name": "stdout",
     "output_type": "stream",
     "text": [
      "terrain\n"
     ]
    },
    {
     "data": {
      "text/plain": [
       "terrain           1098\n",
       "fonctionnaires     306\n",
       "formation          237\n",
       "administration     137\n",
       "faut               128\n",
       "faire              127\n",
       "agents             120\n",
       "ena                117\n",
       "cas                  0\n",
       "travailler           0\n",
       "Name: terrain, dtype: uint16"
      ]
     },
     "metadata": {},
     "output_type": "display_data"
    },
    {
     "name": "stdout",
     "output_type": "stream",
     "text": [
      "vie\n"
     ]
    },
    {
     "data": {
      "text/plain": [
       "vie               1011\n",
       "emploi             379\n",
       "fonctionnaires     350\n",
       "prive              214\n",
       "fonctionnaire      173\n",
       "administration     163\n",
       "formation          155\n",
       "statut             148\n",
       "supprimer          146\n",
       "fonction           139\n",
       "Name: vie, dtype: uint16"
      ]
     },
     "metadata": {},
     "output_type": "display_data"
    }
   ],
   "source": [
    "for i in df_qu_19_one_hot.sum(axis=0).sort_values(ascending=False).head(20).index:\n",
    "    print(i)\n",
    "    display(df_cov_19[i].sort_values(ascending=False).head(10))"
   ]
  },
  {
   "cell_type": "code",
   "execution_count": 108,
   "metadata": {
    "scrolled": true
   },
   "outputs": [
    {
     "name": "stdout",
     "output_type": "stream",
     "text": [
      "fonctionnaires\n"
     ]
    },
    {
     "data": {
      "text/plain": [
       "fonctionnaires    1.000000\n",
       "hauts             0.948893\n",
       "nombre            0.465659\n",
       "devraient         0.415902\n",
       "formes            0.406143\n",
       "fonctions         0.393795\n",
       "remuneration      0.387454\n",
       "carriere          0.385749\n",
       "secteur           0.362500\n",
       "postes            0.361702\n",
       "Name: fonctionnaires, dtype: float32"
      ]
     },
     "metadata": {},
     "output_type": "display_data"
    },
    {
     "name": "stdout",
     "output_type": "stream",
     "text": [
      "formation\n"
     ]
    },
    {
     "data": {
      "text/plain": [
       "formation         1.000000\n",
       "continue          0.908309\n",
       "meilleure         0.398649\n",
       "carriere          0.316953\n",
       "accueil           0.296392\n",
       "besoins           0.281579\n",
       "fonctionnement    0.274211\n",
       "niveau            0.255613\n",
       "revoir            0.251863\n",
       "poste             0.239669\n",
       "Name: formation, dtype: float32"
      ]
     },
     "metadata": {},
     "output_type": "display_data"
    },
    {
     "name": "stdout",
     "output_type": "stream",
     "text": [
      "administration\n"
     ]
    },
    {
     "data": {
      "text/plain": [
       "administration    1.000000\n",
       "citoyen           0.311579\n",
       "fonctionnement    0.290533\n",
       "entreprise        0.260042\n",
       "faut              0.225696\n",
       "cas               0.225383\n",
       "citoyens          0.214640\n",
       "service           0.208955\n",
       "pouvoir           0.206687\n",
       "temps             0.205696\n",
       "Name: administration, dtype: float32"
      ]
     },
     "metadata": {},
     "output_type": "display_data"
    },
    {
     "name": "stdout",
     "output_type": "stream",
     "text": [
      "faut\n"
     ]
    },
    {
     "data": {
      "text/plain": [
       "faut              1.000000\n",
       "revoir            0.263785\n",
       "arreter           0.208092\n",
       "pouvoir           0.186930\n",
       "exemple           0.185714\n",
       "tout              0.180723\n",
       "fonctionnement    0.173014\n",
       "administration    0.172534\n",
       "faire             0.170704\n",
       "publique          0.166851\n",
       "Name: faut, dtype: float32"
      ]
     },
     "metadata": {},
     "output_type": "display_data"
    },
    {
     "name": "stdout",
     "output_type": "stream",
     "text": [
      "service\n"
     ]
    },
    {
     "data": {
      "text/plain": [
       "service           1.000000\n",
       "public            0.433635\n",
       "qualite           0.368580\n",
       "sens              0.345572\n",
       "citoyen           0.334737\n",
       "citoyens          0.249380\n",
       "non               0.204528\n",
       "publics           0.202783\n",
       "publique          0.186740\n",
       "administration    0.158192\n",
       "Name: service, dtype: float32"
      ]
     },
     "metadata": {},
     "output_type": "display_data"
    },
    {
     "name": "stdout",
     "output_type": "stream",
     "text": [
      "faire\n"
     ]
    },
    {
     "data": {
      "text/plain": [
       "faire       1.000000\n",
       "temps       0.216772\n",
       "ans         0.210417\n",
       "arreter     0.196532\n",
       "travail     0.189565\n",
       "tout        0.182982\n",
       "exemple     0.179221\n",
       "mieux       0.174242\n",
       "faut        0.168277\n",
       "publique    0.166851\n",
       "Name: faire, dtype: float32"
      ]
     },
     "metadata": {},
     "output_type": "display_data"
    },
    {
     "name": "stdout",
     "output_type": "stream",
     "text": [
      "prive\n"
     ]
    },
    {
     "data": {
      "text/plain": [
       "prive            1.000000\n",
       "secteur          0.787500\n",
       "public           0.322021\n",
       "statut           0.310667\n",
       "ans              0.260417\n",
       "emploi           0.250321\n",
       "publique         0.235359\n",
       "vie              0.211672\n",
       "merite           0.210821\n",
       "fonctionnaire    0.205443\n",
       "Name: prive, dtype: float32"
      ]
     },
     "metadata": {},
     "output_type": "display_data"
    },
    {
     "name": "stdout",
     "output_type": "stream",
     "text": [
      "services\n"
     ]
    },
    {
     "data": {
      "text/plain": [
       "services           1.000000\n",
       "publics            0.662028\n",
       "tous               0.162656\n",
       "exemple            0.161039\n",
       "citoyens           0.151365\n",
       "fonctionnement     0.144723\n",
       "nombre             0.138736\n",
       "agents             0.136885\n",
       "administrations    0.132797\n",
       "service            0.115959\n",
       "Name: services, dtype: float32"
      ]
     },
     "metadata": {},
     "output_type": "display_data"
    },
    {
     "name": "stdout",
     "output_type": "stream",
     "text": [
      "agents\n"
     ]
    },
    {
     "data": {
      "text/plain": [
       "agents      1.000000\n",
       "publics     0.214712\n",
       "former      0.194969\n",
       "mieux       0.174242\n",
       "publique    0.156906\n",
       "public      0.148567\n",
       "nombre      0.146978\n",
       "fonction    0.141406\n",
       "tous        0.136100\n",
       "services    0.134794\n",
       "Name: agents, dtype: float32"
      ]
     },
     "metadata": {},
     "output_type": "display_data"
    },
    {
     "name": "stdout",
     "output_type": "stream",
     "text": [
      "tout\n"
     ]
    },
    {
     "data": {
      "text/plain": [
       "tout             1.000000\n",
       "monde            0.451187\n",
       "temps            0.175633\n",
       "exemple          0.145455\n",
       "fonctionnaire    0.143986\n",
       "faire            0.140138\n",
       "faut             0.136441\n",
       "vie              0.133531\n",
       "travail          0.124348\n",
       "tous             0.123651\n",
       "Name: tout, dtype: float32"
      ]
     },
     "metadata": {},
     "output_type": "display_data"
    },
    {
     "name": "stdout",
     "output_type": "stream",
     "text": [
      "public\n"
     ]
    },
    {
     "data": {
      "text/plain": [
       "public           1.000000\n",
       "service          0.330080\n",
       "prive            0.250587\n",
       "sens             0.224622\n",
       "statut           0.166667\n",
       "publique         0.156906\n",
       "fonction         0.138865\n",
       "fonctionnaire    0.136084\n",
       "concours         0.133630\n",
       "agents           0.132839\n",
       "Name: public, dtype: float32"
      ]
     },
     "metadata": {},
     "output_type": "display_data"
    },
    {
     "name": "stdout",
     "output_type": "stream",
     "text": [
      "ena\n"
     ]
    },
    {
     "data": {
      "text/plain": [
       "ena            1.000000\n",
       "ecole          0.448148\n",
       "suppression    0.411215\n",
       "ecoles         0.397790\n",
       "supprimer      0.345210\n",
       "hauts          0.313458\n",
       "recrutement    0.198230\n",
       "publique       0.146961\n",
       "fonction       0.121084\n",
       "concours       0.115813\n",
       "Name: ena, dtype: float32"
      ]
     },
     "metadata": {},
     "output_type": "display_data"
    },
    {
     "name": "stdout",
     "output_type": "stream",
     "text": [
      "non\n"
     ]
    },
    {
     "data": {
      "text/plain": [
       "non              1.000000\n",
       "competences      0.160420\n",
       "service          0.150402\n",
       "statut           0.148000\n",
       "concours         0.145880\n",
       "fonction         0.140559\n",
       "publique         0.132597\n",
       "fonctionnaire    0.131694\n",
       "travail          0.125217\n",
       "vie              0.124629\n",
       "Name: non, dtype: float32"
      ]
     },
     "metadata": {},
     "output_type": "display_data"
    },
    {
     "name": "stdout",
     "output_type": "stream",
     "text": [
      "supprimer\n"
     ]
    },
    {
     "data": {
      "text/plain": [
       "supprimer        1.000000\n",
       "ena              0.336160\n",
       "postes           0.219313\n",
       "statut           0.200000\n",
       "emploi           0.168164\n",
       "vie              0.144411\n",
       "concours         0.123608\n",
       "fonctionnaire    0.119403\n",
       "tous             0.111203\n",
       "fonction         0.108383\n",
       "Name: supprimer, dtype: float32"
      ]
     },
     "metadata": {},
     "output_type": "display_data"
    },
    {
     "name": "stdout",
     "output_type": "stream",
     "text": [
      "tous\n"
     ]
    },
    {
     "data": {
      "text/plain": [
       "tous               1.000000\n",
       "ans                0.302083\n",
       "exemple            0.155844\n",
       "publique           0.137017\n",
       "services           0.130146\n",
       "fonction           0.127011\n",
       "administrations    0.115694\n",
       "tout               0.112199\n",
       "non                0.110851\n",
       "agents             0.110587\n",
       "Name: tous, dtype: float32"
      ]
     },
     "metadata": {},
     "output_type": "display_data"
    },
    {
     "name": "stdout",
     "output_type": "stream",
     "text": [
      "fonction\n"
     ]
    },
    {
     "data": {
      "text/plain": [
       "fonction         1.000000\n",
       "publique         0.805525\n",
       "concours         0.239421\n",
       "ans              0.227083\n",
       "recrutement      0.221239\n",
       "statut           0.218667\n",
       "competences      0.181409\n",
       "emploi           0.147625\n",
       "fonctionnaire    0.143108\n",
       "prive            0.140258\n",
       "Name: fonction, dtype: float32"
      ]
     },
     "metadata": {},
     "output_type": "display_data"
    },
    {
     "name": "stdout",
     "output_type": "stream",
     "text": [
      "travail\n"
     ]
    },
    {
     "data": {
      "text/plain": [
       "travail            1.000000\n",
       "temps              0.297468\n",
       "fonctionnaire      0.129939\n",
       "publique           0.125967\n",
       "faire              0.125721\n",
       "fonction           0.120237\n",
       "prive              0.113263\n",
       "administrations    0.112676\n",
       "non                0.112412\n",
       "vie                0.110781\n",
       "Name: travail, dtype: float32"
      ]
     },
     "metadata": {},
     "output_type": "display_data"
    },
    {
     "name": "stdout",
     "output_type": "stream",
     "text": [
      "fonctionnaire\n"
     ]
    },
    {
     "data": {
      "text/plain": [
       "fonctionnaire    1.000000\n",
       "statut           0.456000\n",
       "emploi           0.178434\n",
       "vie              0.171118\n",
       "pouvoir          0.164134\n",
       "publique         0.154696\n",
       "concours         0.139198\n",
       "fonction         0.138019\n",
       "prive            0.137324\n",
       "travail          0.128696\n",
       "Name: fonctionnaire, dtype: float32"
      ]
     },
     "metadata": {},
     "output_type": "display_data"
    },
    {
     "name": "stdout",
     "output_type": "stream",
     "text": [
      "terrain\n"
     ]
    },
    {
     "data": {
      "text/plain": [
       "terrain           1.000000\n",
       "ena               0.090208\n",
       "fonctionnaires    0.085499\n",
       "formation         0.083746\n",
       "agents            0.080917\n",
       "faire             0.073241\n",
       "faut              0.072769\n",
       "administration    0.059539\n",
       "cas               0.000000\n",
       "travailler        0.000000\n",
       "Name: terrain, dtype: float32"
      ]
     },
     "metadata": {},
     "output_type": "display_data"
    },
    {
     "name": "stdout",
     "output_type": "stream",
     "text": [
      "vie\n"
     ]
    },
    {
     "data": {
      "text/plain": [
       "vie              1.000000\n",
       "emploi           0.486521\n",
       "fin              0.325513\n",
       "statut           0.197333\n",
       "fonctionnaire    0.151888\n",
       "prive            0.125587\n",
       "fonction         0.117697\n",
       "supprimer        0.115598\n",
       "publique         0.113812\n",
       "tout             0.101657\n",
       "Name: vie, dtype: float32"
      ]
     },
     "metadata": {},
     "output_type": "display_data"
    }
   ],
   "source": [
    "for i in df_qu_19_one_hot.sum(axis=0).sort_values(ascending=False).head(20).index:\n",
    "    print(i)\n",
    "    display(df_confidence_19[i].sort_values(ascending=False).head(10))"
   ]
  },
  {
   "cell_type": "code",
   "execution_count": 109,
   "metadata": {
    "scrolled": true
   },
   "outputs": [
    {
     "name": "stdout",
     "output_type": "stream",
     "text": [
      "fonctionnaires\n"
     ]
    },
    {
     "data": {
      "text/plain": [
       "fonctionnaires    0.000279\n",
       "hauts             0.000265\n",
       "nombre            0.000130\n",
       "devraient         0.000116\n",
       "formes            0.000113\n",
       "fonctions         0.000110\n",
       "remuneration      0.000108\n",
       "carriere          0.000108\n",
       "secteur           0.000101\n",
       "postes            0.000101\n",
       "Name: fonctionnaires, dtype: float32"
      ]
     },
     "metadata": {},
     "output_type": "display_data"
    },
    {
     "name": "stdout",
     "output_type": "stream",
     "text": [
      "formation\n"
     ]
    },
    {
     "data": {
      "text/plain": [
       "formation         0.000353\n",
       "continue          0.000321\n",
       "meilleure         0.000141\n",
       "carriere          0.000112\n",
       "accueil           0.000105\n",
       "besoins           0.000099\n",
       "fonctionnement    0.000097\n",
       "niveau            0.000090\n",
       "revoir            0.000089\n",
       "poste             0.000085\n",
       "Name: formation, dtype: float32"
      ]
     },
     "metadata": {},
     "output_type": "display_data"
    },
    {
     "name": "stdout",
     "output_type": "stream",
     "text": [
      "administration\n"
     ]
    },
    {
     "data": {
      "text/plain": [
       "administration    0.000435\n",
       "citoyen           0.000135\n",
       "fonctionnement    0.000126\n",
       "entreprise        0.000113\n",
       "faut              0.000098\n",
       "cas               0.000098\n",
       "citoyens          0.000093\n",
       "service           0.000091\n",
       "pouvoir           0.000090\n",
       "temps             0.000089\n",
       "Name: administration, dtype: float32"
      ]
     },
     "metadata": {},
     "output_type": "display_data"
    },
    {
     "name": "stdout",
     "output_type": "stream",
     "text": [
      "faut\n"
     ]
    },
    {
     "data": {
      "text/plain": [
       "faut              0.000569\n",
       "revoir            0.000150\n",
       "arreter           0.000118\n",
       "pouvoir           0.000106\n",
       "exemple           0.000106\n",
       "tout              0.000103\n",
       "fonctionnement    0.000098\n",
       "administration    0.000098\n",
       "faire             0.000097\n",
       "publique          0.000095\n",
       "Name: faut, dtype: float32"
      ]
     },
     "metadata": {},
     "output_type": "display_data"
    },
    {
     "name": "stdout",
     "output_type": "stream",
     "text": [
      "service\n"
     ]
    },
    {
     "data": {
      "text/plain": [
       "service           0.000574\n",
       "public            0.000249\n",
       "qualite           0.000212\n",
       "sens              0.000198\n",
       "citoyen           0.000192\n",
       "citoyens          0.000143\n",
       "non               0.000117\n",
       "publics           0.000116\n",
       "publique          0.000107\n",
       "administration    0.000091\n",
       "Name: service, dtype: float32"
      ]
     },
     "metadata": {},
     "output_type": "display_data"
    },
    {
     "name": "stdout",
     "output_type": "stream",
     "text": [
      "faire\n"
     ]
    },
    {
     "data": {
      "text/plain": [
       "faire       0.000577\n",
       "temps       0.000125\n",
       "ans         0.000121\n",
       "arreter     0.000113\n",
       "travail     0.000109\n",
       "tout        0.000106\n",
       "exemple     0.000103\n",
       "mieux       0.000100\n",
       "faut        0.000097\n",
       "publique    0.000096\n",
       "Name: faire, dtype: float32"
      ]
     },
     "metadata": {},
     "output_type": "display_data"
    },
    {
     "name": "stdout",
     "output_type": "stream",
     "text": [
      "prive\n"
     ]
    },
    {
     "data": {
      "text/plain": [
       "prive            0.000587\n",
       "secteur          0.000462\n",
       "public           0.000189\n",
       "statut           0.000182\n",
       "ans              0.000153\n",
       "emploi           0.000147\n",
       "publique         0.000138\n",
       "vie              0.000124\n",
       "merite           0.000124\n",
       "fonctionnaire    0.000121\n",
       "Name: prive, dtype: float32"
      ]
     },
     "metadata": {},
     "output_type": "display_data"
    },
    {
     "name": "stdout",
     "output_type": "stream",
     "text": [
      "services\n"
     ]
    },
    {
     "data": {
      "text/plain": [
       "services           0.000664\n",
       "publics            0.000440\n",
       "tous               0.000108\n",
       "exemple            0.000107\n",
       "citoyens           0.000101\n",
       "fonctionnement     0.000096\n",
       "nombre             0.000092\n",
       "agents             0.000091\n",
       "administrations    0.000088\n",
       "service            0.000077\n",
       "Name: services, dtype: float32"
      ]
     },
     "metadata": {},
     "output_type": "display_data"
    },
    {
     "name": "stdout",
     "output_type": "stream",
     "text": [
      "agents\n"
     ]
    },
    {
     "data": {
      "text/plain": [
       "agents      0.000674\n",
       "publics     0.000145\n",
       "former      0.000131\n",
       "mieux       0.000117\n",
       "publique    0.000106\n",
       "public      0.000100\n",
       "nombre      0.000099\n",
       "fonction    0.000095\n",
       "tous        0.000092\n",
       "services    0.000091\n",
       "Name: agents, dtype: float32"
      ]
     },
     "metadata": {},
     "output_type": "display_data"
    },
    {
     "name": "stdout",
     "output_type": "stream",
     "text": [
      "tout\n"
     ]
    },
    {
     "data": {
      "text/plain": [
       "tout             0.000753\n",
       "monde            0.000340\n",
       "temps            0.000132\n",
       "exemple          0.000110\n",
       "fonctionnaire    0.000108\n",
       "faire            0.000106\n",
       "faut             0.000103\n",
       "vie              0.000101\n",
       "travail          0.000094\n",
       "tous             0.000093\n",
       "Name: tout, dtype: float32"
      ]
     },
     "metadata": {},
     "output_type": "display_data"
    },
    {
     "name": "stdout",
     "output_type": "stream",
     "text": [
      "public\n"
     ]
    },
    {
     "data": {
      "text/plain": [
       "public           0.000754\n",
       "service          0.000249\n",
       "prive            0.000189\n",
       "sens             0.000169\n",
       "statut           0.000126\n",
       "publique         0.000118\n",
       "fonction         0.000105\n",
       "fonctionnaire    0.000103\n",
       "concours         0.000101\n",
       "agents           0.000100\n",
       "Name: public, dtype: float32"
      ]
     },
     "metadata": {},
     "output_type": "display_data"
    },
    {
     "name": "stdout",
     "output_type": "stream",
     "text": [
      "ena\n"
     ]
    },
    {
     "data": {
      "text/plain": [
       "ena            0.000771\n",
       "ecole          0.000346\n",
       "suppression    0.000317\n",
       "ecoles         0.000307\n",
       "supprimer      0.000266\n",
       "hauts          0.000242\n",
       "recrutement    0.000153\n",
       "publique       0.000113\n",
       "fonction       0.000093\n",
       "concours       0.000089\n",
       "Name: ena, dtype: float32"
      ]
     },
     "metadata": {},
     "output_type": "display_data"
    },
    {
     "name": "stdout",
     "output_type": "stream",
     "text": [
      "non\n"
     ]
    },
    {
     "data": {
      "text/plain": [
       "non              0.000781\n",
       "competences      0.000125\n",
       "service          0.000117\n",
       "statut           0.000116\n",
       "concours         0.000114\n",
       "fonction         0.000110\n",
       "publique         0.000104\n",
       "fonctionnaire    0.000103\n",
       "travail          0.000098\n",
       "vie              0.000097\n",
       "Name: non, dtype: float32"
      ]
     },
     "metadata": {},
     "output_type": "display_data"
    },
    {
     "name": "stdout",
     "output_type": "stream",
     "text": [
      "supprimer\n"
     ]
    },
    {
     "data": {
      "text/plain": [
       "supprimer        0.000792\n",
       "ena              0.000266\n",
       "postes           0.000174\n",
       "statut           0.000158\n",
       "emploi           0.000133\n",
       "vie              0.000114\n",
       "concours         0.000098\n",
       "fonctionnaire    0.000095\n",
       "tous             0.000088\n",
       "fonction         0.000086\n",
       "Name: supprimer, dtype: float32"
      ]
     },
     "metadata": {},
     "output_type": "display_data"
    },
    {
     "name": "stdout",
     "output_type": "stream",
     "text": [
      "tous\n"
     ]
    },
    {
     "data": {
      "text/plain": [
       "tous               0.000830\n",
       "ans                0.000251\n",
       "exemple            0.000129\n",
       "publique           0.000114\n",
       "services           0.000108\n",
       "fonction           0.000105\n",
       "administrations    0.000096\n",
       "tout               0.000093\n",
       "non                0.000092\n",
       "agents             0.000092\n",
       "Name: tous, dtype: float32"
      ]
     },
     "metadata": {},
     "output_type": "display_data"
    },
    {
     "name": "stdout",
     "output_type": "stream",
     "text": [
      "fonction\n"
     ]
    },
    {
     "data": {
      "text/plain": [
       "fonction         0.000847\n",
       "publique         0.000682\n",
       "concours         0.000203\n",
       "ans              0.000192\n",
       "recrutement      0.000187\n",
       "statut           0.000185\n",
       "competences      0.000154\n",
       "emploi           0.000125\n",
       "fonctionnaire    0.000121\n",
       "prive            0.000119\n",
       "Name: fonction, dtype: float32"
      ]
     },
     "metadata": {},
     "output_type": "display_data"
    },
    {
     "name": "stdout",
     "output_type": "stream",
     "text": [
      "travail\n"
     ]
    },
    {
     "data": {
      "text/plain": [
       "travail            0.000870\n",
       "temps              0.000259\n",
       "fonctionnaire      0.000113\n",
       "publique           0.000110\n",
       "faire              0.000109\n",
       "fonction           0.000105\n",
       "prive              0.000098\n",
       "administrations    0.000098\n",
       "non                0.000098\n",
       "vie                0.000096\n",
       "Name: travail, dtype: float32"
      ]
     },
     "metadata": {},
     "output_type": "display_data"
    },
    {
     "name": "stdout",
     "output_type": "stream",
     "text": [
      "fonctionnaire\n"
     ]
    },
    {
     "data": {
      "text/plain": [
       "fonctionnaire    0.000878\n",
       "statut           0.000400\n",
       "emploi           0.000157\n",
       "vie              0.000150\n",
       "pouvoir          0.000144\n",
       "publique         0.000136\n",
       "concours         0.000122\n",
       "fonction         0.000121\n",
       "prive            0.000121\n",
       "travail          0.000113\n",
       "Name: fonctionnaire, dtype: float32"
      ]
     },
     "metadata": {},
     "output_type": "display_data"
    },
    {
     "name": "stdout",
     "output_type": "stream",
     "text": [
      "terrain\n"
     ]
    },
    {
     "data": {
      "text/plain": [
       "terrain           0.000911\n",
       "ena               0.000082\n",
       "fonctionnaires    0.000078\n",
       "formation         0.000076\n",
       "agents            0.000074\n",
       "faire             0.000067\n",
       "faut              0.000066\n",
       "administration    0.000054\n",
       "non                    NaN\n",
       "eviter                 NaN\n",
       "Name: terrain, dtype: float32"
      ]
     },
     "metadata": {},
     "output_type": "display_data"
    },
    {
     "name": "stdout",
     "output_type": "stream",
     "text": [
      "vie\n"
     ]
    },
    {
     "data": {
      "text/plain": [
       "vie              0.000989\n",
       "emploi           0.000481\n",
       "fin              0.000322\n",
       "statut           0.000195\n",
       "fonctionnaire    0.000150\n",
       "prive            0.000124\n",
       "fonction         0.000116\n",
       "supprimer        0.000114\n",
       "publique         0.000113\n",
       "tout             0.000101\n",
       "Name: vie, dtype: float32"
      ]
     },
     "metadata": {},
     "output_type": "display_data"
    }
   ],
   "source": [
    "for i in df_qu_19_one_hot.sum(axis=0).sort_values(ascending=False).head(20).index:\n",
    "    print(i)\n",
    "    display(df_lift_19[i].sort_values(ascending=False).head(10))"
   ]
  },
  {
   "cell_type": "code",
   "execution_count": 110,
   "metadata": {},
   "outputs": [
    {
     "data": {
      "text/plain": [
       "147"
      ]
     },
     "execution_count": 110,
     "metadata": {},
     "output_type": "execute_result"
    }
   ],
   "source": [
    "gc.collect()"
   ]
  },
  {
   "cell_type": "markdown",
   "metadata": {},
   "source": [
    "# Question 20:  Comment l'Etat et les collectivités territoriales peuvent-ils s'améliorer pour mieux répondre aux défis de nos territoires les plus en difficulté ?"
   ]
  },
  {
   "cell_type": "code",
   "execution_count": 111,
   "metadata": {
    "collapsed": true
   },
   "outputs": [],
   "source": [
    "question_20 = \"Comment l'Etat et les collectivités territoriales peuvent-ils s'améliorer pour mieux répondre aux défis de nos territoires les plus en difficulté ?\"\n",
    "qu_20,df_qu_20_one_hot,df_cov_20,df_confidence_20,df_lift_20 = compute_similarities(question_20, new_res)"
   ]
  },
  {
   "cell_type": "code",
   "execution_count": 112,
   "metadata": {
    "scrolled": true
   },
   "outputs": [
    {
     "name": "stdout",
     "output_type": "stream",
     "text": [
      "services\n"
     ]
    },
    {
     "data": {
      "text/plain": [
       "services       3093\n",
       "publics        1334\n",
       "territoires     518\n",
       "proximite       398\n",
       "maisons         367\n",
       "tous            358\n",
       "faut            346\n",
       "faire           302\n",
       "service         300\n",
       "public          293\n",
       "Name: services, dtype: uint16"
      ]
     },
     "metadata": {},
     "output_type": "display_data"
    },
    {
     "name": "stdout",
     "output_type": "stream",
     "text": [
      "territoires\n"
     ]
    },
    {
     "data": {
      "text/plain": [
       "territoires      2547\n",
       "services          518\n",
       "difficulte        418\n",
       "faut              343\n",
       "publics           309\n",
       "difficultes       281\n",
       "faire             267\n",
       "collectivites     240\n",
       "tous              233\n",
       "ruraux            216\n",
       "Name: territoires, dtype: uint16"
      ]
     },
     "metadata": {},
     "output_type": "display_data"
    },
    {
     "name": "stdout",
     "output_type": "stream",
     "text": [
      "faire\n"
     ]
    },
    {
     "data": {
      "text/plain": [
       "faire            1714\n",
       "services          302\n",
       "tout              287\n",
       "faut              272\n",
       "territoires       267\n",
       "tous              201\n",
       "citoyens          195\n",
       "collectivites     179\n",
       "publics           169\n",
       "service           159\n",
       "Name: faire, dtype: uint16"
      ]
     },
     "metadata": {},
     "output_type": "display_data"
    },
    {
     "name": "stdout",
     "output_type": "stream",
     "text": [
      "publics\n"
     ]
    },
    {
     "data": {
      "text/plain": [
       "publics        1558\n",
       "services       1334\n",
       "territoires     309\n",
       "maisons         233\n",
       "faut            203\n",
       "tous            193\n",
       "proximite       180\n",
       "service         178\n",
       "faire           169\n",
       "tout            161\n",
       "Name: publics, dtype: uint16"
      ]
     },
     "metadata": {},
     "output_type": "display_data"
    },
    {
     "name": "stdout",
     "output_type": "stream",
     "text": [
      "faut\n"
     ]
    },
    {
     "data": {
      "text/plain": [
       "faut             1554\n",
       "services          346\n",
       "territoires       343\n",
       "faire             272\n",
       "tout              251\n",
       "publics           203\n",
       "collectivites     194\n",
       "territoire        189\n",
       "tous              180\n",
       "communes          173\n",
       "Name: faut, dtype: uint16"
      ]
     },
     "metadata": {},
     "output_type": "display_data"
    },
    {
     "name": "stdout",
     "output_type": "stream",
     "text": [
      "citoyens\n"
     ]
    },
    {
     "data": {
      "text/plain": [
       "citoyens       1445\n",
       "services        217\n",
       "faire           195\n",
       "territoires     186\n",
       "faut            165\n",
       "tous            141\n",
       "ecoute          139\n",
       "service         132\n",
       "elus            129\n",
       "tout            129\n",
       "Name: citoyens, dtype: uint16"
      ]
     },
     "metadata": {},
     "output_type": "display_data"
    },
    {
     "name": "stdout",
     "output_type": "stream",
     "text": [
      "collectivites\n"
     ]
    },
    {
     "data": {
      "text/plain": [
       "collectivites    1441\n",
       "territoriales     608\n",
       "locales           247\n",
       "territoires       240\n",
       "services          209\n",
       "faut              194\n",
       "moyens            186\n",
       "faire             179\n",
       "tout              152\n",
       "communes          143\n",
       "Name: collectivites, dtype: uint16"
      ]
     },
     "metadata": {},
     "output_type": "display_data"
    },
    {
     "name": "stdout",
     "output_type": "stream",
     "text": [
      "tout\n"
     ]
    },
    {
     "data": {
      "text/plain": [
       "tout             1334\n",
       "faire             287\n",
       "services          273\n",
       "faut              251\n",
       "territoires       213\n",
       "territoire        211\n",
       "tous              163\n",
       "publics           161\n",
       "collectivites     152\n",
       "monde             149\n",
       "Name: tout, dtype: uint16"
      ]
     },
     "metadata": {},
     "output_type": "display_data"
    },
    {
     "name": "stdout",
     "output_type": "stream",
     "text": [
      "communes\n"
     ]
    },
    {
     "data": {
      "text/plain": [
       "communes        1268\n",
       "services         283\n",
       "petites          262\n",
       "regions          219\n",
       "departements     188\n",
       "faut             173\n",
       "supprimer        166\n",
       "commune          157\n",
       "region           147\n",
       "faire            146\n",
       "Name: communes, dtype: uint16"
      ]
     },
     "metadata": {},
     "output_type": "display_data"
    },
    {
     "name": "stdout",
     "output_type": "stream",
     "text": [
      "tous\n"
     ]
    },
    {
     "data": {
      "text/plain": [
       "tous           1145\n",
       "services        358\n",
       "territoires     233\n",
       "faire           201\n",
       "publics         193\n",
       "faut            180\n",
       "tout            163\n",
       "citoyens        141\n",
       "acces           122\n",
       "territoire      120\n",
       "Name: tous, dtype: uint16"
      ]
     },
     "metadata": {},
     "output_type": "display_data"
    },
    {
     "name": "stdout",
     "output_type": "stream",
     "text": [
      "territoire\n"
     ]
    },
    {
     "data": {
      "text/plain": [
       "territoire       1117\n",
       "services          246\n",
       "territoires       215\n",
       "tout              211\n",
       "faut              189\n",
       "publics           155\n",
       "faire             155\n",
       "difficulte        136\n",
       "collectivites     126\n",
       "tous              120\n",
       "Name: territoire, dtype: uint16"
      ]
     },
     "metadata": {},
     "output_type": "display_data"
    },
    {
     "name": "stdout",
     "output_type": "stream",
     "text": [
      "service\n"
     ]
    },
    {
     "data": {
      "text/plain": [
       "service        1099\n",
       "public          541\n",
       "services        300\n",
       "publics         178\n",
       "maisons         176\n",
       "faire           159\n",
       "faut            153\n",
       "territoires     142\n",
       "tout            136\n",
       "citoyens        132\n",
       "Name: service, dtype: uint16"
      ]
     },
     "metadata": {},
     "output_type": "display_data"
    },
    {
     "name": "stdout",
     "output_type": "stream",
     "text": [
      "terrain\n"
     ]
    },
    {
     "data": {
      "text/plain": [
       "terrain        1094\n",
       "elus            114\n",
       "faire           114\n",
       "citoyens        104\n",
       "territoires     103\n",
       "proximite         0\n",
       "regions           0\n",
       "petites           0\n",
       "publics           0\n",
       "communes          0\n",
       "Name: terrain, dtype: uint16"
      ]
     },
     "metadata": {},
     "output_type": "display_data"
    },
    {
     "name": "stdout",
     "output_type": "stream",
     "text": [
      "moyens\n"
     ]
    },
    {
     "data": {
      "text/plain": [
       "moyens           1091\n",
       "territoires       207\n",
       "donner            203\n",
       "collectivites     186\n",
       "services          167\n",
       "faut              144\n",
       "faire             129\n",
       "communes          120\n",
       "mettre            108\n",
       "publics           103\n",
       "Name: moyens, dtype: uint16"
      ]
     },
     "metadata": {},
     "output_type": "display_data"
    },
    {
     "name": "stdout",
     "output_type": "stream",
     "text": [
      "regions\n"
     ]
    },
    {
     "data": {
      "text/plain": [
       "regions          1006\n",
       "communes          219\n",
       "departements      217\n",
       "territoires       155\n",
       "faut              140\n",
       "services          133\n",
       "faire             132\n",
       "region            132\n",
       "collectivites     113\n",
       "tout              113\n",
       "Name: regions, dtype: uint16"
      ]
     },
     "metadata": {},
     "output_type": "display_data"
    },
    {
     "name": "stdout",
     "output_type": "stream",
     "text": [
      "public\n"
     ]
    },
    {
     "data": {
      "text/plain": [
       "public         933\n",
       "service        541\n",
       "services       293\n",
       "maisons        180\n",
       "publics        154\n",
       "faire          132\n",
       "faut           124\n",
       "territoires    121\n",
       "tout           104\n",
       "tous           103\n",
       "Name: public, dtype: uint16"
      ]
     },
     "metadata": {},
     "output_type": "display_data"
    },
    {
     "name": "stdout",
     "output_type": "stream",
     "text": [
      "proximite\n"
     ]
    },
    {
     "data": {
      "text/plain": [
       "proximite      929\n",
       "services       398\n",
       "publics        180\n",
       "territoires    112\n",
       "service        107\n",
       "meilleure        0\n",
       "emploi           0\n",
       "regions          0\n",
       "petites          0\n",
       "communes         0\n",
       "Name: proximite, dtype: uint16"
      ]
     },
     "metadata": {},
     "output_type": "display_data"
    },
    {
     "name": "stdout",
     "output_type": "stream",
     "text": [
      "non\n"
     ]
    },
    {
     "data": {
      "text/plain": [
       "non              902\n",
       "services         152\n",
       "territoires      146\n",
       "faire            142\n",
       "faut             138\n",
       "tout             115\n",
       "collectivites    104\n",
       "projets            0\n",
       "elus               0\n",
       "rurales            0\n",
       "Name: non, dtype: uint16"
      ]
     },
     "metadata": {},
     "output_type": "display_data"
    },
    {
     "name": "stdout",
     "output_type": "stream",
     "text": [
      "fonctionnaires\n"
     ]
    },
    {
     "data": {
      "text/plain": [
       "fonctionnaires     889\n",
       "services           155\n",
       "faire              141\n",
       "territoires        127\n",
       "nombre             104\n",
       "faut               102\n",
       "politiques           0\n",
       "administratives      0\n",
       "petites              0\n",
       "publics              0\n",
       "Name: fonctionnaires, dtype: uint16"
      ]
     },
     "metadata": {},
     "output_type": "display_data"
    },
    {
     "name": "stdout",
     "output_type": "stream",
     "text": [
      "mieux\n"
     ]
    },
    {
     "data": {
      "text/plain": [
       "mieux            872\n",
       "territoires      150\n",
       "services         136\n",
       "faire            131\n",
       "collectivites    110\n",
       "projets            0\n",
       "elus               0\n",
       "rurales            0\n",
       "prendre            0\n",
       "decisions          0\n",
       "Name: mieux, dtype: uint16"
      ]
     },
     "metadata": {},
     "output_type": "display_data"
    }
   ],
   "source": [
    "for i in df_qu_20_one_hot.sum(axis=0).sort_values(ascending=False).head(20).index:\n",
    "    print(i)\n",
    "    display(df_cov_20[i].sort_values(ascending=False).head(10))"
   ]
  },
  {
   "cell_type": "code",
   "execution_count": 113,
   "metadata": {
    "scrolled": true
   },
   "outputs": [
    {
     "name": "stdout",
     "output_type": "stream",
     "text": [
      "services\n"
     ]
    },
    {
     "data": {
      "text/plain": [
       "services        1.000000\n",
       "publics         0.856226\n",
       "itinerants      0.755725\n",
       "maisons         0.625213\n",
       "publiques       0.541538\n",
       "poste           0.532995\n",
       "bus             0.469649\n",
       "regroupement    0.457364\n",
       "regrouper       0.438247\n",
       "rurales         0.429907\n",
       "Name: services, dtype: float32"
      ]
     },
     "metadata": {},
     "output_type": "display_data"
    },
    {
     "name": "stdout",
     "output_type": "stream",
     "text": [
      "territoires\n"
     ]
    },
    {
     "data": {
      "text/plain": [
       "territoires      1.000000\n",
       "ruraux           0.710526\n",
       "difficulte       0.601439\n",
       "difficultes      0.418778\n",
       "entreprises      0.285088\n",
       "developpement    0.272727\n",
       "grandes          0.251029\n",
       "aider            0.243852\n",
       "villes           0.238550\n",
       "habitants        0.237991\n",
       "Name: territoires, dtype: float32"
      ]
     },
     "metadata": {},
     "output_type": "display_data"
    },
    {
     "name": "stdout",
     "output_type": "stream",
     "text": [
      "faire\n"
     ]
    },
    {
     "data": {
      "text/plain": [
       "faire        1.000000\n",
       "economies    0.438735\n",
       "temps        0.282051\n",
       "travail      0.221239\n",
       "tout         0.215142\n",
       "vie          0.202335\n",
       "mettre       0.183771\n",
       "exemple      0.183411\n",
       "tous         0.175546\n",
       "faut         0.175032\n",
       "Name: faire, dtype: float32"
      ]
     },
     "metadata": {},
     "output_type": "display_data"
    },
    {
     "name": "stdout",
     "output_type": "stream",
     "text": [
      "publics\n"
     ]
    },
    {
     "data": {
      "text/plain": [
       "publics       1.000000\n",
       "itinerants    0.438931\n",
       "services      0.431296\n",
       "maisons       0.396934\n",
       "poste         0.302030\n",
       "transports    0.245387\n",
       "acces         0.229342\n",
       "zones         0.207232\n",
       "proximite     0.193757\n",
       "agents        0.187500\n",
       "Name: publics, dtype: float32"
      ]
     },
     "metadata": {},
     "output_type": "display_data"
    },
    {
     "name": "stdout",
     "output_type": "stream",
     "text": [
      "faut\n"
     ]
    },
    {
     "data": {
      "text/plain": [
       "faut           1.000000\n",
       "france         0.230608\n",
       "tout           0.188156\n",
       "exemple        0.183411\n",
       "difficulte     0.182734\n",
       "region         0.174629\n",
       "territoire     0.169203\n",
       "mettre         0.168258\n",
       "pouvoir        0.167692\n",
       "difficultes    0.160954\n",
       "Name: faut, dtype: float32"
      ]
     },
     "metadata": {},
     "output_type": "display_data"
    },
    {
     "name": "stdout",
     "output_type": "stream",
     "text": [
      "citoyens\n"
     ]
    },
    {
     "data": {
      "text/plain": [
       "citoyens    1.000000\n",
       "ecoute      0.219589\n",
       "elus        0.174089\n",
       "besoins     0.153846\n",
       "mettre      0.132458\n",
       "tous        0.123144\n",
       "service     0.120109\n",
       "faire       0.113769\n",
       "faut        0.106178\n",
       "tout        0.096702\n",
       "Name: citoyens, dtype: float32"
      ]
     },
     "metadata": {},
     "output_type": "display_data"
    },
    {
     "name": "stdout",
     "output_type": "stream",
     "text": [
      "collectivites\n"
     ]
    },
    {
     "data": {
      "text/plain": [
       "collectivites    1.000000\n",
       "territoriales    0.873563\n",
       "locales          0.449909\n",
       "donner           0.176991\n",
       "moyens           0.170486\n",
       "exemple          0.136682\n",
       "mieux            0.126147\n",
       "faut             0.124839\n",
       "supprimer        0.123636\n",
       "non              0.115299\n",
       "Name: collectivites, dtype: float32"
      ]
     },
     "metadata": {},
     "output_type": "display_data"
    },
    {
     "name": "stdout",
     "output_type": "stream",
     "text": [
      "tout\n"
     ]
    },
    {
     "data": {
      "text/plain": [
       "tout          1.000000\n",
       "monde         0.526502\n",
       "territoire    0.188899\n",
       "arreter       0.172176\n",
       "exemple       0.171729\n",
       "faire         0.167445\n",
       "faut          0.161519\n",
       "internet      0.143045\n",
       "tous          0.142358\n",
       "mettre        0.139618\n",
       "Name: tout, dtype: float32"
      ]
     },
     "metadata": {},
     "output_type": "display_data"
    },
    {
     "name": "stdout",
     "output_type": "stream",
     "text": [
      "communes\n"
     ]
    },
    {
     "data": {
      "text/plain": [
       "communes        1.000000\n",
       "petites         0.540206\n",
       "regroupement    0.434109\n",
       "departements    0.406048\n",
       "commune         0.331924\n",
       "departement     0.323760\n",
       "habitants       0.305677\n",
       "region          0.242175\n",
       "regions         0.217694\n",
       "nombre          0.216260\n",
       "Name: communes, dtype: float32"
      ]
     },
     "metadata": {},
     "output_type": "display_data"
    },
    {
     "name": "stdout",
     "output_type": "stream",
     "text": [
      "tous\n"
     ]
    },
    {
     "data": {
      "text/plain": [
       "tous        1.000000\n",
       "acces       0.205734\n",
       "internet    0.157480\n",
       "exemple     0.128505\n",
       "publics     0.123877\n",
       "tout        0.122189\n",
       "faire       0.117270\n",
       "faut        0.115830\n",
       "services    0.115745\n",
       "public      0.110397\n",
       "Name: tous, dtype: float32"
      ]
     },
     "metadata": {},
     "output_type": "display_data"
    },
    {
     "name": "stdout",
     "output_type": "stream",
     "text": [
      "territoire\n"
     ]
    },
    {
     "data": {
      "text/plain": [
       "territoire       1.000000\n",
       "difficulte       0.195683\n",
       "tout             0.158171\n",
       "exemple          0.122664\n",
       "faut             0.121622\n",
       "tous             0.104803\n",
       "regions          0.103380\n",
       "publics          0.099487\n",
       "faire            0.090432\n",
       "collectivites    0.087439\n",
       "Name: territoire, dtype: float32"
      ]
     },
     "metadata": {},
     "output_type": "display_data"
    },
    {
     "name": "stdout",
     "output_type": "stream",
     "text": [
      "service\n"
     ]
    },
    {
     "data": {
      "text/plain": [
       "service      1.000000\n",
       "public       0.579850\n",
       "maisons      0.299830\n",
       "proximite    0.115178\n",
       "publics      0.114249\n",
       "tout         0.101949\n",
       "faut         0.098456\n",
       "services     0.096993\n",
       "tous         0.094323\n",
       "faire        0.092765\n",
       "Name: service, dtype: float32"
      ]
     },
     "metadata": {},
     "output_type": "display_data"
    },
    {
     "name": "stdout",
     "output_type": "stream",
     "text": [
      "terrain\n"
     ]
    },
    {
     "data": {
      "text/plain": [
       "terrain        1.000000\n",
       "elus           0.153846\n",
       "citoyens       0.071972\n",
       "faire          0.066511\n",
       "territoires    0.040440\n",
       "proximite      0.000000\n",
       "regions        0.000000\n",
       "petites        0.000000\n",
       "publics        0.000000\n",
       "communes       0.000000\n",
       "Name: terrain, dtype: float32"
      ]
     },
     "metadata": {},
     "output_type": "display_data"
    },
    {
     "name": "stdout",
     "output_type": "stream",
     "text": [
      "moyens\n"
     ]
    },
    {
     "data": {
      "text/plain": [
       "moyens           1.000000\n",
       "donner           0.299410\n",
       "collectivites    0.129077\n",
       "mettre           0.128878\n",
       "communes         0.094637\n",
       "faut             0.092664\n",
       "territoires      0.081272\n",
       "faire            0.075263\n",
       "publics          0.066110\n",
       "services         0.053993\n",
       "Name: moyens, dtype: float32"
      ]
     },
     "metadata": {},
     "output_type": "display_data"
    },
    {
     "name": "stdout",
     "output_type": "stream",
     "text": [
      "regions\n"
     ]
    },
    {
     "data": {
      "text/plain": [
       "regions         1.000000\n",
       "departements    0.468682\n",
       "region          0.217463\n",
       "grandes         0.216049\n",
       "communes        0.172713\n",
       "pouvoir         0.164615\n",
       "supprimer       0.130909\n",
       "territoire      0.093107\n",
       "faut            0.090090\n",
       "tout            0.084708\n",
       "Name: regions, dtype: float32"
      ]
     },
     "metadata": {},
     "output_type": "display_data"
    },
    {
     "name": "stdout",
     "output_type": "stream",
     "text": [
      "public\n"
     ]
    },
    {
     "data": {
      "text/plain": [
       "public         1.000000\n",
       "service        0.492266\n",
       "maisons        0.306644\n",
       "publics        0.098845\n",
       "services       0.094730\n",
       "tous           0.089956\n",
       "faut           0.079794\n",
       "tout           0.077961\n",
       "faire          0.077013\n",
       "territoires    0.047507\n",
       "Name: public, dtype: float32"
      ]
     },
     "metadata": {},
     "output_type": "display_data"
    },
    {
     "name": "stdout",
     "output_type": "stream",
     "text": [
      "proximite\n"
     ]
    },
    {
     "data": {
      "text/plain": [
       "proximite      1.000000\n",
       "services       0.128678\n",
       "publics        0.115533\n",
       "service        0.097361\n",
       "territoires    0.043973\n",
       "meilleure      0.000000\n",
       "emploi         0.000000\n",
       "regions        0.000000\n",
       "petites        0.000000\n",
       "communes       0.000000\n",
       "Name: proximite, dtype: float32"
      ]
     },
     "metadata": {},
     "output_type": "display_data"
    },
    {
     "name": "stdout",
     "output_type": "stream",
     "text": [
      "non\n"
     ]
    },
    {
     "data": {
      "text/plain": [
       "non              1.000000\n",
       "faut             0.088803\n",
       "tout             0.086207\n",
       "faire            0.082847\n",
       "collectivites    0.072172\n",
       "territoires      0.057322\n",
       "services         0.049143\n",
       "developper       0.000000\n",
       "proximite        0.000000\n",
       "travail          0.000000\n",
       "Name: non, dtype: float32"
      ]
     },
     "metadata": {},
     "output_type": "display_data"
    },
    {
     "name": "stdout",
     "output_type": "stream",
     "text": [
      "fonctionnaires\n"
     ]
    },
    {
     "data": {
      "text/plain": [
       "fonctionnaires     1.000000\n",
       "nombre             0.169106\n",
       "faire              0.082264\n",
       "faut               0.065637\n",
       "services           0.050113\n",
       "territoires        0.049863\n",
       "projets            0.000000\n",
       "administratives    0.000000\n",
       "petites            0.000000\n",
       "publics            0.000000\n",
       "Name: fonctionnaires, dtype: float32"
      ]
     },
     "metadata": {},
     "output_type": "display_data"
    },
    {
     "name": "stdout",
     "output_type": "stream",
     "text": [
      "mieux\n"
     ]
    },
    {
     "data": {
      "text/plain": [
       "mieux            1.000000\n",
       "faire            0.076429\n",
       "collectivites    0.076336\n",
       "territoires      0.058893\n",
       "services         0.043970\n",
       "projets          0.000000\n",
       "elus             0.000000\n",
       "rurales          0.000000\n",
       "prendre          0.000000\n",
       "decisions        0.000000\n",
       "Name: mieux, dtype: float32"
      ]
     },
     "metadata": {},
     "output_type": "display_data"
    }
   ],
   "source": [
    "for i in df_qu_20_one_hot.sum(axis=0).sort_values(ascending=False).head(20).index:\n",
    "    print(i)\n",
    "    display(df_confidence_20[i].sort_values(ascending=False).head(10))"
   ]
  },
  {
   "cell_type": "code",
   "execution_count": 114,
   "metadata": {
    "scrolled": true
   },
   "outputs": [
    {
     "name": "stdout",
     "output_type": "stream",
     "text": [
      "services\n"
     ]
    },
    {
     "data": {
      "text/plain": [
       "services        0.000323\n",
       "publics         0.000277\n",
       "itinerants      0.000244\n",
       "maisons         0.000202\n",
       "publiques       0.000175\n",
       "poste           0.000172\n",
       "bus             0.000152\n",
       "regroupement    0.000148\n",
       "regrouper       0.000142\n",
       "rurales         0.000139\n",
       "Name: services, dtype: float32"
      ]
     },
     "metadata": {},
     "output_type": "display_data"
    },
    {
     "name": "stdout",
     "output_type": "stream",
     "text": [
      "territoires\n"
     ]
    },
    {
     "data": {
      "text/plain": [
       "territoires      0.000393\n",
       "ruraux           0.000279\n",
       "difficulte       0.000236\n",
       "difficultes      0.000164\n",
       "entreprises      0.000112\n",
       "developpement    0.000107\n",
       "grandes          0.000099\n",
       "aider            0.000096\n",
       "villes           0.000094\n",
       "habitants        0.000093\n",
       "Name: territoires, dtype: float32"
      ]
     },
     "metadata": {},
     "output_type": "display_data"
    },
    {
     "name": "stdout",
     "output_type": "stream",
     "text": [
      "faire\n"
     ]
    },
    {
     "data": {
      "text/plain": [
       "faire        0.000583\n",
       "economies    0.000256\n",
       "temps        0.000165\n",
       "travail      0.000129\n",
       "tout         0.000126\n",
       "vie          0.000118\n",
       "mettre       0.000107\n",
       "exemple      0.000107\n",
       "tous         0.000102\n",
       "faut         0.000102\n",
       "Name: faire, dtype: float32"
      ]
     },
     "metadata": {},
     "output_type": "display_data"
    },
    {
     "name": "stdout",
     "output_type": "stream",
     "text": [
      "publics\n"
     ]
    },
    {
     "data": {
      "text/plain": [
       "publics       0.000642\n",
       "itinerants    0.000282\n",
       "services      0.000277\n",
       "maisons       0.000255\n",
       "poste         0.000194\n",
       "transports    0.000158\n",
       "acces         0.000147\n",
       "zones         0.000133\n",
       "proximite     0.000124\n",
       "agents        0.000120\n",
       "Name: publics, dtype: float32"
      ]
     },
     "metadata": {},
     "output_type": "display_data"
    },
    {
     "name": "stdout",
     "output_type": "stream",
     "text": [
      "faut\n"
     ]
    },
    {
     "data": {
      "text/plain": [
       "faut           0.000644\n",
       "france         0.000148\n",
       "tout           0.000121\n",
       "exemple        0.000118\n",
       "difficulte     0.000118\n",
       "region         0.000112\n",
       "territoire     0.000109\n",
       "mettre         0.000108\n",
       "pouvoir        0.000108\n",
       "difficultes    0.000104\n",
       "Name: faut, dtype: float32"
      ]
     },
     "metadata": {},
     "output_type": "display_data"
    },
    {
     "name": "stdout",
     "output_type": "stream",
     "text": [
      "citoyens\n"
     ]
    },
    {
     "data": {
      "text/plain": [
       "citoyens    0.000692\n",
       "ecoute      0.000152\n",
       "elus        0.000120\n",
       "besoins     0.000106\n",
       "mettre      0.000092\n",
       "tous        0.000085\n",
       "service     0.000083\n",
       "faire       0.000079\n",
       "faut        0.000073\n",
       "tout        0.000067\n",
       "Name: citoyens, dtype: float32"
      ]
     },
     "metadata": {},
     "output_type": "display_data"
    },
    {
     "name": "stdout",
     "output_type": "stream",
     "text": [
      "collectivites\n"
     ]
    },
    {
     "data": {
      "text/plain": [
       "collectivites    0.000694\n",
       "territoriales    0.000606\n",
       "locales          0.000312\n",
       "donner           0.000123\n",
       "moyens           0.000118\n",
       "exemple          0.000095\n",
       "mieux            0.000088\n",
       "faut             0.000087\n",
       "supprimer        0.000086\n",
       "non              0.000080\n",
       "Name: collectivites, dtype: float32"
      ]
     },
     "metadata": {},
     "output_type": "display_data"
    },
    {
     "name": "stdout",
     "output_type": "stream",
     "text": [
      "tout\n"
     ]
    },
    {
     "data": {
      "text/plain": [
       "tout          0.000750\n",
       "monde         0.000395\n",
       "territoire    0.000142\n",
       "arreter       0.000129\n",
       "exemple       0.000129\n",
       "faire         0.000126\n",
       "faut          0.000121\n",
       "internet      0.000107\n",
       "tous          0.000107\n",
       "mettre        0.000105\n",
       "Name: tout, dtype: float32"
      ]
     },
     "metadata": {},
     "output_type": "display_data"
    },
    {
     "name": "stdout",
     "output_type": "stream",
     "text": [
      "communes\n"
     ]
    },
    {
     "data": {
      "text/plain": [
       "communes        0.000789\n",
       "petites         0.000426\n",
       "regroupement    0.000342\n",
       "departements    0.000320\n",
       "commune         0.000262\n",
       "departement     0.000255\n",
       "habitants       0.000241\n",
       "region          0.000191\n",
       "regions         0.000172\n",
       "nombre          0.000171\n",
       "Name: communes, dtype: float32"
      ]
     },
     "metadata": {},
     "output_type": "display_data"
    },
    {
     "name": "stdout",
     "output_type": "stream",
     "text": [
      "tous\n"
     ]
    },
    {
     "data": {
      "text/plain": [
       "tous        0.000873\n",
       "acces       0.000180\n",
       "internet    0.000138\n",
       "exemple     0.000112\n",
       "publics     0.000108\n",
       "tout        0.000107\n",
       "faire       0.000102\n",
       "faut        0.000101\n",
       "services    0.000101\n",
       "public      0.000096\n",
       "Name: tous, dtype: float32"
      ]
     },
     "metadata": {},
     "output_type": "display_data"
    },
    {
     "name": "stdout",
     "output_type": "stream",
     "text": [
      "territoire\n"
     ]
    },
    {
     "data": {
      "text/plain": [
       "territoire       0.000895\n",
       "difficulte       0.000175\n",
       "tout             0.000142\n",
       "exemple          0.000110\n",
       "faut             0.000109\n",
       "tous             0.000094\n",
       "regions          0.000093\n",
       "publics          0.000089\n",
       "faire            0.000081\n",
       "collectivites    0.000078\n",
       "Name: territoire, dtype: float32"
      ]
     },
     "metadata": {},
     "output_type": "display_data"
    },
    {
     "name": "stdout",
     "output_type": "stream",
     "text": [
      "service\n"
     ]
    },
    {
     "data": {
      "text/plain": [
       "service      0.000910\n",
       "public       0.000528\n",
       "maisons      0.000273\n",
       "proximite    0.000105\n",
       "publics      0.000104\n",
       "tout         0.000093\n",
       "faut         0.000090\n",
       "services     0.000088\n",
       "tous         0.000086\n",
       "faire        0.000084\n",
       "Name: service, dtype: float32"
      ]
     },
     "metadata": {},
     "output_type": "display_data"
    },
    {
     "name": "stdout",
     "output_type": "stream",
     "text": [
      "terrain\n"
     ]
    },
    {
     "data": {
      "text/plain": [
       "terrain        0.000914\n",
       "elus           0.000141\n",
       "citoyens       0.000066\n",
       "faire          0.000061\n",
       "territoires    0.000037\n",
       "non                 NaN\n",
       "decision            NaN\n",
       "eviter              NaN\n",
       "numerique           NaN\n",
       "permettre           NaN\n",
       "Name: terrain, dtype: float32"
      ]
     },
     "metadata": {},
     "output_type": "display_data"
    },
    {
     "name": "stdout",
     "output_type": "stream",
     "text": [
      "moyens\n"
     ]
    },
    {
     "data": {
      "text/plain": [
       "moyens           0.000917\n",
       "donner           0.000274\n",
       "collectivites    0.000118\n",
       "mettre           0.000118\n",
       "communes         0.000087\n",
       "faut             0.000085\n",
       "territoires      0.000074\n",
       "faire            0.000069\n",
       "publics          0.000061\n",
       "services         0.000049\n",
       "Name: moyens, dtype: float32"
      ]
     },
     "metadata": {},
     "output_type": "display_data"
    },
    {
     "name": "stdout",
     "output_type": "stream",
     "text": [
      "regions\n"
     ]
    },
    {
     "data": {
      "text/plain": [
       "regions         0.000994\n",
       "departements    0.000466\n",
       "region          0.000216\n",
       "grandes         0.000215\n",
       "communes        0.000172\n",
       "pouvoir         0.000164\n",
       "supprimer       0.000130\n",
       "territoire      0.000093\n",
       "faut            0.000090\n",
       "tout            0.000084\n",
       "Name: regions, dtype: float32"
      ]
     },
     "metadata": {},
     "output_type": "display_data"
    },
    {
     "name": "stdout",
     "output_type": "stream",
     "text": [
      "public\n"
     ]
    },
    {
     "data": {
      "text/plain": [
       "public         0.001072\n",
       "service        0.000528\n",
       "maisons        0.000329\n",
       "publics        0.000106\n",
       "services       0.000102\n",
       "tous           0.000096\n",
       "faut           0.000086\n",
       "tout           0.000084\n",
       "faire          0.000083\n",
       "territoires    0.000051\n",
       "Name: public, dtype: float32"
      ]
     },
     "metadata": {},
     "output_type": "display_data"
    },
    {
     "name": "stdout",
     "output_type": "stream",
     "text": [
      "proximite\n"
     ]
    },
    {
     "data": {
      "text/plain": [
       "proximite      0.001076\n",
       "services       0.000139\n",
       "publics        0.000124\n",
       "service        0.000105\n",
       "territoires    0.000047\n",
       "non                 NaN\n",
       "decision            NaN\n",
       "eviter              NaN\n",
       "numerique           NaN\n",
       "permettre           NaN\n",
       "Name: proximite, dtype: float32"
      ]
     },
     "metadata": {},
     "output_type": "display_data"
    },
    {
     "name": "stdout",
     "output_type": "stream",
     "text": [
      "non\n"
     ]
    },
    {
     "data": {
      "text/plain": [
       "non              0.001109\n",
       "faut             0.000098\n",
       "tout             0.000096\n",
       "faire            0.000092\n",
       "collectivites    0.000080\n",
       "territoires      0.000064\n",
       "services         0.000054\n",
       "decision              NaN\n",
       "eviter                NaN\n",
       "numerique             NaN\n",
       "Name: non, dtype: float32"
      ]
     },
     "metadata": {},
     "output_type": "display_data"
    },
    {
     "name": "stdout",
     "output_type": "stream",
     "text": [
      "fonctionnaires\n"
     ]
    },
    {
     "data": {
      "text/plain": [
       "fonctionnaires    0.001125\n",
       "nombre            0.000190\n",
       "faire             0.000093\n",
       "faut              0.000074\n",
       "services          0.000056\n",
       "territoires       0.000056\n",
       "non                    NaN\n",
       "decision               NaN\n",
       "eviter                 NaN\n",
       "numerique              NaN\n",
       "Name: fonctionnaires, dtype: float32"
      ]
     },
     "metadata": {},
     "output_type": "display_data"
    },
    {
     "name": "stdout",
     "output_type": "stream",
     "text": [
      "mieux\n"
     ]
    },
    {
     "data": {
      "text/plain": [
       "mieux            0.001147\n",
       "faire            0.000088\n",
       "collectivites    0.000088\n",
       "territoires      0.000068\n",
       "services         0.000050\n",
       "non                   NaN\n",
       "decision              NaN\n",
       "eviter                NaN\n",
       "numerique             NaN\n",
       "permettre             NaN\n",
       "Name: mieux, dtype: float32"
      ]
     },
     "metadata": {},
     "output_type": "display_data"
    }
   ],
   "source": [
    "for i in df_qu_20_one_hot.sum(axis=0).sort_values(ascending=False).head(20).index:\n",
    "    print(i)\n",
    "    display(df_lift_20[i].sort_values(ascending=False).head(10))"
   ]
  },
  {
   "cell_type": "code",
   "execution_count": 115,
   "metadata": {},
   "outputs": [
    {
     "data": {
      "text/plain": [
       "147"
      ]
     },
     "execution_count": 115,
     "metadata": {},
     "output_type": "execute_result"
    }
   ],
   "source": [
    "gc.collect()"
   ]
  },
  {
   "cell_type": "code",
   "execution_count": null,
   "metadata": {
    "collapsed": true
   },
   "outputs": [],
   "source": []
  },
  {
   "cell_type": "markdown",
   "metadata": {},
   "source": [
    "# Question 21: Si vous avez été amené à chercher une formation, pouvez-vous indiquer les éléments de satisfaction et/ou les difficultés rencontrés en précisant, pour chaque point, l'administration concernée :"
   ]
  },
  {
   "cell_type": "code",
   "execution_count": 116,
   "metadata": {
    "collapsed": true
   },
   "outputs": [],
   "source": [
    "question_21 = \"Si vous avez été amené à chercher une formation, pouvez-vous indiquer les éléments de satisfaction et/ou les difficultés rencontrés en précisant, pour chaque point, l'administration concernée :\"\n",
    "qu_21,df_qu_21_one_hot,df_cov_21,df_confidence_21,df_lift_21 = compute_similarities(question_21, new_res)"
   ]
  },
  {
   "cell_type": "code",
   "execution_count": 117,
   "metadata": {
    "scrolled": true
   },
   "outputs": [
    {
     "name": "stdout",
     "output_type": "stream",
     "text": [
      "formation\n"
     ]
    },
    {
     "data": {
      "text/plain": [
       "formation          2558\n",
       "emploi              977\n",
       "pole                858\n",
       "formations          486\n",
       "faire               333\n",
       "ans                 238\n",
       "trouver             218\n",
       "demande             214\n",
       "tout                213\n",
       "professionnelle     212\n",
       "Name: formation, dtype: uint16"
      ]
     },
     "metadata": {},
     "output_type": "display_data"
    },
    {
     "name": "stdout",
     "output_type": "stream",
     "text": [
      "emploi\n"
     ]
    },
    {
     "data": {
      "text/plain": [
       "emploi        1770\n",
       "pole          1549\n",
       "formation      977\n",
       "formations     446\n",
       "faire          233\n",
       "demande        168\n",
       "aide           165\n",
       "ans            159\n",
       "tout           148\n",
       "trouver        146\n",
       "Name: emploi, dtype: uint16"
      ]
     },
     "metadata": {},
     "output_type": "display_data"
    },
    {
     "name": "stdout",
     "output_type": "stream",
     "text": [
      "pole\n"
     ]
    },
    {
     "data": {
      "text/plain": [
       "pole           1582\n",
       "emploi         1549\n",
       "formation       858\n",
       "formations      377\n",
       "faire           198\n",
       "demande         160\n",
       "aide            154\n",
       "ans             132\n",
       "financement     131\n",
       "tout            124\n",
       "Name: pole, dtype: uint16"
      ]
     },
     "metadata": {},
     "output_type": "display_data"
    },
    {
     "name": "stdout",
     "output_type": "stream",
     "text": [
      "formations\n"
     ]
    },
    {
     "data": {
      "text/plain": [
       "formations     1198\n",
       "formation       486\n",
       "emploi          446\n",
       "pole            377\n",
       "faire           147\n",
       "trouver         113\n",
       "faut            112\n",
       "demande           0\n",
       "tout              0\n",
       "financement       0\n",
       "Name: formations, dtype: uint16"
      ]
     },
     "metadata": {},
     "output_type": "display_data"
    },
    {
     "name": "stdout",
     "output_type": "stream",
     "text": [
      "non\n"
     ]
    },
    {
     "data": {
      "text/plain": [
       "non            984\n",
       "concerne       305\n",
       "formation      194\n",
       "emploi         135\n",
       "pole           117\n",
       "jamais           0\n",
       "financement      0\n",
       "travail          0\n",
       "tout             0\n",
       "demande          0\n",
       "Name: non, dtype: uint16"
      ]
     },
     "metadata": {},
     "output_type": "display_data"
    },
    {
     "name": "stdout",
     "output_type": "stream",
     "text": [
      "concerne\n"
     ]
    },
    {
     "data": {
      "text/plain": [
       "concerne       633\n",
       "non            305\n",
       "jamais           0\n",
       "financement      0\n",
       "emploi           0\n",
       "pole             0\n",
       "travail          0\n",
       "tout             0\n",
       "formation        0\n",
       "demande          0\n",
       "Name: concerne, dtype: uint16"
      ]
     },
     "metadata": {},
     "output_type": "display_data"
    },
    {
     "name": "stdout",
     "output_type": "stream",
     "text": [
      "faire\n"
     ]
    },
    {
     "data": {
      "text/plain": [
       "faire          512\n",
       "formation      333\n",
       "emploi         233\n",
       "pole           198\n",
       "formations     147\n",
       "demande          0\n",
       "financement      0\n",
       "travail          0\n",
       "tout             0\n",
       "ans              0\n",
       "Name: faire, dtype: uint16"
      ]
     },
     "metadata": {},
     "output_type": "display_data"
    },
    {
     "name": "stdout",
     "output_type": "stream",
     "text": [
      "tout\n"
     ]
    },
    {
     "data": {
      "text/plain": [
       "tout           388\n",
       "formation      213\n",
       "emploi         148\n",
       "pole           124\n",
       "demande          0\n",
       "jamais           0\n",
       "financement      0\n",
       "travail          0\n",
       "ans              0\n",
       "faut             0\n",
       "Name: tout, dtype: uint16"
      ]
     },
     "metadata": {},
     "output_type": "display_data"
    },
    {
     "name": "stdout",
     "output_type": "stream",
     "text": [
      "trouver\n"
     ]
    },
    {
     "data": {
      "text/plain": [
       "trouver        380\n",
       "formation      218\n",
       "emploi         146\n",
       "pole           124\n",
       "formations     113\n",
       "demande          0\n",
       "financement      0\n",
       "travail          0\n",
       "tout             0\n",
       "ans              0\n",
       "Name: trouver, dtype: uint16"
      ]
     },
     "metadata": {},
     "output_type": "display_data"
    },
    {
     "name": "stdout",
     "output_type": "stream",
     "text": [
      "ans\n"
     ]
    },
    {
     "data": {
      "text/plain": [
       "ans            372\n",
       "formation      238\n",
       "emploi         159\n",
       "pole           132\n",
       "jamais           0\n",
       "financement      0\n",
       "travail          0\n",
       "tout             0\n",
       "demande          0\n",
       "faut             0\n",
       "Name: ans, dtype: uint16"
      ]
     },
     "metadata": {},
     "output_type": "display_data"
    },
    {
     "name": "stdout",
     "output_type": "stream",
     "text": [
      "faut\n"
     ]
    },
    {
     "data": {
      "text/plain": [
       "faut           355\n",
       "formation      193\n",
       "emploi         131\n",
       "formations     112\n",
       "pole           108\n",
       "demande          0\n",
       "financement      0\n",
       "travail          0\n",
       "tout             0\n",
       "ans              0\n",
       "Name: faut, dtype: uint16"
      ]
     },
     "metadata": {},
     "output_type": "display_data"
    },
    {
     "name": "stdout",
     "output_type": "stream",
     "text": [
      "demande\n"
     ]
    },
    {
     "data": {
      "text/plain": [
       "demande        308\n",
       "formation      214\n",
       "emploi         168\n",
       "pole           160\n",
       "jamais           0\n",
       "financement      0\n",
       "travail          0\n",
       "tout             0\n",
       "ans              0\n",
       "faut             0\n",
       "Name: demande, dtype: uint16"
      ]
     },
     "metadata": {},
     "output_type": "display_data"
    },
    {
     "name": "stdout",
     "output_type": "stream",
     "text": [
      "financement\n"
     ]
    },
    {
     "data": {
      "text/plain": [
       "financement    307\n",
       "formation      179\n",
       "emploi         146\n",
       "pole           131\n",
       "demande          0\n",
       "jamais           0\n",
       "travail          0\n",
       "tout             0\n",
       "ans              0\n",
       "faut             0\n",
       "Name: financement, dtype: uint16"
      ]
     },
     "metadata": {},
     "output_type": "display_data"
    },
    {
     "name": "stdout",
     "output_type": "stream",
     "text": [
      "aide\n"
     ]
    },
    {
     "data": {
      "text/plain": [
       "aide           294\n",
       "formation      176\n",
       "emploi         165\n",
       "pole           154\n",
       "demande          0\n",
       "jamais           0\n",
       "financement      0\n",
       "travail          0\n",
       "tout             0\n",
       "ans              0\n",
       "Name: aide, dtype: uint16"
      ]
     },
     "metadata": {},
     "output_type": "display_data"
    },
    {
     "name": "stdout",
     "output_type": "stream",
     "text": [
      "travail\n"
     ]
    },
    {
     "data": {
      "text/plain": [
       "travail        286\n",
       "formation      184\n",
       "emploi         125\n",
       "pole           104\n",
       "demande          0\n",
       "jamais           0\n",
       "financement      0\n",
       "tout             0\n",
       "ans              0\n",
       "faut             0\n",
       "Name: travail, dtype: uint16"
      ]
     },
     "metadata": {},
     "output_type": "display_data"
    },
    {
     "name": "stdout",
     "output_type": "stream",
     "text": [
      "professionnelle\n"
     ]
    },
    {
     "data": {
      "text/plain": [
       "professionnelle    268\n",
       "formation          212\n",
       "demande              0\n",
       "jamais               0\n",
       "financement          0\n",
       "emploi               0\n",
       "pole                 0\n",
       "travail              0\n",
       "tout                 0\n",
       "ans                  0\n",
       "Name: professionnelle, dtype: uint16"
      ]
     },
     "metadata": {},
     "output_type": "display_data"
    },
    {
     "name": "stdout",
     "output_type": "stream",
     "text": [
      "jamais\n"
     ]
    },
    {
     "data": {
      "text/plain": [
       "jamais         257\n",
       "formation      140\n",
       "demande          0\n",
       "financement      0\n",
       "emploi           0\n",
       "pole             0\n",
       "travail          0\n",
       "tout             0\n",
       "ans              0\n",
       "faut             0\n",
       "Name: jamais, dtype: uint16"
      ]
     },
     "metadata": {},
     "output_type": "display_data"
    }
   ],
   "source": [
    "for i in df_qu_21_one_hot.sum(axis=0).sort_values(ascending=False).head(20).index:\n",
    "    print(i)\n",
    "    display(df_cov_21[i].sort_values(ascending=False).head(10))"
   ]
  },
  {
   "cell_type": "code",
   "execution_count": 118,
   "metadata": {
    "scrolled": true
   },
   "outputs": [
    {
     "name": "stdout",
     "output_type": "stream",
     "text": [
      "formation\n"
     ]
    },
    {
     "data": {
      "text/plain": [
       "formation          1.000000\n",
       "professionnelle    0.791045\n",
       "demande            0.694805\n",
       "faire              0.650391\n",
       "travail            0.643357\n",
       "ans                0.639785\n",
       "aide               0.598639\n",
       "financement        0.583062\n",
       "trouver            0.573684\n",
       "emploi             0.551977\n",
       "Name: formation, dtype: float32"
      ]
     },
     "metadata": {},
     "output_type": "display_data"
    },
    {
     "name": "stdout",
     "output_type": "stream",
     "text": [
      "emploi\n"
     ]
    },
    {
     "data": {
      "text/plain": [
       "emploi         1.000000\n",
       "pole           0.979140\n",
       "aide           0.561224\n",
       "demande        0.545455\n",
       "financement    0.475570\n",
       "faire          0.455078\n",
       "travail        0.437063\n",
       "ans            0.427419\n",
       "trouver        0.384211\n",
       "formation      0.381939\n",
       "Name: emploi, dtype: float32"
      ]
     },
     "metadata": {},
     "output_type": "display_data"
    },
    {
     "name": "stdout",
     "output_type": "stream",
     "text": [
      "pole\n"
     ]
    },
    {
     "data": {
      "text/plain": [
       "pole           1.000000\n",
       "emploi         0.875141\n",
       "aide           0.523810\n",
       "demande        0.519481\n",
       "financement    0.426710\n",
       "faire          0.386719\n",
       "travail        0.363636\n",
       "ans            0.354839\n",
       "formation      0.335418\n",
       "trouver        0.326316\n",
       "Name: pole, dtype: float32"
      ]
     },
     "metadata": {},
     "output_type": "display_data"
    },
    {
     "name": "stdout",
     "output_type": "stream",
     "text": [
      "formations\n"
     ]
    },
    {
     "data": {
      "text/plain": [
       "formations     1.000000\n",
       "faut           0.315493\n",
       "trouver        0.297368\n",
       "faire          0.287109\n",
       "emploi         0.251977\n",
       "pole           0.238306\n",
       "formation      0.189992\n",
       "demande        0.000000\n",
       "tout           0.000000\n",
       "financement    0.000000\n",
       "Name: formations, dtype: float32"
      ]
     },
     "metadata": {},
     "output_type": "display_data"
    },
    {
     "name": "stdout",
     "output_type": "stream",
     "text": [
      "non\n"
     ]
    },
    {
     "data": {
      "text/plain": [
       "non            1.000000\n",
       "concerne       0.481833\n",
       "emploi         0.076271\n",
       "formation      0.075841\n",
       "pole           0.073957\n",
       "jamais         0.000000\n",
       "financement    0.000000\n",
       "travail        0.000000\n",
       "tout           0.000000\n",
       "demande        0.000000\n",
       "Name: non, dtype: float32"
      ]
     },
     "metadata": {},
     "output_type": "display_data"
    },
    {
     "name": "stdout",
     "output_type": "stream",
     "text": [
      "concerne\n"
     ]
    },
    {
     "data": {
      "text/plain": [
       "concerne       1.000000\n",
       "non            0.309959\n",
       "jamais         0.000000\n",
       "financement    0.000000\n",
       "emploi         0.000000\n",
       "pole           0.000000\n",
       "travail        0.000000\n",
       "tout           0.000000\n",
       "formation      0.000000\n",
       "demande        0.000000\n",
       "Name: concerne, dtype: float32"
      ]
     },
     "metadata": {},
     "output_type": "display_data"
    },
    {
     "name": "stdout",
     "output_type": "stream",
     "text": [
      "faire\n"
     ]
    },
    {
     "data": {
      "text/plain": [
       "faire          1.000000\n",
       "emploi         0.131638\n",
       "formation      0.130180\n",
       "pole           0.125158\n",
       "formations     0.122705\n",
       "demande        0.000000\n",
       "financement    0.000000\n",
       "travail        0.000000\n",
       "tout           0.000000\n",
       "ans            0.000000\n",
       "Name: faire, dtype: float32"
      ]
     },
     "metadata": {},
     "output_type": "display_data"
    },
    {
     "name": "stdout",
     "output_type": "stream",
     "text": [
      "tout\n"
     ]
    },
    {
     "data": {
      "text/plain": [
       "tout           1.000000\n",
       "emploi         0.083616\n",
       "formation      0.083268\n",
       "pole           0.078382\n",
       "demande        0.000000\n",
       "jamais         0.000000\n",
       "financement    0.000000\n",
       "travail        0.000000\n",
       "ans            0.000000\n",
       "faut           0.000000\n",
       "Name: tout, dtype: float32"
      ]
     },
     "metadata": {},
     "output_type": "display_data"
    },
    {
     "name": "stdout",
     "output_type": "stream",
     "text": [
      "trouver\n"
     ]
    },
    {
     "data": {
      "text/plain": [
       "trouver        1.000000\n",
       "formations     0.094324\n",
       "formation      0.085223\n",
       "emploi         0.082486\n",
       "pole           0.078382\n",
       "demande        0.000000\n",
       "financement    0.000000\n",
       "travail        0.000000\n",
       "tout           0.000000\n",
       "ans            0.000000\n",
       "Name: trouver, dtype: float32"
      ]
     },
     "metadata": {},
     "output_type": "display_data"
    },
    {
     "name": "stdout",
     "output_type": "stream",
     "text": [
      "ans\n"
     ]
    },
    {
     "data": {
      "text/plain": [
       "ans            1.000000\n",
       "formation      0.093041\n",
       "emploi         0.089831\n",
       "pole           0.083439\n",
       "jamais         0.000000\n",
       "financement    0.000000\n",
       "travail        0.000000\n",
       "tout           0.000000\n",
       "demande        0.000000\n",
       "faut           0.000000\n",
       "Name: ans, dtype: float32"
      ]
     },
     "metadata": {},
     "output_type": "display_data"
    },
    {
     "name": "stdout",
     "output_type": "stream",
     "text": [
      "faut\n"
     ]
    },
    {
     "data": {
      "text/plain": [
       "faut           1.000000\n",
       "formations     0.093489\n",
       "formation      0.075450\n",
       "emploi         0.074011\n",
       "pole           0.068268\n",
       "demande        0.000000\n",
       "financement    0.000000\n",
       "travail        0.000000\n",
       "tout           0.000000\n",
       "ans            0.000000\n",
       "Name: faut, dtype: float32"
      ]
     },
     "metadata": {},
     "output_type": "display_data"
    },
    {
     "name": "stdout",
     "output_type": "stream",
     "text": [
      "demande\n"
     ]
    },
    {
     "data": {
      "text/plain": [
       "demande        1.000000\n",
       "pole           0.101138\n",
       "emploi         0.094915\n",
       "formation      0.083659\n",
       "jamais         0.000000\n",
       "financement    0.000000\n",
       "travail        0.000000\n",
       "tout           0.000000\n",
       "ans            0.000000\n",
       "faut           0.000000\n",
       "Name: demande, dtype: float32"
      ]
     },
     "metadata": {},
     "output_type": "display_data"
    },
    {
     "name": "stdout",
     "output_type": "stream",
     "text": [
      "financement\n"
     ]
    },
    {
     "data": {
      "text/plain": [
       "financement    1.000000\n",
       "pole           0.082807\n",
       "emploi         0.082486\n",
       "formation      0.069977\n",
       "demande        0.000000\n",
       "jamais         0.000000\n",
       "travail        0.000000\n",
       "tout           0.000000\n",
       "ans            0.000000\n",
       "faut           0.000000\n",
       "Name: financement, dtype: float32"
      ]
     },
     "metadata": {},
     "output_type": "display_data"
    },
    {
     "name": "stdout",
     "output_type": "stream",
     "text": [
      "aide\n"
     ]
    },
    {
     "data": {
      "text/plain": [
       "aide           1.000000\n",
       "pole           0.097345\n",
       "emploi         0.093220\n",
       "formation      0.068804\n",
       "demande        0.000000\n",
       "jamais         0.000000\n",
       "financement    0.000000\n",
       "travail        0.000000\n",
       "tout           0.000000\n",
       "ans            0.000000\n",
       "Name: aide, dtype: float32"
      ]
     },
     "metadata": {},
     "output_type": "display_data"
    },
    {
     "name": "stdout",
     "output_type": "stream",
     "text": [
      "travail\n"
     ]
    },
    {
     "data": {
      "text/plain": [
       "travail        1.000000\n",
       "formation      0.071931\n",
       "emploi         0.070621\n",
       "pole           0.065740\n",
       "demande        0.000000\n",
       "jamais         0.000000\n",
       "financement    0.000000\n",
       "tout           0.000000\n",
       "ans            0.000000\n",
       "faut           0.000000\n",
       "Name: travail, dtype: float32"
      ]
     },
     "metadata": {},
     "output_type": "display_data"
    },
    {
     "name": "stdout",
     "output_type": "stream",
     "text": [
      "professionnelle\n"
     ]
    },
    {
     "data": {
      "text/plain": [
       "professionnelle    1.000000\n",
       "formation          0.082877\n",
       "demande            0.000000\n",
       "jamais             0.000000\n",
       "financement        0.000000\n",
       "emploi             0.000000\n",
       "pole               0.000000\n",
       "travail            0.000000\n",
       "tout               0.000000\n",
       "ans                0.000000\n",
       "Name: professionnelle, dtype: float32"
      ]
     },
     "metadata": {},
     "output_type": "display_data"
    },
    {
     "name": "stdout",
     "output_type": "stream",
     "text": [
      "jamais\n"
     ]
    },
    {
     "data": {
      "text/plain": [
       "jamais         1.00000\n",
       "formation      0.05473\n",
       "demande        0.00000\n",
       "financement    0.00000\n",
       "emploi         0.00000\n",
       "pole           0.00000\n",
       "travail        0.00000\n",
       "tout           0.00000\n",
       "ans            0.00000\n",
       "faut           0.00000\n",
       "Name: jamais, dtype: float32"
      ]
     },
     "metadata": {},
     "output_type": "display_data"
    }
   ],
   "source": [
    "for i in df_qu_21_one_hot.sum(axis=0).sort_values(ascending=False).head(20).index:\n",
    "    print(i)\n",
    "    display(df_confidence_21[i].sort_values(ascending=False).head(10))"
   ]
  },
  {
   "cell_type": "code",
   "execution_count": 119,
   "metadata": {
    "scrolled": true
   },
   "outputs": [
    {
     "name": "stdout",
     "output_type": "stream",
     "text": [
      "formation\n"
     ]
    },
    {
     "data": {
      "text/plain": [
       "formation          0.000391\n",
       "professionnelle    0.000309\n",
       "demande            0.000272\n",
       "faire              0.000254\n",
       "travail            0.000252\n",
       "ans                0.000250\n",
       "aide               0.000234\n",
       "financement        0.000228\n",
       "trouver            0.000224\n",
       "emploi             0.000216\n",
       "Name: formation, dtype: float32"
      ]
     },
     "metadata": {},
     "output_type": "display_data"
    },
    {
     "name": "stdout",
     "output_type": "stream",
     "text": [
      "emploi\n"
     ]
    },
    {
     "data": {
      "text/plain": [
       "emploi         0.000565\n",
       "pole           0.000553\n",
       "aide           0.000317\n",
       "demande        0.000308\n",
       "financement    0.000269\n",
       "faire          0.000257\n",
       "travail        0.000247\n",
       "ans            0.000241\n",
       "trouver        0.000217\n",
       "formation      0.000216\n",
       "Name: emploi, dtype: float32"
      ]
     },
     "metadata": {},
     "output_type": "display_data"
    },
    {
     "name": "stdout",
     "output_type": "stream",
     "text": [
      "pole\n"
     ]
    },
    {
     "data": {
      "text/plain": [
       "pole           0.000632\n",
       "emploi         0.000553\n",
       "aide           0.000331\n",
       "demande        0.000328\n",
       "financement    0.000270\n",
       "faire          0.000244\n",
       "travail        0.000230\n",
       "ans            0.000224\n",
       "formation      0.000212\n",
       "trouver        0.000206\n",
       "Name: pole, dtype: float32"
      ]
     },
     "metadata": {},
     "output_type": "display_data"
    },
    {
     "name": "stdout",
     "output_type": "stream",
     "text": [
      "formations\n"
     ]
    },
    {
     "data": {
      "text/plain": [
       "formations     0.000835\n",
       "faut           0.000263\n",
       "trouver        0.000248\n",
       "faire          0.000240\n",
       "emploi         0.000210\n",
       "pole           0.000199\n",
       "formation      0.000159\n",
       "non                 NaN\n",
       "financement         NaN\n",
       "travail             NaN\n",
       "Name: formations, dtype: float32"
      ]
     },
     "metadata": {},
     "output_type": "display_data"
    },
    {
     "name": "stdout",
     "output_type": "stream",
     "text": [
      "non\n"
     ]
    },
    {
     "data": {
      "text/plain": [
       "non            0.001016\n",
       "concerne       0.000490\n",
       "emploi         0.000078\n",
       "formation      0.000077\n",
       "pole           0.000075\n",
       "financement         NaN\n",
       "travail             NaN\n",
       "tout                NaN\n",
       "jamais              NaN\n",
       "ans                 NaN\n",
       "Name: non, dtype: float32"
      ]
     },
     "metadata": {},
     "output_type": "display_data"
    },
    {
     "name": "stdout",
     "output_type": "stream",
     "text": [
      "concerne\n"
     ]
    },
    {
     "data": {
      "text/plain": [
       "concerne       0.00158\n",
       "non            0.00049\n",
       "financement        NaN\n",
       "emploi             NaN\n",
       "pole               NaN\n",
       "travail            NaN\n",
       "tout               NaN\n",
       "formation          NaN\n",
       "jamais             NaN\n",
       "ans                NaN\n",
       "Name: concerne, dtype: float32"
      ]
     },
     "metadata": {},
     "output_type": "display_data"
    },
    {
     "name": "stdout",
     "output_type": "stream",
     "text": [
      "faire\n"
     ]
    },
    {
     "data": {
      "text/plain": [
       "faire          0.001953\n",
       "emploi         0.000257\n",
       "formation      0.000254\n",
       "pole           0.000244\n",
       "formations     0.000240\n",
       "non                 NaN\n",
       "financement         NaN\n",
       "travail             NaN\n",
       "tout                NaN\n",
       "jamais              NaN\n",
       "Name: faire, dtype: float32"
      ]
     },
     "metadata": {},
     "output_type": "display_data"
    },
    {
     "name": "stdout",
     "output_type": "stream",
     "text": [
      "tout\n"
     ]
    },
    {
     "data": {
      "text/plain": [
       "tout           0.002577\n",
       "emploi         0.000216\n",
       "formation      0.000215\n",
       "pole           0.000202\n",
       "non                 NaN\n",
       "financement         NaN\n",
       "travail             NaN\n",
       "jamais              NaN\n",
       "ans                 NaN\n",
       "faire               NaN\n",
       "Name: tout, dtype: float32"
      ]
     },
     "metadata": {},
     "output_type": "display_data"
    },
    {
     "name": "stdout",
     "output_type": "stream",
     "text": [
      "trouver\n"
     ]
    },
    {
     "data": {
      "text/plain": [
       "trouver        0.002632\n",
       "formations     0.000248\n",
       "formation      0.000224\n",
       "emploi         0.000217\n",
       "pole           0.000206\n",
       "non                 NaN\n",
       "financement         NaN\n",
       "travail             NaN\n",
       "tout                NaN\n",
       "jamais              NaN\n",
       "Name: trouver, dtype: float32"
      ]
     },
     "metadata": {},
     "output_type": "display_data"
    },
    {
     "name": "stdout",
     "output_type": "stream",
     "text": [
      "ans\n"
     ]
    },
    {
     "data": {
      "text/plain": [
       "ans            0.002688\n",
       "formation      0.000250\n",
       "emploi         0.000241\n",
       "pole           0.000224\n",
       "non                 NaN\n",
       "financement         NaN\n",
       "travail             NaN\n",
       "tout                NaN\n",
       "jamais              NaN\n",
       "faire               NaN\n",
       "Name: ans, dtype: float32"
      ]
     },
     "metadata": {},
     "output_type": "display_data"
    },
    {
     "name": "stdout",
     "output_type": "stream",
     "text": [
      "faut\n"
     ]
    },
    {
     "data": {
      "text/plain": [
       "faut           0.002817\n",
       "formations     0.000263\n",
       "formation      0.000213\n",
       "emploi         0.000208\n",
       "pole           0.000192\n",
       "non                 NaN\n",
       "financement         NaN\n",
       "travail             NaN\n",
       "tout                NaN\n",
       "jamais              NaN\n",
       "Name: faut, dtype: float32"
      ]
     },
     "metadata": {},
     "output_type": "display_data"
    },
    {
     "name": "stdout",
     "output_type": "stream",
     "text": [
      "demande\n"
     ]
    },
    {
     "data": {
      "text/plain": [
       "demande        0.003247\n",
       "pole           0.000328\n",
       "emploi         0.000308\n",
       "formation      0.000272\n",
       "non                 NaN\n",
       "financement         NaN\n",
       "travail             NaN\n",
       "tout                NaN\n",
       "jamais              NaN\n",
       "ans                 NaN\n",
       "Name: demande, dtype: float32"
      ]
     },
     "metadata": {},
     "output_type": "display_data"
    },
    {
     "name": "stdout",
     "output_type": "stream",
     "text": [
      "financement\n"
     ]
    },
    {
     "data": {
      "text/plain": [
       "financement    0.003257\n",
       "pole           0.000270\n",
       "emploi         0.000269\n",
       "formation      0.000228\n",
       "non                 NaN\n",
       "travail             NaN\n",
       "tout                NaN\n",
       "jamais              NaN\n",
       "ans                 NaN\n",
       "faire               NaN\n",
       "Name: financement, dtype: float32"
      ]
     },
     "metadata": {},
     "output_type": "display_data"
    },
    {
     "name": "stdout",
     "output_type": "stream",
     "text": [
      "aide\n"
     ]
    },
    {
     "data": {
      "text/plain": [
       "aide           0.003401\n",
       "pole           0.000331\n",
       "emploi         0.000317\n",
       "formation      0.000234\n",
       "non                 NaN\n",
       "financement         NaN\n",
       "travail             NaN\n",
       "tout                NaN\n",
       "jamais              NaN\n",
       "ans                 NaN\n",
       "Name: aide, dtype: float32"
      ]
     },
     "metadata": {},
     "output_type": "display_data"
    },
    {
     "name": "stdout",
     "output_type": "stream",
     "text": [
      "travail\n"
     ]
    },
    {
     "data": {
      "text/plain": [
       "travail        0.003497\n",
       "formation      0.000252\n",
       "emploi         0.000247\n",
       "pole           0.000230\n",
       "non                 NaN\n",
       "financement         NaN\n",
       "tout                NaN\n",
       "jamais              NaN\n",
       "ans                 NaN\n",
       "faire               NaN\n",
       "Name: travail, dtype: float32"
      ]
     },
     "metadata": {},
     "output_type": "display_data"
    },
    {
     "name": "stdout",
     "output_type": "stream",
     "text": [
      "professionnelle\n"
     ]
    },
    {
     "data": {
      "text/plain": [
       "professionnelle    0.003731\n",
       "formation          0.000309\n",
       "non                     NaN\n",
       "financement             NaN\n",
       "emploi                  NaN\n",
       "pole                    NaN\n",
       "travail                 NaN\n",
       "tout                    NaN\n",
       "jamais                  NaN\n",
       "ans                     NaN\n",
       "Name: professionnelle, dtype: float32"
      ]
     },
     "metadata": {},
     "output_type": "display_data"
    },
    {
     "name": "stdout",
     "output_type": "stream",
     "text": [
      "jamais\n"
     ]
    },
    {
     "data": {
      "text/plain": [
       "jamais         0.003891\n",
       "formation      0.000213\n",
       "non                 NaN\n",
       "financement         NaN\n",
       "emploi              NaN\n",
       "pole                NaN\n",
       "travail             NaN\n",
       "tout                NaN\n",
       "ans                 NaN\n",
       "faire               NaN\n",
       "Name: jamais, dtype: float32"
      ]
     },
     "metadata": {},
     "output_type": "display_data"
    }
   ],
   "source": [
    "for i in df_qu_21_one_hot.sum(axis=0).sort_values(ascending=False).head(20).index:\n",
    "    print(i)\n",
    "    display(df_lift_21[i].sort_values(ascending=False).head(10))"
   ]
  },
  {
   "cell_type": "code",
   "execution_count": 120,
   "metadata": {},
   "outputs": [
    {
     "data": {
      "text/plain": [
       "126"
      ]
     },
     "execution_count": 120,
     "metadata": {},
     "output_type": "execute_result"
    }
   ],
   "source": [
    "gc.collect()"
   ]
  },
  {
   "cell_type": "markdown",
   "metadata": {},
   "source": [
    "# Question 22:  Si vous avez été amené à scolariser votre enfant, pouvez-vous indiquer les éléments de satisfaction et/ou les difficultés rencontrés en précisant, pour chaque point, l'administration concernée :"
   ]
  },
  {
   "cell_type": "code",
   "execution_count": 121,
   "metadata": {
    "collapsed": true
   },
   "outputs": [],
   "source": [
    "question_22 = \"Si vous avez été amené à scolariser votre enfant, pouvez-vous indiquer les éléments de satisfaction et/ou les difficultés rencontrés en précisant, pour chaque point, l'administration concernée :\"\n",
    "qu_22,df_qu_22_one_hot,df_cov_22,df_confidence_22,df_lift_22 = compute_similarities(question_22, new_res)"
   ]
  },
  {
   "cell_type": "code",
   "execution_count": 122,
   "metadata": {
    "scrolled": true
   },
   "outputs": [
    {
     "name": "stdout",
     "output_type": "stream",
     "text": [
      "enfants\n"
     ]
    },
    {
     "data": {
      "text/plain": [
       "enfants        1948\n",
       "ecole           587\n",
       "education       405\n",
       "parents         321\n",
       "nationale       307\n",
       "enseignants     296\n",
       "scolaire        289\n",
       "prive           281\n",
       "faire           273\n",
       "enfant          242\n",
       "Name: enfants, dtype: uint16"
      ]
     },
     "metadata": {},
     "output_type": "display_data"
    },
    {
     "name": "stdout",
     "output_type": "stream",
     "text": [
      "ecole\n"
     ]
    },
    {
     "data": {
      "text/plain": [
       "ecole          1677\n",
       "enfants         587\n",
       "enfant          347\n",
       "publique        299\n",
       "education       260\n",
       "parents         243\n",
       "enseignants     235\n",
       "scolaire        234\n",
       "primaire        232\n",
       "faire           222\n",
       "Name: ecole, dtype: uint16"
      ]
     },
     "metadata": {},
     "output_type": "display_data"
    },
    {
     "name": "stdout",
     "output_type": "stream",
     "text": [
      "education\n"
     ]
    },
    {
     "data": {
      "text/plain": [
       "education      1223\n",
       "nationale       910\n",
       "enfants         405\n",
       "ecole           260\n",
       "eleves          229\n",
       "enseignants     215\n",
       "enfant          181\n",
       "faire           180\n",
       "scolaire        175\n",
       "parents         160\n",
       "Name: education, dtype: uint16"
      ]
     },
     "metadata": {},
     "output_type": "display_data"
    },
    {
     "name": "stdout",
     "output_type": "stream",
     "text": [
      "enfant\n"
     ]
    },
    {
     "data": {
      "text/plain": [
       "enfant       1060\n",
       "ecole         347\n",
       "enfants       242\n",
       "scolaire      186\n",
       "education     181\n",
       "faire         154\n",
       "parents       150\n",
       "nationale     134\n",
       "prive         124\n",
       "classe        121\n",
       "Name: enfant, dtype: uint16"
      ]
     },
     "metadata": {},
     "output_type": "display_data"
    },
    {
     "name": "stdout",
     "output_type": "stream",
     "text": [
      "scolaire\n"
     ]
    },
    {
     "data": {
      "text/plain": [
       "scolaire         1003\n",
       "carte             319\n",
       "enfants           289\n",
       "ecole             234\n",
       "enfant            186\n",
       "education         175\n",
       "nationale         133\n",
       "college           128\n",
       "etablissement     123\n",
       "eleves            122\n",
       "Name: scolaire, dtype: uint16"
      ]
     },
     "metadata": {},
     "output_type": "display_data"
    },
    {
     "name": "stdout",
     "output_type": "stream",
     "text": [
      "non\n"
     ]
    },
    {
     "data": {
      "text/plain": [
       "non             944\n",
       "concerne        223\n",
       "enfants         178\n",
       "ecole           146\n",
       "enseignants     122\n",
       "education       115\n",
       "enfant          104\n",
       "enseignement      0\n",
       "fille             0\n",
       "ans               0\n",
       "Name: non, dtype: uint16"
      ]
     },
     "metadata": {},
     "output_type": "display_data"
    },
    {
     "name": "stdout",
     "output_type": "stream",
     "text": [
      "nationale\n"
     ]
    },
    {
     "data": {
      "text/plain": [
       "nationale      926\n",
       "education      910\n",
       "enfants        307\n",
       "eleves         175\n",
       "ecole          171\n",
       "enseignants    167\n",
       "enfant         134\n",
       "scolaire       133\n",
       "faire          130\n",
       "parents        126\n",
       "Name: nationale, dtype: uint16"
      ]
     },
     "metadata": {},
     "output_type": "display_data"
    },
    {
     "name": "stdout",
     "output_type": "stream",
     "text": [
      "enseignants\n"
     ]
    },
    {
     "data": {
      "text/plain": [
       "enseignants     861\n",
       "enfants         296\n",
       "ecole           235\n",
       "eleves          216\n",
       "education       215\n",
       "nationale       167\n",
       "parents         166\n",
       "faire           139\n",
       "enseignement    129\n",
       "non             122\n",
       "Name: enseignants, dtype: uint16"
      ]
     },
     "metadata": {},
     "output_type": "display_data"
    },
    {
     "name": "stdout",
     "output_type": "stream",
     "text": [
      "eleves\n"
     ]
    },
    {
     "data": {
      "text/plain": [
       "eleves         786\n",
       "enfants        232\n",
       "education      229\n",
       "ecole          219\n",
       "classe         218\n",
       "enseignants    216\n",
       "parents        183\n",
       "classes        183\n",
       "nationale      175\n",
       "faire          157\n",
       "Name: eleves, dtype: uint16"
      ]
     },
     "metadata": {},
     "output_type": "display_data"
    },
    {
     "name": "stdout",
     "output_type": "stream",
     "text": [
      "college\n"
     ]
    },
    {
     "data": {
      "text/plain": [
       "college        685\n",
       "lycee          278\n",
       "enfants        236\n",
       "ecole          207\n",
       "primaire       168\n",
       "eleves         148\n",
       "scolaire       128\n",
       "enfant         119\n",
       "enseignants    118\n",
       "education      118\n",
       "Name: college, dtype: uint16"
      ]
     },
     "metadata": {},
     "output_type": "display_data"
    },
    {
     "name": "stdout",
     "output_type": "stream",
     "text": [
      "faire\n"
     ]
    },
    {
     "data": {
      "text/plain": [
       "faire          668\n",
       "enfants        273\n",
       "ecole          222\n",
       "education      180\n",
       "eleves         157\n",
       "enfant         154\n",
       "enseignants    139\n",
       "faut           132\n",
       "nationale      130\n",
       "parents        123\n",
       "Name: faire, dtype: uint16"
      ]
     },
     "metadata": {},
     "output_type": "display_data"
    },
    {
     "name": "stdout",
     "output_type": "stream",
     "text": [
      "parents\n"
     ]
    },
    {
     "data": {
      "text/plain": [
       "parents        668\n",
       "enfants        321\n",
       "ecole          243\n",
       "eleves         183\n",
       "enseignants    166\n",
       "education      160\n",
       "enfant         150\n",
       "nationale      126\n",
       "faire          123\n",
       "scolaire       115\n",
       "Name: parents, dtype: uint16"
      ]
     },
     "metadata": {},
     "output_type": "display_data"
    },
    {
     "name": "stdout",
     "output_type": "stream",
     "text": [
      "prive\n"
     ]
    },
    {
     "data": {
      "text/plain": [
       "prive           636\n",
       "enfants         281\n",
       "public          205\n",
       "ecole           177\n",
       "enfant          124\n",
       "enseignement    112\n",
       "education       106\n",
       "formation         0\n",
       "travail           0\n",
       "tout              0\n",
       "Name: prive, dtype: uint16"
      ]
     },
     "metadata": {},
     "output_type": "display_data"
    },
    {
     "name": "stdout",
     "output_type": "stream",
     "text": [
      "ecoles\n"
     ]
    },
    {
     "data": {
      "text/plain": [
       "ecoles         626\n",
       "enfants        233\n",
       "ecole          198\n",
       "education      119\n",
       "enseignants    118\n",
       "orientation      0\n",
       "difficultes      0\n",
       "systeme          0\n",
       "ans              0\n",
       "probleme         0\n",
       "Name: ecoles, dtype: uint16"
      ]
     },
     "metadata": {},
     "output_type": "display_data"
    },
    {
     "name": "stdout",
     "output_type": "stream",
     "text": [
      "lycee\n"
     ]
    },
    {
     "data": {
      "text/plain": [
       "lycee          612\n",
       "college        278\n",
       "enfants        168\n",
       "ecole          141\n",
       "eleves         109\n",
       "orientation      0\n",
       "difficultes      0\n",
       "systeme          0\n",
       "ans              0\n",
       "probleme         0\n",
       "Name: lycee, dtype: uint16"
      ]
     },
     "metadata": {},
     "output_type": "display_data"
    },
    {
     "name": "stdout",
     "output_type": "stream",
     "text": [
      "faut\n"
     ]
    },
    {
     "data": {
      "text/plain": [
       "faut           542\n",
       "enfants        219\n",
       "ecole          198\n",
       "faire          132\n",
       "education      132\n",
       "eleves         117\n",
       "enseignants    108\n",
       "enfant         106\n",
       "tout           104\n",
       "ans              0\n",
       "Name: faut, dtype: uint16"
      ]
     },
     "metadata": {},
     "output_type": "display_data"
    },
    {
     "name": "stdout",
     "output_type": "stream",
     "text": [
      "tout\n"
     ]
    },
    {
     "data": {
      "text/plain": [
       "tout         535\n",
       "enfants      196\n",
       "ecole        175\n",
       "education    135\n",
       "faire        117\n",
       "enfant       113\n",
       "nationale    109\n",
       "faut         104\n",
       "eleves       104\n",
       "formation      0\n",
       "Name: tout, dtype: uint16"
      ]
     },
     "metadata": {},
     "output_type": "display_data"
    },
    {
     "name": "stdout",
     "output_type": "stream",
     "text": [
      "difficulte\n"
     ]
    },
    {
     "data": {
      "text/plain": [
       "difficulte     530\n",
       "enfants        160\n",
       "ecole          108\n",
       "professeurs      0\n",
       "difficultes      0\n",
       "systeme          0\n",
       "ans              0\n",
       "probleme         0\n",
       "etudes           0\n",
       "classe           0\n",
       "Name: difficulte, dtype: uint16"
      ]
     },
     "metadata": {},
     "output_type": "display_data"
    },
    {
     "name": "stdout",
     "output_type": "stream",
     "text": [
      "classe\n"
     ]
    },
    {
     "data": {
      "text/plain": [
       "classe         516\n",
       "eleves         218\n",
       "enfants        214\n",
       "ecole          178\n",
       "education      131\n",
       "enfant         121\n",
       "enseignants    113\n",
       "classes        108\n",
       "faire          105\n",
       "tout             0\n",
       "Name: classe, dtype: uint16"
      ]
     },
     "metadata": {},
     "output_type": "display_data"
    },
    {
     "name": "stdout",
     "output_type": "stream",
     "text": [
      "enseignement\n"
     ]
    },
    {
     "data": {
      "text/plain": [
       "enseignement    513\n",
       "enfants         172\n",
       "enseignants     129\n",
       "education       117\n",
       "ecole           114\n",
       "prive           112\n",
       "qualite         105\n",
       "formation         0\n",
       "travail           0\n",
       "tout              0\n",
       "Name: enseignement, dtype: uint16"
      ]
     },
     "metadata": {},
     "output_type": "display_data"
    }
   ],
   "source": [
    "for i in df_qu_22_one_hot.sum(axis=0).sort_values(ascending=False).head(20).index:\n",
    "    print(i)\n",
    "    display(df_cov_22[i].sort_values(ascending=False).head(10))"
   ]
  },
  {
   "cell_type": "code",
   "execution_count": 123,
   "metadata": {
    "scrolled": true
   },
   "outputs": [
    {
     "name": "stdout",
     "output_type": "stream",
     "text": [
      "enfants\n"
     ]
    },
    {
     "data": {
      "text/plain": [
       "enfants       1.000000\n",
       "3             0.500000\n",
       "2             0.493333\n",
       "parents       0.480539\n",
       "tous          0.460177\n",
       "scolarite     0.452899\n",
       "maternelle    0.452055\n",
       "public        0.443459\n",
       "prive         0.441824\n",
       "etudes        0.423221\n",
       "Name: enfants, dtype: float32"
      ]
     },
     "metadata": {},
     "output_type": "display_data"
    },
    {
     "name": "stdout",
     "output_type": "stream",
     "text": [
      "ecole\n"
     ]
    },
    {
     "data": {
      "text/plain": [
       "ecole         1.000000\n",
       "publique      0.854286\n",
       "maternelle    0.547945\n",
       "primaire      0.516704\n",
       "mairie        0.458084\n",
       "3             0.409449\n",
       "fils          0.392857\n",
       "ans           0.372146\n",
       "faut          0.365314\n",
       "parents       0.363772\n",
       "Name: ecole, dtype: float32"
      ]
     },
     "metadata": {},
     "output_type": "display_data"
    },
    {
     "name": "stdout",
     "output_type": "stream",
     "text": [
      "education\n"
     ]
    },
    {
     "data": {
      "text/plain": [
       "education      1.000000\n",
       "nationale      0.982721\n",
       "eleves         0.291349\n",
       "niveau         0.278373\n",
       "faire          0.269461\n",
       "tous           0.267699\n",
       "classe         0.253876\n",
       "tout           0.252336\n",
       "enseignants    0.249710\n",
       "professeurs    0.246094\n",
       "Name: education, dtype: float32"
      ]
     },
     "metadata": {},
     "output_type": "display_data"
    },
    {
     "name": "stdout",
     "output_type": "stream",
     "text": [
      "enfant\n"
     ]
    },
    {
     "data": {
      "text/plain": [
       "enfant      1.000000\n",
       "ans         0.267123\n",
       "classe      0.234496\n",
       "faire       0.230539\n",
       "parents     0.224551\n",
       "tout        0.211215\n",
       "ecole       0.206917\n",
       "faut        0.195572\n",
       "prive       0.194969\n",
       "scolaire    0.185444\n",
       "Name: enfant, dtype: float32"
      ]
     },
     "metadata": {},
     "output_type": "display_data"
    },
    {
     "name": "stdout",
     "output_type": "stream",
     "text": [
      "scolaire\n"
     ]
    },
    {
     "data": {
      "text/plain": [
       "scolaire         1.000000\n",
       "carte            0.924638\n",
       "systeme          0.344595\n",
       "etablissement    0.290094\n",
       "niveau           0.218415\n",
       "college          0.186861\n",
       "enfant           0.175472\n",
       "parents          0.172156\n",
       "faire            0.166168\n",
       "eleves           0.155216\n",
       "Name: scolaire, dtype: float32"
      ]
     },
     "metadata": {},
     "output_type": "display_data"
    },
    {
     "name": "stdout",
     "output_type": "stream",
     "text": [
      "non\n"
     ]
    },
    {
     "data": {
      "text/plain": [
       "non               1.000000\n",
       "concerne          0.443340\n",
       "enseignants       0.141696\n",
       "enfant            0.098113\n",
       "education         0.094031\n",
       "enfants           0.091376\n",
       "ecole             0.087060\n",
       "etablissements    0.000000\n",
       "systeme           0.000000\n",
       "probleme          0.000000\n",
       "Name: non, dtype: float32"
      ]
     },
     "metadata": {},
     "output_type": "display_data"
    },
    {
     "name": "stdout",
     "output_type": "stream",
     "text": [
      "nationale\n"
     ]
    },
    {
     "data": {
      "text/plain": [
       "nationale      1.000000\n",
       "education      0.744072\n",
       "eleves         0.222646\n",
       "tout           0.203738\n",
       "faire          0.194611\n",
       "enseignants    0.193961\n",
       "parents        0.188623\n",
       "enfants        0.157598\n",
       "scolaire       0.132602\n",
       "enfant         0.126415\n",
       "Name: nationale, dtype: float32"
      ]
     },
     "metadata": {},
     "output_type": "display_data"
    },
    {
     "name": "stdout",
     "output_type": "stream",
     "text": [
      "enseignants\n"
     ]
    },
    {
     "data": {
      "text/plain": [
       "enseignants     1.000000\n",
       "formation       0.382550\n",
       "travail         0.303207\n",
       "eleves          0.274809\n",
       "primaire        0.256125\n",
       "enseignement    0.251462\n",
       "classes         0.250518\n",
       "parents         0.248503\n",
       "tous            0.243363\n",
       "niveau          0.237687\n",
       "Name: enseignants, dtype: float32"
      ]
     },
     "metadata": {},
     "output_type": "display_data"
    },
    {
     "name": "stdout",
     "output_type": "stream",
     "text": [
      "eleves\n"
     ]
    },
    {
     "data": {
      "text/plain": [
       "eleves         1.000000\n",
       "classe         0.422481\n",
       "classes        0.378882\n",
       "parents        0.273952\n",
       "professeurs    0.269531\n",
       "niveau         0.252677\n",
       "enseignants    0.250871\n",
       "tous           0.236726\n",
       "faire          0.235030\n",
       "college        0.216058\n",
       "Name: eleves, dtype: float32"
      ]
     },
     "metadata": {},
     "output_type": "display_data"
    },
    {
     "name": "stdout",
     "output_type": "stream",
     "text": [
      "college\n"
     ]
    },
    {
     "data": {
      "text/plain": [
       "college        1.000000\n",
       "lycee          0.454248\n",
       "primaire       0.374165\n",
       "eleves         0.188295\n",
       "enseignants    0.137050\n",
       "scolaire       0.127617\n",
       "ecole          0.123435\n",
       "enfants        0.121150\n",
       "enfant         0.112264\n",
       "education      0.096484\n",
       "Name: college, dtype: float32"
      ]
     },
     "metadata": {},
     "output_type": "display_data"
    },
    {
     "name": "stdout",
     "output_type": "stream",
     "text": [
      "faire\n"
     ]
    },
    {
     "data": {
      "text/plain": [
       "faire          1.000000\n",
       "faut           0.243542\n",
       "tout           0.218692\n",
       "classe         0.203488\n",
       "eleves         0.199746\n",
       "parents        0.184132\n",
       "enseignants    0.161440\n",
       "education      0.147179\n",
       "enfant         0.145283\n",
       "nationale      0.140389\n",
       "Name: faire, dtype: float32"
      ]
     },
     "metadata": {},
     "output_type": "display_data"
    },
    {
     "name": "stdout",
     "output_type": "stream",
     "text": [
      "parents\n"
     ]
    },
    {
     "data": {
      "text/plain": [
       "parents        1.000000\n",
       "eleves         0.232824\n",
       "enseignants    0.192799\n",
       "faire          0.184132\n",
       "enfants        0.164784\n",
       "ecole          0.144902\n",
       "enfant         0.141509\n",
       "nationale      0.136069\n",
       "education      0.130826\n",
       "scolaire       0.114656\n",
       "Name: parents, dtype: float32"
      ]
     },
     "metadata": {},
     "output_type": "display_data"
    },
    {
     "name": "stdout",
     "output_type": "stream",
     "text": [
      "prive\n"
     ]
    },
    {
     "data": {
      "text/plain": [
       "prive           1.000000\n",
       "public          0.454545\n",
       "enseignement    0.218324\n",
       "enfants         0.144251\n",
       "enfant          0.116981\n",
       "ecole           0.105546\n",
       "education       0.086672\n",
       "formation       0.000000\n",
       "travail         0.000000\n",
       "tout            0.000000\n",
       "Name: prive, dtype: float32"
      ]
     },
     "metadata": {},
     "output_type": "display_data"
    },
    {
     "name": "stdout",
     "output_type": "stream",
     "text": [
      "ecoles\n"
     ]
    },
    {
     "data": {
      "text/plain": [
       "ecoles         1.000000\n",
       "enseignants    0.137050\n",
       "enfants        0.119610\n",
       "ecole          0.118068\n",
       "education      0.097302\n",
       "orientation    0.000000\n",
       "difficultes    0.000000\n",
       "systeme        0.000000\n",
       "ans            0.000000\n",
       "probleme       0.000000\n",
       "Name: ecoles, dtype: float32"
      ]
     },
     "metadata": {},
     "output_type": "display_data"
    },
    {
     "name": "stdout",
     "output_type": "stream",
     "text": [
      "lycee\n"
     ]
    },
    {
     "data": {
      "text/plain": [
       "lycee          1.000000\n",
       "college        0.405839\n",
       "eleves         0.138677\n",
       "enfants        0.086242\n",
       "ecole          0.084079\n",
       "orientation    0.000000\n",
       "difficultes    0.000000\n",
       "systeme        0.000000\n",
       "ans            0.000000\n",
       "probleme       0.000000\n",
       "Name: lycee, dtype: float32"
      ]
     },
     "metadata": {},
     "output_type": "display_data"
    },
    {
     "name": "stdout",
     "output_type": "stream",
     "text": [
      "faut\n"
     ]
    },
    {
     "data": {
      "text/plain": [
       "faut           1.000000\n",
       "faire          0.197605\n",
       "tout           0.194393\n",
       "eleves         0.148855\n",
       "enseignants    0.125436\n",
       "ecole          0.118068\n",
       "enfants        0.112423\n",
       "education      0.107931\n",
       "enfant         0.100000\n",
       "ans            0.000000\n",
       "Name: faut, dtype: float32"
      ]
     },
     "metadata": {},
     "output_type": "display_data"
    },
    {
     "name": "stdout",
     "output_type": "stream",
     "text": [
      "tout\n"
     ]
    },
    {
     "data": {
      "text/plain": [
       "tout         1.000000\n",
       "faut         0.191882\n",
       "faire        0.175150\n",
       "eleves       0.132316\n",
       "nationale    0.117711\n",
       "education    0.110384\n",
       "enfant       0.106604\n",
       "ecole        0.104353\n",
       "enfants      0.100616\n",
       "formation    0.000000\n",
       "Name: tout, dtype: float32"
      ]
     },
     "metadata": {},
     "output_type": "display_data"
    },
    {
     "name": "stdout",
     "output_type": "stream",
     "text": [
      "difficulte\n"
     ]
    },
    {
     "data": {
      "text/plain": [
       "difficulte     1.000000\n",
       "enfants        0.082136\n",
       "ecole          0.064401\n",
       "professeurs    0.000000\n",
       "difficultes    0.000000\n",
       "systeme        0.000000\n",
       "ans            0.000000\n",
       "probleme       0.000000\n",
       "etudes         0.000000\n",
       "classe         0.000000\n",
       "Name: difficulte, dtype: float32"
      ]
     },
     "metadata": {},
     "output_type": "display_data"
    },
    {
     "name": "stdout",
     "output_type": "stream",
     "text": [
      "classe\n"
     ]
    },
    {
     "data": {
      "text/plain": [
       "classe         1.000000\n",
       "eleves         0.277354\n",
       "classes        0.223602\n",
       "faire          0.157186\n",
       "enseignants    0.131243\n",
       "enfant         0.114151\n",
       "enfants        0.109856\n",
       "education      0.107114\n",
       "ecole          0.106142\n",
       "tout           0.000000\n",
       "Name: classe, dtype: float32"
      ]
     },
     "metadata": {},
     "output_type": "display_data"
    },
    {
     "name": "stdout",
     "output_type": "stream",
     "text": [
      "enseignement\n"
     ]
    },
    {
     "data": {
      "text/plain": [
       "enseignement    1.000000\n",
       "qualite         0.364583\n",
       "prive           0.176101\n",
       "enseignants     0.149826\n",
       "education       0.095666\n",
       "enfants         0.088296\n",
       "ecole           0.067979\n",
       "formation       0.000000\n",
       "travail         0.000000\n",
       "tout            0.000000\n",
       "Name: enseignement, dtype: float32"
      ]
     },
     "metadata": {},
     "output_type": "display_data"
    }
   ],
   "source": [
    "for i in df_qu_22_one_hot.sum(axis=0).sort_values(ascending=False).head(20).index:\n",
    "    print(i)\n",
    "    display(df_confidence_22[i].sort_values(ascending=False).head(10))"
   ]
  },
  {
   "cell_type": "code",
   "execution_count": 124,
   "metadata": {
    "scrolled": true
   },
   "outputs": [
    {
     "name": "stdout",
     "output_type": "stream",
     "text": [
      "enfants\n"
     ]
    },
    {
     "data": {
      "text/plain": [
       "enfants       0.000513\n",
       "3             0.000257\n",
       "2             0.000253\n",
       "parents       0.000247\n",
       "tous          0.000236\n",
       "scolarite     0.000232\n",
       "maternelle    0.000232\n",
       "public        0.000228\n",
       "prive         0.000227\n",
       "etudes        0.000217\n",
       "Name: enfants, dtype: float32"
      ]
     },
     "metadata": {},
     "output_type": "display_data"
    },
    {
     "name": "stdout",
     "output_type": "stream",
     "text": [
      "ecole\n"
     ]
    },
    {
     "data": {
      "text/plain": [
       "ecole         0.000596\n",
       "publique      0.000509\n",
       "maternelle    0.000327\n",
       "primaire      0.000308\n",
       "mairie        0.000273\n",
       "3             0.000244\n",
       "fils          0.000234\n",
       "ans           0.000222\n",
       "faut          0.000218\n",
       "parents       0.000217\n",
       "Name: ecole, dtype: float32"
      ]
     },
     "metadata": {},
     "output_type": "display_data"
    },
    {
     "name": "stdout",
     "output_type": "stream",
     "text": [
      "education\n"
     ]
    },
    {
     "data": {
      "text/plain": [
       "education      0.000818\n",
       "nationale      0.000804\n",
       "eleves         0.000238\n",
       "niveau         0.000228\n",
       "faire          0.000220\n",
       "tous           0.000219\n",
       "classe         0.000208\n",
       "tout           0.000206\n",
       "enseignants    0.000204\n",
       "professeurs    0.000201\n",
       "Name: education, dtype: float32"
      ]
     },
     "metadata": {},
     "output_type": "display_data"
    },
    {
     "name": "stdout",
     "output_type": "stream",
     "text": [
      "enfant\n"
     ]
    },
    {
     "data": {
      "text/plain": [
       "enfant      0.000943\n",
       "ans         0.000252\n",
       "classe      0.000221\n",
       "faire       0.000217\n",
       "parents     0.000212\n",
       "tout        0.000199\n",
       "ecole       0.000195\n",
       "faut        0.000185\n",
       "prive       0.000184\n",
       "scolaire    0.000175\n",
       "Name: enfant, dtype: float32"
      ]
     },
     "metadata": {},
     "output_type": "display_data"
    },
    {
     "name": "stdout",
     "output_type": "stream",
     "text": [
      "scolaire\n"
     ]
    },
    {
     "data": {
      "text/plain": [
       "scolaire         0.000997\n",
       "carte            0.000922\n",
       "systeme          0.000344\n",
       "etablissement    0.000289\n",
       "niveau           0.000218\n",
       "college          0.000186\n",
       "enfant           0.000175\n",
       "parents          0.000172\n",
       "faire            0.000166\n",
       "eleves           0.000155\n",
       "Name: scolaire, dtype: float32"
      ]
     },
     "metadata": {},
     "output_type": "display_data"
    },
    {
     "name": "stdout",
     "output_type": "stream",
     "text": [
      "non\n"
     ]
    },
    {
     "data": {
      "text/plain": [
       "non            0.001059\n",
       "concerne       0.000470\n",
       "enseignants    0.000150\n",
       "enfant         0.000104\n",
       "education      0.000100\n",
       "enfants        0.000097\n",
       "ecole          0.000092\n",
       "carte               NaN\n",
       "2                   NaN\n",
       "college             NaN\n",
       "Name: non, dtype: float32"
      ]
     },
     "metadata": {},
     "output_type": "display_data"
    },
    {
     "name": "stdout",
     "output_type": "stream",
     "text": [
      "nationale\n"
     ]
    },
    {
     "data": {
      "text/plain": [
       "nationale      0.001080\n",
       "education      0.000804\n",
       "eleves         0.000240\n",
       "tout           0.000220\n",
       "faire          0.000210\n",
       "enseignants    0.000209\n",
       "parents        0.000204\n",
       "enfants        0.000170\n",
       "scolaire       0.000143\n",
       "enfant         0.000137\n",
       "Name: nationale, dtype: float32"
      ]
     },
     "metadata": {},
     "output_type": "display_data"
    },
    {
     "name": "stdout",
     "output_type": "stream",
     "text": [
      "enseignants\n"
     ]
    },
    {
     "data": {
      "text/plain": [
       "enseignants     0.001161\n",
       "formation       0.000444\n",
       "travail         0.000352\n",
       "eleves          0.000319\n",
       "primaire        0.000297\n",
       "enseignement    0.000292\n",
       "classes         0.000291\n",
       "parents         0.000289\n",
       "tous            0.000283\n",
       "niveau          0.000276\n",
       "Name: enseignants, dtype: float32"
      ]
     },
     "metadata": {},
     "output_type": "display_data"
    },
    {
     "name": "stdout",
     "output_type": "stream",
     "text": [
      "eleves\n"
     ]
    },
    {
     "data": {
      "text/plain": [
       "eleves         0.001272\n",
       "classe         0.000538\n",
       "classes        0.000482\n",
       "parents        0.000349\n",
       "professeurs    0.000343\n",
       "niveau         0.000321\n",
       "enseignants    0.000319\n",
       "tous           0.000301\n",
       "faire          0.000299\n",
       "college        0.000275\n",
       "Name: eleves, dtype: float32"
      ]
     },
     "metadata": {},
     "output_type": "display_data"
    },
    {
     "name": "stdout",
     "output_type": "stream",
     "text": [
      "college\n"
     ]
    },
    {
     "data": {
      "text/plain": [
       "college        0.001460\n",
       "lycee          0.000663\n",
       "primaire       0.000546\n",
       "eleves         0.000275\n",
       "enseignants    0.000200\n",
       "scolaire       0.000186\n",
       "ecole          0.000180\n",
       "enfants        0.000177\n",
       "enfant         0.000164\n",
       "education      0.000141\n",
       "Name: college, dtype: float32"
      ]
     },
     "metadata": {},
     "output_type": "display_data"
    },
    {
     "name": "stdout",
     "output_type": "stream",
     "text": [
      "faire\n"
     ]
    },
    {
     "data": {
      "text/plain": [
       "faire          0.001497\n",
       "faut           0.000365\n",
       "tout           0.000327\n",
       "classe         0.000305\n",
       "eleves         0.000299\n",
       "parents        0.000276\n",
       "enseignants    0.000242\n",
       "education      0.000220\n",
       "enfant         0.000217\n",
       "nationale      0.000210\n",
       "Name: faire, dtype: float32"
      ]
     },
     "metadata": {},
     "output_type": "display_data"
    },
    {
     "name": "stdout",
     "output_type": "stream",
     "text": [
      "parents\n"
     ]
    },
    {
     "data": {
      "text/plain": [
       "parents        0.001497\n",
       "eleves         0.000349\n",
       "enseignants    0.000289\n",
       "faire          0.000276\n",
       "enfants        0.000247\n",
       "ecole          0.000217\n",
       "enfant         0.000212\n",
       "nationale      0.000204\n",
       "education      0.000196\n",
       "scolaire       0.000172\n",
       "Name: parents, dtype: float32"
      ]
     },
     "metadata": {},
     "output_type": "display_data"
    },
    {
     "name": "stdout",
     "output_type": "stream",
     "text": [
      "prive\n"
     ]
    },
    {
     "data": {
      "text/plain": [
       "prive           0.001572\n",
       "public          0.000715\n",
       "enseignement    0.000343\n",
       "enfants         0.000227\n",
       "enfant          0.000184\n",
       "ecole           0.000166\n",
       "education       0.000136\n",
       "non                  NaN\n",
       "carte                NaN\n",
       "2                    NaN\n",
       "Name: prive, dtype: float32"
      ]
     },
     "metadata": {},
     "output_type": "display_data"
    },
    {
     "name": "stdout",
     "output_type": "stream",
     "text": [
      "ecoles\n"
     ]
    },
    {
     "data": {
      "text/plain": [
       "ecoles         0.001597\n",
       "enseignants    0.000219\n",
       "enfants        0.000191\n",
       "ecole          0.000189\n",
       "education      0.000155\n",
       "non                 NaN\n",
       "carte               NaN\n",
       "2                   NaN\n",
       "college             NaN\n",
       "scolaire            NaN\n",
       "Name: ecoles, dtype: float32"
      ]
     },
     "metadata": {},
     "output_type": "display_data"
    },
    {
     "name": "stdout",
     "output_type": "stream",
     "text": [
      "lycee\n"
     ]
    },
    {
     "data": {
      "text/plain": [
       "lycee          0.001634\n",
       "college        0.000663\n",
       "eleves         0.000227\n",
       "enfants        0.000141\n",
       "ecole          0.000137\n",
       "non                 NaN\n",
       "carte               NaN\n",
       "2                   NaN\n",
       "enseignants         NaN\n",
       "scolaire            NaN\n",
       "Name: lycee, dtype: float32"
      ]
     },
     "metadata": {},
     "output_type": "display_data"
    },
    {
     "name": "stdout",
     "output_type": "stream",
     "text": [
      "faut\n"
     ]
    },
    {
     "data": {
      "text/plain": [
       "faut           0.001845\n",
       "faire          0.000365\n",
       "tout           0.000359\n",
       "eleves         0.000275\n",
       "enseignants    0.000231\n",
       "ecole          0.000218\n",
       "enfants        0.000207\n",
       "education      0.000199\n",
       "enfant         0.000185\n",
       "non                 NaN\n",
       "Name: faut, dtype: float32"
      ]
     },
     "metadata": {},
     "output_type": "display_data"
    },
    {
     "name": "stdout",
     "output_type": "stream",
     "text": [
      "tout\n"
     ]
    },
    {
     "data": {
      "text/plain": [
       "tout         0.001869\n",
       "faut         0.000359\n",
       "faire        0.000327\n",
       "eleves       0.000247\n",
       "nationale    0.000220\n",
       "education    0.000206\n",
       "enfant       0.000199\n",
       "ecole        0.000195\n",
       "enfants      0.000188\n",
       "non               NaN\n",
       "Name: tout, dtype: float32"
      ]
     },
     "metadata": {},
     "output_type": "display_data"
    },
    {
     "name": "stdout",
     "output_type": "stream",
     "text": [
      "difficulte\n"
     ]
    },
    {
     "data": {
      "text/plain": [
       "difficulte     0.001887\n",
       "enfants        0.000155\n",
       "ecole          0.000122\n",
       "non                 NaN\n",
       "carte               NaN\n",
       "2                   NaN\n",
       "enseignants         NaN\n",
       "college             NaN\n",
       "scolaire            NaN\n",
       "classes             NaN\n",
       "Name: difficulte, dtype: float32"
      ]
     },
     "metadata": {},
     "output_type": "display_data"
    },
    {
     "name": "stdout",
     "output_type": "stream",
     "text": [
      "classe\n"
     ]
    },
    {
     "data": {
      "text/plain": [
       "classe         0.001938\n",
       "eleves         0.000538\n",
       "classes        0.000433\n",
       "faire          0.000305\n",
       "enseignants    0.000254\n",
       "enfant         0.000221\n",
       "enfants        0.000213\n",
       "education      0.000208\n",
       "ecole          0.000206\n",
       "non                 NaN\n",
       "Name: classe, dtype: float32"
      ]
     },
     "metadata": {},
     "output_type": "display_data"
    },
    {
     "name": "stdout",
     "output_type": "stream",
     "text": [
      "enseignement\n"
     ]
    },
    {
     "data": {
      "text/plain": [
       "enseignement    0.001949\n",
       "qualite         0.000711\n",
       "prive           0.000343\n",
       "enseignants     0.000292\n",
       "education       0.000186\n",
       "enfants         0.000172\n",
       "ecole           0.000133\n",
       "non                  NaN\n",
       "carte                NaN\n",
       "2                    NaN\n",
       "Name: enseignement, dtype: float32"
      ]
     },
     "metadata": {},
     "output_type": "display_data"
    }
   ],
   "source": [
    "for i in df_qu_22_one_hot.sum(axis=0).sort_values(ascending=False).head(20).index:\n",
    "    print(i)\n",
    "    display(df_lift_22[i].sort_values(ascending=False).head(10))"
   ]
  },
  {
   "cell_type": "code",
   "execution_count": 125,
   "metadata": {},
   "outputs": [
    {
     "data": {
      "text/plain": [
       "285"
      ]
     },
     "execution_count": 125,
     "metadata": {},
     "output_type": "execute_result"
    }
   ],
   "source": [
    "gc.collect()"
   ]
  },
  {
   "cell_type": "markdown",
   "metadata": {},
   "source": [
    "# Question 23: Si vous avez été amené à chercher un emploi, pouvez-vous indiquer les éléments de satisfaction et/ou les difficultés rencontrés en précisant, pour chaque point, l'administration concernée :"
   ]
  },
  {
   "cell_type": "code",
   "execution_count": 126,
   "metadata": {
    "collapsed": true
   },
   "outputs": [],
   "source": [
    "question_23 = \"Si vous avez été amené à chercher un emploi, pouvez-vous indiquer les éléments de satisfaction et/ou les difficultés rencontrés en précisant, pour chaque point, l'administration concernée :\"\n",
    "qu_23,df_qu_23_one_hot,df_cov_23,df_confidence_23,df_lift_23 = compute_similarities(question_23, new_res)"
   ]
  },
  {
   "cell_type": "code",
   "execution_count": 127,
   "metadata": {
    "scrolled": true
   },
   "outputs": [
    {
     "name": "stdout",
     "output_type": "stream",
     "text": [
      "emploi\n"
     ]
    },
    {
     "data": {
      "text/plain": [
       "emploi       5314\n",
       "pole         4601\n",
       "recherche     750\n",
       "travail       643\n",
       "aide          580\n",
       "formation     547\n",
       "trouver       535\n",
       "faire         521\n",
       "jamais        487\n",
       "chomage       431\n",
       "Name: emploi, dtype: uint16"
      ]
     },
     "metadata": {},
     "output_type": "display_data"
    },
    {
     "name": "stdout",
     "output_type": "stream",
     "text": [
      "pole\n"
     ]
    },
    {
     "data": {
      "text/plain": [
       "pole         4684\n",
       "emploi       4601\n",
       "recherche     590\n",
       "travail       586\n",
       "aide          511\n",
       "formation     484\n",
       "faire         458\n",
       "trouver       442\n",
       "jamais        409\n",
       "chomage       384\n",
       "Name: pole, dtype: uint16"
      ]
     },
     "metadata": {},
     "output_type": "display_data"
    },
    {
     "name": "stdout",
     "output_type": "stream",
     "text": [
      "non\n"
     ]
    },
    {
     "data": {
      "text/plain": [
       "non            954\n",
       "emploi         320\n",
       "pole           281\n",
       "concerne       277\n",
       "entreprises      0\n",
       "entreprise       0\n",
       "agents           0\n",
       "trouve           0\n",
       "suivi            0\n",
       "competences      0\n",
       "Name: non, dtype: uint16"
      ]
     },
     "metadata": {},
     "output_type": "display_data"
    },
    {
     "name": "stdout",
     "output_type": "stream",
     "text": [
      "travail\n"
     ]
    },
    {
     "data": {
      "text/plain": [
       "travail      831\n",
       "emploi       643\n",
       "pole         586\n",
       "trouver      198\n",
       "trouve       154\n",
       "faire        145\n",
       "jamais       127\n",
       "aide         122\n",
       "recherche    115\n",
       "chomage      111\n",
       "Name: travail, dtype: uint16"
      ]
     },
     "metadata": {},
     "output_type": "display_data"
    },
    {
     "name": "stdout",
     "output_type": "stream",
     "text": [
      "recherche\n"
     ]
    },
    {
     "data": {
      "text/plain": [
       "recherche    807\n",
       "emploi       750\n",
       "pole         590\n",
       "aide         165\n",
       "travail      115\n",
       "formation    105\n",
       "demande        0\n",
       "aucun          0\n",
       "agents         0\n",
       "trouve         0\n",
       "Name: recherche, dtype: uint16"
      ]
     },
     "metadata": {},
     "output_type": "display_data"
    },
    {
     "name": "stdout",
     "output_type": "stream",
     "text": [
      "aide\n"
     ]
    },
    {
     "data": {
      "text/plain": [
       "aide         695\n",
       "emploi       580\n",
       "pole         511\n",
       "recherche    165\n",
       "travail      122\n",
       "trouver      108\n",
       "demande        0\n",
       "agents         0\n",
       "trouve         0\n",
       "suivi          0\n",
       "Name: aide, dtype: uint16"
      ]
     },
     "metadata": {},
     "output_type": "display_data"
    },
    {
     "name": "stdout",
     "output_type": "stream",
     "text": [
      "formation\n"
     ]
    },
    {
     "data": {
      "text/plain": [
       "formation    683\n",
       "emploi       547\n",
       "pole         484\n",
       "faire        118\n",
       "travail      109\n",
       "recherche    105\n",
       "demande        0\n",
       "agents         0\n",
       "trouve         0\n",
       "suivi          0\n",
       "Name: formation, dtype: uint16"
      ]
     },
     "metadata": {},
     "output_type": "display_data"
    },
    {
     "name": "stdout",
     "output_type": "stream",
     "text": [
      "faire\n"
     ]
    },
    {
     "data": {
      "text/plain": [
       "faire        632\n",
       "emploi       521\n",
       "pole         458\n",
       "travail      145\n",
       "formation    118\n",
       "demande        0\n",
       "aucun          0\n",
       "agents         0\n",
       "trouve         0\n",
       "suivi          0\n",
       "Name: faire, dtype: uint16"
      ]
     },
     "metadata": {},
     "output_type": "display_data"
    },
    {
     "name": "stdout",
     "output_type": "stream",
     "text": [
      "trouver\n"
     ]
    },
    {
     "data": {
      "text/plain": [
       "trouver    614\n",
       "emploi     535\n",
       "pole       442\n",
       "travail    198\n",
       "aide       108\n",
       "jamais     101\n",
       "demande      0\n",
       "aucun        0\n",
       "agents       0\n",
       "trouve       0\n",
       "Name: trouver, dtype: uint16"
      ]
     },
     "metadata": {},
     "output_type": "display_data"
    },
    {
     "name": "stdout",
     "output_type": "stream",
     "text": [
      "concerne\n"
     ]
    },
    {
     "data": {
      "text/plain": [
       "concerne       599\n",
       "non            277\n",
       "entreprises      0\n",
       "entreprise       0\n",
       "pole             0\n",
       "emploi           0\n",
       "agents           0\n",
       "trouve           0\n",
       "suivi            0\n",
       "competences      0\n",
       "Name: concerne, dtype: uint16"
      ]
     },
     "metadata": {},
     "output_type": "display_data"
    },
    {
     "name": "stdout",
     "output_type": "stream",
     "text": [
      "jamais\n"
     ]
    },
    {
     "data": {
      "text/plain": [
       "jamais     595\n",
       "emploi     487\n",
       "pole       409\n",
       "trouve     137\n",
       "travail    127\n",
       "trouver    101\n",
       "demande      0\n",
       "aucun        0\n",
       "agents       0\n",
       "suivi        0\n",
       "Name: jamais, dtype: uint16"
      ]
     },
     "metadata": {},
     "output_type": "display_data"
    },
    {
     "name": "stdout",
     "output_type": "stream",
     "text": [
      "chomage\n"
     ]
    },
    {
     "data": {
      "text/plain": [
       "chomage        585\n",
       "emploi         431\n",
       "pole           384\n",
       "ans            142\n",
       "mois           122\n",
       "travail        111\n",
       "demande          0\n",
       "competences      0\n",
       "agents           0\n",
       "trouve           0\n",
       "Name: chomage, dtype: uint16"
      ]
     },
     "metadata": {},
     "output_type": "display_data"
    },
    {
     "name": "stdout",
     "output_type": "stream",
     "text": [
      "ans\n"
     ]
    },
    {
     "data": {
      "text/plain": [
       "ans           567\n",
       "emploi        405\n",
       "pole          334\n",
       "chomage       142\n",
       "travail       104\n",
       "aucun           0\n",
       "entreprise      0\n",
       "agents          0\n",
       "trouve          0\n",
       "suivi           0\n",
       "Name: ans, dtype: uint16"
      ]
     },
     "metadata": {},
     "output_type": "display_data"
    },
    {
     "name": "stdout",
     "output_type": "stream",
     "text": [
      "tout\n"
     ]
    },
    {
     "data": {
      "text/plain": [
       "tout              530\n",
       "emploi            417\n",
       "pole              358\n",
       "travail           109\n",
       "offres              0\n",
       "chomage             0\n",
       "poste               0\n",
       "service             0\n",
       "emplois             0\n",
       "accompagnement      0\n",
       "Name: tout, dtype: uint16"
      ]
     },
     "metadata": {},
     "output_type": "display_data"
    },
    {
     "name": "stdout",
     "output_type": "stream",
     "text": [
      "trouve\n"
     ]
    },
    {
     "data": {
      "text/plain": [
       "trouve         500\n",
       "emploi         409\n",
       "pole           358\n",
       "travail        154\n",
       "jamais         137\n",
       "aucun            0\n",
       "entreprise       0\n",
       "agents           0\n",
       "suivi            0\n",
       "competences      0\n",
       "Name: trouve, dtype: uint16"
      ]
     },
     "metadata": {},
     "output_type": "display_data"
    },
    {
     "name": "stdout",
     "output_type": "stream",
     "text": [
      "emplois\n"
     ]
    },
    {
     "data": {
      "text/plain": [
       "emplois        463\n",
       "pole           319\n",
       "emploi         308\n",
       "demande          0\n",
       "aucun            0\n",
       "entreprise       0\n",
       "agents           0\n",
       "trouve           0\n",
       "suivi            0\n",
       "competences      0\n",
       "Name: emplois, dtype: uint16"
      ]
     },
     "metadata": {},
     "output_type": "display_data"
    },
    {
     "name": "stdout",
     "output_type": "stream",
     "text": [
      "faut\n"
     ]
    },
    {
     "data": {
      "text/plain": [
       "faut           445\n",
       "emploi         364\n",
       "pole           309\n",
       "demande          0\n",
       "entreprises      0\n",
       "entreprise       0\n",
       "agents           0\n",
       "trouve           0\n",
       "suivi            0\n",
       "competences      0\n",
       "Name: faut, dtype: uint16"
      ]
     },
     "metadata": {},
     "output_type": "display_data"
    },
    {
     "name": "stdout",
     "output_type": "stream",
     "text": [
      "offres\n"
     ]
    },
    {
     "data": {
      "text/plain": [
       "offres         441\n",
       "emploi         378\n",
       "pole           341\n",
       "demande          0\n",
       "aucun            0\n",
       "entreprise       0\n",
       "agents           0\n",
       "trouve           0\n",
       "suivi            0\n",
       "competences      0\n",
       "Name: offres, dtype: uint16"
      ]
     },
     "metadata": {},
     "output_type": "display_data"
    },
    {
     "name": "stdout",
     "output_type": "stream",
     "text": [
      "anpe\n"
     ]
    },
    {
     "data": {
      "text/plain": [
       "anpe           420\n",
       "emploi         190\n",
       "entreprises      0\n",
       "entreprise       0\n",
       "pole             0\n",
       "agents           0\n",
       "trouve           0\n",
       "suivi            0\n",
       "competences      0\n",
       "aucun            0\n",
       "Name: anpe, dtype: uint16"
      ]
     },
     "metadata": {},
     "output_type": "display_data"
    },
    {
     "name": "stdout",
     "output_type": "stream",
     "text": [
      "temps\n"
     ]
    },
    {
     "data": {
      "text/plain": [
       "temps          395\n",
       "emploi         320\n",
       "pole           278\n",
       "demande          0\n",
       "entreprises      0\n",
       "entreprise       0\n",
       "agents           0\n",
       "trouve           0\n",
       "suivi            0\n",
       "competences      0\n",
       "Name: temps, dtype: uint16"
      ]
     },
     "metadata": {},
     "output_type": "display_data"
    }
   ],
   "source": [
    "for i in df_qu_23_one_hot.sum(axis=0).sort_values(ascending=False).head(20).index:\n",
    "    print(i)\n",
    "    display(df_cov_23[i].sort_values(ascending=False).head(10))"
   ]
  },
  {
   "cell_type": "code",
   "execution_count": 128,
   "metadata": {
    "scrolled": true
   },
   "outputs": [
    {
     "name": "stdout",
     "output_type": "stream",
     "text": [
      "emploi\n"
     ]
    },
    {
     "data": {
      "text/plain": [
       "emploi         1.000000\n",
       "pole           0.982280\n",
       "demandeurs     0.959854\n",
       "recherche      0.929368\n",
       "site           0.914062\n",
       "conseiller     0.889680\n",
       "propose        0.881657\n",
       "trouver        0.871336\n",
       "conseillers    0.868966\n",
       "aider          0.868421\n",
       "Name: emploi, dtype: float32"
      ]
     },
     "metadata": {},
     "output_type": "display_data"
    },
    {
     "name": "stdout",
     "output_type": "stream",
     "text": [
      "pole\n"
     ]
    },
    {
     "data": {
      "text/plain": [
       "pole           1.000000\n",
       "site           0.871094\n",
       "emploi         0.865826\n",
       "agents         0.839117\n",
       "conseiller     0.829181\n",
       "demandeurs     0.828467\n",
       "conseillers    0.824138\n",
       "propose        0.810651\n",
       "aider          0.785714\n",
       "chomeurs       0.782759\n",
       "Name: pole, dtype: float32"
      ]
     },
     "metadata": {},
     "output_type": "display_data"
    },
    {
     "name": "stdout",
     "output_type": "stream",
     "text": [
      "non\n"
     ]
    },
    {
     "data": {
      "text/plain": [
       "non            1.000000\n",
       "concerne       0.462437\n",
       "emploi         0.060218\n",
       "pole           0.059991\n",
       "entreprises    0.000000\n",
       "entreprise     0.000000\n",
       "agents         0.000000\n",
       "trouve         0.000000\n",
       "suivi          0.000000\n",
       "competences    0.000000\n",
       "Name: non, dtype: float32"
      ]
     },
     "metadata": {},
     "output_type": "display_data"
    },
    {
     "name": "stdout",
     "output_type": "stream",
     "text": [
      "travail\n"
     ]
    },
    {
     "data": {
      "text/plain": [
       "travail      1.000000\n",
       "trouver      0.322476\n",
       "trouve       0.308000\n",
       "faire        0.229430\n",
       "jamais       0.213445\n",
       "tout         0.205660\n",
       "chomage      0.189744\n",
       "ans          0.183422\n",
       "aide         0.175540\n",
       "formation    0.159590\n",
       "Name: travail, dtype: float32"
      ]
     },
     "metadata": {},
     "output_type": "display_data"
    },
    {
     "name": "stdout",
     "output_type": "stream",
     "text": [
      "recherche\n"
     ]
    },
    {
     "data": {
      "text/plain": [
       "recherche    1.000000\n",
       "aide         0.237410\n",
       "formation    0.153734\n",
       "emploi       0.141137\n",
       "travail      0.138387\n",
       "pole         0.125961\n",
       "demande      0.000000\n",
       "aucun        0.000000\n",
       "agents       0.000000\n",
       "trouve       0.000000\n",
       "Name: recherche, dtype: float32"
      ]
     },
     "metadata": {},
     "output_type": "display_data"
    },
    {
     "name": "stdout",
     "output_type": "stream",
     "text": [
      "aide\n"
     ]
    },
    {
     "data": {
      "text/plain": [
       "aide         1.000000\n",
       "recherche    0.204461\n",
       "trouver      0.175896\n",
       "travail      0.146811\n",
       "emploi       0.109146\n",
       "pole         0.109095\n",
       "demande      0.000000\n",
       "agents       0.000000\n",
       "trouve       0.000000\n",
       "suivi        0.000000\n",
       "Name: aide, dtype: float32"
      ]
     },
     "metadata": {},
     "output_type": "display_data"
    },
    {
     "name": "stdout",
     "output_type": "stream",
     "text": [
      "formation\n"
     ]
    },
    {
     "data": {
      "text/plain": [
       "formation    1.000000\n",
       "faire        0.186709\n",
       "travail      0.131167\n",
       "recherche    0.130112\n",
       "pole         0.103330\n",
       "emploi       0.102936\n",
       "demande      0.000000\n",
       "agents       0.000000\n",
       "trouve       0.000000\n",
       "suivi        0.000000\n",
       "Name: formation, dtype: float32"
      ]
     },
     "metadata": {},
     "output_type": "display_data"
    },
    {
     "name": "stdout",
     "output_type": "stream",
     "text": [
      "faire\n"
     ]
    },
    {
     "data": {
      "text/plain": [
       "faire        1.000000\n",
       "travail      0.174489\n",
       "formation    0.172767\n",
       "emploi       0.098043\n",
       "pole         0.097780\n",
       "demande      0.000000\n",
       "aucun        0.000000\n",
       "agents       0.000000\n",
       "trouve       0.000000\n",
       "suivi        0.000000\n",
       "Name: faire, dtype: float32"
      ]
     },
     "metadata": {},
     "output_type": "display_data"
    },
    {
     "name": "stdout",
     "output_type": "stream",
     "text": [
      "trouver\n"
     ]
    },
    {
     "data": {
      "text/plain": [
       "trouver    1.000000\n",
       "travail    0.238267\n",
       "jamais     0.169748\n",
       "aide       0.155396\n",
       "emploi     0.100677\n",
       "pole       0.094364\n",
       "demande    0.000000\n",
       "aucun      0.000000\n",
       "agents     0.000000\n",
       "trouve     0.000000\n",
       "Name: trouver, dtype: float32"
      ]
     },
     "metadata": {},
     "output_type": "display_data"
    },
    {
     "name": "stdout",
     "output_type": "stream",
     "text": [
      "concerne\n"
     ]
    },
    {
     "data": {
      "text/plain": [
       "concerne       1.000000\n",
       "non            0.290356\n",
       "entreprises    0.000000\n",
       "entreprise     0.000000\n",
       "pole           0.000000\n",
       "emploi         0.000000\n",
       "agents         0.000000\n",
       "trouve         0.000000\n",
       "suivi          0.000000\n",
       "competences    0.000000\n",
       "Name: concerne, dtype: float32"
      ]
     },
     "metadata": {},
     "output_type": "display_data"
    },
    {
     "name": "stdout",
     "output_type": "stream",
     "text": [
      "jamais\n"
     ]
    },
    {
     "data": {
      "text/plain": [
       "jamais     1.000000\n",
       "trouve     0.274000\n",
       "trouver    0.164495\n",
       "travail    0.152828\n",
       "emploi     0.091645\n",
       "pole       0.087319\n",
       "demande    0.000000\n",
       "aucun      0.000000\n",
       "agents     0.000000\n",
       "suivi      0.000000\n",
       "Name: jamais, dtype: float32"
      ]
     },
     "metadata": {},
     "output_type": "display_data"
    },
    {
     "name": "stdout",
     "output_type": "stream",
     "text": [
      "chomage\n"
     ]
    },
    {
     "data": {
      "text/plain": [
       "chomage        1.000000\n",
       "mois           0.329730\n",
       "ans            0.250441\n",
       "travail        0.133574\n",
       "pole           0.081981\n",
       "emploi         0.081107\n",
       "demande        0.000000\n",
       "competences    0.000000\n",
       "agents         0.000000\n",
       "trouve         0.000000\n",
       "Name: chomage, dtype: float32"
      ]
     },
     "metadata": {},
     "output_type": "display_data"
    },
    {
     "name": "stdout",
     "output_type": "stream",
     "text": [
      "ans\n"
     ]
    },
    {
     "data": {
      "text/plain": [
       "ans           1.000000\n",
       "chomage       0.242735\n",
       "travail       0.125150\n",
       "emploi        0.076214\n",
       "pole          0.071307\n",
       "aucun         0.000000\n",
       "entreprise    0.000000\n",
       "agents        0.000000\n",
       "trouve        0.000000\n",
       "suivi         0.000000\n",
       "Name: ans, dtype: float32"
      ]
     },
     "metadata": {},
     "output_type": "display_data"
    },
    {
     "name": "stdout",
     "output_type": "stream",
     "text": [
      "tout\n"
     ]
    },
    {
     "data": {
      "text/plain": [
       "tout          1.000000\n",
       "travail       0.131167\n",
       "emploi        0.078472\n",
       "pole          0.076430\n",
       "demandeurs    0.000000\n",
       "conseiller    0.000000\n",
       "entreprise    0.000000\n",
       "agents        0.000000\n",
       "trouve        0.000000\n",
       "suivi         0.000000\n",
       "Name: tout, dtype: float32"
      ]
     },
     "metadata": {},
     "output_type": "display_data"
    },
    {
     "name": "stdout",
     "output_type": "stream",
     "text": [
      "trouve\n"
     ]
    },
    {
     "data": {
      "text/plain": [
       "trouve         1.000000\n",
       "jamais         0.230252\n",
       "travail        0.185319\n",
       "emploi         0.076967\n",
       "pole           0.076430\n",
       "aucun          0.000000\n",
       "entreprise     0.000000\n",
       "agents         0.000000\n",
       "suivi          0.000000\n",
       "competences    0.000000\n",
       "Name: trouve, dtype: float32"
      ]
     },
     "metadata": {},
     "output_type": "display_data"
    },
    {
     "name": "stdout",
     "output_type": "stream",
     "text": [
      "emplois\n"
     ]
    },
    {
     "data": {
      "text/plain": [
       "emplois        1.000000\n",
       "pole           0.068104\n",
       "emploi         0.057960\n",
       "demande        0.000000\n",
       "aucun          0.000000\n",
       "entreprise     0.000000\n",
       "agents         0.000000\n",
       "trouve         0.000000\n",
       "suivi          0.000000\n",
       "competences    0.000000\n",
       "Name: emplois, dtype: float32"
      ]
     },
     "metadata": {},
     "output_type": "display_data"
    },
    {
     "name": "stdout",
     "output_type": "stream",
     "text": [
      "faut\n"
     ]
    },
    {
     "data": {
      "text/plain": [
       "faut           1.000000\n",
       "emploi         0.068498\n",
       "pole           0.065969\n",
       "demande        0.000000\n",
       "entreprises    0.000000\n",
       "entreprise     0.000000\n",
       "agents         0.000000\n",
       "trouve         0.000000\n",
       "suivi          0.000000\n",
       "competences    0.000000\n",
       "Name: faut, dtype: float32"
      ]
     },
     "metadata": {},
     "output_type": "display_data"
    },
    {
     "name": "stdout",
     "output_type": "stream",
     "text": [
      "offres\n"
     ]
    },
    {
     "data": {
      "text/plain": [
       "offres         1.000000\n",
       "pole           0.072801\n",
       "emploi         0.071133\n",
       "demande        0.000000\n",
       "aucun          0.000000\n",
       "entreprise     0.000000\n",
       "agents         0.000000\n",
       "trouve         0.000000\n",
       "suivi          0.000000\n",
       "competences    0.000000\n",
       "Name: offres, dtype: float32"
      ]
     },
     "metadata": {},
     "output_type": "display_data"
    },
    {
     "name": "stdout",
     "output_type": "stream",
     "text": [
      "anpe\n"
     ]
    },
    {
     "data": {
      "text/plain": [
       "anpe           1.000000\n",
       "emploi         0.035755\n",
       "entreprises    0.000000\n",
       "entreprise     0.000000\n",
       "pole           0.000000\n",
       "agents         0.000000\n",
       "trouve         0.000000\n",
       "suivi          0.000000\n",
       "competences    0.000000\n",
       "aucun          0.000000\n",
       "Name: anpe, dtype: float32"
      ]
     },
     "metadata": {},
     "output_type": "display_data"
    },
    {
     "name": "stdout",
     "output_type": "stream",
     "text": [
      "temps\n"
     ]
    },
    {
     "data": {
      "text/plain": [
       "temps          1.000000\n",
       "emploi         0.060218\n",
       "pole           0.059351\n",
       "demande        0.000000\n",
       "entreprises    0.000000\n",
       "entreprise     0.000000\n",
       "agents         0.000000\n",
       "trouve         0.000000\n",
       "suivi          0.000000\n",
       "competences    0.000000\n",
       "Name: temps, dtype: float32"
      ]
     },
     "metadata": {},
     "output_type": "display_data"
    }
   ],
   "source": [
    "for i in df_qu_23_one_hot.sum(axis=0).sort_values(ascending=False).head(20).index:\n",
    "    print(i)\n",
    "    display(df_confidence_23[i].sort_values(ascending=False).head(10))"
   ]
  },
  {
   "cell_type": "code",
   "execution_count": 129,
   "metadata": {
    "scrolled": true
   },
   "outputs": [
    {
     "name": "stdout",
     "output_type": "stream",
     "text": [
      "emploi\n"
     ]
    },
    {
     "data": {
      "text/plain": [
       "emploi         0.000188\n",
       "pole           0.000185\n",
       "demandeurs     0.000181\n",
       "recherche      0.000175\n",
       "site           0.000172\n",
       "conseiller     0.000167\n",
       "propose        0.000166\n",
       "trouver        0.000164\n",
       "conseillers    0.000164\n",
       "aider          0.000163\n",
       "Name: emploi, dtype: float32"
      ]
     },
     "metadata": {},
     "output_type": "display_data"
    },
    {
     "name": "stdout",
     "output_type": "stream",
     "text": [
      "pole\n"
     ]
    },
    {
     "data": {
      "text/plain": [
       "pole           0.000213\n",
       "site           0.000186\n",
       "emploi         0.000185\n",
       "agents         0.000179\n",
       "conseiller     0.000177\n",
       "demandeurs     0.000177\n",
       "conseillers    0.000176\n",
       "propose        0.000173\n",
       "aider          0.000168\n",
       "chomeurs       0.000167\n",
       "Name: pole, dtype: float32"
      ]
     },
     "metadata": {},
     "output_type": "display_data"
    },
    {
     "name": "stdout",
     "output_type": "stream",
     "text": [
      "non\n"
     ]
    },
    {
     "data": {
      "text/plain": [
       "non           0.001048\n",
       "concerne      0.000485\n",
       "emploi        0.000063\n",
       "pole          0.000063\n",
       "demandeurs         NaN\n",
       "conseiller         NaN\n",
       "offres             NaN\n",
       "chomage            NaN\n",
       "poste              NaN\n",
       "service            NaN\n",
       "Name: non, dtype: float32"
      ]
     },
     "metadata": {},
     "output_type": "display_data"
    },
    {
     "name": "stdout",
     "output_type": "stream",
     "text": [
      "travail\n"
     ]
    },
    {
     "data": {
      "text/plain": [
       "travail      0.001203\n",
       "trouver      0.000388\n",
       "trouve       0.000371\n",
       "faire        0.000276\n",
       "jamais       0.000257\n",
       "tout         0.000247\n",
       "chomage      0.000228\n",
       "ans          0.000221\n",
       "aide         0.000211\n",
       "formation    0.000192\n",
       "Name: travail, dtype: float32"
      ]
     },
     "metadata": {},
     "output_type": "display_data"
    },
    {
     "name": "stdout",
     "output_type": "stream",
     "text": [
      "recherche\n"
     ]
    },
    {
     "data": {
      "text/plain": [
       "recherche     0.001239\n",
       "aide          0.000294\n",
       "formation     0.000191\n",
       "emploi        0.000175\n",
       "travail       0.000171\n",
       "pole          0.000156\n",
       "non                NaN\n",
       "demandeurs         NaN\n",
       "conseiller         NaN\n",
       "offres             NaN\n",
       "Name: recherche, dtype: float32"
      ]
     },
     "metadata": {},
     "output_type": "display_data"
    },
    {
     "name": "stdout",
     "output_type": "stream",
     "text": [
      "aide\n"
     ]
    },
    {
     "data": {
      "text/plain": [
       "aide          0.001439\n",
       "recherche     0.000294\n",
       "trouver       0.000253\n",
       "travail       0.000211\n",
       "emploi        0.000157\n",
       "pole          0.000157\n",
       "non                NaN\n",
       "demandeurs         NaN\n",
       "conseiller         NaN\n",
       "offres             NaN\n",
       "Name: aide, dtype: float32"
      ]
     },
     "metadata": {},
     "output_type": "display_data"
    },
    {
     "name": "stdout",
     "output_type": "stream",
     "text": [
      "formation\n"
     ]
    },
    {
     "data": {
      "text/plain": [
       "formation     0.001464\n",
       "faire         0.000273\n",
       "travail       0.000192\n",
       "recherche     0.000191\n",
       "pole          0.000151\n",
       "emploi        0.000151\n",
       "non                NaN\n",
       "demandeurs         NaN\n",
       "conseiller         NaN\n",
       "offres             NaN\n",
       "Name: formation, dtype: float32"
      ]
     },
     "metadata": {},
     "output_type": "display_data"
    },
    {
     "name": "stdout",
     "output_type": "stream",
     "text": [
      "faire\n"
     ]
    },
    {
     "data": {
      "text/plain": [
       "faire         0.001582\n",
       "travail       0.000276\n",
       "formation     0.000273\n",
       "emploi        0.000155\n",
       "pole          0.000155\n",
       "non                NaN\n",
       "demandeurs         NaN\n",
       "conseiller         NaN\n",
       "offres             NaN\n",
       "chomage            NaN\n",
       "Name: faire, dtype: float32"
      ]
     },
     "metadata": {},
     "output_type": "display_data"
    },
    {
     "name": "stdout",
     "output_type": "stream",
     "text": [
      "trouver\n"
     ]
    },
    {
     "data": {
      "text/plain": [
       "trouver       0.001629\n",
       "travail       0.000388\n",
       "jamais        0.000276\n",
       "aide          0.000253\n",
       "emploi        0.000164\n",
       "pole          0.000154\n",
       "non                NaN\n",
       "demandeurs         NaN\n",
       "conseiller         NaN\n",
       "offres             NaN\n",
       "Name: trouver, dtype: float32"
      ]
     },
     "metadata": {},
     "output_type": "display_data"
    },
    {
     "name": "stdout",
     "output_type": "stream",
     "text": [
      "concerne\n"
     ]
    },
    {
     "data": {
      "text/plain": [
       "concerne          0.001669\n",
       "non               0.000485\n",
       "demandeurs             NaN\n",
       "conseiller             NaN\n",
       "offres                 NaN\n",
       "chomage                NaN\n",
       "poste                  NaN\n",
       "service                NaN\n",
       "emplois                NaN\n",
       "accompagnement         NaN\n",
       "Name: concerne, dtype: float32"
      ]
     },
     "metadata": {},
     "output_type": "display_data"
    },
    {
     "name": "stdout",
     "output_type": "stream",
     "text": [
      "jamais\n"
     ]
    },
    {
     "data": {
      "text/plain": [
       "jamais        0.001681\n",
       "trouve        0.000461\n",
       "trouver       0.000276\n",
       "travail       0.000257\n",
       "emploi        0.000154\n",
       "pole          0.000147\n",
       "non                NaN\n",
       "demandeurs         NaN\n",
       "conseiller         NaN\n",
       "offres             NaN\n",
       "Name: jamais, dtype: float32"
      ]
     },
     "metadata": {},
     "output_type": "display_data"
    },
    {
     "name": "stdout",
     "output_type": "stream",
     "text": [
      "chomage\n"
     ]
    },
    {
     "data": {
      "text/plain": [
       "chomage       0.001709\n",
       "mois          0.000564\n",
       "ans           0.000428\n",
       "travail       0.000228\n",
       "pole          0.000140\n",
       "emploi        0.000139\n",
       "non                NaN\n",
       "demandeurs         NaN\n",
       "conseiller         NaN\n",
       "offres             NaN\n",
       "Name: chomage, dtype: float32"
      ]
     },
     "metadata": {},
     "output_type": "display_data"
    },
    {
     "name": "stdout",
     "output_type": "stream",
     "text": [
      "ans\n"
     ]
    },
    {
     "data": {
      "text/plain": [
       "ans           0.001764\n",
       "chomage       0.000428\n",
       "travail       0.000221\n",
       "emploi        0.000134\n",
       "pole          0.000126\n",
       "non                NaN\n",
       "demandeurs         NaN\n",
       "conseiller         NaN\n",
       "offres             NaN\n",
       "poste              NaN\n",
       "Name: ans, dtype: float32"
      ]
     },
     "metadata": {},
     "output_type": "display_data"
    },
    {
     "name": "stdout",
     "output_type": "stream",
     "text": [
      "tout\n"
     ]
    },
    {
     "data": {
      "text/plain": [
       "tout          0.001887\n",
       "travail       0.000247\n",
       "emploi        0.000148\n",
       "pole          0.000144\n",
       "non                NaN\n",
       "demandeurs         NaN\n",
       "conseiller         NaN\n",
       "offres             NaN\n",
       "chomage            NaN\n",
       "poste              NaN\n",
       "Name: tout, dtype: float32"
      ]
     },
     "metadata": {},
     "output_type": "display_data"
    },
    {
     "name": "stdout",
     "output_type": "stream",
     "text": [
      "trouve\n"
     ]
    },
    {
     "data": {
      "text/plain": [
       "trouve        0.002000\n",
       "jamais        0.000461\n",
       "travail       0.000371\n",
       "emploi        0.000154\n",
       "pole          0.000153\n",
       "non                NaN\n",
       "demandeurs         NaN\n",
       "conseiller         NaN\n",
       "offres             NaN\n",
       "chomage            NaN\n",
       "Name: trouve, dtype: float32"
      ]
     },
     "metadata": {},
     "output_type": "display_data"
    },
    {
     "name": "stdout",
     "output_type": "stream",
     "text": [
      "emplois\n"
     ]
    },
    {
     "data": {
      "text/plain": [
       "emplois       0.002160\n",
       "pole          0.000147\n",
       "emploi        0.000125\n",
       "non                NaN\n",
       "demandeurs         NaN\n",
       "conseiller         NaN\n",
       "offres             NaN\n",
       "chomage            NaN\n",
       "poste              NaN\n",
       "service            NaN\n",
       "Name: emplois, dtype: float32"
      ]
     },
     "metadata": {},
     "output_type": "display_data"
    },
    {
     "name": "stdout",
     "output_type": "stream",
     "text": [
      "faut\n"
     ]
    },
    {
     "data": {
      "text/plain": [
       "faut          0.002247\n",
       "emploi        0.000154\n",
       "pole          0.000148\n",
       "non                NaN\n",
       "demandeurs         NaN\n",
       "conseiller         NaN\n",
       "offres             NaN\n",
       "chomage            NaN\n",
       "poste              NaN\n",
       "service            NaN\n",
       "Name: faut, dtype: float32"
      ]
     },
     "metadata": {},
     "output_type": "display_data"
    },
    {
     "name": "stdout",
     "output_type": "stream",
     "text": [
      "offres\n"
     ]
    },
    {
     "data": {
      "text/plain": [
       "offres        0.002268\n",
       "pole          0.000165\n",
       "emploi        0.000161\n",
       "non                NaN\n",
       "demandeurs         NaN\n",
       "conseiller         NaN\n",
       "chomage            NaN\n",
       "poste              NaN\n",
       "service            NaN\n",
       "emplois            NaN\n",
       "Name: offres, dtype: float32"
      ]
     },
     "metadata": {},
     "output_type": "display_data"
    },
    {
     "name": "stdout",
     "output_type": "stream",
     "text": [
      "anpe\n"
     ]
    },
    {
     "data": {
      "text/plain": [
       "anpe          0.002381\n",
       "emploi        0.000085\n",
       "non                NaN\n",
       "demandeurs         NaN\n",
       "conseiller         NaN\n",
       "offres             NaN\n",
       "chomage            NaN\n",
       "poste              NaN\n",
       "service            NaN\n",
       "emplois            NaN\n",
       "Name: anpe, dtype: float32"
      ]
     },
     "metadata": {},
     "output_type": "display_data"
    },
    {
     "name": "stdout",
     "output_type": "stream",
     "text": [
      "temps\n"
     ]
    },
    {
     "data": {
      "text/plain": [
       "temps         0.002532\n",
       "emploi        0.000152\n",
       "pole          0.000150\n",
       "non                NaN\n",
       "demandeurs         NaN\n",
       "conseiller         NaN\n",
       "offres             NaN\n",
       "chomage            NaN\n",
       "poste              NaN\n",
       "service            NaN\n",
       "Name: temps, dtype: float32"
      ]
     },
     "metadata": {},
     "output_type": "display_data"
    }
   ],
   "source": [
    "for i in df_qu_23_one_hot.sum(axis=0).sort_values(ascending=False).head(20).index:\n",
    "    print(i)\n",
    "    display(df_lift_23[i].sort_values(ascending=False).head(10))"
   ]
  },
  {
   "cell_type": "code",
   "execution_count": 130,
   "metadata": {},
   "outputs": [
    {
     "data": {
      "text/plain": [
       "294"
      ]
     },
     "execution_count": 130,
     "metadata": {},
     "output_type": "execute_result"
    }
   ],
   "source": [
    "gc.collect()"
   ]
  },
  {
   "cell_type": "markdown",
   "metadata": {},
   "source": [
    "# Question 24:  Si vous avez été amené à préparer votre retraite, pouvez-vous indiquer les éléments de satisfaction et/ou les difficultés rencontrés en précisant, pour chaque point, l'administration concernée :"
   ]
  },
  {
   "cell_type": "code",
   "execution_count": 131,
   "metadata": {
    "collapsed": true
   },
   "outputs": [],
   "source": [
    "question_24 = \"Si vous avez été amené à préparer votre retraite, pouvez-vous indiquer les éléments de satisfaction et/ou les difficultés rencontrés en précisant, pour chaque point, l'administration concernée :\"\n",
    "qu_24,df_qu_24_one_hot,df_cov_24,df_confidence_24,df_lift_24 = compute_similarities(question_24, new_res)"
   ]
  },
  {
   "cell_type": "code",
   "execution_count": 132,
   "metadata": {
    "scrolled": true
   },
   "outputs": [
    {
     "name": "stdout",
     "output_type": "stream",
     "text": [
      "retraite\n"
     ]
    },
    {
     "data": {
      "text/plain": [
       "retraite    3799\n",
       "dossier      705\n",
       "ans          579\n",
       "mois         494\n",
       "demande      423\n",
       "tout         395\n",
       "carsat       377\n",
       "faire        376\n",
       "carriere     351\n",
       "caisses      332\n",
       "Name: retraite, dtype: uint16"
      ]
     },
     "metadata": {},
     "output_type": "display_data"
    },
    {
     "name": "stdout",
     "output_type": "stream",
     "text": [
      "dossier\n"
     ]
    },
    {
     "data": {
      "text/plain": [
       "dossier     1335\n",
       "retraite     705\n",
       "mois         270\n",
       "carsat       255\n",
       "demande      205\n",
       "faire        154\n",
       "tout         153\n",
       "internet     149\n",
       "ans          149\n",
       "cnav         148\n",
       "Name: dossier, dtype: uint16"
      ]
     },
     "metadata": {},
     "output_type": "display_data"
    },
    {
     "name": "stdout",
     "output_type": "stream",
     "text": [
      "carsat\n"
     ]
    },
    {
     "data": {
      "text/plain": [
       "carsat            1013\n",
       "retraite           377\n",
       "dossier            255\n",
       "mois               138\n",
       "demande            118\n",
       "compte               0\n",
       "arrco                0\n",
       "information          0\n",
       "complementaire       0\n",
       "informations         0\n",
       "Name: carsat, dtype: uint16"
      ]
     },
     "metadata": {},
     "output_type": "display_data"
    },
    {
     "name": "stdout",
     "output_type": "stream",
     "text": [
      "ans\n"
     ]
    },
    {
     "data": {
      "text/plain": [
       "ans           935\n",
       "retraite      579\n",
       "carriere      158\n",
       "dossier       149\n",
       "faire         143\n",
       "tout          132\n",
       "mois          115\n",
       "demande       101\n",
       "2               0\n",
       "impossible      0\n",
       "Name: ans, dtype: uint16"
      ]
     },
     "metadata": {},
     "output_type": "display_data"
    },
    {
     "name": "stdout",
     "output_type": "stream",
     "text": [
      "tout\n"
     ]
    },
    {
     "data": {
      "text/plain": [
       "tout        904\n",
       "retraite    395\n",
       "dossier     153\n",
       "internet    132\n",
       "ans         132\n",
       "faire       104\n",
       "long          0\n",
       "agirc         0\n",
       "travail       0\n",
       "6             0\n",
       "Name: tout, dtype: uint16"
      ]
     },
     "metadata": {},
     "output_type": "display_data"
    },
    {
     "name": "stdout",
     "output_type": "stream",
     "text": [
      "carriere\n"
     ]
    },
    {
     "data": {
      "text/plain": [
       "carriere        778\n",
       "retraite        351\n",
       "ans             158\n",
       "dossier         114\n",
       "demande           0\n",
       "aucun             0\n",
       "informations      0\n",
       "tout              0\n",
       "agirc             0\n",
       "travail           0\n",
       "Name: carriere, dtype: uint16"
      ]
     },
     "metadata": {},
     "output_type": "display_data"
    },
    {
     "name": "stdout",
     "output_type": "stream",
     "text": [
      "mois\n"
     ]
    },
    {
     "data": {
      "text/plain": [
       "mois          725\n",
       "retraite      494\n",
       "dossier       270\n",
       "6             247\n",
       "demande       162\n",
       "carsat        138\n",
       "ans           115\n",
       "reponse       105\n",
       "depart        104\n",
       "trimestres      0\n",
       "Name: mois, dtype: uint16"
      ]
     },
     "metadata": {},
     "output_type": "display_data"
    },
    {
     "name": "stdout",
     "output_type": "stream",
     "text": [
      "non\n"
     ]
    },
    {
     "data": {
      "text/plain": [
       "non             706\n",
       "retraite        196\n",
       "concerne        146\n",
       "long              0\n",
       "informations      0\n",
       "tout              0\n",
       "agirc             0\n",
       "travail           0\n",
       "6                 0\n",
       "retraites         0\n",
       "Name: non, dtype: uint16"
      ]
     },
     "metadata": {},
     "output_type": "display_data"
    },
    {
     "name": "stdout",
     "output_type": "stream",
     "text": [
      "probleme\n"
     ]
    },
    {
     "data": {
      "text/plain": [
       "probleme        697\n",
       "aucun           314\n",
       "retraite        255\n",
       "demande           0\n",
       "dossiers          0\n",
       "informations      0\n",
       "tout              0\n",
       "agirc             0\n",
       "travail           0\n",
       "6                 0\n",
       "Name: probleme, dtype: uint16"
      ]
     },
     "metadata": {},
     "output_type": "display_data"
    },
    {
     "name": "stdout",
     "output_type": "stream",
     "text": [
      "demande\n"
     ]
    },
    {
     "data": {
      "text/plain": [
       "demande      680\n",
       "retraite     423\n",
       "dossier      205\n",
       "mois         162\n",
       "carsat       118\n",
       "internet     109\n",
       "documents    104\n",
       "faire        103\n",
       "ans          101\n",
       "annees         0\n",
       "Name: demande, dtype: uint16"
      ]
     },
     "metadata": {},
     "output_type": "display_data"
    },
    {
     "name": "stdout",
     "output_type": "stream",
     "text": [
      "internet\n"
     ]
    },
    {
     "data": {
      "text/plain": [
       "internet    679\n",
       "retraite    265\n",
       "site        157\n",
       "dossier     149\n",
       "tout        132\n",
       "demande     109\n",
       "long          0\n",
       "agirc         0\n",
       "travail       0\n",
       "6             0\n",
       "Name: internet, dtype: uint16"
      ]
     },
     "metadata": {},
     "output_type": "display_data"
    },
    {
     "name": "stdout",
     "output_type": "stream",
     "text": [
      "faire\n"
     ]
    },
    {
     "data": {
      "text/plain": [
       "faire        664\n",
       "retraite     376\n",
       "dossier      154\n",
       "ans          143\n",
       "tout         104\n",
       "demande      103\n",
       "agirc          0\n",
       "travail        0\n",
       "6              0\n",
       "retraites      0\n",
       "Name: faire, dtype: uint16"
      ]
     },
     "metadata": {},
     "output_type": "display_data"
    },
    {
     "name": "stdout",
     "output_type": "stream",
     "text": [
      "cnav\n"
     ]
    },
    {
     "data": {
      "text/plain": [
       "cnav            653\n",
       "retraite        241\n",
       "dossier         148\n",
       "agirc           119\n",
       "demande           0\n",
       "dossiers          0\n",
       "informations      0\n",
       "tout              0\n",
       "travail           0\n",
       "6                 0\n",
       "Name: cnav, dtype: uint16"
      ]
     },
     "metadata": {},
     "output_type": "display_data"
    },
    {
     "name": "stdout",
     "output_type": "stream",
     "text": [
      "retraites\n"
     ]
    },
    {
     "data": {
      "text/plain": [
       "retraites          647\n",
       "retraite           277\n",
       "complementaires    137\n",
       "caisses            104\n",
       "demande              0\n",
       "aucun                0\n",
       "informations         0\n",
       "tout                 0\n",
       "agirc                0\n",
       "travail              0\n",
       "Name: retraites, dtype: uint16"
      ]
     },
     "metadata": {},
     "output_type": "display_data"
    },
    {
     "name": "stdout",
     "output_type": "stream",
     "text": [
      "caisses\n"
     ]
    },
    {
     "data": {
      "text/plain": [
       "caisses            571\n",
       "retraite           332\n",
       "complementaires    146\n",
       "dossier            118\n",
       "retraites          104\n",
       "demande              0\n",
       "aucun                0\n",
       "tout                 0\n",
       "agirc                0\n",
       "travail              0\n",
       "Name: caisses, dtype: uint16"
      ]
     },
     "metadata": {},
     "output_type": "display_data"
    },
    {
     "name": "stdout",
     "output_type": "stream",
     "text": [
      "difficulte\n"
     ]
    },
    {
     "data": {
      "text/plain": [
       "difficulte      565\n",
       "retraite        198\n",
       "demande           0\n",
       "long              0\n",
       "informations      0\n",
       "tout              0\n",
       "agirc             0\n",
       "travail           0\n",
       "6                 0\n",
       "retraites         0\n",
       "Name: difficulte, dtype: uint16"
      ]
     },
     "metadata": {},
     "output_type": "display_data"
    },
    {
     "name": "stdout",
     "output_type": "stream",
     "text": [
      "aucun\n"
     ]
    },
    {
     "data": {
      "text/plain": [
       "aucun           544\n",
       "probleme        314\n",
       "retraite        218\n",
       "demande           0\n",
       "dossiers          0\n",
       "informations      0\n",
       "tout              0\n",
       "agirc             0\n",
       "travail           0\n",
       "6                 0\n",
       "Name: aucun, dtype: uint16"
      ]
     },
     "metadata": {},
     "output_type": "display_data"
    },
    {
     "name": "stdout",
     "output_type": "stream",
     "text": [
      "site\n"
     ]
    },
    {
     "data": {
      "text/plain": [
       "site            513\n",
       "retraite        227\n",
       "internet        157\n",
       "demande           0\n",
       "long              0\n",
       "informations      0\n",
       "tout              0\n",
       "agirc             0\n",
       "travail           0\n",
       "6                 0\n",
       "Name: site, dtype: uint16"
      ]
     },
     "metadata": {},
     "output_type": "display_data"
    },
    {
     "name": "stdout",
     "output_type": "stream",
     "text": [
      "services\n"
     ]
    },
    {
     "data": {
      "text/plain": [
       "services        495\n",
       "retraite        227\n",
       "mois              0\n",
       "information       0\n",
       "informations      0\n",
       "tout              0\n",
       "agirc             0\n",
       "travail           0\n",
       "6                 0\n",
       "retraites         0\n",
       "Name: services, dtype: uint16"
      ]
     },
     "metadata": {},
     "output_type": "display_data"
    },
    {
     "name": "stdout",
     "output_type": "stream",
     "text": [
      "service\n"
     ]
    },
    {
     "data": {
      "text/plain": [
       "service         493\n",
       "retraite        211\n",
       "demande           0\n",
       "aucun             0\n",
       "information       0\n",
       "informations      0\n",
       "tout              0\n",
       "agirc             0\n",
       "travail           0\n",
       "6                 0\n",
       "Name: service, dtype: uint16"
      ]
     },
     "metadata": {},
     "output_type": "display_data"
    }
   ],
   "source": [
    "for i in df_qu_24_one_hot.sum(axis=0).sort_values(ascending=False).head(20).index:\n",
    "    print(i)\n",
    "    display(df_cov_24[i].sort_values(ascending=False).head(10))"
   ]
  },
  {
   "cell_type": "code",
   "execution_count": 133,
   "metadata": {
    "scrolled": true
   },
   "outputs": [
    {
     "name": "stdout",
     "output_type": "stream",
     "text": [
      "retraite\n"
     ]
    },
    {
     "data": {
      "text/plain": [
       "retraite          1.000000\n",
       "preparer          0.869048\n",
       "complementaire    0.824427\n",
       "depart            0.819121\n",
       "montant           0.791667\n",
       "caisse            0.757979\n",
       "mois              0.681379\n",
       "6                 0.675000\n",
       "2                 0.649805\n",
       "prendre           0.644269\n",
       "Name: retraite, dtype: float32"
      ]
     },
     "metadata": {},
     "output_type": "display_data"
    },
    {
     "name": "stdout",
     "output_type": "stream",
     "text": [
      "dossier\n"
     ]
    },
    {
     "data": {
      "text/plain": [
       "dossier      1.000000\n",
       "mois         0.372414\n",
       "6            0.371429\n",
       "demande      0.301471\n",
       "documents    0.296569\n",
       "temps        0.269880\n",
       "carsat       0.251728\n",
       "agirc        0.239080\n",
       "faire        0.231928\n",
       "cnav         0.226646\n",
       "Name: dossier, dtype: float32"
      ]
     },
     "metadata": {},
     "output_type": "display_data"
    },
    {
     "name": "stdout",
     "output_type": "stream",
     "text": [
      "carsat\n"
     ]
    },
    {
     "data": {
      "text/plain": [
       "carsat            1.000000\n",
       "dossier           0.191011\n",
       "mois              0.190345\n",
       "demande           0.173529\n",
       "retraite          0.099237\n",
       "obtenir           0.000000\n",
       "prendre           0.000000\n",
       "information       0.000000\n",
       "complementaire    0.000000\n",
       "informations      0.000000\n",
       "Name: carsat, dtype: float32"
      ]
     },
     "metadata": {},
     "output_type": "display_data"
    },
    {
     "name": "stdout",
     "output_type": "stream",
     "text": [
      "ans\n"
     ]
    },
    {
     "data": {
      "text/plain": [
       "ans         1.000000\n",
       "faire       0.215361\n",
       "carriere    0.203085\n",
       "mois        0.158621\n",
       "retraite    0.152409\n",
       "demande     0.148529\n",
       "tout        0.146018\n",
       "dossier     0.111610\n",
       "arrco       0.000000\n",
       "annees      0.000000\n",
       "Name: ans, dtype: float32"
      ]
     },
     "metadata": {},
     "output_type": "display_data"
    },
    {
     "name": "stdout",
     "output_type": "stream",
     "text": [
      "tout\n"
     ]
    },
    {
     "data": {
      "text/plain": [
       "tout        1.000000\n",
       "internet    0.194404\n",
       "faire       0.156627\n",
       "ans         0.141176\n",
       "dossier     0.114607\n",
       "retraite    0.103975\n",
       "long        0.000000\n",
       "agirc       0.000000\n",
       "travail     0.000000\n",
       "6           0.000000\n",
       "Name: tout, dtype: float32"
      ]
     },
     "metadata": {},
     "output_type": "display_data"
    },
    {
     "name": "stdout",
     "output_type": "stream",
     "text": [
      "carriere\n"
     ]
    },
    {
     "data": {
      "text/plain": [
       "carriere        1.000000\n",
       "ans             0.168984\n",
       "retraite        0.092393\n",
       "dossier         0.085393\n",
       "demande         0.000000\n",
       "aucun           0.000000\n",
       "informations    0.000000\n",
       "tout            0.000000\n",
       "agirc           0.000000\n",
       "travail         0.000000\n",
       "Name: carriere, dtype: float32"
      ]
     },
     "metadata": {},
     "output_type": "display_data"
    },
    {
     "name": "stdout",
     "output_type": "stream",
     "text": [
      "mois\n"
     ]
    },
    {
     "data": {
      "text/plain": [
       "mois          1.000000\n",
       "6             0.882143\n",
       "depart        0.268734\n",
       "reponse       0.250000\n",
       "demande       0.238235\n",
       "dossier       0.202247\n",
       "carsat        0.136229\n",
       "retraite      0.130034\n",
       "ans           0.122995\n",
       "trimestres    0.000000\n",
       "Name: mois, dtype: float32"
      ]
     },
     "metadata": {},
     "output_type": "display_data"
    },
    {
     "name": "stdout",
     "output_type": "stream",
     "text": [
      "non\n"
     ]
    },
    {
     "data": {
      "text/plain": [
       "non             1.000000\n",
       "concerne        0.408964\n",
       "retraite        0.051593\n",
       "long            0.000000\n",
       "informations    0.000000\n",
       "tout            0.000000\n",
       "agirc           0.000000\n",
       "travail         0.000000\n",
       "6               0.000000\n",
       "retraites       0.000000\n",
       "Name: non, dtype: float32"
      ]
     },
     "metadata": {},
     "output_type": "display_data"
    },
    {
     "name": "stdout",
     "output_type": "stream",
     "text": [
      "probleme\n"
     ]
    },
    {
     "data": {
      "text/plain": [
       "probleme        1.000000\n",
       "aucun           0.577206\n",
       "retraite        0.067123\n",
       "demande         0.000000\n",
       "dossiers        0.000000\n",
       "informations    0.000000\n",
       "tout            0.000000\n",
       "agirc           0.000000\n",
       "travail         0.000000\n",
       "6               0.000000\n",
       "Name: probleme, dtype: float32"
      ]
     },
     "metadata": {},
     "output_type": "display_data"
    },
    {
     "name": "stdout",
     "output_type": "stream",
     "text": [
      "demande\n"
     ]
    },
    {
     "data": {
      "text/plain": [
       "demande      1.000000\n",
       "documents    0.254902\n",
       "mois         0.223448\n",
       "internet     0.160530\n",
       "faire        0.155120\n",
       "dossier      0.153558\n",
       "carsat       0.116486\n",
       "retraite     0.111345\n",
       "ans          0.108021\n",
       "obtenir      0.000000\n",
       "Name: demande, dtype: float32"
      ]
     },
     "metadata": {},
     "output_type": "display_data"
    },
    {
     "name": "stdout",
     "output_type": "stream",
     "text": [
      "internet\n"
     ]
    },
    {
     "data": {
      "text/plain": [
       "internet    1.000000\n",
       "site        0.306043\n",
       "demande     0.160294\n",
       "tout        0.146018\n",
       "dossier     0.111610\n",
       "retraite    0.069755\n",
       "long        0.000000\n",
       "agirc       0.000000\n",
       "travail     0.000000\n",
       "6           0.000000\n",
       "Name: internet, dtype: float32"
      ]
     },
     "metadata": {},
     "output_type": "display_data"
    },
    {
     "name": "stdout",
     "output_type": "stream",
     "text": [
      "faire\n"
     ]
    },
    {
     "data": {
      "text/plain": [
       "faire        1.000000\n",
       "ans          0.152941\n",
       "demande      0.151471\n",
       "dossier      0.115356\n",
       "tout         0.115044\n",
       "retraite     0.098973\n",
       "agirc        0.000000\n",
       "travail      0.000000\n",
       "6            0.000000\n",
       "retraites    0.000000\n",
       "Name: faire, dtype: float32"
      ]
     },
     "metadata": {},
     "output_type": "display_data"
    },
    {
     "name": "stdout",
     "output_type": "stream",
     "text": [
      "cnav\n"
     ]
    },
    {
     "data": {
      "text/plain": [
       "cnav            1.000000\n",
       "agirc           0.273563\n",
       "dossier         0.110861\n",
       "retraite        0.063438\n",
       "demande         0.000000\n",
       "dossiers        0.000000\n",
       "informations    0.000000\n",
       "tout            0.000000\n",
       "travail         0.000000\n",
       "6               0.000000\n",
       "Name: cnav, dtype: float32"
      ]
     },
     "metadata": {},
     "output_type": "display_data"
    },
    {
     "name": "stdout",
     "output_type": "stream",
     "text": [
      "retraites\n"
     ]
    },
    {
     "data": {
      "text/plain": [
       "retraites          1.000000\n",
       "complementaires    0.359580\n",
       "caisses            0.182137\n",
       "retraite           0.072914\n",
       "demande            0.000000\n",
       "aucun              0.000000\n",
       "informations       0.000000\n",
       "tout               0.000000\n",
       "agirc              0.000000\n",
       "travail            0.000000\n",
       "Name: retraites, dtype: float32"
      ]
     },
     "metadata": {},
     "output_type": "display_data"
    },
    {
     "name": "stdout",
     "output_type": "stream",
     "text": [
      "caisses\n"
     ]
    },
    {
     "data": {
      "text/plain": [
       "caisses            1.000000\n",
       "complementaires    0.383202\n",
       "retraites          0.160742\n",
       "dossier            0.088390\n",
       "retraite           0.087391\n",
       "demande            0.000000\n",
       "aucun              0.000000\n",
       "tout               0.000000\n",
       "agirc              0.000000\n",
       "travail            0.000000\n",
       "Name: caisses, dtype: float32"
      ]
     },
     "metadata": {},
     "output_type": "display_data"
    },
    {
     "name": "stdout",
     "output_type": "stream",
     "text": [
      "difficulte\n"
     ]
    },
    {
     "data": {
      "text/plain": [
       "difficulte      1.000000\n",
       "retraite        0.052119\n",
       "demande         0.000000\n",
       "long            0.000000\n",
       "informations    0.000000\n",
       "tout            0.000000\n",
       "agirc           0.000000\n",
       "travail         0.000000\n",
       "6               0.000000\n",
       "retraites       0.000000\n",
       "Name: difficulte, dtype: float32"
      ]
     },
     "metadata": {},
     "output_type": "display_data"
    },
    {
     "name": "stdout",
     "output_type": "stream",
     "text": [
      "aucun\n"
     ]
    },
    {
     "data": {
      "text/plain": [
       "aucun           1.000000\n",
       "probleme        0.450502\n",
       "retraite        0.057384\n",
       "demande         0.000000\n",
       "dossiers        0.000000\n",
       "informations    0.000000\n",
       "tout            0.000000\n",
       "agirc           0.000000\n",
       "travail         0.000000\n",
       "6               0.000000\n",
       "Name: aucun, dtype: float32"
      ]
     },
     "metadata": {},
     "output_type": "display_data"
    },
    {
     "name": "stdout",
     "output_type": "stream",
     "text": [
      "site\n"
     ]
    },
    {
     "data": {
      "text/plain": [
       "site            1.000000\n",
       "internet        0.231222\n",
       "retraite        0.059753\n",
       "demande         0.000000\n",
       "long            0.000000\n",
       "informations    0.000000\n",
       "tout            0.000000\n",
       "agirc           0.000000\n",
       "travail         0.000000\n",
       "6               0.000000\n",
       "Name: site, dtype: float32"
      ]
     },
     "metadata": {},
     "output_type": "display_data"
    },
    {
     "name": "stdout",
     "output_type": "stream",
     "text": [
      "services\n"
     ]
    },
    {
     "data": {
      "text/plain": [
       "services        1.000000\n",
       "retraite        0.059753\n",
       "mois            0.000000\n",
       "information     0.000000\n",
       "informations    0.000000\n",
       "tout            0.000000\n",
       "agirc           0.000000\n",
       "travail         0.000000\n",
       "6               0.000000\n",
       "retraites       0.000000\n",
       "Name: services, dtype: float32"
      ]
     },
     "metadata": {},
     "output_type": "display_data"
    },
    {
     "name": "stdout",
     "output_type": "stream",
     "text": [
      "service\n"
     ]
    },
    {
     "data": {
      "text/plain": [
       "service         1.000000\n",
       "retraite        0.055541\n",
       "demande         0.000000\n",
       "aucun           0.000000\n",
       "information     0.000000\n",
       "informations    0.000000\n",
       "tout            0.000000\n",
       "agirc           0.000000\n",
       "travail         0.000000\n",
       "6               0.000000\n",
       "Name: service, dtype: float32"
      ]
     },
     "metadata": {},
     "output_type": "display_data"
    }
   ],
   "source": [
    "for i in df_qu_24_one_hot.sum(axis=0).sort_values(ascending=False).head(20).index:\n",
    "    print(i)\n",
    "    display(df_confidence_24[i].sort_values(ascending=False).head(10))"
   ]
  },
  {
   "cell_type": "code",
   "execution_count": 134,
   "metadata": {
    "scrolled": true
   },
   "outputs": [
    {
     "name": "stdout",
     "output_type": "stream",
     "text": [
      "retraite\n"
     ]
    },
    {
     "data": {
      "text/plain": [
       "retraite          0.000263\n",
       "preparer          0.000229\n",
       "complementaire    0.000217\n",
       "depart            0.000216\n",
       "montant           0.000208\n",
       "caisse            0.000200\n",
       "mois              0.000179\n",
       "6                 0.000178\n",
       "2                 0.000171\n",
       "prendre           0.000170\n",
       "Name: retraite, dtype: float32"
      ]
     },
     "metadata": {},
     "output_type": "display_data"
    },
    {
     "name": "stdout",
     "output_type": "stream",
     "text": [
      "dossier\n"
     ]
    },
    {
     "data": {
      "text/plain": [
       "dossier      0.000749\n",
       "mois         0.000279\n",
       "6            0.000278\n",
       "demande      0.000226\n",
       "documents    0.000222\n",
       "temps        0.000202\n",
       "carsat       0.000189\n",
       "agirc        0.000179\n",
       "faire        0.000174\n",
       "cnav         0.000170\n",
       "Name: dossier, dtype: float32"
      ]
     },
     "metadata": {},
     "output_type": "display_data"
    },
    {
     "name": "stdout",
     "output_type": "stream",
     "text": [
      "carsat\n"
     ]
    },
    {
     "data": {
      "text/plain": [
       "carsat            0.000987\n",
       "dossier           0.000189\n",
       "mois              0.000188\n",
       "demande           0.000171\n",
       "retraite          0.000098\n",
       "non                    NaN\n",
       "complementaire         NaN\n",
       "obtenir                NaN\n",
       "compte                 NaN\n",
       "arrco                  NaN\n",
       "Name: carsat, dtype: float32"
      ]
     },
     "metadata": {},
     "output_type": "display_data"
    },
    {
     "name": "stdout",
     "output_type": "stream",
     "text": [
      "ans\n"
     ]
    },
    {
     "data": {
      "text/plain": [
       "ans         0.001070\n",
       "faire       0.000230\n",
       "carriere    0.000217\n",
       "mois        0.000170\n",
       "retraite    0.000163\n",
       "demande     0.000159\n",
       "tout        0.000156\n",
       "dossier     0.000119\n",
       "non              NaN\n",
       "carsat           NaN\n",
       "Name: ans, dtype: float32"
      ]
     },
     "metadata": {},
     "output_type": "display_data"
    },
    {
     "name": "stdout",
     "output_type": "stream",
     "text": [
      "tout\n"
     ]
    },
    {
     "data": {
      "text/plain": [
       "tout              0.001106\n",
       "internet          0.000215\n",
       "faire             0.000173\n",
       "ans               0.000156\n",
       "dossier           0.000127\n",
       "retraite          0.000115\n",
       "non                    NaN\n",
       "carsat                 NaN\n",
       "complementaire         NaN\n",
       "obtenir                NaN\n",
       "Name: tout, dtype: float32"
      ]
     },
     "metadata": {},
     "output_type": "display_data"
    },
    {
     "name": "stdout",
     "output_type": "stream",
     "text": [
      "carriere\n"
     ]
    },
    {
     "data": {
      "text/plain": [
       "carriere          0.001285\n",
       "ans               0.000217\n",
       "retraite          0.000119\n",
       "dossier           0.000110\n",
       "non                    NaN\n",
       "carsat                 NaN\n",
       "complementaire         NaN\n",
       "obtenir                NaN\n",
       "compte                 NaN\n",
       "arrco                  NaN\n",
       "Name: carriere, dtype: float32"
      ]
     },
     "metadata": {},
     "output_type": "display_data"
    },
    {
     "name": "stdout",
     "output_type": "stream",
     "text": [
      "mois\n"
     ]
    },
    {
     "data": {
      "text/plain": [
       "mois        0.001379\n",
       "6           0.001217\n",
       "depart      0.000371\n",
       "reponse     0.000345\n",
       "demande     0.000329\n",
       "dossier     0.000279\n",
       "carsat      0.000188\n",
       "retraite    0.000179\n",
       "ans         0.000170\n",
       "non              NaN\n",
       "Name: mois, dtype: float32"
      ]
     },
     "metadata": {},
     "output_type": "display_data"
    },
    {
     "name": "stdout",
     "output_type": "stream",
     "text": [
      "non\n"
     ]
    },
    {
     "data": {
      "text/plain": [
       "non               0.001416\n",
       "concerne          0.000579\n",
       "retraite          0.000073\n",
       "carsat                 NaN\n",
       "complementaire         NaN\n",
       "obtenir                NaN\n",
       "compte                 NaN\n",
       "arrco                  NaN\n",
       "annees                 NaN\n",
       "2                      NaN\n",
       "Name: non, dtype: float32"
      ]
     },
     "metadata": {},
     "output_type": "display_data"
    },
    {
     "name": "stdout",
     "output_type": "stream",
     "text": [
      "probleme\n"
     ]
    },
    {
     "data": {
      "text/plain": [
       "probleme          0.001435\n",
       "aucun             0.000828\n",
       "retraite          0.000096\n",
       "non                    NaN\n",
       "carsat                 NaN\n",
       "complementaire         NaN\n",
       "obtenir                NaN\n",
       "compte                 NaN\n",
       "arrco                  NaN\n",
       "annees                 NaN\n",
       "Name: probleme, dtype: float32"
      ]
     },
     "metadata": {},
     "output_type": "display_data"
    },
    {
     "name": "stdout",
     "output_type": "stream",
     "text": [
      "demande\n"
     ]
    },
    {
     "data": {
      "text/plain": [
       "demande      0.001471\n",
       "documents    0.000375\n",
       "mois         0.000329\n",
       "internet     0.000236\n",
       "faire        0.000228\n",
       "dossier      0.000226\n",
       "carsat       0.000171\n",
       "retraite     0.000164\n",
       "ans          0.000159\n",
       "non               NaN\n",
       "Name: demande, dtype: float32"
      ]
     },
     "metadata": {},
     "output_type": "display_data"
    },
    {
     "name": "stdout",
     "output_type": "stream",
     "text": [
      "internet\n"
     ]
    },
    {
     "data": {
      "text/plain": [
       "internet          0.001473\n",
       "site              0.000451\n",
       "demande           0.000236\n",
       "tout              0.000215\n",
       "dossier           0.000164\n",
       "retraite          0.000103\n",
       "non                    NaN\n",
       "carsat                 NaN\n",
       "complementaire         NaN\n",
       "obtenir                NaN\n",
       "Name: internet, dtype: float32"
      ]
     },
     "metadata": {},
     "output_type": "display_data"
    },
    {
     "name": "stdout",
     "output_type": "stream",
     "text": [
      "faire\n"
     ]
    },
    {
     "data": {
      "text/plain": [
       "faire             0.001506\n",
       "ans               0.000230\n",
       "demande           0.000228\n",
       "dossier           0.000174\n",
       "tout              0.000173\n",
       "retraite          0.000149\n",
       "non                    NaN\n",
       "carsat                 NaN\n",
       "complementaire         NaN\n",
       "obtenir                NaN\n",
       "Name: faire, dtype: float32"
      ]
     },
     "metadata": {},
     "output_type": "display_data"
    },
    {
     "name": "stdout",
     "output_type": "stream",
     "text": [
      "cnav\n"
     ]
    },
    {
     "data": {
      "text/plain": [
       "cnav              0.001531\n",
       "agirc             0.000419\n",
       "dossier           0.000170\n",
       "retraite          0.000097\n",
       "non                    NaN\n",
       "carsat                 NaN\n",
       "complementaire         NaN\n",
       "obtenir                NaN\n",
       "compte                 NaN\n",
       "arrco                  NaN\n",
       "Name: cnav, dtype: float32"
      ]
     },
     "metadata": {},
     "output_type": "display_data"
    },
    {
     "name": "stdout",
     "output_type": "stream",
     "text": [
      "retraites\n"
     ]
    },
    {
     "data": {
      "text/plain": [
       "retraites          0.001546\n",
       "complementaires    0.000556\n",
       "caisses            0.000282\n",
       "retraite           0.000113\n",
       "non                     NaN\n",
       "carsat                  NaN\n",
       "complementaire          NaN\n",
       "obtenir                 NaN\n",
       "compte                  NaN\n",
       "arrco                   NaN\n",
       "Name: retraites, dtype: float32"
      ]
     },
     "metadata": {},
     "output_type": "display_data"
    },
    {
     "name": "stdout",
     "output_type": "stream",
     "text": [
      "caisses\n"
     ]
    },
    {
     "data": {
      "text/plain": [
       "caisses            0.001751\n",
       "complementaires    0.000671\n",
       "retraites          0.000282\n",
       "dossier            0.000155\n",
       "retraite           0.000153\n",
       "non                     NaN\n",
       "carsat                  NaN\n",
       "complementaire          NaN\n",
       "obtenir                 NaN\n",
       "compte                  NaN\n",
       "Name: caisses, dtype: float32"
      ]
     },
     "metadata": {},
     "output_type": "display_data"
    },
    {
     "name": "stdout",
     "output_type": "stream",
     "text": [
      "difficulte\n"
     ]
    },
    {
     "data": {
      "text/plain": [
       "difficulte        0.001770\n",
       "retraite          0.000092\n",
       "non                    NaN\n",
       "carsat                 NaN\n",
       "complementaire         NaN\n",
       "obtenir                NaN\n",
       "compte                 NaN\n",
       "arrco                  NaN\n",
       "annees                 NaN\n",
       "2                      NaN\n",
       "Name: difficulte, dtype: float32"
      ]
     },
     "metadata": {},
     "output_type": "display_data"
    },
    {
     "name": "stdout",
     "output_type": "stream",
     "text": [
      "aucun\n"
     ]
    },
    {
     "data": {
      "text/plain": [
       "aucun             0.001838\n",
       "probleme          0.000828\n",
       "retraite          0.000105\n",
       "non                    NaN\n",
       "carsat                 NaN\n",
       "complementaire         NaN\n",
       "obtenir                NaN\n",
       "compte                 NaN\n",
       "arrco                  NaN\n",
       "annees                 NaN\n",
       "Name: aucun, dtype: float32"
      ]
     },
     "metadata": {},
     "output_type": "display_data"
    },
    {
     "name": "stdout",
     "output_type": "stream",
     "text": [
      "site\n"
     ]
    },
    {
     "data": {
      "text/plain": [
       "site              0.001949\n",
       "internet          0.000451\n",
       "retraite          0.000116\n",
       "non                    NaN\n",
       "carsat                 NaN\n",
       "complementaire         NaN\n",
       "obtenir                NaN\n",
       "compte                 NaN\n",
       "arrco                  NaN\n",
       "annees                 NaN\n",
       "Name: site, dtype: float32"
      ]
     },
     "metadata": {},
     "output_type": "display_data"
    },
    {
     "name": "stdout",
     "output_type": "stream",
     "text": [
      "services\n"
     ]
    },
    {
     "data": {
      "text/plain": [
       "services          0.002020\n",
       "retraite          0.000121\n",
       "non                    NaN\n",
       "carsat                 NaN\n",
       "complementaire         NaN\n",
       "obtenir                NaN\n",
       "compte                 NaN\n",
       "arrco                  NaN\n",
       "annees                 NaN\n",
       "2                      NaN\n",
       "Name: services, dtype: float32"
      ]
     },
     "metadata": {},
     "output_type": "display_data"
    },
    {
     "name": "stdout",
     "output_type": "stream",
     "text": [
      "service\n"
     ]
    },
    {
     "data": {
      "text/plain": [
       "service           0.002028\n",
       "retraite          0.000113\n",
       "non                    NaN\n",
       "carsat                 NaN\n",
       "complementaire         NaN\n",
       "obtenir                NaN\n",
       "compte                 NaN\n",
       "arrco                  NaN\n",
       "annees                 NaN\n",
       "2                      NaN\n",
       "Name: service, dtype: float32"
      ]
     },
     "metadata": {},
     "output_type": "display_data"
    }
   ],
   "source": [
    "for i in df_qu_24_one_hot.sum(axis=0).sort_values(ascending=False).head(20).index:\n",
    "    print(i)\n",
    "    display(df_lift_24[i].sort_values(ascending=False).head(10))"
   ]
  },
  {
   "cell_type": "code",
   "execution_count": 135,
   "metadata": {},
   "outputs": [
    {
     "data": {
      "text/plain": [
       "294"
      ]
     },
     "execution_count": 135,
     "metadata": {},
     "output_type": "execute_result"
    }
   ],
   "source": [
    "gc.collect()"
   ]
  },
  {
   "cell_type": "markdown",
   "metadata": {},
   "source": [
    "# Question 25:  Si vous avez été amené à demander un remboursement de soins de santé, pouvez-vous indiquer les éléments de satisfaction et/ou les difficultés rencontrés en précisant, pour chaque point, l'administration concernée :"
   ]
  },
  {
   "cell_type": "code",
   "execution_count": 136,
   "metadata": {
    "collapsed": true
   },
   "outputs": [],
   "source": [
    "question_25 = \"Si vous avez été amené à demander un remboursement de soins de santé, pouvez-vous indiquer les éléments de satisfaction et/ou les difficultés rencontrés en précisant, pour chaque point, l'administration concernée :\"\n",
    "qu_25,df_qu_25_one_hot,df_cov_25,df_confidence_25,df_lift_25 = compute_similarities(question_25, new_res)"
   ]
  },
  {
   "cell_type": "code",
   "execution_count": 137,
   "metadata": {
    "scrolled": true
   },
   "outputs": [
    {
     "name": "stdout",
     "output_type": "stream",
     "text": [
      "remboursement\n"
     ]
    },
    {
     "data": {
      "text/plain": [
       "remboursement    1647\n",
       "soins             398\n",
       "securite          293\n",
       "sociale           289\n",
       "mutuelle          265\n",
       "sante             250\n",
       "cpam              204\n",
       "carte             164\n",
       "mutuelles         157\n",
       "charge            149\n",
       "Name: remboursement, dtype: uint16"
      ]
     },
     "metadata": {},
     "output_type": "display_data"
    },
    {
     "name": "stdout",
     "output_type": "stream",
     "text": [
      "securite\n"
     ]
    },
    {
     "data": {
      "text/plain": [
       "securite          1494\n",
       "sociale           1432\n",
       "mutuelle           324\n",
       "remboursement      293\n",
       "soins              219\n",
       "remboursements     208\n",
       "mutuelles          181\n",
       "sante              171\n",
       "charge             158\n",
       "probleme           138\n",
       "Name: securite, dtype: uint16"
      ]
     },
     "metadata": {},
     "output_type": "display_data"
    },
    {
     "name": "stdout",
     "output_type": "stream",
     "text": [
      "sociale\n"
     ]
    },
    {
     "data": {
      "text/plain": [
       "sociale           1490\n",
       "securite          1432\n",
       "mutuelle           327\n",
       "remboursement      289\n",
       "soins              224\n",
       "remboursements     215\n",
       "mutuelles          182\n",
       "sante              171\n",
       "charge             159\n",
       "faire              137\n",
       "Name: sociale, dtype: uint16"
      ]
     },
     "metadata": {},
     "output_type": "display_data"
    },
    {
     "name": "stdout",
     "output_type": "stream",
     "text": [
      "mutuelle\n"
     ]
    },
    {
     "data": {
      "text/plain": [
       "mutuelle          1332\n",
       "sociale            327\n",
       "securite           324\n",
       "remboursement      265\n",
       "remboursements     192\n",
       "soins              183\n",
       "sante              171\n",
       "cpam               171\n",
       "probleme           155\n",
       "tout               155\n",
       "Name: mutuelle, dtype: uint16"
      ]
     },
     "metadata": {},
     "output_type": "display_data"
    },
    {
     "name": "stdout",
     "output_type": "stream",
     "text": [
      "soins\n"
     ]
    },
    {
     "data": {
      "text/plain": [
       "soins             1257\n",
       "remboursement      398\n",
       "sante              301\n",
       "remboursements     229\n",
       "sociale            224\n",
       "charge             224\n",
       "securite           219\n",
       "dentaires          210\n",
       "mutuelle           183\n",
       "mutuelles          145\n",
       "Name: soins, dtype: uint16"
      ]
     },
     "metadata": {},
     "output_type": "display_data"
    },
    {
     "name": "stdout",
     "output_type": "stream",
     "text": [
      "cpam\n"
     ]
    },
    {
     "data": {
      "text/plain": [
       "cpam              1252\n",
       "remboursement      204\n",
       "mutuelle           171\n",
       "soins              145\n",
       "remboursements     144\n",
       "mois               129\n",
       "probleme           118\n",
       "faire              111\n",
       "tout               106\n",
       "mutuelles          102\n",
       "Name: cpam, dtype: uint16"
      ]
     },
     "metadata": {},
     "output_type": "display_data"
    },
    {
     "name": "stdout",
     "output_type": "stream",
     "text": [
      "probleme\n"
     ]
    },
    {
     "data": {
      "text/plain": [
       "probleme          1147\n",
       "aucun              351\n",
       "mutuelle           155\n",
       "remboursement      141\n",
       "securite           138\n",
       "sociale            136\n",
       "cpam               118\n",
       "remboursements     109\n",
       "secu                 0\n",
       "efficace             0\n",
       "Name: probleme, dtype: uint16"
      ]
     },
     "metadata": {},
     "output_type": "display_data"
    },
    {
     "name": "stdout",
     "output_type": "stream",
     "text": [
      "remboursements\n"
     ]
    },
    {
     "data": {
      "text/plain": [
       "remboursements    1123\n",
       "soins              229\n",
       "sociale            215\n",
       "securite           208\n",
       "sante              196\n",
       "mutuelle           192\n",
       "cpam               144\n",
       "mutuelles          139\n",
       "carte              123\n",
       "probleme           109\n",
       "Name: remboursements, dtype: uint16"
      ]
     },
     "metadata": {},
     "output_type": "display_data"
    },
    {
     "name": "stdout",
     "output_type": "stream",
     "text": [
      "sante\n"
     ]
    },
    {
     "data": {
      "text/plain": [
       "sante             1103\n",
       "soins              301\n",
       "remboursement      250\n",
       "remboursements     196\n",
       "securite           171\n",
       "mutuelle           171\n",
       "sociale            171\n",
       "systeme            166\n",
       "mutuelles          146\n",
       "charge             139\n",
       "Name: sante, dtype: uint16"
      ]
     },
     "metadata": {},
     "output_type": "display_data"
    },
    {
     "name": "stdout",
     "output_type": "stream",
     "text": [
      "carte\n"
     ]
    },
    {
     "data": {
      "text/plain": [
       "carte             927\n",
       "vitale            822\n",
       "remboursement     164\n",
       "sante             129\n",
       "mutuelle          123\n",
       "remboursements    123\n",
       "soins             120\n",
       "securite          107\n",
       "sociale           106\n",
       "cpam                0\n",
       "Name: carte, dtype: uint16"
      ]
     },
     "metadata": {},
     "output_type": "display_data"
    },
    {
     "name": "stdout",
     "output_type": "stream",
     "text": [
      "tout\n"
     ]
    },
    {
     "data": {
      "text/plain": [
       "tout             841\n",
       "mutuelle         155\n",
       "remboursement    130\n",
       "sante            126\n",
       "sociale          124\n",
       "securite         122\n",
       "faire            109\n",
       "soins            109\n",
       "cpam             106\n",
       "rembourser         0\n",
       "Name: tout, dtype: uint16"
      ]
     },
     "metadata": {},
     "output_type": "display_data"
    },
    {
     "name": "stdout",
     "output_type": "stream",
     "text": [
      "vitale\n"
     ]
    },
    {
     "data": {
      "text/plain": [
       "vitale            830\n",
       "carte             822\n",
       "remboursement     147\n",
       "mutuelle          116\n",
       "sante             113\n",
       "soins             112\n",
       "remboursements    105\n",
       "efficace            0\n",
       "tiers               0\n",
       "rembourse           0\n",
       "Name: vitale, dtype: uint16"
      ]
     },
     "metadata": {},
     "output_type": "display_data"
    },
    {
     "name": "stdout",
     "output_type": "stream",
     "text": [
      "mutuelles\n"
     ]
    },
    {
     "data": {
      "text/plain": [
       "mutuelles         825\n",
       "sociale           182\n",
       "securite          181\n",
       "remboursement     157\n",
       "sante             146\n",
       "soins             145\n",
       "remboursements    139\n",
       "charge            116\n",
       "mutuelle          114\n",
       "cpam              102\n",
       "Name: mutuelles, dtype: uint16"
      ]
     },
     "metadata": {},
     "output_type": "display_data"
    },
    {
     "name": "stdout",
     "output_type": "stream",
     "text": [
      "charge\n"
     ]
    },
    {
     "data": {
      "text/plain": [
       "charge           795\n",
       "prise            401\n",
       "soins            224\n",
       "sociale          159\n",
       "securite         158\n",
       "remboursement    149\n",
       "sante            139\n",
       "mutuelle         138\n",
       "mutuelles        116\n",
       "frais            103\n",
       "Name: charge, dtype: uint16"
      ]
     },
     "metadata": {},
     "output_type": "display_data"
    },
    {
     "name": "stdout",
     "output_type": "stream",
     "text": [
      "faire\n"
     ]
    },
    {
     "data": {
      "text/plain": [
       "faire            718\n",
       "soins            144\n",
       "securite         138\n",
       "sociale          137\n",
       "rembourser       129\n",
       "remboursement    125\n",
       "sante            121\n",
       "mutuelle         120\n",
       "cpam             111\n",
       "tout             109\n",
       "Name: faire, dtype: uint16"
      ]
     },
     "metadata": {},
     "output_type": "display_data"
    },
    {
     "name": "stdout",
     "output_type": "stream",
     "text": [
      "non\n"
     ]
    },
    {
     "data": {
      "text/plain": [
       "non              668\n",
       "remboursement    133\n",
       "long               0\n",
       "tout               0\n",
       "secu               0\n",
       "efficace           0\n",
       "tiers              0\n",
       "rembourse          0\n",
       "payant             0\n",
       "charge             0\n",
       "Name: non, dtype: uint16"
      ]
     },
     "metadata": {},
     "output_type": "display_data"
    },
    {
     "name": "stdout",
     "output_type": "stream",
     "text": [
      "fonctionne\n"
     ]
    },
    {
     "data": {
      "text/plain": [
       "fonctionne    631\n",
       "systeme       103\n",
       "demande         0\n",
       "long            0\n",
       "secu            0\n",
       "efficace        0\n",
       "tiers           0\n",
       "rembourse       0\n",
       "payant          0\n",
       "charge          0\n",
       "Name: fonctionne, dtype: uint16"
      ]
     },
     "metadata": {},
     "output_type": "display_data"
    },
    {
     "name": "stdout",
     "output_type": "stream",
     "text": [
      "aucun\n"
     ]
    },
    {
     "data": {
      "text/plain": [
       "aucun        611\n",
       "probleme     351\n",
       "demande        0\n",
       "long           0\n",
       "secu           0\n",
       "efficace       0\n",
       "tiers          0\n",
       "rembourse      0\n",
       "payant         0\n",
       "charge         0\n",
       "Name: aucun, dtype: uint16"
      ]
     },
     "metadata": {},
     "output_type": "display_data"
    },
    {
     "name": "stdout",
     "output_type": "stream",
     "text": [
      "secu\n"
     ]
    },
    {
     "data": {
      "text/plain": [
       "secu             602\n",
       "mutuelle         154\n",
       "remboursement    109\n",
       "demande            0\n",
       "long               0\n",
       "tout               0\n",
       "efficace           0\n",
       "tiers              0\n",
       "rembourse          0\n",
       "payant             0\n",
       "Name: secu, dtype: uint16"
      ]
     },
     "metadata": {},
     "output_type": "display_data"
    },
    {
     "name": "stdout",
     "output_type": "stream",
     "text": [
      "faut\n"
     ]
    },
    {
     "data": {
      "text/plain": [
       "faut         581\n",
       "soins        115\n",
       "sociale      115\n",
       "faire        107\n",
       "sante        107\n",
       "securite     107\n",
       "mutuelle     106\n",
       "rembourse      0\n",
       "payant         0\n",
       "long           0\n",
       "Name: faut, dtype: uint16"
      ]
     },
     "metadata": {},
     "output_type": "display_data"
    }
   ],
   "source": [
    "for i in df_qu_25_one_hot.sum(axis=0).sort_values(ascending=False).head(20).index:\n",
    "    print(i)\n",
    "    display(df_cov_25[i].sort_values(ascending=False).head(10))"
   ]
  },
  {
   "cell_type": "code",
   "execution_count": 138,
   "metadata": {
    "scrolled": true
   },
   "outputs": [
    {
     "name": "stdout",
     "output_type": "stream",
     "text": [
      "remboursement\n"
     ]
    },
    {
     "data": {
      "text/plain": [
       "remboursement    1.000000\n",
       "rapide           0.437500\n",
       "delais           0.402256\n",
       "lunettes         0.360714\n",
       "dentaires        0.328125\n",
       "frais            0.327982\n",
       "soins            0.316627\n",
       "demande          0.312834\n",
       "medecin          0.255000\n",
       "systeme          0.245681\n",
       "Name: remboursement, dtype: float32"
      ]
     },
     "metadata": {},
     "output_type": "display_data"
    },
    {
     "name": "stdout",
     "output_type": "stream",
     "text": [
      "securite\n"
     ]
    },
    {
     "data": {
      "text/plain": [
       "securite          1.000000\n",
       "sociale           0.961074\n",
       "mutuelle          0.243243\n",
       "mutuelles         0.219394\n",
       "charge            0.198742\n",
       "mois              0.195298\n",
       "faire             0.192201\n",
       "remboursements    0.185218\n",
       "faut              0.184165\n",
       "remboursement     0.177899\n",
       "Name: securite, dtype: float32"
      ]
     },
     "metadata": {},
     "output_type": "display_data"
    },
    {
     "name": "stdout",
     "output_type": "stream",
     "text": [
      "sociale\n"
     ]
    },
    {
     "data": {
      "text/plain": [
       "sociale           1.000000\n",
       "securite          0.958501\n",
       "mutuelle          0.245495\n",
       "mutuelles         0.220606\n",
       "mois              0.206148\n",
       "charge            0.200000\n",
       "faut              0.197935\n",
       "remboursements    0.191451\n",
       "faire             0.190808\n",
       "soins             0.178202\n",
       "Name: sociale, dtype: float32"
      ]
     },
     "metadata": {},
     "output_type": "display_data"
    },
    {
     "name": "stdout",
     "output_type": "stream",
     "text": [
      "mutuelle\n"
     ]
    },
    {
     "data": {
      "text/plain": [
       "mutuelle          1.000000\n",
       "secu              0.255814\n",
       "sociale           0.219463\n",
       "securite          0.216867\n",
       "tout              0.184304\n",
       "faut              0.182444\n",
       "charge            0.173585\n",
       "remboursements    0.170971\n",
       "faire             0.167131\n",
       "remboursement     0.160899\n",
       "Name: mutuelle, dtype: float32"
      ]
     },
     "metadata": {},
     "output_type": "display_data"
    },
    {
     "name": "stdout",
     "output_type": "stream",
     "text": [
      "soins\n"
     ]
    },
    {
     "data": {
      "text/plain": [
       "soins             1.000000\n",
       "dentaires         0.656250\n",
       "rembourses        0.459649\n",
       "charge            0.281761\n",
       "sante             0.272892\n",
       "prise             0.258947\n",
       "remboursement     0.241651\n",
       "remboursements    0.203918\n",
       "faire             0.200557\n",
       "faut              0.197935\n",
       "Name: soins, dtype: float32"
      ]
     },
     "metadata": {},
     "output_type": "display_data"
    },
    {
     "name": "stdout",
     "output_type": "stream",
     "text": [
      "cpam\n"
     ]
    },
    {
     "data": {
      "text/plain": [
       "cpam              1.000000\n",
       "mois              0.233273\n",
       "faire             0.154596\n",
       "mutuelle          0.128378\n",
       "remboursements    0.128228\n",
       "tout              0.126040\n",
       "remboursement     0.123862\n",
       "mutuelles         0.123636\n",
       "soins             0.115354\n",
       "probleme          0.102877\n",
       "Name: cpam, dtype: float32"
      ]
     },
     "metadata": {},
     "output_type": "display_data"
    },
    {
     "name": "stdout",
     "output_type": "stream",
     "text": [
      "probleme\n"
     ]
    },
    {
     "data": {
      "text/plain": [
       "probleme          1.000000\n",
       "aucun             0.574468\n",
       "mutuelle          0.116366\n",
       "remboursements    0.097061\n",
       "cpam              0.094249\n",
       "securite          0.092369\n",
       "sociale           0.091275\n",
       "remboursement     0.085610\n",
       "secu              0.000000\n",
       "efficace          0.000000\n",
       "Name: probleme, dtype: float32"
      ]
     },
     "metadata": {},
     "output_type": "display_data"
    },
    {
     "name": "stdout",
     "output_type": "stream",
     "text": [
      "remboursements\n"
     ]
    },
    {
     "data": {
      "text/plain": [
       "remboursements    1.000000\n",
       "soins             0.182180\n",
       "sante             0.177697\n",
       "mutuelles         0.168485\n",
       "sociale           0.144295\n",
       "mutuelle          0.144144\n",
       "securite          0.139224\n",
       "carte             0.132686\n",
       "vitale            0.126506\n",
       "cpam              0.115016\n",
       "Name: remboursements, dtype: float32"
      ]
     },
     "metadata": {},
     "output_type": "display_data"
    },
    {
     "name": "stdout",
     "output_type": "stream",
     "text": [
      "sante\n"
     ]
    },
    {
     "data": {
      "text/plain": [
       "sante             1.000000\n",
       "systeme           0.318618\n",
       "frais             0.270642\n",
       "soins             0.239459\n",
       "faut              0.184165\n",
       "mutuelles         0.176970\n",
       "charge            0.174843\n",
       "remboursements    0.174533\n",
       "faire             0.168524\n",
       "remboursement     0.151791\n",
       "Name: sante, dtype: float32"
      ]
     },
     "metadata": {},
     "output_type": "display_data"
    },
    {
     "name": "stdout",
     "output_type": "stream",
     "text": [
      "carte\n"
     ]
    },
    {
     "data": {
      "text/plain": [
       "carte             1.000000\n",
       "vitale            0.990361\n",
       "sante             0.116954\n",
       "remboursements    0.109528\n",
       "remboursement     0.099575\n",
       "soins             0.095465\n",
       "mutuelle          0.092342\n",
       "securite          0.071620\n",
       "sociale           0.071141\n",
       "cpam              0.000000\n",
       "Name: carte, dtype: float32"
      ]
     },
     "metadata": {},
     "output_type": "display_data"
    },
    {
     "name": "stdout",
     "output_type": "stream",
     "text": [
      "tout\n"
     ]
    },
    {
     "data": {
      "text/plain": [
       "tout             1.000000\n",
       "faire            0.151811\n",
       "mutuelle         0.116366\n",
       "sante            0.114234\n",
       "soins            0.086714\n",
       "cpam             0.084665\n",
       "sociale          0.083221\n",
       "securite         0.081660\n",
       "remboursement    0.078931\n",
       "compte           0.000000\n",
       "Name: tout, dtype: float32"
      ]
     },
     "metadata": {},
     "output_type": "display_data"
    },
    {
     "name": "stdout",
     "output_type": "stream",
     "text": [
      "vitale\n"
     ]
    },
    {
     "data": {
      "text/plain": [
       "vitale            1.000000\n",
       "carte             0.886731\n",
       "sante             0.102448\n",
       "remboursements    0.093500\n",
       "remboursement     0.089253\n",
       "soins             0.089101\n",
       "mutuelle          0.087087\n",
       "tiers             0.000000\n",
       "rembourse         0.000000\n",
       "aucun             0.000000\n",
       "Name: vitale, dtype: float32"
      ]
     },
     "metadata": {},
     "output_type": "display_data"
    },
    {
     "name": "stdout",
     "output_type": "stream",
     "text": [
      "mutuelles\n"
     ]
    },
    {
     "data": {
      "text/plain": [
       "mutuelles         1.000000\n",
       "charge            0.145912\n",
       "sante             0.132366\n",
       "remboursements    0.123776\n",
       "sociale           0.122148\n",
       "securite          0.121151\n",
       "soins             0.115354\n",
       "remboursement     0.095325\n",
       "mutuelle          0.085586\n",
       "cpam              0.081470\n",
       "Name: mutuelles, dtype: float32"
      ]
     },
     "metadata": {},
     "output_type": "display_data"
    },
    {
     "name": "stdout",
     "output_type": "stream",
     "text": [
      "charge\n"
     ]
    },
    {
     "data": {
      "text/plain": [
       "charge       1.000000\n",
       "prise        0.844211\n",
       "frais        0.236239\n",
       "soins        0.178202\n",
       "faire        0.143454\n",
       "mutuelles    0.140606\n",
       "sante        0.126020\n",
       "sociale      0.106711\n",
       "securite     0.105756\n",
       "mutuelle     0.103604\n",
       "Name: charge, dtype: float32"
      ]
     },
     "metadata": {},
     "output_type": "display_data"
    },
    {
     "name": "stdout",
     "output_type": "stream",
     "text": [
      "faire\n"
     ]
    },
    {
     "data": {
      "text/plain": [
       "faire         1.000000\n",
       "rembourser    0.437288\n",
       "faut          0.184165\n",
       "tout          0.129608\n",
       "charge        0.129560\n",
       "soins         0.114558\n",
       "sante         0.109701\n",
       "securite      0.092369\n",
       "sociale       0.091946\n",
       "mutuelle      0.090090\n",
       "Name: faire, dtype: float32"
      ]
     },
     "metadata": {},
     "output_type": "display_data"
    },
    {
     "name": "stdout",
     "output_type": "stream",
     "text": [
      "non\n"
     ]
    },
    {
     "data": {
      "text/plain": [
       "non              1.000000\n",
       "remboursement    0.080753\n",
       "long             0.000000\n",
       "tout             0.000000\n",
       "secu             0.000000\n",
       "efficace         0.000000\n",
       "tiers            0.000000\n",
       "rembourse        0.000000\n",
       "payant           0.000000\n",
       "charge           0.000000\n",
       "Name: non, dtype: float32"
      ]
     },
     "metadata": {},
     "output_type": "display_data"
    },
    {
     "name": "stdout",
     "output_type": "stream",
     "text": [
      "fonctionne\n"
     ]
    },
    {
     "data": {
      "text/plain": [
       "fonctionne    1.000000\n",
       "systeme       0.197697\n",
       "demande       0.000000\n",
       "long          0.000000\n",
       "secu          0.000000\n",
       "efficace      0.000000\n",
       "tiers         0.000000\n",
       "rembourse     0.000000\n",
       "payant        0.000000\n",
       "charge        0.000000\n",
       "Name: fonctionne, dtype: float32"
      ]
     },
     "metadata": {},
     "output_type": "display_data"
    },
    {
     "name": "stdout",
     "output_type": "stream",
     "text": [
      "aucun\n"
     ]
    },
    {
     "data": {
      "text/plain": [
       "aucun        1.000000\n",
       "probleme     0.306016\n",
       "demande      0.000000\n",
       "long         0.000000\n",
       "secu         0.000000\n",
       "efficace     0.000000\n",
       "tiers        0.000000\n",
       "rembourse    0.000000\n",
       "payant       0.000000\n",
       "charge       0.000000\n",
       "Name: aucun, dtype: float32"
      ]
     },
     "metadata": {},
     "output_type": "display_data"
    },
    {
     "name": "stdout",
     "output_type": "stream",
     "text": [
      "secu\n"
     ]
    },
    {
     "data": {
      "text/plain": [
       "secu             1.000000\n",
       "mutuelle         0.115616\n",
       "remboursement    0.066181\n",
       "demande          0.000000\n",
       "long             0.000000\n",
       "tout             0.000000\n",
       "efficace         0.000000\n",
       "tiers            0.000000\n",
       "rembourse        0.000000\n",
       "payant           0.000000\n",
       "Name: secu, dtype: float32"
      ]
     },
     "metadata": {},
     "output_type": "display_data"
    },
    {
     "name": "stdout",
     "output_type": "stream",
     "text": [
      "faut\n"
     ]
    },
    {
     "data": {
      "text/plain": [
       "faut         1.000000\n",
       "faire        0.149025\n",
       "sante        0.097008\n",
       "soins        0.091488\n",
       "mutuelle     0.079580\n",
       "sociale      0.077181\n",
       "securite     0.071620\n",
       "efficace     0.000000\n",
       "tiers        0.000000\n",
       "rembourse    0.000000\n",
       "Name: faut, dtype: float32"
      ]
     },
     "metadata": {},
     "output_type": "display_data"
    }
   ],
   "source": [
    "for i in df_qu_25_one_hot.sum(axis=0).sort_values(ascending=False).head(20).index:\n",
    "    print(i)\n",
    "    display(df_confidence_25[i].sort_values(ascending=False).head(10))"
   ]
  },
  {
   "cell_type": "code",
   "execution_count": 139,
   "metadata": {
    "scrolled": true
   },
   "outputs": [
    {
     "name": "stdout",
     "output_type": "stream",
     "text": [
      "remboursement\n"
     ]
    },
    {
     "data": {
      "text/plain": [
       "remboursement    0.000607\n",
       "rapide           0.000266\n",
       "delais           0.000244\n",
       "lunettes         0.000219\n",
       "dentaires        0.000199\n",
       "frais            0.000199\n",
       "soins            0.000192\n",
       "demande          0.000190\n",
       "medecin          0.000155\n",
       "systeme          0.000149\n",
       "Name: remboursement, dtype: float32"
      ]
     },
     "metadata": {},
     "output_type": "display_data"
    },
    {
     "name": "stdout",
     "output_type": "stream",
     "text": [
      "securite\n"
     ]
    },
    {
     "data": {
      "text/plain": [
       "securite          0.000669\n",
       "sociale           0.000643\n",
       "mutuelle          0.000163\n",
       "mutuelles         0.000147\n",
       "charge            0.000133\n",
       "mois              0.000131\n",
       "faire             0.000129\n",
       "remboursements    0.000124\n",
       "faut              0.000123\n",
       "remboursement     0.000119\n",
       "Name: securite, dtype: float32"
      ]
     },
     "metadata": {},
     "output_type": "display_data"
    },
    {
     "name": "stdout",
     "output_type": "stream",
     "text": [
      "sociale\n"
     ]
    },
    {
     "data": {
      "text/plain": [
       "sociale           0.000671\n",
       "securite          0.000643\n",
       "mutuelle          0.000165\n",
       "mutuelles         0.000148\n",
       "mois              0.000138\n",
       "charge            0.000134\n",
       "faut              0.000133\n",
       "remboursements    0.000128\n",
       "faire             0.000128\n",
       "soins             0.000120\n",
       "Name: sociale, dtype: float32"
      ]
     },
     "metadata": {},
     "output_type": "display_data"
    },
    {
     "name": "stdout",
     "output_type": "stream",
     "text": [
      "mutuelle\n"
     ]
    },
    {
     "data": {
      "text/plain": [
       "mutuelle          0.000751\n",
       "secu              0.000192\n",
       "sociale           0.000165\n",
       "securite          0.000163\n",
       "tout              0.000138\n",
       "faut              0.000137\n",
       "charge            0.000130\n",
       "remboursements    0.000128\n",
       "faire             0.000125\n",
       "remboursement     0.000121\n",
       "Name: mutuelle, dtype: float32"
      ]
     },
     "metadata": {},
     "output_type": "display_data"
    },
    {
     "name": "stdout",
     "output_type": "stream",
     "text": [
      "soins\n"
     ]
    },
    {
     "data": {
      "text/plain": [
       "soins             0.000796\n",
       "dentaires         0.000522\n",
       "rembourses        0.000366\n",
       "charge            0.000224\n",
       "sante             0.000217\n",
       "prise             0.000206\n",
       "remboursement     0.000192\n",
       "remboursements    0.000162\n",
       "faire             0.000160\n",
       "faut              0.000157\n",
       "Name: soins, dtype: float32"
      ]
     },
     "metadata": {},
     "output_type": "display_data"
    },
    {
     "name": "stdout",
     "output_type": "stream",
     "text": [
      "cpam\n"
     ]
    },
    {
     "data": {
      "text/plain": [
       "cpam              0.000799\n",
       "mois              0.000186\n",
       "faire             0.000123\n",
       "mutuelle          0.000103\n",
       "remboursements    0.000102\n",
       "tout              0.000101\n",
       "remboursement     0.000099\n",
       "mutuelles         0.000099\n",
       "soins             0.000092\n",
       "probleme          0.000082\n",
       "Name: cpam, dtype: float32"
      ]
     },
     "metadata": {},
     "output_type": "display_data"
    },
    {
     "name": "stdout",
     "output_type": "stream",
     "text": [
      "probleme\n"
     ]
    },
    {
     "data": {
      "text/plain": [
       "probleme          0.000872\n",
       "aucun             0.000501\n",
       "mutuelle          0.000101\n",
       "remboursements    0.000085\n",
       "cpam              0.000082\n",
       "securite          0.000081\n",
       "sociale           0.000080\n",
       "remboursement     0.000075\n",
       "non                    NaN\n",
       "fonctionne             NaN\n",
       "Name: probleme, dtype: float32"
      ]
     },
     "metadata": {},
     "output_type": "display_data"
    },
    {
     "name": "stdout",
     "output_type": "stream",
     "text": [
      "remboursements\n"
     ]
    },
    {
     "data": {
      "text/plain": [
       "remboursements    0.000890\n",
       "soins             0.000162\n",
       "sante             0.000158\n",
       "mutuelles         0.000150\n",
       "sociale           0.000128\n",
       "mutuelle          0.000128\n",
       "securite          0.000124\n",
       "carte             0.000118\n",
       "vitale            0.000113\n",
       "cpam              0.000102\n",
       "Name: remboursements, dtype: float32"
      ]
     },
     "metadata": {},
     "output_type": "display_data"
    },
    {
     "name": "stdout",
     "output_type": "stream",
     "text": [
      "sante\n"
     ]
    },
    {
     "data": {
      "text/plain": [
       "sante             0.000907\n",
       "systeme           0.000289\n",
       "frais             0.000245\n",
       "soins             0.000217\n",
       "faut              0.000167\n",
       "mutuelles         0.000160\n",
       "charge            0.000159\n",
       "remboursements    0.000158\n",
       "faire             0.000153\n",
       "remboursement     0.000138\n",
       "Name: sante, dtype: float32"
      ]
     },
     "metadata": {},
     "output_type": "display_data"
    },
    {
     "name": "stdout",
     "output_type": "stream",
     "text": [
      "carte\n"
     ]
    },
    {
     "data": {
      "text/plain": [
       "carte             0.001079\n",
       "vitale            0.001068\n",
       "sante             0.000126\n",
       "remboursements    0.000118\n",
       "remboursement     0.000107\n",
       "soins             0.000103\n",
       "mutuelle          0.000100\n",
       "securite          0.000077\n",
       "sociale           0.000077\n",
       "non                    NaN\n",
       "Name: carte, dtype: float32"
      ]
     },
     "metadata": {},
     "output_type": "display_data"
    },
    {
     "name": "stdout",
     "output_type": "stream",
     "text": [
      "tout\n"
     ]
    },
    {
     "data": {
      "text/plain": [
       "tout             0.001189\n",
       "faire            0.000181\n",
       "mutuelle         0.000138\n",
       "sante            0.000136\n",
       "soins            0.000103\n",
       "cpam             0.000101\n",
       "sociale          0.000099\n",
       "securite         0.000097\n",
       "remboursement    0.000094\n",
       "non                   NaN\n",
       "Name: tout, dtype: float32"
      ]
     },
     "metadata": {},
     "output_type": "display_data"
    },
    {
     "name": "stdout",
     "output_type": "stream",
     "text": [
      "vitale\n"
     ]
    },
    {
     "data": {
      "text/plain": [
       "vitale            0.001205\n",
       "carte             0.001068\n",
       "sante             0.000123\n",
       "remboursements    0.000113\n",
       "remboursement     0.000108\n",
       "soins             0.000107\n",
       "mutuelle          0.000105\n",
       "non                    NaN\n",
       "securite               NaN\n",
       "fonctionne             NaN\n",
       "Name: vitale, dtype: float32"
      ]
     },
     "metadata": {},
     "output_type": "display_data"
    },
    {
     "name": "stdout",
     "output_type": "stream",
     "text": [
      "mutuelles\n"
     ]
    },
    {
     "data": {
      "text/plain": [
       "mutuelles         0.001212\n",
       "charge            0.000177\n",
       "sante             0.000160\n",
       "remboursements    0.000150\n",
       "sociale           0.000148\n",
       "securite          0.000147\n",
       "soins             0.000140\n",
       "remboursement     0.000116\n",
       "mutuelle          0.000104\n",
       "cpam              0.000099\n",
       "Name: mutuelles, dtype: float32"
      ]
     },
     "metadata": {},
     "output_type": "display_data"
    },
    {
     "name": "stdout",
     "output_type": "stream",
     "text": [
      "charge\n"
     ]
    },
    {
     "data": {
      "text/plain": [
       "charge       0.001258\n",
       "prise        0.001062\n",
       "frais        0.000297\n",
       "soins        0.000224\n",
       "faire        0.000180\n",
       "mutuelles    0.000177\n",
       "sante        0.000159\n",
       "sociale      0.000134\n",
       "securite     0.000133\n",
       "mutuelle     0.000130\n",
       "Name: charge, dtype: float32"
      ]
     },
     "metadata": {},
     "output_type": "display_data"
    },
    {
     "name": "stdout",
     "output_type": "stream",
     "text": [
      "faire\n"
     ]
    },
    {
     "data": {
      "text/plain": [
       "faire         0.001393\n",
       "rembourser    0.000609\n",
       "faut          0.000256\n",
       "tout          0.000181\n",
       "charge        0.000180\n",
       "soins         0.000160\n",
       "sante         0.000153\n",
       "securite      0.000129\n",
       "sociale       0.000128\n",
       "mutuelle      0.000125\n",
       "Name: faire, dtype: float32"
      ]
     },
     "metadata": {},
     "output_type": "display_data"
    },
    {
     "name": "stdout",
     "output_type": "stream",
     "text": [
      "non\n"
     ]
    },
    {
     "data": {
      "text/plain": [
       "non               0.001497\n",
       "remboursement     0.000121\n",
       "securite               NaN\n",
       "fonctionne             NaN\n",
       "remboursements         NaN\n",
       "compte                 NaN\n",
       "carte                  NaN\n",
       "payer                  NaN\n",
       "rembourser             NaN\n",
       "dentaires              NaN\n",
       "Name: non, dtype: float32"
      ]
     },
     "metadata": {},
     "output_type": "display_data"
    },
    {
     "name": "stdout",
     "output_type": "stream",
     "text": [
      "fonctionne\n"
     ]
    },
    {
     "data": {
      "text/plain": [
       "fonctionne        0.001585\n",
       "systeme           0.000313\n",
       "non                    NaN\n",
       "securite               NaN\n",
       "remboursements         NaN\n",
       "compte                 NaN\n",
       "carte                  NaN\n",
       "payer                  NaN\n",
       "rembourser             NaN\n",
       "dentaires              NaN\n",
       "Name: fonctionne, dtype: float32"
      ]
     },
     "metadata": {},
     "output_type": "display_data"
    },
    {
     "name": "stdout",
     "output_type": "stream",
     "text": [
      "aucun\n"
     ]
    },
    {
     "data": {
      "text/plain": [
       "aucun             0.001637\n",
       "probleme          0.000501\n",
       "non                    NaN\n",
       "securite               NaN\n",
       "fonctionne             NaN\n",
       "remboursements         NaN\n",
       "compte                 NaN\n",
       "carte                  NaN\n",
       "payer                  NaN\n",
       "rembourser             NaN\n",
       "Name: aucun, dtype: float32"
      ]
     },
     "metadata": {},
     "output_type": "display_data"
    },
    {
     "name": "stdout",
     "output_type": "stream",
     "text": [
      "secu\n"
     ]
    },
    {
     "data": {
      "text/plain": [
       "secu              0.001661\n",
       "mutuelle          0.000192\n",
       "remboursement     0.000110\n",
       "non                    NaN\n",
       "securite               NaN\n",
       "fonctionne             NaN\n",
       "remboursements         NaN\n",
       "compte                 NaN\n",
       "carte                  NaN\n",
       "payer                  NaN\n",
       "Name: secu, dtype: float32"
      ]
     },
     "metadata": {},
     "output_type": "display_data"
    },
    {
     "name": "stdout",
     "output_type": "stream",
     "text": [
      "faut\n"
     ]
    },
    {
     "data": {
      "text/plain": [
       "faut              0.001721\n",
       "faire             0.000256\n",
       "sante             0.000167\n",
       "soins             0.000157\n",
       "mutuelle          0.000137\n",
       "sociale           0.000133\n",
       "securite          0.000123\n",
       "non                    NaN\n",
       "fonctionne             NaN\n",
       "remboursements         NaN\n",
       "Name: faut, dtype: float32"
      ]
     },
     "metadata": {},
     "output_type": "display_data"
    }
   ],
   "source": [
    "for i in df_qu_25_one_hot.sum(axis=0).sort_values(ascending=False).head(20).index:\n",
    "    print(i)\n",
    "    display(df_lift_25[i].sort_values(ascending=False).head(10))"
   ]
  },
  {
   "cell_type": "code",
   "execution_count": 140,
   "metadata": {},
   "outputs": [
    {
     "data": {
      "text/plain": [
       "285"
      ]
     },
     "execution_count": 140,
     "metadata": {},
     "output_type": "execute_result"
    }
   ],
   "source": [
    "gc.collect()"
   ]
  },
  {
   "cell_type": "markdown",
   "metadata": {},
   "source": [
    "# Question 26:  Si vous avez été amené à faire une demande d'aide pour une situation de handicap, pouvez-vous indiquer les éléments de satisfaction et/ou les difficultés rencontrés en précisant, pour chaque point, l'administration concernée :"
   ]
  },
  {
   "cell_type": "code",
   "execution_count": 141,
   "metadata": {
    "collapsed": true
   },
   "outputs": [],
   "source": [
    "question_26 = \"Si vous avez été amené à faire une demande d'aide pour une situation de handicap, pouvez-vous indiquer les éléments de satisfaction et/ou les difficultés rencontrés en précisant, pour chaque point, l'administration concernée :\"\n",
    "qu_26,df_qu_26_one_hot,df_cov_26,df_confidence_26,df_lift_26 = compute_similarities(question_26, new_res)"
   ]
  },
  {
   "cell_type": "code",
   "execution_count": 142,
   "metadata": {
    "scrolled": true
   },
   "outputs": [
    {
     "name": "stdout",
     "output_type": "stream",
     "text": [
      "non\n"
     ]
    },
    {
     "data": {
      "text/plain": [
       "non          1008\n",
       "concerne      392\n",
       "mois            0\n",
       "reponse         0\n",
       "long            0\n",
       "handicap        0\n",
       "handicape       0\n",
       "tout            0\n",
       "dossiers        0\n",
       "demande         0\n",
       "Name: non, dtype: uint16"
      ]
     },
     "metadata": {},
     "output_type": "display_data"
    },
    {
     "name": "stdout",
     "output_type": "stream",
     "text": [
      "mdph\n"
     ]
    },
    {
     "data": {
      "text/plain": [
       "mdph        980\n",
       "dossier     285\n",
       "handicap    213\n",
       "demande     182\n",
       "mois        174\n",
       "dossiers    157\n",
       "ans         130\n",
       "faire       129\n",
       "aide        123\n",
       "long        121\n",
       "Name: mdph, dtype: uint16"
      ]
     },
     "metadata": {},
     "output_type": "display_data"
    },
    {
     "name": "stdout",
     "output_type": "stream",
     "text": [
      "concerne\n"
     ]
    },
    {
     "data": {
      "text/plain": [
       "concerne     773\n",
       "non          392\n",
       "mois           0\n",
       "reponse        0\n",
       "long           0\n",
       "handicap       0\n",
       "handicape      0\n",
       "tout           0\n",
       "dossiers       0\n",
       "demande        0\n",
       "Name: concerne, dtype: uint16"
      ]
     },
     "metadata": {},
     "output_type": "display_data"
    },
    {
     "name": "stdout",
     "output_type": "stream",
     "text": [
      "handicap\n"
     ]
    },
    {
     "data": {
      "text/plain": [
       "handicap    695\n",
       "mdph        213\n",
       "dossier     154\n",
       "ans         142\n",
       "faire       132\n",
       "aide        126\n",
       "demande     124\n",
       "tous        105\n",
       "concerne      0\n",
       "faut          0\n",
       "Name: handicap, dtype: uint16"
      ]
     },
     "metadata": {},
     "output_type": "display_data"
    },
    {
     "name": "stdout",
     "output_type": "stream",
     "text": [
      "dossier\n"
     ]
    },
    {
     "data": {
      "text/plain": [
       "dossier     600\n",
       "mdph        285\n",
       "handicap    154\n",
       "demande     151\n",
       "mois        143\n",
       "ans         116\n",
       "tous          0\n",
       "concerne      0\n",
       "aide          0\n",
       "faire         0\n",
       "Name: dossier, dtype: uint16"
      ]
     },
     "metadata": {},
     "output_type": "display_data"
    },
    {
     "name": "stdout",
     "output_type": "stream",
     "text": [
      "demande\n"
     ]
    },
    {
     "data": {
      "text/plain": [
       "demande      538\n",
       "mdph         182\n",
       "dossier      151\n",
       "aide         130\n",
       "mois         125\n",
       "handicap     124\n",
       "faire        102\n",
       "handicape    102\n",
       "tous           0\n",
       "concerne       0\n",
       "Name: demande, dtype: uint16"
      ]
     },
     "metadata": {},
     "output_type": "display_data"
    },
    {
     "name": "stdout",
     "output_type": "stream",
     "text": [
      "aide\n"
     ]
    },
    {
     "data": {
      "text/plain": [
       "aide         434\n",
       "demande      130\n",
       "handicap     126\n",
       "mdph         123\n",
       "mois           0\n",
       "reponse        0\n",
       "long           0\n",
       "handicape      0\n",
       "tout           0\n",
       "dossiers       0\n",
       "Name: aide, dtype: uint16"
      ]
     },
     "metadata": {},
     "output_type": "display_data"
    },
    {
     "name": "stdout",
     "output_type": "stream",
     "text": [
      "mois\n"
     ]
    },
    {
     "data": {
      "text/plain": [
       "mois        405\n",
       "mdph        174\n",
       "dossier     143\n",
       "demande     125\n",
       "tous          0\n",
       "concerne      0\n",
       "aide          0\n",
       "faire         0\n",
       "ans           0\n",
       "faut          0\n",
       "Name: mois, dtype: uint16"
      ]
     },
     "metadata": {},
     "output_type": "display_data"
    },
    {
     "name": "stdout",
     "output_type": "stream",
     "text": [
      "handicape\n"
     ]
    },
    {
     "data": {
      "text/plain": [
       "handicape    379\n",
       "mdph         111\n",
       "demande      102\n",
       "mois           0\n",
       "reponse        0\n",
       "long           0\n",
       "handicap       0\n",
       "tout           0\n",
       "dossiers       0\n",
       "dossier        0\n",
       "Name: handicape, dtype: uint16"
      ]
     },
     "metadata": {},
     "output_type": "display_data"
    },
    {
     "name": "stdout",
     "output_type": "stream",
     "text": [
      "ans\n"
     ]
    },
    {
     "data": {
      "text/plain": [
       "ans          371\n",
       "tous         148\n",
       "handicap     142\n",
       "mdph         130\n",
       "dossier      116\n",
       "dossiers       0\n",
       "reponse        0\n",
       "long           0\n",
       "handicape      0\n",
       "tout           0\n",
       "Name: ans, dtype: uint16"
      ]
     },
     "metadata": {},
     "output_type": "display_data"
    },
    {
     "name": "stdout",
     "output_type": "stream",
     "text": [
      "faire\n"
     ]
    },
    {
     "data": {
      "text/plain": [
       "faire        361\n",
       "handicap     132\n",
       "mdph         129\n",
       "demande      102\n",
       "mois           0\n",
       "reponse        0\n",
       "long           0\n",
       "handicape      0\n",
       "tout           0\n",
       "dossiers       0\n",
       "Name: faire, dtype: uint16"
      ]
     },
     "metadata": {},
     "output_type": "display_data"
    },
    {
     "name": "stdout",
     "output_type": "stream",
     "text": [
      "long\n"
     ]
    },
    {
     "data": {
      "text/plain": [
       "long         296\n",
       "mdph         121\n",
       "demande        0\n",
       "mois           0\n",
       "reponse        0\n",
       "handicap       0\n",
       "handicape      0\n",
       "tout           0\n",
       "dossiers       0\n",
       "dossier        0\n",
       "Name: long, dtype: uint16"
      ]
     },
     "metadata": {},
     "output_type": "display_data"
    },
    {
     "name": "stdout",
     "output_type": "stream",
     "text": [
      "dossiers\n"
     ]
    },
    {
     "data": {
      "text/plain": [
       "dossiers     291\n",
       "mdph         157\n",
       "demande        0\n",
       "mois           0\n",
       "reponse        0\n",
       "long           0\n",
       "handicap       0\n",
       "handicape      0\n",
       "tout           0\n",
       "dossier        0\n",
       "Name: dossiers, dtype: uint16"
      ]
     },
     "metadata": {},
     "output_type": "display_data"
    },
    {
     "name": "stdout",
     "output_type": "stream",
     "text": [
      "tout\n"
     ]
    },
    {
     "data": {
      "text/plain": [
       "tout         272\n",
       "demande        0\n",
       "faut           0\n",
       "reponse        0\n",
       "long           0\n",
       "handicap       0\n",
       "handicape      0\n",
       "dossiers       0\n",
       "mois           0\n",
       "dossier        0\n",
       "Name: tout, dtype: uint16"
      ]
     },
     "metadata": {},
     "output_type": "display_data"
    },
    {
     "name": "stdout",
     "output_type": "stream",
     "text": [
      "reponse\n"
     ]
    },
    {
     "data": {
      "text/plain": [
       "reponse      269\n",
       "demande        0\n",
       "faut           0\n",
       "long           0\n",
       "handicap       0\n",
       "handicape      0\n",
       "tout           0\n",
       "dossiers       0\n",
       "mois           0\n",
       "dossier        0\n",
       "Name: reponse, dtype: uint16"
      ]
     },
     "metadata": {},
     "output_type": "display_data"
    },
    {
     "name": "stdout",
     "output_type": "stream",
     "text": [
      "tous\n"
     ]
    },
    {
     "data": {
      "text/plain": [
       "tous         259\n",
       "ans          148\n",
       "handicap     105\n",
       "mdph         103\n",
       "demande        0\n",
       "dossiers       0\n",
       "reponse        0\n",
       "long           0\n",
       "handicape      0\n",
       "tout           0\n",
       "Name: tous, dtype: uint16"
      ]
     },
     "metadata": {},
     "output_type": "display_data"
    },
    {
     "name": "stdout",
     "output_type": "stream",
     "text": [
      "faut\n"
     ]
    },
    {
     "data": {
      "text/plain": [
       "faut         258\n",
       "demande        0\n",
       "reponse        0\n",
       "long           0\n",
       "handicap       0\n",
       "handicape      0\n",
       "tout           0\n",
       "dossiers       0\n",
       "mois           0\n",
       "dossier        0\n",
       "Name: faut, dtype: uint16"
      ]
     },
     "metadata": {},
     "output_type": "display_data"
    },
    {
     "name": "stdout",
     "output_type": "stream",
     "text": [
      "ras\n"
     ]
    },
    {
     "data": {
      "text/plain": [
       "ras          258\n",
       "demande        0\n",
       "mois           0\n",
       "reponse        0\n",
       "long           0\n",
       "handicap       0\n",
       "handicape      0\n",
       "tout           0\n",
       "dossiers       0\n",
       "dossier        0\n",
       "Name: ras, dtype: uint16"
      ]
     },
     "metadata": {},
     "output_type": "display_data"
    }
   ],
   "source": [
    "for i in df_qu_26_one_hot.sum(axis=0).sort_values(ascending=False).head(20).index:\n",
    "    print(i)\n",
    "    display(df_cov_26[i].sort_values(ascending=False).head(10))"
   ]
  },
  {
   "cell_type": "code",
   "execution_count": 143,
   "metadata": {
    "scrolled": true
   },
   "outputs": [
    {
     "name": "stdout",
     "output_type": "stream",
     "text": [
      "non\n"
     ]
    },
    {
     "data": {
      "text/plain": [
       "non          1.000000\n",
       "concerne     0.507115\n",
       "mois         0.000000\n",
       "reponse      0.000000\n",
       "long         0.000000\n",
       "handicap     0.000000\n",
       "handicape    0.000000\n",
       "tout         0.000000\n",
       "dossiers     0.000000\n",
       "demande      0.000000\n",
       "Name: non, dtype: float32"
      ]
     },
     "metadata": {},
     "output_type": "display_data"
    },
    {
     "name": "stdout",
     "output_type": "stream",
     "text": [
      "mdph\n"
     ]
    },
    {
     "data": {
      "text/plain": [
       "mdph        1.000000\n",
       "dossiers    0.539519\n",
       "dossier     0.475000\n",
       "mois        0.429630\n",
       "long        0.408784\n",
       "tous        0.397683\n",
       "faire       0.357341\n",
       "ans         0.350404\n",
       "demande     0.338290\n",
       "handicap    0.306475\n",
       "Name: mdph, dtype: float32"
      ]
     },
     "metadata": {},
     "output_type": "display_data"
    },
    {
     "name": "stdout",
     "output_type": "stream",
     "text": [
      "concerne\n"
     ]
    },
    {
     "data": {
      "text/plain": [
       "concerne     1.000000\n",
       "non          0.388889\n",
       "mois         0.000000\n",
       "reponse      0.000000\n",
       "long         0.000000\n",
       "handicap     0.000000\n",
       "handicape    0.000000\n",
       "tout         0.000000\n",
       "dossiers     0.000000\n",
       "demande      0.000000\n",
       "Name: concerne, dtype: float32"
      ]
     },
     "metadata": {},
     "output_type": "display_data"
    },
    {
     "name": "stdout",
     "output_type": "stream",
     "text": [
      "handicap\n"
     ]
    },
    {
     "data": {
      "text/plain": [
       "handicap    1.000000\n",
       "tous        0.405405\n",
       "ans         0.382749\n",
       "faire       0.365651\n",
       "aide        0.290323\n",
       "dossier     0.256667\n",
       "demande     0.230483\n",
       "mdph        0.217347\n",
       "concerne    0.000000\n",
       "faut        0.000000\n",
       "Name: handicap, dtype: float32"
      ]
     },
     "metadata": {},
     "output_type": "display_data"
    },
    {
     "name": "stdout",
     "output_type": "stream",
     "text": [
      "dossier\n"
     ]
    },
    {
     "data": {
      "text/plain": [
       "dossier     1.000000\n",
       "mois        0.353086\n",
       "ans         0.312668\n",
       "mdph        0.290816\n",
       "demande     0.280669\n",
       "handicap    0.221583\n",
       "concerne    0.000000\n",
       "tous        0.000000\n",
       "faire       0.000000\n",
       "aide        0.000000\n",
       "Name: dossier, dtype: float32"
      ]
     },
     "metadata": {},
     "output_type": "display_data"
    },
    {
     "name": "stdout",
     "output_type": "stream",
     "text": [
      "demande\n"
     ]
    },
    {
     "data": {
      "text/plain": [
       "demande      1.000000\n",
       "mois         0.308642\n",
       "aide         0.299539\n",
       "faire        0.282548\n",
       "handicape    0.269129\n",
       "dossier      0.251667\n",
       "mdph         0.185714\n",
       "handicap     0.178417\n",
       "concerne     0.000000\n",
       "ans          0.000000\n",
       "Name: demande, dtype: float32"
      ]
     },
     "metadata": {},
     "output_type": "display_data"
    },
    {
     "name": "stdout",
     "output_type": "stream",
     "text": [
      "aide\n"
     ]
    },
    {
     "data": {
      "text/plain": [
       "aide         1.000000\n",
       "demande      0.241636\n",
       "handicap     0.181295\n",
       "mdph         0.125510\n",
       "mois         0.000000\n",
       "reponse      0.000000\n",
       "long         0.000000\n",
       "handicape    0.000000\n",
       "tout         0.000000\n",
       "dossiers     0.000000\n",
       "Name: aide, dtype: float32"
      ]
     },
     "metadata": {},
     "output_type": "display_data"
    },
    {
     "name": "stdout",
     "output_type": "stream",
     "text": [
      "mois\n"
     ]
    },
    {
     "data": {
      "text/plain": [
       "mois        1.000000\n",
       "dossier     0.238333\n",
       "demande     0.232342\n",
       "mdph        0.177551\n",
       "aide        0.000000\n",
       "tous        0.000000\n",
       "concerne    0.000000\n",
       "faire       0.000000\n",
       "ans         0.000000\n",
       "faut        0.000000\n",
       "Name: mois, dtype: float32"
      ]
     },
     "metadata": {},
     "output_type": "display_data"
    },
    {
     "name": "stdout",
     "output_type": "stream",
     "text": [
      "handicape\n"
     ]
    },
    {
     "data": {
      "text/plain": [
       "handicape    1.000000\n",
       "demande      0.189591\n",
       "mdph         0.113265\n",
       "mois         0.000000\n",
       "reponse      0.000000\n",
       "long         0.000000\n",
       "handicap     0.000000\n",
       "tout         0.000000\n",
       "dossiers     0.000000\n",
       "dossier      0.000000\n",
       "Name: handicape, dtype: float32"
      ]
     },
     "metadata": {},
     "output_type": "display_data"
    },
    {
     "name": "stdout",
     "output_type": "stream",
     "text": [
      "ans\n"
     ]
    },
    {
     "data": {
      "text/plain": [
       "ans          1.000000\n",
       "tous         0.571429\n",
       "handicap     0.204317\n",
       "dossier      0.193333\n",
       "mdph         0.132653\n",
       "dossiers     0.000000\n",
       "reponse      0.000000\n",
       "long         0.000000\n",
       "handicape    0.000000\n",
       "tout         0.000000\n",
       "Name: ans, dtype: float32"
      ]
     },
     "metadata": {},
     "output_type": "display_data"
    },
    {
     "name": "stdout",
     "output_type": "stream",
     "text": [
      "faire\n"
     ]
    },
    {
     "data": {
      "text/plain": [
       "faire        1.000000\n",
       "handicap     0.189928\n",
       "demande      0.189591\n",
       "mdph         0.131633\n",
       "mois         0.000000\n",
       "reponse      0.000000\n",
       "long         0.000000\n",
       "handicape    0.000000\n",
       "tout         0.000000\n",
       "dossiers     0.000000\n",
       "Name: faire, dtype: float32"
      ]
     },
     "metadata": {},
     "output_type": "display_data"
    },
    {
     "name": "stdout",
     "output_type": "stream",
     "text": [
      "long\n"
     ]
    },
    {
     "data": {
      "text/plain": [
       "long         1.000000\n",
       "mdph         0.123469\n",
       "demande      0.000000\n",
       "mois         0.000000\n",
       "reponse      0.000000\n",
       "handicap     0.000000\n",
       "handicape    0.000000\n",
       "tout         0.000000\n",
       "dossiers     0.000000\n",
       "dossier      0.000000\n",
       "Name: long, dtype: float32"
      ]
     },
     "metadata": {},
     "output_type": "display_data"
    },
    {
     "name": "stdout",
     "output_type": "stream",
     "text": [
      "dossiers\n"
     ]
    },
    {
     "data": {
      "text/plain": [
       "dossiers     1.000000\n",
       "mdph         0.160204\n",
       "demande      0.000000\n",
       "mois         0.000000\n",
       "reponse      0.000000\n",
       "long         0.000000\n",
       "handicap     0.000000\n",
       "handicape    0.000000\n",
       "tout         0.000000\n",
       "dossier      0.000000\n",
       "Name: dossiers, dtype: float32"
      ]
     },
     "metadata": {},
     "output_type": "display_data"
    },
    {
     "name": "stdout",
     "output_type": "stream",
     "text": [
      "tout\n"
     ]
    },
    {
     "data": {
      "text/plain": [
       "tout         1.0\n",
       "demande      0.0\n",
       "faut         0.0\n",
       "reponse      0.0\n",
       "long         0.0\n",
       "handicap     0.0\n",
       "handicape    0.0\n",
       "dossiers     0.0\n",
       "mois         0.0\n",
       "dossier      0.0\n",
       "Name: tout, dtype: float32"
      ]
     },
     "metadata": {},
     "output_type": "display_data"
    },
    {
     "name": "stdout",
     "output_type": "stream",
     "text": [
      "reponse\n"
     ]
    },
    {
     "data": {
      "text/plain": [
       "reponse      1.0\n",
       "demande      0.0\n",
       "faut         0.0\n",
       "long         0.0\n",
       "handicap     0.0\n",
       "handicape    0.0\n",
       "tout         0.0\n",
       "dossiers     0.0\n",
       "mois         0.0\n",
       "dossier      0.0\n",
       "Name: reponse, dtype: float32"
      ]
     },
     "metadata": {},
     "output_type": "display_data"
    },
    {
     "name": "stdout",
     "output_type": "stream",
     "text": [
      "tous\n"
     ]
    },
    {
     "data": {
      "text/plain": [
       "tous         1.000000\n",
       "ans          0.398922\n",
       "handicap     0.151079\n",
       "mdph         0.105102\n",
       "demande      0.000000\n",
       "dossiers     0.000000\n",
       "reponse      0.000000\n",
       "long         0.000000\n",
       "handicape    0.000000\n",
       "tout         0.000000\n",
       "Name: tous, dtype: float32"
      ]
     },
     "metadata": {},
     "output_type": "display_data"
    },
    {
     "name": "stdout",
     "output_type": "stream",
     "text": [
      "faut\n"
     ]
    },
    {
     "data": {
      "text/plain": [
       "faut         1.0\n",
       "demande      0.0\n",
       "reponse      0.0\n",
       "long         0.0\n",
       "handicap     0.0\n",
       "handicape    0.0\n",
       "tout         0.0\n",
       "dossiers     0.0\n",
       "mois         0.0\n",
       "dossier      0.0\n",
       "Name: faut, dtype: float32"
      ]
     },
     "metadata": {},
     "output_type": "display_data"
    },
    {
     "name": "stdout",
     "output_type": "stream",
     "text": [
      "ras\n"
     ]
    },
    {
     "data": {
      "text/plain": [
       "ras          1.0\n",
       "demande      0.0\n",
       "mois         0.0\n",
       "reponse      0.0\n",
       "long         0.0\n",
       "handicap     0.0\n",
       "handicape    0.0\n",
       "tout         0.0\n",
       "dossiers     0.0\n",
       "dossier      0.0\n",
       "Name: ras, dtype: float32"
      ]
     },
     "metadata": {},
     "output_type": "display_data"
    }
   ],
   "source": [
    "for i in df_qu_26_one_hot.sum(axis=0).sort_values(ascending=False).head(20).index:\n",
    "    print(i)\n",
    "    display(df_confidence_26[i].sort_values(ascending=False).head(10))"
   ]
  },
  {
   "cell_type": "code",
   "execution_count": 144,
   "metadata": {
    "scrolled": true
   },
   "outputs": [
    {
     "name": "stdout",
     "output_type": "stream",
     "text": [
      "non\n"
     ]
    },
    {
     "data": {
      "text/plain": [
       "non          0.000992\n",
       "concerne     0.000503\n",
       "reponse           NaN\n",
       "long              NaN\n",
       "handicap          NaN\n",
       "handicape         NaN\n",
       "tout              NaN\n",
       "dossiers          NaN\n",
       "mois              NaN\n",
       "dossier           NaN\n",
       "Name: non, dtype: float32"
      ]
     },
     "metadata": {},
     "output_type": "display_data"
    },
    {
     "name": "stdout",
     "output_type": "stream",
     "text": [
      "mdph\n"
     ]
    },
    {
     "data": {
      "text/plain": [
       "mdph        0.001020\n",
       "dossiers    0.000551\n",
       "dossier     0.000485\n",
       "mois        0.000438\n",
       "long        0.000417\n",
       "tous        0.000406\n",
       "faire       0.000365\n",
       "ans         0.000358\n",
       "demande     0.000345\n",
       "handicap    0.000313\n",
       "Name: mdph, dtype: float32"
      ]
     },
     "metadata": {},
     "output_type": "display_data"
    },
    {
     "name": "stdout",
     "output_type": "stream",
     "text": [
      "concerne\n"
     ]
    },
    {
     "data": {
      "text/plain": [
       "concerne     0.001294\n",
       "non          0.000503\n",
       "reponse           NaN\n",
       "long              NaN\n",
       "handicap          NaN\n",
       "handicape         NaN\n",
       "tout              NaN\n",
       "dossiers          NaN\n",
       "mois              NaN\n",
       "dossier           NaN\n",
       "Name: concerne, dtype: float32"
      ]
     },
     "metadata": {},
     "output_type": "display_data"
    },
    {
     "name": "stdout",
     "output_type": "stream",
     "text": [
      "handicap\n"
     ]
    },
    {
     "data": {
      "text/plain": [
       "handicap    0.001439\n",
       "tous        0.000583\n",
       "ans         0.000551\n",
       "faire       0.000526\n",
       "aide        0.000418\n",
       "dossier     0.000369\n",
       "demande     0.000332\n",
       "mdph        0.000313\n",
       "non              NaN\n",
       "reponse          NaN\n",
       "Name: handicap, dtype: float32"
      ]
     },
     "metadata": {},
     "output_type": "display_data"
    },
    {
     "name": "stdout",
     "output_type": "stream",
     "text": [
      "dossier\n"
     ]
    },
    {
     "data": {
      "text/plain": [
       "dossier      0.001667\n",
       "mois         0.000588\n",
       "ans          0.000521\n",
       "mdph         0.000485\n",
       "demande      0.000468\n",
       "handicap     0.000369\n",
       "non               NaN\n",
       "reponse           NaN\n",
       "long              NaN\n",
       "handicape         NaN\n",
       "Name: dossier, dtype: float32"
      ]
     },
     "metadata": {},
     "output_type": "display_data"
    },
    {
     "name": "stdout",
     "output_type": "stream",
     "text": [
      "demande\n"
     ]
    },
    {
     "data": {
      "text/plain": [
       "demande      0.001859\n",
       "mois         0.000574\n",
       "aide         0.000557\n",
       "faire        0.000525\n",
       "handicape    0.000500\n",
       "dossier      0.000468\n",
       "mdph         0.000345\n",
       "handicap     0.000332\n",
       "non               NaN\n",
       "reponse           NaN\n",
       "Name: demande, dtype: float32"
      ]
     },
     "metadata": {},
     "output_type": "display_data"
    },
    {
     "name": "stdout",
     "output_type": "stream",
     "text": [
      "aide\n"
     ]
    },
    {
     "data": {
      "text/plain": [
       "aide         0.002304\n",
       "demande      0.000557\n",
       "handicap     0.000418\n",
       "mdph         0.000289\n",
       "non               NaN\n",
       "reponse           NaN\n",
       "long              NaN\n",
       "handicape         NaN\n",
       "tout              NaN\n",
       "dossiers          NaN\n",
       "Name: aide, dtype: float32"
      ]
     },
     "metadata": {},
     "output_type": "display_data"
    },
    {
     "name": "stdout",
     "output_type": "stream",
     "text": [
      "mois\n"
     ]
    },
    {
     "data": {
      "text/plain": [
       "mois         0.002469\n",
       "dossier      0.000588\n",
       "demande      0.000574\n",
       "mdph         0.000438\n",
       "non               NaN\n",
       "reponse           NaN\n",
       "long              NaN\n",
       "handicap          NaN\n",
       "handicape         NaN\n",
       "tout              NaN\n",
       "Name: mois, dtype: float32"
      ]
     },
     "metadata": {},
     "output_type": "display_data"
    },
    {
     "name": "stdout",
     "output_type": "stream",
     "text": [
      "handicape\n"
     ]
    },
    {
     "data": {
      "text/plain": [
       "handicape    0.002639\n",
       "demande      0.000500\n",
       "mdph         0.000299\n",
       "non               NaN\n",
       "reponse           NaN\n",
       "long              NaN\n",
       "handicap          NaN\n",
       "tout              NaN\n",
       "dossiers          NaN\n",
       "mois              NaN\n",
       "Name: handicape, dtype: float32"
      ]
     },
     "metadata": {},
     "output_type": "display_data"
    },
    {
     "name": "stdout",
     "output_type": "stream",
     "text": [
      "ans\n"
     ]
    },
    {
     "data": {
      "text/plain": [
       "ans          0.002695\n",
       "tous         0.001540\n",
       "handicap     0.000551\n",
       "dossier      0.000521\n",
       "mdph         0.000358\n",
       "non               NaN\n",
       "reponse           NaN\n",
       "long              NaN\n",
       "handicape         NaN\n",
       "tout              NaN\n",
       "Name: ans, dtype: float32"
      ]
     },
     "metadata": {},
     "output_type": "display_data"
    },
    {
     "name": "stdout",
     "output_type": "stream",
     "text": [
      "faire\n"
     ]
    },
    {
     "data": {
      "text/plain": [
       "faire        0.002770\n",
       "handicap     0.000526\n",
       "demande      0.000525\n",
       "mdph         0.000365\n",
       "non               NaN\n",
       "reponse           NaN\n",
       "long              NaN\n",
       "handicape         NaN\n",
       "tout              NaN\n",
       "dossiers          NaN\n",
       "Name: faire, dtype: float32"
      ]
     },
     "metadata": {},
     "output_type": "display_data"
    },
    {
     "name": "stdout",
     "output_type": "stream",
     "text": [
      "long\n"
     ]
    },
    {
     "data": {
      "text/plain": [
       "long         0.003378\n",
       "mdph         0.000417\n",
       "non               NaN\n",
       "reponse           NaN\n",
       "handicap          NaN\n",
       "handicape         NaN\n",
       "tout              NaN\n",
       "dossiers          NaN\n",
       "mois              NaN\n",
       "dossier           NaN\n",
       "Name: long, dtype: float32"
      ]
     },
     "metadata": {},
     "output_type": "display_data"
    },
    {
     "name": "stdout",
     "output_type": "stream",
     "text": [
      "dossiers\n"
     ]
    },
    {
     "data": {
      "text/plain": [
       "dossiers     0.003436\n",
       "mdph         0.000551\n",
       "non               NaN\n",
       "reponse           NaN\n",
       "long              NaN\n",
       "handicap          NaN\n",
       "handicape         NaN\n",
       "tout              NaN\n",
       "mois              NaN\n",
       "dossier           NaN\n",
       "Name: dossiers, dtype: float32"
      ]
     },
     "metadata": {},
     "output_type": "display_data"
    },
    {
     "name": "stdout",
     "output_type": "stream",
     "text": [
      "tout\n"
     ]
    },
    {
     "data": {
      "text/plain": [
       "tout         0.003676\n",
       "non               NaN\n",
       "reponse           NaN\n",
       "long              NaN\n",
       "handicap          NaN\n",
       "handicape         NaN\n",
       "dossiers          NaN\n",
       "mois              NaN\n",
       "dossier           NaN\n",
       "ans               NaN\n",
       "Name: tout, dtype: float32"
      ]
     },
     "metadata": {},
     "output_type": "display_data"
    },
    {
     "name": "stdout",
     "output_type": "stream",
     "text": [
      "reponse\n"
     ]
    },
    {
     "data": {
      "text/plain": [
       "reponse      0.003717\n",
       "non               NaN\n",
       "long              NaN\n",
       "handicap          NaN\n",
       "handicape         NaN\n",
       "tout              NaN\n",
       "dossiers          NaN\n",
       "mois              NaN\n",
       "dossier           NaN\n",
       "ans               NaN\n",
       "Name: reponse, dtype: float32"
      ]
     },
     "metadata": {},
     "output_type": "display_data"
    },
    {
     "name": "stdout",
     "output_type": "stream",
     "text": [
      "tous\n"
     ]
    },
    {
     "data": {
      "text/plain": [
       "tous         0.003861\n",
       "ans          0.001540\n",
       "handicap     0.000583\n",
       "mdph         0.000406\n",
       "non               NaN\n",
       "reponse           NaN\n",
       "long              NaN\n",
       "handicape         NaN\n",
       "tout              NaN\n",
       "dossiers          NaN\n",
       "Name: tous, dtype: float32"
      ]
     },
     "metadata": {},
     "output_type": "display_data"
    },
    {
     "name": "stdout",
     "output_type": "stream",
     "text": [
      "faut\n"
     ]
    },
    {
     "data": {
      "text/plain": [
       "faut         0.003876\n",
       "non               NaN\n",
       "reponse           NaN\n",
       "long              NaN\n",
       "handicap          NaN\n",
       "handicape         NaN\n",
       "tout              NaN\n",
       "dossiers          NaN\n",
       "mois              NaN\n",
       "dossier           NaN\n",
       "Name: faut, dtype: float32"
      ]
     },
     "metadata": {},
     "output_type": "display_data"
    },
    {
     "name": "stdout",
     "output_type": "stream",
     "text": [
      "ras\n"
     ]
    },
    {
     "data": {
      "text/plain": [
       "ras          0.003876\n",
       "non               NaN\n",
       "reponse           NaN\n",
       "long              NaN\n",
       "handicap          NaN\n",
       "handicape         NaN\n",
       "tout              NaN\n",
       "dossiers          NaN\n",
       "mois              NaN\n",
       "dossier           NaN\n",
       "Name: ras, dtype: float32"
      ]
     },
     "metadata": {},
     "output_type": "display_data"
    }
   ],
   "source": [
    "for i in df_qu_26_one_hot.sum(axis=0).sort_values(ascending=False).head(20).index:\n",
    "    print(i)\n",
    "    display(df_lift_26[i].sort_values(ascending=False).head(10))"
   ]
  },
  {
   "cell_type": "code",
   "execution_count": 145,
   "metadata": {},
   "outputs": [
    {
     "data": {
      "text/plain": [
       "133"
      ]
     },
     "execution_count": 145,
     "metadata": {},
     "output_type": "execute_result"
    }
   ],
   "source": [
    "gc.collect()"
   ]
  },
  {
   "cell_type": "code",
   "execution_count": null,
   "metadata": {
    "collapsed": true
   },
   "outputs": [],
   "source": []
  },
  {
   "cell_type": "markdown",
   "metadata": {},
   "source": [
    "# Question 27: Si vous avez été amené à créer une entreprise, pouvez-vous indiquer les éléments de satisfaction et/ou les difficultés rencontrés en précisant, pour chaque point, l'administration concernée :"
   ]
  },
  {
   "cell_type": "code",
   "execution_count": 146,
   "metadata": {
    "collapsed": true
   },
   "outputs": [],
   "source": [
    "question_27 = \"Si vous avez été amené à créer une entreprise, pouvez-vous indiquer les éléments de satisfaction et/ou les difficultés rencontrés en précisant, pour chaque point, l'administration concernée :\"\n",
    "qu_27,df_qu_27_one_hot,df_cov_27,df_confidence_27,df_lift_27 = compute_similarities(question_27, new_res)"
   ]
  },
  {
   "cell_type": "code",
   "execution_count": 147,
   "metadata": {
    "scrolled": true
   },
   "outputs": [
    {
     "name": "stdout",
     "output_type": "stream",
     "text": [
      "entreprise\n"
     ]
    },
    {
     "data": {
      "text/plain": [
       "entreprise    1076\n",
       "creation       401\n",
       "creer          285\n",
       "auto           147\n",
       "urssaf         144\n",
       "faire          133\n",
       "tout           120\n",
       "aide           102\n",
       "activite         0\n",
       "impots           0\n",
       "Name: entreprise, dtype: uint16"
      ]
     },
     "metadata": {},
     "output_type": "display_data"
    },
    {
     "name": "stdout",
     "output_type": "stream",
     "text": [
      "non\n"
     ]
    },
    {
     "data": {
      "text/plain": [
       "non            739\n",
       "concerne       279\n",
       "entreprise       0\n",
       "impots           0\n",
       "creation         0\n",
       "demarches        0\n",
       "entreprises      0\n",
       "activite         0\n",
       "rsi              0\n",
       "faut             0\n",
       "Name: non, dtype: uint16"
      ]
     },
     "metadata": {},
     "output_type": "display_data"
    },
    {
     "name": "stdout",
     "output_type": "stream",
     "text": [
      "creation\n"
     ]
    },
    {
     "data": {
      "text/plain": [
       "creation       690\n",
       "entreprise     401\n",
       "faut             0\n",
       "aide             0\n",
       "impots           0\n",
       "demarches        0\n",
       "entreprises      0\n",
       "activite         0\n",
       "rsi              0\n",
       "tout             0\n",
       "Name: creation, dtype: uint16"
      ]
     },
     "metadata": {},
     "output_type": "display_data"
    },
    {
     "name": "stdout",
     "output_type": "stream",
     "text": [
      "urssaf\n"
     ]
    },
    {
     "data": {
      "text/plain": [
       "urssaf         545\n",
       "entreprise     144\n",
       "rsi            104\n",
       "faut             0\n",
       "impots           0\n",
       "creation         0\n",
       "demarches        0\n",
       "entreprises      0\n",
       "activite         0\n",
       "tout             0\n",
       "Name: urssaf, dtype: uint16"
      ]
     },
     "metadata": {},
     "output_type": "display_data"
    },
    {
     "name": "stdout",
     "output_type": "stream",
     "text": [
      "concerne\n"
     ]
    },
    {
     "data": {
      "text/plain": [
       "concerne       502\n",
       "non            279\n",
       "entreprise       0\n",
       "impots           0\n",
       "creation         0\n",
       "demarches        0\n",
       "entreprises      0\n",
       "activite         0\n",
       "rsi              0\n",
       "faut             0\n",
       "Name: concerne, dtype: uint16"
      ]
     },
     "metadata": {},
     "output_type": "display_data"
    },
    {
     "name": "stdout",
     "output_type": "stream",
     "text": [
      "creer\n"
     ]
    },
    {
     "data": {
      "text/plain": [
       "creer          414\n",
       "entreprise     285\n",
       "faut             0\n",
       "impots           0\n",
       "creation         0\n",
       "demarches        0\n",
       "entreprises      0\n",
       "activite         0\n",
       "rsi              0\n",
       "tout             0\n",
       "Name: creer, dtype: uint16"
      ]
     },
     "metadata": {},
     "output_type": "display_data"
    },
    {
     "name": "stdout",
     "output_type": "stream",
     "text": [
      "rsi\n"
     ]
    },
    {
     "data": {
      "text/plain": [
       "rsi            389\n",
       "urssaf         104\n",
       "faut             0\n",
       "entreprise       0\n",
       "impots           0\n",
       "creation         0\n",
       "demarches        0\n",
       "entreprises      0\n",
       "activite         0\n",
       "tout             0\n",
       "Name: rsi, dtype: uint16"
      ]
     },
     "metadata": {},
     "output_type": "display_data"
    },
    {
     "name": "stdout",
     "output_type": "stream",
     "text": [
      "tout\n"
     ]
    },
    {
     "data": {
      "text/plain": [
       "tout           376\n",
       "entreprise     120\n",
       "aide             0\n",
       "impots           0\n",
       "creation         0\n",
       "demarches        0\n",
       "entreprises      0\n",
       "activite         0\n",
       "rsi              0\n",
       "faut             0\n",
       "Name: tout, dtype: uint16"
      ]
     },
     "metadata": {},
     "output_type": "display_data"
    },
    {
     "name": "stdout",
     "output_type": "stream",
     "text": [
      "auto\n"
     ]
    },
    {
     "data": {
      "text/plain": [
       "auto            373\n",
       "entrepreneur    218\n",
       "entreprise      147\n",
       "faut              0\n",
       "impots            0\n",
       "creation          0\n",
       "demarches         0\n",
       "entreprises       0\n",
       "activite          0\n",
       "rsi               0\n",
       "Name: auto, dtype: uint16"
      ]
     },
     "metadata": {},
     "output_type": "display_data"
    },
    {
     "name": "stdout",
     "output_type": "stream",
     "text": [
      "faire\n"
     ]
    },
    {
     "data": {
      "text/plain": [
       "faire          361\n",
       "entreprise     133\n",
       "faut             0\n",
       "impots           0\n",
       "creation         0\n",
       "demarches        0\n",
       "entreprises      0\n",
       "activite         0\n",
       "rsi              0\n",
       "tout             0\n",
       "Name: faire, dtype: uint16"
      ]
     },
     "metadata": {},
     "output_type": "display_data"
    },
    {
     "name": "stdout",
     "output_type": "stream",
     "text": [
      "demarches\n"
     ]
    },
    {
     "data": {
      "text/plain": [
       "demarches      338\n",
       "faut             0\n",
       "aide             0\n",
       "impots           0\n",
       "creation         0\n",
       "entreprises      0\n",
       "activite         0\n",
       "rsi              0\n",
       "entreprise       0\n",
       "tout             0\n",
       "Name: demarches, dtype: uint16"
      ]
     },
     "metadata": {},
     "output_type": "display_data"
    },
    {
     "name": "stdout",
     "output_type": "stream",
     "text": [
      "commerce\n"
     ]
    },
    {
     "data": {
      "text/plain": [
       "commerce       291\n",
       "faut             0\n",
       "entreprise       0\n",
       "impots           0\n",
       "creation         0\n",
       "demarches        0\n",
       "entreprises      0\n",
       "activite         0\n",
       "rsi              0\n",
       "tout             0\n",
       "Name: commerce, dtype: uint16"
      ]
     },
     "metadata": {},
     "output_type": "display_data"
    },
    {
     "name": "stdout",
     "output_type": "stream",
     "text": [
      "entrepreneur\n"
     ]
    },
    {
     "data": {
      "text/plain": [
       "entrepreneur    285\n",
       "auto            218\n",
       "faut              0\n",
       "entreprise        0\n",
       "impots            0\n",
       "creation          0\n",
       "demarches         0\n",
       "entreprises       0\n",
       "activite          0\n",
       "rsi               0\n",
       "Name: entrepreneur, dtype: uint16"
      ]
     },
     "metadata": {},
     "output_type": "display_data"
    },
    {
     "name": "stdout",
     "output_type": "stream",
     "text": [
      "impots\n"
     ]
    },
    {
     "data": {
      "text/plain": [
       "impots         285\n",
       "faut             0\n",
       "aide             0\n",
       "creation         0\n",
       "demarches        0\n",
       "entreprises      0\n",
       "activite         0\n",
       "rsi              0\n",
       "entreprise       0\n",
       "tout             0\n",
       "Name: impots, dtype: uint16"
      ]
     },
     "metadata": {},
     "output_type": "display_data"
    },
    {
     "name": "stdout",
     "output_type": "stream",
     "text": [
      "faut\n"
     ]
    },
    {
     "data": {
      "text/plain": [
       "faut           282\n",
       "aide             0\n",
       "impots           0\n",
       "creation         0\n",
       "demarches        0\n",
       "entreprises      0\n",
       "activite         0\n",
       "rsi              0\n",
       "entreprise       0\n",
       "tout             0\n",
       "Name: faut, dtype: uint16"
      ]
     },
     "metadata": {},
     "output_type": "display_data"
    },
    {
     "name": "stdout",
     "output_type": "stream",
     "text": [
      "entreprises\n"
     ]
    },
    {
     "data": {
      "text/plain": [
       "entreprises    278\n",
       "faut             0\n",
       "aide             0\n",
       "impots           0\n",
       "creation         0\n",
       "demarches        0\n",
       "activite         0\n",
       "rsi              0\n",
       "entreprise       0\n",
       "tout             0\n",
       "Name: entreprises, dtype: uint16"
      ]
     },
     "metadata": {},
     "output_type": "display_data"
    },
    {
     "name": "stdout",
     "output_type": "stream",
     "text": [
      "aide\n"
     ]
    },
    {
     "data": {
      "text/plain": [
       "aide           273\n",
       "entreprise     102\n",
       "faut             0\n",
       "impots           0\n",
       "creation         0\n",
       "demarches        0\n",
       "entreprises      0\n",
       "activite         0\n",
       "rsi              0\n",
       "tout             0\n",
       "Name: aide, dtype: uint16"
      ]
     },
     "metadata": {},
     "output_type": "display_data"
    },
    {
     "name": "stdout",
     "output_type": "stream",
     "text": [
      "activite\n"
     ]
    },
    {
     "data": {
      "text/plain": [
       "activite       255\n",
       "faut             0\n",
       "aide             0\n",
       "impots           0\n",
       "creation         0\n",
       "demarches        0\n",
       "entreprises      0\n",
       "rsi              0\n",
       "entreprise       0\n",
       "tout             0\n",
       "Name: activite, dtype: uint16"
      ]
     },
     "metadata": {},
     "output_type": "display_data"
    }
   ],
   "source": [
    "for i in df_qu_27_one_hot.sum(axis=0).sort_values(ascending=False).head(20).index:\n",
    "    print(i)\n",
    "    display(df_cov_27[i].sort_values(ascending=False).head(10))"
   ]
  },
  {
   "cell_type": "code",
   "execution_count": 148,
   "metadata": {
    "scrolled": true
   },
   "outputs": [
    {
     "name": "stdout",
     "output_type": "stream",
     "text": [
      "entreprise\n"
     ]
    },
    {
     "data": {
      "text/plain": [
       "entreprise    1.000000\n",
       "creer         0.688406\n",
       "creation      0.581159\n",
       "auto          0.394102\n",
       "aide          0.373626\n",
       "faire         0.368421\n",
       "tout          0.319149\n",
       "urssaf        0.264220\n",
       "activite      0.000000\n",
       "impots        0.000000\n",
       "Name: entreprise, dtype: float32"
      ]
     },
     "metadata": {},
     "output_type": "display_data"
    },
    {
     "name": "stdout",
     "output_type": "stream",
     "text": [
      "non\n"
     ]
    },
    {
     "data": {
      "text/plain": [
       "non            1.000000\n",
       "concerne       0.555777\n",
       "entreprise     0.000000\n",
       "impots         0.000000\n",
       "creation       0.000000\n",
       "demarches      0.000000\n",
       "entreprises    0.000000\n",
       "activite       0.000000\n",
       "rsi            0.000000\n",
       "faut           0.000000\n",
       "Name: non, dtype: float32"
      ]
     },
     "metadata": {},
     "output_type": "display_data"
    },
    {
     "name": "stdout",
     "output_type": "stream",
     "text": [
      "creation\n"
     ]
    },
    {
     "data": {
      "text/plain": [
       "creation       1.000000\n",
       "entreprise     0.372677\n",
       "faut           0.000000\n",
       "aide           0.000000\n",
       "impots         0.000000\n",
       "demarches      0.000000\n",
       "entreprises    0.000000\n",
       "activite       0.000000\n",
       "rsi            0.000000\n",
       "tout           0.000000\n",
       "Name: creation, dtype: float32"
      ]
     },
     "metadata": {},
     "output_type": "display_data"
    },
    {
     "name": "stdout",
     "output_type": "stream",
     "text": [
      "urssaf\n"
     ]
    },
    {
     "data": {
      "text/plain": [
       "urssaf         1.000000\n",
       "rsi            0.267352\n",
       "entreprise     0.133829\n",
       "faut           0.000000\n",
       "impots         0.000000\n",
       "creation       0.000000\n",
       "demarches      0.000000\n",
       "entreprises    0.000000\n",
       "activite       0.000000\n",
       "tout           0.000000\n",
       "Name: urssaf, dtype: float32"
      ]
     },
     "metadata": {},
     "output_type": "display_data"
    },
    {
     "name": "stdout",
     "output_type": "stream",
     "text": [
      "concerne\n"
     ]
    },
    {
     "data": {
      "text/plain": [
       "concerne       1.000000\n",
       "non            0.377537\n",
       "entreprise     0.000000\n",
       "impots         0.000000\n",
       "creation       0.000000\n",
       "demarches      0.000000\n",
       "entreprises    0.000000\n",
       "activite       0.000000\n",
       "rsi            0.000000\n",
       "faut           0.000000\n",
       "Name: concerne, dtype: float32"
      ]
     },
     "metadata": {},
     "output_type": "display_data"
    },
    {
     "name": "stdout",
     "output_type": "stream",
     "text": [
      "creer\n"
     ]
    },
    {
     "data": {
      "text/plain": [
       "creer          1.00000\n",
       "entreprise     0.26487\n",
       "faut           0.00000\n",
       "impots         0.00000\n",
       "creation       0.00000\n",
       "demarches      0.00000\n",
       "entreprises    0.00000\n",
       "activite       0.00000\n",
       "rsi            0.00000\n",
       "tout           0.00000\n",
       "Name: creer, dtype: float32"
      ]
     },
     "metadata": {},
     "output_type": "display_data"
    },
    {
     "name": "stdout",
     "output_type": "stream",
     "text": [
      "rsi\n"
     ]
    },
    {
     "data": {
      "text/plain": [
       "rsi            1.000000\n",
       "urssaf         0.190826\n",
       "faut           0.000000\n",
       "entreprise     0.000000\n",
       "impots         0.000000\n",
       "creation       0.000000\n",
       "demarches      0.000000\n",
       "entreprises    0.000000\n",
       "activite       0.000000\n",
       "tout           0.000000\n",
       "Name: rsi, dtype: float32"
      ]
     },
     "metadata": {},
     "output_type": "display_data"
    },
    {
     "name": "stdout",
     "output_type": "stream",
     "text": [
      "tout\n"
     ]
    },
    {
     "data": {
      "text/plain": [
       "tout           1.000000\n",
       "entreprise     0.111524\n",
       "aide           0.000000\n",
       "impots         0.000000\n",
       "creation       0.000000\n",
       "demarches      0.000000\n",
       "entreprises    0.000000\n",
       "activite       0.000000\n",
       "rsi            0.000000\n",
       "faut           0.000000\n",
       "Name: tout, dtype: float32"
      ]
     },
     "metadata": {},
     "output_type": "display_data"
    },
    {
     "name": "stdout",
     "output_type": "stream",
     "text": [
      "auto\n"
     ]
    },
    {
     "data": {
      "text/plain": [
       "auto            1.000000\n",
       "entrepreneur    0.764912\n",
       "entreprise      0.136617\n",
       "faut            0.000000\n",
       "impots          0.000000\n",
       "creation        0.000000\n",
       "demarches       0.000000\n",
       "entreprises     0.000000\n",
       "activite        0.000000\n",
       "rsi             0.000000\n",
       "Name: auto, dtype: float32"
      ]
     },
     "metadata": {},
     "output_type": "display_data"
    },
    {
     "name": "stdout",
     "output_type": "stream",
     "text": [
      "faire\n"
     ]
    },
    {
     "data": {
      "text/plain": [
       "faire          1.000000\n",
       "entreprise     0.123606\n",
       "faut           0.000000\n",
       "impots         0.000000\n",
       "creation       0.000000\n",
       "demarches      0.000000\n",
       "entreprises    0.000000\n",
       "activite       0.000000\n",
       "rsi            0.000000\n",
       "tout           0.000000\n",
       "Name: faire, dtype: float32"
      ]
     },
     "metadata": {},
     "output_type": "display_data"
    },
    {
     "name": "stdout",
     "output_type": "stream",
     "text": [
      "demarches\n"
     ]
    },
    {
     "data": {
      "text/plain": [
       "demarches      1.0\n",
       "faut           0.0\n",
       "aide           0.0\n",
       "impots         0.0\n",
       "creation       0.0\n",
       "entreprises    0.0\n",
       "activite       0.0\n",
       "rsi            0.0\n",
       "entreprise     0.0\n",
       "tout           0.0\n",
       "Name: demarches, dtype: float32"
      ]
     },
     "metadata": {},
     "output_type": "display_data"
    },
    {
     "name": "stdout",
     "output_type": "stream",
     "text": [
      "commerce\n"
     ]
    },
    {
     "data": {
      "text/plain": [
       "commerce       1.0\n",
       "faut           0.0\n",
       "entreprise     0.0\n",
       "impots         0.0\n",
       "creation       0.0\n",
       "demarches      0.0\n",
       "entreprises    0.0\n",
       "activite       0.0\n",
       "rsi            0.0\n",
       "tout           0.0\n",
       "Name: commerce, dtype: float32"
      ]
     },
     "metadata": {},
     "output_type": "display_data"
    },
    {
     "name": "stdout",
     "output_type": "stream",
     "text": [
      "entrepreneur\n"
     ]
    },
    {
     "data": {
      "text/plain": [
       "entrepreneur    1.00000\n",
       "auto            0.58445\n",
       "faut            0.00000\n",
       "entreprise      0.00000\n",
       "impots          0.00000\n",
       "creation        0.00000\n",
       "demarches       0.00000\n",
       "entreprises     0.00000\n",
       "activite        0.00000\n",
       "rsi             0.00000\n",
       "Name: entrepreneur, dtype: float32"
      ]
     },
     "metadata": {},
     "output_type": "display_data"
    },
    {
     "name": "stdout",
     "output_type": "stream",
     "text": [
      "impots\n"
     ]
    },
    {
     "data": {
      "text/plain": [
       "impots         1.0\n",
       "faut           0.0\n",
       "aide           0.0\n",
       "creation       0.0\n",
       "demarches      0.0\n",
       "entreprises    0.0\n",
       "activite       0.0\n",
       "rsi            0.0\n",
       "entreprise     0.0\n",
       "tout           0.0\n",
       "Name: impots, dtype: float32"
      ]
     },
     "metadata": {},
     "output_type": "display_data"
    },
    {
     "name": "stdout",
     "output_type": "stream",
     "text": [
      "faut\n"
     ]
    },
    {
     "data": {
      "text/plain": [
       "faut           1.0\n",
       "aide           0.0\n",
       "impots         0.0\n",
       "creation       0.0\n",
       "demarches      0.0\n",
       "entreprises    0.0\n",
       "activite       0.0\n",
       "rsi            0.0\n",
       "entreprise     0.0\n",
       "tout           0.0\n",
       "Name: faut, dtype: float32"
      ]
     },
     "metadata": {},
     "output_type": "display_data"
    },
    {
     "name": "stdout",
     "output_type": "stream",
     "text": [
      "entreprises\n"
     ]
    },
    {
     "data": {
      "text/plain": [
       "entreprises    1.0\n",
       "faut           0.0\n",
       "aide           0.0\n",
       "impots         0.0\n",
       "creation       0.0\n",
       "demarches      0.0\n",
       "activite       0.0\n",
       "rsi            0.0\n",
       "entreprise     0.0\n",
       "tout           0.0\n",
       "Name: entreprises, dtype: float32"
      ]
     },
     "metadata": {},
     "output_type": "display_data"
    },
    {
     "name": "stdout",
     "output_type": "stream",
     "text": [
      "aide\n"
     ]
    },
    {
     "data": {
      "text/plain": [
       "aide           1.000000\n",
       "entreprise     0.094796\n",
       "faut           0.000000\n",
       "impots         0.000000\n",
       "creation       0.000000\n",
       "demarches      0.000000\n",
       "entreprises    0.000000\n",
       "activite       0.000000\n",
       "rsi            0.000000\n",
       "tout           0.000000\n",
       "Name: aide, dtype: float32"
      ]
     },
     "metadata": {},
     "output_type": "display_data"
    },
    {
     "name": "stdout",
     "output_type": "stream",
     "text": [
      "activite\n"
     ]
    },
    {
     "data": {
      "text/plain": [
       "activite       1.0\n",
       "faut           0.0\n",
       "aide           0.0\n",
       "impots         0.0\n",
       "creation       0.0\n",
       "demarches      0.0\n",
       "entreprises    0.0\n",
       "rsi            0.0\n",
       "entreprise     0.0\n",
       "tout           0.0\n",
       "Name: activite, dtype: float32"
      ]
     },
     "metadata": {},
     "output_type": "display_data"
    }
   ],
   "source": [
    "for i in df_qu_27_one_hot.sum(axis=0).sort_values(ascending=False).head(20).index:\n",
    "    print(i)\n",
    "    display(df_confidence_27[i].sort_values(ascending=False).head(10))"
   ]
  },
  {
   "cell_type": "code",
   "execution_count": 149,
   "metadata": {
    "scrolled": true
   },
   "outputs": [
    {
     "name": "stdout",
     "output_type": "stream",
     "text": [
      "entreprise\n"
     ]
    },
    {
     "data": {
      "text/plain": [
       "entreprise    0.000929\n",
       "creer         0.000640\n",
       "creation      0.000540\n",
       "auto          0.000366\n",
       "aide          0.000347\n",
       "faire         0.000342\n",
       "tout          0.000297\n",
       "urssaf        0.000246\n",
       "non                NaN\n",
       "impots             NaN\n",
       "Name: entreprise, dtype: float32"
      ]
     },
     "metadata": {},
     "output_type": "display_data"
    },
    {
     "name": "stdout",
     "output_type": "stream",
     "text": [
      "non\n"
     ]
    },
    {
     "data": {
      "text/plain": [
       "non            0.001353\n",
       "concerne       0.000752\n",
       "impots              NaN\n",
       "creation            NaN\n",
       "demarches           NaN\n",
       "entreprises         NaN\n",
       "activite            NaN\n",
       "rsi                 NaN\n",
       "entreprise          NaN\n",
       "tout                NaN\n",
       "Name: non, dtype: float32"
      ]
     },
     "metadata": {},
     "output_type": "display_data"
    },
    {
     "name": "stdout",
     "output_type": "stream",
     "text": [
      "creation\n"
     ]
    },
    {
     "data": {
      "text/plain": [
       "creation        0.001449\n",
       "entreprise      0.000540\n",
       "non                  NaN\n",
       "impots               NaN\n",
       "demarches            NaN\n",
       "entreprises          NaN\n",
       "activite             NaN\n",
       "rsi                  NaN\n",
       "tout                 NaN\n",
       "entrepreneur         NaN\n",
       "Name: creation, dtype: float32"
      ]
     },
     "metadata": {},
     "output_type": "display_data"
    },
    {
     "name": "stdout",
     "output_type": "stream",
     "text": [
      "urssaf\n"
     ]
    },
    {
     "data": {
      "text/plain": [
       "urssaf         0.001835\n",
       "rsi            0.000491\n",
       "entreprise     0.000246\n",
       "non                 NaN\n",
       "impots              NaN\n",
       "creation            NaN\n",
       "demarches           NaN\n",
       "entreprises         NaN\n",
       "activite            NaN\n",
       "tout                NaN\n",
       "Name: urssaf, dtype: float32"
      ]
     },
     "metadata": {},
     "output_type": "display_data"
    },
    {
     "name": "stdout",
     "output_type": "stream",
     "text": [
      "concerne\n"
     ]
    },
    {
     "data": {
      "text/plain": [
       "concerne       0.001992\n",
       "non            0.000752\n",
       "impots              NaN\n",
       "creation            NaN\n",
       "demarches           NaN\n",
       "entreprises         NaN\n",
       "activite            NaN\n",
       "rsi                 NaN\n",
       "entreprise          NaN\n",
       "tout                NaN\n",
       "Name: concerne, dtype: float32"
      ]
     },
     "metadata": {},
     "output_type": "display_data"
    },
    {
     "name": "stdout",
     "output_type": "stream",
     "text": [
      "creer\n"
     ]
    },
    {
     "data": {
      "text/plain": [
       "creer          0.002415\n",
       "entreprise     0.000640\n",
       "non                 NaN\n",
       "impots              NaN\n",
       "creation            NaN\n",
       "demarches           NaN\n",
       "entreprises         NaN\n",
       "activite            NaN\n",
       "rsi                 NaN\n",
       "tout                NaN\n",
       "Name: creer, dtype: float32"
      ]
     },
     "metadata": {},
     "output_type": "display_data"
    },
    {
     "name": "stdout",
     "output_type": "stream",
     "text": [
      "rsi\n"
     ]
    },
    {
     "data": {
      "text/plain": [
       "rsi            0.002571\n",
       "urssaf         0.000491\n",
       "non                 NaN\n",
       "impots              NaN\n",
       "creation            NaN\n",
       "demarches           NaN\n",
       "entreprises         NaN\n",
       "activite            NaN\n",
       "entreprise          NaN\n",
       "tout                NaN\n",
       "Name: rsi, dtype: float32"
      ]
     },
     "metadata": {},
     "output_type": "display_data"
    },
    {
     "name": "stdout",
     "output_type": "stream",
     "text": [
      "tout\n"
     ]
    },
    {
     "data": {
      "text/plain": [
       "tout            0.002660\n",
       "entreprise      0.000297\n",
       "non                  NaN\n",
       "impots               NaN\n",
       "creation             NaN\n",
       "demarches            NaN\n",
       "entreprises          NaN\n",
       "activite             NaN\n",
       "rsi                  NaN\n",
       "entrepreneur         NaN\n",
       "Name: tout, dtype: float32"
      ]
     },
     "metadata": {},
     "output_type": "display_data"
    },
    {
     "name": "stdout",
     "output_type": "stream",
     "text": [
      "auto\n"
     ]
    },
    {
     "data": {
      "text/plain": [
       "auto            0.002681\n",
       "entrepreneur    0.002051\n",
       "entreprise      0.000366\n",
       "non                  NaN\n",
       "impots               NaN\n",
       "creation             NaN\n",
       "demarches            NaN\n",
       "entreprises          NaN\n",
       "activite             NaN\n",
       "rsi                  NaN\n",
       "Name: auto, dtype: float32"
      ]
     },
     "metadata": {},
     "output_type": "display_data"
    },
    {
     "name": "stdout",
     "output_type": "stream",
     "text": [
      "faire\n"
     ]
    },
    {
     "data": {
      "text/plain": [
       "faire          0.002770\n",
       "entreprise     0.000342\n",
       "non                 NaN\n",
       "impots              NaN\n",
       "creation            NaN\n",
       "demarches           NaN\n",
       "entreprises         NaN\n",
       "activite            NaN\n",
       "rsi                 NaN\n",
       "tout                NaN\n",
       "Name: faire, dtype: float32"
      ]
     },
     "metadata": {},
     "output_type": "display_data"
    },
    {
     "name": "stdout",
     "output_type": "stream",
     "text": [
      "demarches\n"
     ]
    },
    {
     "data": {
      "text/plain": [
       "demarches       0.002959\n",
       "non                  NaN\n",
       "impots               NaN\n",
       "creation             NaN\n",
       "entreprises          NaN\n",
       "activite             NaN\n",
       "rsi                  NaN\n",
       "entreprise           NaN\n",
       "tout                 NaN\n",
       "entrepreneur         NaN\n",
       "Name: demarches, dtype: float32"
      ]
     },
     "metadata": {},
     "output_type": "display_data"
    },
    {
     "name": "stdout",
     "output_type": "stream",
     "text": [
      "commerce\n"
     ]
    },
    {
     "data": {
      "text/plain": [
       "commerce       0.003436\n",
       "non                 NaN\n",
       "impots              NaN\n",
       "creation            NaN\n",
       "demarches           NaN\n",
       "entreprises         NaN\n",
       "activite            NaN\n",
       "rsi                 NaN\n",
       "entreprise          NaN\n",
       "tout                NaN\n",
       "Name: commerce, dtype: float32"
      ]
     },
     "metadata": {},
     "output_type": "display_data"
    },
    {
     "name": "stdout",
     "output_type": "stream",
     "text": [
      "entrepreneur\n"
     ]
    },
    {
     "data": {
      "text/plain": [
       "entrepreneur    0.003509\n",
       "auto            0.002051\n",
       "non                  NaN\n",
       "impots               NaN\n",
       "creation             NaN\n",
       "demarches            NaN\n",
       "entreprises          NaN\n",
       "activite             NaN\n",
       "rsi                  NaN\n",
       "entreprise           NaN\n",
       "Name: entrepreneur, dtype: float32"
      ]
     },
     "metadata": {},
     "output_type": "display_data"
    },
    {
     "name": "stdout",
     "output_type": "stream",
     "text": [
      "impots\n"
     ]
    },
    {
     "data": {
      "text/plain": [
       "impots          0.003509\n",
       "non                  NaN\n",
       "creation             NaN\n",
       "demarches            NaN\n",
       "entreprises          NaN\n",
       "activite             NaN\n",
       "rsi                  NaN\n",
       "entreprise           NaN\n",
       "tout                 NaN\n",
       "entrepreneur         NaN\n",
       "Name: impots, dtype: float32"
      ]
     },
     "metadata": {},
     "output_type": "display_data"
    },
    {
     "name": "stdout",
     "output_type": "stream",
     "text": [
      "faut\n"
     ]
    },
    {
     "data": {
      "text/plain": [
       "faut           0.003546\n",
       "non                 NaN\n",
       "impots              NaN\n",
       "creation            NaN\n",
       "demarches           NaN\n",
       "entreprises         NaN\n",
       "activite            NaN\n",
       "rsi                 NaN\n",
       "entreprise          NaN\n",
       "tout                NaN\n",
       "Name: faut, dtype: float32"
      ]
     },
     "metadata": {},
     "output_type": "display_data"
    },
    {
     "name": "stdout",
     "output_type": "stream",
     "text": [
      "entreprises\n"
     ]
    },
    {
     "data": {
      "text/plain": [
       "entreprises     0.003597\n",
       "non                  NaN\n",
       "impots               NaN\n",
       "creation             NaN\n",
       "demarches            NaN\n",
       "activite             NaN\n",
       "rsi                  NaN\n",
       "entreprise           NaN\n",
       "tout                 NaN\n",
       "entrepreneur         NaN\n",
       "Name: entreprises, dtype: float32"
      ]
     },
     "metadata": {},
     "output_type": "display_data"
    },
    {
     "name": "stdout",
     "output_type": "stream",
     "text": [
      "aide\n"
     ]
    },
    {
     "data": {
      "text/plain": [
       "aide           0.003663\n",
       "entreprise     0.000347\n",
       "non                 NaN\n",
       "impots              NaN\n",
       "creation            NaN\n",
       "demarches           NaN\n",
       "entreprises         NaN\n",
       "activite            NaN\n",
       "rsi                 NaN\n",
       "tout                NaN\n",
       "Name: aide, dtype: float32"
      ]
     },
     "metadata": {},
     "output_type": "display_data"
    },
    {
     "name": "stdout",
     "output_type": "stream",
     "text": [
      "activite\n"
     ]
    },
    {
     "data": {
      "text/plain": [
       "activite        0.003922\n",
       "non                  NaN\n",
       "impots               NaN\n",
       "creation             NaN\n",
       "demarches            NaN\n",
       "entreprises          NaN\n",
       "rsi                  NaN\n",
       "entreprise           NaN\n",
       "tout                 NaN\n",
       "entrepreneur         NaN\n",
       "Name: activite, dtype: float32"
      ]
     },
     "metadata": {},
     "output_type": "display_data"
    }
   ],
   "source": [
    "for i in df_qu_27_one_hot.sum(axis=0).sort_values(ascending=False).head(20).index:\n",
    "    print(i)\n",
    "    display(df_lift_27[i].sort_values(ascending=False).head(10))"
   ]
  },
  {
   "cell_type": "code",
   "execution_count": 150,
   "metadata": {},
   "outputs": [
    {
     "data": {
      "text/plain": [
       "133"
      ]
     },
     "execution_count": 150,
     "metadata": {},
     "output_type": "execute_result"
    }
   ],
   "source": [
    "gc.collect()"
   ]
  },
  {
   "cell_type": "markdown",
   "metadata": {},
   "source": [
    "# Question 28: Si vous avez été amené à recruter du personnel, pouvez-vous indiquer les éléments de satisfaction et/ou les difficultés rencontrés en précisant, pour chaque point, l'administration concernée :"
   ]
  },
  {
   "cell_type": "code",
   "execution_count": 151,
   "metadata": {
    "collapsed": true
   },
   "outputs": [],
   "source": [
    "question_28 = \"Si vous avez été amené à recruter du personnel, pouvez-vous indiquer les éléments de satisfaction et/ou les difficultés rencontrés en précisant, pour chaque point, l'administration concernée :\"\n",
    "qu_28,df_qu_28_one_hot,df_cov_28,df_confidence_28,df_lift_28 = compute_similarities(question_28, new_res)"
   ]
  },
  {
   "cell_type": "code",
   "execution_count": 152,
   "metadata": {
    "scrolled": true
   },
   "outputs": [
    {
     "name": "stdout",
     "output_type": "stream",
     "text": [
      "emploi\n"
     ]
    },
    {
     "data": {
      "text/plain": [
       "emploi       1178\n",
       "pole          979\n",
       "travail       117\n",
       "recruter      111\n",
       "concerne        0\n",
       "personnel       0\n",
       "non             0\n",
       "Name: emploi, dtype: uint16"
      ]
     },
     "metadata": {},
     "output_type": "display_data"
    },
    {
     "name": "stdout",
     "output_type": "stream",
     "text": [
      "pole\n"
     ]
    },
    {
     "data": {
      "text/plain": [
       "pole         997\n",
       "emploi       979\n",
       "concerne       0\n",
       "recruter       0\n",
       "personnel      0\n",
       "travail        0\n",
       "non            0\n",
       "Name: pole, dtype: uint16"
      ]
     },
     "metadata": {},
     "output_type": "display_data"
    },
    {
     "name": "stdout",
     "output_type": "stream",
     "text": [
      "non\n"
     ]
    },
    {
     "data": {
      "text/plain": [
       "non          686\n",
       "concerne     268\n",
       "recruter       0\n",
       "personnel      0\n",
       "travail        0\n",
       "pole           0\n",
       "emploi         0\n",
       "Name: non, dtype: uint16"
      ]
     },
     "metadata": {},
     "output_type": "display_data"
    },
    {
     "name": "stdout",
     "output_type": "stream",
     "text": [
      "concerne\n"
     ]
    },
    {
     "data": {
      "text/plain": [
       "concerne     471\n",
       "non          268\n",
       "recruter       0\n",
       "personnel      0\n",
       "travail        0\n",
       "pole           0\n",
       "emploi         0\n",
       "Name: concerne, dtype: uint16"
      ]
     },
     "metadata": {},
     "output_type": "display_data"
    },
    {
     "name": "stdout",
     "output_type": "stream",
     "text": [
      "travail\n"
     ]
    },
    {
     "data": {
      "text/plain": [
       "travail      379\n",
       "emploi       117\n",
       "concerne       0\n",
       "recruter       0\n",
       "personnel      0\n",
       "pole           0\n",
       "non            0\n",
       "Name: travail, dtype: uint16"
      ]
     },
     "metadata": {},
     "output_type": "display_data"
    },
    {
     "name": "stdout",
     "output_type": "stream",
     "text": [
      "personnel\n"
     ]
    },
    {
     "data": {
      "text/plain": [
       "personnel    284\n",
       "concerne       0\n",
       "recruter       0\n",
       "travail        0\n",
       "pole           0\n",
       "emploi         0\n",
       "non            0\n",
       "Name: personnel, dtype: uint16"
      ]
     },
     "metadata": {},
     "output_type": "display_data"
    },
    {
     "name": "stdout",
     "output_type": "stream",
     "text": [
      "recruter\n"
     ]
    },
    {
     "data": {
      "text/plain": [
       "recruter     255\n",
       "emploi       111\n",
       "concerne       0\n",
       "personnel      0\n",
       "travail        0\n",
       "pole           0\n",
       "non            0\n",
       "Name: recruter, dtype: uint16"
      ]
     },
     "metadata": {},
     "output_type": "display_data"
    }
   ],
   "source": [
    "for i in df_qu_28_one_hot.sum(axis=0).sort_values(ascending=False).head(20).index:\n",
    "    print(i)\n",
    "    display(df_cov_28[i].sort_values(ascending=False).head(10))"
   ]
  },
  {
   "cell_type": "code",
   "execution_count": 153,
   "metadata": {
    "scrolled": true
   },
   "outputs": [
    {
     "name": "stdout",
     "output_type": "stream",
     "text": [
      "emploi\n"
     ]
    },
    {
     "data": {
      "text/plain": [
       "emploi       1.000000\n",
       "pole         0.981946\n",
       "recruter     0.435294\n",
       "travail      0.308707\n",
       "concerne     0.000000\n",
       "personnel    0.000000\n",
       "non          0.000000\n",
       "Name: emploi, dtype: float32"
      ]
     },
     "metadata": {},
     "output_type": "display_data"
    },
    {
     "name": "stdout",
     "output_type": "stream",
     "text": [
      "pole\n"
     ]
    },
    {
     "data": {
      "text/plain": [
       "pole         1.00000\n",
       "emploi       0.83107\n",
       "concerne     0.00000\n",
       "recruter     0.00000\n",
       "personnel    0.00000\n",
       "travail      0.00000\n",
       "non          0.00000\n",
       "Name: pole, dtype: float32"
      ]
     },
     "metadata": {},
     "output_type": "display_data"
    },
    {
     "name": "stdout",
     "output_type": "stream",
     "text": [
      "non\n"
     ]
    },
    {
     "data": {
      "text/plain": [
       "non          1.000000\n",
       "concerne     0.569002\n",
       "recruter     0.000000\n",
       "personnel    0.000000\n",
       "travail      0.000000\n",
       "pole         0.000000\n",
       "emploi       0.000000\n",
       "Name: non, dtype: float32"
      ]
     },
     "metadata": {},
     "output_type": "display_data"
    },
    {
     "name": "stdout",
     "output_type": "stream",
     "text": [
      "concerne\n"
     ]
    },
    {
     "data": {
      "text/plain": [
       "concerne     1.000000\n",
       "non          0.390671\n",
       "recruter     0.000000\n",
       "personnel    0.000000\n",
       "travail      0.000000\n",
       "pole         0.000000\n",
       "emploi       0.000000\n",
       "Name: concerne, dtype: float32"
      ]
     },
     "metadata": {},
     "output_type": "display_data"
    },
    {
     "name": "stdout",
     "output_type": "stream",
     "text": [
      "travail\n"
     ]
    },
    {
     "data": {
      "text/plain": [
       "travail      1.000000\n",
       "emploi       0.099321\n",
       "concerne     0.000000\n",
       "recruter     0.000000\n",
       "personnel    0.000000\n",
       "pole         0.000000\n",
       "non          0.000000\n",
       "Name: travail, dtype: float32"
      ]
     },
     "metadata": {},
     "output_type": "display_data"
    },
    {
     "name": "stdout",
     "output_type": "stream",
     "text": [
      "personnel\n"
     ]
    },
    {
     "data": {
      "text/plain": [
       "personnel    1.0\n",
       "concerne     0.0\n",
       "recruter     0.0\n",
       "travail      0.0\n",
       "pole         0.0\n",
       "emploi       0.0\n",
       "non          0.0\n",
       "Name: personnel, dtype: float32"
      ]
     },
     "metadata": {},
     "output_type": "display_data"
    },
    {
     "name": "stdout",
     "output_type": "stream",
     "text": [
      "recruter\n"
     ]
    },
    {
     "data": {
      "text/plain": [
       "recruter     1.000000\n",
       "emploi       0.094228\n",
       "concerne     0.000000\n",
       "personnel    0.000000\n",
       "travail      0.000000\n",
       "pole         0.000000\n",
       "non          0.000000\n",
       "Name: recruter, dtype: float32"
      ]
     },
     "metadata": {},
     "output_type": "display_data"
    }
   ],
   "source": [
    "for i in df_qu_28_one_hot.sum(axis=0).sort_values(ascending=False).head(20).index:\n",
    "    print(i)\n",
    "    display(df_confidence_28[i].sort_values(ascending=False).head(10))"
   ]
  },
  {
   "cell_type": "code",
   "execution_count": 154,
   "metadata": {
    "scrolled": true
   },
   "outputs": [
    {
     "name": "stdout",
     "output_type": "stream",
     "text": [
      "emploi\n"
     ]
    },
    {
     "data": {
      "text/plain": [
       "emploi       0.000849\n",
       "pole         0.000834\n",
       "recruter     0.000370\n",
       "travail      0.000262\n",
       "non               NaN\n",
       "personnel         NaN\n",
       "concerne          NaN\n",
       "Name: emploi, dtype: float32"
      ]
     },
     "metadata": {},
     "output_type": "display_data"
    },
    {
     "name": "stdout",
     "output_type": "stream",
     "text": [
      "pole\n"
     ]
    },
    {
     "data": {
      "text/plain": [
       "pole         0.001003\n",
       "emploi       0.000834\n",
       "non               NaN\n",
       "travail           NaN\n",
       "personnel         NaN\n",
       "recruter          NaN\n",
       "concerne          NaN\n",
       "Name: pole, dtype: float32"
      ]
     },
     "metadata": {},
     "output_type": "display_data"
    },
    {
     "name": "stdout",
     "output_type": "stream",
     "text": [
      "non\n"
     ]
    },
    {
     "data": {
      "text/plain": [
       "non          0.001458\n",
       "concerne     0.000829\n",
       "emploi            NaN\n",
       "pole              NaN\n",
       "travail           NaN\n",
       "personnel         NaN\n",
       "recruter          NaN\n",
       "Name: non, dtype: float32"
      ]
     },
     "metadata": {},
     "output_type": "display_data"
    },
    {
     "name": "stdout",
     "output_type": "stream",
     "text": [
      "concerne\n"
     ]
    },
    {
     "data": {
      "text/plain": [
       "concerne     0.002123\n",
       "non          0.000829\n",
       "emploi            NaN\n",
       "pole              NaN\n",
       "travail           NaN\n",
       "personnel         NaN\n",
       "recruter          NaN\n",
       "Name: concerne, dtype: float32"
      ]
     },
     "metadata": {},
     "output_type": "display_data"
    },
    {
     "name": "stdout",
     "output_type": "stream",
     "text": [
      "travail\n"
     ]
    },
    {
     "data": {
      "text/plain": [
       "travail      0.002639\n",
       "emploi       0.000262\n",
       "non               NaN\n",
       "pole              NaN\n",
       "personnel         NaN\n",
       "recruter          NaN\n",
       "concerne          NaN\n",
       "Name: travail, dtype: float32"
      ]
     },
     "metadata": {},
     "output_type": "display_data"
    },
    {
     "name": "stdout",
     "output_type": "stream",
     "text": [
      "personnel\n"
     ]
    },
    {
     "data": {
      "text/plain": [
       "personnel    0.003521\n",
       "non               NaN\n",
       "emploi            NaN\n",
       "pole              NaN\n",
       "travail           NaN\n",
       "recruter          NaN\n",
       "concerne          NaN\n",
       "Name: personnel, dtype: float32"
      ]
     },
     "metadata": {},
     "output_type": "display_data"
    },
    {
     "name": "stdout",
     "output_type": "stream",
     "text": [
      "recruter\n"
     ]
    },
    {
     "data": {
      "text/plain": [
       "recruter     0.003922\n",
       "emploi       0.000370\n",
       "non               NaN\n",
       "pole              NaN\n",
       "travail           NaN\n",
       "personnel         NaN\n",
       "concerne          NaN\n",
       "Name: recruter, dtype: float32"
      ]
     },
     "metadata": {},
     "output_type": "display_data"
    }
   ],
   "source": [
    "for i in df_qu_28_one_hot.sum(axis=0).sort_values(ascending=False).head(20).index:\n",
    "    print(i)\n",
    "    display(df_lift_28[i].sort_values(ascending=False).head(10))"
   ]
  },
  {
   "cell_type": "code",
   "execution_count": 155,
   "metadata": {},
   "outputs": [
    {
     "data": {
      "text/plain": [
       "238"
      ]
     },
     "execution_count": 155,
     "metadata": {},
     "output_type": "execute_result"
    }
   ],
   "source": [
    "gc.collect()"
   ]
  },
  {
   "cell_type": "markdown",
   "metadata": {},
   "source": [
    "# Question 29: Si vous avez été amené à former du personnel, pouvez-vous indiquer les éléments de satisfaction et/ou les difficultés rencontrés en précisant, pour chaque point, l'administration concernée :"
   ]
  },
  {
   "cell_type": "code",
   "execution_count": 156,
   "metadata": {
    "collapsed": true
   },
   "outputs": [],
   "source": [
    "question_29 = \"Si vous avez été amené à former du personnel, pouvez-vous indiquer les éléments de satisfaction et/ou les difficultés rencontrés en précisant, pour chaque point, l'administration concernée :\"\n",
    "qu_29,df_qu_29_one_hot,df_cov_29,df_confidence_29,df_lift_29 = compute_similarities(question_29, new_res)"
   ]
  },
  {
   "cell_type": "code",
   "execution_count": 157,
   "metadata": {
    "scrolled": true
   },
   "outputs": [
    {
     "name": "stdout",
     "output_type": "stream",
     "text": [
      "formation\n"
     ]
    },
    {
     "data": {
      "text/plain": [
       "formation     718\n",
       "formations    115\n",
       "concerne        0\n",
       "non             0\n",
       "Name: formation, dtype: uint16"
      ]
     },
     "metadata": {},
     "output_type": "display_data"
    },
    {
     "name": "stdout",
     "output_type": "stream",
     "text": [
      "non\n"
     ]
    },
    {
     "data": {
      "text/plain": [
       "non           634\n",
       "concerne      259\n",
       "formations      0\n",
       "formation       0\n",
       "Name: non, dtype: uint16"
      ]
     },
     "metadata": {},
     "output_type": "display_data"
    },
    {
     "name": "stdout",
     "output_type": "stream",
     "text": [
      "concerne\n"
     ]
    },
    {
     "data": {
      "text/plain": [
       "concerne      474\n",
       "non           259\n",
       "formations      0\n",
       "formation       0\n",
       "Name: concerne, dtype: uint16"
      ]
     },
     "metadata": {},
     "output_type": "display_data"
    },
    {
     "name": "stdout",
     "output_type": "stream",
     "text": [
      "formations\n"
     ]
    },
    {
     "data": {
      "text/plain": [
       "formations    318\n",
       "formation     115\n",
       "concerne        0\n",
       "non             0\n",
       "Name: formations, dtype: uint16"
      ]
     },
     "metadata": {},
     "output_type": "display_data"
    }
   ],
   "source": [
    "for i in df_qu_29_one_hot.sum(axis=0).sort_values(ascending=False).head(20).index:\n",
    "    print(i)\n",
    "    display(df_cov_29[i].sort_values(ascending=False).head(10))"
   ]
  },
  {
   "cell_type": "code",
   "execution_count": 158,
   "metadata": {
    "scrolled": true
   },
   "outputs": [
    {
     "name": "stdout",
     "output_type": "stream",
     "text": [
      "formation\n"
     ]
    },
    {
     "data": {
      "text/plain": [
       "formation     1.000000\n",
       "formations    0.361635\n",
       "concerne      0.000000\n",
       "non           0.000000\n",
       "Name: formation, dtype: float32"
      ]
     },
     "metadata": {},
     "output_type": "display_data"
    },
    {
     "name": "stdout",
     "output_type": "stream",
     "text": [
      "non\n"
     ]
    },
    {
     "data": {
      "text/plain": [
       "non           1.000000\n",
       "concerne      0.546413\n",
       "formations    0.000000\n",
       "formation     0.000000\n",
       "Name: non, dtype: float32"
      ]
     },
     "metadata": {},
     "output_type": "display_data"
    },
    {
     "name": "stdout",
     "output_type": "stream",
     "text": [
      "concerne\n"
     ]
    },
    {
     "data": {
      "text/plain": [
       "concerne      1.000000\n",
       "non           0.408517\n",
       "formations    0.000000\n",
       "formation     0.000000\n",
       "Name: concerne, dtype: float32"
      ]
     },
     "metadata": {},
     "output_type": "display_data"
    },
    {
     "name": "stdout",
     "output_type": "stream",
     "text": [
      "formations\n"
     ]
    },
    {
     "data": {
      "text/plain": [
       "formations    1.000000\n",
       "formation     0.160167\n",
       "concerne      0.000000\n",
       "non           0.000000\n",
       "Name: formations, dtype: float32"
      ]
     },
     "metadata": {},
     "output_type": "display_data"
    }
   ],
   "source": [
    "for i in df_qu_29_one_hot.sum(axis=0).sort_values(ascending=False).head(20).index:\n",
    "    print(i)\n",
    "    display(df_confidence_29[i].sort_values(ascending=False).head(10))"
   ]
  },
  {
   "cell_type": "code",
   "execution_count": 159,
   "metadata": {
    "scrolled": true
   },
   "outputs": [
    {
     "name": "stdout",
     "output_type": "stream",
     "text": [
      "formation\n"
     ]
    },
    {
     "data": {
      "text/plain": [
       "formation     0.001393\n",
       "formations    0.000504\n",
       "non                NaN\n",
       "concerne           NaN\n",
       "Name: formation, dtype: float32"
      ]
     },
     "metadata": {},
     "output_type": "display_data"
    },
    {
     "name": "stdout",
     "output_type": "stream",
     "text": [
      "non\n"
     ]
    },
    {
     "data": {
      "text/plain": [
       "non           0.001577\n",
       "concerne      0.000862\n",
       "formation          NaN\n",
       "formations         NaN\n",
       "Name: non, dtype: float32"
      ]
     },
     "metadata": {},
     "output_type": "display_data"
    },
    {
     "name": "stdout",
     "output_type": "stream",
     "text": [
      "concerne\n"
     ]
    },
    {
     "data": {
      "text/plain": [
       "concerne      0.002110\n",
       "non           0.000862\n",
       "formation          NaN\n",
       "formations         NaN\n",
       "Name: concerne, dtype: float32"
      ]
     },
     "metadata": {},
     "output_type": "display_data"
    },
    {
     "name": "stdout",
     "output_type": "stream",
     "text": [
      "formations\n"
     ]
    },
    {
     "data": {
      "text/plain": [
       "formations    0.003145\n",
       "formation     0.000504\n",
       "non                NaN\n",
       "concerne           NaN\n",
       "Name: formations, dtype: float32"
      ]
     },
     "metadata": {},
     "output_type": "display_data"
    }
   ],
   "source": [
    "for i in df_qu_29_one_hot.sum(axis=0).sort_values(ascending=False).head(20).index:\n",
    "    print(i)\n",
    "    display(df_lift_29[i].sort_values(ascending=False).head(10))"
   ]
  },
  {
   "cell_type": "code",
   "execution_count": 160,
   "metadata": {},
   "outputs": [
    {
     "data": {
      "text/plain": [
       "175"
      ]
     },
     "execution_count": 160,
     "metadata": {},
     "output_type": "execute_result"
    }
   ],
   "source": [
    "gc.collect()"
   ]
  },
  {
   "cell_type": "markdown",
   "metadata": {},
   "source": [
    "# Question 30:  Si vous avez été amené à rémunérer du personnel, pouvez-vous indiquer les éléments de satisfaction et/ou les difficultés rencontrés en précisant, pour chaque point, l'administration concernée :"
   ]
  },
  {
   "cell_type": "code",
   "execution_count": 161,
   "metadata": {
    "collapsed": true
   },
   "outputs": [],
   "source": [
    "question_30 = \"Si vous avez été amené à rémunérer du personnel, pouvez-vous indiquer les éléments de satisfaction et/ou les difficultés rencontrés en précisant, pour chaque point, l'administration concernée :\"\n",
    "qu_30,df_qu_30_one_hot,df_cov_30,df_confidence_30,df_lift_30 = compute_similarities(question_30, new_res)"
   ]
  },
  {
   "cell_type": "code",
   "execution_count": 162,
   "metadata": {
    "scrolled": true
   },
   "outputs": [
    {
     "name": "stdout",
     "output_type": "stream",
     "text": [
      "non\n"
     ]
    },
    {
     "data": {
      "text/plain": [
       "non         603\n",
       "concerne    252\n",
       "urssaf        0\n",
       "cesu          0\n",
       "travail       0\n",
       "charges       0\n",
       "Name: non, dtype: uint16"
      ]
     },
     "metadata": {},
     "output_type": "display_data"
    },
    {
     "name": "stdout",
     "output_type": "stream",
     "text": [
      "charges\n"
     ]
    },
    {
     "data": {
      "text/plain": [
       "charges     444\n",
       "concerne      0\n",
       "urssaf        0\n",
       "cesu          0\n",
       "travail       0\n",
       "non           0\n",
       "Name: charges, dtype: uint16"
      ]
     },
     "metadata": {},
     "output_type": "display_data"
    },
    {
     "name": "stdout",
     "output_type": "stream",
     "text": [
      "concerne\n"
     ]
    },
    {
     "data": {
      "text/plain": [
       "concerne    442\n",
       "non         252\n",
       "urssaf        0\n",
       "cesu          0\n",
       "travail       0\n",
       "charges       0\n",
       "Name: concerne, dtype: uint16"
      ]
     },
     "metadata": {},
     "output_type": "display_data"
    },
    {
     "name": "stdout",
     "output_type": "stream",
     "text": [
      "urssaf\n"
     ]
    },
    {
     "data": {
      "text/plain": [
       "urssaf      290\n",
       "concerne      0\n",
       "cesu          0\n",
       "travail       0\n",
       "charges       0\n",
       "non           0\n",
       "Name: urssaf, dtype: uint16"
      ]
     },
     "metadata": {},
     "output_type": "display_data"
    },
    {
     "name": "stdout",
     "output_type": "stream",
     "text": [
      "cesu\n"
     ]
    },
    {
     "data": {
      "text/plain": [
       "cesu        284\n",
       "concerne      0\n",
       "urssaf        0\n",
       "travail       0\n",
       "charges       0\n",
       "non           0\n",
       "Name: cesu, dtype: uint16"
      ]
     },
     "metadata": {},
     "output_type": "display_data"
    },
    {
     "name": "stdout",
     "output_type": "stream",
     "text": [
      "travail\n"
     ]
    },
    {
     "data": {
      "text/plain": [
       "travail     255\n",
       "concerne      0\n",
       "urssaf        0\n",
       "cesu          0\n",
       "charges       0\n",
       "non           0\n",
       "Name: travail, dtype: uint16"
      ]
     },
     "metadata": {},
     "output_type": "display_data"
    }
   ],
   "source": [
    "for i in df_qu_30_one_hot.sum(axis=0).sort_values(ascending=False).head(20).index:\n",
    "    print(i)\n",
    "    display(df_cov_30[i].sort_values(ascending=False).head(10))"
   ]
  },
  {
   "cell_type": "code",
   "execution_count": 163,
   "metadata": {
    "scrolled": true
   },
   "outputs": [
    {
     "name": "stdout",
     "output_type": "stream",
     "text": [
      "non\n"
     ]
    },
    {
     "data": {
      "text/plain": [
       "non         1.000000\n",
       "concerne    0.570136\n",
       "urssaf      0.000000\n",
       "cesu        0.000000\n",
       "travail     0.000000\n",
       "charges     0.000000\n",
       "Name: non, dtype: float32"
      ]
     },
     "metadata": {},
     "output_type": "display_data"
    },
    {
     "name": "stdout",
     "output_type": "stream",
     "text": [
      "charges\n"
     ]
    },
    {
     "data": {
      "text/plain": [
       "charges     1.0\n",
       "concerne    0.0\n",
       "urssaf      0.0\n",
       "cesu        0.0\n",
       "travail     0.0\n",
       "non         0.0\n",
       "Name: charges, dtype: float32"
      ]
     },
     "metadata": {},
     "output_type": "display_data"
    },
    {
     "name": "stdout",
     "output_type": "stream",
     "text": [
      "concerne\n"
     ]
    },
    {
     "data": {
      "text/plain": [
       "concerne    1.00000\n",
       "non         0.41791\n",
       "urssaf      0.00000\n",
       "cesu        0.00000\n",
       "travail     0.00000\n",
       "charges     0.00000\n",
       "Name: concerne, dtype: float32"
      ]
     },
     "metadata": {},
     "output_type": "display_data"
    },
    {
     "name": "stdout",
     "output_type": "stream",
     "text": [
      "urssaf\n"
     ]
    },
    {
     "data": {
      "text/plain": [
       "urssaf      1.0\n",
       "concerne    0.0\n",
       "cesu        0.0\n",
       "travail     0.0\n",
       "charges     0.0\n",
       "non         0.0\n",
       "Name: urssaf, dtype: float32"
      ]
     },
     "metadata": {},
     "output_type": "display_data"
    },
    {
     "name": "stdout",
     "output_type": "stream",
     "text": [
      "cesu\n"
     ]
    },
    {
     "data": {
      "text/plain": [
       "cesu        1.0\n",
       "concerne    0.0\n",
       "urssaf      0.0\n",
       "travail     0.0\n",
       "charges     0.0\n",
       "non         0.0\n",
       "Name: cesu, dtype: float32"
      ]
     },
     "metadata": {},
     "output_type": "display_data"
    },
    {
     "name": "stdout",
     "output_type": "stream",
     "text": [
      "travail\n"
     ]
    },
    {
     "data": {
      "text/plain": [
       "travail     1.0\n",
       "concerne    0.0\n",
       "urssaf      0.0\n",
       "cesu        0.0\n",
       "charges     0.0\n",
       "non         0.0\n",
       "Name: travail, dtype: float32"
      ]
     },
     "metadata": {},
     "output_type": "display_data"
    }
   ],
   "source": [
    "for i in df_qu_30_one_hot.sum(axis=0).sort_values(ascending=False).head(20).index:\n",
    "    print(i)\n",
    "    display(df_confidence_30[i].sort_values(ascending=False).head(10))"
   ]
  },
  {
   "cell_type": "code",
   "execution_count": 164,
   "metadata": {
    "scrolled": true
   },
   "outputs": [
    {
     "name": "stdout",
     "output_type": "stream",
     "text": [
      "non\n"
     ]
    },
    {
     "data": {
      "text/plain": [
       "non         0.001658\n",
       "concerne    0.000945\n",
       "charges          NaN\n",
       "travail          NaN\n",
       "cesu             NaN\n",
       "urssaf           NaN\n",
       "Name: non, dtype: float32"
      ]
     },
     "metadata": {},
     "output_type": "display_data"
    },
    {
     "name": "stdout",
     "output_type": "stream",
     "text": [
      "charges\n"
     ]
    },
    {
     "data": {
      "text/plain": [
       "charges     0.002252\n",
       "non              NaN\n",
       "travail          NaN\n",
       "cesu             NaN\n",
       "urssaf           NaN\n",
       "concerne         NaN\n",
       "Name: charges, dtype: float32"
      ]
     },
     "metadata": {},
     "output_type": "display_data"
    },
    {
     "name": "stdout",
     "output_type": "stream",
     "text": [
      "concerne\n"
     ]
    },
    {
     "data": {
      "text/plain": [
       "concerne    0.002262\n",
       "non         0.000945\n",
       "charges          NaN\n",
       "travail          NaN\n",
       "cesu             NaN\n",
       "urssaf           NaN\n",
       "Name: concerne, dtype: float32"
      ]
     },
     "metadata": {},
     "output_type": "display_data"
    },
    {
     "name": "stdout",
     "output_type": "stream",
     "text": [
      "urssaf\n"
     ]
    },
    {
     "data": {
      "text/plain": [
       "urssaf      0.003448\n",
       "non              NaN\n",
       "charges          NaN\n",
       "travail          NaN\n",
       "cesu             NaN\n",
       "concerne         NaN\n",
       "Name: urssaf, dtype: float32"
      ]
     },
     "metadata": {},
     "output_type": "display_data"
    },
    {
     "name": "stdout",
     "output_type": "stream",
     "text": [
      "cesu\n"
     ]
    },
    {
     "data": {
      "text/plain": [
       "cesu        0.003521\n",
       "non              NaN\n",
       "charges          NaN\n",
       "travail          NaN\n",
       "urssaf           NaN\n",
       "concerne         NaN\n",
       "Name: cesu, dtype: float32"
      ]
     },
     "metadata": {},
     "output_type": "display_data"
    },
    {
     "name": "stdout",
     "output_type": "stream",
     "text": [
      "travail\n"
     ]
    },
    {
     "data": {
      "text/plain": [
       "travail     0.003922\n",
       "non              NaN\n",
       "charges          NaN\n",
       "cesu             NaN\n",
       "urssaf           NaN\n",
       "concerne         NaN\n",
       "Name: travail, dtype: float32"
      ]
     },
     "metadata": {},
     "output_type": "display_data"
    }
   ],
   "source": [
    "for i in df_qu_30_one_hot.sum(axis=0).sort_values(ascending=False).head(20).index:\n",
    "    print(i)\n",
    "    display(df_lift_30[i].sort_values(ascending=False).head(10))"
   ]
  },
  {
   "cell_type": "code",
   "execution_count": 165,
   "metadata": {},
   "outputs": [
    {
     "data": {
      "text/plain": [
       "217"
      ]
     },
     "execution_count": 165,
     "metadata": {},
     "output_type": "execute_result"
    }
   ],
   "source": [
    "gc.collect()"
   ]
  },
  {
   "cell_type": "markdown",
   "metadata": {},
   "source": [
    "# Question 31: Si vous avez été amené à mettre fin à votre activité, pouvez-vous indiquer les éléments de satisfaction et/ou les difficultés rencontrés en précisant, pour chaque point, l'administration concernée :"
   ]
  },
  {
   "cell_type": "code",
   "execution_count": 166,
   "metadata": {
    "collapsed": true
   },
   "outputs": [],
   "source": [
    "question_31 = \"Si vous avez été amené à mettre fin à votre activité, pouvez-vous indiquer les éléments de satisfaction et/ou les difficultés rencontrés en précisant, pour chaque point, l'administration concernée :\"\n",
    "qu_31,df_qu_31_one_hot,df_cov_31,df_confidence_31,df_lift_31 = compute_similarities(question_31, new_res)"
   ]
  },
  {
   "cell_type": "code",
   "execution_count": 167,
   "metadata": {
    "scrolled": true
   },
   "outputs": [
    {
     "name": "stdout",
     "output_type": "stream",
     "text": [
      "non\n"
     ]
    },
    {
     "data": {
      "text/plain": [
       "non         627\n",
       "concerne    251\n",
       "activite      0\n",
       "Name: non, dtype: uint16"
      ]
     },
     "metadata": {},
     "output_type": "display_data"
    },
    {
     "name": "stdout",
     "output_type": "stream",
     "text": [
      "concerne\n"
     ]
    },
    {
     "data": {
      "text/plain": [
       "concerne    441\n",
       "non         251\n",
       "activite      0\n",
       "Name: concerne, dtype: uint16"
      ]
     },
     "metadata": {},
     "output_type": "display_data"
    },
    {
     "name": "stdout",
     "output_type": "stream",
     "text": [
      "activite\n"
     ]
    },
    {
     "data": {
      "text/plain": [
       "activite    330\n",
       "concerne      0\n",
       "non           0\n",
       "Name: activite, dtype: uint16"
      ]
     },
     "metadata": {},
     "output_type": "display_data"
    }
   ],
   "source": [
    "for i in df_qu_31_one_hot.sum(axis=0).sort_values(ascending=False).head(20).index:\n",
    "    print(i)\n",
    "    display(df_cov_31[i].sort_values(ascending=False).head(10))"
   ]
  },
  {
   "cell_type": "code",
   "execution_count": 168,
   "metadata": {
    "scrolled": true
   },
   "outputs": [
    {
     "name": "stdout",
     "output_type": "stream",
     "text": [
      "non\n"
     ]
    },
    {
     "data": {
      "text/plain": [
       "non         1.000000\n",
       "concerne    0.569161\n",
       "activite    0.000000\n",
       "Name: non, dtype: float32"
      ]
     },
     "metadata": {},
     "output_type": "display_data"
    },
    {
     "name": "stdout",
     "output_type": "stream",
     "text": [
      "concerne\n"
     ]
    },
    {
     "data": {
      "text/plain": [
       "concerne    1.000000\n",
       "non         0.400319\n",
       "activite    0.000000\n",
       "Name: concerne, dtype: float32"
      ]
     },
     "metadata": {},
     "output_type": "display_data"
    },
    {
     "name": "stdout",
     "output_type": "stream",
     "text": [
      "activite\n"
     ]
    },
    {
     "data": {
      "text/plain": [
       "activite    1.0\n",
       "concerne    0.0\n",
       "non         0.0\n",
       "Name: activite, dtype: float32"
      ]
     },
     "metadata": {},
     "output_type": "display_data"
    }
   ],
   "source": [
    "for i in df_qu_31_one_hot.sum(axis=0).sort_values(ascending=False).head(20).index:\n",
    "    print(i)\n",
    "    display(df_confidence_31[i].sort_values(ascending=False).head(10))"
   ]
  },
  {
   "cell_type": "code",
   "execution_count": 169,
   "metadata": {
    "scrolled": true
   },
   "outputs": [
    {
     "name": "stdout",
     "output_type": "stream",
     "text": [
      "non\n"
     ]
    },
    {
     "data": {
      "text/plain": [
       "non         0.001595\n",
       "concerne    0.000908\n",
       "activite         NaN\n",
       "Name: non, dtype: float32"
      ]
     },
     "metadata": {},
     "output_type": "display_data"
    },
    {
     "name": "stdout",
     "output_type": "stream",
     "text": [
      "concerne\n"
     ]
    },
    {
     "data": {
      "text/plain": [
       "concerne    0.002268\n",
       "non         0.000908\n",
       "activite         NaN\n",
       "Name: concerne, dtype: float32"
      ]
     },
     "metadata": {},
     "output_type": "display_data"
    },
    {
     "name": "stdout",
     "output_type": "stream",
     "text": [
      "activite\n"
     ]
    },
    {
     "data": {
      "text/plain": [
       "activite    0.00303\n",
       "non             NaN\n",
       "concerne        NaN\n",
       "Name: activite, dtype: float32"
      ]
     },
     "metadata": {},
     "output_type": "display_data"
    }
   ],
   "source": [
    "for i in df_qu_31_one_hot.sum(axis=0).sort_values(ascending=False).head(20).index:\n",
    "    print(i)\n",
    "    display(df_lift_31[i].sort_values(ascending=False).head(10))"
   ]
  },
  {
   "cell_type": "code",
   "execution_count": 170,
   "metadata": {},
   "outputs": [
    {
     "data": {
      "text/plain": [
       "21"
      ]
     },
     "execution_count": 170,
     "metadata": {},
     "output_type": "execute_result"
    }
   ],
   "source": [
    "gc.collect()"
   ]
  },
  {
   "cell_type": "markdown",
   "metadata": {},
   "source": [
    "# Question 32:  Si vous avez été amené à recruter une personne portant un handicap, pouvez-vous indiquer les éléments de satisfaction et/ou les difficultés rencontrés en précisant, pour chaque point, l'administration concernée :"
   ]
  },
  {
   "cell_type": "code",
   "execution_count": 171,
   "metadata": {
    "collapsed": true
   },
   "outputs": [],
   "source": [
    "question_32 = \"Si vous avez été amené à recruter une personne portant un handicap, pouvez-vous indiquer les éléments de satisfaction et/ou les difficultés rencontrés en précisant, pour chaque point, l'administration concernée :\"\n",
    "qu_32,df_qu_32_one_hot,df_cov_32,df_confidence_32,df_lift_32 = compute_similarities(question_32, new_res)"
   ]
  },
  {
   "cell_type": "code",
   "execution_count": 172,
   "metadata": {
    "scrolled": true
   },
   "outputs": [
    {
     "name": "stdout",
     "output_type": "stream",
     "text": [
      "non\n"
     ]
    },
    {
     "data": {
      "text/plain": [
       "non         698\n",
       "concerne    304\n",
       "Name: non, dtype: uint16"
      ]
     },
     "metadata": {},
     "output_type": "display_data"
    },
    {
     "name": "stdout",
     "output_type": "stream",
     "text": [
      "concerne\n"
     ]
    },
    {
     "data": {
      "text/plain": [
       "concerne    528\n",
       "non         304\n",
       "Name: concerne, dtype: uint16"
      ]
     },
     "metadata": {},
     "output_type": "display_data"
    }
   ],
   "source": [
    "for i in df_qu_32_one_hot.sum(axis=0).sort_values(ascending=False).head(20).index:\n",
    "    print(i)\n",
    "    display(df_cov_32[i].sort_values(ascending=False).head(10))"
   ]
  },
  {
   "cell_type": "code",
   "execution_count": 173,
   "metadata": {
    "scrolled": true
   },
   "outputs": [
    {
     "name": "stdout",
     "output_type": "stream",
     "text": [
      "non\n"
     ]
    },
    {
     "data": {
      "text/plain": [
       "non         1.000000\n",
       "concerne    0.575758\n",
       "Name: non, dtype: float32"
      ]
     },
     "metadata": {},
     "output_type": "display_data"
    },
    {
     "name": "stdout",
     "output_type": "stream",
     "text": [
      "concerne\n"
     ]
    },
    {
     "data": {
      "text/plain": [
       "concerne    1.00000\n",
       "non         0.43553\n",
       "Name: concerne, dtype: float32"
      ]
     },
     "metadata": {},
     "output_type": "display_data"
    }
   ],
   "source": [
    "for i in df_qu_32_one_hot.sum(axis=0).sort_values(ascending=False).head(20).index:\n",
    "    print(i)\n",
    "    display(df_confidence_32[i].sort_values(ascending=False).head(10))"
   ]
  },
  {
   "cell_type": "code",
   "execution_count": 174,
   "metadata": {
    "scrolled": true
   },
   "outputs": [
    {
     "name": "stdout",
     "output_type": "stream",
     "text": [
      "non\n"
     ]
    },
    {
     "data": {
      "text/plain": [
       "non         0.001433\n",
       "concerne    0.000825\n",
       "Name: non, dtype: float32"
      ]
     },
     "metadata": {},
     "output_type": "display_data"
    },
    {
     "name": "stdout",
     "output_type": "stream",
     "text": [
      "concerne\n"
     ]
    },
    {
     "data": {
      "text/plain": [
       "concerne    0.001894\n",
       "non         0.000825\n",
       "Name: concerne, dtype: float32"
      ]
     },
     "metadata": {},
     "output_type": "display_data"
    }
   ],
   "source": [
    "for i in df_qu_32_one_hot.sum(axis=0).sort_values(ascending=False).head(20).index:\n",
    "    print(i)\n",
    "    display(df_lift_32[i].sort_values(ascending=False).head(10))"
   ]
  },
  {
   "cell_type": "code",
   "execution_count": 175,
   "metadata": {},
   "outputs": [
    {
     "data": {
      "text/plain": [
       "14"
      ]
     },
     "execution_count": 175,
     "metadata": {},
     "output_type": "execute_result"
    }
   ],
   "source": [
    "gc.collect()"
   ]
  },
  {
   "cell_type": "markdown",
   "metadata": {},
   "source": [
    "# Question 33:  Y a-t-il d'autres points sur l'organisation de l'Etat et des services publics sur lesquels vous souhaiteriez vous exprimer ?"
   ]
  },
  {
   "cell_type": "code",
   "execution_count": 176,
   "metadata": {
    "collapsed": true
   },
   "outputs": [],
   "source": [
    "question_33 = \"Y a-t-il d'autres points sur l'organisation de l'Etat et des services publics sur lesquels vous souhaiteriez vous exprimer ?\"\n",
    "qu_33,df_qu_33_one_hot,df_cov_33,df_confidence_33,df_lift_33 = compute_similarities(question_33, new_res)"
   ]
  },
  {
   "cell_type": "code",
   "execution_count": 177,
   "metadata": {
    "scrolled": true
   },
   "outputs": [
    {
     "name": "stdout",
     "output_type": "stream",
     "text": [
      "faut\n"
     ]
    },
    {
     "data": {
      "text/plain": [
       "faut        7970\n",
       "faire       6050\n",
       "tout        5961\n",
       "service     5654\n",
       "temps       5650\n",
       "francais    5620\n",
       "citoyens    5604\n",
       "mettre      5571\n",
       "securite    5534\n",
       "vitesse     5527\n",
       "Name: faut, dtype: uint16"
      ]
     },
     "metadata": {},
     "output_type": "display_data"
    },
    {
     "name": "stdout",
     "output_type": "stream",
     "text": [
      "faire\n"
     ]
    },
    {
     "data": {
      "text/plain": [
       "faire        7825\n",
       "faut         6050\n",
       "tout         6014\n",
       "temps        5715\n",
       "service      5705\n",
       "citoyens     5631\n",
       "francais     5630\n",
       "mettre       5606\n",
       "securite     5594\n",
       "politique    5511\n",
       "Name: faire, dtype: uint16"
      ]
     },
     "metadata": {},
     "output_type": "display_data"
    },
    {
     "name": "stdout",
     "output_type": "stream",
     "text": [
      "tout\n"
     ]
    },
    {
     "data": {
      "text/plain": [
       "tout         7575\n",
       "faire        6014\n",
       "faut         5961\n",
       "temps        5668\n",
       "francais     5591\n",
       "service      5589\n",
       "citoyens     5522\n",
       "mettre       5512\n",
       "securite     5482\n",
       "politique    5436\n",
       "Name: tout, dtype: uint16"
      ]
     },
     "metadata": {},
     "output_type": "display_data"
    },
    {
     "name": "stdout",
     "output_type": "stream",
     "text": [
      "service\n"
     ]
    },
    {
     "data": {
      "text/plain": [
       "service      6779\n",
       "faire        5705\n",
       "faut         5654\n",
       "tout         5589\n",
       "citoyens     5483\n",
       "temps        5446\n",
       "mettre       5445\n",
       "securite     5410\n",
       "francais     5400\n",
       "politique    5392\n",
       "Name: service, dtype: uint16"
      ]
     },
     "metadata": {},
     "output_type": "display_data"
    },
    {
     "name": "stdout",
     "output_type": "stream",
     "text": [
      "temps\n"
     ]
    },
    {
     "data": {
      "text/plain": [
       "temps       6514\n",
       "faire       5715\n",
       "tout        5668\n",
       "faut        5650\n",
       "francais    5460\n",
       "service     5446\n",
       "citoyens    5425\n",
       "vitesse     5409\n",
       "securite    5401\n",
       "mettre      5397\n",
       "Name: temps, dtype: uint16"
      ]
     },
     "metadata": {},
     "output_type": "display_data"
    },
    {
     "name": "stdout",
     "output_type": "stream",
     "text": [
      "citoyens\n"
     ]
    },
    {
     "data": {
      "text/plain": [
       "citoyens        6496\n",
       "faire           5631\n",
       "faut            5604\n",
       "tout            5522\n",
       "service         5483\n",
       "francais        5425\n",
       "politique       5425\n",
       "temps           5425\n",
       "securite        5419\n",
       "gouvernement    5394\n",
       "Name: citoyens, dtype: uint16"
      ]
     },
     "metadata": {},
     "output_type": "display_data"
    },
    {
     "name": "stdout",
     "output_type": "stream",
     "text": [
      "francais\n"
     ]
    },
    {
     "data": {
      "text/plain": [
       "francais    6343\n",
       "faire       5630\n",
       "faut        5620\n",
       "tout        5591\n",
       "temps       5460\n",
       "citoyens    5425\n",
       "service     5400\n",
       "mesure      5400\n",
       "securite    5399\n",
       "vitesse     5395\n",
       "Name: francais, dtype: uint16"
      ]
     },
     "metadata": {},
     "output_type": "display_data"
    },
    {
     "name": "stdout",
     "output_type": "stream",
     "text": [
      "mettre\n"
     ]
    },
    {
     "data": {
      "text/plain": [
       "mettre       6237\n",
       "faire        5606\n",
       "faut         5571\n",
       "tout         5512\n",
       "service      5445\n",
       "temps        5397\n",
       "politique    5392\n",
       "francais     5388\n",
       "securite     5385\n",
       "citoyens     5377\n",
       "Name: mettre, dtype: uint16"
      ]
     },
     "metadata": {},
     "output_type": "display_data"
    },
    {
     "name": "stdout",
     "output_type": "stream",
     "text": [
      "securite\n"
     ]
    },
    {
     "data": {
      "text/plain": [
       "securite    6134\n",
       "faire       5594\n",
       "faut        5534\n",
       "vitesse     5493\n",
       "tout        5482\n",
       "routiere    5473\n",
       "80          5434\n",
       "km          5428\n",
       "citoyens    5419\n",
       "routes      5418\n",
       "Name: securite, dtype: uint16"
      ]
     },
     "metadata": {},
     "output_type": "display_data"
    },
    {
     "name": "stdout",
     "output_type": "stream",
     "text": [
      "vitesse\n"
     ]
    },
    {
     "data": {
      "text/plain": [
       "vitesse        5951\n",
       "km             5663\n",
       "80             5656\n",
       "limitation     5632\n",
       "routes         5546\n",
       "faut           5527\n",
       "route          5496\n",
       "securite       5493\n",
       "mesure         5485\n",
       "conducteurs    5474\n",
       "Name: vitesse, dtype: uint16"
      ]
     },
     "metadata": {},
     "output_type": "display_data"
    },
    {
     "name": "stdout",
     "output_type": "stream",
     "text": [
      "80\n"
     ]
    },
    {
     "data": {
      "text/plain": [
       "80            5944\n",
       "km            5769\n",
       "vitesse       5656\n",
       "limitation    5580\n",
       "faut          5514\n",
       "routes        5504\n",
       "mesure        5458\n",
       "faire         5436\n",
       "route         5436\n",
       "securite      5434\n",
       "Name: 80, dtype: uint16"
      ]
     },
     "metadata": {},
     "output_type": "display_data"
    },
    {
     "name": "stdout",
     "output_type": "stream",
     "text": [
      "politique\n"
     ]
    },
    {
     "data": {
      "text/plain": [
       "politique       5939\n",
       "faire           5511\n",
       "faut            5482\n",
       "tout            5436\n",
       "citoyens        5425\n",
       "mettre          5392\n",
       "service         5392\n",
       "francais        5390\n",
       "securite        5379\n",
       "gouvernement    5374\n",
       "Name: politique, dtype: uint16"
      ]
     },
     "metadata": {},
     "output_type": "display_data"
    },
    {
     "name": "stdout",
     "output_type": "stream",
     "text": [
      "km\n"
     ]
    },
    {
     "data": {
      "text/plain": [
       "km            5907\n",
       "80            5769\n",
       "vitesse       5663\n",
       "limitation    5561\n",
       "routes        5496\n",
       "faut          5489\n",
       "mesure        5454\n",
       "revenir       5432\n",
       "securite      5428\n",
       "reseau        5426\n",
       "Name: km, dtype: uint16"
      ]
     },
     "metadata": {},
     "output_type": "display_data"
    },
    {
     "name": "stdout",
     "output_type": "stream",
     "text": [
      "lieu\n"
     ]
    },
    {
     "data": {
      "text/plain": [
       "lieu            5854\n",
       "faire           5499\n",
       "faut            5462\n",
       "tout            5416\n",
       "vitesse         5403\n",
       "temps           5397\n",
       "securite        5396\n",
       "gouvernement    5382\n",
       "citoyens        5381\n",
       "francais        5375\n",
       "Name: lieu, dtype: uint16"
      ]
     },
     "metadata": {},
     "output_type": "display_data"
    },
    {
     "name": "stdout",
     "output_type": "stream",
     "text": [
      "gouvernement\n"
     ]
    },
    {
     "data": {
      "text/plain": [
       "gouvernement    5800\n",
       "faire           5458\n",
       "faut            5449\n",
       "securite        5395\n",
       "citoyens        5394\n",
       "tout            5393\n",
       "vitesse         5392\n",
       "francais        5387\n",
       "lieu            5382\n",
       "politique       5374\n",
       "Name: gouvernement, dtype: uint16"
      ]
     },
     "metadata": {},
     "output_type": "display_data"
    },
    {
     "name": "stdout",
     "output_type": "stream",
     "text": [
      "limitation\n"
     ]
    },
    {
     "data": {
      "text/plain": [
       "limitation     5773\n",
       "vitesse        5632\n",
       "80             5580\n",
       "km             5561\n",
       "faut           5474\n",
       "routes         5462\n",
       "mesure         5441\n",
       "reseau         5438\n",
       "revenir        5428\n",
       "conducteurs    5406\n",
       "Name: limitation, dtype: uint16"
      ]
     },
     "metadata": {},
     "output_type": "display_data"
    },
    {
     "name": "stdout",
     "output_type": "stream",
     "text": [
      "routes\n"
     ]
    },
    {
     "data": {
      "text/plain": [
       "routes        5757\n",
       "vitesse       5546\n",
       "80            5504\n",
       "km            5496\n",
       "limitation    5462\n",
       "securite      5418\n",
       "faut          5409\n",
       "faire         5404\n",
       "route         5392\n",
       "radars        5381\n",
       "Name: routes, dtype: uint16"
      ]
     },
     "metadata": {},
     "output_type": "display_data"
    },
    {
     "name": "stdout",
     "output_type": "stream",
     "text": [
      "mesure\n"
     ]
    },
    {
     "data": {
      "text/plain": [
       "mesure        5740\n",
       "vitesse       5485\n",
       "faut          5477\n",
       "80            5458\n",
       "km            5454\n",
       "limitation    5441\n",
       "faire         5408\n",
       "francais      5400\n",
       "reseau        5394\n",
       "securite      5386\n",
       "Name: mesure, dtype: uint16"
      ]
     },
     "metadata": {},
     "output_type": "display_data"
    },
    {
     "name": "stdout",
     "output_type": "stream",
     "text": [
      "revenir\n"
     ]
    },
    {
     "data": {
      "text/plain": [
       "revenir        5721\n",
       "faut           5496\n",
       "vitesse        5449\n",
       "km             5432\n",
       "limitation     5428\n",
       "80             5423\n",
       "mesure         5385\n",
       "abaissement    5382\n",
       "reseau         5379\n",
       "secondaire     5371\n",
       "Name: revenir, dtype: uint16"
      ]
     },
     "metadata": {},
     "output_type": "display_data"
    },
    {
     "name": "stdout",
     "output_type": "stream",
     "text": [
      "route\n"
     ]
    },
    {
     "data": {
      "text/plain": [
       "route          5641\n",
       "vitesse        5496\n",
       "80             5436\n",
       "km             5426\n",
       "securite       5408\n",
       "limitation     5393\n",
       "routes         5392\n",
       "faire          5388\n",
       "routiere       5374\n",
       "conducteurs    5366\n",
       "Name: route, dtype: uint16"
      ]
     },
     "metadata": {},
     "output_type": "display_data"
    }
   ],
   "source": [
    "for i in df_qu_33_one_hot.sum(axis=0).sort_values(ascending=False).head(20).index:\n",
    "    print(i)\n",
    "    display(df_cov_33[i].sort_values(ascending=False).head(10))"
   ]
  },
  {
   "cell_type": "code",
   "execution_count": 178,
   "metadata": {
    "scrolled": true
   },
   "outputs": [
    {
     "name": "stdout",
     "output_type": "stream",
     "text": [
      "faut\n"
     ]
    },
    {
     "data": {
      "text/plain": [
       "faut               1.000000\n",
       "biaisee            0.994160\n",
       "flashent           0.993873\n",
       "probants           0.993602\n",
       "rallonges          0.992615\n",
       "injustement        0.992453\n",
       "colles             0.991709\n",
       "detourner          0.990714\n",
       "experimentation    0.990099\n",
       "imposee            0.989803\n",
       "Name: faut, dtype: float32"
      ]
     },
     "metadata": {},
     "output_type": "display_data"
    },
    {
     "name": "stdout",
     "output_type": "stream",
     "text": [
      "faire\n"
     ]
    },
    {
     "data": {
      "text/plain": [
       "faire          1.000000\n",
       "racket         0.992060\n",
       "flashent       0.990427\n",
       "detourner      0.989956\n",
       "obligeant      0.988447\n",
       "inutilement    0.988264\n",
       "rives          0.988260\n",
       "reduite        0.986578\n",
       "rallonges      0.986366\n",
       "injustement    0.986226\n",
       "Name: faire, dtype: float32"
      ]
     },
     "metadata": {},
     "output_type": "display_data"
    },
    {
     "name": "stdout",
     "output_type": "stream",
     "text": [
      "tout\n"
     ]
    },
    {
     "data": {
      "text/plain": [
       "tout           1.000000\n",
       "flashent       0.998468\n",
       "rallonges      0.984851\n",
       "injustement    0.984151\n",
       "colles         0.982476\n",
       "racket         0.980718\n",
       "detourner      0.979913\n",
       "trajet         0.979726\n",
       "penalise       0.979416\n",
       "biaisee        0.979088\n",
       "Name: tout, dtype: float32"
      ]
     },
     "metadata": {},
     "output_type": "display_data"
    },
    {
     "name": "stdout",
     "output_type": "stream",
     "text": [
      "service\n"
     ]
    },
    {
     "data": {
      "text/plain": [
       "service        1.000000\n",
       "racket         0.990548\n",
       "flashent       0.989661\n",
       "detourner      0.988630\n",
       "obligeant      0.987121\n",
       "injustement    0.986604\n",
       "inutilement    0.986561\n",
       "rives          0.985987\n",
       "rallonges      0.985798\n",
       "veiller        0.984940\n",
       "Name: service, dtype: float32"
      ]
     },
     "metadata": {},
     "output_type": "display_data"
    },
    {
     "name": "stdout",
     "output_type": "stream",
     "text": [
      "temps\n"
     ]
    },
    {
     "data": {
      "text/plain": [
       "temps          1.000000\n",
       "rallonges      0.999432\n",
       "trajet         0.996809\n",
       "flashent       0.996171\n",
       "injustement    0.994717\n",
       "colles         0.994159\n",
       "penalise       0.989334\n",
       "detourner      0.988251\n",
       "obligeant      0.987311\n",
       "probants       0.986639\n",
       "Name: temps, dtype: float32"
      ]
     },
     "metadata": {},
     "output_type": "display_data"
    },
    {
     "name": "stdout",
     "output_type": "stream",
     "text": [
      "citoyens\n"
     ]
    },
    {
     "data": {
      "text/plain": [
       "citoyens          1.000000\n",
       "detourner         0.996399\n",
       "obligeant         0.995833\n",
       "inutilement       0.992618\n",
       "rives             0.992615\n",
       "reduite           0.992250\n",
       "laissez           0.991509\n",
       "flashent          0.990427\n",
       "indispensables    0.989891\n",
       "rallonges         0.988260\n",
       "Name: citoyens, dtype: float32"
      ]
     },
     "metadata": {},
     "output_type": "display_data"
    },
    {
     "name": "stdout",
     "output_type": "stream",
     "text": [
      "francais\n"
     ]
    },
    {
     "data": {
      "text/plain": [
       "francais           1.000000\n",
       "probants           0.996048\n",
       "biaisee            0.996044\n",
       "flashent           0.994256\n",
       "injustement        0.991887\n",
       "rallonges          0.991290\n",
       "experimentation    0.990473\n",
       "colles             0.989825\n",
       "detourner          0.988061\n",
       "obligeant          0.987500\n",
       "Name: francais, dtype: float32"
      ]
     },
     "metadata": {},
     "output_type": "display_data"
    },
    {
     "name": "stdout",
     "output_type": "stream",
     "text": [
      "mettre\n"
     ]
    },
    {
     "data": {
      "text/plain": [
       "mettre         1.000000\n",
       "racket         0.989414\n",
       "detourner      0.989388\n",
       "flashent       0.989278\n",
       "obligeant      0.987311\n",
       "inutilement    0.985993\n",
       "rives          0.985798\n",
       "injustement    0.985660\n",
       "rallonges      0.985419\n",
       "veiller        0.984375\n",
       "Name: mettre, dtype: float32"
      ]
     },
     "metadata": {},
     "output_type": "display_data"
    },
    {
     "name": "stdout",
     "output_type": "stream",
     "text": [
      "securite\n"
     ]
    },
    {
     "data": {
      "text/plain": [
       "securite       1.000000\n",
       "detourner      0.997726\n",
       "rives          0.996781\n",
       "obligeant      0.995076\n",
       "inutilement    0.994700\n",
       "reduite        0.993762\n",
       "racket         0.993006\n",
       "laissez        0.992642\n",
       "flashent       0.992342\n",
       "rallonges      0.991100\n",
       "Name: securite, dtype: float32"
      ]
     },
     "metadata": {},
     "output_type": "display_data"
    },
    {
     "name": "stdout",
     "output_type": "stream",
     "text": [
      "vitesse\n"
     ]
    },
    {
     "data": {
      "text/plain": [
       "vitesse        1.000000\n",
       "rives          0.999432\n",
       "biaisee        0.999246\n",
       "flashent       0.999043\n",
       "probants       0.998871\n",
       "rallonges      0.998864\n",
       "detourner      0.998863\n",
       "colles         0.998681\n",
       "injustement    0.998113\n",
       "abaissement    0.997973\n",
       "Name: vitesse, dtype: float32"
      ]
     },
     "metadata": {},
     "output_type": "display_data"
    },
    {
     "name": "stdout",
     "output_type": "stream",
     "text": [
      "80\n"
     ]
    },
    {
     "data": {
      "text/plain": [
       "80                 1.000000\n",
       "biaisee            0.994348\n",
       "flashent           0.994256\n",
       "probants           0.994166\n",
       "rallonges          0.992994\n",
       "colles             0.992651\n",
       "injustement        0.992264\n",
       "abaissement        0.992075\n",
       "rives              0.991290\n",
       "experimentation    0.991220\n",
       "Name: 80, dtype: float32"
      ]
     },
     "metadata": {},
     "output_type": "display_data"
    },
    {
     "name": "stdout",
     "output_type": "stream",
     "text": [
      "politique\n"
     ]
    },
    {
     "data": {
      "text/plain": [
       "politique      1.000000\n",
       "racket         0.991493\n",
       "detourner      0.990146\n",
       "flashent       0.990044\n",
       "obligeant      0.987689\n",
       "rives          0.987313\n",
       "inutilement    0.987128\n",
       "injustement    0.986604\n",
       "rallonges      0.986366\n",
       "colles         0.985868\n",
       "Name: politique, dtype: float32"
      ]
     },
     "metadata": {},
     "output_type": "display_data"
    },
    {
     "name": "stdout",
     "output_type": "stream",
     "text": [
      "km\n"
     ]
    },
    {
     "data": {
      "text/plain": [
       "km                 1.000000\n",
       "flashent           0.994448\n",
       "probants           0.994355\n",
       "biaisee            0.994348\n",
       "colles             0.993217\n",
       "rallonges          0.993183\n",
       "injustement        0.992642\n",
       "abaissement        0.991891\n",
       "experimentation    0.991407\n",
       "rives              0.991290\n",
       "Name: km, dtype: float32"
      ]
     },
     "metadata": {},
     "output_type": "display_data"
    },
    {
     "name": "stdout",
     "output_type": "stream",
     "text": [
      "lieu\n"
     ]
    },
    {
     "data": {
      "text/plain": [
       "lieu           1.000000\n",
       "detourner      0.998484\n",
       "rives          0.996402\n",
       "obligeant      0.995833\n",
       "inutilement    0.994511\n",
       "flashent       0.994448\n",
       "reduite        0.993573\n",
       "rallonges      0.992615\n",
       "laissez        0.992075\n",
       "injustement    0.992075\n",
       "Name: lieu, dtype: float32"
      ]
     },
     "metadata": {},
     "output_type": "display_data"
    },
    {
     "name": "stdout",
     "output_type": "stream",
     "text": [
      "gouvernement\n"
     ]
    },
    {
     "data": {
      "text/plain": [
       "gouvernement    1.000000\n",
       "detourner       0.997536\n",
       "obligeant       0.994886\n",
       "flashent        0.994639\n",
       "rives           0.994509\n",
       "injustement     0.993208\n",
       "inutilement     0.992996\n",
       "rallonges       0.992615\n",
       "colles          0.992086\n",
       "reduite         0.991871\n",
       "Name: gouvernement, dtype: float32"
      ]
     },
     "metadata": {},
     "output_type": "display_data"
    },
    {
     "name": "stdout",
     "output_type": "stream",
     "text": [
      "limitation\n"
     ]
    },
    {
     "data": {
      "text/plain": [
       "limitation         1.000000\n",
       "flashent           0.999043\n",
       "probants           0.998495\n",
       "biaisee            0.998493\n",
       "rallonges          0.997917\n",
       "colles             0.997550\n",
       "injustement        0.996604\n",
       "experimentation    0.994769\n",
       "abaissement        0.994655\n",
       "detourner          0.994125\n",
       "Name: limitation, dtype: float32"
      ]
     },
     "metadata": {},
     "output_type": "display_data"
    },
    {
     "name": "stdout",
     "output_type": "stream",
     "text": [
      "routes\n"
     ]
    },
    {
     "data": {
      "text/plain": [
       "routes         1.000000\n",
       "flashent       0.993299\n",
       "veiller        0.991905\n",
       "colles         0.991144\n",
       "rallonges      0.991100\n",
       "injustement    0.990566\n",
       "racket         0.989603\n",
       "detourner      0.989577\n",
       "rives          0.989396\n",
       "obligeant      0.986553\n",
       "Name: routes, dtype: float32"
      ]
     },
     "metadata": {},
     "output_type": "display_data"
    },
    {
     "name": "stdout",
     "output_type": "stream",
     "text": [
      "mesure\n"
     ]
    },
    {
     "data": {
      "text/plain": [
       "mesure             1.000000\n",
       "biaisee            0.998493\n",
       "probants           0.998306\n",
       "flashent           0.996171\n",
       "injustement        0.995472\n",
       "rallonges          0.995266\n",
       "colles             0.995101\n",
       "experimentation    0.994769\n",
       "imposee            0.993326\n",
       "detourner          0.991851\n",
       "Name: mesure, dtype: float32"
      ]
     },
     "metadata": {},
     "output_type": "display_data"
    },
    {
     "name": "stdout",
     "output_type": "stream",
     "text": [
      "revenir\n"
     ]
    },
    {
     "data": {
      "text/plain": [
       "revenir            1.000000\n",
       "flashent           0.994831\n",
       "biaisee            0.993783\n",
       "probants           0.993414\n",
       "rallonges          0.992804\n",
       "injustement        0.992264\n",
       "abaissement        0.991891\n",
       "colles             0.991521\n",
       "detourner          0.989388\n",
       "experimentation    0.988791\n",
       "Name: revenir, dtype: float32"
      ]
     },
     "metadata": {},
     "output_type": "display_data"
    },
    {
     "name": "stdout",
     "output_type": "stream",
     "text": [
      "route\n"
     ]
    },
    {
     "data": {
      "text/plain": [
       "route          1.000000\n",
       "detourner      0.998294\n",
       "rives          0.998106\n",
       "obligeant      0.995833\n",
       "inutilement    0.994700\n",
       "reduite        0.993384\n",
       "compteur       0.992114\n",
       "laissez        0.992075\n",
       "flashent       0.990618\n",
       "colles         0.987564\n",
       "Name: route, dtype: float32"
      ]
     },
     "metadata": {},
     "output_type": "display_data"
    }
   ],
   "source": [
    "for i in df_qu_33_one_hot.sum(axis=0).sort_values(ascending=False).head(20).index:\n",
    "    print(i)\n",
    "    display(df_confidence_33[i].sort_values(ascending=False).head(10))"
   ]
  },
  {
   "cell_type": "code",
   "execution_count": 179,
   "metadata": {
    "scrolled": true
   },
   "outputs": [
    {
     "name": "stdout",
     "output_type": "stream",
     "text": [
      "faut\n"
     ]
    },
    {
     "data": {
      "text/plain": [
       "faut               0.000125\n",
       "biaisee            0.000125\n",
       "flashent           0.000125\n",
       "probants           0.000125\n",
       "rallonges          0.000125\n",
       "injustement        0.000125\n",
       "colles             0.000124\n",
       "detourner          0.000124\n",
       "experimentation    0.000124\n",
       "imposee            0.000124\n",
       "Name: faut, dtype: float32"
      ]
     },
     "metadata": {},
     "output_type": "display_data"
    },
    {
     "name": "stdout",
     "output_type": "stream",
     "text": [
      "faire\n"
     ]
    },
    {
     "data": {
      "text/plain": [
       "faire          0.000128\n",
       "racket         0.000127\n",
       "flashent       0.000127\n",
       "detourner      0.000127\n",
       "obligeant      0.000126\n",
       "inutilement    0.000126\n",
       "rives          0.000126\n",
       "reduite        0.000126\n",
       "rallonges      0.000126\n",
       "injustement    0.000126\n",
       "Name: faire, dtype: float32"
      ]
     },
     "metadata": {},
     "output_type": "display_data"
    },
    {
     "name": "stdout",
     "output_type": "stream",
     "text": [
      "tout\n"
     ]
    },
    {
     "data": {
      "text/plain": [
       "tout           0.000132\n",
       "flashent       0.000132\n",
       "rallonges      0.000130\n",
       "injustement    0.000130\n",
       "colles         0.000130\n",
       "racket         0.000129\n",
       "detourner      0.000129\n",
       "trajet         0.000129\n",
       "penalise       0.000129\n",
       "biaisee        0.000129\n",
       "Name: tout, dtype: float32"
      ]
     },
     "metadata": {},
     "output_type": "display_data"
    },
    {
     "name": "stdout",
     "output_type": "stream",
     "text": [
      "service\n"
     ]
    },
    {
     "data": {
      "text/plain": [
       "service        0.000148\n",
       "racket         0.000146\n",
       "flashent       0.000146\n",
       "detourner      0.000146\n",
       "obligeant      0.000146\n",
       "injustement    0.000146\n",
       "inutilement    0.000146\n",
       "rives          0.000145\n",
       "rallonges      0.000145\n",
       "veiller        0.000145\n",
       "Name: service, dtype: float32"
      ]
     },
     "metadata": {},
     "output_type": "display_data"
    },
    {
     "name": "stdout",
     "output_type": "stream",
     "text": [
      "temps\n"
     ]
    },
    {
     "data": {
      "text/plain": [
       "temps          0.000154\n",
       "rallonges      0.000153\n",
       "trajet         0.000153\n",
       "flashent       0.000153\n",
       "injustement    0.000153\n",
       "colles         0.000153\n",
       "penalise       0.000152\n",
       "detourner      0.000152\n",
       "obligeant      0.000152\n",
       "probants       0.000151\n",
       "Name: temps, dtype: float32"
      ]
     },
     "metadata": {},
     "output_type": "display_data"
    },
    {
     "name": "stdout",
     "output_type": "stream",
     "text": [
      "citoyens\n"
     ]
    },
    {
     "data": {
      "text/plain": [
       "citoyens          0.000154\n",
       "detourner         0.000153\n",
       "obligeant         0.000153\n",
       "inutilement       0.000153\n",
       "rives             0.000153\n",
       "reduite           0.000153\n",
       "laissez           0.000153\n",
       "flashent          0.000152\n",
       "indispensables    0.000152\n",
       "rallonges         0.000152\n",
       "Name: citoyens, dtype: float32"
      ]
     },
     "metadata": {},
     "output_type": "display_data"
    },
    {
     "name": "stdout",
     "output_type": "stream",
     "text": [
      "francais\n"
     ]
    },
    {
     "data": {
      "text/plain": [
       "francais           0.000158\n",
       "probants           0.000157\n",
       "biaisee            0.000157\n",
       "flashent           0.000157\n",
       "injustement        0.000156\n",
       "rallonges          0.000156\n",
       "experimentation    0.000156\n",
       "colles             0.000156\n",
       "detourner          0.000156\n",
       "obligeant          0.000156\n",
       "Name: francais, dtype: float32"
      ]
     },
     "metadata": {},
     "output_type": "display_data"
    },
    {
     "name": "stdout",
     "output_type": "stream",
     "text": [
      "mettre\n"
     ]
    },
    {
     "data": {
      "text/plain": [
       "mettre         0.000160\n",
       "racket         0.000159\n",
       "detourner      0.000159\n",
       "flashent       0.000159\n",
       "obligeant      0.000158\n",
       "inutilement    0.000158\n",
       "rives          0.000158\n",
       "injustement    0.000158\n",
       "rallonges      0.000158\n",
       "veiller        0.000158\n",
       "Name: mettre, dtype: float32"
      ]
     },
     "metadata": {},
     "output_type": "display_data"
    },
    {
     "name": "stdout",
     "output_type": "stream",
     "text": [
      "securite\n"
     ]
    },
    {
     "data": {
      "text/plain": [
       "securite       0.000163\n",
       "detourner      0.000163\n",
       "rives          0.000163\n",
       "obligeant      0.000162\n",
       "inutilement    0.000162\n",
       "reduite        0.000162\n",
       "racket         0.000162\n",
       "laissez        0.000162\n",
       "flashent       0.000162\n",
       "rallonges      0.000162\n",
       "Name: securite, dtype: float32"
      ]
     },
     "metadata": {},
     "output_type": "display_data"
    },
    {
     "name": "stdout",
     "output_type": "stream",
     "text": [
      "vitesse\n"
     ]
    },
    {
     "data": {
      "text/plain": [
       "vitesse        0.000168\n",
       "rives          0.000168\n",
       "biaisee        0.000168\n",
       "flashent       0.000168\n",
       "probants       0.000168\n",
       "rallonges      0.000168\n",
       "detourner      0.000168\n",
       "colles         0.000168\n",
       "injustement    0.000168\n",
       "abaissement    0.000168\n",
       "Name: vitesse, dtype: float32"
      ]
     },
     "metadata": {},
     "output_type": "display_data"
    },
    {
     "name": "stdout",
     "output_type": "stream",
     "text": [
      "80\n"
     ]
    },
    {
     "data": {
      "text/plain": [
       "80                 0.000168\n",
       "biaisee            0.000167\n",
       "flashent           0.000167\n",
       "probants           0.000167\n",
       "rallonges          0.000167\n",
       "colles             0.000167\n",
       "injustement        0.000167\n",
       "abaissement        0.000167\n",
       "rives              0.000167\n",
       "experimentation    0.000167\n",
       "Name: 80, dtype: float32"
      ]
     },
     "metadata": {},
     "output_type": "display_data"
    },
    {
     "name": "stdout",
     "output_type": "stream",
     "text": [
      "politique\n"
     ]
    },
    {
     "data": {
      "text/plain": [
       "politique      0.000168\n",
       "racket         0.000167\n",
       "detourner      0.000167\n",
       "flashent       0.000167\n",
       "obligeant      0.000166\n",
       "rives          0.000166\n",
       "inutilement    0.000166\n",
       "injustement    0.000166\n",
       "rallonges      0.000166\n",
       "colles         0.000166\n",
       "Name: politique, dtype: float32"
      ]
     },
     "metadata": {},
     "output_type": "display_data"
    },
    {
     "name": "stdout",
     "output_type": "stream",
     "text": [
      "km\n"
     ]
    },
    {
     "data": {
      "text/plain": [
       "km                 0.000169\n",
       "flashent           0.000168\n",
       "probants           0.000168\n",
       "biaisee            0.000168\n",
       "colles             0.000168\n",
       "rallonges          0.000168\n",
       "injustement        0.000168\n",
       "abaissement        0.000168\n",
       "experimentation    0.000168\n",
       "rives              0.000168\n",
       "Name: km, dtype: float32"
      ]
     },
     "metadata": {},
     "output_type": "display_data"
    },
    {
     "name": "stdout",
     "output_type": "stream",
     "text": [
      "lieu\n"
     ]
    },
    {
     "data": {
      "text/plain": [
       "lieu           0.000171\n",
       "detourner      0.000171\n",
       "rives          0.000170\n",
       "obligeant      0.000170\n",
       "inutilement    0.000170\n",
       "flashent       0.000170\n",
       "reduite        0.000170\n",
       "rallonges      0.000170\n",
       "laissez        0.000169\n",
       "injustement    0.000169\n",
       "Name: lieu, dtype: float32"
      ]
     },
     "metadata": {},
     "output_type": "display_data"
    },
    {
     "name": "stdout",
     "output_type": "stream",
     "text": [
      "gouvernement\n"
     ]
    },
    {
     "data": {
      "text/plain": [
       "gouvernement    0.000172\n",
       "detourner       0.000172\n",
       "obligeant       0.000172\n",
       "flashent        0.000171\n",
       "rives           0.000171\n",
       "injustement     0.000171\n",
       "inutilement     0.000171\n",
       "rallonges       0.000171\n",
       "colles          0.000171\n",
       "reduite         0.000171\n",
       "Name: gouvernement, dtype: float32"
      ]
     },
     "metadata": {},
     "output_type": "display_data"
    },
    {
     "name": "stdout",
     "output_type": "stream",
     "text": [
      "limitation\n"
     ]
    },
    {
     "data": {
      "text/plain": [
       "limitation         0.000173\n",
       "flashent           0.000173\n",
       "probants           0.000173\n",
       "biaisee            0.000173\n",
       "rallonges          0.000173\n",
       "colles             0.000173\n",
       "injustement        0.000173\n",
       "experimentation    0.000172\n",
       "abaissement        0.000172\n",
       "detourner          0.000172\n",
       "Name: limitation, dtype: float32"
      ]
     },
     "metadata": {},
     "output_type": "display_data"
    },
    {
     "name": "stdout",
     "output_type": "stream",
     "text": [
      "routes\n"
     ]
    },
    {
     "data": {
      "text/plain": [
       "routes         0.000174\n",
       "flashent       0.000173\n",
       "veiller        0.000172\n",
       "colles         0.000172\n",
       "rallonges      0.000172\n",
       "injustement    0.000172\n",
       "racket         0.000172\n",
       "detourner      0.000172\n",
       "rives          0.000172\n",
       "obligeant      0.000171\n",
       "Name: routes, dtype: float32"
      ]
     },
     "metadata": {},
     "output_type": "display_data"
    },
    {
     "name": "stdout",
     "output_type": "stream",
     "text": [
      "mesure\n"
     ]
    },
    {
     "data": {
      "text/plain": [
       "mesure             0.000174\n",
       "biaisee            0.000174\n",
       "probants           0.000174\n",
       "flashent           0.000174\n",
       "injustement        0.000173\n",
       "rallonges          0.000173\n",
       "colles             0.000173\n",
       "experimentation    0.000173\n",
       "imposee            0.000173\n",
       "detourner          0.000173\n",
       "Name: mesure, dtype: float32"
      ]
     },
     "metadata": {},
     "output_type": "display_data"
    },
    {
     "name": "stdout",
     "output_type": "stream",
     "text": [
      "revenir\n"
     ]
    },
    {
     "data": {
      "text/plain": [
       "revenir            0.000175\n",
       "flashent           0.000174\n",
       "biaisee            0.000174\n",
       "probants           0.000174\n",
       "rallonges          0.000174\n",
       "injustement        0.000173\n",
       "abaissement        0.000173\n",
       "colles             0.000173\n",
       "detourner          0.000173\n",
       "experimentation    0.000173\n",
       "Name: revenir, dtype: float32"
      ]
     },
     "metadata": {},
     "output_type": "display_data"
    },
    {
     "name": "stdout",
     "output_type": "stream",
     "text": [
      "route\n"
     ]
    },
    {
     "data": {
      "text/plain": [
       "route          0.000177\n",
       "detourner      0.000177\n",
       "rives          0.000177\n",
       "obligeant      0.000177\n",
       "inutilement    0.000176\n",
       "reduite        0.000176\n",
       "compteur       0.000176\n",
       "laissez        0.000176\n",
       "flashent       0.000176\n",
       "colles         0.000175\n",
       "Name: route, dtype: float32"
      ]
     },
     "metadata": {},
     "output_type": "display_data"
    }
   ],
   "source": [
    "for i in df_qu_33_one_hot.sum(axis=0).sort_values(ascending=False).head(20).index:\n",
    "    print(i)\n",
    "    display(df_lift_33[i].sort_values(ascending=False).head(10))"
   ]
  },
  {
   "cell_type": "code",
   "execution_count": 180,
   "metadata": {},
   "outputs": [
    {
     "data": {
      "text/plain": [
       "105"
      ]
     },
     "execution_count": 180,
     "metadata": {},
     "output_type": "execute_result"
    }
   ],
   "source": [
    "gc.collect()"
   ]
  },
  {
   "cell_type": "code",
   "execution_count": null,
   "metadata": {
    "collapsed": true
   },
   "outputs": [],
   "source": []
  }
 ],
 "metadata": {
  "kernelspec": {
   "display_name": "Python 3",
   "language": "python",
   "name": "python3"
  },
  "language_info": {
   "codemirror_mode": {
    "name": "ipython",
    "version": 3
   },
   "file_extension": ".py",
   "mimetype": "text/x-python",
   "name": "python",
   "nbconvert_exporter": "python",
   "pygments_lexer": "ipython3",
   "version": "3.6.3"
  }
 },
 "nbformat": 4,
 "nbformat_minor": 2
}
