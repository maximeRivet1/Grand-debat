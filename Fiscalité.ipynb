{
 "cells": [
  {
   "cell_type": "code",
   "execution_count": 1,
   "metadata": {
    "collapsed": true
   },
   "outputs": [],
   "source": [
    "import os, sys\n",
    "import unidecode\n",
    "import re\n",
    "import json\n",
    "import gc\n",
    "\n",
    "import pandas as pd\n",
    "import numpy as np\n",
    "import matplotlib.pyplot as plt"
   ]
  },
  {
   "cell_type": "markdown",
   "metadata": {},
   "source": [
    "Ce notebook analyse les réponses aux questions en cherchant des liens entre les mots les plus utilisés, dans le but de comprendre les demandes les plus récurrentes des francais.\n",
    "\n",
    "Dans un premier temps, les réponses sont préprocessées et transformées en liste de mots-clés. Puis, pour chaque réponse, úne analyse basique de la proximité des mots est réalisée. Bien que simple, cette methode permet de faire apparaitre des thèmes récurrents et de comprendre la teneur générale de ces demandes.\n",
    "\n",
    "Les trois métriques utilisées sont :\n",
    "+ co-occurence des mots : $co-occurence(i, j) = \\sum_{users} 1_{i \\in user} 1_{j \\in user}$\n",
    "+ confiance : $confiance(i -> j) = P(j | i)$\n",
    "+ lift : $lift(i, j) = \\frac{P(i \\cap j)}{P(i)P(j)}$\n",
    "\n",
    "La co-occurence permet d'évaluer les mots présents de manière commune, et donne une première idée des thèmes généraux.\n",
    "\n",
    "La confiance donne une idée de la présence de $j$ quand $i$ est déjà présent : il surpondère les mots peu présents par rapport à la co-occurence.\n",
    "\n",
    "Le lift estime le surplus de présence commune de $i$ et $j$ par rapport au cas où $i$ et $j$ sont indépendants. Cela permet de trouver des relations de causalité plus intéressantes, notamment dans des cas où certains mots sont peu présents mais très liés.\n",
    "\n",
    "Pour chaque question :\n",
    "+ On récupère les mots les plus employés sur ce thème\n",
    "+ Pour chacun de ces mots, on regarde pour chaque métrique les mots les plus liés, ce qui donne une bonne idée des liens et des demandes\n",
    "\n",
    "On peut ensuite raffiner l'analyse sur des mots moins présents mais porteurs de sens."
   ]
  },
  {
   "cell_type": "code",
   "execution_count": 2,
   "metadata": {
    "collapsed": true
   },
   "outputs": [],
   "source": [
    "# function definitions\n",
    "\n",
    "def compute_similarities(question_name, df_res):\n",
    "    qu = df_res[question_name].dropna()\n",
    "    df_qu_one_hot = compute_one_hot(qu)\n",
    "    df_cov = compute_covariance(df_qu_one_hot)\n",
    "    df_confidence = compute_confidence(df_cov)\n",
    "    df_lift = compute_lift(df_cov, df_qu_one_hot)\n",
    "    \n",
    "    return qu, df_qu_one_hot, df_cov, df_confidence, df_lift\n",
    "    \n",
    "def compute_one_hot(qu):\n",
    "    qu_words = []\n",
    "    for i in qu:\n",
    "        qu_words.extend(i)\n",
    "    qu_words = list(set(qu_words))\n",
    "    dic_qu_words = {word:i for i, word in enumerate(qu_words)}\n",
    "    dic_qu_words_inverse = {i:word for i, word in enumerate(qu_words)}\n",
    "    \n",
    "    qu_one_hot = np.zeros((len(qu), len(qu_words)), dtype=bool)\n",
    "    for i, li_word in enumerate(qu):\n",
    "        for word in li_word:\n",
    "            qu_one_hot[i, dic_qu_words[word]] = True\n",
    "            \n",
    "    df_qu_one_hot = pd.DataFrame(columns=qu_words, data=qu_one_hot).to_sparse(fill_value=False)\n",
    "\n",
    "    \n",
    "    temp_mask = np.sum(df_qu_one_hot.values, axis=0, dtype=np.uint16) > 250\n",
    "    words_enough = df_qu_one_hot.columns.values[temp_mask]\n",
    "    df_qu_one_hot = df_qu_one_hot[words_enough].to_sparse(fill_value=0)\n",
    "    \n",
    "    del temp_mask\n",
    "    del qu_one_hot\n",
    "    gc.collect()\n",
    "    \n",
    "    return df_qu_one_hot\n",
    "\n",
    "def compute_covariance(df_qu_one_hot):\n",
    "    N = df_qu_one_hot.shape[1]\n",
    "    \n",
    "    cov = np.zeros((N, N), dtype=np.uint16)\n",
    "    np.matmul(df_qu_one_hot.values.T, df_qu_one_hot.values, out=cov)\n",
    "    \n",
    "    df_cov = pd.DataFrame(columns=df_qu_one_hot.columns, index=df_qu_one_hot.columns, data=cov) * (cov > 100)\n",
    "    del cov\n",
    "    gc.collect()\n",
    "    \n",
    "    return df_cov\n",
    "\n",
    "def compute_confidence(df_cov):\n",
    "    df_confidence = np.diag(1 / np.diag(df_cov)).dot(df_cov).astype(np.float32)\n",
    "    df_confidence = pd.DataFrame(index=df_cov.index, columns=df_cov.index, data=df_confidence)\n",
    "    return df_confidence\n",
    "\n",
    "def compute_lift(df_cov, df_qu_one_hot):\n",
    "    inv_diag_cov = 1 / np.diag(df_cov.values)\n",
    "    lift = inv_diag_cov.reshape((-1, 1)) * df_cov.values * inv_diag_cov.reshape((1, -1))\n",
    "    df_lift = pd.DataFrame(columns=df_qu_one_hot.columns,\n",
    "                             index=df_qu_one_hot.columns,\n",
    "                             data=lift).replace(0.0, np.nan).astype(np.float32)\n",
    "    del lift\n",
    "    del inv_diag_cov\n",
    "    gc.collect()\n",
    "    \n",
    "    return df_lift"
   ]
  },
  {
   "cell_type": "markdown",
   "metadata": {},
   "source": [
    "# Loading of files and preprocessing"
   ]
  },
  {
   "cell_type": "code",
   "execution_count": 3,
   "metadata": {
    "collapsed": true
   },
   "outputs": [],
   "source": [
    "PATH_TO_FILE = \"./proposals_cleaned/fiscalite.json\""
   ]
  },
  {
   "cell_type": "code",
   "execution_count": 4,
   "metadata": {
    "collapsed": true
   },
   "outputs": [],
   "source": [
    "with open(PATH_TO_FILE, \"r\") as f:\n",
    "    raw_json = [s.strip() for s in f.readlines()]\n",
    "    \n",
    "parsed_json = [json.loads(raw_json[i]) for i in range(len(raw_json))]\n",
    "del raw_json"
   ]
  },
  {
   "cell_type": "code",
   "execution_count": 5,
   "metadata": {
    "collapsed": true
   },
   "outputs": [],
   "source": [
    "col = [\"titre\"]\n",
    "for ques in parsed_json[0][\"responses\"]:\n",
    "    col.append(ques[\"question\"][\"id\"]) \n",
    "        \n",
    "data = []\n",
    "for elt in parsed_json:\n",
    "    resp = {\"titre\" : elt[\"titre\"]}\n",
    "    for ques in elt[\"responses\"]:\n",
    "        try:\n",
    "            text = json.loads((ques[\"value\"]))\n",
    "            resp[ques[\"question\"][\"title\"]] = ''\n",
    "            if text[\"labels\"] != []:\n",
    "                resp[ques[\"question\"][\"title\"]] += \", \".join(text[\"labels\"])\n",
    "            if text[\"other\"] is not None:\n",
    "                resp[ques[\"question\"][\"title\"]] += \", \" + text[\"other\"]\n",
    "            if resp[ques[\"question\"][\"title\"]] == '':\n",
    "                resp[ques[\"question\"][\"title\"]] = np.nan\n",
    "        except:\n",
    "            if ques[\"value\"] is not None and ques[\"value\"][0] != \"{\":\n",
    "                resp[ques[\"question\"][\"title\"]] = ques[\"value\"]\n",
    "            else:\n",
    "                resp[ques[\"question\"][\"title\"]] = np.nan\n",
    "    data.append(resp)"
   ]
  },
  {
   "cell_type": "code",
   "execution_count": 6,
   "metadata": {},
   "outputs": [
    {
     "data": {
      "text/plain": [
       "0"
      ]
     },
     "execution_count": 6,
     "metadata": {},
     "output_type": "execute_result"
    }
   ],
   "source": [
    "res = pd.DataFrame.from_dict(data)\n",
    "del data\n",
    "gc.collect()"
   ]
  },
  {
   "cell_type": "code",
   "execution_count": 7,
   "metadata": {},
   "outputs": [
    {
     "data": {
      "text/plain": [
       "titre                                                                                                                                 1.000000\n",
       "Afin de financer les dépenses sociales, faut-il selon vous...                                                                         0.827525\n",
       "Que faudrait-il faire pour rendre la fiscalité plus juste et plus efficace ?                                                          0.824925\n",
       "Quels sont selon vous les impôts qu'il faut baisser en priorité ?                                                                     0.754784\n",
       "Y a-t-il d'autres points sur les impôts et les dépenses sur lesquels vous souhaiteriez vous exprimer ?                                0.698169\n",
       "Pour quelle(s) politique(s) publique(s) ou pour quels domaines d'action publique, seriez-vous prêts à payer plus d'impôts ?           0.698126\n",
       "Quelles sont toutes les choses qui pourraient être faites pour améliorer l'information des citoyens sur l'utilisation des impôts ?    0.695626\n",
       "Quels sont les domaines prioritaires où notre protection sociale doit être renforcée ?                                                0.695313\n",
       "S'il faut selon vous revoir les conditions d'attribution de certaines aides sociales, lesquelles doivent être concernées ?            0.667382\n",
       "dtype: float64"
      ]
     },
     "execution_count": 7,
     "metadata": {},
     "output_type": "execute_result"
    }
   ],
   "source": [
    "res.notna().mean(axis=0).sort_values(ascending=False)"
   ]
  },
  {
   "cell_type": "markdown",
   "metadata": {},
   "source": [
    "# Find important words"
   ]
  },
  {
   "cell_type": "code",
   "execution_count": 8,
   "metadata": {
    "collapsed": true
   },
   "outputs": [],
   "source": [
    "li_word_count = []\n",
    "for elt in res.values:\n",
    "    for item in elt:\n",
    "        if type(item) == str:\n",
    "            li_word_count.extend([unidecode.unidecode(x.lower()) for x in re.findall(r'\\w+', item)])"
   ]
  },
  {
   "cell_type": "code",
   "execution_count": 9,
   "metadata": {
    "collapsed": true
   },
   "outputs": [],
   "source": [
    "dic_word_count = {}\n",
    "for i in li_word_count:\n",
    "    if len(i) > 0:\n",
    "        if i in dic_word_count.keys():\n",
    "            dic_word_count[i] +=1\n",
    "        else:\n",
    "            dic_word_count[i] = 1"
   ]
  },
  {
   "cell_type": "code",
   "execution_count": 10,
   "metadata": {
    "collapsed": true
   },
   "outputs": [],
   "source": [
    "df_word_count = pd.DataFrame.from_dict(dic_word_count, orient=\"index\")\n",
    "df_word_count.sort_values(0, ascending=False)\n",
    "df_word_count.columns = [\"freq_in_debate\"]"
   ]
  },
  {
   "cell_type": "code",
   "execution_count": 11,
   "metadata": {},
   "outputs": [
    {
     "data": {
      "text/plain": [
       "202"
      ]
     },
     "execution_count": 11,
     "metadata": {},
     "output_type": "execute_result"
    }
   ],
   "source": [
    "del li_word_count\n",
    "del dic_word_count\n",
    "\n",
    "gc.collect()"
   ]
  },
  {
   "cell_type": "code",
   "execution_count": 12,
   "metadata": {
    "collapsed": true
   },
   "outputs": [],
   "source": [
    "df_word_count = df_word_count[df_word_count[\"freq_in_debate\"] > 100]"
   ]
  },
  {
   "cell_type": "code",
   "execution_count": 13,
   "metadata": {
    "collapsed": true
   },
   "outputs": [],
   "source": [
    "li_stopwords = [unidecode.unidecode(x.strip().lower()) for x in open(\"french_stopwords.txt\", 'r').readlines()]\n",
    "li_stopwords = set(li_stopwords)\n",
    "li_stopwords.remove(\"aucun\")\n",
    "li_stopwords.remove(\"tout\")\n",
    "li_stopwords.remove(\"tous\")\n",
    "li_stopwords.remove(\"non\")"
   ]
  },
  {
   "cell_type": "code",
   "execution_count": 14,
   "metadata": {
    "collapsed": true
   },
   "outputs": [],
   "source": [
    "new_data = []\n",
    "for i, elt in enumerate(res.index):\n",
    "    temp_res = []\n",
    "    for col in res.columns:\n",
    "        item = res.loc[elt, col]\n",
    "        if type(item) == str:\n",
    "            li_item = [unidecode.unidecode(x.lower()) for x in re.findall(r'\\w+', item) if unidecode.unidecode(x.lower()) not in li_stopwords]\n",
    "            temp_res.append(li_item)\n",
    "        else:\n",
    "            temp_res.append(None)\n",
    "    new_data.append(temp_res)"
   ]
  },
  {
   "cell_type": "code",
   "execution_count": 15,
   "metadata": {},
   "outputs": [
    {
     "data": {
      "text/plain": [
       "0"
      ]
     },
     "execution_count": 15,
     "metadata": {},
     "output_type": "execute_result"
    }
   ],
   "source": [
    "new_res = pd.DataFrame(new_data, columns=res.columns).to_sparse()\n",
    "del new_data\n",
    "gc.collect()"
   ]
  },
  {
   "cell_type": "markdown",
   "metadata": {},
   "source": [
    "# Question 1 : Quelles sont toutes les choses qui pourraient être faites pour améliorer l'information des citoyens sur l'utilisation des impôts ?"
   ]
  },
  {
   "cell_type": "code",
   "execution_count": 16,
   "metadata": {
    "collapsed": true
   },
   "outputs": [],
   "source": [
    "question_1 = \"Quelles sont toutes les choses qui pourraient être faites pour améliorer l\\'information des citoyens sur l\\'utilisation des impôts ?\"\n",
    "qu_1,df_qu_1_one_hot,df_cov_1,df_confidence_1,df_lift_1 = compute_similarities(question_1,new_res)"
   ]
  },
  {
   "cell_type": "code",
   "execution_count": 17,
   "metadata": {
    "scrolled": true
   },
   "outputs": [
    {
     "name": "stdout",
     "output_type": "stream",
     "text": [
      "impots\n"
     ]
    },
    {
     "data": {
      "text/plain": [
       "impots         12019\n",
       "utilisation     3299\n",
       "depenses        2161\n",
       "tous            1738\n",
       "impot           1587\n",
       "citoyens        1511\n",
       "faire           1393\n",
       "taxes           1344\n",
       "site            1250\n",
       "information     1248\n",
       "Name: impots, dtype: uint16"
      ]
     },
     "metadata": {},
     "output_type": "display_data"
    },
    {
     "name": "stdout",
     "output_type": "stream",
     "text": [
      "depenses\n"
     ]
    },
    {
     "data": {
      "text/plain": [
       "depenses        10173\n",
       "impots           2161\n",
       "recettes         1990\n",
       "publiques        1927\n",
       "tous             1441\n",
       "transparence     1349\n",
       "site             1153\n",
       "citoyens         1107\n",
       "impot            1086\n",
       "faire            1060\n",
       "Name: depenses, dtype: uint16"
      ]
     },
     "metadata": {},
     "output_type": "display_data"
    },
    {
     "name": "stdout",
     "output_type": "stream",
     "text": [
      "impot\n"
     ]
    },
    {
     "data": {
      "text/plain": [
       "impot          6501\n",
       "impots         1587\n",
       "utilisation    1135\n",
       "revenu         1103\n",
       "depenses       1086\n",
       "tous           1018\n",
       "faire           840\n",
       "tout            819\n",
       "citoyens        803\n",
       "exemple         666\n",
       "Name: impot, dtype: uint16"
      ]
     },
     "metadata": {},
     "output_type": "display_data"
    },
    {
     "name": "stdout",
     "output_type": "stream",
     "text": [
      "utilisation\n"
     ]
    },
    {
     "data": {
      "text/plain": [
       "utilisation     5637\n",
       "impots          3299\n",
       "impot           1135\n",
       "transparence     869\n",
       "argent           774\n",
       "information      760\n",
       "citoyens         741\n",
       "depenses         710\n",
       "tous             675\n",
       "faire            552\n",
       "Name: utilisation, dtype: uint16"
      ]
     },
     "metadata": {},
     "output_type": "display_data"
    },
    {
     "name": "stdout",
     "output_type": "stream",
     "text": [
      "tous\n"
     ]
    },
    {
     "data": {
      "text/plain": [
       "tous           5608\n",
       "impots         1738\n",
       "depenses       1441\n",
       "citoyens       1063\n",
       "impot          1018\n",
       "faire           856\n",
       "tout            680\n",
       "utilisation     675\n",
       "ans             638\n",
       "francais        627\n",
       "Name: tous, dtype: uint16"
      ]
     },
     "metadata": {},
     "output_type": "display_data"
    },
    {
     "name": "stdout",
     "output_type": "stream",
     "text": [
      "transparence\n"
     ]
    },
    {
     "data": {
      "text/plain": [
       "transparence    4720\n",
       "depenses        1349\n",
       "impots          1067\n",
       "utilisation      869\n",
       "totale           657\n",
       "tous             617\n",
       "argent           533\n",
       "citoyens         451\n",
       "impot            424\n",
       "elus             404\n",
       "Name: transparence, dtype: uint16"
      ]
     },
     "metadata": {},
     "output_type": "display_data"
    },
    {
     "name": "stdout",
     "output_type": "stream",
     "text": [
      "citoyens\n"
     ]
    },
    {
     "data": {
      "text/plain": [
       "citoyens       4451\n",
       "impots         1511\n",
       "depenses       1107\n",
       "tous           1063\n",
       "impot           803\n",
       "utilisation     741\n",
       "faire           740\n",
       "informer        658\n",
       "information     605\n",
       "tout            533\n",
       "Name: citoyens, dtype: uint16"
      ]
     },
     "metadata": {},
     "output_type": "display_data"
    },
    {
     "name": "stdout",
     "output_type": "stream",
     "text": [
      "faire\n"
     ]
    },
    {
     "data": {
      "text/plain": [
       "faire          4375\n",
       "impots         1393\n",
       "depenses       1060\n",
       "tous            856\n",
       "impot           840\n",
       "citoyens        740\n",
       "tout            654\n",
       "faut            603\n",
       "utilisation     552\n",
       "exemple         529\n",
       "Name: faire, dtype: uint16"
      ]
     },
     "metadata": {},
     "output_type": "display_data"
    },
    {
     "name": "stdout",
     "output_type": "stream",
     "text": [
      "information\n"
     ]
    },
    {
     "data": {
      "text/plain": [
       "information    4238\n",
       "impots         1248\n",
       "utilisation     760\n",
       "depenses        728\n",
       "impot           622\n",
       "citoyens        605\n",
       "tous            518\n",
       "faire           456\n",
       "site            420\n",
       "internet        355\n",
       "Name: information, dtype: uint16"
      ]
     },
     "metadata": {},
     "output_type": "display_data"
    },
    {
     "name": "stdout",
     "output_type": "stream",
     "text": [
      "site\n"
     ]
    },
    {
     "data": {
      "text/plain": [
       "site           3560\n",
       "internet       1383\n",
       "impots         1250\n",
       "depenses       1153\n",
       "dedie           545\n",
       "gouv            540\n",
       "utilisation     488\n",
       "impot           480\n",
       "tous            473\n",
       "information     420\n",
       "Name: site, dtype: uint16"
      ]
     },
     "metadata": {},
     "output_type": "display_data"
    },
    {
     "name": "stdout",
     "output_type": "stream",
     "text": [
      "argent\n"
     ]
    },
    {
     "data": {
      "text/plain": [
       "argent          3397\n",
       "impots          1017\n",
       "public           843\n",
       "utilisation      774\n",
       "depenses         701\n",
       "transparence     533\n",
       "impot            524\n",
       "tous             518\n",
       "citoyens         506\n",
       "faire            490\n",
       "Name: argent, dtype: uint16"
      ]
     },
     "metadata": {},
     "output_type": "display_data"
    },
    {
     "name": "stdout",
     "output_type": "stream",
     "text": [
      "tout\n"
     ]
    },
    {
     "data": {
      "text/plain": [
       "tout        3395\n",
       "impots      1061\n",
       "impot        819\n",
       "monde        786\n",
       "depenses     750\n",
       "tous         680\n",
       "faire        654\n",
       "citoyens     533\n",
       "faut         525\n",
       "argent       483\n",
       "Name: tout, dtype: uint16"
      ]
     },
     "metadata": {},
     "output_type": "display_data"
    },
    {
     "name": "stdout",
     "output_type": "stream",
     "text": [
      "budget\n"
     ]
    },
    {
     "data": {
      "text/plain": [
       "budget         3361\n",
       "depenses       1014\n",
       "impots          764\n",
       "tous            496\n",
       "faire           487\n",
       "impot           474\n",
       "citoyens        468\n",
       "annee           462\n",
       "utilisation     395\n",
       "recettes        394\n",
       "Name: budget, dtype: uint16"
      ]
     },
     "metadata": {},
     "output_type": "display_data"
    },
    {
     "name": "stdout",
     "output_type": "stream",
     "text": [
      "annee\n"
     ]
    },
    {
     "data": {
      "text/plain": [
       "annee          3125\n",
       "impots         1128\n",
       "depenses       1012\n",
       "impot           600\n",
       "utilisation     521\n",
       "budget          462\n",
       "faire           445\n",
       "tous            441\n",
       "bilan           417\n",
       "citoyens        403\n",
       "Name: annee, dtype: uint16"
      ]
     },
     "metadata": {},
     "output_type": "display_data"
    },
    {
     "name": "stdout",
     "output_type": "stream",
     "text": [
      "internet\n"
     ]
    },
    {
     "data": {
      "text/plain": [
       "internet        3078\n",
       "site            1383\n",
       "depenses         942\n",
       "impots           760\n",
       "tous             459\n",
       "utilisation      442\n",
       "information      355\n",
       "citoyens         344\n",
       "transparence     323\n",
       "impot            301\n",
       "Name: internet, dtype: uint16"
      ]
     },
     "metadata": {},
     "output_type": "display_data"
    },
    {
     "name": "stdout",
     "output_type": "stream",
     "text": [
      "exemple\n"
     ]
    },
    {
     "data": {
      "text/plain": [
       "exemple        2947\n",
       "impots         1076\n",
       "depenses        783\n",
       "impot           666\n",
       "tous            555\n",
       "faire           529\n",
       "citoyens        470\n",
       "utilisation     456\n",
       "tout            454\n",
       "cout            452\n",
       "Name: exemple, dtype: uint16"
      ]
     },
     "metadata": {},
     "output_type": "display_data"
    },
    {
     "name": "stdout",
     "output_type": "stream",
     "text": [
      "publiques\n"
     ]
    },
    {
     "data": {
      "text/plain": [
       "publiques       2833\n",
       "depenses        1927\n",
       "impots           630\n",
       "tous             482\n",
       "citoyens         395\n",
       "transparence     394\n",
       "faire            388\n",
       "impot            360\n",
       "services         317\n",
       "site             312\n",
       "Name: publiques, dtype: uint16"
      ]
     },
     "metadata": {},
     "output_type": "display_data"
    },
    {
     "name": "stdout",
     "output_type": "stream",
     "text": [
      "comptes\n"
     ]
    },
    {
     "data": {
      "text/plain": [
       "comptes         2797\n",
       "cour            1360\n",
       "depenses         687\n",
       "tous             496\n",
       "rapport          459\n",
       "impots           410\n",
       "citoyens         369\n",
       "transparence     348\n",
       "utilisation      346\n",
       "faire            339\n",
       "Name: comptes, dtype: uint16"
      ]
     },
     "metadata": {},
     "output_type": "display_data"
    },
    {
     "name": "stdout",
     "output_type": "stream",
     "text": [
      "repartition\n"
     ]
    },
    {
     "data": {
      "text/plain": [
       "repartition    2700\n",
       "impots         1169\n",
       "depenses        939\n",
       "impot           607\n",
       "utilisation     423\n",
       "annee           324\n",
       "tous            304\n",
       "budget          303\n",
       "publiques       271\n",
       "information     269\n",
       "Name: repartition, dtype: uint16"
      ]
     },
     "metadata": {},
     "output_type": "display_data"
    },
    {
     "name": "stdout",
     "output_type": "stream",
     "text": [
      "recettes\n"
     ]
    },
    {
     "data": {
      "text/plain": [
       "recettes    2476\n",
       "depenses    1990\n",
       "impots       552\n",
       "budget       394\n",
       "tous         391\n",
       "annee        343\n",
       "impot        333\n",
       "bilan        297\n",
       "site         293\n",
       "citoyens     272\n",
       "Name: recettes, dtype: uint16"
      ]
     },
     "metadata": {},
     "output_type": "display_data"
    }
   ],
   "source": [
    "for i in df_qu_1_one_hot.sum(axis=0).sort_values(ascending=False).head(20).index:\n",
    "    print(i)\n",
    "    display(df_cov_1[i].sort_values(ascending=False).head(10))"
   ]
  },
  {
   "cell_type": "code",
   "execution_count": 18,
   "metadata": {
    "scrolled": true
   },
   "outputs": [
    {
     "name": "stdout",
     "output_type": "stream",
     "text": [
      "impots\n"
     ]
    },
    {
     "data": {
      "text/plain": [
       "impots         1.000000\n",
       "utilises       0.769723\n",
       "servent        0.757611\n",
       "collectes      0.752727\n",
       "payes          0.747454\n",
       "taxes          0.666006\n",
       "gouv           0.648616\n",
       "locaux         0.624288\n",
       "grace          0.598746\n",
       "utilisation    0.585240\n",
       "Name: impots, dtype: float32"
      ]
     },
     "metadata": {},
     "output_type": "display_data"
    },
    {
     "name": "stdout",
     "output_type": "stream",
     "text": [
      "depenses\n"
     ]
    },
    {
     "data": {
      "text/plain": [
       "depenses         1.000000\n",
       "recettes         0.803716\n",
       "publiques        0.680198\n",
       "inutiles         0.629344\n",
       "postes           0.543260\n",
       "tableau          0.513263\n",
       "evolution        0.507389\n",
       "secteur          0.482587\n",
       "territoriales    0.475336\n",
       "ministeres       0.475285\n",
       "Name: depenses, dtype: float32"
      ]
     },
     "metadata": {},
     "output_type": "display_data"
    },
    {
     "name": "stdout",
     "output_type": "stream",
     "text": [
      "impot\n"
     ]
    },
    {
     "data": {
      "text/plain": [
       "impot         1.000000\n",
       "revenu        0.653049\n",
       "tranches      0.539623\n",
       "habitation    0.490244\n",
       "paient        0.461353\n",
       "calcul        0.458182\n",
       "sert          0.457784\n",
       "taxe          0.454008\n",
       "tva           0.438222\n",
       "csg           0.437590\n",
       "Name: impot, dtype: float32"
      ]
     },
     "metadata": {},
     "output_type": "display_data"
    },
    {
     "name": "stdout",
     "output_type": "stream",
     "text": [
      "utilisation\n"
     ]
    },
    {
     "data": {
      "text/plain": [
       "utilisation    1.000000\n",
       "faite          0.565217\n",
       "fonds          0.516364\n",
       "impots         0.274482\n",
       "local          0.262992\n",
       "detaillee      0.247444\n",
       "collecte       0.239180\n",
       "argent         0.227848\n",
       "meilleure      0.210526\n",
       "totale         0.205692\n",
       "Name: utilisation, dtype: float32"
      ]
     },
     "metadata": {},
     "output_type": "display_data"
    },
    {
     "name": "stdout",
     "output_type": "stream",
     "text": [
      "tous\n"
     ]
    },
    {
     "data": {
      "text/plain": [
       "tous              1.000000\n",
       "niveaux           0.601293\n",
       "ans               0.579473\n",
       "6                 0.505017\n",
       "comprehensible    0.462347\n",
       "accessible        0.437181\n",
       "mois              0.433594\n",
       "accessibles       0.403614\n",
       "produits          0.392283\n",
       "avantages         0.376101\n",
       "Name: tous, dtype: float32"
      ]
     },
     "metadata": {},
     "output_type": "display_data"
    },
    {
     "name": "stdout",
     "output_type": "stream",
     "text": [
      "transparence\n"
     ]
    },
    {
     "data": {
      "text/plain": [
       "transparence    1.000000\n",
       "totale          0.849935\n",
       "elus            0.245742\n",
       "hauts           0.220104\n",
       "niveaux         0.217672\n",
       "fonds           0.214545\n",
       "grande          0.212548\n",
       "controle        0.203670\n",
       "meilleure       0.201452\n",
       "avantages       0.200000\n",
       "Name: transparence, dtype: float32"
      ]
     },
     "metadata": {},
     "output_type": "display_data"
    },
    {
     "name": "stdout",
     "output_type": "stream",
     "text": [
      "citoyens\n"
     ]
    },
    {
     "data": {
      "text/plain": [
       "citoyens       1.000000\n",
       "pourraient     0.348649\n",
       "informer       0.293881\n",
       "disposition    0.281395\n",
       "choix          0.280156\n",
       "permettre      0.274908\n",
       "vote           0.271454\n",
       "politique      0.271095\n",
       "devraient      0.263566\n",
       "payent         0.256158\n",
       "Name: citoyens, dtype: float32"
      ]
     },
     "metadata": {},
     "output_type": "display_data"
    },
    {
     "name": "stdout",
     "output_type": "stream",
     "text": [
      "faire\n"
     ]
    },
    {
     "data": {
      "text/plain": [
       "faire         1.000000\n",
       "sorte         0.577061\n",
       "economies     0.437659\n",
       "conscience    0.401734\n",
       "effort        0.370000\n",
       "riches        0.357294\n",
       "prendre       0.355634\n",
       "4             0.352941\n",
       "autant        0.349481\n",
       "comprendre    0.334184\n",
       "Name: faire, dtype: float32"
      ]
     },
     "metadata": {},
     "output_type": "display_data"
    },
    {
     "name": "stdout",
     "output_type": "stream",
     "text": [
      "information\n"
     ]
    },
    {
     "data": {
      "text/plain": [
       "information    1.000000\n",
       "reguliere      0.371758\n",
       "probleme       0.356061\n",
       "disponible     0.349315\n",
       "ameliorer      0.347015\n",
       "existe         0.319149\n",
       "lettre         0.295493\n",
       "claire         0.258837\n",
       "detaillee      0.231084\n",
       "meilleure      0.217786\n",
       "Name: information, dtype: float32"
      ]
     },
     "metadata": {},
     "output_type": "display_data"
    },
    {
     "name": "stdout",
     "output_type": "stream",
     "text": [
      "site\n"
     ]
    },
    {
     "data": {
      "text/plain": [
       "site         1.000000\n",
       "dedie        0.890523\n",
       "gouv         0.649819\n",
       "web          0.625000\n",
       "fr           0.611236\n",
       "internet     0.449318\n",
       "consulter    0.361290\n",
       "creer        0.338425\n",
       "creation     0.326146\n",
       "jour         0.267157\n",
       "Name: site, dtype: float32"
      ]
     },
     "metadata": {},
     "output_type": "display_data"
    },
    {
     "name": "stdout",
     "output_type": "stream",
     "text": [
      "argent\n"
     ]
    },
    {
     "data": {
      "text/plain": [
       "argent          1.000000\n",
       "utilise         0.418129\n",
       "public          0.351104\n",
       "collecte        0.289294\n",
       "savoir          0.277344\n",
       "donne           0.253165\n",
       "sert            0.229551\n",
       "controle        0.196330\n",
       "contribuable    0.187060\n",
       "travail         0.177931\n",
       "Name: argent, dtype: float32"
      ]
     },
     "metadata": {},
     "output_type": "display_data"
    },
    {
     "name": "stdout",
     "output_type": "stream",
     "text": [
      "tout\n"
     ]
    },
    {
     "data": {
      "text/plain": [
       "tout          1.000000\n",
       "monde         0.735955\n",
       "simplement    0.415896\n",
       "gratuit       0.386861\n",
       "aucun         0.325949\n",
       "augmenter     0.310588\n",
       "achat         0.299703\n",
       "4             0.299233\n",
       "societe       0.285714\n",
       "chomage       0.280899\n",
       "Name: tout, dtype: float32"
      ]
     },
     "metadata": {},
     "output_type": "display_data"
    },
    {
     "name": "stdout",
     "output_type": "stream",
     "text": [
      "budget\n"
     ]
    },
    {
     "data": {
      "text/plain": [
       "budget            1.000000\n",
       "vote              0.565674\n",
       "deficit           0.428571\n",
       "presentation      0.292543\n",
       "ministere         0.235409\n",
       "presenter         0.227419\n",
       "dette             0.223793\n",
       "fonctionnement    0.197700\n",
       "3                 0.182519\n",
       "postes            0.176056\n",
       "Name: budget, dtype: float32"
      ]
     },
     "metadata": {},
     "output_type": "display_data"
    },
    {
     "name": "stdout",
     "output_type": "stream",
     "text": [
      "annee\n"
     ]
    },
    {
     "data": {
      "text/plain": [
       "annee            1.000000\n",
       "fin              0.474777\n",
       "scolaire         0.418239\n",
       "enfant           0.322086\n",
       "recapitulatif    0.264019\n",
       "evolution        0.253695\n",
       "envoyer          0.250700\n",
       "recevoir         0.241706\n",
       "presenter        0.220968\n",
       "bilan            0.219589\n",
       "Name: annee, dtype: float32"
      ]
     },
     "metadata": {},
     "output_type": "display_data"
    },
    {
     "name": "stdout",
     "output_type": "stream",
     "text": [
      "internet\n"
     ]
    },
    {
     "data": {
      "text/plain": [
       "internet       1.000000\n",
       "dedie          0.393791\n",
       "sites          0.392857\n",
       "site           0.388483\n",
       "consultable    0.321767\n",
       "acces          0.243738\n",
       "mairie         0.216738\n",
       "creer          0.204465\n",
       "accessible     0.201226\n",
       "presse         0.185000\n",
       "Name: internet, dtype: float32"
      ]
     },
     "metadata": {},
     "output_type": "display_data"
    },
    {
     "name": "stdout",
     "output_type": "stream",
     "text": [
      "exemple\n"
     ]
    },
    {
     "data": {
      "text/plain": [
       "exemple    1.000000\n",
       "enfant     0.361963\n",
       "prix       0.299335\n",
       "10         0.285458\n",
       "hopital    0.279221\n",
       "100        0.274747\n",
       "coute      0.263359\n",
       "euros      0.248495\n",
       "prendre    0.242958\n",
       "5          0.241087\n",
       "Name: exemple, dtype: float32"
      ]
     },
     "metadata": {},
     "output_type": "display_data"
    },
    {
     "name": "stdout",
     "output_type": "stream",
     "text": [
      "publiques\n"
     ]
    },
    {
     "data": {
      "text/plain": [
       "publiques     1.000000\n",
       "chaines       0.359862\n",
       "finances      0.318233\n",
       "politiques    0.219144\n",
       "depenses      0.189423\n",
       "1000          0.155059\n",
       "tableau       0.152520\n",
       "services      0.149317\n",
       "3             0.145244\n",
       "ensemble      0.143541\n",
       "Name: publiques, dtype: float32"
      ]
     },
     "metadata": {},
     "output_type": "display_data"
    },
    {
     "name": "stdout",
     "output_type": "stream",
     "text": [
      "comptes\n"
     ]
    },
    {
     "data": {
      "text/plain": [
       "comptes        1.000000\n",
       "cour           0.962491\n",
       "rapports       0.627957\n",
       "cours          0.351039\n",
       "rapport        0.275841\n",
       "controle       0.264220\n",
       "pouvoir        0.210879\n",
       "resultats      0.194853\n",
       "publication    0.161169\n",
       "publics        0.160325\n",
       "Name: comptes, dtype: float32"
      ]
     },
     "metadata": {},
     "output_type": "display_data"
    },
    {
     "name": "stdout",
     "output_type": "stream",
     "text": [
      "repartition\n"
     ]
    },
    {
     "data": {
      "text/plain": [
       "repartition    1.000000\n",
       "1000           0.243101\n",
       "camembert      0.242857\n",
       "declaration    0.144074\n",
       "annuelle       0.143523\n",
       "tableau        0.143236\n",
       "imposition     0.142364\n",
       "indiquer       0.140518\n",
       "avis           0.128486\n",
       "postes         0.123742\n",
       "Name: repartition, dtype: float32"
      ]
     },
     "metadata": {},
     "output_type": "display_data"
    },
    {
     "name": "stdout",
     "output_type": "stream",
     "text": [
      "recettes\n"
     ]
    },
    {
     "data": {
      "text/plain": [
       "recettes       1.000000\n",
       "fiscales       0.255276\n",
       "depenses       0.195616\n",
       "tableau        0.184350\n",
       "affectation    0.172911\n",
       "bilan          0.156398\n",
       "dette          0.155477\n",
       "postes         0.135815\n",
       "tva            0.132444\n",
       "publier        0.120000\n",
       "Name: recettes, dtype: float32"
      ]
     },
     "metadata": {},
     "output_type": "display_data"
    }
   ],
   "source": [
    "for i in df_qu_1_one_hot.sum(axis=0).sort_values(ascending=False).head(20).index:\n",
    "    print(i)\n",
    "    display(df_confidence_1[i].sort_values(ascending=False).head(10))"
   ]
  },
  {
   "cell_type": "code",
   "execution_count": 19,
   "metadata": {
    "scrolled": true
   },
   "outputs": [
    {
     "name": "stdout",
     "output_type": "stream",
     "text": [
      "impots\n"
     ]
    },
    {
     "data": {
      "text/plain": [
       "impots         0.000083\n",
       "utilises       0.000064\n",
       "servent        0.000063\n",
       "collectes      0.000063\n",
       "payes          0.000062\n",
       "taxes          0.000055\n",
       "gouv           0.000054\n",
       "locaux         0.000052\n",
       "grace          0.000050\n",
       "utilisation    0.000049\n",
       "Name: impots, dtype: float32"
      ]
     },
     "metadata": {},
     "output_type": "display_data"
    },
    {
     "name": "stdout",
     "output_type": "stream",
     "text": [
      "depenses\n"
     ]
    },
    {
     "data": {
      "text/plain": [
       "depenses         0.000098\n",
       "recettes         0.000079\n",
       "publiques        0.000067\n",
       "inutiles         0.000062\n",
       "postes           0.000053\n",
       "tableau          0.000050\n",
       "evolution        0.000050\n",
       "secteur          0.000047\n",
       "territoriales    0.000047\n",
       "ministeres       0.000047\n",
       "Name: depenses, dtype: float32"
      ]
     },
     "metadata": {},
     "output_type": "display_data"
    },
    {
     "name": "stdout",
     "output_type": "stream",
     "text": [
      "impot\n"
     ]
    },
    {
     "data": {
      "text/plain": [
       "impot         0.000154\n",
       "revenu        0.000100\n",
       "tranches      0.000083\n",
       "habitation    0.000075\n",
       "paient        0.000071\n",
       "calcul        0.000070\n",
       "sert          0.000070\n",
       "taxe          0.000070\n",
       "tva           0.000067\n",
       "csg           0.000067\n",
       "Name: impot, dtype: float32"
      ]
     },
     "metadata": {},
     "output_type": "display_data"
    },
    {
     "name": "stdout",
     "output_type": "stream",
     "text": [
      "utilisation\n"
     ]
    },
    {
     "data": {
      "text/plain": [
       "utilisation    0.000177\n",
       "faite          0.000100\n",
       "fonds          0.000092\n",
       "impots         0.000049\n",
       "local          0.000047\n",
       "detaillee      0.000044\n",
       "collecte       0.000042\n",
       "argent         0.000040\n",
       "meilleure      0.000037\n",
       "totale         0.000036\n",
       "Name: utilisation, dtype: float32"
      ]
     },
     "metadata": {},
     "output_type": "display_data"
    },
    {
     "name": "stdout",
     "output_type": "stream",
     "text": [
      "tous\n"
     ]
    },
    {
     "data": {
      "text/plain": [
       "tous              0.000178\n",
       "niveaux           0.000107\n",
       "ans               0.000103\n",
       "6                 0.000090\n",
       "comprehensible    0.000082\n",
       "accessible        0.000078\n",
       "mois              0.000077\n",
       "accessibles       0.000072\n",
       "produits          0.000070\n",
       "avantages         0.000067\n",
       "Name: tous, dtype: float32"
      ]
     },
     "metadata": {},
     "output_type": "display_data"
    },
    {
     "name": "stdout",
     "output_type": "stream",
     "text": [
      "transparence\n"
     ]
    },
    {
     "data": {
      "text/plain": [
       "transparence    0.000212\n",
       "totale          0.000180\n",
       "elus            0.000052\n",
       "hauts           0.000047\n",
       "niveaux         0.000046\n",
       "fonds           0.000045\n",
       "grande          0.000045\n",
       "controle        0.000043\n",
       "meilleure       0.000043\n",
       "avantages       0.000042\n",
       "Name: transparence, dtype: float32"
      ]
     },
     "metadata": {},
     "output_type": "display_data"
    },
    {
     "name": "stdout",
     "output_type": "stream",
     "text": [
      "citoyens\n"
     ]
    },
    {
     "data": {
      "text/plain": [
       "citoyens       0.000225\n",
       "pourraient     0.000078\n",
       "informer       0.000066\n",
       "disposition    0.000063\n",
       "choix          0.000063\n",
       "permettre      0.000062\n",
       "vote           0.000061\n",
       "politique      0.000061\n",
       "devraient      0.000059\n",
       "payent         0.000058\n",
       "Name: citoyens, dtype: float32"
      ]
     },
     "metadata": {},
     "output_type": "display_data"
    },
    {
     "name": "stdout",
     "output_type": "stream",
     "text": [
      "faire\n"
     ]
    },
    {
     "data": {
      "text/plain": [
       "faire         0.000229\n",
       "sorte         0.000132\n",
       "economies     0.000100\n",
       "conscience    0.000092\n",
       "effort        0.000085\n",
       "riches        0.000082\n",
       "prendre       0.000081\n",
       "4             0.000081\n",
       "autant        0.000080\n",
       "comprendre    0.000076\n",
       "Name: faire, dtype: float32"
      ]
     },
     "metadata": {},
     "output_type": "display_data"
    },
    {
     "name": "stdout",
     "output_type": "stream",
     "text": [
      "information\n"
     ]
    },
    {
     "data": {
      "text/plain": [
       "information    0.000236\n",
       "reguliere      0.000088\n",
       "probleme       0.000084\n",
       "disponible     0.000082\n",
       "ameliorer      0.000082\n",
       "existe         0.000075\n",
       "lettre         0.000070\n",
       "claire         0.000061\n",
       "detaillee      0.000055\n",
       "meilleure      0.000051\n",
       "Name: information, dtype: float32"
      ]
     },
     "metadata": {},
     "output_type": "display_data"
    },
    {
     "name": "stdout",
     "output_type": "stream",
     "text": [
      "site\n"
     ]
    },
    {
     "data": {
      "text/plain": [
       "site         0.000281\n",
       "dedie        0.000250\n",
       "gouv         0.000183\n",
       "web          0.000176\n",
       "fr           0.000172\n",
       "internet     0.000126\n",
       "consulter    0.000101\n",
       "creer        0.000095\n",
       "creation     0.000092\n",
       "jour         0.000075\n",
       "Name: site, dtype: float32"
      ]
     },
     "metadata": {},
     "output_type": "display_data"
    },
    {
     "name": "stdout",
     "output_type": "stream",
     "text": [
      "argent\n"
     ]
    },
    {
     "data": {
      "text/plain": [
       "argent          0.000294\n",
       "utilise         0.000123\n",
       "public          0.000103\n",
       "collecte        0.000085\n",
       "savoir          0.000082\n",
       "donne           0.000075\n",
       "sert            0.000068\n",
       "controle        0.000058\n",
       "contribuable    0.000055\n",
       "travail         0.000052\n",
       "Name: argent, dtype: float32"
      ]
     },
     "metadata": {},
     "output_type": "display_data"
    },
    {
     "name": "stdout",
     "output_type": "stream",
     "text": [
      "tout\n"
     ]
    },
    {
     "data": {
      "text/plain": [
       "tout          0.000295\n",
       "monde         0.000217\n",
       "simplement    0.000123\n",
       "gratuit       0.000114\n",
       "aucun         0.000096\n",
       "augmenter     0.000091\n",
       "achat         0.000088\n",
       "4             0.000088\n",
       "societe       0.000084\n",
       "chomage       0.000083\n",
       "Name: tout, dtype: float32"
      ]
     },
     "metadata": {},
     "output_type": "display_data"
    },
    {
     "name": "stdout",
     "output_type": "stream",
     "text": [
      "budget\n"
     ]
    },
    {
     "data": {
      "text/plain": [
       "budget            0.000298\n",
       "vote              0.000168\n",
       "deficit           0.000128\n",
       "presentation      0.000087\n",
       "ministere         0.000070\n",
       "presenter         0.000068\n",
       "dette             0.000067\n",
       "fonctionnement    0.000059\n",
       "3                 0.000054\n",
       "postes            0.000052\n",
       "Name: budget, dtype: float32"
      ]
     },
     "metadata": {},
     "output_type": "display_data"
    },
    {
     "name": "stdout",
     "output_type": "stream",
     "text": [
      "annee\n"
     ]
    },
    {
     "data": {
      "text/plain": [
       "annee            0.000320\n",
       "fin              0.000152\n",
       "scolaire         0.000134\n",
       "enfant           0.000103\n",
       "recapitulatif    0.000084\n",
       "evolution        0.000081\n",
       "envoyer          0.000080\n",
       "recevoir         0.000077\n",
       "presenter        0.000071\n",
       "bilan            0.000070\n",
       "Name: annee, dtype: float32"
      ]
     },
     "metadata": {},
     "output_type": "display_data"
    },
    {
     "name": "stdout",
     "output_type": "stream",
     "text": [
      "internet\n"
     ]
    },
    {
     "data": {
      "text/plain": [
       "internet       0.000325\n",
       "dedie          0.000128\n",
       "sites          0.000128\n",
       "site           0.000126\n",
       "consultable    0.000105\n",
       "acces          0.000079\n",
       "mairie         0.000070\n",
       "creer          0.000066\n",
       "accessible     0.000065\n",
       "presse         0.000060\n",
       "Name: internet, dtype: float32"
      ]
     },
     "metadata": {},
     "output_type": "display_data"
    },
    {
     "name": "stdout",
     "output_type": "stream",
     "text": [
      "exemple\n"
     ]
    },
    {
     "data": {
      "text/plain": [
       "exemple    0.000339\n",
       "enfant     0.000123\n",
       "prix       0.000102\n",
       "10         0.000097\n",
       "hopital    0.000095\n",
       "100        0.000093\n",
       "coute      0.000089\n",
       "euros      0.000084\n",
       "prendre    0.000082\n",
       "5          0.000082\n",
       "Name: exemple, dtype: float32"
      ]
     },
     "metadata": {},
     "output_type": "display_data"
    },
    {
     "name": "stdout",
     "output_type": "stream",
     "text": [
      "publiques\n"
     ]
    },
    {
     "data": {
      "text/plain": [
       "publiques     0.000353\n",
       "chaines       0.000127\n",
       "finances      0.000112\n",
       "politiques    0.000077\n",
       "depenses      0.000067\n",
       "1000          0.000055\n",
       "tableau       0.000054\n",
       "services      0.000053\n",
       "3             0.000051\n",
       "ensemble      0.000051\n",
       "Name: publiques, dtype: float32"
      ]
     },
     "metadata": {},
     "output_type": "display_data"
    },
    {
     "name": "stdout",
     "output_type": "stream",
     "text": [
      "comptes\n"
     ]
    },
    {
     "data": {
      "text/plain": [
       "comptes        0.000358\n",
       "cour           0.000344\n",
       "rapports       0.000225\n",
       "cours          0.000126\n",
       "rapport        0.000099\n",
       "controle       0.000094\n",
       "pouvoir        0.000075\n",
       "resultats      0.000070\n",
       "publication    0.000058\n",
       "publics        0.000057\n",
       "Name: comptes, dtype: float32"
      ]
     },
     "metadata": {},
     "output_type": "display_data"
    },
    {
     "name": "stdout",
     "output_type": "stream",
     "text": [
      "repartition\n"
     ]
    },
    {
     "data": {
      "text/plain": [
       "repartition    0.000370\n",
       "1000           0.000090\n",
       "camembert      0.000090\n",
       "declaration    0.000053\n",
       "annuelle       0.000053\n",
       "tableau        0.000053\n",
       "imposition     0.000053\n",
       "indiquer       0.000052\n",
       "avis           0.000048\n",
       "postes         0.000046\n",
       "Name: repartition, dtype: float32"
      ]
     },
     "metadata": {},
     "output_type": "display_data"
    },
    {
     "name": "stdout",
     "output_type": "stream",
     "text": [
      "recettes\n"
     ]
    },
    {
     "data": {
      "text/plain": [
       "recettes       0.000404\n",
       "fiscales       0.000103\n",
       "depenses       0.000079\n",
       "tableau        0.000074\n",
       "affectation    0.000070\n",
       "bilan          0.000063\n",
       "dette          0.000063\n",
       "postes         0.000055\n",
       "tva            0.000053\n",
       "publier        0.000048\n",
       "Name: recettes, dtype: float32"
      ]
     },
     "metadata": {},
     "output_type": "display_data"
    }
   ],
   "source": [
    "for i in df_qu_1_one_hot.sum(axis=0).sort_values(ascending=False).head(20).index:\n",
    "    print(i)\n",
    "    display(df_lift_1[i].sort_values(ascending=False).head(10))"
   ]
  },
  {
   "cell_type": "code",
   "execution_count": 20,
   "metadata": {},
   "outputs": [
    {
     "data": {
      "text/plain": [
       "147"
      ]
     },
     "execution_count": 20,
     "metadata": {},
     "output_type": "execute_result"
    }
   ],
   "source": [
    "gc.collect()"
   ]
  },
  {
   "cell_type": "markdown",
   "metadata": {},
   "source": [
    "# Question 2 : Que faudrait-il faire pour rendre la fiscalité plus juste et plus efficace ?"
   ]
  },
  {
   "cell_type": "code",
   "execution_count": 21,
   "metadata": {
    "collapsed": true
   },
   "outputs": [],
   "source": [
    "question_2 = \"Que faudrait-il faire pour rendre la fiscalité plus juste et plus efficace ?\"\n",
    "qu_2,df_qu_2_one_hot,df_cov_2,df_confidence_2,df_lift_2 = compute_similarities(question_2,new_res)"
   ]
  },
  {
   "cell_type": "code",
   "execution_count": 22,
   "metadata": {
    "scrolled": true
   },
   "outputs": [
    {
     "name": "stdout",
     "output_type": "stream",
     "text": [
      "impot\n"
     ]
    },
    {
     "data": {
      "text/plain": [
       "impot       21249\n",
       "revenu       9823\n",
       "tous         7227\n",
       "revenus      7049\n",
       "tout         6790\n",
       "payer        5561\n",
       "impots       5101\n",
       "monde        4762\n",
       "fiscales     4287\n",
       "faire        4148\n",
       "Name: impot, dtype: uint16"
      ]
     },
     "metadata": {},
     "output_type": "display_data"
    },
    {
     "name": "stdout",
     "output_type": "stream",
     "text": [
      "impots\n"
     ]
    },
    {
     "data": {
      "text/plain": [
       "impots     13706\n",
       "impot       5101\n",
       "tout        4355\n",
       "payer       4314\n",
       "tous        4300\n",
       "revenus     4254\n",
       "revenu      3938\n",
       "monde       3055\n",
       "faire       2966\n",
       "france      2740\n",
       "Name: impots, dtype: uint16"
      ]
     },
     "metadata": {},
     "output_type": "display_data"
    },
    {
     "name": "stdout",
     "output_type": "stream",
     "text": [
      "revenus\n"
     ]
    },
    {
     "data": {
      "text/plain": [
       "revenus     13448\n",
       "impot        7049\n",
       "tous         5017\n",
       "impots       4254\n",
       "revenu       4162\n",
       "tout         3922\n",
       "payer        3028\n",
       "fiscales     2884\n",
       "tranches     2715\n",
       "niches       2667\n",
       "Name: revenus, dtype: uint16"
      ]
     },
     "metadata": {},
     "output_type": "display_data"
    },
    {
     "name": "stdout",
     "output_type": "stream",
     "text": [
      "tous\n"
     ]
    },
    {
     "data": {
      "text/plain": [
       "tous         13407\n",
       "impot         7227\n",
       "revenus       5017\n",
       "revenu        4486\n",
       "impots        4300\n",
       "payer         3230\n",
       "tout          3070\n",
       "faire         2919\n",
       "supprimer     2589\n",
       "francais      2555\n",
       "Name: tous, dtype: uint16"
      ]
     },
     "metadata": {},
     "output_type": "display_data"
    },
    {
     "name": "stdout",
     "output_type": "stream",
     "text": [
      "tout\n"
     ]
    },
    {
     "data": {
      "text/plain": [
       "tout       12605\n",
       "monde       7767\n",
       "impot       6790\n",
       "impots      4355\n",
       "revenu      4195\n",
       "payer       4137\n",
       "revenus     3922\n",
       "tous        3070\n",
       "faire       2747\n",
       "paye        2312\n",
       "Name: tout, dtype: uint16"
      ]
     },
     "metadata": {},
     "output_type": "display_data"
    },
    {
     "name": "stdout",
     "output_type": "stream",
     "text": [
      "revenu\n"
     ]
    },
    {
     "data": {
      "text/plain": [
       "revenu      12538\n",
       "impot        9823\n",
       "tous         4486\n",
       "tout         4195\n",
       "revenus      4162\n",
       "impots       3938\n",
       "payer        3186\n",
       "tranches     2907\n",
       "monde        2848\n",
       "fiscales     2630\n",
       "Name: revenu, dtype: uint16"
      ]
     },
     "metadata": {},
     "output_type": "display_data"
    },
    {
     "name": "stdout",
     "output_type": "stream",
     "text": [
      "payer\n"
     ]
    },
    {
     "data": {
      "text/plain": [
       "payer      9820\n",
       "impot      5561\n",
       "impots     4314\n",
       "tout       4137\n",
       "faire      3881\n",
       "tous       3230\n",
       "revenu     3186\n",
       "monde      3133\n",
       "revenus    3028\n",
       "france     2078\n",
       "Name: payer, dtype: uint16"
      ]
     },
     "metadata": {},
     "output_type": "display_data"
    },
    {
     "name": "stdout",
     "output_type": "stream",
     "text": [
      "faire\n"
     ]
    },
    {
     "data": {
      "text/plain": [
       "faire       8846\n",
       "impot       4148\n",
       "payer       3881\n",
       "impots      2966\n",
       "tous        2919\n",
       "tout        2747\n",
       "revenus     2559\n",
       "revenu      2409\n",
       "fiscale     2003\n",
       "fiscales    1845\n",
       "Name: faire, dtype: uint16"
      ]
     },
     "metadata": {},
     "output_type": "display_data"
    },
    {
     "name": "stdout",
     "output_type": "stream",
     "text": [
      "fiscales\n"
     ]
    },
    {
     "data": {
      "text/plain": [
       "fiscales     8822\n",
       "niches       7422\n",
       "impot        4287\n",
       "supprimer    3585\n",
       "revenus      2884\n",
       "impots       2650\n",
       "revenu       2630\n",
       "tous         2549\n",
       "fiscale      2496\n",
       "tout         2141\n",
       "Name: fiscales, dtype: uint16"
      ]
     },
     "metadata": {},
     "output_type": "display_data"
    },
    {
     "name": "stdout",
     "output_type": "stream",
     "text": [
      "monde\n"
     ]
    },
    {
     "data": {
      "text/plain": [
       "monde      8615\n",
       "tout       7767\n",
       "impot      4762\n",
       "payer      3133\n",
       "impots     3055\n",
       "revenu     2848\n",
       "revenus    2543\n",
       "tous       2140\n",
       "paye       1932\n",
       "faire      1830\n",
       "Name: monde, dtype: uint16"
      ]
     },
     "metadata": {},
     "output_type": "display_data"
    },
    {
     "name": "stdout",
     "output_type": "stream",
     "text": [
      "fiscale\n"
     ]
    },
    {
     "data": {
      "text/plain": [
       "fiscale        8514\n",
       "impot          3831\n",
       "evasion        3630\n",
       "impots         2539\n",
       "fiscales       2496\n",
       "revenus        2475\n",
       "fraude         2410\n",
       "entreprises    2323\n",
       "niches         2318\n",
       "tous           2234\n",
       "Name: fiscale, dtype: uint16"
      ]
     },
     "metadata": {},
     "output_type": "display_data"
    },
    {
     "name": "stdout",
     "output_type": "stream",
     "text": [
      "niches\n"
     ]
    },
    {
     "data": {
      "text/plain": [
       "niches       8121\n",
       "fiscales     7422\n",
       "impot        4060\n",
       "supprimer    3651\n",
       "revenus      2667\n",
       "revenu       2455\n",
       "impots       2412\n",
       "tous         2372\n",
       "fiscale      2318\n",
       "tout         1998\n",
       "Name: niches, dtype: uint16"
      ]
     },
     "metadata": {},
     "output_type": "display_data"
    },
    {
     "name": "stdout",
     "output_type": "stream",
     "text": [
      "supprimer\n"
     ]
    },
    {
     "data": {
      "text/plain": [
       "supprimer    7893\n",
       "niches       3651\n",
       "fiscales     3585\n",
       "impot        3579\n",
       "tous         2589\n",
       "revenus      2374\n",
       "revenu       2303\n",
       "impots       2284\n",
       "tout         1824\n",
       "fiscale      1765\n",
       "Name: supprimer, dtype: uint16"
      ]
     },
     "metadata": {},
     "output_type": "display_data"
    },
    {
     "name": "stdout",
     "output_type": "stream",
     "text": [
      "tranches\n"
     ]
    },
    {
     "data": {
      "text/plain": [
       "tranches      7123\n",
       "impot         4067\n",
       "revenu        2907\n",
       "revenus       2715\n",
       "impots        2413\n",
       "tous          2057\n",
       "imposition    2036\n",
       "tout          1823\n",
       "augmenter     1716\n",
       "fiscales      1716\n",
       "Name: tranches, dtype: uint16"
      ]
     },
     "metadata": {},
     "output_type": "display_data"
    },
    {
     "name": "stdout",
     "output_type": "stream",
     "text": [
      "tva\n"
     ]
    },
    {
     "data": {
      "text/plain": [
       "tva          6789\n",
       "produits     3556\n",
       "impot        3404\n",
       "revenu       2418\n",
       "revenus      2253\n",
       "impots       2180\n",
       "necessite    2117\n",
       "tous         2083\n",
       "augmenter    1798\n",
       "luxe         1795\n",
       "Name: tva, dtype: uint16"
      ]
     },
     "metadata": {},
     "output_type": "display_data"
    },
    {
     "name": "stdout",
     "output_type": "stream",
     "text": [
      "entreprises\n"
     ]
    },
    {
     "data": {
      "text/plain": [
       "entreprises    6755\n",
       "impot          2964\n",
       "impots         2447\n",
       "fiscale        2323\n",
       "france         2038\n",
       "revenus        1928\n",
       "fiscales       1817\n",
       "faire          1776\n",
       "tous           1768\n",
       "taxer          1693\n",
       "Name: entreprises, dtype: uint16"
      ]
     },
     "metadata": {},
     "output_type": "display_data"
    },
    {
     "name": "stdout",
     "output_type": "stream",
     "text": [
      "isf\n"
     ]
    },
    {
     "data": {
      "text/plain": [
       "isf            6142\n",
       "impot          2676\n",
       "retablir       2158\n",
       "impots         1772\n",
       "revenus        1745\n",
       "fiscale        1635\n",
       "tous           1569\n",
       "revenu         1533\n",
       "supprimer      1502\n",
       "entreprises    1438\n",
       "Name: isf, dtype: uint16"
      ]
     },
     "metadata": {},
     "output_type": "display_data"
    },
    {
     "name": "stdout",
     "output_type": "stream",
     "text": [
      "france\n"
     ]
    },
    {
     "data": {
      "text/plain": [
       "france         6073\n",
       "impot          3036\n",
       "impots         2740\n",
       "payer          2078\n",
       "tous           2054\n",
       "entreprises    2038\n",
       "tout           1961\n",
       "revenus        1907\n",
       "fiscale        1894\n",
       "francais       1840\n",
       "Name: france, dtype: uint16"
      ]
     },
     "metadata": {},
     "output_type": "display_data"
    },
    {
     "name": "stdout",
     "output_type": "stream",
     "text": [
      "taxer\n"
     ]
    },
    {
     "data": {
      "text/plain": [
       "taxer          5751\n",
       "impot          1931\n",
       "revenus        1853\n",
       "entreprises    1693\n",
       "fiscale        1435\n",
       "impots         1405\n",
       "tous           1193\n",
       "france         1160\n",
       "revenu         1158\n",
       "tout           1138\n",
       "Name: taxer, dtype: uint16"
      ]
     },
     "metadata": {},
     "output_type": "display_data"
    },
    {
     "name": "stdout",
     "output_type": "stream",
     "text": [
      "francais\n"
     ]
    },
    {
     "data": {
      "text/plain": [
       "francais    5667\n",
       "impot       3330\n",
       "tous        2555\n",
       "impots      2248\n",
       "revenu      2002\n",
       "revenus     1858\n",
       "tout        1854\n",
       "payer       1854\n",
       "france      1840\n",
       "faire       1556\n",
       "Name: francais, dtype: uint16"
      ]
     },
     "metadata": {},
     "output_type": "display_data"
    }
   ],
   "source": [
    "for i in df_qu_2_one_hot.sum(axis=0).sort_values(ascending=False).head(20).index:\n",
    "    print(i)\n",
    "    display(df_cov_2[i].sort_values(ascending=False).head(10))"
   ]
  },
  {
   "cell_type": "code",
   "execution_count": 23,
   "metadata": {
    "scrolled": true
   },
   "outputs": [
    {
     "name": "stdout",
     "output_type": "stream",
     "text": [
      "impot\n"
     ]
    },
    {
     "data": {
      "text/plain": [
       "impot            1.000000\n",
       "progressif       0.831569\n",
       "direct           0.825613\n",
       "echappent        0.821818\n",
       "echapper         0.811069\n",
       "fortune          0.805589\n",
       "proportionnel    0.798883\n",
       "43               0.791667\n",
       "revenu           0.783458\n",
       "minime           0.777580\n",
       "Name: impot, dtype: float32"
      ]
     },
     "metadata": {},
     "output_type": "display_data"
    },
    {
     "name": "stdout",
     "output_type": "stream",
     "text": [
      "impots\n"
     ]
    },
    {
     "data": {
      "text/plain": [
       "impots         1.000000\n",
       "indirects      0.947692\n",
       "directs        0.899721\n",
       "progressifs    0.763514\n",
       "credits        0.752315\n",
       "locaux         0.718901\n",
       "fonciers       0.661184\n",
       "payes          0.660465\n",
       "injustes       0.586592\n",
       "reductions     0.573850\n",
       "Name: impots, dtype: float32"
      ]
     },
     "metadata": {},
     "output_type": "display_data"
    },
    {
     "name": "stdout",
     "output_type": "stream",
     "text": [
      "revenus\n"
     ]
    },
    {
     "data": {
      "text/plain": [
       "revenus        1.000000\n",
       "faibles        0.762626\n",
       "hauts          0.761069\n",
       "percus         0.753086\n",
       "fonciers       0.743421\n",
       "superieurs     0.720812\n",
       "eleves         0.627245\n",
       "capital        0.620067\n",
       "reels          0.592593\n",
       "immobiliers    0.591449\n",
       "Name: revenus, dtype: float32"
      ]
     },
     "metadata": {},
     "output_type": "display_data"
    },
    {
     "name": "stdout",
     "output_type": "stream",
     "text": [
      "tous\n"
     ]
    },
    {
     "data": {
      "text/plain": [
       "tous           1.000000\n",
       "niveaux        0.634615\n",
       "jours          0.607774\n",
       "exception      0.597070\n",
       "concernes      0.587097\n",
       "citoyens       0.584277\n",
       "identique      0.567500\n",
       "participent    0.537445\n",
       "routes         0.528958\n",
       "habitation     0.521426\n",
       "Name: tous, dtype: float32"
      ]
     },
     "metadata": {},
     "output_type": "display_data"
    },
    {
     "name": "stdout",
     "output_type": "stream",
     "text": [
      "tout\n"
     ]
    },
    {
     "data": {
      "text/plain": [
       "tout          1.000000\n",
       "monde         0.901567\n",
       "genre         0.657795\n",
       "gratuit       0.631714\n",
       "participe     0.581152\n",
       "paie          0.574560\n",
       "simplement    0.545455\n",
       "conscience    0.538462\n",
       "concerne      0.533813\n",
       "routes        0.532819\n",
       "Name: tout, dtype: float32"
      ]
     },
     "metadata": {},
     "output_type": "display_data"
    },
    {
     "name": "stdout",
     "output_type": "stream",
     "text": [
      "revenu\n"
     ]
    },
    {
     "data": {
      "text/plain": [
       "revenu        1.000000\n",
       "universel     0.698080\n",
       "43            0.606061\n",
       "mensuel       0.591837\n",
       "deductible    0.574534\n",
       "fusionner     0.560656\n",
       "imposable     0.554286\n",
       "crds          0.550279\n",
       "inferieur     0.541176\n",
       "45            0.540293\n",
       "Name: revenu, dtype: float32"
      ]
     },
     "metadata": {},
     "output_type": "display_data"
    },
    {
     "name": "stdout",
     "output_type": "stream",
     "text": [
      "payer\n"
     ]
    },
    {
     "data": {
      "text/plain": [
       "payer          1.000000\n",
       "obliger        0.517316\n",
       "devraient      0.454373\n",
       "devoir         0.440729\n",
       "faire          0.438729\n",
       "difference     0.426966\n",
       "impression     0.414449\n",
       "permettent     0.410345\n",
       "veulent        0.408922\n",
       "travaillant    0.405145\n",
       "Name: payer, dtype: float32"
      ]
     },
     "metadata": {},
     "output_type": "display_data"
    },
    {
     "name": "stdout",
     "output_type": "stream",
     "text": [
      "faire\n"
     ]
    },
    {
     "data": {
      "text/plain": [
       "faire         1.000000\n",
       "sorte         0.798901\n",
       "chasse        0.645349\n",
       "economies     0.542471\n",
       "comprendre    0.482684\n",
       "menage        0.455150\n",
       "face          0.447500\n",
       "cadeaux       0.440945\n",
       "veulent       0.427509\n",
       "efforts       0.420588\n",
       "Name: faire, dtype: float32"
      ]
     },
     "metadata": {},
     "output_type": "display_data"
    },
    {
     "name": "stdout",
     "output_type": "stream",
     "text": [
      "fiscales\n"
     ]
    },
    {
     "data": {
      "text/plain": [
       "fiscales        1.000000\n",
       "niches          0.913927\n",
       "deductions      0.648438\n",
       "fraudes         0.565657\n",
       "journalistes    0.558242\n",
       "domicile        0.553659\n",
       "permettent      0.541379\n",
       "profitent       0.528678\n",
       "plat            0.523342\n",
       "liees           0.500000\n",
       "Name: fiscales, dtype: float32"
      ]
     },
     "metadata": {},
     "output_type": "display_data"
    },
    {
     "name": "stdout",
     "output_type": "stream",
     "text": [
      "monde\n"
     ]
    },
    {
     "data": {
      "text/plain": [
       "monde             1.000000\n",
       "tout              0.616184\n",
       "participe         0.516230\n",
       "paie              0.487603\n",
       "paye              0.417820\n",
       "gratuit           0.416880\n",
       "profite           0.396437\n",
       "participer        0.391847\n",
       "symboliquement    0.384473\n",
       "concerne          0.382734\n",
       "Name: monde, dtype: float32"
      ]
     },
     "metadata": {},
     "output_type": "display_data"
    },
    {
     "name": "stdout",
     "output_type": "stream",
     "text": [
      "fiscale\n"
     ]
    },
    {
     "data": {
      "text/plain": [
       "fiscale         1.000000\n",
       "evasion         0.944329\n",
       "optimisation    0.890644\n",
       "fraude          0.816119\n",
       "lutte           0.806848\n",
       "niche           0.802062\n",
       "lutter          0.791863\n",
       "efficacement    0.773438\n",
       "pression        0.761538\n",
       "combattre       0.741325\n",
       "Name: fiscale, dtype: float32"
      ]
     },
     "metadata": {},
     "output_type": "display_data"
    },
    {
     "name": "stdout",
     "output_type": "stream",
     "text": [
      "niches\n"
     ]
    },
    {
     "data": {
      "text/plain": [
       "niches          1.000000\n",
       "fiscales        0.841306\n",
       "journalistes    0.560440\n",
       "domicile        0.556098\n",
       "plat            0.547912\n",
       "permettent      0.543103\n",
       "abattements     0.521429\n",
       "profitent       0.521197\n",
       "supprimant      0.488000\n",
       "supprimer       0.462562\n",
       "Name: niches, dtype: float32"
      ]
     },
     "metadata": {},
     "output_type": "display_data"
    },
    {
     "name": "stdout",
     "output_type": "stream",
     "text": [
      "supprimer\n"
     ]
    },
    {
     "data": {
      "text/plain": [
       "supprimer       1.000000\n",
       "indexer         0.540323\n",
       "journalistes    0.512088\n",
       "remplacer       0.510924\n",
       "niches          0.449575\n",
       "flat            0.424379\n",
       "presidents      0.421589\n",
       "inflation       0.418478\n",
       "abattements     0.417857\n",
       "anciens         0.409259\n",
       "Name: supprimer, dtype: float32"
      ]
     },
     "metadata": {},
     "output_type": "display_data"
    },
    {
     "name": "stdout",
     "output_type": "stream",
     "text": [
      "tranches\n"
     ]
    },
    {
     "data": {
      "text/plain": [
       "tranches           1.000000\n",
       "progressives       0.800000\n",
       "14                 0.633333\n",
       "supplementaires    0.611902\n",
       "nouvelles          0.608025\n",
       "impositions        0.606061\n",
       "rajouter           0.559880\n",
       "creant             0.523333\n",
       "ajouter            0.513846\n",
       "augmentant         0.482051\n",
       "Name: tranches, dtype: float32"
      ]
     },
     "metadata": {},
     "output_type": "display_data"
    },
    {
     "name": "stdout",
     "output_type": "stream",
     "text": [
      "tva\n"
     ]
    },
    {
     "data": {
      "text/plain": [
       "tva             1.000000\n",
       "necessite       0.826630\n",
       "luxe            0.822640\n",
       "produits        0.780509\n",
       "alimentation    0.761438\n",
       "1ere            0.759551\n",
       "alimentaires    0.753588\n",
       "importes        0.721612\n",
       "reduite         0.718412\n",
       "33              0.665625\n",
       "Name: tva, dtype: float32"
      ]
     },
     "metadata": {},
     "output_type": "display_data"
    },
    {
     "name": "stdout",
     "output_type": "stream",
     "text": [
      "entreprises\n"
     ]
    },
    {
     "data": {
      "text/plain": [
       "entreprises     1.000000\n",
       "etrangeres      0.761905\n",
       "francaises      0.691238\n",
       "grandes         0.688429\n",
       "particuliers    0.676937\n",
       "cac             0.660215\n",
       "petites         0.598109\n",
       "cice            0.597713\n",
       "chiffre         0.595170\n",
       "benefices       0.588517\n",
       "Name: entreprises, dtype: float32"
      ]
     },
     "metadata": {},
     "output_type": "display_data"
    },
    {
     "name": "stdout",
     "output_type": "stream",
     "text": [
      "isf\n"
     ]
    },
    {
     "data": {
      "text/plain": [
       "isf                1.000000\n",
       "retablissement     0.834197\n",
       "retablir           0.764706\n",
       "ifi                0.517781\n",
       "cice               0.509355\n",
       "remettre           0.488385\n",
       "flat               0.455982\n",
       "investissements    0.410891\n",
       "macron             0.410853\n",
       "indexer            0.409274\n",
       "Name: isf, dtype: float32"
      ]
     },
     "metadata": {},
     "output_type": "display_data"
    },
    {
     "name": "stdout",
     "output_type": "stream",
     "text": [
      "france\n"
     ]
    },
    {
     "data": {
      "text/plain": [
       "france        1.000000\n",
       "realise       0.647239\n",
       "etranger      0.632046\n",
       "sportifs      0.621262\n",
       "etrangeres    0.592593\n",
       "realises      0.580769\n",
       "usa           0.570149\n",
       "chiffre       0.556818\n",
       "residents     0.541667\n",
       "obliger       0.541126\n",
       "Name: france, dtype: float32"
      ]
     },
     "metadata": {},
     "output_type": "display_data"
    },
    {
     "name": "stdout",
     "output_type": "stream",
     "text": [
      "taxer\n"
     ]
    },
    {
     "data": {
      "text/plain": [
       "taxer           1.000000\n",
       "transactions    0.520112\n",
       "speculation     0.481967\n",
       "gafa            0.470555\n",
       "lourdement      0.446991\n",
       "financieres     0.438169\n",
       "profits         0.433628\n",
       "fortement       0.397192\n",
       "davantage       0.357091\n",
       "dividendes      0.350497\n",
       "Name: taxer, dtype: float32"
      ]
     },
     "metadata": {},
     "output_type": "display_data"
    },
    {
     "name": "stdout",
     "output_type": "stream",
     "text": [
      "francais\n"
     ]
    },
    {
     "data": {
      "text/plain": [
       "francais       1.000000\n",
       "etranger       0.528816\n",
       "residents      0.513889\n",
       "etrangers      0.482890\n",
       "usa            0.480597\n",
       "territoire     0.440816\n",
       "nationalite    0.430020\n",
       "vivant         0.422287\n",
       "43             0.416667\n",
       "moitie         0.377386\n",
       "Name: francais, dtype: float32"
      ]
     },
     "metadata": {},
     "output_type": "display_data"
    }
   ],
   "source": [
    "for i in df_qu_2_one_hot.sum(axis=0).sort_values(ascending=False).head(20).index:\n",
    "    print(i)\n",
    "    display(df_confidence_2[i].sort_values(ascending=False).head(10))"
   ]
  },
  {
   "cell_type": "code",
   "execution_count": 24,
   "metadata": {
    "scrolled": true
   },
   "outputs": [
    {
     "name": "stdout",
     "output_type": "stream",
     "text": [
      "impot\n"
     ]
    },
    {
     "data": {
      "text/plain": [
       "impot            0.000047\n",
       "progressif       0.000039\n",
       "direct           0.000039\n",
       "echappent        0.000039\n",
       "echapper         0.000038\n",
       "fortune          0.000038\n",
       "proportionnel    0.000038\n",
       "43               0.000037\n",
       "revenu           0.000037\n",
       "minime           0.000037\n",
       "Name: impot, dtype: float32"
      ]
     },
     "metadata": {},
     "output_type": "display_data"
    },
    {
     "name": "stdout",
     "output_type": "stream",
     "text": [
      "impots\n"
     ]
    },
    {
     "data": {
      "text/plain": [
       "impots         0.000073\n",
       "indirects      0.000069\n",
       "directs        0.000066\n",
       "progressifs    0.000056\n",
       "credits        0.000055\n",
       "locaux         0.000052\n",
       "fonciers       0.000048\n",
       "payes          0.000048\n",
       "injustes       0.000043\n",
       "reductions     0.000042\n",
       "Name: impots, dtype: float32"
      ]
     },
     "metadata": {},
     "output_type": "display_data"
    },
    {
     "name": "stdout",
     "output_type": "stream",
     "text": [
      "revenus\n"
     ]
    },
    {
     "data": {
      "text/plain": [
       "revenus        0.000074\n",
       "faibles        0.000057\n",
       "hauts          0.000057\n",
       "percus         0.000056\n",
       "fonciers       0.000055\n",
       "superieurs     0.000054\n",
       "eleves         0.000047\n",
       "capital        0.000046\n",
       "reels          0.000044\n",
       "immobiliers    0.000044\n",
       "Name: revenus, dtype: float32"
      ]
     },
     "metadata": {},
     "output_type": "display_data"
    },
    {
     "name": "stdout",
     "output_type": "stream",
     "text": [
      "tous\n"
     ]
    },
    {
     "data": {
      "text/plain": [
       "tous           0.000075\n",
       "niveaux        0.000047\n",
       "jours          0.000045\n",
       "exception      0.000045\n",
       "concernes      0.000044\n",
       "citoyens       0.000044\n",
       "identique      0.000042\n",
       "participent    0.000040\n",
       "routes         0.000039\n",
       "habitation     0.000039\n",
       "Name: tous, dtype: float32"
      ]
     },
     "metadata": {},
     "output_type": "display_data"
    },
    {
     "name": "stdout",
     "output_type": "stream",
     "text": [
      "tout\n"
     ]
    },
    {
     "data": {
      "text/plain": [
       "tout          0.000079\n",
       "monde         0.000072\n",
       "genre         0.000052\n",
       "gratuit       0.000050\n",
       "participe     0.000046\n",
       "paie          0.000046\n",
       "simplement    0.000043\n",
       "conscience    0.000043\n",
       "concerne      0.000042\n",
       "routes        0.000042\n",
       "Name: tout, dtype: float32"
      ]
     },
     "metadata": {},
     "output_type": "display_data"
    },
    {
     "name": "stdout",
     "output_type": "stream",
     "text": [
      "revenu\n"
     ]
    },
    {
     "data": {
      "text/plain": [
       "revenu        0.000080\n",
       "universel     0.000056\n",
       "43            0.000048\n",
       "mensuel       0.000047\n",
       "deductible    0.000046\n",
       "fusionner     0.000045\n",
       "imposable     0.000044\n",
       "crds          0.000044\n",
       "inferieur     0.000043\n",
       "45            0.000043\n",
       "Name: revenu, dtype: float32"
      ]
     },
     "metadata": {},
     "output_type": "display_data"
    },
    {
     "name": "stdout",
     "output_type": "stream",
     "text": [
      "payer\n"
     ]
    },
    {
     "data": {
      "text/plain": [
       "payer          0.000102\n",
       "obliger        0.000053\n",
       "devraient      0.000046\n",
       "devoir         0.000045\n",
       "faire          0.000045\n",
       "difference     0.000043\n",
       "impression     0.000042\n",
       "permettent     0.000042\n",
       "veulent        0.000042\n",
       "travaillant    0.000041\n",
       "Name: payer, dtype: float32"
      ]
     },
     "metadata": {},
     "output_type": "display_data"
    },
    {
     "name": "stdout",
     "output_type": "stream",
     "text": [
      "faire\n"
     ]
    },
    {
     "data": {
      "text/plain": [
       "faire         0.000113\n",
       "sorte         0.000090\n",
       "chasse        0.000073\n",
       "economies     0.000061\n",
       "comprendre    0.000055\n",
       "menage        0.000051\n",
       "face          0.000051\n",
       "cadeaux       0.000050\n",
       "veulent       0.000048\n",
       "efforts       0.000048\n",
       "Name: faire, dtype: float32"
      ]
     },
     "metadata": {},
     "output_type": "display_data"
    },
    {
     "name": "stdout",
     "output_type": "stream",
     "text": [
      "fiscales\n"
     ]
    },
    {
     "data": {
      "text/plain": [
       "fiscales        0.000113\n",
       "niches          0.000104\n",
       "deductions      0.000074\n",
       "fraudes         0.000064\n",
       "journalistes    0.000063\n",
       "domicile        0.000063\n",
       "permettent      0.000061\n",
       "profitent       0.000060\n",
       "plat            0.000059\n",
       "liees           0.000057\n",
       "Name: fiscales, dtype: float32"
      ]
     },
     "metadata": {},
     "output_type": "display_data"
    },
    {
     "name": "stdout",
     "output_type": "stream",
     "text": [
      "monde\n"
     ]
    },
    {
     "data": {
      "text/plain": [
       "monde             0.000116\n",
       "tout              0.000072\n",
       "participe         0.000060\n",
       "paie              0.000057\n",
       "paye              0.000048\n",
       "gratuit           0.000048\n",
       "profite           0.000046\n",
       "participer        0.000045\n",
       "symboliquement    0.000045\n",
       "concerne          0.000044\n",
       "Name: monde, dtype: float32"
      ]
     },
     "metadata": {},
     "output_type": "display_data"
    },
    {
     "name": "stdout",
     "output_type": "stream",
     "text": [
      "fiscale\n"
     ]
    },
    {
     "data": {
      "text/plain": [
       "fiscale         0.000117\n",
       "evasion         0.000111\n",
       "optimisation    0.000105\n",
       "fraude          0.000096\n",
       "lutte           0.000095\n",
       "niche           0.000094\n",
       "lutter          0.000093\n",
       "efficacement    0.000091\n",
       "pression        0.000089\n",
       "combattre       0.000087\n",
       "Name: fiscale, dtype: float32"
      ]
     },
     "metadata": {},
     "output_type": "display_data"
    },
    {
     "name": "stdout",
     "output_type": "stream",
     "text": [
      "niches\n"
     ]
    },
    {
     "data": {
      "text/plain": [
       "niches          0.000123\n",
       "fiscales        0.000104\n",
       "journalistes    0.000069\n",
       "domicile        0.000068\n",
       "plat            0.000067\n",
       "permettent      0.000067\n",
       "abattements     0.000064\n",
       "profitent       0.000064\n",
       "supprimant      0.000060\n",
       "supprimer       0.000057\n",
       "Name: niches, dtype: float32"
      ]
     },
     "metadata": {},
     "output_type": "display_data"
    },
    {
     "name": "stdout",
     "output_type": "stream",
     "text": [
      "supprimer\n"
     ]
    },
    {
     "data": {
      "text/plain": [
       "supprimer       0.000127\n",
       "indexer         0.000068\n",
       "journalistes    0.000065\n",
       "remplacer       0.000065\n",
       "niches          0.000057\n",
       "flat            0.000054\n",
       "presidents      0.000053\n",
       "inflation       0.000053\n",
       "abattements     0.000053\n",
       "anciens         0.000052\n",
       "Name: supprimer, dtype: float32"
      ]
     },
     "metadata": {},
     "output_type": "display_data"
    },
    {
     "name": "stdout",
     "output_type": "stream",
     "text": [
      "tranches\n"
     ]
    },
    {
     "data": {
      "text/plain": [
       "tranches           0.000140\n",
       "progressives       0.000112\n",
       "14                 0.000089\n",
       "supplementaires    0.000086\n",
       "nouvelles          0.000085\n",
       "impositions        0.000085\n",
       "rajouter           0.000079\n",
       "creant             0.000073\n",
       "ajouter            0.000072\n",
       "augmentant         0.000068\n",
       "Name: tranches, dtype: float32"
      ]
     },
     "metadata": {},
     "output_type": "display_data"
    },
    {
     "name": "stdout",
     "output_type": "stream",
     "text": [
      "tva\n"
     ]
    },
    {
     "data": {
      "text/plain": [
       "tva             0.000147\n",
       "necessite       0.000122\n",
       "luxe            0.000121\n",
       "produits        0.000115\n",
       "alimentation    0.000112\n",
       "1ere            0.000112\n",
       "alimentaires    0.000111\n",
       "importes        0.000106\n",
       "reduite         0.000106\n",
       "33              0.000098\n",
       "Name: tva, dtype: float32"
      ]
     },
     "metadata": {},
     "output_type": "display_data"
    },
    {
     "name": "stdout",
     "output_type": "stream",
     "text": [
      "entreprises\n"
     ]
    },
    {
     "data": {
      "text/plain": [
       "entreprises     0.000148\n",
       "etrangeres      0.000113\n",
       "francaises      0.000102\n",
       "grandes         0.000102\n",
       "particuliers    0.000100\n",
       "cac             0.000098\n",
       "petites         0.000089\n",
       "cice            0.000088\n",
       "chiffre         0.000088\n",
       "benefices       0.000087\n",
       "Name: entreprises, dtype: float32"
      ]
     },
     "metadata": {},
     "output_type": "display_data"
    },
    {
     "name": "stdout",
     "output_type": "stream",
     "text": [
      "isf\n"
     ]
    },
    {
     "data": {
      "text/plain": [
       "isf                0.000163\n",
       "retablissement     0.000136\n",
       "retablir           0.000125\n",
       "ifi                0.000084\n",
       "cice               0.000083\n",
       "remettre           0.000080\n",
       "flat               0.000074\n",
       "investissements    0.000067\n",
       "macron             0.000067\n",
       "indexer            0.000067\n",
       "Name: isf, dtype: float32"
      ]
     },
     "metadata": {},
     "output_type": "display_data"
    },
    {
     "name": "stdout",
     "output_type": "stream",
     "text": [
      "france\n"
     ]
    },
    {
     "data": {
      "text/plain": [
       "france        0.000165\n",
       "realise       0.000107\n",
       "etranger      0.000104\n",
       "sportifs      0.000102\n",
       "etrangeres    0.000098\n",
       "realises      0.000096\n",
       "usa           0.000094\n",
       "chiffre       0.000092\n",
       "residents     0.000089\n",
       "obliger       0.000089\n",
       "Name: france, dtype: float32"
      ]
     },
     "metadata": {},
     "output_type": "display_data"
    },
    {
     "name": "stdout",
     "output_type": "stream",
     "text": [
      "taxer\n"
     ]
    },
    {
     "data": {
      "text/plain": [
       "taxer           0.000174\n",
       "transactions    0.000090\n",
       "speculation     0.000084\n",
       "gafa            0.000082\n",
       "lourdement      0.000078\n",
       "financieres     0.000076\n",
       "profits         0.000075\n",
       "fortement       0.000069\n",
       "davantage       0.000062\n",
       "dividendes      0.000061\n",
       "Name: taxer, dtype: float32"
      ]
     },
     "metadata": {},
     "output_type": "display_data"
    },
    {
     "name": "stdout",
     "output_type": "stream",
     "text": [
      "francais\n"
     ]
    },
    {
     "data": {
      "text/plain": [
       "francais       0.000176\n",
       "etranger       0.000093\n",
       "residents      0.000091\n",
       "etrangers      0.000085\n",
       "usa            0.000085\n",
       "territoire     0.000078\n",
       "nationalite    0.000076\n",
       "vivant         0.000075\n",
       "43             0.000074\n",
       "moitie         0.000067\n",
       "Name: francais, dtype: float32"
      ]
     },
     "metadata": {},
     "output_type": "display_data"
    }
   ],
   "source": [
    "for i in df_qu_2_one_hot.sum(axis=0).sort_values(ascending=False).head(20).index:\n",
    "    print(i)\n",
    "    display(df_lift_2[i].sort_values(ascending=False).head(10))"
   ]
  },
  {
   "cell_type": "code",
   "execution_count": 25,
   "metadata": {},
   "outputs": [
    {
     "data": {
      "text/plain": [
       "105"
      ]
     },
     "execution_count": 25,
     "metadata": {},
     "output_type": "execute_result"
    }
   ],
   "source": [
    "gc.collect()"
   ]
  },
  {
   "cell_type": "markdown",
   "metadata": {},
   "source": [
    "# Question 3 : Quels sont selon vous les impôts qu'il faut baisser en priorité ?"
   ]
  },
  {
   "cell_type": "code",
   "execution_count": 26,
   "metadata": {
    "collapsed": true
   },
   "outputs": [],
   "source": [
    "question_3 = \"Quels sont selon vous les impôts qu\\'il faut baisser en priorité ?\"\n",
    "qu_3,df_qu_3_one_hot,df_cov_3,df_confidence_3,df_lift_3 = compute_similarities(question_3, new_res)"
   ]
  },
  {
   "cell_type": "code",
   "execution_count": 27,
   "metadata": {
    "scrolled": true
   },
   "outputs": [
    {
     "name": "stdout",
     "output_type": "stream",
     "text": [
      "tva\n"
     ]
    },
    {
     "data": {
      "text/plain": [
       "tva          17529\n",
       "produits      8657\n",
       "necessite     6110\n",
       "impot         2606\n",
       "impots        2190\n",
       "taxe          2130\n",
       "csg           2108\n",
       "taxes         1847\n",
       "revenu        1796\n",
       "baisser       1684\n",
       "Name: tva, dtype: uint16"
      ]
     },
     "metadata": {},
     "output_type": "display_data"
    },
    {
     "name": "stdout",
     "output_type": "stream",
     "text": [
      "impots\n"
     ]
    },
    {
     "data": {
      "text/plain": [
       "impots     12060\n",
       "revenu      3166\n",
       "baisser     2305\n",
       "tva         2190\n",
       "impot       1830\n",
       "faut        1805\n",
       "revenus     1796\n",
       "tous        1692\n",
       "taxe        1605\n",
       "taxes       1572\n",
       "Name: impots, dtype: uint16"
      ]
     },
     "metadata": {},
     "output_type": "display_data"
    },
    {
     "name": "stdout",
     "output_type": "stream",
     "text": [
      "impot\n"
     ]
    },
    {
     "data": {
      "text/plain": [
       "impot         11073\n",
       "revenu         5923\n",
       "tva            2606\n",
       "taxe           1962\n",
       "impots         1830\n",
       "baisser        1520\n",
       "revenus        1440\n",
       "tous           1433\n",
       "faut           1384\n",
       "habitation     1324\n",
       "Name: impot, dtype: uint16"
      ]
     },
     "metadata": {},
     "output_type": "display_data"
    },
    {
     "name": "stdout",
     "output_type": "stream",
     "text": [
      "produits\n"
     ]
    },
    {
     "data": {
      "text/plain": [
       "produits     9846\n",
       "tva          8657\n",
       "necessite    6240\n",
       "taxes        1475\n",
       "taxe         1280\n",
       "baisser      1211\n",
       "impot        1195\n",
       "impots       1170\n",
       "luxe         1166\n",
       "csg           972\n",
       "Name: produits, dtype: uint16"
      ]
     },
     "metadata": {},
     "output_type": "display_data"
    },
    {
     "name": "stdout",
     "output_type": "stream",
     "text": [
      "revenu\n"
     ]
    },
    {
     "data": {
      "text/plain": [
       "revenu        9488\n",
       "impot         5923\n",
       "impots        3166\n",
       "tva           1796\n",
       "taxe          1553\n",
       "habitation    1078\n",
       "csg           1058\n",
       "tous           953\n",
       "produits       803\n",
       "taxes          790\n",
       "Name: revenu, dtype: uint16"
      ]
     },
     "metadata": {},
     "output_type": "display_data"
    },
    {
     "name": "stdout",
     "output_type": "stream",
     "text": [
      "taxe\n"
     ]
    },
    {
     "data": {
      "text/plain": [
       "taxe          8326\n",
       "habitation    5273\n",
       "fonciere      2349\n",
       "tva           2130\n",
       "impot         1962\n",
       "tous          1925\n",
       "supprimer     1638\n",
       "impots        1605\n",
       "revenu        1553\n",
       "produits      1280\n",
       "Name: taxe, dtype: uint16"
      ]
     },
     "metadata": {},
     "output_type": "display_data"
    },
    {
     "name": "stdout",
     "output_type": "stream",
     "text": [
      "necessite\n"
     ]
    },
    {
     "data": {
      "text/plain": [
       "necessite    6893\n",
       "produits     6240\n",
       "tva          6110\n",
       "taxes         958\n",
       "1ere          914\n",
       "taxe          866\n",
       "baisser       853\n",
       "impot         825\n",
       "impots        779\n",
       "luxe          773\n",
       "Name: necessite, dtype: uint16"
      ]
     },
     "metadata": {},
     "output_type": "display_data"
    },
    {
     "name": "stdout",
     "output_type": "stream",
     "text": [
      "csg\n"
     ]
    },
    {
     "data": {
      "text/plain": [
       "csg          6383\n",
       "tva          2108\n",
       "retraites    2049\n",
       "impot        1299\n",
       "taxe         1151\n",
       "revenu       1058\n",
       "supprimer    1015\n",
       "impots       1006\n",
       "tous          989\n",
       "produits      972\n",
       "Name: csg, dtype: uint16"
      ]
     },
     "metadata": {},
     "output_type": "display_data"
    },
    {
     "name": "stdout",
     "output_type": "stream",
     "text": [
      "taxes\n"
     ]
    },
    {
     "data": {
      "text/plain": [
       "taxes         5933\n",
       "tva           1847\n",
       "impots        1572\n",
       "produits      1475\n",
       "taxe          1142\n",
       "impot         1047\n",
       "necessite      958\n",
       "habitation     949\n",
       "revenu         790\n",
       "baisser        762\n",
       "Name: taxes, dtype: uint16"
      ]
     },
     "metadata": {},
     "output_type": "display_data"
    },
    {
     "name": "stdout",
     "output_type": "stream",
     "text": [
      "habitation\n"
     ]
    },
    {
     "data": {
      "text/plain": [
       "habitation    5828\n",
       "taxe          5273\n",
       "tous          1659\n",
       "supprimer     1332\n",
       "impot         1324\n",
       "tva           1255\n",
       "fonciere      1200\n",
       "impots        1095\n",
       "revenu        1078\n",
       "taxes          949\n",
       "Name: habitation, dtype: uint16"
      ]
     },
     "metadata": {},
     "output_type": "display_data"
    },
    {
     "name": "stdout",
     "output_type": "stream",
     "text": [
      "tous\n"
     ]
    },
    {
     "data": {
      "text/plain": [
       "tous          5613\n",
       "taxe          1925\n",
       "impots        1692\n",
       "habitation    1659\n",
       "tva           1459\n",
       "impot         1433\n",
       "supprimer     1086\n",
       "csg            989\n",
       "revenu         953\n",
       "produits       941\n",
       "Name: tous, dtype: uint16"
      ]
     },
     "metadata": {},
     "output_type": "display_data"
    },
    {
     "name": "stdout",
     "output_type": "stream",
     "text": [
      "baisser\n"
     ]
    },
    {
     "data": {
      "text/plain": [
       "baisser      5191\n",
       "impots       2305\n",
       "faut         1757\n",
       "tva          1684\n",
       "impot        1520\n",
       "produits     1211\n",
       "necessite     853\n",
       "tous          825\n",
       "augmenter     786\n",
       "revenu        771\n",
       "Name: baisser, dtype: uint16"
      ]
     },
     "metadata": {},
     "output_type": "display_data"
    },
    {
     "name": "stdout",
     "output_type": "stream",
     "text": [
      "revenus\n"
     ]
    },
    {
     "data": {
      "text/plain": [
       "revenus    4259\n",
       "impots     1796\n",
       "impot      1440\n",
       "tva        1154\n",
       "taxe        793\n",
       "tous        697\n",
       "csg         653\n",
       "revenu      603\n",
       "baisser     589\n",
       "taxes       588\n",
       "Name: revenus, dtype: uint16"
      ]
     },
     "metadata": {},
     "output_type": "display_data"
    },
    {
     "name": "stdout",
     "output_type": "stream",
     "text": [
      "faut\n"
     ]
    },
    {
     "data": {
      "text/plain": [
       "faut         4194\n",
       "impots       1805\n",
       "baisser      1757\n",
       "impot        1384\n",
       "tva           882\n",
       "tous          746\n",
       "supprimer     693\n",
       "tout          692\n",
       "taxe          651\n",
       "revenu        645\n",
       "Name: faut, dtype: uint16"
      ]
     },
     "metadata": {},
     "output_type": "display_data"
    },
    {
     "name": "stdout",
     "output_type": "stream",
     "text": [
      "supprimer\n"
     ]
    },
    {
     "data": {
      "text/plain": [
       "supprimer     3830\n",
       "taxe          1638\n",
       "habitation    1332\n",
       "tva           1156\n",
       "impot         1107\n",
       "tous          1086\n",
       "csg           1015\n",
       "impots         926\n",
       "produits       755\n",
       "baisser        744\n",
       "Name: supprimer, dtype: uint16"
      ]
     },
     "metadata": {},
     "output_type": "display_data"
    },
    {
     "name": "stdout",
     "output_type": "stream",
     "text": [
      "tout\n"
     ]
    },
    {
     "data": {
      "text/plain": [
       "tout          3107\n",
       "monde         1380\n",
       "impot         1111\n",
       "impots        1034\n",
       "tva            912\n",
       "taxe           844\n",
       "revenu         731\n",
       "faut           692\n",
       "habitation     631\n",
       "baisser        594\n",
       "Name: tout, dtype: uint16"
      ]
     },
     "metadata": {},
     "output_type": "display_data"
    },
    {
     "name": "stdout",
     "output_type": "stream",
     "text": [
      "retraites\n"
     ]
    },
    {
     "data": {
      "text/plain": [
       "retraites     2780\n",
       "csg           2049\n",
       "tva            708\n",
       "tous           707\n",
       "taxe           630\n",
       "supprimer      605\n",
       "produits       534\n",
       "habitation     516\n",
       "impots         496\n",
       "impot          454\n",
       "Name: retraites, dtype: uint16"
      ]
     },
     "metadata": {},
     "output_type": "display_data"
    },
    {
     "name": "stdout",
     "output_type": "stream",
     "text": [
      "fonciere\n"
     ]
    },
    {
     "data": {
      "text/plain": [
       "fonciere      2479\n",
       "taxe          2349\n",
       "habitation    1200\n",
       "impot          583\n",
       "tva            554\n",
       "revenu         524\n",
       "impots         501\n",
       "taxes          376\n",
       "supprimer      308\n",
       "tous           279\n",
       "Name: fonciere, dtype: uint16"
      ]
     },
     "metadata": {},
     "output_type": "display_data"
    },
    {
     "name": "stdout",
     "output_type": "stream",
     "text": [
      "augmenter\n"
     ]
    },
    {
     "data": {
      "text/plain": [
       "augmenter    2247\n",
       "tva          1073\n",
       "produits      853\n",
       "baisser       786\n",
       "impots        732\n",
       "impot         601\n",
       "necessite     563\n",
       "faut          554\n",
       "luxe          487\n",
       "revenu        394\n",
       "Name: augmenter, dtype: uint16"
      ]
     },
     "metadata": {},
     "output_type": "display_data"
    },
    {
     "name": "stdout",
     "output_type": "stream",
     "text": [
      "baisse\n"
     ]
    },
    {
     "data": {
      "text/plain": [
       "baisse       2209\n",
       "tva           932\n",
       "impots        801\n",
       "impot         694\n",
       "produits      626\n",
       "necessite     450\n",
       "taxe          401\n",
       "faut          375\n",
       "tous          348\n",
       "revenu        343\n",
       "Name: baisse, dtype: uint16"
      ]
     },
     "metadata": {},
     "output_type": "display_data"
    }
   ],
   "source": [
    "for i in df_qu_3_one_hot.sum(axis=0).sort_values(ascending=False).head(20).index:\n",
    "    print(i)\n",
    "    display(df_cov_3[i].sort_values(ascending=False).head(10))"
   ]
  },
  {
   "cell_type": "code",
   "execution_count": 28,
   "metadata": {
    "scrolled": true
   },
   "outputs": [
    {
     "name": "stdout",
     "output_type": "stream",
     "text": [
      "tva\n"
     ]
    },
    {
     "data": {
      "text/plain": [
       "tva             1.000000\n",
       "luxe            0.918097\n",
       "legumes         0.896552\n",
       "1ere            0.888660\n",
       "alimentaires    0.887365\n",
       "necessite       0.886406\n",
       "produits        0.879240\n",
       "bio             0.875776\n",
       "courante        0.832192\n",
       "necessites      0.818620\n",
       "Name: tva, dtype: float32"
      ]
     },
     "metadata": {},
     "output_type": "display_data"
    },
    {
     "name": "stdout",
     "output_type": "stream",
     "text": [
      "impots\n"
     ]
    },
    {
     "data": {
      "text/plain": [
       "impots           1.000000\n",
       "indirects        0.953157\n",
       "fonciers         0.807099\n",
       "locaux           0.807081\n",
       "injustes         0.642076\n",
       "production       0.598958\n",
       "publics          0.559896\n",
       "ensuite          0.519084\n",
       "forcement        0.515464\n",
       "collectivites    0.514368\n",
       "Name: impots, dtype: float32"
      ]
     },
     "metadata": {},
     "output_type": "display_data"
    },
    {
     "name": "stdout",
     "output_type": "stream",
     "text": [
      "impot\n"
     ]
    },
    {
     "data": {
      "text/plain": [
       "impot         1.000000\n",
       "progressif    0.748092\n",
       "revenu        0.624262\n",
       "injuste       0.611932\n",
       "egalite       0.608696\n",
       "societes      0.595668\n",
       "paye          0.559464\n",
       "assiette      0.529825\n",
       "eleve         0.520295\n",
       "tranche       0.519231\n",
       "Name: impot, dtype: float32"
      ]
     },
     "metadata": {},
     "output_type": "display_data"
    },
    {
     "name": "stdout",
     "output_type": "stream",
     "text": [
      "produits\n"
     ]
    },
    {
     "data": {
      "text/plain": [
       "produits        1.000000\n",
       "alimentaires    0.930460\n",
       "luxe            0.909516\n",
       "1ere            0.907216\n",
       "necessite       0.905266\n",
       "necessites      0.892456\n",
       "bio             0.850932\n",
       "premieres       0.832765\n",
       "courante        0.818493\n",
       "legumes         0.800766\n",
       "Name: produits, dtype: float32"
      ]
     },
     "metadata": {},
     "output_type": "display_data"
    },
    {
     "name": "stdout",
     "output_type": "stream",
     "text": [
      "revenu\n"
     ]
    },
    {
     "data": {
      "text/plain": [
       "revenu        1.000000\n",
       "impot         0.534905\n",
       "classes       0.511784\n",
       "tranches      0.499543\n",
       "moyennes      0.484848\n",
       "tranche       0.478632\n",
       "progressif    0.473282\n",
       "foyers        0.421642\n",
       "gagne         0.394265\n",
       "net           0.385507\n",
       "Name: revenu, dtype: float32"
      ]
     },
     "metadata": {},
     "output_type": "display_data"
    },
    {
     "name": "stdout",
     "output_type": "stream",
     "text": [
      "taxe\n"
     ]
    },
    {
     "data": {
      "text/plain": [
       "taxe             1.000000\n",
       "fonciere         0.947559\n",
       "habitation       0.904770\n",
       "supprimee        0.725857\n",
       "audiovisuelle    0.712121\n",
       "proprietaires    0.577287\n",
       "suppression      0.576300\n",
       "maison           0.549020\n",
       "residence        0.529412\n",
       "communes         0.520124\n",
       "Name: taxe, dtype: float32"
      ]
     },
     "metadata": {},
     "output_type": "display_data"
    },
    {
     "name": "stdout",
     "output_type": "stream",
     "text": [
      "necessite\n"
     ]
    },
    {
     "data": {
      "text/plain": [
       "necessite       1.000000\n",
       "1ere            0.942268\n",
       "produits        0.633760\n",
       "luxe            0.602964\n",
       "produit         0.538462\n",
       "0               0.498861\n",
       "legumes         0.429119\n",
       "chauffage       0.416357\n",
       "bio             0.407867\n",
       "alimentation    0.405213\n",
       "Name: necessite, dtype: float32"
      ]
     },
     "metadata": {},
     "output_type": "display_data"
    },
    {
     "name": "stdout",
     "output_type": "stream",
     "text": [
      "csg\n"
     ]
    },
    {
     "data": {
      "text/plain": [
       "csg             1.000000\n",
       "rds             0.953571\n",
       "deductible      0.946768\n",
       "crds            0.910020\n",
       "retraites       0.737050\n",
       "inflation       0.660870\n",
       "hausse          0.549747\n",
       "retraite        0.449713\n",
       "2000            0.421818\n",
       "augmentation    0.359729\n",
       "Name: csg, dtype: float32"
      ]
     },
     "metadata": {},
     "output_type": "display_data"
    },
    {
     "name": "stdout",
     "output_type": "stream",
     "text": [
      "taxes\n"
     ]
    },
    {
     "data": {
      "text/plain": [
       "taxes          1.000000\n",
       "foncieres      0.936585\n",
       "carburants     0.663560\n",
       "locales        0.585714\n",
       "electricite    0.533873\n",
       "carburant      0.532258\n",
       "energies       0.520755\n",
       "essence        0.511792\n",
       "gaz            0.496241\n",
       "energie        0.453020\n",
       "Name: taxes, dtype: float32"
      ]
     },
     "metadata": {},
     "output_type": "display_data"
    },
    {
     "name": "stdout",
     "output_type": "stream",
     "text": [
      "habitation\n"
     ]
    },
    {
     "data": {
      "text/plain": [
       "habitation     1.000000\n",
       "supprimee      0.647975\n",
       "taxe           0.633317\n",
       "suppression    0.505310\n",
       "foncieres      0.497561\n",
       "principale     0.485537\n",
       "fonciere       0.484066\n",
       "egalite        0.450593\n",
       "communes       0.448916\n",
       "inflation      0.405797\n",
       "Name: habitation, dtype: float32"
      ]
     },
     "metadata": {},
     "output_type": "display_data"
    },
    {
     "name": "stdout",
     "output_type": "stream",
     "text": [
      "tous\n"
     ]
    },
    {
     "data": {
      "text/plain": [
       "tous             1.000000\n",
       "egalite          0.486166\n",
       "inflation        0.466667\n",
       "supprimee        0.448598\n",
       "citoyens         0.400261\n",
       "contribuables    0.389262\n",
       "foyers           0.380597\n",
       "hausse           0.369309\n",
       "suppression      0.326439\n",
       "francais         0.322917\n",
       "Name: tous, dtype: float32"
      ]
     },
     "metadata": {},
     "output_type": "display_data"
    },
    {
     "name": "stdout",
     "output_type": "stream",
     "text": [
      "baisser\n"
     ]
    },
    {
     "data": {
      "text/plain": [
       "baisser      1.000000\n",
       "forcement    0.621993\n",
       "agit         0.543046\n",
       "repartir     0.510393\n",
       "priorite     0.454259\n",
       "faut         0.418932\n",
       "mieux        0.397970\n",
       "dette        0.377778\n",
       "faudrait     0.371742\n",
       "depenses     0.360219\n",
       "Name: baisser, dtype: float32"
      ]
     },
     "metadata": {},
     "output_type": "display_data"
    },
    {
     "name": "stdout",
     "output_type": "stream",
     "text": [
      "revenus\n"
     ]
    },
    {
     "data": {
      "text/plain": [
       "revenus     1.000000\n",
       "hauts       0.645283\n",
       "modestes    0.358601\n",
       "petits      0.352641\n",
       "000         0.346369\n",
       "fonction    0.335211\n",
       "compte      0.328923\n",
       "tranche     0.290598\n",
       "mois        0.279522\n",
       "moyens      0.276224\n",
       "Name: revenus, dtype: float32"
      ]
     },
     "metadata": {},
     "output_type": "display_data"
    },
    {
     "name": "stdout",
     "output_type": "stream",
     "text": [
      "faut\n"
     ]
    },
    {
     "data": {
      "text/plain": [
       "faut         1.000000\n",
       "recettes     0.416667\n",
       "arreter      0.389864\n",
       "repartir     0.381062\n",
       "depense      0.374622\n",
       "systeme      0.373016\n",
       "priorite     0.367508\n",
       "forcement    0.353952\n",
       "dette        0.343210\n",
       "depenses     0.339859\n",
       "Name: faut, dtype: float32"
      ]
     },
     "metadata": {},
     "output_type": "display_data"
    },
    {
     "name": "stdout",
     "output_type": "stream",
     "text": [
      "supprimer\n"
     ]
    },
    {
     "data": {
      "text/plain": [
       "supprimer     1.000000\n",
       "inflation     0.457971\n",
       "totalement    0.427762\n",
       "hausse        0.369309\n",
       "niches        0.366176\n",
       "ifi           0.345661\n",
       "fiscales      0.335812\n",
       "redevance     0.311847\n",
       "isf           0.267876\n",
       "habitation    0.228552\n",
       "Name: supprimer, dtype: float32"
      ]
     },
     "metadata": {},
     "output_type": "display_data"
    },
    {
     "name": "stdout",
     "output_type": "stream",
     "text": [
      "tout\n"
     ]
    },
    {
     "data": {
      "text/plain": [
       "tout       1.000000\n",
       "monde      0.847145\n",
       "touche     0.366584\n",
       "citoyen    0.345345\n",
       "paie       0.328996\n",
       "paye       0.281407\n",
       "systeme    0.277778\n",
       "cas        0.255187\n",
       "payer      0.254698\n",
       "partie     0.249551\n",
       "Name: tout, dtype: float32"
      ]
     },
     "metadata": {},
     "output_type": "display_data"
    },
    {
     "name": "stdout",
     "output_type": "stream",
     "text": [
      "retraites\n"
     ]
    },
    {
     "data": {
      "text/plain": [
       "retraites       1.000000\n",
       "inflation       0.704348\n",
       "hausse          0.489039\n",
       "2000            0.389091\n",
       "retraite        0.321839\n",
       "csg             0.321009\n",
       "augmentation    0.290724\n",
       "vie             0.206066\n",
       "euros           0.201212\n",
       "ans             0.199021\n",
       "Name: retraites, dtype: float32"
      ]
     },
     "metadata": {},
     "output_type": "display_data"
    },
    {
     "name": "stdout",
     "output_type": "stream",
     "text": [
      "fonciere\n"
     ]
    },
    {
     "data": {
      "text/plain": [
       "fonciere         1.000000\n",
       "proprietaires    0.432177\n",
       "principale       0.287190\n",
       "taxe             0.282128\n",
       "residence        0.263529\n",
       "habitation       0.205903\n",
       "immobilier       0.192171\n",
       "logement         0.177966\n",
       "succession       0.119134\n",
       "droits           0.116301\n",
       "Name: fonciere, dtype: float32"
      ]
     },
     "metadata": {},
     "output_type": "display_data"
    },
    {
     "name": "stdout",
     "output_type": "stream",
     "text": [
      "augmenter\n"
     ]
    },
    {
     "data": {
      "text/plain": [
       "augmenter    1.000000\n",
       "luxe         0.379875\n",
       "nombre       0.192568\n",
       "diminuer     0.188295\n",
       "riches       0.175599\n",
       "achat        0.164557\n",
       "pouvoir      0.161583\n",
       "faudrait     0.157750\n",
       "baisser      0.151416\n",
       "prix         0.148098\n",
       "Name: augmenter, dtype: float32"
      ]
     },
     "metadata": {},
     "output_type": "display_data"
    },
    {
     "name": "stdout",
     "output_type": "stream",
     "text": [
      "baisse\n"
     ]
    },
    {
     "data": {
      "text/plain": [
       "baisse          1.000000\n",
       "hausse          0.227656\n",
       "augmentation    0.211538\n",
       "prix            0.202446\n",
       "depenses        0.173845\n",
       "achat           0.166365\n",
       "pouvoir         0.165705\n",
       "question        0.144754\n",
       "suppression     0.134153\n",
       "fiscale         0.133829\n",
       "Name: baisse, dtype: float32"
      ]
     },
     "metadata": {},
     "output_type": "display_data"
    }
   ],
   "source": [
    "for i in df_qu_3_one_hot.sum(axis=0).sort_values(ascending=False).head(20).index:\n",
    "    print(i)\n",
    "    display(df_confidence_3[i].sort_values(ascending=False).head(10))"
   ]
  },
  {
   "cell_type": "code",
   "execution_count": 29,
   "metadata": {
    "scrolled": true
   },
   "outputs": [
    {
     "name": "stdout",
     "output_type": "stream",
     "text": [
      "tva\n"
     ]
    },
    {
     "data": {
      "text/plain": [
       "tva             0.000057\n",
       "luxe            0.000052\n",
       "legumes         0.000051\n",
       "1ere            0.000051\n",
       "alimentaires    0.000051\n",
       "necessite       0.000051\n",
       "produits        0.000050\n",
       "bio             0.000050\n",
       "courante        0.000047\n",
       "necessites      0.000047\n",
       "Name: tva, dtype: float32"
      ]
     },
     "metadata": {},
     "output_type": "display_data"
    },
    {
     "name": "stdout",
     "output_type": "stream",
     "text": [
      "impots\n"
     ]
    },
    {
     "data": {
      "text/plain": [
       "impots           0.000083\n",
       "indirects        0.000079\n",
       "fonciers         0.000067\n",
       "locaux           0.000067\n",
       "injustes         0.000053\n",
       "production       0.000050\n",
       "publics          0.000046\n",
       "ensuite          0.000043\n",
       "forcement        0.000043\n",
       "collectivites    0.000043\n",
       "Name: impots, dtype: float32"
      ]
     },
     "metadata": {},
     "output_type": "display_data"
    },
    {
     "name": "stdout",
     "output_type": "stream",
     "text": [
      "impot\n"
     ]
    },
    {
     "data": {
      "text/plain": [
       "impot         0.000090\n",
       "progressif    0.000068\n",
       "revenu        0.000056\n",
       "injuste       0.000055\n",
       "egalite       0.000055\n",
       "societes      0.000054\n",
       "paye          0.000051\n",
       "assiette      0.000048\n",
       "eleve         0.000047\n",
       "tranche       0.000047\n",
       "Name: impot, dtype: float32"
      ]
     },
     "metadata": {},
     "output_type": "display_data"
    },
    {
     "name": "stdout",
     "output_type": "stream",
     "text": [
      "produits\n"
     ]
    },
    {
     "data": {
      "text/plain": [
       "produits        0.000102\n",
       "alimentaires    0.000095\n",
       "luxe            0.000092\n",
       "1ere            0.000092\n",
       "necessite       0.000092\n",
       "necessites      0.000091\n",
       "bio             0.000086\n",
       "premieres       0.000085\n",
       "courante        0.000083\n",
       "legumes         0.000081\n",
       "Name: produits, dtype: float32"
      ]
     },
     "metadata": {},
     "output_type": "display_data"
    },
    {
     "name": "stdout",
     "output_type": "stream",
     "text": [
      "revenu\n"
     ]
    },
    {
     "data": {
      "text/plain": [
       "revenu        0.000105\n",
       "impot         0.000056\n",
       "classes       0.000054\n",
       "tranches      0.000053\n",
       "moyennes      0.000051\n",
       "tranche       0.000050\n",
       "progressif    0.000050\n",
       "foyers        0.000044\n",
       "gagne         0.000042\n",
       "net           0.000041\n",
       "Name: revenu, dtype: float32"
      ]
     },
     "metadata": {},
     "output_type": "display_data"
    },
    {
     "name": "stdout",
     "output_type": "stream",
     "text": [
      "taxe\n"
     ]
    },
    {
     "data": {
      "text/plain": [
       "taxe             0.000120\n",
       "fonciere         0.000114\n",
       "habitation       0.000109\n",
       "supprimee        0.000087\n",
       "audiovisuelle    0.000086\n",
       "proprietaires    0.000069\n",
       "suppression      0.000069\n",
       "maison           0.000066\n",
       "residence        0.000064\n",
       "communes         0.000062\n",
       "Name: taxe, dtype: float32"
      ]
     },
     "metadata": {},
     "output_type": "display_data"
    },
    {
     "name": "stdout",
     "output_type": "stream",
     "text": [
      "necessite\n"
     ]
    },
    {
     "data": {
      "text/plain": [
       "necessite       0.000145\n",
       "1ere            0.000137\n",
       "produits        0.000092\n",
       "luxe            0.000087\n",
       "produit         0.000078\n",
       "0               0.000072\n",
       "legumes         0.000062\n",
       "chauffage       0.000060\n",
       "bio             0.000059\n",
       "alimentation    0.000059\n",
       "Name: necessite, dtype: float32"
      ]
     },
     "metadata": {},
     "output_type": "display_data"
    },
    {
     "name": "stdout",
     "output_type": "stream",
     "text": [
      "csg\n"
     ]
    },
    {
     "data": {
      "text/plain": [
       "csg             0.000157\n",
       "rds             0.000149\n",
       "deductible      0.000148\n",
       "crds            0.000143\n",
       "retraites       0.000115\n",
       "inflation       0.000104\n",
       "hausse          0.000086\n",
       "retraite        0.000070\n",
       "2000            0.000066\n",
       "augmentation    0.000056\n",
       "Name: csg, dtype: float32"
      ]
     },
     "metadata": {},
     "output_type": "display_data"
    },
    {
     "name": "stdout",
     "output_type": "stream",
     "text": [
      "taxes\n"
     ]
    },
    {
     "data": {
      "text/plain": [
       "taxes          0.000169\n",
       "foncieres      0.000158\n",
       "carburants     0.000112\n",
       "locales        0.000099\n",
       "electricite    0.000090\n",
       "carburant      0.000090\n",
       "energies       0.000088\n",
       "essence        0.000086\n",
       "gaz            0.000084\n",
       "energie        0.000076\n",
       "Name: taxes, dtype: float32"
      ]
     },
     "metadata": {},
     "output_type": "display_data"
    },
    {
     "name": "stdout",
     "output_type": "stream",
     "text": [
      "habitation\n"
     ]
    },
    {
     "data": {
      "text/plain": [
       "habitation     0.000172\n",
       "supprimee      0.000111\n",
       "taxe           0.000109\n",
       "suppression    0.000087\n",
       "foncieres      0.000085\n",
       "principale     0.000083\n",
       "fonciere       0.000083\n",
       "egalite        0.000077\n",
       "communes       0.000077\n",
       "inflation      0.000070\n",
       "Name: habitation, dtype: float32"
      ]
     },
     "metadata": {},
     "output_type": "display_data"
    },
    {
     "name": "stdout",
     "output_type": "stream",
     "text": [
      "tous\n"
     ]
    },
    {
     "data": {
      "text/plain": [
       "tous             0.000178\n",
       "egalite          0.000087\n",
       "inflation        0.000083\n",
       "supprimee        0.000080\n",
       "citoyens         0.000071\n",
       "contribuables    0.000069\n",
       "foyers           0.000068\n",
       "hausse           0.000066\n",
       "suppression      0.000058\n",
       "francais         0.000058\n",
       "Name: tous, dtype: float32"
      ]
     },
     "metadata": {},
     "output_type": "display_data"
    },
    {
     "name": "stdout",
     "output_type": "stream",
     "text": [
      "baisser\n"
     ]
    },
    {
     "data": {
      "text/plain": [
       "baisser      0.000193\n",
       "forcement    0.000120\n",
       "agit         0.000105\n",
       "repartir     0.000098\n",
       "priorite     0.000088\n",
       "faut         0.000081\n",
       "mieux        0.000077\n",
       "dette        0.000073\n",
       "faudrait     0.000072\n",
       "depenses     0.000069\n",
       "Name: baisser, dtype: float32"
      ]
     },
     "metadata": {},
     "output_type": "display_data"
    },
    {
     "name": "stdout",
     "output_type": "stream",
     "text": [
      "revenus\n"
     ]
    },
    {
     "data": {
      "text/plain": [
       "revenus     0.000235\n",
       "hauts       0.000152\n",
       "modestes    0.000084\n",
       "petits      0.000083\n",
       "000         0.000081\n",
       "fonction    0.000079\n",
       "compte      0.000077\n",
       "tranche     0.000068\n",
       "mois        0.000066\n",
       "moyens      0.000065\n",
       "Name: revenus, dtype: float32"
      ]
     },
     "metadata": {},
     "output_type": "display_data"
    },
    {
     "name": "stdout",
     "output_type": "stream",
     "text": [
      "faut\n"
     ]
    },
    {
     "data": {
      "text/plain": [
       "faut         0.000238\n",
       "recettes     0.000099\n",
       "arreter      0.000093\n",
       "repartir     0.000091\n",
       "depense      0.000089\n",
       "systeme      0.000089\n",
       "priorite     0.000088\n",
       "forcement    0.000084\n",
       "dette        0.000082\n",
       "depenses     0.000081\n",
       "Name: faut, dtype: float32"
      ]
     },
     "metadata": {},
     "output_type": "display_data"
    },
    {
     "name": "stdout",
     "output_type": "stream",
     "text": [
      "supprimer\n"
     ]
    },
    {
     "data": {
      "text/plain": [
       "supprimer     0.000261\n",
       "inflation     0.000120\n",
       "totalement    0.000112\n",
       "hausse        0.000096\n",
       "niches        0.000096\n",
       "ifi           0.000090\n",
       "fiscales      0.000088\n",
       "redevance     0.000081\n",
       "isf           0.000070\n",
       "habitation    0.000060\n",
       "Name: supprimer, dtype: float32"
      ]
     },
     "metadata": {},
     "output_type": "display_data"
    },
    {
     "name": "stdout",
     "output_type": "stream",
     "text": [
      "tout\n"
     ]
    },
    {
     "data": {
      "text/plain": [
       "tout       0.000322\n",
       "monde      0.000273\n",
       "touche     0.000118\n",
       "citoyen    0.000111\n",
       "paie       0.000106\n",
       "paye       0.000091\n",
       "systeme    0.000089\n",
       "cas        0.000082\n",
       "payer      0.000082\n",
       "partie     0.000080\n",
       "Name: tout, dtype: float32"
      ]
     },
     "metadata": {},
     "output_type": "display_data"
    },
    {
     "name": "stdout",
     "output_type": "stream",
     "text": [
      "retraites\n"
     ]
    },
    {
     "data": {
      "text/plain": [
       "retraites       0.000360\n",
       "inflation       0.000253\n",
       "hausse          0.000176\n",
       "2000            0.000140\n",
       "retraite        0.000116\n",
       "csg             0.000115\n",
       "augmentation    0.000105\n",
       "vie             0.000074\n",
       "euros           0.000072\n",
       "ans             0.000072\n",
       "Name: retraites, dtype: float32"
      ]
     },
     "metadata": {},
     "output_type": "display_data"
    },
    {
     "name": "stdout",
     "output_type": "stream",
     "text": [
      "fonciere\n"
     ]
    },
    {
     "data": {
      "text/plain": [
       "fonciere         0.000403\n",
       "proprietaires    0.000174\n",
       "principale       0.000116\n",
       "taxe             0.000114\n",
       "residence        0.000106\n",
       "habitation       0.000083\n",
       "immobilier       0.000078\n",
       "logement         0.000072\n",
       "succession       0.000048\n",
       "droits           0.000047\n",
       "Name: fonciere, dtype: float32"
      ]
     },
     "metadata": {},
     "output_type": "display_data"
    },
    {
     "name": "stdout",
     "output_type": "stream",
     "text": [
      "augmenter\n"
     ]
    },
    {
     "data": {
      "text/plain": [
       "augmenter    0.000445\n",
       "luxe         0.000169\n",
       "nombre       0.000086\n",
       "diminuer     0.000084\n",
       "riches       0.000078\n",
       "achat        0.000073\n",
       "pouvoir      0.000072\n",
       "faudrait     0.000070\n",
       "baisser      0.000067\n",
       "prix         0.000066\n",
       "Name: augmenter, dtype: float32"
      ]
     },
     "metadata": {},
     "output_type": "display_data"
    },
    {
     "name": "stdout",
     "output_type": "stream",
     "text": [
      "baisse\n"
     ]
    },
    {
     "data": {
      "text/plain": [
       "baisse          0.000453\n",
       "hausse          0.000103\n",
       "augmentation    0.000096\n",
       "prix            0.000092\n",
       "depenses        0.000079\n",
       "achat           0.000075\n",
       "pouvoir         0.000075\n",
       "question        0.000066\n",
       "suppression     0.000061\n",
       "fiscale         0.000061\n",
       "Name: baisse, dtype: float32"
      ]
     },
     "metadata": {},
     "output_type": "display_data"
    }
   ],
   "source": [
    "for i in df_qu_3_one_hot.sum(axis=0).sort_values(ascending=False).head(20).index:\n",
    "    print(i)\n",
    "    display(df_lift_3[i].sort_values(ascending=False).head(10))"
   ]
  },
  {
   "cell_type": "code",
   "execution_count": 30,
   "metadata": {},
   "outputs": [
    {
     "data": {
      "text/plain": [
       "105"
      ]
     },
     "execution_count": 30,
     "metadata": {},
     "output_type": "execute_result"
    }
   ],
   "source": [
    "gc.collect()"
   ]
  },
  {
   "cell_type": "markdown",
   "metadata": {},
   "source": [
    "# Question 4 : Afin de financer les dépenses sociales, faut-il selon vous... "
   ]
  },
  {
   "cell_type": "code",
   "execution_count": 31,
   "metadata": {
    "collapsed": true
   },
   "outputs": [],
   "source": [
    "question_4 = \"Afin de financer les dépenses sociales, faut-il selon vous...\"\n",
    "qu_4,df_qu_4_one_hot,df_cov_4,df_confidence_4,df_lift_4 = compute_similarities(question_4, new_res)"
   ]
  },
  {
   "cell_type": "code",
   "execution_count": 32,
   "metadata": {
    "scrolled": true
   },
   "outputs": [
    {
     "name": "stdout",
     "output_type": "stream",
     "text": [
      "sociales\n"
     ]
    },
    {
     "data": {
      "text/plain": [
       "sociales       38105\n",
       "aides          36861\n",
       "revoir         36303\n",
       "attribution    36254\n",
       "conditions     36250\n",
       "augmenter      14958\n",
       "travail        14630\n",
       "temps          13873\n",
       "retraite       11689\n",
       "age            11096\n",
       "Name: sociales, dtype: uint16"
      ]
     },
     "metadata": {},
     "output_type": "display_data"
    },
    {
     "name": "stdout",
     "output_type": "stream",
     "text": [
      "aides\n"
     ]
    },
    {
     "data": {
      "text/plain": [
       "aides          37482\n",
       "sociales       36861\n",
       "revoir         36301\n",
       "attribution    36278\n",
       "conditions     36254\n",
       "augmenter      14826\n",
       "travail        14537\n",
       "temps          13850\n",
       "retraite       11620\n",
       "age            11063\n",
       "Name: aides, dtype: uint16"
      ]
     },
     "metadata": {},
     "output_type": "display_data"
    },
    {
     "name": "stdout",
     "output_type": "stream",
     "text": [
      "revoir\n"
     ]
    },
    {
     "data": {
      "text/plain": [
       "revoir         36927\n",
       "sociales       36303\n",
       "aides          36301\n",
       "conditions     36261\n",
       "attribution    36248\n",
       "augmenter      14647\n",
       "travail        14341\n",
       "temps          13697\n",
       "retraite       11522\n",
       "age            10951\n",
       "Name: revoir, dtype: uint16"
      ]
     },
     "metadata": {},
     "output_type": "display_data"
    },
    {
     "name": "stdout",
     "output_type": "stream",
     "text": [
      "conditions\n"
     ]
    },
    {
     "data": {
      "text/plain": [
       "conditions     36417\n",
       "revoir         36261\n",
       "aides          36254\n",
       "sociales       36250\n",
       "attribution    36243\n",
       "augmenter      14576\n",
       "travail        14301\n",
       "temps          13657\n",
       "retraite       11465\n",
       "age            10926\n",
       "Name: conditions, dtype: uint16"
      ]
     },
     "metadata": {},
     "output_type": "display_data"
    },
    {
     "name": "stdout",
     "output_type": "stream",
     "text": [
      "attribution\n"
     ]
    },
    {
     "data": {
      "text/plain": [
       "attribution    36356\n",
       "aides          36278\n",
       "sociales       36254\n",
       "revoir         36248\n",
       "conditions     36243\n",
       "augmenter      14555\n",
       "travail        14250\n",
       "temps          13634\n",
       "retraite       11435\n",
       "age            10902\n",
       "Name: attribution, dtype: uint16"
      ]
     },
     "metadata": {},
     "output_type": "display_data"
    },
    {
     "name": "stdout",
     "output_type": "stream",
     "text": [
      "augmenter\n"
     ]
    },
    {
     "data": {
      "text/plain": [
       "augmenter      21244\n",
       "travail        17611\n",
       "temps          17476\n",
       "sociales       14958\n",
       "aides          14826\n",
       "revoir         14647\n",
       "conditions     14576\n",
       "attribution    14555\n",
       "retraite        9368\n",
       "age             9130\n",
       "Name: augmenter, dtype: uint16"
      ]
     },
     "metadata": {},
     "output_type": "display_data"
    },
    {
     "name": "stdout",
     "output_type": "stream",
     "text": [
      "travail\n"
     ]
    },
    {
     "data": {
      "text/plain": [
       "travail        19466\n",
       "temps          17893\n",
       "augmenter      17611\n",
       "sociales       14630\n",
       "aides          14537\n",
       "revoir         14341\n",
       "conditions     14301\n",
       "attribution    14250\n",
       "retraite        9405\n",
       "age             9108\n",
       "Name: travail, dtype: uint16"
      ]
     },
     "metadata": {},
     "output_type": "display_data"
    },
    {
     "name": "stdout",
     "output_type": "stream",
     "text": [
      "temps\n"
     ]
    },
    {
     "data": {
      "text/plain": [
       "temps          18201\n",
       "travail        17893\n",
       "augmenter      17476\n",
       "sociales       13873\n",
       "aides          13850\n",
       "revoir         13697\n",
       "conditions     13657\n",
       "attribution    13634\n",
       "retraite        9158\n",
       "age             8898\n",
       "Name: temps, dtype: uint16"
      ]
     },
     "metadata": {},
     "output_type": "display_data"
    },
    {
     "name": "stdout",
     "output_type": "stream",
     "text": [
      "retraite\n"
     ]
    },
    {
     "data": {
      "text/plain": [
       "retraite       16280\n",
       "age            15047\n",
       "reculer        14501\n",
       "sociales       11689\n",
       "aides          11620\n",
       "revoir         11522\n",
       "conditions     11465\n",
       "attribution    11435\n",
       "travail         9405\n",
       "augmenter       9368\n",
       "Name: retraite, dtype: uint16"
      ]
     },
     "metadata": {},
     "output_type": "display_data"
    },
    {
     "name": "stdout",
     "output_type": "stream",
     "text": [
      "age\n"
     ]
    },
    {
     "data": {
      "text/plain": [
       "age            15162\n",
       "retraite       15047\n",
       "reculer        14504\n",
       "sociales       11096\n",
       "aides          11063\n",
       "revoir         10951\n",
       "conditions     10926\n",
       "attribution    10902\n",
       "augmenter       9130\n",
       "travail         9108\n",
       "Name: age, dtype: uint16"
      ]
     },
     "metadata": {},
     "output_type": "display_data"
    },
    {
     "name": "stdout",
     "output_type": "stream",
     "text": [
      "reculer\n"
     ]
    },
    {
     "data": {
      "text/plain": [
       "reculer        14523\n",
       "age            14504\n",
       "retraite       14501\n",
       "sociales       10775\n",
       "aides          10760\n",
       "revoir         10660\n",
       "conditions     10630\n",
       "attribution    10617\n",
       "augmenter       8950\n",
       "travail         8822\n",
       "Name: reculer, dtype: uint16"
      ]
     },
     "metadata": {},
     "output_type": "display_data"
    },
    {
     "name": "stdout",
     "output_type": "stream",
     "text": [
      "impots\n"
     ]
    },
    {
     "data": {
      "text/plain": [
       "impots         4461\n",
       "augmenter      3270\n",
       "sociales       1817\n",
       "aides          1722\n",
       "revoir         1668\n",
       "conditions     1607\n",
       "attribution    1586\n",
       "travail         856\n",
       "retraite        818\n",
       "age             759\n",
       "Name: impots, dtype: uint16"
      ]
     },
     "metadata": {},
     "output_type": "display_data"
    },
    {
     "name": "stdout",
     "output_type": "stream",
     "text": [
      "faire\n"
     ]
    },
    {
     "data": {
      "text/plain": [
       "faire          3548\n",
       "sociales       1799\n",
       "aides          1733\n",
       "revoir         1637\n",
       "conditions     1605\n",
       "attribution    1592\n",
       "travail         964\n",
       "augmenter       877\n",
       "payer           864\n",
       "retraite        793\n",
       "Name: faire, dtype: uint16"
      ]
     },
     "metadata": {},
     "output_type": "display_data"
    },
    {
     "name": "stdout",
     "output_type": "stream",
     "text": [
      "depenses\n"
     ]
    },
    {
     "data": {
      "text/plain": [
       "depenses       3417\n",
       "sociales       2265\n",
       "revoir         1593\n",
       "aides          1584\n",
       "conditions     1510\n",
       "attribution    1501\n",
       "augmenter       854\n",
       "travail         825\n",
       "retraite        727\n",
       "temps           722\n",
       "Name: depenses, dtype: uint16"
      ]
     },
     "metadata": {},
     "output_type": "display_data"
    },
    {
     "name": "stdout",
     "output_type": "stream",
     "text": [
      "fiscale\n"
     ]
    },
    {
     "data": {
      "text/plain": [
       "fiscale        3109\n",
       "evasion        1760\n",
       "fraude         1346\n",
       "lutter         1185\n",
       "sociales        895\n",
       "aides           816\n",
       "revoir          790\n",
       "conditions      745\n",
       "attribution     735\n",
       "augmenter       609\n",
       "Name: fiscale, dtype: uint16"
      ]
     },
     "metadata": {},
     "output_type": "display_data"
    },
    {
     "name": "stdout",
     "output_type": "stream",
     "text": [
      "taxer\n"
     ]
    },
    {
     "data": {
      "text/plain": [
       "taxer          2750\n",
       "sociales        865\n",
       "aides           843\n",
       "revoir          825\n",
       "conditions      802\n",
       "attribution     793\n",
       "entreprises     655\n",
       "augmenter       568\n",
       "fiscale         524\n",
       "travail         465\n",
       "Name: taxer, dtype: uint16"
      ]
     },
     "metadata": {},
     "output_type": "display_data"
    },
    {
     "name": "stdout",
     "output_type": "stream",
     "text": [
      "entreprises\n"
     ]
    },
    {
     "data": {
      "text/plain": [
       "entreprises    2593\n",
       "sociales       1004\n",
       "aides           969\n",
       "revoir          868\n",
       "conditions      839\n",
       "attribution     822\n",
       "augmenter       720\n",
       "taxer           655\n",
       "fiscale         585\n",
       "travail         531\n",
       "Name: entreprises, dtype: uint16"
      ]
     },
     "metadata": {},
     "output_type": "display_data"
    },
    {
     "name": "stdout",
     "output_type": "stream",
     "text": [
      "supprimer\n"
     ]
    },
    {
     "data": {
      "text/plain": [
       "supprimer      2521\n",
       "aides          1445\n",
       "sociales       1440\n",
       "revoir         1334\n",
       "conditions     1302\n",
       "attribution    1293\n",
       "augmenter       764\n",
       "travail         702\n",
       "retraite        650\n",
       "temps           626\n",
       "Name: supprimer, dtype: uint16"
      ]
     },
     "metadata": {},
     "output_type": "display_data"
    },
    {
     "name": "stdout",
     "output_type": "stream",
     "text": [
      "reduire\n"
     ]
    },
    {
     "data": {
      "text/plain": [
       "reduire        2508\n",
       "sociales       1356\n",
       "aides          1298\n",
       "revoir         1245\n",
       "attribution    1224\n",
       "conditions     1223\n",
       "depenses        708\n",
       "travail         700\n",
       "augmenter       695\n",
       "temps           656\n",
       "Name: reduire, dtype: uint16"
      ]
     },
     "metadata": {},
     "output_type": "display_data"
    },
    {
     "name": "stdout",
     "output_type": "stream",
     "text": [
      "tous\n"
     ]
    },
    {
     "data": {
      "text/plain": [
       "tous           2282\n",
       "sociales       1314\n",
       "aides          1268\n",
       "revoir         1233\n",
       "conditions     1200\n",
       "attribution    1184\n",
       "travail         771\n",
       "retraite        738\n",
       "augmenter       690\n",
       "temps           623\n",
       "Name: tous, dtype: uint16"
      ]
     },
     "metadata": {},
     "output_type": "display_data"
    }
   ],
   "source": [
    "for i in df_qu_4_one_hot.sum(axis=0).sort_values(ascending=False).head(20).index:\n",
    "    print(i)\n",
    "    display(df_cov_4[i].sort_values(ascending=False).head(10))"
   ]
  },
  {
   "cell_type": "code",
   "execution_count": 33,
   "metadata": {
    "scrolled": true
   },
   "outputs": [
    {
     "name": "stdout",
     "output_type": "stream",
     "text": [
      "sociales\n"
     ]
    },
    {
     "data": {
      "text/plain": [
       "sociales         1.000000\n",
       "attribution      0.997194\n",
       "conditions       0.995414\n",
       "aides            0.983432\n",
       "revoir           0.983102\n",
       "prestations      0.860911\n",
       "rsa              0.854271\n",
       "etrangers        0.813758\n",
       "beneficiaires    0.811209\n",
       "allocation       0.806780\n",
       "Name: sociales, dtype: float32"
      ]
     },
     "metadata": {},
     "output_type": "display_data"
    },
    {
     "name": "stdout",
     "output_type": "stream",
     "text": [
      "aides\n"
     ]
    },
    {
     "data": {
      "text/plain": [
       "aides            1.000000\n",
       "attribution      0.997855\n",
       "conditions       0.995524\n",
       "revoir           0.983048\n",
       "sociales         0.967353\n",
       "rsa              0.864322\n",
       "etrangers        0.842282\n",
       "beneficiaires    0.837758\n",
       "controles        0.817857\n",
       "enfants          0.816764\n",
       "Name: aides, dtype: float32"
      ]
     },
     "metadata": {},
     "output_type": "display_data"
    },
    {
     "name": "stdout",
     "output_type": "stream",
     "text": [
      "revoir\n"
     ]
    },
    {
     "data": {
      "text/plain": [
       "revoir         1.000000\n",
       "attribution    0.997029\n",
       "conditions     0.995716\n",
       "aides          0.968492\n",
       "sociales       0.952710\n",
       "rsa            0.804020\n",
       "etrangers      0.791946\n",
       "allocations    0.769061\n",
       "familiales     0.762887\n",
       "enfants        0.758285\n",
       "Name: revoir, dtype: float32"
      ]
     },
     "metadata": {},
     "output_type": "display_data"
    },
    {
     "name": "stdout",
     "output_type": "stream",
     "text": [
      "conditions\n"
     ]
    },
    {
     "data": {
      "text/plain": [
       "conditions     1.000000\n",
       "attribution    0.996892\n",
       "revoir         0.981964\n",
       "aides          0.967238\n",
       "sociales       0.951319\n",
       "rsa            0.811558\n",
       "etrangers      0.788591\n",
       "allocations    0.763536\n",
       "familiales     0.758763\n",
       "enfants        0.750487\n",
       "Name: conditions, dtype: float32"
      ]
     },
     "metadata": {},
     "output_type": "display_data"
    },
    {
     "name": "stdout",
     "output_type": "stream",
     "text": [
      "attribution\n"
     ]
    },
    {
     "data": {
      "text/plain": [
       "attribution    1.000000\n",
       "conditions     0.995222\n",
       "revoir         0.981612\n",
       "aides          0.967878\n",
       "sociales       0.951424\n",
       "rsa            0.811558\n",
       "etrangers      0.788591\n",
       "allocations    0.765746\n",
       "familiales     0.758763\n",
       "temps          0.749080\n",
       "Name: attribution, dtype: float32"
      ]
     },
     "metadata": {},
     "output_type": "display_data"
    },
    {
     "name": "stdout",
     "output_type": "stream",
     "text": [
      "augmenter\n"
     ]
    },
    {
     "data": {
      "text/plain": [
       "augmenter    1.000000\n",
       "temps        0.960167\n",
       "travail      0.904706\n",
       "35           0.747082\n",
       "impots       0.733020\n",
       "reculer      0.616264\n",
       "heures       0.611807\n",
       "age          0.602163\n",
       "tva          0.599362\n",
       "luxe         0.578125\n",
       "Name: augmenter, dtype: float32"
      ]
     },
     "metadata": {},
     "output_type": "display_data"
    },
    {
     "name": "stdout",
     "output_type": "stream",
     "text": [
      "travail\n"
     ]
    },
    {
     "data": {
      "text/plain": [
       "travail      1.000000\n",
       "temps        0.983078\n",
       "augmenter    0.828987\n",
       "35           0.805447\n",
       "heures       0.754919\n",
       "reculer      0.607450\n",
       "age          0.600712\n",
       "retraite     0.577703\n",
       "chomeurs     0.574307\n",
       "duree        0.555215\n",
       "Name: travail, dtype: float32"
      ]
     },
     "metadata": {},
     "output_type": "display_data"
    },
    {
     "name": "stdout",
     "output_type": "stream",
     "text": [
      "temps\n"
     ]
    },
    {
     "data": {
      "text/plain": [
       "temps        1.000000\n",
       "travail      0.919192\n",
       "augmenter    0.822632\n",
       "35           0.797665\n",
       "heures       0.647585\n",
       "reculer      0.596020\n",
       "age          0.586862\n",
       "retraite     0.562531\n",
       "revenir      0.526923\n",
       "duree        0.426380\n",
       "Name: temps, dtype: float32"
      ]
     },
     "metadata": {},
     "output_type": "display_data"
    },
    {
     "name": "stdout",
     "output_type": "stream",
     "text": [
      "retraite\n"
     ]
    },
    {
     "data": {
      "text/plain": [
       "retraite    1.000000\n",
       "reculer     0.998485\n",
       "age         0.992415\n",
       "depart      0.880165\n",
       "regimes     0.706131\n",
       "speciaux    0.684211\n",
       "ans         0.642512\n",
       "partir      0.635514\n",
       "jeunes      0.573134\n",
       "prive       0.551546\n",
       "Name: retraite, dtype: float32"
      ]
     },
     "metadata": {},
     "output_type": "display_data"
    },
    {
     "name": "stdout",
     "output_type": "stream",
     "text": [
      "age\n"
     ]
    },
    {
     "data": {
      "text/plain": [
       "age         1.000000\n",
       "reculer     0.998692\n",
       "retraite    0.924263\n",
       "depart      0.729339\n",
       "ans         0.494686\n",
       "temps       0.488874\n",
       "duree       0.481595\n",
       "travail     0.467893\n",
       "speciaux    0.449123\n",
       "jeunes      0.447761\n",
       "Name: age, dtype: float32"
      ]
     },
     "metadata": {},
     "output_type": "display_data"
    },
    {
     "name": "stdout",
     "output_type": "stream",
     "text": [
      "reculer\n"
     ]
    },
    {
     "data": {
      "text/plain": [
       "reculer        1.000000\n",
       "age            0.956602\n",
       "retraite       0.890725\n",
       "temps          0.475578\n",
       "travail        0.453200\n",
       "augmenter      0.421295\n",
       "35             0.392996\n",
       "speciaux       0.378947\n",
       "immigration    0.374670\n",
       "duree          0.365031\n",
       "Name: reculer, dtype: float32"
      ]
     },
     "metadata": {},
     "output_type": "display_data"
    },
    {
     "name": "stdout",
     "output_type": "stream",
     "text": [
      "impots\n"
     ]
    },
    {
     "data": {
      "text/plain": [
       "impots          1.000000\n",
       "tranches        0.463602\n",
       "riches          0.318761\n",
       "societes        0.305882\n",
       "taxes           0.252315\n",
       "grandes         0.251420\n",
       "payer           0.249500\n",
       "augmentation    0.241071\n",
       "revenus         0.210526\n",
       "france          0.192494\n",
       "Name: impots, dtype: float32"
      ]
     },
     "metadata": {},
     "output_type": "display_data"
    },
    {
     "name": "stdout",
     "output_type": "stream",
     "text": [
      "faire\n"
     ]
    },
    {
     "data": {
      "text/plain": [
       "faire         1.000000\n",
       "economies     0.703333\n",
       "chasse        0.684211\n",
       "payer         0.576384\n",
       "contribuer    0.542751\n",
       "fraudeurs     0.283708\n",
       "travailler    0.234528\n",
       "monde         0.221411\n",
       "riches        0.214936\n",
       "tout          0.204883\n",
       "Name: faire, dtype: float32"
      ]
     },
     "metadata": {},
     "output_type": "display_data"
    },
    {
     "name": "stdout",
     "output_type": "stream",
     "text": [
      "depenses\n"
     ]
    },
    {
     "data": {
      "text/plain": [
       "depenses          1.000000\n",
       "publiques         0.669935\n",
       "inutiles          0.566845\n",
       "financer          0.387909\n",
       "fonctionnement    0.356299\n",
       "collectivites     0.351415\n",
       "sante             0.346565\n",
       "reduire           0.282297\n",
       "baisser           0.274234\n",
       "diminuer          0.273267\n",
       "Name: depenses, dtype: float32"
      ]
     },
     "metadata": {},
     "output_type": "display_data"
    },
    {
     "name": "stdout",
     "output_type": "stream",
     "text": [
      "fiscale\n"
     ]
    },
    {
     "data": {
      "text/plain": [
       "fiscale         1.000000\n",
       "evasion         0.933192\n",
       "optimisation    0.871838\n",
       "80              0.694444\n",
       "lutte           0.667568\n",
       "fraude          0.651500\n",
       "lutter          0.648604\n",
       "reserver        0.588462\n",
       "efficacement    0.568106\n",
       "milliards       0.552632\n",
       "Name: fiscale, dtype: float32"
      ]
     },
     "metadata": {},
     "output_type": "display_data"
    },
    {
     "name": "stdout",
     "output_type": "stream",
     "text": [
      "taxer\n"
     ]
    },
    {
     "data": {
      "text/plain": [
       "taxer              1.000000\n",
       "dividendes         0.608989\n",
       "transactions       0.577818\n",
       "gafa               0.563202\n",
       "multinationales    0.553009\n",
       "financieres        0.525355\n",
       "davantage          0.455390\n",
       "capital            0.454965\n",
       "financiers         0.423077\n",
       "actionnaires       0.407975\n",
       "Name: taxer, dtype: float32"
      ]
     },
     "metadata": {},
     "output_type": "display_data"
    },
    {
     "name": "stdout",
     "output_type": "stream",
     "text": [
      "entreprises\n"
     ]
    },
    {
     "data": {
      "text/plain": [
       "entreprises        1.000000\n",
       "grandes            0.723011\n",
       "reserver           0.611538\n",
       "80                 0.537037\n",
       "benefices          0.526154\n",
       "cice               0.516077\n",
       "grosses            0.509971\n",
       "dividendes         0.435955\n",
       "an                 0.434579\n",
       "multinationales    0.421203\n",
       "Name: entreprises, dtype: float32"
      ]
     },
     "metadata": {},
     "output_type": "display_data"
    },
    {
     "name": "stdout",
     "output_type": "stream",
     "text": [
      "supprimer\n"
     ]
    },
    {
     "data": {
      "text/plain": [
       "supprimer     1.000000\n",
       "niches        0.454759\n",
       "presidents    0.397163\n",
       "speciaux      0.382456\n",
       "anciens       0.362256\n",
       "fiscales      0.313804\n",
       "regimes       0.291755\n",
       "avantages     0.288740\n",
       "privileges    0.287263\n",
       "deputes       0.268293\n",
       "Name: supprimer, dtype: float32"
      ]
     },
     "metadata": {},
     "output_type": "display_data"
    },
    {
     "name": "stdout",
     "output_type": "stream",
     "text": [
      "reduire\n"
     ]
    },
    {
     "data": {
      "text/plain": [
       "reduire            1.000000\n",
       "reserver           0.596154\n",
       "80                 0.481481\n",
       "immigration        0.474934\n",
       "train              0.473815\n",
       "an                 0.434579\n",
       "milliards          0.300987\n",
       "multinationales    0.297994\n",
       "fonctionnement     0.295276\n",
       "cice               0.294212\n",
       "Name: reduire, dtype: float32"
      ]
     },
     "metadata": {},
     "output_type": "display_data"
    },
    {
     "name": "stdout",
     "output_type": "stream",
     "text": [
      "tous\n"
     ]
    },
    {
     "data": {
      "text/plain": [
       "tous         1.000000\n",
       "regimes      0.310782\n",
       "citoyens     0.267631\n",
       "avantages    0.199554\n",
       "deputes      0.193380\n",
       "francais     0.177227\n",
       "revenu       0.176938\n",
       "elus         0.173262\n",
       "ans          0.171014\n",
       "retraites    0.155267\n",
       "Name: tous, dtype: float32"
      ]
     },
     "metadata": {},
     "output_type": "display_data"
    }
   ],
   "source": [
    "for i in df_qu_4_one_hot.sum(axis=0).sort_values(ascending=False).head(20).index:\n",
    "    print(i)\n",
    "    display(df_confidence_4[i].sort_values(ascending=False).head(10))"
   ]
  },
  {
   "cell_type": "code",
   "execution_count": 34,
   "metadata": {
    "scrolled": true
   },
   "outputs": [
    {
     "name": "stdout",
     "output_type": "stream",
     "text": [
      "sociales\n"
     ]
    },
    {
     "data": {
      "text/plain": [
       "sociales         0.000026\n",
       "attribution      0.000026\n",
       "conditions       0.000026\n",
       "aides            0.000026\n",
       "revoir           0.000026\n",
       "prestations      0.000023\n",
       "rsa              0.000022\n",
       "etrangers        0.000021\n",
       "beneficiaires    0.000021\n",
       "allocation       0.000021\n",
       "Name: sociales, dtype: float32"
      ]
     },
     "metadata": {},
     "output_type": "display_data"
    },
    {
     "name": "stdout",
     "output_type": "stream",
     "text": [
      "aides\n"
     ]
    },
    {
     "data": {
      "text/plain": [
       "aides            0.000027\n",
       "attribution      0.000027\n",
       "conditions       0.000027\n",
       "revoir           0.000026\n",
       "sociales         0.000026\n",
       "rsa              0.000023\n",
       "etrangers        0.000022\n",
       "beneficiaires    0.000022\n",
       "controles        0.000022\n",
       "enfants          0.000022\n",
       "Name: aides, dtype: float32"
      ]
     },
     "metadata": {},
     "output_type": "display_data"
    },
    {
     "name": "stdout",
     "output_type": "stream",
     "text": [
      "revoir\n"
     ]
    },
    {
     "data": {
      "text/plain": [
       "revoir         0.000027\n",
       "attribution    0.000027\n",
       "conditions     0.000027\n",
       "aides          0.000026\n",
       "sociales       0.000026\n",
       "rsa            0.000022\n",
       "etrangers      0.000021\n",
       "allocations    0.000021\n",
       "familiales     0.000021\n",
       "enfants        0.000021\n",
       "Name: revoir, dtype: float32"
      ]
     },
     "metadata": {},
     "output_type": "display_data"
    },
    {
     "name": "stdout",
     "output_type": "stream",
     "text": [
      "conditions\n"
     ]
    },
    {
     "data": {
      "text/plain": [
       "conditions     0.000027\n",
       "attribution    0.000027\n",
       "revoir         0.000027\n",
       "aides          0.000027\n",
       "sociales       0.000026\n",
       "rsa            0.000022\n",
       "etrangers      0.000022\n",
       "allocations    0.000021\n",
       "familiales     0.000021\n",
       "enfants        0.000021\n",
       "Name: conditions, dtype: float32"
      ]
     },
     "metadata": {},
     "output_type": "display_data"
    },
    {
     "name": "stdout",
     "output_type": "stream",
     "text": [
      "attribution\n"
     ]
    },
    {
     "data": {
      "text/plain": [
       "attribution    0.000028\n",
       "conditions     0.000027\n",
       "revoir         0.000027\n",
       "aides          0.000027\n",
       "sociales       0.000026\n",
       "rsa            0.000022\n",
       "etrangers      0.000022\n",
       "allocations    0.000021\n",
       "familiales     0.000021\n",
       "temps          0.000021\n",
       "Name: attribution, dtype: float32"
      ]
     },
     "metadata": {},
     "output_type": "display_data"
    },
    {
     "name": "stdout",
     "output_type": "stream",
     "text": [
      "augmenter\n"
     ]
    },
    {
     "data": {
      "text/plain": [
       "augmenter    0.000047\n",
       "temps        0.000045\n",
       "travail      0.000043\n",
       "35           0.000035\n",
       "impots       0.000035\n",
       "reculer      0.000029\n",
       "heures       0.000029\n",
       "age          0.000028\n",
       "tva          0.000028\n",
       "luxe         0.000027\n",
       "Name: augmenter, dtype: float32"
      ]
     },
     "metadata": {},
     "output_type": "display_data"
    },
    {
     "name": "stdout",
     "output_type": "stream",
     "text": [
      "travail\n"
     ]
    },
    {
     "data": {
      "text/plain": [
       "travail      0.000051\n",
       "temps        0.000051\n",
       "augmenter    0.000043\n",
       "35           0.000041\n",
       "heures       0.000039\n",
       "reculer      0.000031\n",
       "age          0.000031\n",
       "retraite     0.000030\n",
       "chomeurs     0.000030\n",
       "duree        0.000029\n",
       "Name: travail, dtype: float32"
      ]
     },
     "metadata": {},
     "output_type": "display_data"
    },
    {
     "name": "stdout",
     "output_type": "stream",
     "text": [
      "temps\n"
     ]
    },
    {
     "data": {
      "text/plain": [
       "temps        0.000055\n",
       "travail      0.000051\n",
       "augmenter    0.000045\n",
       "35           0.000044\n",
       "heures       0.000036\n",
       "reculer      0.000033\n",
       "age          0.000032\n",
       "retraite     0.000031\n",
       "revenir      0.000029\n",
       "duree        0.000023\n",
       "Name: temps, dtype: float32"
      ]
     },
     "metadata": {},
     "output_type": "display_data"
    },
    {
     "name": "stdout",
     "output_type": "stream",
     "text": [
      "retraite\n"
     ]
    },
    {
     "data": {
      "text/plain": [
       "retraite    0.000061\n",
       "reculer     0.000061\n",
       "age         0.000061\n",
       "depart      0.000054\n",
       "regimes     0.000043\n",
       "speciaux    0.000042\n",
       "ans         0.000039\n",
       "partir      0.000039\n",
       "jeunes      0.000035\n",
       "prive       0.000034\n",
       "Name: retraite, dtype: float32"
      ]
     },
     "metadata": {},
     "output_type": "display_data"
    },
    {
     "name": "stdout",
     "output_type": "stream",
     "text": [
      "age\n"
     ]
    },
    {
     "data": {
      "text/plain": [
       "age         0.000066\n",
       "reculer     0.000066\n",
       "retraite    0.000061\n",
       "depart      0.000048\n",
       "ans         0.000033\n",
       "temps       0.000032\n",
       "duree       0.000032\n",
       "travail     0.000031\n",
       "speciaux    0.000030\n",
       "jeunes      0.000030\n",
       "Name: age, dtype: float32"
      ]
     },
     "metadata": {},
     "output_type": "display_data"
    },
    {
     "name": "stdout",
     "output_type": "stream",
     "text": [
      "reculer\n"
     ]
    },
    {
     "data": {
      "text/plain": [
       "reculer        0.000069\n",
       "age            0.000066\n",
       "retraite       0.000061\n",
       "temps          0.000033\n",
       "travail        0.000031\n",
       "augmenter      0.000029\n",
       "35             0.000027\n",
       "speciaux       0.000026\n",
       "immigration    0.000026\n",
       "duree          0.000025\n",
       "Name: reculer, dtype: float32"
      ]
     },
     "metadata": {},
     "output_type": "display_data"
    },
    {
     "name": "stdout",
     "output_type": "stream",
     "text": [
      "impots\n"
     ]
    },
    {
     "data": {
      "text/plain": [
       "impots          0.000224\n",
       "tranches        0.000104\n",
       "riches          0.000071\n",
       "societes        0.000069\n",
       "taxes           0.000057\n",
       "grandes         0.000056\n",
       "payer           0.000056\n",
       "augmentation    0.000054\n",
       "revenus         0.000047\n",
       "france          0.000043\n",
       "Name: impots, dtype: float32"
      ]
     },
     "metadata": {},
     "output_type": "display_data"
    },
    {
     "name": "stdout",
     "output_type": "stream",
     "text": [
      "faire\n"
     ]
    },
    {
     "data": {
      "text/plain": [
       "faire         0.000282\n",
       "economies     0.000198\n",
       "chasse        0.000193\n",
       "payer         0.000162\n",
       "contribuer    0.000153\n",
       "fraudeurs     0.000080\n",
       "travailler    0.000066\n",
       "monde         0.000062\n",
       "riches        0.000061\n",
       "tout          0.000058\n",
       "Name: faire, dtype: float32"
      ]
     },
     "metadata": {},
     "output_type": "display_data"
    },
    {
     "name": "stdout",
     "output_type": "stream",
     "text": [
      "depenses\n"
     ]
    },
    {
     "data": {
      "text/plain": [
       "depenses          0.000293\n",
       "publiques         0.000196\n",
       "inutiles          0.000166\n",
       "financer          0.000114\n",
       "fonctionnement    0.000104\n",
       "collectivites     0.000103\n",
       "sante             0.000101\n",
       "reduire           0.000083\n",
       "baisser           0.000080\n",
       "diminuer          0.000080\n",
       "Name: depenses, dtype: float32"
      ]
     },
     "metadata": {},
     "output_type": "display_data"
    },
    {
     "name": "stdout",
     "output_type": "stream",
     "text": [
      "fiscale\n"
     ]
    },
    {
     "data": {
      "text/plain": [
       "fiscale         0.000322\n",
       "evasion         0.000300\n",
       "optimisation    0.000280\n",
       "80              0.000223\n",
       "lutte           0.000215\n",
       "fraude          0.000210\n",
       "lutter          0.000209\n",
       "reserver        0.000189\n",
       "efficacement    0.000183\n",
       "milliards       0.000178\n",
       "Name: fiscale, dtype: float32"
      ]
     },
     "metadata": {},
     "output_type": "display_data"
    },
    {
     "name": "stdout",
     "output_type": "stream",
     "text": [
      "taxer\n"
     ]
    },
    {
     "data": {
      "text/plain": [
       "taxer              0.000364\n",
       "dividendes         0.000221\n",
       "transactions       0.000210\n",
       "gafa               0.000205\n",
       "multinationales    0.000201\n",
       "financieres        0.000191\n",
       "davantage          0.000166\n",
       "capital            0.000165\n",
       "financiers         0.000154\n",
       "actionnaires       0.000148\n",
       "Name: taxer, dtype: float32"
      ]
     },
     "metadata": {},
     "output_type": "display_data"
    },
    {
     "name": "stdout",
     "output_type": "stream",
     "text": [
      "entreprises\n"
     ]
    },
    {
     "data": {
      "text/plain": [
       "entreprises        0.000386\n",
       "grandes            0.000279\n",
       "reserver           0.000236\n",
       "80                 0.000207\n",
       "benefices          0.000203\n",
       "cice               0.000199\n",
       "grosses            0.000197\n",
       "dividendes         0.000168\n",
       "an                 0.000168\n",
       "multinationales    0.000162\n",
       "Name: entreprises, dtype: float32"
      ]
     },
     "metadata": {},
     "output_type": "display_data"
    },
    {
     "name": "stdout",
     "output_type": "stream",
     "text": [
      "supprimer\n"
     ]
    },
    {
     "data": {
      "text/plain": [
       "supprimer     0.000397\n",
       "niches        0.000180\n",
       "presidents    0.000158\n",
       "speciaux      0.000152\n",
       "anciens       0.000144\n",
       "fiscales      0.000124\n",
       "regimes       0.000116\n",
       "avantages     0.000115\n",
       "privileges    0.000114\n",
       "deputes       0.000106\n",
       "Name: supprimer, dtype: float32"
      ]
     },
     "metadata": {},
     "output_type": "display_data"
    },
    {
     "name": "stdout",
     "output_type": "stream",
     "text": [
      "reduire\n"
     ]
    },
    {
     "data": {
      "text/plain": [
       "reduire            0.000399\n",
       "reserver           0.000238\n",
       "80                 0.000192\n",
       "immigration        0.000189\n",
       "train              0.000189\n",
       "an                 0.000173\n",
       "milliards          0.000120\n",
       "multinationales    0.000119\n",
       "fonctionnement     0.000118\n",
       "cice               0.000117\n",
       "Name: reduire, dtype: float32"
      ]
     },
     "metadata": {},
     "output_type": "display_data"
    },
    {
     "name": "stdout",
     "output_type": "stream",
     "text": [
      "tous\n"
     ]
    },
    {
     "data": {
      "text/plain": [
       "tous         0.000438\n",
       "regimes      0.000136\n",
       "citoyens     0.000117\n",
       "avantages    0.000087\n",
       "deputes      0.000085\n",
       "francais     0.000078\n",
       "revenu       0.000078\n",
       "elus         0.000076\n",
       "ans          0.000075\n",
       "retraites    0.000068\n",
       "Name: tous, dtype: float32"
      ]
     },
     "metadata": {},
     "output_type": "display_data"
    }
   ],
   "source": [
    "for i in df_qu_4_one_hot.sum(axis=0).sort_values(ascending=False).head(20).index:\n",
    "    print(i)\n",
    "    display(df_lift_4[i].sort_values(ascending=False).head(10))"
   ]
  },
  {
   "cell_type": "code",
   "execution_count": 35,
   "metadata": {},
   "outputs": [
    {
     "data": {
      "text/plain": [
       "105"
      ]
     },
     "execution_count": 35,
     "metadata": {},
     "output_type": "execute_result"
    }
   ],
   "source": [
    "gc.collect()"
   ]
  },
  {
   "cell_type": "markdown",
   "metadata": {},
   "source": [
    "# Question 5 : S'il faut selon vous revoir les conditions d'attribution de certaines aides sociales, lesquelles doivent être concernées ?"
   ]
  },
  {
   "cell_type": "code",
   "execution_count": 36,
   "metadata": {
    "collapsed": true
   },
   "outputs": [],
   "source": [
    "question_5 = \"S'il faut selon vous revoir les conditions d\\'attribution de certaines aides sociales, lesquelles doivent être concernées ?\"\n",
    "qu_5,df_qu_5_one_hot,df_cov_5,df_confidence_5,df_lift_5 = compute_similarities(question_5, new_res)"
   ]
  },
  {
   "cell_type": "code",
   "execution_count": 37,
   "metadata": {
    "scrolled": true
   },
   "outputs": [
    {
     "name": "stdout",
     "output_type": "stream",
     "text": [
      "aides\n"
     ]
    },
    {
     "data": {
      "text/plain": [
       "aides          15338\n",
       "sociales        6053\n",
       "allocations     2561\n",
       "faut            2382\n",
       "familiales      2164\n",
       "aide            2130\n",
       "enfants         1918\n",
       "chomage         1902\n",
       "travail         1812\n",
       "revenus         1521\n",
       "Name: aides, dtype: uint16"
      ]
     },
     "metadata": {},
     "output_type": "display_data"
    },
    {
     "name": "stdout",
     "output_type": "stream",
     "text": [
      "allocations\n"
     ]
    },
    {
     "data": {
      "text/plain": [
       "allocations    11198\n",
       "familiales      8127\n",
       "chomage         2798\n",
       "enfants         2768\n",
       "aides           2561\n",
       "revenus         1748\n",
       "rsa             1579\n",
       "aide            1223\n",
       "enfant          1205\n",
       "familles        1137\n",
       "Name: allocations, dtype: uint16"
      ]
     },
     "metadata": {},
     "output_type": "display_data"
    },
    {
     "name": "stdout",
     "output_type": "stream",
     "text": [
      "familiales\n"
     ]
    },
    {
     "data": {
      "text/plain": [
       "familiales     8870\n",
       "allocations    8127\n",
       "enfants        2495\n",
       "aides          2164\n",
       "revenus        1579\n",
       "chomage        1524\n",
       "rsa            1167\n",
       "enfant         1085\n",
       "allocation     1042\n",
       "familles       1019\n",
       "Name: familiales, dtype: uint16"
      ]
     },
     "metadata": {},
     "output_type": "display_data"
    },
    {
     "name": "stdout",
     "output_type": "stream",
     "text": [
      "chomage\n"
     ]
    },
    {
     "data": {
      "text/plain": [
       "chomage        7814\n",
       "allocations    2798\n",
       "aides          1902\n",
       "familiales     1524\n",
       "rsa            1498\n",
       "allocation     1348\n",
       "travail        1317\n",
       "emploi         1100\n",
       "aide            975\n",
       "indemnites      865\n",
       "Name: chomage, dtype: uint16"
      ]
     },
     "metadata": {},
     "output_type": "display_data"
    },
    {
     "name": "stdout",
     "output_type": "stream",
     "text": [
      "sociales\n"
     ]
    },
    {
     "data": {
      "text/plain": [
       "sociales       6666\n",
       "aides          6053\n",
       "faut           1247\n",
       "allocations    1038\n",
       "aide            883\n",
       "travail         878\n",
       "familiales      787\n",
       "attribution     776\n",
       "enfants         743\n",
       "chomage         739\n",
       "Name: sociales, dtype: uint16"
      ]
     },
     "metadata": {},
     "output_type": "display_data"
    },
    {
     "name": "stdout",
     "output_type": "stream",
     "text": [
      "aide\n"
     ]
    },
    {
     "data": {
      "text/plain": [
       "aide           5803\n",
       "aides          2130\n",
       "allocations    1223\n",
       "sociale        1156\n",
       "logement       1017\n",
       "chomage         975\n",
       "enfants         964\n",
       "familiales      962\n",
       "sociales        883\n",
       "faut            878\n",
       "Name: aide, dtype: uint16"
      ]
     },
     "metadata": {},
     "output_type": "display_data"
    },
    {
     "name": "stdout",
     "output_type": "stream",
     "text": [
      "rsa\n"
     ]
    },
    {
     "data": {
      "text/plain": [
       "rsa            5500\n",
       "allocations    1579\n",
       "chomage        1498\n",
       "aides          1430\n",
       "familiales     1167\n",
       "travail         947\n",
       "aide            781\n",
       "apl             740\n",
       "cmu             714\n",
       "allocation      708\n",
       "Name: rsa, dtype: uint16"
      ]
     },
     "metadata": {},
     "output_type": "display_data"
    },
    {
     "name": "stdout",
     "output_type": "stream",
     "text": [
      "enfants\n"
     ]
    },
    {
     "data": {
      "text/plain": [
       "enfants        4874\n",
       "allocations    2768\n",
       "familiales     2495\n",
       "aides          1918\n",
       "3              1179\n",
       "aide            964\n",
       "familles        938\n",
       "parents         920\n",
       "allocation      815\n",
       "enfant          813\n",
       "Name: enfants, dtype: uint16"
      ]
     },
     "metadata": {},
     "output_type": "display_data"
    },
    {
     "name": "stdout",
     "output_type": "stream",
     "text": [
      "faut\n"
     ]
    },
    {
     "data": {
      "text/plain": [
       "faut           4642\n",
       "aides          2382\n",
       "sociales       1247\n",
       "allocations     922\n",
       "aide            878\n",
       "travail         818\n",
       "faire           768\n",
       "chomage         730\n",
       "revoir          729\n",
       "enfants         668\n",
       "Name: faut, dtype: uint16"
      ]
     },
     "metadata": {},
     "output_type": "display_data"
    },
    {
     "name": "stdout",
     "output_type": "stream",
     "text": [
      "travail\n"
     ]
    },
    {
     "data": {
      "text/plain": [
       "travail        4046\n",
       "aides          1812\n",
       "chomage        1317\n",
       "rsa             947\n",
       "allocations     933\n",
       "sociales        878\n",
       "faut            818\n",
       "aide            807\n",
       "faire           615\n",
       "enfants         585\n",
       "Name: travail, dtype: uint16"
      ]
     },
     "metadata": {},
     "output_type": "display_data"
    },
    {
     "name": "stdout",
     "output_type": "stream",
     "text": [
      "revenus\n"
     ]
    },
    {
     "data": {
      "text/plain": [
       "revenus        3800\n",
       "allocations    1748\n",
       "familiales     1579\n",
       "aides          1521\n",
       "sociales        713\n",
       "fonction        701\n",
       "enfants         653\n",
       "aide            575\n",
       "chomage         552\n",
       "hauts           425\n",
       "Name: revenus, dtype: uint16"
      ]
     },
     "metadata": {},
     "output_type": "display_data"
    },
    {
     "name": "stdout",
     "output_type": "stream",
     "text": [
      "allocation\n"
     ]
    },
    {
     "data": {
      "text/plain": [
       "allocation     3687\n",
       "chomage        1348\n",
       "allocations    1128\n",
       "familiales     1042\n",
       "aides           888\n",
       "enfants         815\n",
       "rsa             708\n",
       "rentree         702\n",
       "scolaire        677\n",
       "logement        653\n",
       "Name: allocation, dtype: uint16"
      ]
     },
     "metadata": {},
     "output_type": "display_data"
    },
    {
     "name": "stdout",
     "output_type": "stream",
     "text": [
      "faire\n"
     ]
    },
    {
     "data": {
      "text/plain": [
       "faire          3150\n",
       "aides          1455\n",
       "allocations     817\n",
       "enfants         777\n",
       "faut            768\n",
       "sociales        703\n",
       "aide            690\n",
       "travail         615\n",
       "familiales      612\n",
       "chomage         599\n",
       "Name: faire, dtype: uint16"
      ]
     },
     "metadata": {},
     "output_type": "display_data"
    },
    {
     "name": "stdout",
     "output_type": "stream",
     "text": [
      "logement\n"
     ]
    },
    {
     "data": {
      "text/plain": [
       "logement       2994\n",
       "aides          1288\n",
       "allocations    1099\n",
       "aide           1017\n",
       "familiales      871\n",
       "allocation      653\n",
       "chomage         603\n",
       "rsa             496\n",
       "enfants         437\n",
       "revenus         364\n",
       "Name: logement, dtype: uint16"
      ]
     },
     "metadata": {},
     "output_type": "display_data"
    },
    {
     "name": "stdout",
     "output_type": "stream",
     "text": [
      "apl\n"
     ]
    },
    {
     "data": {
      "text/plain": [
       "apl            2840\n",
       "allocations     926\n",
       "aides           796\n",
       "familiales      783\n",
       "rsa             740\n",
       "chomage         607\n",
       "aide            379\n",
       "enfants         376\n",
       "sociales        322\n",
       "allocation      320\n",
       "Name: apl, dtype: uint16"
      ]
     },
     "metadata": {},
     "output_type": "display_data"
    },
    {
     "name": "stdout",
     "output_type": "stream",
     "text": [
      "attribution\n"
     ]
    },
    {
     "data": {
      "text/plain": [
       "attribution    2824\n",
       "aides          1420\n",
       "conditions     1082\n",
       "revoir          790\n",
       "sociales        776\n",
       "allocations     636\n",
       "faut            523\n",
       "familiales      503\n",
       "aide            498\n",
       "chomage         472\n",
       "Name: attribution, dtype: uint16"
      ]
     },
     "metadata": {},
     "output_type": "display_data"
    },
    {
     "name": "stdout",
     "output_type": "stream",
     "text": [
      "emploi\n"
     ]
    },
    {
     "data": {
      "text/plain": [
       "emploi         2736\n",
       "aides          1163\n",
       "chomage        1100\n",
       "allocations     785\n",
       "travail         575\n",
       "rsa             562\n",
       "aide            562\n",
       "sociales        539\n",
       "recherche       510\n",
       "familiales      462\n",
       "Name: emploi, dtype: uint16"
      ]
     },
     "metadata": {},
     "output_type": "display_data"
    },
    {
     "name": "stdout",
     "output_type": "stream",
     "text": [
      "revenu\n"
     ]
    },
    {
     "data": {
      "text/plain": [
       "revenu         2717\n",
       "aides          1314\n",
       "allocations     819\n",
       "familiales      690\n",
       "sociales        659\n",
       "universel       616\n",
       "aide            508\n",
       "enfants         410\n",
       "revenus         397\n",
       "faut            386\n",
       "Name: revenu, dtype: uint16"
      ]
     },
     "metadata": {},
     "output_type": "display_data"
    },
    {
     "name": "stdout",
     "output_type": "stream",
     "text": [
      "revoir\n"
     ]
    },
    {
     "data": {
      "text/plain": [
       "revoir         2692\n",
       "aides          1336\n",
       "attribution     790\n",
       "faut            729\n",
       "conditions      710\n",
       "sociales        651\n",
       "allocations     644\n",
       "chomage         551\n",
       "familiales      484\n",
       "aide            431\n",
       "Name: revoir, dtype: uint16"
      ]
     },
     "metadata": {},
     "output_type": "display_data"
    },
    {
     "name": "stdout",
     "output_type": "stream",
     "text": [
      "conditions\n"
     ]
    },
    {
     "data": {
      "text/plain": [
       "conditions     2567\n",
       "aides          1211\n",
       "attribution    1082\n",
       "revoir          710\n",
       "sociales        680\n",
       "allocations     674\n",
       "familiales      563\n",
       "faut            505\n",
       "chomage         446\n",
       "ressources      443\n",
       "Name: conditions, dtype: uint16"
      ]
     },
     "metadata": {},
     "output_type": "display_data"
    }
   ],
   "source": [
    "for i in df_qu_5_one_hot.sum(axis=0).sort_values(ascending=False).head(20).index:\n",
    "    print(i)\n",
    "    display(df_cov_5[i].sort_values(ascending=False).head(10))"
   ]
  },
  {
   "cell_type": "code",
   "execution_count": 38,
   "metadata": {
    "scrolled": true
   },
   "outputs": [
    {
     "name": "stdout",
     "output_type": "stream",
     "text": [
      "aides\n"
     ]
    },
    {
     "data": {
      "text/plain": [
       "aides         1.000000\n",
       "sociales      0.908041\n",
       "regrouper     0.782759\n",
       "cumul         0.758621\n",
       "accordees     0.725166\n",
       "ensemble      0.677994\n",
       "gestion       0.657480\n",
       "attribuees    0.649526\n",
       "donnees       0.644706\n",
       "vivre         0.629596\n",
       "Name: aides, dtype: float32"
      ]
     },
     "metadata": {},
     "output_type": "display_data"
    },
    {
     "name": "stdout",
     "output_type": "stream",
     "text": [
      "allocations\n"
     ]
    },
    {
     "data": {
      "text/plain": [
       "allocations     1.000000\n",
       "familiales      0.916234\n",
       "plafonnees      0.742947\n",
       "chomages        0.731111\n",
       "aisees          0.659574\n",
       "enfant          0.607053\n",
       "plafonnement    0.593525\n",
       "4               0.588235\n",
       "aises           0.574586\n",
       "3               0.569514\n",
       "Name: allocations, dtype: float32"
      ]
     },
     "metadata": {},
     "output_type": "display_data"
    },
    {
     "name": "stdout",
     "output_type": "stream",
     "text": [
      "familiales\n"
     ]
    },
    {
     "data": {
      "text/plain": [
       "familiales     1.000000\n",
       "allocations    0.725755\n",
       "plafonnees     0.658307\n",
       "aisees         0.606383\n",
       "enfant         0.546600\n",
       "aises          0.535912\n",
       "foyers         0.519894\n",
       "4              0.516934\n",
       "menages        0.515152\n",
       "supprimees     0.514950\n",
       "Name: familiales, dtype: float32"
      ]
     },
     "metadata": {},
     "output_type": "display_data"
    },
    {
     "name": "stdout",
     "output_type": "stream",
     "text": [
      "chomage\n"
     ]
    },
    {
     "data": {
      "text/plain": [
       "chomage          1.000000\n",
       "indemnisation    0.847390\n",
       "indemnite        0.829787\n",
       "indemnites       0.804651\n",
       "assurance        0.793103\n",
       "duree            0.632325\n",
       "chomeur          0.559140\n",
       "longue           0.533333\n",
       "periode          0.525490\n",
       "6                0.511261\n",
       "Name: chomage, dtype: float32"
      ]
     },
     "metadata": {},
     "output_type": "display_data"
    },
    {
     "name": "stdout",
     "output_type": "stream",
     "text": [
      "sociales\n"
     ]
    },
    {
     "data": {
      "text/plain": [
       "sociales       1.000000\n",
       "cotisations    0.453172\n",
       "aides          0.394641\n",
       "prestations    0.391978\n",
       "charges        0.380328\n",
       "nationalite    0.363636\n",
       "ensemble       0.357605\n",
       "francaise      0.353535\n",
       "attribuees     0.345061\n",
       "citoyens       0.337107\n",
       "Name: sociales, dtype: float32"
      ]
     },
     "metadata": {},
     "output_type": "display_data"
    },
    {
     "name": "stdout",
     "output_type": "stream",
     "text": [
      "aide\n"
     ]
    },
    {
     "data": {
      "text/plain": [
       "aide        1.000000\n",
       "medicale    0.885077\n",
       "sociale     0.514693\n",
       "agees       0.355224\n",
       "garde       0.345395\n",
       "logement    0.339679\n",
       "gratuite    0.331476\n",
       "demande     0.330330\n",
       "loyer       0.329577\n",
       "social      0.329356\n",
       "Name: aide, dtype: float32"
      ]
     },
     "metadata": {},
     "output_type": "display_data"
    },
    {
     "name": "stdout",
     "output_type": "stream",
     "text": [
      "rsa\n"
     ]
    },
    {
     "data": {
      "text/plain": [
       "rsa             1.000000\n",
       "heures          0.509766\n",
       "semaine         0.482014\n",
       "travaux         0.418947\n",
       "interet         0.401760\n",
       "general         0.394316\n",
       "contrepartie    0.348299\n",
       "collectivite    0.344000\n",
       "cmu             0.319177\n",
       "beneficiaire    0.317949\n",
       "Name: rsa, dtype: float32"
      ]
     },
     "metadata": {},
     "output_type": "display_data"
    },
    {
     "name": "stdout",
     "output_type": "stream",
     "text": [
      "enfants\n"
     ]
    },
    {
     "data": {
      "text/plain": [
       "enfants        1.000000\n",
       "4              0.670232\n",
       "garde          0.667763\n",
       "3              0.658291\n",
       "education      0.591703\n",
       "ecole          0.589569\n",
       "choix          0.574576\n",
       "femmes         0.536946\n",
       "parents        0.533643\n",
       "delinquants    0.495627\n",
       "Name: enfants, dtype: float32"
      ]
     },
     "metadata": {},
     "output_type": "display_data"
    },
    {
     "name": "stdout",
     "output_type": "stream",
     "text": [
      "faut\n"
     ]
    },
    {
     "data": {
      "text/plain": [
       "faut          1.000000\n",
       "simplifier    0.368313\n",
       "arreter       0.361809\n",
       "sortir        0.338926\n",
       "trouver       0.329016\n",
       "remettre      0.319481\n",
       "aider         0.313931\n",
       "creer         0.296128\n",
       "aller         0.288889\n",
       "systeme       0.281867\n",
       "Name: faut, dtype: float32"
      ]
     },
     "metadata": {},
     "output_type": "display_data"
    },
    {
     "name": "stdout",
     "output_type": "stream",
     "text": [
      "travail\n"
     ]
    },
    {
     "data": {
      "text/plain": [
       "travail      1.000000\n",
       "noir         0.733333\n",
       "chercher     0.562310\n",
       "heures       0.515625\n",
       "retrouver    0.486486\n",
       "arrets       0.480211\n",
       "semaine      0.467626\n",
       "interet      0.458944\n",
       "trouver      0.435233\n",
       "general      0.422735\n",
       "Name: travail, dtype: float32"
      ]
     },
     "metadata": {},
     "output_type": "display_data"
    },
    {
     "name": "stdout",
     "output_type": "stream",
     "text": [
      "revenus\n"
     ]
    },
    {
     "data": {
      "text/plain": [
       "revenus       1.000000\n",
       "hauts         0.713087\n",
       "fonction      0.438399\n",
       "patrimoine    0.408935\n",
       "eleves        0.364516\n",
       "foyer         0.347630\n",
       "compte        0.345667\n",
       "foyers        0.331565\n",
       "seuil         0.300403\n",
       "couple        0.254206\n",
       "Name: revenus, dtype: float32"
      ]
     },
     "metadata": {},
     "output_type": "display_data"
    },
    {
     "name": "stdout",
     "output_type": "stream",
     "text": [
      "allocation\n"
     ]
    },
    {
     "data": {
      "text/plain": [
       "allocation     1.000000\n",
       "familiale      0.558310\n",
       "isole          0.494090\n",
       "parent         0.438931\n",
       "fournitures    0.402655\n",
       "versee         0.397924\n",
       "rentree        0.387845\n",
       "scolaire       0.387743\n",
       "bons           0.315678\n",
       "scolaires      0.315359\n",
       "Name: allocation, dtype: float32"
      ]
     },
     "metadata": {},
     "output_type": "display_data"
    },
    {
     "name": "stdout",
     "output_type": "stream",
     "text": [
      "faire\n"
     ]
    },
    {
     "data": {
      "text/plain": [
       "faire        1.000000\n",
       "sorte        0.678689\n",
       "economies    0.459854\n",
       "payer        0.322172\n",
       "choix        0.276271\n",
       "paye         0.249400\n",
       "rester       0.246809\n",
       "frais        0.243902\n",
       "moyens       0.237261\n",
       "societe      0.222689\n",
       "Name: faire, dtype: float32"
      ]
     },
     "metadata": {},
     "output_type": "display_data"
    },
    {
     "name": "stdout",
     "output_type": "stream",
     "text": [
      "logement\n"
     ]
    },
    {
     "data": {
      "text/plain": [
       "logement      1.000000\n",
       "loyer         0.433803\n",
       "loyers        0.427928\n",
       "hlm           0.348285\n",
       "prix          0.339233\n",
       "etudiants     0.257919\n",
       "social        0.254177\n",
       "logements     0.230678\n",
       "sociaux       0.194962\n",
       "allocation    0.177109\n",
       "Name: logement, dtype: float32"
      ]
     },
     "metadata": {},
     "output_type": "display_data"
    },
    {
     "name": "stdout",
     "output_type": "stream",
     "text": [
      "apl\n"
     ]
    },
    {
     "data": {
      "text/plain": [
       "apl          1.000000\n",
       "loyers       0.522523\n",
       "loyer        0.433803\n",
       "etudiants    0.399698\n",
       "parents      0.151972\n",
       "logements    0.151011\n",
       "prime        0.142857\n",
       "augmenter    0.136026\n",
       "rsa          0.134545\n",
       "caf          0.133762\n",
       "Name: apl, dtype: float32"
      ]
     },
     "metadata": {},
     "output_type": "display_data"
    },
    {
     "name": "stdout",
     "output_type": "stream",
     "text": [
      "attribution\n"
     ]
    },
    {
     "data": {
      "text/plain": [
       "attribution    1.000000\n",
       "conditions     0.421504\n",
       "criteres       0.383041\n",
       "revoir         0.293462\n",
       "sociaux        0.208105\n",
       "logements      0.197384\n",
       "verifier       0.182580\n",
       "controler      0.169082\n",
       "controle       0.151549\n",
       "compte         0.147030\n",
       "Name: attribution, dtype: float32"
      ]
     },
     "metadata": {},
     "output_type": "display_data"
    },
    {
     "name": "stdout",
     "output_type": "stream",
     "text": [
      "emploi\n"
     ]
    },
    {
     "data": {
      "text/plain": [
       "emploi        1.000000\n",
       "pole          0.967442\n",
       "recherche     0.716292\n",
       "demandeurs    0.439286\n",
       "retrouver     0.416988\n",
       "formation     0.399689\n",
       "trouver       0.360104\n",
       "obligation    0.267003\n",
       "inciter       0.266932\n",
       "emplois       0.245136\n",
       "Name: emploi, dtype: float32"
      ]
     },
     "metadata": {},
     "output_type": "display_data"
    },
    {
     "name": "stdout",
     "output_type": "stream",
     "text": [
      "revenu\n"
     ]
    },
    {
     "data": {
      "text/plain": [
       "revenu        1.000000\n",
       "universel     0.908555\n",
       "fiscal        0.395018\n",
       "base          0.380165\n",
       "impot         0.369760\n",
       "minimum       0.259762\n",
       "seuil         0.247984\n",
       "foyer         0.231377\n",
       "solidarite    0.222958\n",
       "niveau        0.207675\n",
       "Name: revenu, dtype: float32"
      ]
     },
     "metadata": {},
     "output_type": "display_data"
    },
    {
     "name": "stdout",
     "output_type": "stream",
     "text": [
      "revoir\n"
     ]
    },
    {
     "data": {
      "text/plain": [
       "revoir          1.000000\n",
       "attribution     0.279745\n",
       "attributions    0.279026\n",
       "conditions      0.276587\n",
       "baisse          0.238411\n",
       "politique       0.195122\n",
       "systeme         0.167564\n",
       "faut            0.157044\n",
       "faudrait        0.150888\n",
       "sociaux         0.118291\n",
       "Name: revoir, dtype: float32"
      ]
     },
     "metadata": {},
     "output_type": "display_data"
    },
    {
     "name": "stdout",
     "output_type": "stream",
     "text": [
      "conditions\n"
     ]
    },
    {
     "data": {
      "text/plain": [
       "conditions      1.000000\n",
       "attribution     0.383144\n",
       "ressources      0.381239\n",
       "attributions    0.368914\n",
       "revoir          0.263744\n",
       "acces           0.184725\n",
       "faudrait        0.132150\n",
       "mettre          0.124736\n",
       "minimum         0.112903\n",
       "faut            0.108789\n",
       "Name: conditions, dtype: float32"
      ]
     },
     "metadata": {},
     "output_type": "display_data"
    }
   ],
   "source": [
    "for i in df_qu_5_one_hot.sum(axis=0).sort_values(ascending=False).head(20).index:\n",
    "    print(i)\n",
    "    display(df_confidence_5[i].sort_values(ascending=False).head(10))"
   ]
  },
  {
   "cell_type": "code",
   "execution_count": 39,
   "metadata": {
    "scrolled": true
   },
   "outputs": [
    {
     "name": "stdout",
     "output_type": "stream",
     "text": [
      "aides\n"
     ]
    },
    {
     "data": {
      "text/plain": [
       "aides         0.000065\n",
       "sociales      0.000059\n",
       "regrouper     0.000051\n",
       "cumul         0.000049\n",
       "accordees     0.000047\n",
       "ensemble      0.000044\n",
       "gestion       0.000043\n",
       "attribuees    0.000042\n",
       "donnees       0.000042\n",
       "vivre         0.000041\n",
       "Name: aides, dtype: float32"
      ]
     },
     "metadata": {},
     "output_type": "display_data"
    },
    {
     "name": "stdout",
     "output_type": "stream",
     "text": [
      "allocations\n"
     ]
    },
    {
     "data": {
      "text/plain": [
       "allocations     0.000089\n",
       "familiales      0.000082\n",
       "plafonnees      0.000066\n",
       "chomages        0.000065\n",
       "aisees          0.000059\n",
       "enfant          0.000054\n",
       "plafonnement    0.000053\n",
       "4               0.000053\n",
       "aises           0.000051\n",
       "3               0.000051\n",
       "Name: allocations, dtype: float32"
      ]
     },
     "metadata": {},
     "output_type": "display_data"
    },
    {
     "name": "stdout",
     "output_type": "stream",
     "text": [
      "familiales\n"
     ]
    },
    {
     "data": {
      "text/plain": [
       "familiales     0.000113\n",
       "allocations    0.000082\n",
       "plafonnees     0.000074\n",
       "aisees         0.000068\n",
       "enfant         0.000062\n",
       "aises          0.000060\n",
       "foyers         0.000059\n",
       "4              0.000058\n",
       "menages        0.000058\n",
       "supprimees     0.000058\n",
       "Name: familiales, dtype: float32"
      ]
     },
     "metadata": {},
     "output_type": "display_data"
    },
    {
     "name": "stdout",
     "output_type": "stream",
     "text": [
      "chomage\n"
     ]
    },
    {
     "data": {
      "text/plain": [
       "chomage          0.000128\n",
       "indemnisation    0.000108\n",
       "indemnite        0.000106\n",
       "indemnites       0.000103\n",
       "assurance        0.000101\n",
       "duree            0.000081\n",
       "chomeur          0.000072\n",
       "longue           0.000068\n",
       "periode          0.000067\n",
       "6                0.000065\n",
       "Name: chomage, dtype: float32"
      ]
     },
     "metadata": {},
     "output_type": "display_data"
    },
    {
     "name": "stdout",
     "output_type": "stream",
     "text": [
      "sociales\n"
     ]
    },
    {
     "data": {
      "text/plain": [
       "sociales       0.000150\n",
       "cotisations    0.000068\n",
       "aides          0.000059\n",
       "prestations    0.000059\n",
       "charges        0.000057\n",
       "nationalite    0.000055\n",
       "ensemble       0.000054\n",
       "francaise      0.000053\n",
       "attribuees     0.000052\n",
       "citoyens       0.000051\n",
       "Name: sociales, dtype: float32"
      ]
     },
     "metadata": {},
     "output_type": "display_data"
    },
    {
     "name": "stdout",
     "output_type": "stream",
     "text": [
      "aide\n"
     ]
    },
    {
     "data": {
      "text/plain": [
       "aide        0.000172\n",
       "medicale    0.000153\n",
       "sociale     0.000089\n",
       "agees       0.000061\n",
       "garde       0.000060\n",
       "logement    0.000059\n",
       "gratuite    0.000057\n",
       "demande     0.000057\n",
       "loyer       0.000057\n",
       "social      0.000057\n",
       "Name: aide, dtype: float32"
      ]
     },
     "metadata": {},
     "output_type": "display_data"
    },
    {
     "name": "stdout",
     "output_type": "stream",
     "text": [
      "rsa\n"
     ]
    },
    {
     "data": {
      "text/plain": [
       "rsa             0.000182\n",
       "heures          0.000093\n",
       "semaine         0.000088\n",
       "travaux         0.000076\n",
       "interet         0.000073\n",
       "general         0.000072\n",
       "contrepartie    0.000063\n",
       "collectivite    0.000063\n",
       "cmu             0.000058\n",
       "beneficiaire    0.000058\n",
       "Name: rsa, dtype: float32"
      ]
     },
     "metadata": {},
     "output_type": "display_data"
    },
    {
     "name": "stdout",
     "output_type": "stream",
     "text": [
      "enfants\n"
     ]
    },
    {
     "data": {
      "text/plain": [
       "enfants        0.000205\n",
       "4              0.000138\n",
       "garde          0.000137\n",
       "3              0.000135\n",
       "education      0.000121\n",
       "ecole          0.000121\n",
       "choix          0.000118\n",
       "femmes         0.000110\n",
       "parents        0.000109\n",
       "delinquants    0.000102\n",
       "Name: enfants, dtype: float32"
      ]
     },
     "metadata": {},
     "output_type": "display_data"
    },
    {
     "name": "stdout",
     "output_type": "stream",
     "text": [
      "faut\n"
     ]
    },
    {
     "data": {
      "text/plain": [
       "faut          0.000215\n",
       "simplifier    0.000079\n",
       "arreter       0.000078\n",
       "sortir        0.000073\n",
       "trouver       0.000071\n",
       "remettre      0.000069\n",
       "aider         0.000068\n",
       "creer         0.000064\n",
       "aller         0.000062\n",
       "systeme       0.000061\n",
       "Name: faut, dtype: float32"
      ]
     },
     "metadata": {},
     "output_type": "display_data"
    },
    {
     "name": "stdout",
     "output_type": "stream",
     "text": [
      "travail\n"
     ]
    },
    {
     "data": {
      "text/plain": [
       "travail      0.000247\n",
       "noir         0.000181\n",
       "chercher     0.000139\n",
       "heures       0.000127\n",
       "retrouver    0.000120\n",
       "arrets       0.000119\n",
       "semaine      0.000116\n",
       "interet      0.000113\n",
       "trouver      0.000108\n",
       "general      0.000104\n",
       "Name: travail, dtype: float32"
      ]
     },
     "metadata": {},
     "output_type": "display_data"
    },
    {
     "name": "stdout",
     "output_type": "stream",
     "text": [
      "revenus\n"
     ]
    },
    {
     "data": {
      "text/plain": [
       "revenus       0.000263\n",
       "hauts         0.000188\n",
       "fonction      0.000115\n",
       "patrimoine    0.000108\n",
       "eleves        0.000096\n",
       "foyer         0.000091\n",
       "compte        0.000091\n",
       "foyers        0.000087\n",
       "seuil         0.000079\n",
       "couple        0.000067\n",
       "Name: revenus, dtype: float32"
      ]
     },
     "metadata": {},
     "output_type": "display_data"
    },
    {
     "name": "stdout",
     "output_type": "stream",
     "text": [
      "allocation\n"
     ]
    },
    {
     "data": {
      "text/plain": [
       "allocation     0.000271\n",
       "familiale      0.000151\n",
       "isole          0.000134\n",
       "parent         0.000119\n",
       "fournitures    0.000109\n",
       "versee         0.000108\n",
       "rentree        0.000105\n",
       "scolaire       0.000105\n",
       "bons           0.000086\n",
       "scolaires      0.000086\n",
       "Name: allocation, dtype: float32"
      ]
     },
     "metadata": {},
     "output_type": "display_data"
    },
    {
     "name": "stdout",
     "output_type": "stream",
     "text": [
      "faire\n"
     ]
    },
    {
     "data": {
      "text/plain": [
       "faire        0.000317\n",
       "sorte        0.000215\n",
       "economies    0.000146\n",
       "payer        0.000102\n",
       "choix        0.000088\n",
       "paye         0.000079\n",
       "rester       0.000078\n",
       "frais        0.000077\n",
       "moyens       0.000075\n",
       "societe      0.000071\n",
       "Name: faire, dtype: float32"
      ]
     },
     "metadata": {},
     "output_type": "display_data"
    },
    {
     "name": "stdout",
     "output_type": "stream",
     "text": [
      "logement\n"
     ]
    },
    {
     "data": {
      "text/plain": [
       "logement      0.000334\n",
       "loyer         0.000145\n",
       "loyers        0.000143\n",
       "hlm           0.000116\n",
       "prix          0.000113\n",
       "etudiants     0.000086\n",
       "social        0.000085\n",
       "logements     0.000077\n",
       "sociaux       0.000065\n",
       "allocation    0.000059\n",
       "Name: logement, dtype: float32"
      ]
     },
     "metadata": {},
     "output_type": "display_data"
    },
    {
     "name": "stdout",
     "output_type": "stream",
     "text": [
      "apl\n"
     ]
    },
    {
     "data": {
      "text/plain": [
       "apl          0.000352\n",
       "loyers       0.000184\n",
       "loyer        0.000153\n",
       "etudiants    0.000141\n",
       "parents      0.000054\n",
       "logements    0.000053\n",
       "prime        0.000050\n",
       "augmenter    0.000048\n",
       "rsa          0.000047\n",
       "caf          0.000047\n",
       "Name: apl, dtype: float32"
      ]
     },
     "metadata": {},
     "output_type": "display_data"
    },
    {
     "name": "stdout",
     "output_type": "stream",
     "text": [
      "attribution\n"
     ]
    },
    {
     "data": {
      "text/plain": [
       "attribution    0.000354\n",
       "conditions     0.000149\n",
       "criteres       0.000136\n",
       "revoir         0.000104\n",
       "sociaux        0.000074\n",
       "logements      0.000070\n",
       "verifier       0.000065\n",
       "controler      0.000060\n",
       "controle       0.000054\n",
       "compte         0.000052\n",
       "Name: attribution, dtype: float32"
      ]
     },
     "metadata": {},
     "output_type": "display_data"
    },
    {
     "name": "stdout",
     "output_type": "stream",
     "text": [
      "emploi\n"
     ]
    },
    {
     "data": {
      "text/plain": [
       "emploi        0.000365\n",
       "pole          0.000354\n",
       "recherche     0.000262\n",
       "demandeurs    0.000161\n",
       "retrouver     0.000152\n",
       "formation     0.000146\n",
       "trouver       0.000132\n",
       "obligation    0.000098\n",
       "inciter       0.000098\n",
       "emplois       0.000090\n",
       "Name: emploi, dtype: float32"
      ]
     },
     "metadata": {},
     "output_type": "display_data"
    },
    {
     "name": "stdout",
     "output_type": "stream",
     "text": [
      "revenu\n"
     ]
    },
    {
     "data": {
      "text/plain": [
       "revenu        0.000368\n",
       "universel     0.000334\n",
       "fiscal        0.000145\n",
       "base          0.000140\n",
       "impot         0.000136\n",
       "minimum       0.000096\n",
       "seuil         0.000091\n",
       "foyer         0.000085\n",
       "solidarite    0.000082\n",
       "niveau        0.000076\n",
       "Name: revenu, dtype: float32"
      ]
     },
     "metadata": {},
     "output_type": "display_data"
    },
    {
     "name": "stdout",
     "output_type": "stream",
     "text": [
      "revoir\n"
     ]
    },
    {
     "data": {
      "text/plain": [
       "revoir          0.000371\n",
       "attribution     0.000104\n",
       "attributions    0.000104\n",
       "conditions      0.000103\n",
       "baisse          0.000089\n",
       "politique       0.000072\n",
       "systeme         0.000062\n",
       "faut            0.000058\n",
       "faudrait        0.000056\n",
       "sociaux         0.000044\n",
       "Name: revoir, dtype: float32"
      ]
     },
     "metadata": {},
     "output_type": "display_data"
    },
    {
     "name": "stdout",
     "output_type": "stream",
     "text": [
      "conditions\n"
     ]
    },
    {
     "data": {
      "text/plain": [
       "conditions      0.000390\n",
       "attribution     0.000149\n",
       "ressources      0.000149\n",
       "attributions    0.000144\n",
       "revoir          0.000103\n",
       "acces           0.000072\n",
       "faudrait        0.000051\n",
       "mettre          0.000049\n",
       "minimum         0.000044\n",
       "faut            0.000042\n",
       "Name: conditions, dtype: float32"
      ]
     },
     "metadata": {},
     "output_type": "display_data"
    }
   ],
   "source": [
    "for i in df_qu_5_one_hot.sum(axis=0).sort_values(ascending=False).head(20).index:\n",
    "    print(i)\n",
    "    display(df_lift_5[i].sort_values(ascending=False).head(10))"
   ]
  },
  {
   "cell_type": "code",
   "execution_count": 40,
   "metadata": {},
   "outputs": [
    {
     "data": {
      "text/plain": [
       "105"
      ]
     },
     "execution_count": 40,
     "metadata": {},
     "output_type": "execute_result"
    }
   ],
   "source": [
    "gc.collect()"
   ]
  },
  {
   "cell_type": "markdown",
   "metadata": {},
   "source": [
    "# Question 6 : Quels sont les domaines prioritaires où notre protection sociale doit être renforcée ?"
   ]
  },
  {
   "cell_type": "code",
   "execution_count": 41,
   "metadata": {
    "collapsed": true
   },
   "outputs": [],
   "source": [
    "question_6 = \"Quels sont les domaines prioritaires où notre protection sociale doit être renforcée ?\"\n",
    "qu_6,df_qu_6_one_hot,df_cov_6,df_confidence_6,df_lift_6 = compute_similarities(question_6, new_res)"
   ]
  },
  {
   "cell_type": "code",
   "execution_count": 42,
   "metadata": {
    "scrolled": true
   },
   "outputs": [
    {
     "name": "stdout",
     "output_type": "stream",
     "text": [
      "sante\n"
     ]
    },
    {
     "data": {
      "text/plain": [
       "sante         14508\n",
       "education      2012\n",
       "logement       1115\n",
       "retraite        986\n",
       "agees           647\n",
       "tous            645\n",
       "retraites       644\n",
       "soins           627\n",
       "dependance      617\n",
       "hopitaux        588\n",
       "Name: sante, dtype: uint16"
      ]
     },
     "metadata": {},
     "output_type": "display_data"
    },
    {
     "name": "stdout",
     "output_type": "stream",
     "text": [
      "agees\n"
     ]
    },
    {
     "data": {
      "text/plain": [
       "agees          4422\n",
       "aide            876\n",
       "sante           647\n",
       "dependantes     537\n",
       "dependance      523\n",
       "handicapes      502\n",
       "enfants         471\n",
       "charge          396\n",
       "aides           376\n",
       "handicapees     374\n",
       "Name: agees, dtype: uint16"
      ]
     },
     "metadata": {},
     "output_type": "display_data"
    },
    {
     "name": "stdout",
     "output_type": "stream",
     "text": [
      "aide\n"
     ]
    },
    {
     "data": {
      "text/plain": [
       "aide          3942\n",
       "agees          876\n",
       "logement       568\n",
       "sante          560\n",
       "enfance        537\n",
       "sociale        441\n",
       "enfants        431\n",
       "handicapes     370\n",
       "familles       274\n",
       "emploi         273\n",
       "Name: aide, dtype: uint16"
      ]
     },
     "metadata": {},
     "output_type": "display_data"
    },
    {
     "name": "stdout",
     "output_type": "stream",
     "text": [
      "sociale\n"
     ]
    },
    {
     "data": {
      "text/plain": [
       "sociale       3569\n",
       "protection    1840\n",
       "securite      1198\n",
       "sante          533\n",
       "aide           441\n",
       "faut           429\n",
       "france         369\n",
       "tous           346\n",
       "faire          285\n",
       "tout           274\n",
       "Name: sociale, dtype: uint16"
      ]
     },
     "metadata": {},
     "output_type": "display_data"
    },
    {
     "name": "stdout",
     "output_type": "stream",
     "text": [
      "logement\n"
     ]
    },
    {
     "data": {
      "text/plain": [
       "logement     3321\n",
       "sante        1115\n",
       "aide          568\n",
       "acces         299\n",
       "tous          297\n",
       "education     274\n",
       "aides         249\n",
       "social        184\n",
       "droit         180\n",
       "sociale       176\n",
       "Name: logement, dtype: uint16"
      ]
     },
     "metadata": {},
     "output_type": "display_data"
    },
    {
     "name": "stdout",
     "output_type": "stream",
     "text": [
      "protection\n"
     ]
    },
    {
     "data": {
      "text/plain": [
       "protection    3295\n",
       "sociale       1840\n",
       "enfance        612\n",
       "sante          497\n",
       "faut           364\n",
       "enfants        323\n",
       "france         317\n",
       "agees          314\n",
       "pays           234\n",
       "monde          230\n",
       "Name: protection, dtype: uint16"
      ]
     },
     "metadata": {},
     "output_type": "display_data"
    },
    {
     "name": "stdout",
     "output_type": "stream",
     "text": [
      "retraite\n"
     ]
    },
    {
     "data": {
      "text/plain": [
       "retraite     3133\n",
       "sante         986\n",
       "maisons       530\n",
       "retraites     403\n",
       "agees         357\n",
       "vie           353\n",
       "maison        351\n",
       "aide          258\n",
       "chomage       248\n",
       "tous          247\n",
       "Name: retraite, dtype: uint16"
      ]
     },
     "metadata": {},
     "output_type": "display_data"
    },
    {
     "name": "stdout",
     "output_type": "stream",
     "text": [
      "retraites\n"
     ]
    },
    {
     "data": {
      "text/plain": [
       "retraites     3068\n",
       "sante          644\n",
       "petites        427\n",
       "retraite       403\n",
       "vie            379\n",
       "maisons        273\n",
       "aide           262\n",
       "handicapes     241\n",
       "tous           236\n",
       "sociale        231\n",
       "Name: retraites, dtype: uint16"
      ]
     },
     "metadata": {},
     "output_type": "display_data"
    },
    {
     "name": "stdout",
     "output_type": "stream",
     "text": [
      "education\n"
     ]
    },
    {
     "data": {
      "text/plain": [
       "education     3018\n",
       "sante         2012\n",
       "logement       274\n",
       "enfants        219\n",
       "enfance        209\n",
       "formation      190\n",
       "securite       186\n",
       "tous           174\n",
       "aide           173\n",
       "protection     159\n",
       "Name: education, dtype: uint16"
      ]
     },
     "metadata": {},
     "output_type": "display_data"
    },
    {
     "name": "stdout",
     "output_type": "stream",
     "text": [
      "dependance\n"
     ]
    },
    {
     "data": {
      "text/plain": [
       "dependance    2851\n",
       "sante          617\n",
       "agees          523\n",
       "handicap       330\n",
       "charge         231\n",
       "aide           231\n",
       "prise          210\n",
       "vieillesse     192\n",
       "retraite       184\n",
       "age            172\n",
       "Name: dependance, dtype: uint16"
      ]
     },
     "metadata": {},
     "output_type": "display_data"
    },
    {
     "name": "stdout",
     "output_type": "stream",
     "text": [
      "enfants\n"
     ]
    },
    {
     "data": {
      "text/plain": [
       "enfants       2520\n",
       "agees          471\n",
       "femmes         466\n",
       "aide           431\n",
       "seules         365\n",
       "handicapes     333\n",
       "protection     323\n",
       "parents        300\n",
       "sante          282\n",
       "aides          271\n",
       "Name: enfants, dtype: uint16"
      ]
     },
     "metadata": {},
     "output_type": "display_data"
    },
    {
     "name": "stdout",
     "output_type": "stream",
     "text": [
      "handicap\n"
     ]
    },
    {
     "data": {
      "text/plain": [
       "handicap      2462\n",
       "sante          507\n",
       "dependance     330\n",
       "agees          303\n",
       "vieillesse     278\n",
       "enfance        250\n",
       "situation      241\n",
       "aide           217\n",
       "maladie        203\n",
       "enfants        169\n",
       "Name: handicap, dtype: uint16"
      ]
     },
     "metadata": {},
     "output_type": "display_data"
    },
    {
     "name": "stdout",
     "output_type": "stream",
     "text": [
      "enfance\n"
     ]
    },
    {
     "data": {
      "text/plain": [
       "enfance       2406\n",
       "protection     612\n",
       "aide           537\n",
       "sante          439\n",
       "agees          365\n",
       "petite         293\n",
       "handicap       250\n",
       "education      209\n",
       "enfants        186\n",
       "sociale        186\n",
       "Name: enfance, dtype: uint16"
      ]
     },
     "metadata": {},
     "output_type": "display_data"
    },
    {
     "name": "stdout",
     "output_type": "stream",
     "text": [
      "tous\n"
     ]
    },
    {
     "data": {
      "text/plain": [
       "tous          2343\n",
       "sante          645\n",
       "sociale        346\n",
       "soins          333\n",
       "logement       297\n",
       "acces          255\n",
       "retraite       247\n",
       "faut           246\n",
       "retraites      236\n",
       "protection     230\n",
       "Name: tous, dtype: uint16"
      ]
     },
     "metadata": {},
     "output_type": "display_data"
    },
    {
     "name": "stdout",
     "output_type": "stream",
     "text": [
      "aides\n"
     ]
    },
    {
     "data": {
      "text/plain": [
       "aides        2289\n",
       "agees         376\n",
       "sociales      344\n",
       "sante         303\n",
       "enfants       271\n",
       "aide          266\n",
       "logement      249\n",
       "faut          222\n",
       "sociale       218\n",
       "retraites     203\n",
       "Name: aides, dtype: uint16"
      ]
     },
     "metadata": {},
     "output_type": "display_data"
    },
    {
     "name": "stdout",
     "output_type": "stream",
     "text": [
      "soins\n"
     ]
    },
    {
     "data": {
      "text/plain": [
       "soins            2273\n",
       "sante             627\n",
       "acces             569\n",
       "dentaires         545\n",
       "tous              333\n",
       "charge            278\n",
       "remboursement     266\n",
       "medicaux          214\n",
       "lunettes          211\n",
       "sociale           206\n",
       "Name: soins, dtype: uint16"
      ]
     },
     "metadata": {},
     "output_type": "display_data"
    },
    {
     "name": "stdout",
     "output_type": "stream",
     "text": [
      "handicapes\n"
     ]
    },
    {
     "data": {
      "text/plain": [
       "handicapes    1957\n",
       "agees          502\n",
       "aide           370\n",
       "enfants        333\n",
       "retraites      241\n",
       "sante          183\n",
       "aides          173\n",
       "protection     124\n",
       "familles       123\n",
       "charge         122\n",
       "Name: handicapes, dtype: uint16"
      ]
     },
     "metadata": {},
     "output_type": "display_data"
    },
    {
     "name": "stdout",
     "output_type": "stream",
     "text": [
      "charge\n"
     ]
    },
    {
     "data": {
      "text/plain": [
       "charge        1926\n",
       "prise         1264\n",
       "sante          518\n",
       "agees          396\n",
       "soins          278\n",
       "enfants        238\n",
       "sociale        236\n",
       "dependance     231\n",
       "aide           187\n",
       "retraite       181\n",
       "Name: charge, dtype: uint16"
      ]
     },
     "metadata": {},
     "output_type": "display_data"
    },
    {
     "name": "stdout",
     "output_type": "stream",
     "text": [
      "faut\n"
     ]
    },
    {
     "data": {
      "text/plain": [
       "faut          1925\n",
       "sociale        429\n",
       "sante          402\n",
       "protection     364\n",
       "faire          270\n",
       "tous           246\n",
       "tout           243\n",
       "aides          222\n",
       "aide           213\n",
       "systeme        197\n",
       "Name: faut, dtype: uint16"
      ]
     },
     "metadata": {},
     "output_type": "display_data"
    },
    {
     "name": "stdout",
     "output_type": "stream",
     "text": [
      "vie\n"
     ]
    },
    {
     "data": {
      "text/plain": [
       "vie          1856\n",
       "fin           382\n",
       "retraites     379\n",
       "sante         366\n",
       "retraite      353\n",
       "aide          257\n",
       "agees         252\n",
       "tous          224\n",
       "tout          212\n",
       "sociale       211\n",
       "Name: vie, dtype: uint16"
      ]
     },
     "metadata": {},
     "output_type": "display_data"
    }
   ],
   "source": [
    "for i in df_qu_6_one_hot.sum(axis=0).sort_values(ascending=False).head(20).index:\n",
    "    print(i)\n",
    "    display(df_cov_6[i].sort_values(ascending=False).head(10))"
   ]
  },
  {
   "cell_type": "code",
   "execution_count": 43,
   "metadata": {
    "scrolled": true
   },
   "outputs": [
    {
     "name": "stdout",
     "output_type": "stream",
     "text": [
      "sante\n"
     ]
    },
    {
     "data": {
      "text/plain": [
       "sante         1.000000\n",
       "education     0.666667\n",
       "justice       0.584577\n",
       "publique      0.556291\n",
       "prevention    0.494845\n",
       "medecins      0.484502\n",
       "soigner       0.484472\n",
       "ecole         0.468421\n",
       "domaine       0.456491\n",
       "nationale     0.444015\n",
       "Name: sante, dtype: float32"
      ]
     },
     "metadata": {},
     "output_type": "display_data"
    },
    {
     "name": "stdout",
     "output_type": "stream",
     "text": [
      "agees\n"
     ]
    },
    {
     "data": {
      "text/plain": [
       "agees          1.000000\n",
       "dependantes    0.710317\n",
       "isolees        0.470588\n",
       "handicapees    0.440000\n",
       "domicile       0.427885\n",
       "maintien       0.425170\n",
       "ephad          0.316770\n",
       "ehpad          0.296343\n",
       "accueil        0.294798\n",
       "maison         0.263158\n",
       "Name: agees, dtype: float32"
      ]
     },
     "metadata": {},
     "output_type": "display_data"
    },
    {
     "name": "stdout",
     "output_type": "stream",
     "text": [
      "aide\n"
     ]
    },
    {
     "data": {
      "text/plain": [
       "aide           1.000000\n",
       "domicile       0.330128\n",
       "demunis        0.322115\n",
       "dependantes    0.244709\n",
       "familles       0.242693\n",
       "etudiants      0.238182\n",
       "enfance        0.223192\n",
       "emploi         0.215130\n",
       "handicapees    0.210588\n",
       "parents        0.208398\n",
       "Name: aide, dtype: float32"
      ]
     },
     "metadata": {},
     "output_type": "display_data"
    },
    {
     "name": "stdout",
     "output_type": "stream",
     "text": [
      "sociale\n"
     ]
    },
    {
     "data": {
      "text/plain": [
       "sociale       1.000000\n",
       "securite      0.702639\n",
       "protection    0.558422\n",
       "renforcee     0.511450\n",
       "bonne         0.484940\n",
       "renforcer     0.355522\n",
       "france        0.314846\n",
       "pays          0.311927\n",
       "monde         0.308767\n",
       "mutuelles     0.283333\n",
       "Name: sociale, dtype: float32"
      ]
     },
     "metadata": {},
     "output_type": "display_data"
    },
    {
     "name": "stdout",
     "output_type": "stream",
     "text": [
      "logement\n"
     ]
    },
    {
     "data": {
      "text/plain": [
       "logement     1.000000\n",
       "logements    0.342553\n",
       "social       0.278366\n",
       "droit        0.265487\n",
       "rue          0.230769\n",
       "acces        0.221154\n",
       "demunis      0.189103\n",
       "sdf          0.156118\n",
       "aide         0.144089\n",
       "emploi       0.130812\n",
       "Name: logement, dtype: float32"
      ]
     },
     "metadata": {},
     "output_type": "display_data"
    },
    {
     "name": "stdout",
     "output_type": "stream",
     "text": [
      "protection\n"
     ]
    },
    {
     "data": {
      "text/plain": [
       "protection    1.000000\n",
       "renforcee     0.544529\n",
       "sociale       0.515551\n",
       "bonne         0.472892\n",
       "renforcer     0.340393\n",
       "meilleure     0.303704\n",
       "monde         0.292249\n",
       "france        0.270478\n",
       "pays          0.268349\n",
       "niveau        0.256499\n",
       "Name: protection, dtype: float32"
      ]
     },
     "metadata": {},
     "output_type": "display_data"
    },
    {
     "name": "stdout",
     "output_type": "stream",
     "text": [
      "retraite\n"
     ]
    },
    {
     "data": {
      "text/plain": [
       "retraite     1.000000\n",
       "maison       0.769737\n",
       "maisons      0.630952\n",
       "pensions     0.387097\n",
       "travaille    0.329146\n",
       "cout         0.246998\n",
       "payer        0.219325\n",
       "ans          0.215333\n",
       "minimum      0.195437\n",
       "mois         0.193858\n",
       "Name: retraite, dtype: float32"
      ]
     },
     "metadata": {},
     "output_type": "display_data"
    },
    {
     "name": "stdout",
     "output_type": "stream",
     "text": [
      "retraites\n"
     ]
    },
    {
     "data": {
      "text/plain": [
       "retraites    1.000000\n",
       "petites      0.818008\n",
       "inflation    0.732558\n",
       "pensions     0.419355\n",
       "petits       0.372694\n",
       "maisons      0.325000\n",
       "travaille    0.324121\n",
       "cout         0.308748\n",
       "salaires     0.308311\n",
       "euros        0.305785\n",
       "Name: retraites, dtype: float32"
      ]
     },
     "metadata": {},
     "output_type": "display_data"
    },
    {
     "name": "stdout",
     "output_type": "stream",
     "text": [
      "education\n"
     ]
    },
    {
     "data": {
      "text/plain": [
       "education    1.000000\n",
       "nationale    0.571429\n",
       "justice      0.343284\n",
       "formation    0.220674\n",
       "sante        0.138682\n",
       "securite     0.109091\n",
       "acces        0.106509\n",
       "enfants      0.086905\n",
       "enfance      0.086866\n",
       "logement     0.082505\n",
       "Name: education, dtype: float32"
      ]
     },
     "metadata": {},
     "output_type": "display_data"
    },
    {
     "name": "stdout",
     "output_type": "stream",
     "text": [
      "dependance\n"
     ]
    },
    {
     "data": {
      "text/plain": [
       "dependance    1.000000\n",
       "age           0.185946\n",
       "grande        0.180301\n",
       "prise         0.149254\n",
       "ehpad         0.136192\n",
       "handicap      0.134037\n",
       "charge        0.119938\n",
       "agees         0.118272\n",
       "vieillesse    0.106019\n",
       "maladie       0.064910\n",
       "Name: dependance, dtype: float32"
      ]
     },
     "metadata": {},
     "output_type": "display_data"
    },
    {
     "name": "stdout",
     "output_type": "stream",
     "text": [
      "enfants\n"
     ]
    },
    {
     "data": {
      "text/plain": [
       "enfants       1.000000\n",
       "femmes        0.531357\n",
       "seules        0.497275\n",
       "parents       0.466563\n",
       "familles      0.235607\n",
       "enfant        0.208791\n",
       "aider         0.177150\n",
       "handicapes    0.170158\n",
       "situation     0.160661\n",
       "ans           0.158963\n",
       "Name: enfants, dtype: float32"
      ]
     },
     "metadata": {},
     "output_type": "display_data"
    },
    {
     "name": "stdout",
     "output_type": "stream",
     "text": [
      "handicap\n"
     ]
    },
    {
     "data": {
      "text/plain": [
       "handicap      1.000000\n",
       "situation     0.361862\n",
       "vieillesse    0.153506\n",
       "maladie       0.130463\n",
       "age           0.120000\n",
       "dependance    0.115749\n",
       "enfance       0.103907\n",
       "prise         0.084577\n",
       "charge        0.078920\n",
       "agees         0.068521\n",
       "Name: handicap, dtype: float32"
      ]
     },
     "metadata": {},
     "output_type": "display_data"
    },
    {
     "name": "stdout",
     "output_type": "stream",
     "text": [
      "enfance\n"
     ]
    },
    {
     "data": {
      "text/plain": [
       "enfance       1.000000\n",
       "petite        0.767016\n",
       "protection    0.185736\n",
       "aide          0.136225\n",
       "handicap      0.101543\n",
       "agees         0.082542\n",
       "vieillesse    0.082275\n",
       "enfants       0.073810\n",
       "education     0.069251\n",
       "handicapes    0.060807\n",
       "Name: enfance, dtype: float32"
      ]
     },
     "metadata": {},
     "output_type": "display_data"
    },
    {
     "name": "stdout",
     "output_type": "stream",
     "text": [
      "tous\n"
     ]
    },
    {
     "data": {
      "text/plain": [
       "tous        1.000000\n",
       "domaines    0.447084\n",
       "ans         0.200676\n",
       "mois        0.199616\n",
       "droit       0.197640\n",
       "services    0.194231\n",
       "acces       0.188609\n",
       "francais    0.177936\n",
       "pouvoir     0.168421\n",
       "faire       0.157856\n",
       "Name: tous, dtype: float32"
      ]
     },
     "metadata": {},
     "output_type": "display_data"
    },
    {
     "name": "stdout",
     "output_type": "stream",
     "text": [
      "aides\n"
     ]
    },
    {
     "data": {
      "text/plain": [
       "aides          1.000000\n",
       "sociales       0.488636\n",
       "domicile       0.235577\n",
       "besoin         0.203774\n",
       "revenu         0.150498\n",
       "revenus        0.136076\n",
       "handicapees    0.125882\n",
       "francais       0.123369\n",
       "faut           0.115325\n",
       "faire          0.115272\n",
       "Name: aides, dtype: float32"
      ]
     },
     "metadata": {},
     "output_type": "display_data"
    },
    {
     "name": "stdout",
     "output_type": "stream",
     "text": [
      "soins\n"
     ]
    },
    {
     "data": {
      "text/plain": [
       "soins            1.000000\n",
       "dentaires        0.626437\n",
       "acces            0.420858\n",
       "qualite          0.356401\n",
       "medicaux         0.349103\n",
       "remboursement    0.334171\n",
       "lunettes         0.322137\n",
       "medicaments      0.252772\n",
       "medecins         0.185971\n",
       "charge           0.144341\n",
       "Name: soins, dtype: float32"
      ]
     },
     "metadata": {},
     "output_type": "display_data"
    },
    {
     "name": "stdout",
     "output_type": "stream",
     "text": [
      "handicapes\n"
     ]
    },
    {
     "data": {
      "text/plain": [
       "handicapes    1.000000\n",
       "enfants       0.132143\n",
       "agees         0.113523\n",
       "familles      0.108946\n",
       "aide          0.093861\n",
       "retraites     0.078553\n",
       "aides         0.075579\n",
       "charge        0.063344\n",
       "enfance       0.049460\n",
       "protection    0.037633\n",
       "Name: handicapes, dtype: float32"
      ]
     },
     "metadata": {},
     "output_type": "display_data"
    },
    {
     "name": "stdout",
     "output_type": "stream",
     "text": [
      "charge\n"
     ]
    },
    {
     "data": {
      "text/plain": [
       "charge       1.000000\n",
       "prise        0.898365\n",
       "prendre      0.373178\n",
       "meilleure    0.298765\n",
       "frais        0.210037\n",
       "maladies     0.168558\n",
       "dentaires    0.149425\n",
       "ehpad        0.145019\n",
       "soins        0.122305\n",
       "age          0.110270\n",
       "Name: charge, dtype: float32"
      ]
     },
     "metadata": {},
     "output_type": "display_data"
    },
    {
     "name": "stdout",
     "output_type": "stream",
     "text": [
      "faut\n"
     ]
    },
    {
     "data": {
      "text/plain": [
       "faut         1.000000\n",
       "renforcer    0.295008\n",
       "mettre       0.265700\n",
       "systeme      0.199191\n",
       "faire        0.198238\n",
       "aider        0.196406\n",
       "mieux        0.192708\n",
       "depenses     0.187611\n",
       "pouvoir      0.177444\n",
       "moyens       0.173554\n",
       "Name: faut, dtype: float32"
      ]
     },
     "metadata": {},
     "output_type": "display_data"
    },
    {
     "name": "stdout",
     "output_type": "stream",
     "text": [
      "vie\n"
     ]
    },
    {
     "data": {
      "text/plain": [
       "vie          1.000000\n",
       "fin          0.697080\n",
       "travaille    0.452261\n",
       "cout         0.349914\n",
       "pouvoir      0.201504\n",
       "vivre        0.186978\n",
       "tout         0.139199\n",
       "aider        0.133504\n",
       "ans          0.127396\n",
       "retraites    0.123533\n",
       "Name: vie, dtype: float32"
      ]
     },
     "metadata": {},
     "output_type": "display_data"
    }
   ],
   "source": [
    "for i in df_qu_6_one_hot.sum(axis=0).sort_values(ascending=False).head(20).index:\n",
    "    print(i)\n",
    "    display(df_confidence_6[i].sort_values(ascending=False).head(10))"
   ]
  },
  {
   "cell_type": "code",
   "execution_count": 44,
   "metadata": {
    "scrolled": true
   },
   "outputs": [
    {
     "name": "stdout",
     "output_type": "stream",
     "text": [
      "sante\n"
     ]
    },
    {
     "data": {
      "text/plain": [
       "sante         0.000069\n",
       "education     0.000046\n",
       "justice       0.000040\n",
       "publique      0.000038\n",
       "prevention    0.000034\n",
       "medecins      0.000033\n",
       "soigner       0.000033\n",
       "ecole         0.000032\n",
       "domaine       0.000031\n",
       "nationale     0.000031\n",
       "Name: sante, dtype: float32"
      ]
     },
     "metadata": {},
     "output_type": "display_data"
    },
    {
     "name": "stdout",
     "output_type": "stream",
     "text": [
      "agees\n"
     ]
    },
    {
     "data": {
      "text/plain": [
       "agees          0.000226\n",
       "dependantes    0.000161\n",
       "isolees        0.000106\n",
       "handicapees    0.000100\n",
       "domicile       0.000097\n",
       "maintien       0.000096\n",
       "ephad          0.000072\n",
       "ehpad          0.000067\n",
       "accueil        0.000067\n",
       "maison         0.000060\n",
       "Name: agees, dtype: float32"
      ]
     },
     "metadata": {},
     "output_type": "display_data"
    },
    {
     "name": "stdout",
     "output_type": "stream",
     "text": [
      "aide\n"
     ]
    },
    {
     "data": {
      "text/plain": [
       "aide           0.000254\n",
       "domicile       0.000084\n",
       "demunis        0.000082\n",
       "dependantes    0.000062\n",
       "familles       0.000062\n",
       "etudiants      0.000060\n",
       "enfance        0.000057\n",
       "emploi         0.000055\n",
       "handicapees    0.000053\n",
       "parents        0.000053\n",
       "Name: aide, dtype: float32"
      ]
     },
     "metadata": {},
     "output_type": "display_data"
    },
    {
     "name": "stdout",
     "output_type": "stream",
     "text": [
      "sociale\n"
     ]
    },
    {
     "data": {
      "text/plain": [
       "sociale       0.000280\n",
       "securite      0.000197\n",
       "protection    0.000156\n",
       "renforcee     0.000143\n",
       "bonne         0.000136\n",
       "renforcer     0.000100\n",
       "france        0.000088\n",
       "pays          0.000087\n",
       "monde         0.000087\n",
       "mutuelles     0.000079\n",
       "Name: sociale, dtype: float32"
      ]
     },
     "metadata": {},
     "output_type": "display_data"
    },
    {
     "name": "stdout",
     "output_type": "stream",
     "text": [
      "logement\n"
     ]
    },
    {
     "data": {
      "text/plain": [
       "logement     0.000301\n",
       "logements    0.000103\n",
       "social       0.000084\n",
       "droit        0.000080\n",
       "rue          0.000069\n",
       "acces        0.000067\n",
       "demunis      0.000057\n",
       "sdf          0.000047\n",
       "aide         0.000043\n",
       "emploi       0.000039\n",
       "Name: logement, dtype: float32"
      ]
     },
     "metadata": {},
     "output_type": "display_data"
    },
    {
     "name": "stdout",
     "output_type": "stream",
     "text": [
      "protection\n"
     ]
    },
    {
     "data": {
      "text/plain": [
       "protection    0.000303\n",
       "renforcee     0.000165\n",
       "sociale       0.000156\n",
       "bonne         0.000144\n",
       "renforcer     0.000103\n",
       "meilleure     0.000092\n",
       "monde         0.000089\n",
       "france        0.000082\n",
       "pays          0.000081\n",
       "niveau        0.000078\n",
       "Name: protection, dtype: float32"
      ]
     },
     "metadata": {},
     "output_type": "display_data"
    },
    {
     "name": "stdout",
     "output_type": "stream",
     "text": [
      "retraite\n"
     ]
    },
    {
     "data": {
      "text/plain": [
       "retraite     0.000319\n",
       "maison       0.000246\n",
       "maisons      0.000201\n",
       "pensions     0.000124\n",
       "travaille    0.000105\n",
       "cout         0.000079\n",
       "payer        0.000070\n",
       "ans          0.000069\n",
       "minimum      0.000062\n",
       "mois         0.000062\n",
       "Name: retraite, dtype: float32"
      ]
     },
     "metadata": {},
     "output_type": "display_data"
    },
    {
     "name": "stdout",
     "output_type": "stream",
     "text": [
      "retraites\n"
     ]
    },
    {
     "data": {
      "text/plain": [
       "retraites    0.000326\n",
       "petites      0.000267\n",
       "inflation    0.000239\n",
       "pensions     0.000137\n",
       "petits       0.000121\n",
       "maisons      0.000106\n",
       "travaille    0.000106\n",
       "cout         0.000101\n",
       "salaires     0.000100\n",
       "euros        0.000100\n",
       "Name: retraites, dtype: float32"
      ]
     },
     "metadata": {},
     "output_type": "display_data"
    },
    {
     "name": "stdout",
     "output_type": "stream",
     "text": [
      "education\n"
     ]
    },
    {
     "data": {
      "text/plain": [
       "education    0.000331\n",
       "nationale    0.000189\n",
       "justice      0.000114\n",
       "formation    0.000073\n",
       "sante        0.000046\n",
       "securite     0.000036\n",
       "acces        0.000035\n",
       "enfants      0.000029\n",
       "enfance      0.000029\n",
       "logement     0.000027\n",
       "Name: education, dtype: float32"
      ]
     },
     "metadata": {},
     "output_type": "display_data"
    },
    {
     "name": "stdout",
     "output_type": "stream",
     "text": [
      "dependance\n"
     ]
    },
    {
     "data": {
      "text/plain": [
       "dependance    0.000351\n",
       "age           0.000065\n",
       "grande        0.000063\n",
       "prise         0.000052\n",
       "ehpad         0.000048\n",
       "handicap      0.000047\n",
       "charge        0.000042\n",
       "agees         0.000041\n",
       "vieillesse    0.000037\n",
       "maladie       0.000023\n",
       "Name: dependance, dtype: float32"
      ]
     },
     "metadata": {},
     "output_type": "display_data"
    },
    {
     "name": "stdout",
     "output_type": "stream",
     "text": [
      "enfants\n"
     ]
    },
    {
     "data": {
      "text/plain": [
       "enfants       0.000397\n",
       "femmes        0.000211\n",
       "seules        0.000197\n",
       "parents       0.000185\n",
       "familles      0.000093\n",
       "enfant        0.000083\n",
       "aider         0.000070\n",
       "handicapes    0.000068\n",
       "situation     0.000064\n",
       "ans           0.000063\n",
       "Name: enfants, dtype: float32"
      ]
     },
     "metadata": {},
     "output_type": "display_data"
    },
    {
     "name": "stdout",
     "output_type": "stream",
     "text": [
      "handicap\n"
     ]
    },
    {
     "data": {
      "text/plain": [
       "handicap      0.000406\n",
       "situation     0.000147\n",
       "vieillesse    0.000062\n",
       "maladie       0.000053\n",
       "age           0.000049\n",
       "dependance    0.000047\n",
       "enfance       0.000042\n",
       "prise         0.000034\n",
       "charge        0.000032\n",
       "agees         0.000028\n",
       "Name: handicap, dtype: float32"
      ]
     },
     "metadata": {},
     "output_type": "display_data"
    },
    {
     "name": "stdout",
     "output_type": "stream",
     "text": [
      "enfance\n"
     ]
    },
    {
     "data": {
      "text/plain": [
       "enfance       0.000416\n",
       "petite        0.000319\n",
       "protection    0.000077\n",
       "aide          0.000057\n",
       "handicap      0.000042\n",
       "agees         0.000034\n",
       "vieillesse    0.000034\n",
       "enfants       0.000031\n",
       "education     0.000029\n",
       "handicapes    0.000025\n",
       "Name: enfance, dtype: float32"
      ]
     },
     "metadata": {},
     "output_type": "display_data"
    },
    {
     "name": "stdout",
     "output_type": "stream",
     "text": [
      "tous\n"
     ]
    },
    {
     "data": {
      "text/plain": [
       "tous        0.000427\n",
       "domaines    0.000191\n",
       "ans         0.000086\n",
       "mois        0.000085\n",
       "droit       0.000084\n",
       "services    0.000083\n",
       "acces       0.000080\n",
       "francais    0.000076\n",
       "pouvoir     0.000072\n",
       "faire       0.000067\n",
       "Name: tous, dtype: float32"
      ]
     },
     "metadata": {},
     "output_type": "display_data"
    },
    {
     "name": "stdout",
     "output_type": "stream",
     "text": [
      "aides\n"
     ]
    },
    {
     "data": {
      "text/plain": [
       "aides          0.000437\n",
       "sociales       0.000213\n",
       "domicile       0.000103\n",
       "besoin         0.000089\n",
       "revenu         0.000066\n",
       "revenus        0.000059\n",
       "handicapees    0.000055\n",
       "francais       0.000054\n",
       "faut           0.000050\n",
       "faire          0.000050\n",
       "Name: aides, dtype: float32"
      ]
     },
     "metadata": {},
     "output_type": "display_data"
    },
    {
     "name": "stdout",
     "output_type": "stream",
     "text": [
      "soins\n"
     ]
    },
    {
     "data": {
      "text/plain": [
       "soins            0.000440\n",
       "dentaires        0.000276\n",
       "acces            0.000185\n",
       "qualite          0.000157\n",
       "medicaux         0.000154\n",
       "remboursement    0.000147\n",
       "lunettes         0.000142\n",
       "medicaments      0.000111\n",
       "medecins         0.000082\n",
       "charge           0.000064\n",
       "Name: soins, dtype: float32"
      ]
     },
     "metadata": {},
     "output_type": "display_data"
    },
    {
     "name": "stdout",
     "output_type": "stream",
     "text": [
      "handicapes\n"
     ]
    },
    {
     "data": {
      "text/plain": [
       "handicapes    0.000511\n",
       "enfants       0.000068\n",
       "agees         0.000058\n",
       "familles      0.000056\n",
       "aide          0.000048\n",
       "retraites     0.000040\n",
       "aides         0.000039\n",
       "charge        0.000032\n",
       "enfance       0.000025\n",
       "protection    0.000019\n",
       "Name: handicapes, dtype: float32"
      ]
     },
     "metadata": {},
     "output_type": "display_data"
    },
    {
     "name": "stdout",
     "output_type": "stream",
     "text": [
      "charge\n"
     ]
    },
    {
     "data": {
      "text/plain": [
       "charge       0.000519\n",
       "prise        0.000466\n",
       "prendre      0.000194\n",
       "meilleure    0.000155\n",
       "frais        0.000109\n",
       "maladies     0.000088\n",
       "dentaires    0.000078\n",
       "ehpad        0.000075\n",
       "soins        0.000064\n",
       "age          0.000057\n",
       "Name: charge, dtype: float32"
      ]
     },
     "metadata": {},
     "output_type": "display_data"
    },
    {
     "name": "stdout",
     "output_type": "stream",
     "text": [
      "faut\n"
     ]
    },
    {
     "data": {
      "text/plain": [
       "faut         0.000519\n",
       "renforcer    0.000153\n",
       "mettre       0.000138\n",
       "systeme      0.000103\n",
       "faire        0.000103\n",
       "aider        0.000102\n",
       "mieux        0.000100\n",
       "depenses     0.000097\n",
       "pouvoir      0.000092\n",
       "moyens       0.000090\n",
       "Name: faut, dtype: float32"
      ]
     },
     "metadata": {},
     "output_type": "display_data"
    },
    {
     "name": "stdout",
     "output_type": "stream",
     "text": [
      "vie\n"
     ]
    },
    {
     "data": {
      "text/plain": [
       "vie          0.000539\n",
       "fin          0.000376\n",
       "travaille    0.000244\n",
       "cout         0.000189\n",
       "pouvoir      0.000109\n",
       "vivre        0.000101\n",
       "tout         0.000075\n",
       "aider        0.000072\n",
       "ans          0.000069\n",
       "retraites    0.000067\n",
       "Name: vie, dtype: float32"
      ]
     },
     "metadata": {},
     "output_type": "display_data"
    }
   ],
   "source": [
    "for i in df_qu_6_one_hot.sum(axis=0).sort_values(ascending=False).head(20).index:\n",
    "    print(i)\n",
    "    display(df_lift_6[i].sort_values(ascending=False).head(10))"
   ]
  },
  {
   "cell_type": "code",
   "execution_count": 45,
   "metadata": {},
   "outputs": [
    {
     "data": {
      "text/plain": [
       "105"
      ]
     },
     "execution_count": 45,
     "metadata": {},
     "output_type": "execute_result"
    }
   ],
   "source": [
    "gc.collect()"
   ]
  },
  {
   "cell_type": "markdown",
   "metadata": {},
   "source": [
    "# Question 7 : Pour quelle(s) politique(s) publique(s) ou pour quels domaines d'action publique, seriez-vous prêts à payer plus d'impôts ?"
   ]
  },
  {
   "cell_type": "code",
   "execution_count": 46,
   "metadata": {
    "collapsed": true
   },
   "outputs": [],
   "source": [
    "question_7 = \"Pour quelle(s) politique(s) publique(s) ou pour quels domaines d\\'action publique, seriez-vous prêts à payer plus d\\'impôts ?\"\n",
    "qu_7,df_qu_7_one_hot,df_cov_7,df_confidence_7,df_lift_7 = compute_similarities(question_7, new_res)"
   ]
  },
  {
   "cell_type": "code",
   "execution_count": 47,
   "metadata": {
    "scrolled": true
   },
   "outputs": [
    {
     "name": "stdout",
     "output_type": "stream",
     "text": [
      "sante\n"
     ]
    },
    {
     "data": {
      "text/plain": [
       "sante            8094\n",
       "education        3389\n",
       "securite          934\n",
       "justice           651\n",
       "recherche         470\n",
       "environnement     370\n",
       "ecologie          306\n",
       "hopitaux          297\n",
       "impots            295\n",
       "publique          291\n",
       "Name: sante, dtype: uint16"
      ]
     },
     "metadata": {},
     "output_type": "display_data"
    },
    {
     "name": "stdout",
     "output_type": "stream",
     "text": [
      "education\n"
     ]
    },
    {
     "data": {
      "text/plain": [
       "education        7164\n",
       "sante            3389\n",
       "justice           691\n",
       "securite          682\n",
       "recherche         637\n",
       "nationale         637\n",
       "formation         385\n",
       "environnement     381\n",
       "transition        315\n",
       "ecologie          313\n",
       "Name: education, dtype: uint16"
      ]
     },
     "metadata": {},
     "output_type": "display_data"
    },
    {
     "name": "stdout",
     "output_type": "stream",
     "text": [
      "aucun\n"
     ]
    },
    {
     "data": {
      "text/plain": [
       "aucun       7009\n",
       "impots      1091\n",
       "faut         716\n",
       "impot        515\n",
       "paye         504\n",
       "depenses     434\n",
       "payer        405\n",
       "mieux        393\n",
       "faire        388\n",
       "argent       372\n",
       "Name: aucun, dtype: uint16"
      ]
     },
     "metadata": {},
     "output_type": "display_data"
    },
    {
     "name": "stdout",
     "output_type": "stream",
     "text": [
      "impots\n"
     ]
    },
    {
     "data": {
      "text/plain": [
       "impots       6729\n",
       "payer        2401\n",
       "aucun        1091\n",
       "faut         1080\n",
       "paye          697\n",
       "mieux         679\n",
       "augmenter     648\n",
       "faire         627\n",
       "depenses      613\n",
       "france        558\n",
       "Name: impots, dtype: uint16"
      ]
     },
     "metadata": {},
     "output_type": "display_data"
    },
    {
     "name": "stdout",
     "output_type": "stream",
     "text": [
      "payer\n"
     ]
    },
    {
     "data": {
      "text/plain": [
       "payer     4272\n",
       "impots    2401\n",
       "impot      990\n",
       "pret       693\n",
       "faut       601\n",
       "faire      598\n",
       "mieux      468\n",
       "aucun      405\n",
       "tout       401\n",
       "argent     382\n",
       "Name: payer, dtype: uint16"
      ]
     },
     "metadata": {},
     "output_type": "display_data"
    },
    {
     "name": "stdout",
     "output_type": "stream",
     "text": [
      "faut\n"
     ]
    },
    {
     "data": {
      "text/plain": [
       "faut         2895\n",
       "impots       1080\n",
       "aucun         716\n",
       "payer         601\n",
       "faire         536\n",
       "mieux         534\n",
       "depenses      514\n",
       "impot         437\n",
       "augmenter     346\n",
       "argent        337\n",
       "Name: faut, dtype: uint16"
      ]
     },
     "metadata": {},
     "output_type": "display_data"
    },
    {
     "name": "stdout",
     "output_type": "stream",
     "text": [
      "impot\n"
     ]
    },
    {
     "data": {
      "text/plain": [
       "impot     2806\n",
       "payer      990\n",
       "impots     531\n",
       "aucun      515\n",
       "faut       437\n",
       "faire      296\n",
       "paye       295\n",
       "tout       285\n",
       "mieux      283\n",
       "tous       280\n",
       "Name: impot, dtype: uint16"
      ]
     },
     "metadata": {},
     "output_type": "display_data"
    },
    {
     "name": "stdout",
     "output_type": "stream",
     "text": [
      "securite\n"
     ]
    },
    {
     "data": {
      "text/plain": [
       "securite     2472\n",
       "sante         934\n",
       "education     682\n",
       "justice       413\n",
       "defense       303\n",
       "sociale       225\n",
       "police        164\n",
       "recherche     123\n",
       "publique      121\n",
       "impots        114\n",
       "Name: securite, dtype: uint16"
      ]
     },
     "metadata": {},
     "output_type": "display_data"
    },
    {
     "name": "stdout",
     "output_type": "stream",
     "text": [
      "faire\n"
     ]
    },
    {
     "data": {
      "text/plain": [
       "faire        2036\n",
       "impots        627\n",
       "payer         598\n",
       "faut          536\n",
       "economies     483\n",
       "aucun         388\n",
       "impot         296\n",
       "mieux         271\n",
       "tout          260\n",
       "depenses      231\n",
       "Name: faire, dtype: uint16"
      ]
     },
     "metadata": {},
     "output_type": "display_data"
    },
    {
     "name": "stdout",
     "output_type": "stream",
     "text": [
      "transition\n"
     ]
    },
    {
     "data": {
      "text/plain": [
       "transition     2005\n",
       "ecologique     1572\n",
       "energetique     405\n",
       "education       315\n",
       "sante           269\n",
       "recherche       140\n",
       "impots          125\n",
       "supprimer         0\n",
       "effort            0\n",
       "payons            0\n",
       "Name: transition, dtype: uint16"
      ]
     },
     "metadata": {},
     "output_type": "display_data"
    },
    {
     "name": "stdout",
     "output_type": "stream",
     "text": [
      "justice\n"
     ]
    },
    {
     "data": {
      "text/plain": [
       "justice      2003\n",
       "education     691\n",
       "sante         651\n",
       "securite      413\n",
       "police        366\n",
       "defense       250\n",
       "impots        173\n",
       "payer         131\n",
       "recherche     129\n",
       "armee         124\n",
       "Name: justice, dtype: uint16"
      ]
     },
     "metadata": {},
     "output_type": "display_data"
    },
    {
     "name": "stdout",
     "output_type": "stream",
     "text": [
      "paye\n"
     ]
    },
    {
     "data": {
      "text/plain": [
       "paye            1891\n",
       "impots           697\n",
       "aucun            504\n",
       "impot            295\n",
       "payer            292\n",
       "suffisamment     202\n",
       "tout             196\n",
       "faut             176\n",
       "tous             124\n",
       "faire            121\n",
       "Name: paye, dtype: uint16"
      ]
     },
     "metadata": {},
     "output_type": "display_data"
    },
    {
     "name": "stdout",
     "output_type": "stream",
     "text": [
      "tous\n"
     ]
    },
    {
     "data": {
      "text/plain": [
       "tous         1828\n",
       "impots        468\n",
       "payer         352\n",
       "impot         280\n",
       "faut          240\n",
       "education     231\n",
       "sante         223\n",
       "faire         220\n",
       "tout          208\n",
       "aucun         203\n",
       "Name: tous, dtype: uint16"
      ]
     },
     "metadata": {},
     "output_type": "display_data"
    },
    {
     "name": "stdout",
     "output_type": "stream",
     "text": [
      "ecologique\n"
     ]
    },
    {
     "data": {
      "text/plain": [
       "ecologique    1812\n",
       "transition    1572\n",
       "education      276\n",
       "sante          233\n",
       "impots         142\n",
       "politique      129\n",
       "recherche      120\n",
       "effort           0\n",
       "monde            0\n",
       "revenu           0\n",
       "Name: ecologique, dtype: uint16"
      ]
     },
     "metadata": {},
     "output_type": "display_data"
    },
    {
     "name": "stdout",
     "output_type": "stream",
     "text": [
      "mieux\n"
     ]
    },
    {
     "data": {
      "text/plain": [
       "mieux       1807\n",
       "impots       679\n",
       "faut         534\n",
       "payer        468\n",
       "aucun        393\n",
       "argent       299\n",
       "impot        283\n",
       "repartir     279\n",
       "faire        271\n",
       "gerer        240\n",
       "Name: mieux, dtype: uint16"
      ]
     },
     "metadata": {},
     "output_type": "display_data"
    },
    {
     "name": "stdout",
     "output_type": "stream",
     "text": [
      "tout\n"
     ]
    },
    {
     "data": {
      "text/plain": [
       "tout         1794\n",
       "impots        514\n",
       "monde         412\n",
       "payer         401\n",
       "faut          298\n",
       "impot         285\n",
       "faire         260\n",
       "aucun         256\n",
       "education     217\n",
       "tous          208\n",
       "Name: tout, dtype: uint16"
      ]
     },
     "metadata": {},
     "output_type": "display_data"
    },
    {
     "name": "stdout",
     "output_type": "stream",
     "text": [
      "depenses\n"
     ]
    },
    {
     "data": {
      "text/plain": [
       "depenses     1771\n",
       "impots        613\n",
       "faut          514\n",
       "aucun         434\n",
       "publiques     412\n",
       "payer         342\n",
       "reduire       290\n",
       "faire         231\n",
       "impot         228\n",
       "augmenter     213\n",
       "Name: depenses, dtype: uint16"
      ]
     },
     "metadata": {},
     "output_type": "display_data"
    },
    {
     "name": "stdout",
     "output_type": "stream",
     "text": [
      "recherche\n"
     ]
    },
    {
     "data": {
      "text/plain": [
       "recherche        1731\n",
       "education         637\n",
       "sante             470\n",
       "enseignement      144\n",
       "transition        140\n",
       "justice           129\n",
       "securite          123\n",
       "ecologique        120\n",
       "developpement     118\n",
       "defense           105\n",
       "Name: recherche, dtype: uint16"
      ]
     },
     "metadata": {},
     "output_type": "display_data"
    },
    {
     "name": "stdout",
     "output_type": "stream",
     "text": [
      "france\n"
     ]
    },
    {
     "data": {
      "text/plain": [
       "france    1600\n",
       "impots     558\n",
       "pays       344\n",
       "aucun      337\n",
       "faut       293\n",
       "payer      279\n",
       "impot      232\n",
       "faire      214\n",
       "monde      210\n",
       "tout       157\n",
       "Name: france, dtype: uint16"
      ]
     },
     "metadata": {},
     "output_type": "display_data"
    },
    {
     "name": "stdout",
     "output_type": "stream",
     "text": [
      "argent\n"
     ]
    },
    {
     "data": {
      "text/plain": [
       "argent    1568\n",
       "impots     521\n",
       "payer      382\n",
       "aucun      372\n",
       "faut       337\n",
       "mieux      299\n",
       "public     250\n",
       "faire      217\n",
       "impot      198\n",
       "tout       169\n",
       "Name: argent, dtype: uint16"
      ]
     },
     "metadata": {},
     "output_type": "display_data"
    }
   ],
   "source": [
    "for i in df_qu_7_one_hot.sum(axis=0).sort_values(ascending=False).head(20).index:\n",
    "    print(i)\n",
    "    display(df_cov_7[i].sort_values(ascending=False).head(10))"
   ]
  },
  {
   "cell_type": "code",
   "execution_count": 48,
   "metadata": {
    "scrolled": true
   },
   "outputs": [
    {
     "name": "stdout",
     "output_type": "stream",
     "text": [
      "sante\n"
     ]
    },
    {
     "data": {
      "text/plain": [
       "sante        1.000000\n",
       "education    0.473060\n",
       "securite     0.377832\n",
       "culture      0.330724\n",
       "justice      0.325012\n",
       "personnel    0.324324\n",
       "ecole        0.320225\n",
       "armee        0.317259\n",
       "police       0.316411\n",
       "transport    0.298050\n",
       "Name: sante, dtype: float32"
      ]
     },
     "metadata": {},
     "output_type": "display_data"
    },
    {
     "name": "stdout",
     "output_type": "stream",
     "text": [
      "education\n"
     ]
    },
    {
     "data": {
      "text/plain": [
       "education          1.000000\n",
       "nationale          0.697700\n",
       "culture            0.569472\n",
       "sante              0.418705\n",
       "formation          0.402720\n",
       "professionnelle    0.376384\n",
       "recherche          0.367995\n",
       "justice            0.344983\n",
       "jeunes             0.320000\n",
       "enfants            0.317212\n",
       "Name: education, dtype: float32"
      ]
     },
     "metadata": {},
     "output_type": "display_data"
    },
    {
     "name": "stdout",
     "output_type": "stream",
     "text": [
      "aucun\n"
     ]
    },
    {
     "data": {
      "text/plain": [
       "aucun           1.000000\n",
       "prelevements    0.313953\n",
       "gerer           0.305085\n",
       "baisser         0.272124\n",
       "economies       0.268508\n",
       "paye            0.266526\n",
       "imposition      0.260204\n",
       "payons          0.256845\n",
       "faut            0.247323\n",
       "depenses        0.245059\n",
       "Name: aucun, dtype: float32"
      ]
     },
     "metadata": {},
     "output_type": "display_data"
    },
    {
     "name": "stdout",
     "output_type": "stream",
     "text": [
      "impots\n"
     ]
    },
    {
     "data": {
      "text/plain": [
       "impots       1.000000\n",
       "prete        0.623377\n",
       "pret         0.597964\n",
       "veux         0.594595\n",
       "augmenter    0.589627\n",
       "souhaite     0.581395\n",
       "payer        0.562032\n",
       "payons       0.552803\n",
       "taxes        0.551887\n",
       "moyennes     0.496212\n",
       "Name: impots, dtype: float32"
      ]
     },
     "metadata": {},
     "output_type": "display_data"
    },
    {
     "name": "stdout",
     "output_type": "stream",
     "text": [
      "payer\n"
     ]
    },
    {
     "data": {
      "text/plain": [
       "payer        1.000000\n",
       "prete        0.899351\n",
       "pret         0.881679\n",
       "veux         0.794595\n",
       "souhaite     0.686047\n",
       "davantage    0.480836\n",
       "agit         0.480469\n",
       "riches       0.404215\n",
       "impots       0.356814\n",
       "impot        0.352815\n",
       "Name: payer, dtype: float32"
      ]
     },
     "metadata": {},
     "output_type": "display_data"
    },
    {
     "name": "stdout",
     "output_type": "stream",
     "text": [
      "faut\n"
     ]
    },
    {
     "data": {
      "text/plain": [
       "faut         1.000000\n",
       "arreter      0.512397\n",
       "baisser      0.457965\n",
       "repartir     0.414894\n",
       "revoir       0.408740\n",
       "reduire      0.377693\n",
       "diminuer     0.375676\n",
       "utiliser     0.340000\n",
       "supprimer    0.333333\n",
       "augmenter    0.314832\n",
       "Name: faut, dtype: float32"
      ]
     },
     "metadata": {},
     "output_type": "display_data"
    },
    {
     "name": "stdout",
     "output_type": "stream",
     "text": [
      "impot\n"
     ]
    },
    {
     "data": {
      "text/plain": [
       "impot           1.000000\n",
       "revenu          0.369775\n",
       "pret            0.282443\n",
       "tva             0.237089\n",
       "payer           0.231742\n",
       "question        0.216667\n",
       "taxe            0.215847\n",
       "repartition     0.211577\n",
       "revenus         0.207951\n",
       "augmentation    0.193448\n",
       "Name: impot, dtype: float32"
      ]
     },
     "metadata": {},
     "output_type": "display_data"
    },
    {
     "name": "stdout",
     "output_type": "stream",
     "text": [
      "securite\n"
     ]
    },
    {
     "data": {
      "text/plain": [
       "securite     1.000000\n",
       "defense      0.306370\n",
       "sociale      0.238600\n",
       "justice      0.206191\n",
       "police       0.193625\n",
       "nationale    0.120482\n",
       "sante        0.115394\n",
       "education    0.095198\n",
       "publique     0.086182\n",
       "recherche    0.071057\n",
       "Name: securite, dtype: float32"
      ]
     },
     "metadata": {},
     "output_type": "display_data"
    },
    {
     "name": "stdout",
     "output_type": "stream",
     "text": [
      "faire\n"
     ]
    },
    {
     "data": {
      "text/plain": [
       "faire          1.000000\n",
       "economies      0.533702\n",
       "exemple        0.203785\n",
       "faut           0.185147\n",
       "travail        0.176548\n",
       "entreprises    0.166909\n",
       "francais       0.165441\n",
       "mieux          0.149972\n",
       "niveau         0.148964\n",
       "public         0.146184\n",
       "Name: faire, dtype: float32"
      ]
     },
     "metadata": {},
     "output_type": "display_data"
    },
    {
     "name": "stdout",
     "output_type": "stream",
     "text": [
      "transition\n"
     ]
    },
    {
     "data": {
      "text/plain": [
       "transition     1.000000\n",
       "ecologique     0.867550\n",
       "energetique    0.861702\n",
       "recherche      0.080878\n",
       "education      0.043970\n",
       "sante          0.033234\n",
       "impots         0.018576\n",
       "supprimer      0.000000\n",
       "effort         0.000000\n",
       "payons         0.000000\n",
       "Name: transition, dtype: float32"
      ]
     },
     "metadata": {},
     "output_type": "display_data"
    },
    {
     "name": "stdout",
     "output_type": "stream",
     "text": [
      "justice\n"
     ]
    },
    {
     "data": {
      "text/plain": [
       "justice      1.000000\n",
       "police       0.432113\n",
       "armee        0.314721\n",
       "defense      0.252781\n",
       "securite     0.167071\n",
       "moyens       0.134591\n",
       "fiscale      0.132196\n",
       "sociale      0.131495\n",
       "nationale    0.118291\n",
       "education    0.096454\n",
       "Name: justice, dtype: float32"
      ]
     },
     "metadata": {},
     "output_type": "display_data"
    },
    {
     "name": "stdout",
     "output_type": "stream",
     "text": [
      "paye\n"
     ]
    },
    {
     "data": {
      "text/plain": [
       "paye            1.000000\n",
       "suffisamment    0.239053\n",
       "monde           0.110365\n",
       "tout            0.109253\n",
       "impot           0.105132\n",
       "impots          0.103582\n",
       "argent          0.075255\n",
       "aucun           0.071908\n",
       "payer           0.068352\n",
       "tous            0.067834\n",
       "Name: paye, dtype: float32"
      ]
     },
     "metadata": {},
     "output_type": "display_data"
    },
    {
     "name": "stdout",
     "output_type": "stream",
     "text": [
      "tous\n"
     ]
    },
    {
     "data": {
      "text/plain": [
       "tous        1.000000\n",
       "domaines    0.313830\n",
       "citoyens    0.199659\n",
       "francais    0.164216\n",
       "revenus     0.163609\n",
       "services    0.131287\n",
       "moyens      0.129560\n",
       "vie         0.128780\n",
       "publics     0.116226\n",
       "tout        0.115942\n",
       "Name: tous, dtype: float32"
      ]
     },
     "metadata": {},
     "output_type": "display_data"
    },
    {
     "name": "stdout",
     "output_type": "stream",
     "text": [
      "ecologique\n"
     ]
    },
    {
     "data": {
      "text/plain": [
       "ecologique    1.000000\n",
       "transition    0.784040\n",
       "politique     0.103118\n",
       "recherche     0.069324\n",
       "education     0.038526\n",
       "sante         0.028787\n",
       "impots        0.021103\n",
       "effort        0.000000\n",
       "monde         0.000000\n",
       "revenu        0.000000\n",
       "Name: ecologique, dtype: float32"
      ]
     },
     "metadata": {},
     "output_type": "display_data"
    },
    {
     "name": "stdout",
     "output_type": "stream",
     "text": [
      "mieux\n"
     ]
    },
    {
     "data": {
      "text/plain": [
       "mieux        1.000000\n",
       "repartir     0.742021\n",
       "utiliser     0.657143\n",
       "gerer        0.581114\n",
       "argent       0.190689\n",
       "faut         0.184456\n",
       "public       0.152652\n",
       "augmenter    0.143767\n",
       "faire        0.133104\n",
       "payer        0.109551\n",
       "Name: mieux, dtype: float32"
      ]
     },
     "metadata": {},
     "output_type": "display_data"
    },
    {
     "name": "stdout",
     "output_type": "stream",
     "text": [
      "tout\n"
     ]
    },
    {
     "data": {
      "text/plain": [
       "tout       1.000000\n",
       "monde      0.395393\n",
       "exemple    0.157205\n",
       "vie        0.138537\n",
       "travail    0.134387\n",
       "faire      0.127701\n",
       "tous       0.113786\n",
       "argent     0.107781\n",
       "paye       0.103649\n",
       "faut       0.102936\n",
       "Name: tout, dtype: float32"
      ]
     },
     "metadata": {},
     "output_type": "display_data"
    },
    {
     "name": "stdout",
     "output_type": "stream",
     "text": [
      "depenses\n"
     ]
    },
    {
     "data": {
      "text/plain": [
       "depenses     1.000000\n",
       "publiques    0.407921\n",
       "reduire      0.367554\n",
       "diminuer     0.318919\n",
       "baisser      0.274336\n",
       "augmenter    0.193813\n",
       "faut         0.177547\n",
       "economies    0.152486\n",
       "faire        0.113458\n",
       "mieux        0.101826\n",
       "Name: depenses, dtype: float32"
      ]
     },
     "metadata": {},
     "output_type": "display_data"
    },
    {
     "name": "stdout",
     "output_type": "stream",
     "text": [
      "recherche\n"
     ]
    },
    {
     "data": {
      "text/plain": [
       "recherche        1.000000\n",
       "enseignement     0.222222\n",
       "developpement    0.187302\n",
       "defense          0.106168\n",
       "education        0.088917\n",
       "transition       0.069825\n",
       "ecologique       0.066225\n",
       "justice          0.064403\n",
       "sante            0.058068\n",
       "securite         0.049757\n",
       "Name: recherche, dtype: float32"
      ]
     },
     "metadata": {},
     "output_type": "display_data"
    },
    {
     "name": "stdout",
     "output_type": "stream",
     "text": [
      "france\n"
     ]
    },
    {
     "data": {
      "text/plain": [
       "france          1.000000\n",
       "prelevements    0.283721\n",
       "pays            0.260606\n",
       "monde           0.201536\n",
       "francais        0.155637\n",
       "niveau          0.139896\n",
       "augmenter       0.112830\n",
       "fiscale         0.110874\n",
       "faire           0.105108\n",
       "faut            0.101209\n",
       "Name: france, dtype: float32"
      ]
     },
     "metadata": {},
     "output_type": "display_data"
    },
    {
     "name": "stdout",
     "output_type": "stream",
     "text": [
      "argent\n"
     ]
    },
    {
     "data": {
      "text/plain": [
       "argent      1.000000\n",
       "public      0.323415\n",
       "mal         0.242798\n",
       "depense     0.194495\n",
       "mieux       0.165468\n",
       "francais    0.123775\n",
       "faut        0.116408\n",
       "faire       0.106582\n",
       "tout        0.094203\n",
       "payer       0.089419\n",
       "Name: argent, dtype: float32"
      ]
     },
     "metadata": {},
     "output_type": "display_data"
    }
   ],
   "source": [
    "for i in df_qu_7_one_hot.sum(axis=0).sort_values(ascending=False).head(20).index:\n",
    "    print(i)\n",
    "    display(df_confidence_7[i].sort_values(ascending=False).head(10))"
   ]
  },
  {
   "cell_type": "code",
   "execution_count": 49,
   "metadata": {
    "scrolled": true
   },
   "outputs": [
    {
     "name": "stdout",
     "output_type": "stream",
     "text": [
      "sante\n"
     ]
    },
    {
     "data": {
      "text/plain": [
       "sante        0.000124\n",
       "education    0.000058\n",
       "securite     0.000047\n",
       "culture      0.000041\n",
       "justice      0.000040\n",
       "personnel    0.000040\n",
       "ecole        0.000040\n",
       "armee        0.000039\n",
       "police       0.000039\n",
       "transport    0.000037\n",
       "Name: sante, dtype: float32"
      ]
     },
     "metadata": {},
     "output_type": "display_data"
    },
    {
     "name": "stdout",
     "output_type": "stream",
     "text": [
      "education\n"
     ]
    },
    {
     "data": {
      "text/plain": [
       "education          0.000140\n",
       "nationale          0.000097\n",
       "culture            0.000079\n",
       "sante              0.000058\n",
       "formation          0.000056\n",
       "professionnelle    0.000053\n",
       "recherche          0.000051\n",
       "justice            0.000048\n",
       "jeunes             0.000045\n",
       "enfants            0.000044\n",
       "Name: education, dtype: float32"
      ]
     },
     "metadata": {},
     "output_type": "display_data"
    },
    {
     "name": "stdout",
     "output_type": "stream",
     "text": [
      "aucun\n"
     ]
    },
    {
     "data": {
      "text/plain": [
       "aucun           0.000143\n",
       "prelevements    0.000045\n",
       "gerer           0.000044\n",
       "baisser         0.000039\n",
       "economies       0.000038\n",
       "paye            0.000038\n",
       "imposition      0.000037\n",
       "payons          0.000037\n",
       "faut            0.000035\n",
       "depenses        0.000035\n",
       "Name: aucun, dtype: float32"
      ]
     },
     "metadata": {},
     "output_type": "display_data"
    },
    {
     "name": "stdout",
     "output_type": "stream",
     "text": [
      "impots\n"
     ]
    },
    {
     "data": {
      "text/plain": [
       "impots       0.000149\n",
       "prete        0.000093\n",
       "pret         0.000089\n",
       "veux         0.000088\n",
       "augmenter    0.000088\n",
       "souhaite     0.000086\n",
       "payer        0.000084\n",
       "payons       0.000082\n",
       "taxes        0.000082\n",
       "moyennes     0.000074\n",
       "Name: impots, dtype: float32"
      ]
     },
     "metadata": {},
     "output_type": "display_data"
    },
    {
     "name": "stdout",
     "output_type": "stream",
     "text": [
      "payer\n"
     ]
    },
    {
     "data": {
      "text/plain": [
       "payer        0.000234\n",
       "prete        0.000211\n",
       "pret         0.000206\n",
       "veux         0.000186\n",
       "souhaite     0.000161\n",
       "davantage    0.000113\n",
       "agit         0.000112\n",
       "riches       0.000095\n",
       "impots       0.000084\n",
       "impot        0.000083\n",
       "Name: payer, dtype: float32"
      ]
     },
     "metadata": {},
     "output_type": "display_data"
    },
    {
     "name": "stdout",
     "output_type": "stream",
     "text": [
      "faut\n"
     ]
    },
    {
     "data": {
      "text/plain": [
       "faut         0.000345\n",
       "arreter      0.000177\n",
       "baisser      0.000158\n",
       "repartir     0.000143\n",
       "revoir       0.000141\n",
       "reduire      0.000130\n",
       "diminuer     0.000130\n",
       "utiliser     0.000117\n",
       "supprimer    0.000115\n",
       "augmenter    0.000109\n",
       "Name: faut, dtype: float32"
      ]
     },
     "metadata": {},
     "output_type": "display_data"
    },
    {
     "name": "stdout",
     "output_type": "stream",
     "text": [
      "impot\n"
     ]
    },
    {
     "data": {
      "text/plain": [
       "impot           0.000356\n",
       "revenu          0.000132\n",
       "pret            0.000101\n",
       "tva             0.000084\n",
       "payer           0.000083\n",
       "question        0.000077\n",
       "taxe            0.000077\n",
       "repartition     0.000075\n",
       "revenus         0.000074\n",
       "augmentation    0.000069\n",
       "Name: impot, dtype: float32"
      ]
     },
     "metadata": {},
     "output_type": "display_data"
    },
    {
     "name": "stdout",
     "output_type": "stream",
     "text": [
      "securite\n"
     ]
    },
    {
     "data": {
      "text/plain": [
       "securite     0.000405\n",
       "defense      0.000124\n",
       "sociale      0.000097\n",
       "justice      0.000083\n",
       "police       0.000078\n",
       "nationale    0.000049\n",
       "sante        0.000047\n",
       "education    0.000039\n",
       "publique     0.000035\n",
       "recherche    0.000029\n",
       "Name: securite, dtype: float32"
      ]
     },
     "metadata": {},
     "output_type": "display_data"
    },
    {
     "name": "stdout",
     "output_type": "stream",
     "text": [
      "faire\n"
     ]
    },
    {
     "data": {
      "text/plain": [
       "faire          0.000491\n",
       "economies      0.000262\n",
       "exemple        0.000100\n",
       "faut           0.000091\n",
       "travail        0.000087\n",
       "entreprises    0.000082\n",
       "francais       0.000081\n",
       "mieux          0.000074\n",
       "niveau         0.000073\n",
       "public         0.000072\n",
       "Name: faire, dtype: float32"
      ]
     },
     "metadata": {},
     "output_type": "display_data"
    },
    {
     "name": "stdout",
     "output_type": "stream",
     "text": [
      "transition\n"
     ]
    },
    {
     "data": {
      "text/plain": [
       "transition     0.000499\n",
       "ecologique     0.000433\n",
       "energetique    0.000430\n",
       "recherche      0.000040\n",
       "education      0.000022\n",
       "sante          0.000017\n",
       "impots         0.000009\n",
       "personnel           NaN\n",
       "justice             NaN\n",
       "fiscale             NaN\n",
       "Name: transition, dtype: float32"
      ]
     },
     "metadata": {},
     "output_type": "display_data"
    },
    {
     "name": "stdout",
     "output_type": "stream",
     "text": [
      "justice\n"
     ]
    },
    {
     "data": {
      "text/plain": [
       "justice      0.000499\n",
       "police       0.000216\n",
       "armee        0.000157\n",
       "defense      0.000126\n",
       "securite     0.000083\n",
       "moyens       0.000067\n",
       "fiscale      0.000066\n",
       "sociale      0.000066\n",
       "nationale    0.000059\n",
       "education    0.000048\n",
       "Name: justice, dtype: float32"
      ]
     },
     "metadata": {},
     "output_type": "display_data"
    },
    {
     "name": "stdout",
     "output_type": "stream",
     "text": [
      "paye\n"
     ]
    },
    {
     "data": {
      "text/plain": [
       "paye            0.000529\n",
       "suffisamment    0.000126\n",
       "monde           0.000058\n",
       "tout            0.000058\n",
       "impot           0.000056\n",
       "impots          0.000055\n",
       "argent          0.000040\n",
       "aucun           0.000038\n",
       "payer           0.000036\n",
       "tous            0.000036\n",
       "Name: paye, dtype: float32"
      ]
     },
     "metadata": {},
     "output_type": "display_data"
    },
    {
     "name": "stdout",
     "output_type": "stream",
     "text": [
      "tous\n"
     ]
    },
    {
     "data": {
      "text/plain": [
       "tous        0.000547\n",
       "domaines    0.000172\n",
       "citoyens    0.000109\n",
       "francais    0.000090\n",
       "revenus     0.000090\n",
       "services    0.000072\n",
       "moyens      0.000071\n",
       "vie         0.000070\n",
       "publics     0.000064\n",
       "tout        0.000063\n",
       "Name: tous, dtype: float32"
      ]
     },
     "metadata": {},
     "output_type": "display_data"
    },
    {
     "name": "stdout",
     "output_type": "stream",
     "text": [
      "ecologique\n"
     ]
    },
    {
     "data": {
      "text/plain": [
       "ecologique    0.000552\n",
       "transition    0.000433\n",
       "politique     0.000057\n",
       "recherche     0.000038\n",
       "education     0.000021\n",
       "sante         0.000016\n",
       "impots        0.000012\n",
       "personnel          NaN\n",
       "justice            NaN\n",
       "fiscale            NaN\n",
       "Name: ecologique, dtype: float32"
      ]
     },
     "metadata": {},
     "output_type": "display_data"
    },
    {
     "name": "stdout",
     "output_type": "stream",
     "text": [
      "mieux\n"
     ]
    },
    {
     "data": {
      "text/plain": [
       "mieux        0.000553\n",
       "repartir     0.000411\n",
       "utiliser     0.000364\n",
       "gerer        0.000322\n",
       "argent       0.000106\n",
       "faut         0.000102\n",
       "public       0.000084\n",
       "augmenter    0.000080\n",
       "faire        0.000074\n",
       "payer        0.000061\n",
       "Name: mieux, dtype: float32"
      ]
     },
     "metadata": {},
     "output_type": "display_data"
    },
    {
     "name": "stdout",
     "output_type": "stream",
     "text": [
      "tout\n"
     ]
    },
    {
     "data": {
      "text/plain": [
       "tout       0.000557\n",
       "monde      0.000220\n",
       "exemple    0.000088\n",
       "vie        0.000077\n",
       "travail    0.000075\n",
       "faire      0.000071\n",
       "tous       0.000063\n",
       "argent     0.000060\n",
       "paye       0.000058\n",
       "faut       0.000057\n",
       "Name: tout, dtype: float32"
      ]
     },
     "metadata": {},
     "output_type": "display_data"
    },
    {
     "name": "stdout",
     "output_type": "stream",
     "text": [
      "depenses\n"
     ]
    },
    {
     "data": {
      "text/plain": [
       "depenses     0.000565\n",
       "publiques    0.000230\n",
       "reduire      0.000208\n",
       "diminuer     0.000180\n",
       "baisser      0.000155\n",
       "augmenter    0.000109\n",
       "faut         0.000100\n",
       "economies    0.000086\n",
       "faire        0.000064\n",
       "mieux        0.000057\n",
       "Name: depenses, dtype: float32"
      ]
     },
     "metadata": {},
     "output_type": "display_data"
    },
    {
     "name": "stdout",
     "output_type": "stream",
     "text": [
      "recherche\n"
     ]
    },
    {
     "data": {
      "text/plain": [
       "recherche        0.000578\n",
       "enseignement     0.000128\n",
       "developpement    0.000108\n",
       "defense          0.000061\n",
       "education        0.000051\n",
       "transition       0.000040\n",
       "ecologique       0.000038\n",
       "justice          0.000037\n",
       "sante            0.000034\n",
       "securite         0.000029\n",
       "Name: recherche, dtype: float32"
      ]
     },
     "metadata": {},
     "output_type": "display_data"
    },
    {
     "name": "stdout",
     "output_type": "stream",
     "text": [
      "france\n"
     ]
    },
    {
     "data": {
      "text/plain": [
       "france          0.000625\n",
       "prelevements    0.000177\n",
       "pays            0.000163\n",
       "monde           0.000126\n",
       "francais        0.000097\n",
       "niveau          0.000087\n",
       "augmenter       0.000071\n",
       "fiscale         0.000069\n",
       "faire           0.000066\n",
       "faut            0.000063\n",
       "Name: france, dtype: float32"
      ]
     },
     "metadata": {},
     "output_type": "display_data"
    },
    {
     "name": "stdout",
     "output_type": "stream",
     "text": [
      "argent\n"
     ]
    },
    {
     "data": {
      "text/plain": [
       "argent      0.000638\n",
       "public      0.000206\n",
       "mal         0.000155\n",
       "depense     0.000124\n",
       "mieux       0.000106\n",
       "francais    0.000079\n",
       "faut        0.000074\n",
       "faire       0.000068\n",
       "tout        0.000060\n",
       "payer       0.000057\n",
       "Name: argent, dtype: float32"
      ]
     },
     "metadata": {},
     "output_type": "display_data"
    }
   ],
   "source": [
    "for i in df_qu_7_one_hot.sum(axis=0).sort_values(ascending=False).head(20).index:\n",
    "    print(i)\n",
    "    display(df_lift_7[i].sort_values(ascending=False).head(10))"
   ]
  },
  {
   "cell_type": "code",
   "execution_count": 50,
   "metadata": {},
   "outputs": [
    {
     "data": {
      "text/plain": [
       "126"
      ]
     },
     "execution_count": 50,
     "metadata": {},
     "output_type": "execute_result"
    }
   ],
   "source": [
    "gc.collect()"
   ]
  },
  {
   "cell_type": "markdown",
   "metadata": {},
   "source": [
    "# Question 8 : Y a-t-il d'autres points sur les impôts et les dépenses sur lesquels vous souhaiteriez vous exprimer ?"
   ]
  },
  {
   "cell_type": "code",
   "execution_count": 51,
   "metadata": {
    "collapsed": true
   },
   "outputs": [],
   "source": [
    "question_8 = \"Y a-t-il d\\'autres points sur les impôts et les dépenses sur lesquels vous souhaiteriez vous exprimer ?\"\n",
    "qu_8,df_qu_8_one_hot,df_cov_8,df_confidence_8,df_lift_8 = compute_similarities(question_8, new_res)"
   ]
  },
  {
   "cell_type": "code",
   "execution_count": 52,
   "metadata": {
    "scrolled": true
   },
   "outputs": [
    {
     "name": "stdout",
     "output_type": "stream",
     "text": [
      "impots\n"
     ]
    },
    {
     "data": {
      "text/plain": [
       "impots         8014\n",
       "payer          2086\n",
       "faut           1937\n",
       "faire          1910\n",
       "tous           1902\n",
       "tout           1856\n",
       "impot          1843\n",
       "france         1744\n",
       "depenses       1587\n",
       "entreprises    1304\n",
       "Name: impots, dtype: uint16"
      ]
     },
     "metadata": {},
     "output_type": "display_data"
    },
    {
     "name": "stdout",
     "output_type": "stream",
     "text": [
      "faut\n"
     ]
    },
    {
     "data": {
      "text/plain": [
       "faut         7863\n",
       "faire        2215\n",
       "impots       1937\n",
       "tous         1869\n",
       "tout         1817\n",
       "depenses     1811\n",
       "impot        1587\n",
       "france       1523\n",
       "supprimer    1351\n",
       "vie          1287\n",
       "Name: faut, dtype: uint16"
      ]
     },
     "metadata": {},
     "output_type": "display_data"
    },
    {
     "name": "stdout",
     "output_type": "stream",
     "text": [
      "tous\n"
     ]
    },
    {
     "data": {
      "text/plain": [
       "tous         7664\n",
       "faire        2069\n",
       "impot        1938\n",
       "impots       1902\n",
       "faut         1869\n",
       "tout         1805\n",
       "depenses     1609\n",
       "france       1561\n",
       "supprimer    1532\n",
       "vie          1454\n",
       "Name: tous, dtype: uint16"
      ]
     },
     "metadata": {},
     "output_type": "display_data"
    },
    {
     "name": "stdout",
     "output_type": "stream",
     "text": [
      "depenses\n"
     ]
    },
    {
     "data": {
      "text/plain": [
       "depenses          7646\n",
       "publiques         1873\n",
       "faut              1811\n",
       "faire             1714\n",
       "tous              1609\n",
       "reduire           1608\n",
       "impots            1587\n",
       "tout              1375\n",
       "elus              1240\n",
       "fonctionnaires    1236\n",
       "Name: depenses, dtype: uint16"
      ]
     },
     "metadata": {},
     "output_type": "display_data"
    },
    {
     "name": "stdout",
     "output_type": "stream",
     "text": [
      "faire\n"
     ]
    },
    {
     "data": {
      "text/plain": [
       "faire       7520\n",
       "faut        2215\n",
       "tous        2069\n",
       "tout        1978\n",
       "impots      1910\n",
       "payer       1734\n",
       "depenses    1714\n",
       "france      1659\n",
       "impot       1545\n",
       "exemple     1402\n",
       "Name: faire, dtype: uint16"
      ]
     },
     "metadata": {},
     "output_type": "display_data"
    },
    {
     "name": "stdout",
     "output_type": "stream",
     "text": [
      "impot\n"
     ]
    },
    {
     "data": {
      "text/plain": [
       "impot      7083\n",
       "revenu     1972\n",
       "tous       1938\n",
       "impots     1843\n",
       "tout       1713\n",
       "faut       1587\n",
       "payer      1584\n",
       "faire      1545\n",
       "revenus    1495\n",
       "france     1380\n",
       "Name: impot, dtype: uint16"
      ]
     },
     "metadata": {},
     "output_type": "display_data"
    },
    {
     "name": "stdout",
     "output_type": "stream",
     "text": [
      "tout\n"
     ]
    },
    {
     "data": {
      "text/plain": [
       "tout        6609\n",
       "faire       1978\n",
       "monde       1933\n",
       "impots      1856\n",
       "faut        1817\n",
       "tous        1805\n",
       "impot       1713\n",
       "france      1421\n",
       "payer       1404\n",
       "depenses    1375\n",
       "Name: tout, dtype: uint16"
      ]
     },
     "metadata": {},
     "output_type": "display_data"
    },
    {
     "name": "stdout",
     "output_type": "stream",
     "text": [
      "france\n"
     ]
    },
    {
     "data": {
      "text/plain": [
       "france         5585\n",
       "impots         1744\n",
       "faire          1659\n",
       "pays           1582\n",
       "tous           1561\n",
       "faut           1523\n",
       "francais       1493\n",
       "tout           1421\n",
       "impot          1380\n",
       "entreprises    1290\n",
       "Name: france, dtype: uint16"
      ]
     },
     "metadata": {},
     "output_type": "display_data"
    },
    {
     "name": "stdout",
     "output_type": "stream",
     "text": [
      "supprimer\n"
     ]
    },
    {
     "data": {
      "text/plain": [
       "supprimer         5225\n",
       "tous              1532\n",
       "faut              1351\n",
       "faire             1204\n",
       "avantages         1128\n",
       "reduire           1116\n",
       "nombre            1108\n",
       "depenses          1074\n",
       "fonctionnaires    1049\n",
       "tout              1028\n",
       "Name: supprimer, dtype: uint16"
      ]
     },
     "metadata": {},
     "output_type": "display_data"
    },
    {
     "name": "stdout",
     "output_type": "stream",
     "text": [
      "vie\n"
     ]
    },
    {
     "data": {
      "text/plain": [
       "vie          5197\n",
       "train        1813\n",
       "tous         1454\n",
       "retraites    1348\n",
       "faut         1287\n",
       "faire        1244\n",
       "tout         1225\n",
       "reduire      1170\n",
       "retraite     1148\n",
       "depenses     1145\n",
       "Name: vie, dtype: uint16"
      ]
     },
     "metadata": {},
     "output_type": "display_data"
    },
    {
     "name": "stdout",
     "output_type": "stream",
     "text": [
      "payer\n"
     ]
    },
    {
     "data": {
      "text/plain": [
       "payer          4805\n",
       "impots         2086\n",
       "faire          1734\n",
       "impot          1584\n",
       "tout           1404\n",
       "tous           1297\n",
       "france         1184\n",
       "faut           1179\n",
       "francais        902\n",
       "entreprises     817\n",
       "Name: payer, dtype: uint16"
      ]
     },
     "metadata": {},
     "output_type": "display_data"
    },
    {
     "name": "stdout",
     "output_type": "stream",
     "text": [
      "retraites\n"
     ]
    },
    {
     "data": {
      "text/plain": [
       "retraites    4663\n",
       "retraite     1502\n",
       "tous         1388\n",
       "vie          1348\n",
       "csg          1199\n",
       "faire         992\n",
       "faut          953\n",
       "tout          921\n",
       "salaires      902\n",
       "supprimer     884\n",
       "Name: retraites, dtype: uint16"
      ]
     },
     "metadata": {},
     "output_type": "display_data"
    },
    {
     "name": "stdout",
     "output_type": "stream",
     "text": [
      "entreprises\n"
     ]
    },
    {
     "data": {
      "text/plain": [
       "entreprises    4650\n",
       "faire          1321\n",
       "impots         1304\n",
       "france         1290\n",
       "impot          1252\n",
       "faut           1216\n",
       "tous           1120\n",
       "tout           1015\n",
       "fiscale        1009\n",
       "depenses        855\n",
       "Name: entreprises, dtype: uint16"
      ]
     },
     "metadata": {},
     "output_type": "display_data"
    },
    {
     "name": "stdout",
     "output_type": "stream",
     "text": [
      "exemple\n"
     ]
    },
    {
     "data": {
      "text/plain": [
       "exemple     4474\n",
       "faire       1402\n",
       "tous        1285\n",
       "faut        1231\n",
       "depenses    1211\n",
       "tout        1172\n",
       "impots      1133\n",
       "france      1027\n",
       "impot        985\n",
       "vie          954\n",
       "Name: exemple, dtype: uint16"
      ]
     },
     "metadata": {},
     "output_type": "display_data"
    },
    {
     "name": "stdout",
     "output_type": "stream",
     "text": [
      "reduire\n"
     ]
    },
    {
     "data": {
      "text/plain": [
       "reduire           4367\n",
       "depenses          1608\n",
       "nombre            1383\n",
       "faut              1244\n",
       "vie               1170\n",
       "supprimer         1116\n",
       "tous              1019\n",
       "fonctionnaires     988\n",
       "faire              983\n",
       "impots             859\n",
       "Name: reduire, dtype: uint16"
      ]
     },
     "metadata": {},
     "output_type": "display_data"
    },
    {
     "name": "stdout",
     "output_type": "stream",
     "text": [
      "fonctionnaires\n"
     ]
    },
    {
     "data": {
      "text/plain": [
       "fonctionnaires    4255\n",
       "hauts             1808\n",
       "nombre            1310\n",
       "tous              1247\n",
       "depenses          1236\n",
       "salaires          1116\n",
       "faire             1078\n",
       "supprimer         1049\n",
       "avantages         1015\n",
       "reduire            988\n",
       "Name: fonctionnaires, dtype: uint16"
      ]
     },
     "metadata": {},
     "output_type": "display_data"
    },
    {
     "name": "stdout",
     "output_type": "stream",
     "text": [
      "argent\n"
     ]
    },
    {
     "data": {
      "text/plain": [
       "argent      4150\n",
       "faire       1207\n",
       "faut        1192\n",
       "impots      1031\n",
       "tout        1010\n",
       "tous         985\n",
       "depenses     921\n",
       "public       911\n",
       "france       905\n",
       "impot        772\n",
       "Name: argent, dtype: uint16"
      ]
     },
     "metadata": {},
     "output_type": "display_data"
    },
    {
     "name": "stdout",
     "output_type": "stream",
     "text": [
      "francais\n"
     ]
    },
    {
     "data": {
      "text/plain": [
       "francais    4110\n",
       "france      1493\n",
       "tous        1382\n",
       "impots      1286\n",
       "faire       1281\n",
       "tout        1185\n",
       "impot       1169\n",
       "faut        1161\n",
       "pays         947\n",
       "payer        902\n",
       "Name: francais, dtype: uint16"
      ]
     },
     "metadata": {},
     "output_type": "display_data"
    },
    {
     "name": "stdout",
     "output_type": "stream",
     "text": [
      "revenus\n"
     ]
    },
    {
     "data": {
      "text/plain": [
       "revenus    4074\n",
       "impot      1495\n",
       "tous       1307\n",
       "impots     1288\n",
       "tout       1028\n",
       "faire       980\n",
       "revenu      939\n",
       "faut        933\n",
       "france      828\n",
       "payer       784\n",
       "Name: revenus, dtype: uint16"
      ]
     },
     "metadata": {},
     "output_type": "display_data"
    },
    {
     "name": "stdout",
     "output_type": "stream",
     "text": [
      "pays\n"
     ]
    },
    {
     "data": {
      "text/plain": [
       "pays        4029\n",
       "france      1582\n",
       "faire       1274\n",
       "tous        1224\n",
       "faut        1174\n",
       "impots      1128\n",
       "tout        1113\n",
       "depenses    1001\n",
       "francais     947\n",
       "impot        922\n",
       "Name: pays, dtype: uint16"
      ]
     },
     "metadata": {},
     "output_type": "display_data"
    }
   ],
   "source": [
    "for i in df_qu_8_one_hot.sum(axis=0).sort_values(ascending=False).head(20).index:\n",
    "    print(i)\n",
    "    display(df_cov_8[i].sort_values(ascending=False).head(10))"
   ]
  },
  {
   "cell_type": "code",
   "execution_count": 53,
   "metadata": {
    "scrolled": true
   },
   "outputs": [
    {
     "name": "stdout",
     "output_type": "stream",
     "text": [
      "impots\n"
     ]
    },
    {
     "data": {
      "text/plain": [
       "impots     1.000000\n",
       "credits    0.562264\n",
       "payent     0.539519\n",
       "payons     0.528736\n",
       "paient     0.514620\n",
       "locaux     0.492754\n",
       "paie       0.485313\n",
       "payant     0.454902\n",
       "taxes      0.445946\n",
       "payer      0.434131\n",
       "Name: impots, dtype: float32"
      ]
     },
     "metadata": {},
     "output_type": "display_data"
    },
    {
     "name": "stdout",
     "output_type": "stream",
     "text": [
      "faut\n"
     ]
    },
    {
     "data": {
      "text/plain": [
       "faut               1.000000\n",
       "indecents          0.573529\n",
       "longue             0.560907\n",
       "liste              0.511002\n",
       "theodule           0.501577\n",
       "bareme             0.495356\n",
       "assemblees         0.489362\n",
       "courage            0.467577\n",
       "recommandations    0.467391\n",
       "progressif         0.464503\n",
       "Name: faut, dtype: float32"
      ]
     },
     "metadata": {},
     "output_type": "display_data"
    },
    {
     "name": "stdout",
     "output_type": "stream",
     "text": [
      "tous\n"
     ]
    },
    {
     "data": {
      "text/plain": [
       "tous         1.000000\n",
       "niveaux      0.616027\n",
       "regimes      0.509839\n",
       "jours        0.501524\n",
       "regime       0.475694\n",
       "foyers       0.473684\n",
       "objectifs    0.471572\n",
       "speciaux     0.463557\n",
       "origine      0.463035\n",
       "applique     0.454545\n",
       "Name: tous, dtype: float32"
      ]
     },
     "metadata": {},
     "output_type": "display_data"
    },
    {
     "name": "stdout",
     "output_type": "stream",
     "text": [
      "depenses\n"
     ]
    },
    {
     "data": {
      "text/plain": [
       "depenses         1.000000\n",
       "publiques        0.640780\n",
       "liees            0.615183\n",
       "militaires       0.552083\n",
       "deplacements     0.544586\n",
       "inutiles         0.537364\n",
       "territoriales    0.510885\n",
       "reduisant        0.477032\n",
       "recettes         0.475578\n",
       "elysee           0.467442\n",
       "Name: depenses, dtype: float32"
      ]
     },
     "metadata": {},
     "output_type": "display_data"
    },
    {
     "name": "stdout",
     "output_type": "stream",
     "text": [
      "faire\n"
     ]
    },
    {
     "data": {
      "text/plain": [
       "faire        1.000000\n",
       "objet        0.655488\n",
       "sorte        0.638835\n",
       "chasse       0.598466\n",
       "economies    0.595152\n",
       "menage       0.564024\n",
       "efforts      0.562610\n",
       "attention    0.547368\n",
       "face         0.512472\n",
       "venir        0.503448\n",
       "Name: faire, dtype: float32"
      ]
     },
     "metadata": {},
     "output_type": "display_data"
    },
    {
     "name": "stdout",
     "output_type": "stream",
     "text": [
      "impot\n"
     ]
    },
    {
     "data": {
      "text/plain": [
       "impot            1.000000\n",
       "progressivite    0.703422\n",
       "credit           0.641441\n",
       "fortune          0.633700\n",
       "progressif       0.592292\n",
       "tranches         0.586002\n",
       "revenu           0.581711\n",
       "assiette         0.579365\n",
       "tranche          0.562602\n",
       "symbolique       0.541910\n",
       "Name: impot, dtype: float32"
      ]
     },
     "metadata": {},
     "output_type": "display_data"
    },
    {
     "name": "stdout",
     "output_type": "stream",
     "text": [
      "tout\n"
     ]
    },
    {
     "data": {
      "text/plain": [
       "tout          1.000000\n",
       "monde         0.720194\n",
       "genre         0.635821\n",
       "simplement    0.583756\n",
       "long          0.478261\n",
       "arrive        0.456835\n",
       "evidemment    0.448148\n",
       "gratuit       0.445312\n",
       "final         0.438202\n",
       "vouloir       0.436667\n",
       "Name: tout, dtype: float32"
      ]
     },
     "metadata": {},
     "output_type": "display_data"
    },
    {
     "name": "stdout",
     "output_type": "stream",
     "text": [
      "france\n"
     ]
    },
    {
     "data": {
      "text/plain": [
       "france        1.000000\n",
       "etranger      0.595217\n",
       "etrangers     0.527529\n",
       "chiffre       0.523697\n",
       "francaises    0.515044\n",
       "9             0.496970\n",
       "allemagne     0.496583\n",
       "banque        0.488449\n",
       "affaires      0.485623\n",
       "francaise     0.478769\n",
       "Name: france, dtype: float32"
      ]
     },
     "metadata": {},
     "output_type": "display_data"
    },
    {
     "name": "stdout",
     "output_type": "stream",
     "text": [
      "supprimer\n"
     ]
    },
    {
     "data": {
      "text/plain": [
       "supprimer          1.000000\n",
       "theodule           0.700315\n",
       "comites            0.607639\n",
       "cese               0.585657\n",
       "assemblees         0.571429\n",
       "indecents          0.544118\n",
       "conseillers        0.503529\n",
       "recommandations    0.483696\n",
       "bareme             0.467492\n",
       "liste              0.459658\n",
       "Name: supprimer, dtype: float32"
      ]
     },
     "metadata": {},
     "output_type": "display_data"
    },
    {
     "name": "stdout",
     "output_type": "stream",
     "text": [
      "vie\n"
     ]
    },
    {
     "data": {
      "text/plain": [
       "vie            1.000000\n",
       "train          0.906047\n",
       "indecents      0.580882\n",
       "assemblees     0.541033\n",
       "longue         0.515581\n",
       "theodule       0.507886\n",
       "conseillers    0.477647\n",
       "liste          0.474328\n",
       "bareme         0.461300\n",
       "chauffeur      0.440273\n",
       "Name: vie, dtype: float32"
      ]
     },
     "metadata": {},
     "output_type": "display_data"
    },
    {
     "name": "stdout",
     "output_type": "stream",
     "text": [
      "payer\n"
     ]
    },
    {
     "data": {
      "text/plain": [
       "payer         1.000000\n",
       "devoir        0.378378\n",
       "loyer         0.346939\n",
       "acheter       0.326590\n",
       "maison        0.324731\n",
       "imposable     0.313679\n",
       "symbolique    0.294347\n",
       "residence     0.293722\n",
       "gagne         0.292945\n",
       "vendre        0.291892\n",
       "Name: payer, dtype: float32"
      ]
     },
     "metadata": {},
     "output_type": "display_data"
    },
    {
     "name": "stdout",
     "output_type": "stream",
     "text": [
      "retraites\n"
     ]
    },
    {
     "data": {
      "text/plain": [
       "retraites         1.000000\n",
       "indexation        0.838816\n",
       "indexer           0.818777\n",
       "inflation         0.717627\n",
       "revalorisation    0.691700\n",
       "pensions          0.627696\n",
       "actifs            0.626327\n",
       "csg               0.585449\n",
       "cotise            0.557641\n",
       "hausse            0.471366\n",
       "Name: retraites, dtype: float32"
      ]
     },
     "metadata": {},
     "output_type": "display_data"
    },
    {
     "name": "stdout",
     "output_type": "stream",
     "text": [
      "entreprises\n"
     ]
    },
    {
     "data": {
      "text/plain": [
       "entreprises     1.000000\n",
       "francaises      0.653097\n",
       "grandes         0.583710\n",
       "actionnaires    0.578475\n",
       "cice            0.563855\n",
       "dividendes      0.561313\n",
       "tpe             0.557576\n",
       "benefices       0.553114\n",
       "pme             0.533079\n",
       "particuliers    0.528926\n",
       "Name: entreprises, dtype: float32"
      ]
     },
     "metadata": {},
     "output_type": "display_data"
    },
    {
     "name": "stdout",
     "output_type": "stream",
     "text": [
      "exemple\n"
     ]
    },
    {
     "data": {
      "text/plain": [
       "exemple      1.000000\n",
       "montrer      0.691566\n",
       "venir        0.362069\n",
       "paris        0.355556\n",
       "9            0.354545\n",
       "decision     0.347079\n",
       "12           0.344353\n",
       "allemagne    0.341686\n",
       "efforts      0.333333\n",
       "petite       0.328446\n",
       "Name: exemple, dtype: float32"
      ]
     },
     "metadata": {},
     "output_type": "display_data"
    },
    {
     "name": "stdout",
     "output_type": "stream",
     "text": [
      "reduire\n"
     ]
    },
    {
     "data": {
      "text/plain": [
       "reduire            1.000000\n",
       "theodule           0.548896\n",
       "indecents          0.540441\n",
       "drastiquement      0.531818\n",
       "assemblees         0.525836\n",
       "conseillers        0.468235\n",
       "recommandations    0.432065\n",
       "longue             0.419263\n",
       "train              0.418791\n",
       "comites            0.413194\n",
       "Name: reduire, dtype: float32"
      ]
     },
     "metadata": {},
     "output_type": "display_data"
    },
    {
     "name": "stdout",
     "output_type": "stream",
     "text": [
      "fonctionnaires\n"
     ]
    },
    {
     "data": {
      "text/plain": [
       "fonctionnaires    1.000000\n",
       "hauts             0.779646\n",
       "fonctionnaire     0.444113\n",
       "enseignants       0.419142\n",
       "remunerations     0.417230\n",
       "statut            0.416514\n",
       "postes            0.409511\n",
       "primes            0.400679\n",
       "prive             0.388235\n",
       "administratifs    0.375000\n",
       "Name: fonctionnaires, dtype: float32"
      ]
     },
     "metadata": {},
     "output_type": "display_data"
    },
    {
     "name": "stdout",
     "output_type": "stream",
     "text": [
      "argent\n"
     ]
    },
    {
     "data": {
      "text/plain": [
       "argent        1.000000\n",
       "indecents     0.470588\n",
       "caisses       0.450397\n",
       "utilise       0.438776\n",
       "theodule      0.416404\n",
       "assemblees    0.413374\n",
       "gaspillage    0.399676\n",
       "depenser      0.386328\n",
       "bareme        0.383901\n",
       "longue        0.382436\n",
       "Name: argent, dtype: float32"
      ]
     },
     "metadata": {},
     "output_type": "display_data"
    },
    {
     "name": "stdout",
     "output_type": "stream",
     "text": [
      "francais\n"
     ]
    },
    {
     "data": {
      "text/plain": [
       "francais      1.000000\n",
       "etranger      0.443756\n",
       "etrangers     0.426376\n",
       "francaises    0.371681\n",
       "territoire    0.354839\n",
       "francaise     0.354565\n",
       "majorite      0.342857\n",
       "jaunes        0.321337\n",
       "9             0.321212\n",
       "80            0.317891\n",
       "Name: francais, dtype: float32"
      ]
     },
     "metadata": {},
     "output_type": "display_data"
    },
    {
     "name": "stdout",
     "output_type": "stream",
     "text": [
      "revenus\n"
     ]
    },
    {
     "data": {
      "text/plain": [
       "revenus          1.000000\n",
       "faibles          0.526163\n",
       "imposables       0.459732\n",
       "modestes         0.448387\n",
       "tranche          0.435772\n",
       "progressivite    0.433460\n",
       "immobiliers      0.431298\n",
       "capital          0.428803\n",
       "declaration      0.413174\n",
       "tranches         0.403321\n",
       "Name: revenus, dtype: float32"
      ]
     },
     "metadata": {},
     "output_type": "display_data"
    },
    {
     "name": "stdout",
     "output_type": "stream",
     "text": [
      "pays\n"
     ]
    },
    {
     "data": {
      "text/plain": [
       "pays             1.000000\n",
       "europeens        0.583882\n",
       "origine          0.513619\n",
       "europe           0.435967\n",
       "allemagne        0.403189\n",
       "etrangers        0.391805\n",
       "europeen         0.367491\n",
       "pib              0.363636\n",
       "developpement    0.362543\n",
       "paradis          0.354128\n",
       "Name: pays, dtype: float32"
      ]
     },
     "metadata": {},
     "output_type": "display_data"
    }
   ],
   "source": [
    "for i in df_qu_8_one_hot.sum(axis=0).sort_values(ascending=False).head(20).index:\n",
    "    print(i)\n",
    "    display(df_confidence_8[i].sort_values(ascending=False).head(10))"
   ]
  },
  {
   "cell_type": "code",
   "execution_count": 54,
   "metadata": {
    "scrolled": true
   },
   "outputs": [
    {
     "name": "stdout",
     "output_type": "stream",
     "text": [
      "impots\n"
     ]
    },
    {
     "data": {
      "text/plain": [
       "impots     0.000125\n",
       "credits    0.000070\n",
       "payent     0.000067\n",
       "payons     0.000066\n",
       "paient     0.000064\n",
       "locaux     0.000061\n",
       "paie       0.000061\n",
       "payant     0.000057\n",
       "taxes      0.000056\n",
       "payer      0.000054\n",
       "Name: impots, dtype: float32"
      ]
     },
     "metadata": {},
     "output_type": "display_data"
    },
    {
     "name": "stdout",
     "output_type": "stream",
     "text": [
      "faut\n"
     ]
    },
    {
     "data": {
      "text/plain": [
       "faut               0.000127\n",
       "indecents          0.000073\n",
       "longue             0.000071\n",
       "liste              0.000065\n",
       "theodule           0.000064\n",
       "bareme             0.000063\n",
       "assemblees         0.000062\n",
       "courage            0.000059\n",
       "recommandations    0.000059\n",
       "progressif         0.000059\n",
       "Name: faut, dtype: float32"
      ]
     },
     "metadata": {},
     "output_type": "display_data"
    },
    {
     "name": "stdout",
     "output_type": "stream",
     "text": [
      "tous\n"
     ]
    },
    {
     "data": {
      "text/plain": [
       "tous         0.000130\n",
       "niveaux      0.000080\n",
       "regimes      0.000067\n",
       "jours        0.000065\n",
       "regime       0.000062\n",
       "foyers       0.000062\n",
       "objectifs    0.000062\n",
       "speciaux     0.000060\n",
       "origine      0.000060\n",
       "applique     0.000059\n",
       "Name: tous, dtype: float32"
      ]
     },
     "metadata": {},
     "output_type": "display_data"
    },
    {
     "name": "stdout",
     "output_type": "stream",
     "text": [
      "depenses\n"
     ]
    },
    {
     "data": {
      "text/plain": [
       "depenses         0.000131\n",
       "publiques        0.000084\n",
       "liees            0.000080\n",
       "militaires       0.000072\n",
       "deplacements     0.000071\n",
       "inutiles         0.000070\n",
       "territoriales    0.000067\n",
       "reduisant        0.000062\n",
       "recettes         0.000062\n",
       "elysee           0.000061\n",
       "Name: depenses, dtype: float32"
      ]
     },
     "metadata": {},
     "output_type": "display_data"
    },
    {
     "name": "stdout",
     "output_type": "stream",
     "text": [
      "faire\n"
     ]
    },
    {
     "data": {
      "text/plain": [
       "faire        0.000133\n",
       "objet        0.000087\n",
       "sorte        0.000085\n",
       "chasse       0.000080\n",
       "economies    0.000079\n",
       "menage       0.000075\n",
       "efforts      0.000075\n",
       "attention    0.000073\n",
       "face         0.000068\n",
       "venir        0.000067\n",
       "Name: faire, dtype: float32"
      ]
     },
     "metadata": {},
     "output_type": "display_data"
    },
    {
     "name": "stdout",
     "output_type": "stream",
     "text": [
      "impot\n"
     ]
    },
    {
     "data": {
      "text/plain": [
       "impot            0.000141\n",
       "progressivite    0.000099\n",
       "credit           0.000091\n",
       "fortune          0.000089\n",
       "progressif       0.000084\n",
       "tranches         0.000083\n",
       "revenu           0.000082\n",
       "assiette         0.000082\n",
       "tranche          0.000079\n",
       "symbolique       0.000077\n",
       "Name: impot, dtype: float32"
      ]
     },
     "metadata": {},
     "output_type": "display_data"
    },
    {
     "name": "stdout",
     "output_type": "stream",
     "text": [
      "tout\n"
     ]
    },
    {
     "data": {
      "text/plain": [
       "tout          0.000151\n",
       "monde         0.000109\n",
       "genre         0.000096\n",
       "simplement    0.000088\n",
       "long          0.000072\n",
       "arrive        0.000069\n",
       "evidemment    0.000068\n",
       "gratuit       0.000067\n",
       "final         0.000066\n",
       "vouloir       0.000066\n",
       "Name: tout, dtype: float32"
      ]
     },
     "metadata": {},
     "output_type": "display_data"
    },
    {
     "name": "stdout",
     "output_type": "stream",
     "text": [
      "france\n"
     ]
    },
    {
     "data": {
      "text/plain": [
       "france        0.000179\n",
       "etranger      0.000107\n",
       "etrangers     0.000094\n",
       "chiffre       0.000094\n",
       "francaises    0.000092\n",
       "9             0.000089\n",
       "allemagne     0.000089\n",
       "banque        0.000087\n",
       "affaires      0.000087\n",
       "francaise     0.000086\n",
       "Name: france, dtype: float32"
      ]
     },
     "metadata": {},
     "output_type": "display_data"
    },
    {
     "name": "stdout",
     "output_type": "stream",
     "text": [
      "supprimer\n"
     ]
    },
    {
     "data": {
      "text/plain": [
       "supprimer          0.000191\n",
       "theodule           0.000134\n",
       "comites            0.000116\n",
       "cese               0.000112\n",
       "assemblees         0.000109\n",
       "indecents          0.000104\n",
       "conseillers        0.000096\n",
       "recommandations    0.000093\n",
       "bareme             0.000089\n",
       "liste              0.000088\n",
       "Name: supprimer, dtype: float32"
      ]
     },
     "metadata": {},
     "output_type": "display_data"
    },
    {
     "name": "stdout",
     "output_type": "stream",
     "text": [
      "vie\n"
     ]
    },
    {
     "data": {
      "text/plain": [
       "vie            0.000192\n",
       "train          0.000174\n",
       "indecents      0.000112\n",
       "assemblees     0.000104\n",
       "longue         0.000099\n",
       "theodule       0.000098\n",
       "conseillers    0.000092\n",
       "liste          0.000091\n",
       "bareme         0.000089\n",
       "chauffeur      0.000085\n",
       "Name: vie, dtype: float32"
      ]
     },
     "metadata": {},
     "output_type": "display_data"
    },
    {
     "name": "stdout",
     "output_type": "stream",
     "text": [
      "payer\n"
     ]
    },
    {
     "data": {
      "text/plain": [
       "payer         0.000208\n",
       "devoir        0.000079\n",
       "loyer         0.000072\n",
       "acheter       0.000068\n",
       "maison        0.000068\n",
       "imposable     0.000065\n",
       "symbolique    0.000061\n",
       "residence     0.000061\n",
       "gagne         0.000061\n",
       "vendre        0.000061\n",
       "Name: payer, dtype: float32"
      ]
     },
     "metadata": {},
     "output_type": "display_data"
    },
    {
     "name": "stdout",
     "output_type": "stream",
     "text": [
      "retraites\n"
     ]
    },
    {
     "data": {
      "text/plain": [
       "retraites         0.000214\n",
       "indexation        0.000180\n",
       "indexer           0.000176\n",
       "inflation         0.000154\n",
       "revalorisation    0.000148\n",
       "pensions          0.000135\n",
       "actifs            0.000134\n",
       "csg               0.000126\n",
       "cotise            0.000120\n",
       "hausse            0.000101\n",
       "Name: retraites, dtype: float32"
      ]
     },
     "metadata": {},
     "output_type": "display_data"
    },
    {
     "name": "stdout",
     "output_type": "stream",
     "text": [
      "entreprises\n"
     ]
    },
    {
     "data": {
      "text/plain": [
       "entreprises     0.000215\n",
       "francaises      0.000140\n",
       "grandes         0.000126\n",
       "actionnaires    0.000124\n",
       "cice            0.000121\n",
       "dividendes      0.000121\n",
       "tpe             0.000120\n",
       "benefices       0.000119\n",
       "pme             0.000115\n",
       "particuliers    0.000114\n",
       "Name: entreprises, dtype: float32"
      ]
     },
     "metadata": {},
     "output_type": "display_data"
    },
    {
     "name": "stdout",
     "output_type": "stream",
     "text": [
      "exemple\n"
     ]
    },
    {
     "data": {
      "text/plain": [
       "exemple      0.000224\n",
       "montrer      0.000155\n",
       "venir        0.000081\n",
       "paris        0.000079\n",
       "9            0.000079\n",
       "decision     0.000078\n",
       "12           0.000077\n",
       "allemagne    0.000076\n",
       "efforts      0.000075\n",
       "petite       0.000073\n",
       "Name: exemple, dtype: float32"
      ]
     },
     "metadata": {},
     "output_type": "display_data"
    },
    {
     "name": "stdout",
     "output_type": "stream",
     "text": [
      "reduire\n"
     ]
    },
    {
     "data": {
      "text/plain": [
       "reduire            0.000229\n",
       "theodule           0.000126\n",
       "indecents          0.000124\n",
       "drastiquement      0.000122\n",
       "assemblees         0.000120\n",
       "conseillers        0.000107\n",
       "recommandations    0.000099\n",
       "longue             0.000096\n",
       "train              0.000096\n",
       "comites            0.000095\n",
       "Name: reduire, dtype: float32"
      ]
     },
     "metadata": {},
     "output_type": "display_data"
    },
    {
     "name": "stdout",
     "output_type": "stream",
     "text": [
      "fonctionnaires\n"
     ]
    },
    {
     "data": {
      "text/plain": [
       "fonctionnaires    0.000235\n",
       "hauts             0.000183\n",
       "fonctionnaire     0.000104\n",
       "enseignants       0.000099\n",
       "remunerations     0.000098\n",
       "statut            0.000098\n",
       "postes            0.000096\n",
       "primes            0.000094\n",
       "prive             0.000091\n",
       "administratifs    0.000088\n",
       "Name: fonctionnaires, dtype: float32"
      ]
     },
     "metadata": {},
     "output_type": "display_data"
    },
    {
     "name": "stdout",
     "output_type": "stream",
     "text": [
      "argent\n"
     ]
    },
    {
     "data": {
      "text/plain": [
       "argent        0.000241\n",
       "indecents     0.000113\n",
       "caisses       0.000109\n",
       "utilise       0.000106\n",
       "theodule      0.000100\n",
       "assemblees    0.000100\n",
       "gaspillage    0.000096\n",
       "depenser      0.000093\n",
       "bareme        0.000093\n",
       "longue        0.000092\n",
       "Name: argent, dtype: float32"
      ]
     },
     "metadata": {},
     "output_type": "display_data"
    },
    {
     "name": "stdout",
     "output_type": "stream",
     "text": [
      "francais\n"
     ]
    },
    {
     "data": {
      "text/plain": [
       "francais      0.000243\n",
       "etranger      0.000108\n",
       "etrangers     0.000104\n",
       "francaises    0.000090\n",
       "territoire    0.000086\n",
       "francaise     0.000086\n",
       "majorite      0.000083\n",
       "jaunes        0.000078\n",
       "9             0.000078\n",
       "80            0.000077\n",
       "Name: francais, dtype: float32"
      ]
     },
     "metadata": {},
     "output_type": "display_data"
    },
    {
     "name": "stdout",
     "output_type": "stream",
     "text": [
      "revenus\n"
     ]
    },
    {
     "data": {
      "text/plain": [
       "revenus          0.000245\n",
       "faibles          0.000129\n",
       "imposables       0.000113\n",
       "modestes         0.000110\n",
       "tranche          0.000107\n",
       "progressivite    0.000106\n",
       "immobiliers      0.000106\n",
       "capital          0.000105\n",
       "declaration      0.000101\n",
       "tranches         0.000099\n",
       "Name: revenus, dtype: float32"
      ]
     },
     "metadata": {},
     "output_type": "display_data"
    },
    {
     "name": "stdout",
     "output_type": "stream",
     "text": [
      "pays\n"
     ]
    },
    {
     "data": {
      "text/plain": [
       "pays             0.000248\n",
       "europeens        0.000145\n",
       "origine          0.000127\n",
       "europe           0.000108\n",
       "allemagne        0.000100\n",
       "etrangers        0.000097\n",
       "europeen         0.000091\n",
       "pib              0.000090\n",
       "developpement    0.000090\n",
       "paradis          0.000088\n",
       "Name: pays, dtype: float32"
      ]
     },
     "metadata": {},
     "output_type": "display_data"
    }
   ],
   "source": [
    "for i in df_qu_8_one_hot.sum(axis=0).sort_values(ascending=False).head(20).index:\n",
    "    print(i)\n",
    "    display(df_lift_8[i].sort_values(ascending=False).head(10))"
   ]
  },
  {
   "cell_type": "code",
   "execution_count": 55,
   "metadata": {},
   "outputs": [
    {
     "data": {
      "text/plain": [
       "98"
      ]
     },
     "execution_count": 55,
     "metadata": {},
     "output_type": "execute_result"
    }
   ],
   "source": [
    "gc.collect()"
   ]
  },
  {
   "cell_type": "code",
   "execution_count": null,
   "metadata": {
    "collapsed": true
   },
   "outputs": [],
   "source": []
  }
 ],
 "metadata": {
  "kernelspec": {
   "display_name": "Python 3",
   "language": "python",
   "name": "python3"
  },
  "language_info": {
   "codemirror_mode": {
    "name": "ipython",
    "version": 3
   },
   "file_extension": ".py",
   "mimetype": "text/x-python",
   "name": "python",
   "nbconvert_exporter": "python",
   "pygments_lexer": "ipython3",
   "version": "3.6.3"
  }
 },
 "nbformat": 4,
 "nbformat_minor": 2
}
